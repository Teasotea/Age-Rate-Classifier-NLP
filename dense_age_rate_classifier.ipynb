{
  "nbformat": 4,
  "nbformat_minor": 0,
  "metadata": {
    "colab": {
      "name": "dense_age_rate_classifier.ipynb",
      "provenance": [],
      "authorship_tag": "ABX9TyN/QjSpxsTAfcoR0pnE5+UP",
      "include_colab_link": true
    },
    "kernelspec": {
      "display_name": "Python 3",
      "name": "python3"
    },
    "language_info": {
      "name": "python"
    }
  },
  "cells": [
    {
      "cell_type": "markdown",
      "metadata": {
        "id": "view-in-github",
        "colab_type": "text"
      },
      "source": [
        "<a href=\"https://colab.research.google.com/github/Teasotea/Age-Rate-Classifier-NLP/blob/main/dense_age_rate_classifier.ipynb\" target=\"_parent\"><img src=\"https://colab.research.google.com/assets/colab-badge.svg\" alt=\"Open In Colab\"/></a>"
      ]
    },
    {
      "cell_type": "markdown",
      "metadata": {
        "id": "485oDNWzjubB"
      },
      "source": [
        "\n",
        "# Dense Age Rate Classifier\n",
        "\n"
      ]
    },
    {
      "cell_type": "markdown",
      "metadata": {
        "id": "z59FxAtZkASY"
      },
      "source": [
        "###TODO: Build a dense neural net to classify  movies by their age rate."
      ]
    },
    {
      "cell_type": "code",
      "metadata": {
        "id": "xBKFQo6YkOtX"
      },
      "source": [
        "import os\n",
        "import io\n",
        "import json\n",
        "\n",
        "import tensorflow as tf\n",
        "import numpy as np\n",
        "import pandas as pd\n",
        "import matplotlib.pyplot as plt\n",
        "\n",
        "from sklearn import model_selection\n",
        "from sklearn.preprocessing import LabelEncoder \n",
        "from sklearn.model_selection import train_test_split\n",
        "from sklearn.metrics import roc_auc_score, roc_curve\n",
        "from tensorflow.keras.preprocessing.sequence import pad_sequences \n",
        "from tensorflow.keras.models import Sequential\n",
        "from tensorflow.keras.layers import Dense, Flatten, Dropout\n",
        "from tensorflow.keras.layers import Embedding \n",
        "from tensorflow.keras.callbacks import ModelCheckpoint\n",
        "from keras.preprocessing.text import Tokenizer"
      ],
      "execution_count": 2,
      "outputs": []
    },
    {
      "cell_type": "markdown",
      "metadata": {
        "id": "MDfwdZ8vQ44b"
      },
      "source": [
        "#Load Data"
      ]
    },
    {
      "cell_type": "code",
      "metadata": {
        "colab": {
          "base_uri": "https://localhost:8080/",
          "height": 206
        },
        "id": "8oc0x2qrpMa9",
        "outputId": "58b5cac9-1e62-4d10-cf2b-b041c929d3bf"
      },
      "source": [
        "dataset_url = 'https://raw.githubusercontent.com/Teasotea/Age-Rate-Classifier-NLP/main/IMDB_data.csv'\n",
        "df = pd.read_csv(dataset_url)\n",
        "df.head()"
      ],
      "execution_count": 3,
      "outputs": [
        {
          "output_type": "execute_result",
          "data": {
            "text/html": [
              "<div>\n",
              "<style scoped>\n",
              "    .dataframe tbody tr th:only-of-type {\n",
              "        vertical-align: middle;\n",
              "    }\n",
              "\n",
              "    .dataframe tbody tr th {\n",
              "        vertical-align: top;\n",
              "    }\n",
              "\n",
              "    .dataframe thead th {\n",
              "        text-align: right;\n",
              "    }\n",
              "</style>\n",
              "<table border=\"1\" class=\"dataframe\">\n",
              "  <thead>\n",
              "    <tr style=\"text-align: right;\">\n",
              "      <th></th>\n",
              "      <th>Unnamed: 0</th>\n",
              "      <th>Name of movie</th>\n",
              "      <th>Description</th>\n",
              "      <th>Age rate</th>\n",
              "      <th>Year</th>\n",
              "      <th>Runtime</th>\n",
              "      <th>Genre</th>\n",
              "    </tr>\n",
              "  </thead>\n",
              "  <tbody>\n",
              "    <tr>\n",
              "      <th>0</th>\n",
              "      <td>0</td>\n",
              "      <td>The Shawshank Redemption</td>\n",
              "      <td>Two imprisoned men bond over a number of years...</td>\n",
              "      <td>R</td>\n",
              "      <td>1994</td>\n",
              "      <td>142</td>\n",
              "      <td>Drama</td>\n",
              "    </tr>\n",
              "    <tr>\n",
              "      <th>1</th>\n",
              "      <td>1</td>\n",
              "      <td>The Godfather</td>\n",
              "      <td>The Godfather follows Vito Corleone Don of the...</td>\n",
              "      <td>R</td>\n",
              "      <td>1972</td>\n",
              "      <td>175</td>\n",
              "      <td>Crime, Drama</td>\n",
              "    </tr>\n",
              "    <tr>\n",
              "      <th>2</th>\n",
              "      <td>2</td>\n",
              "      <td>Pulp Fiction</td>\n",
              "      <td>The lives of two mob hitmen, a boxer, a gangst...</td>\n",
              "      <td>R</td>\n",
              "      <td>1994</td>\n",
              "      <td>154</td>\n",
              "      <td>Crime, Drama</td>\n",
              "    </tr>\n",
              "    <tr>\n",
              "      <th>3</th>\n",
              "      <td>3</td>\n",
              "      <td>The Godfather: Part II</td>\n",
              "      <td>The early life and career of Vito Corleone in ...</td>\n",
              "      <td>R</td>\n",
              "      <td>1974</td>\n",
              "      <td>202</td>\n",
              "      <td>Crime, Drama</td>\n",
              "    </tr>\n",
              "    <tr>\n",
              "      <th>4</th>\n",
              "      <td>4</td>\n",
              "      <td>Inception</td>\n",
              "      <td>A thief who steals corporate secrets through t...</td>\n",
              "      <td>PG-13</td>\n",
              "      <td>2010</td>\n",
              "      <td>148</td>\n",
              "      <td>Action, Adventure, Sci-Fi</td>\n",
              "    </tr>\n",
              "  </tbody>\n",
              "</table>\n",
              "</div>"
            ],
            "text/plain": [
              "   Unnamed: 0  ...                                  Genre\n",
              "0           0  ...                      Drama            \n",
              "1           1  ...               Crime, Drama            \n",
              "2           2  ...               Crime, Drama            \n",
              "3           3  ...               Crime, Drama            \n",
              "4           4  ...  Action, Adventure, Sci-Fi            \n",
              "\n",
              "[5 rows x 7 columns]"
            ]
          },
          "metadata": {},
          "execution_count": 3
        }
      ]
    },
    {
      "cell_type": "code",
      "metadata": {
        "colab": {
          "base_uri": "https://localhost:8080/",
          "height": 206
        },
        "id": "XoK-5CUgREhw",
        "outputId": "7dd6a68c-8933-4d35-8a6a-dbb2024e4166"
      },
      "source": [
        "is_r = list()\n",
        "for i in df['Age rate']:\n",
        "  if i=='R': is_r.append(1)\n",
        "  else: is_r.append(0)\n",
        "data = [df['Description']]\n",
        "short_df = pd.concat(data, axis = 1, keys = ['description'])\n",
        "short_df['age rate'] = is_r\n",
        "short_df.head()"
      ],
      "execution_count": 4,
      "outputs": [
        {
          "output_type": "execute_result",
          "data": {
            "text/html": [
              "<div>\n",
              "<style scoped>\n",
              "    .dataframe tbody tr th:only-of-type {\n",
              "        vertical-align: middle;\n",
              "    }\n",
              "\n",
              "    .dataframe tbody tr th {\n",
              "        vertical-align: top;\n",
              "    }\n",
              "\n",
              "    .dataframe thead th {\n",
              "        text-align: right;\n",
              "    }\n",
              "</style>\n",
              "<table border=\"1\" class=\"dataframe\">\n",
              "  <thead>\n",
              "    <tr style=\"text-align: right;\">\n",
              "      <th></th>\n",
              "      <th>description</th>\n",
              "      <th>age rate</th>\n",
              "    </tr>\n",
              "  </thead>\n",
              "  <tbody>\n",
              "    <tr>\n",
              "      <th>0</th>\n",
              "      <td>Two imprisoned men bond over a number of years...</td>\n",
              "      <td>1</td>\n",
              "    </tr>\n",
              "    <tr>\n",
              "      <th>1</th>\n",
              "      <td>The Godfather follows Vito Corleone Don of the...</td>\n",
              "      <td>1</td>\n",
              "    </tr>\n",
              "    <tr>\n",
              "      <th>2</th>\n",
              "      <td>The lives of two mob hitmen, a boxer, a gangst...</td>\n",
              "      <td>1</td>\n",
              "    </tr>\n",
              "    <tr>\n",
              "      <th>3</th>\n",
              "      <td>The early life and career of Vito Corleone in ...</td>\n",
              "      <td>1</td>\n",
              "    </tr>\n",
              "    <tr>\n",
              "      <th>4</th>\n",
              "      <td>A thief who steals corporate secrets through t...</td>\n",
              "      <td>0</td>\n",
              "    </tr>\n",
              "  </tbody>\n",
              "</table>\n",
              "</div>"
            ],
            "text/plain": [
              "                                         description  age rate\n",
              "0  Two imprisoned men bond over a number of years...         1\n",
              "1  The Godfather follows Vito Corleone Don of the...         1\n",
              "2  The lives of two mob hitmen, a boxer, a gangst...         1\n",
              "3  The early life and career of Vito Corleone in ...         1\n",
              "4  A thief who steals corporate secrets through t...         0"
            ]
          },
          "metadata": {},
          "execution_count": 4
        }
      ]
    },
    {
      "cell_type": "markdown",
      "metadata": {
        "id": "aWZWBx-_Qsfb"
      },
      "source": [
        "# Hyperparameters\n"
      ]
    },
    {
      "cell_type": "code",
      "metadata": {
        "id": "ZscIPxf2snDQ"
      },
      "source": [
        "# output directory name:\n",
        "output_dir = 'model_output/dense'\n",
        "\n",
        "embedding_dim = 64\n",
        "max_features=10000\n",
        "maxlen=300 \n",
        "\n",
        "####\n",
        "# training:\n",
        "epochs = 10 #4\n",
        "batch_size = 32#784\n",
        "\n",
        "# vector-space embedding: \n",
        "n_dim = 64\n",
        "n_unique_words = 5000 # as per Maas et al. (2011); may not be optimal\n",
        "n_words_to_skip = 50 # ditto\n",
        "max_decription_length = 100 #max_review_length (amount of tokens(words))\n",
        "pad_type = trunc_type = 'pre' #could be 'post'\n",
        "\n",
        "# neural network architecture: \n",
        "n_dense = 64 #neurons\n",
        "dropout = 0.5 #drop 50% of neurons \n",
        "\n",
        "# hparams = {\n",
        "#     \"batch_size\": 128,\n",
        "#     \"cnn_filter_sizes\": [128, 128, 128],\n",
        "#     \"cnn_kernel_sizes\": [5, 5, 5],\n",
        "#     \"cnn_pooling_sizes\": [5, 5, 40],\n",
        "#     \"constraint_learning_rate\": 0.01,\n",
        "#     \"embedding_dim\": 100,\n",
        "#     \"embedding_trainable\": False,\n",
        "#     \"learning_rate\": 0.005,\n",
        "#     \"max_num_words\": 10000,\n",
        "#     \"max_sequence_length\": 250\n",
        "# }\n",
        "\n"
      ],
      "execution_count": null,
      "outputs": []
    },
    {
      "cell_type": "markdown",
      "metadata": {
        "id": "CyHfKPx7SM-D"
      },
      "source": [
        "# Tokenizer"
      ]
    },
    {
      "cell_type": "code",
      "metadata": {
        "colab": {
          "base_uri": "https://localhost:8080/"
        },
        "id": "8kz1yWicnKTq",
        "outputId": "1abae9ca-5919-4f00-df49-a1e0434c59ce"
      },
      "source": [
        "#tokenizer of descriptions\n",
        "t  = Tokenizer(num_words=max_features)\n",
        "\n",
        "t.fit_on_texts([x for x in short_df['description']])\n",
        "descr_sequences = t.texts_to_sequences([x for x in np.array(short_df['description'])])\n",
        "descr_sequences = tf.keras.preprocessing.sequence.pad_sequences(descr_sequences, maxlen=maxlen)\n",
        "print('sequences : ',descr_sequences,'\\n')\n",
        "print('word_index : ',t.word_index)\n",
        "def vectorize_sequences(sequences, dimension=10000):\n",
        "    # Create an all-zero matrix of shape (len(sequences), dimension)\n",
        "    results = np.zeros((len(sequences), dimension))\n",
        "    for i, sequence in enumerate(sequences):\n",
        "        results[i, sequence] = 1.  # set specific indices of results[i] to 1s\n",
        "    return results.astype('float32')\n",
        "#descr_sequences = vectorize_sequences(descr_sequences)\n",
        "print(np.array(descr_sequences))"
      ],
      "execution_count": null,
      "outputs": [
        {
          "name": "stdout",
          "output_type": "stream",
          "text": [
            "sequences :  [[   0    0    0 ...    4 2078 2079]\n",
            " [   0    0    0 ...    7   98  330]\n",
            " [   0    0    0 ...  613    5 1197]\n",
            " ...\n",
            " [   0    0    0 ... 5014    5  157]\n",
            " [   0    0    0 ... 5017    4 1287]\n",
            " [   0    0    0 ...   44  215 1808]] \n",
            "\n",
            "word_index :  {'a': 1, 'the': 2, 'to': 3, 'of': 4, 'and': 5, 'in': 6, 'his': 7, 'is': 8, 'an': 9, 'with': 10, 'on': 11, 'by': 12, 'for': 13, 'he': 14, 'who': 15, 'from': 16, 'as': 17, 'their': 18, 'after': 19, 'her': 20, 'that': 21, 'when': 22, 'into': 23, 'are': 24, 'must': 25, 'they': 26, 'two': 27, 'new': 28, 'life': 29, 'up': 30, 'young': 31, 'man': 32, 'him': 33, 'one': 34, 'she': 35, 'at': 36, 'world': 37, 'group': 38, 'but': 39, 'find': 40, 'while': 41, 'out': 42, 'has': 43, 'where': 44, 'family': 45, 'against': 46, 'city': 47, 'help': 48, 'it': 49, 'agent': 50, 'himself': 51, 'town': 52, 'high': 53, 'team': 54, 'old': 55, 'back': 56, 'time': 57, 'only': 58, 'finds': 59, 'woman': 60, 'save': 61, 'mysterious': 62, 'them': 63, 'which': 64, 'friends': 65, 'becomes': 66, 'school': 67, 'be': 68, 'death': 69, 'home': 70, 'father': 71, 'american': 72, 'former': 73, 'evil': 74, 'being': 75, 'small': 76, 'stop': 77, 'war': 78, 'lives': 79, 'love': 80, 'year': 81, 'police': 82, 'all': 83, 'earth': 84, 'themselves': 85, 'three': 86, 'years': 87, 'killer': 88, 'girl': 89, 'more': 90, 'will': 91, 'battle': 92, 'discovers': 93, 'its': 94, 'off': 95, 'about': 96, 'during': 97, 'son': 98, 'fight': 99, 'other': 100, 'have': 101, 'before': 102, 'become': 103, 'order': 104, 'go': 105, 'york': 106, 'crime': 107, 'way': 108, 'protect': 109, 'get': 110, 'most': 111, 'day': 112, 'boy': 113, 'men': 114, 'wife': 115, 'past': 116, 'rescue': 117, 'set': 118, 'people': 119, 'take': 120, 'dead': 121, 'can': 122, 'sent': 123, 'gang': 124, 'sets': 125, 'down': 126, 'discover': 127, 'secret': 128, 'through': 129, 'four': 130, 'between': 131, 'was': 132, 's': 133, 'murder': 134, 'begins': 135, 'forces': 136, 'deadly': 137, 'john': 138, 'tries': 139, 'forced': 140, 'falls': 141, 'series': 142, 'takes': 143, 'planet': 144, 'alien': 145, 'children': 146, 'first': 147, 'own': 148, 'couple': 149, 'goes': 150, 'travel': 151, 'make': 152, 'island': 153, 'human': 154, 'government': 155, 'daughter': 156, 'revenge': 157, 'returns': 158, 'whose': 159, 'another': 160, 'story': 161, 'fbi': 162, 'bond': 163, 'over': 164, 'kill': 165, 'now': 166, 'trying': 167, 'mission': 168, 'friend': 169, 'house': 170, 'officer': 171, 'christmas': 172, 'than': 173, 'this': 174, 'parents': 175, 'there': 176, 'survivors': 177, 'student': 178, 'last': 179, 'not': 180, 'plan': 181, 'accident': 182, 'return': 183, 'killing': 184, 'run': 185, 'escape': 186, 'night': 187, 'each': 188, 'king': 189, 'u': 190, 'road': 191, 'los': 192, 'angeles': 193, 'detective': 194, 'james': 195, 'together': 196, 'star': 197, 'meets': 198, 'college': 199, 'dark': 200, 'beautiful': 201, 'along': 202, 'accidentally': 203, 'space': 204, 'events': 205, 'film': 206, 'no': 207, 'future': 208, 'attack': 209, 'race': 210, 'known': 211, 'called': 212, 'boss': 213, 'century': 214, 'something': 215, 'makes': 216, 'lead': 217, 'powerful': 218, 'leads': 219, 'across': 220, 'london': 221, 'special': 222, 'investigate': 223, 'comes': 224, 'humans': 225, 'come': 226, 'inside': 227, 'local': 228, 'real': 229, 'movie': 230, 'ancient': 231, 'power': 232, 'how': 233, 'or': 234, 'trip': 235, 'cop': 236, 'magical': 237, 'basketball': 238, 'five': 239, 'killed': 240, 'half': 241, 'brother': 242, 'soon': 243, 'kidnapped': 244, 'sister': 245, 'army': 246, 'princess': 247, 'america': 248, 'crash': 249, 'again': 250, 'zombies': 251, 'military': 252, 'nuclear': 253, 'mother': 254, 'gets': 255, 'living': 256, 'taken': 257, 'seek': 258, 'united': 259, 'scientist': 260, 'child': 261, 'end': 262, 'same': 263, 'top': 264, 'professional': 265, 'assassin': 266, 'true': 267, 'different': 268, 'rival': 269, 'terrorist': 270, 'little': 271, 'guy': 272, 'mystery': 273, 'travels': 274, 'follows': 275, 'mob': 276, 'pair': 277, 'career': 278, 'use': 279, 'eight': 280, 'serial': 281, 'seven': 282, 'decides': 283, 'wakes': 284, 'try': 285, 'flesh': 286, 'eating': 287, 'creatures': 288, 'like': 289, 'vacation': 290, 'turns': 291, 'students': 292, 'nazi': 293, 'been': 294, 'ever': 295, 'trapped': 296, 'memory': 297, 'teenager': 298, 'drug': 299, 'black': 300, 'warrior': 301, 'long': 302, 'upon': 303, 'dangerous': 304, 'street': 305, 'attempt': 306, 'jack': 307, 'both': 308, 'spy': 309, 'learns': 310, 'quest': 311, 'monster': 312, 'working': 313, 'bank': 314, 'enemy': 315, 'plot': 316, 'using': 317, 'game': 318, 'dreams': 319, \"he's\": 320, 'big': 321, 'car': 322, 'named': 323, 'far': 324, 'work': 325, 'body': 326, 'meet': 327, 'arts': 328, 'mr': 329, 'michael': 330, 'c': 331, 'destroy': 332, 'lord': 333, 'hunt': 334, 'search': 335, 'join': 336, 'zombie': 337, 'plane': 338, 'control': 339, \"it's\": 340, 'behind': 341, 'd': 342, 'so': 343, 'vegas': 344, 'deal': 345, 'major': 346, 'leader': 347, 'wrong': 348, 'yet': 349, 'free': 350, 'soldiers': 351, 'plans': 352, 'creates': 353, 'even': 354, 'stolen': 355, 'prince': 356, 'seeks': 357, 'owner': 358, 'childhood': 359, 'chance': 360, 'hired': 361, 'ex': 362, 'terror': 363, 'coach': 364, 'force': 365, 'british': 366, 'investigates': 367, 'action': 368, 'post': 369, 'tournament': 370, 'left': 371, 'going': 372, 'wealthy': 373, 'prison': 374, 'land': 375, 'causes': 376, 'frank': 377, 'fellow': 378, 'races': 379, 'martial': 380, 'turn': 381, 'supernatural': 382, 'based': 383, 'international': 384, 'haunted': 385, 'involving': 386, 'money': 387, 'female': 388, 'attempts': 389, 'may': 390, 'ring': 391, 'jedi': 392, 'pilot': 393, 'journey': 394, 'detectives': 395, 'uses': 396, 'around': 397, 'sheriff': 398, 'humanity': 399, 'struggles': 400, 'virus': 401, 'married': 402, 'fights': 403, 'retrieve': 404, 'research': 405, 'live': 406, 'following': 407, 'girlfriend': 408, 'states': 409, 'north': 410, \"father's\": 411, 'large': 412, 'party': 413, 'las': 414, 'wedding': 415, 'victims': 416, 'apocalyptic': 417, 'ultimate': 418, 'eccentric': 419, 'very': 420, 'england': 421, 'greatest': 422, 'vengeance': 423, 'corrupt': 424, 'murdered': 425, 'elite': 426, 'business': 427, 'torn': 428, 'heart': 429, 'superhero': 430, 'training': 431, 'do': 432, 'peter': 433, 'cops': 434, 'much': 435, 'terrorists': 436, 'violent': 437, 'hunter': 438, 'wants': 439, 'troubled': 440, 'toy': 441, 'room': 442, 'criminal': 443, 'undercover': 444, 'prevent': 445, 'adventure': 446, 'away': 447, 'soldier': 448, 'm': 449, 'driver': 450, 'hit': 451, 'original': 452, 'tale': 453, 'teenage': 454, 'however': 455, 'break': 456, 'popular': 457, 'crew': 458, 'suburban': 459, 'kids': 460, 'camp': 461, 'job': 462, 'chief': 463, 'what': 464, 'murders': 465, 'vampires': 466, 'personal': 467, 'organization': 468, 'move': 469, 'turned': 470, 'prove': 471, 'martin': 472, 'see': 473, 'encounter': 474, 'english': 475, 'then': 476, 'head': 477, 'women': 478, 'remote': 479, 'football': 480, 'dr': 481, 'best': 482, 'raised': 483, 'vietnam': 484, 'once': 485, 'eve': 486, 'freddy': 487, 'secrets': 488, 'tragic': 489, 'doom': 490, 'joins': 491, 'middle': 492, 'neo': 493, 'knows': 494, 'innocent': 495, 'those': 496, 'cyborg': 497, 'advanced': 498, 'learn': 499, 'shy': 500, 'gun': 501, 'park': 502, 'survivor': 503, 'cure': 504, 'strange': 505, 'double': 506, 'coming': 507, 'six': 508, 'great': 509, 'helps': 510, 'start': 511, 'desert': 512, 'nurse': 513, 'weapon': 514, 'hospital': 515, 't': 516, 'television': 517, 'executive': 518, 'building': 519, 'killers': 520, 'bumbling': 521, 'fighting': 522, 'buddies': 523, 'wake': 524, 'previous': 525, 'missing': 526, 'moving': 527, 'heist': 528, 'embark': 529, 'tyranny': 530, \"world's\": 531, 'days': 532, 'ii': 533, 'jewish': 534, 'vengeful': 535, 'harry': 536, 'havoc': 537, 'gotham': 538, 'batman': 539, 'defeat': 540, 'book': 541, 'corruption': 542, 'german': 543, 'leave': 544, 'shark': 545, 'near': 546, 'targeted': 547, '000': 548, 'spirit': 549, 'romance': 550, 'assassins': 551, 'figure': 552, 'determined': 553, 'texas': 554, 'cia': 555, 'legendary': 556, 'terrible': 557, 'lawyer': 558, 'machine': 559, 'were': 560, 'band': 561, 'brothers': 562, 'stalking': 563, 'bring': 564, 'x': 565, 'history': 566, 'know': 567, 'enter': 568, 'part': 569, 'involved': 570, 'sinister': 571, 'solve': 572, 'abilities': 573, 'survive': 574, 'visit': 575, 'meanwhile': 576, 'program': 577, 'soul': 578, 'doctor': 579, 'grows': 580, 'every': 581, 'lost': 582, 'operation': 583, 'rogue': 584, 'strangers': 585, \"they're\": 586, 'freedom': 587, 'dealer': 588, 'arrives': 589, 'led': 590, 'stalked': 591, 'used': 592, 'secretly': 593, 'place': 594, 'cat': 595, 'ruthless': 596, 'just': 597, 'invasion': 598, 'steal': 599, 'faces': 600, 'keep': 601, 'queen': 602, 'breaks': 603, 'media': 604, 'farm': 605, 'realizes': 606, 'music': 607, 'businessman': 608, 'herself': 609, 'tech': 610, 'corleone': 611, 'gangster': 612, 'violence': 613, 'technology': 614, 'given': 615, 'idea': 616, 'mind': 617, 'luke': 618, 'galaxy': 619, 'also': 620, 'computer': 621, 'truth': 622, 'justice': 623, 'stay': 624, 'alive': 625, 'monsters': 626, 'unusual': 627, 'survival': 628, 'rage': 629, 'secure': 630, 'everything': 631, 'alice': 632, 'refuge': 633, 'unit': 634, 'scientists': 635, 'release': 636, 'store': 637, 'menace': 638, 'overrun': 639, 'bitten': 640, 'dies': 641, 'situation': 642, 'members': 643, 'reporter': 644, 'horde': 645, 'east': 646, 'bloodthirsty': 647, 'horror': 648, 'tragedy': 649, 'air': 650, 'effort': 651, 'committed': 652, 'recruited': 653, 'sadistic': 654, 'experiment': 655, \"doesn't\": 656, 'planned': 657, 'ripley': 658, 'deep': 659, 'stage': 660, 'create': 661, 'criminals': 662, 'begin': 663, 'guards': 664, 'i': 665, 'discovery': 666, 'final': 667, 'chaos': 668, 'ability': 669, 'social': 670, 'later': 671, 'unique': 672, 'magically': 673, \"girlfriend's\": 674, 'win': 675, 'powers': 676, 'actor': 677, 'opportunity': 678, 'whom': 679, 'things': 680, 'moves': 681, 'vampire': 682, 'worker': 683, 'form': 684, 'others': 685, 'hostage': 686, 'hotel': 687, 'struggle': 688, 'unknowingly': 689, 'community': 690, 'track': 691, 'diamond': 692, 'lion': 693, 'betrayed': 694, 'cartel': 695, 'recruits': 696, 'undead': 697, 'dictator': 698, 'good': 699, 'disease': 700, 'made': 701, 'hunting': 702, 'self': 703, 'frustrated': 704, 'targets': 705, 'millions': 706, 'robin': 707, 'village': 708, 'alter': 709, 'threat': 710, 'could': 711, 'course': 712, 'threatens': 713, 'magic': 714, 'warriors': 715, 'jungle': 716, 'hunted': 717, 'empire': 718, 'pursued': 719, 'sydney': 720, 'month': 721, 'competing': 722, 'god': 723, 'stand': 724, 'problems': 725, 'psychopathic': 726, 'slowly': 727, 'notorious': 728, 'face': 729, 'master': 730, 'washington': 731, 'boyfriend': 732, 'con': 733, 'unknown': 734, 'realize': 735, 'fire': 736, 'florida': 737, 'teen': 738, 'robot': 739, 'second': 740, 'falling': 741, 'complete': 742, 'consequences': 743, 'friendship': 744, 'seems': 745, 'works': 746, 'lands': 747, 'never': 748, 'security': 749, 'seeking': 750, 'bill': 751, 'suffering': 752, 'ghost': 753, 'person': 754, 'fighter': 755, 'plots': 756, 'cross': 757, 'learning': 758, 'decide': 759, 'talking': 760, 'jason': 761, 'trained': 762, 'act': 763, 'spree': 764, 'fighters': 765, 'storm': 766, 'arms': 767, 'african': 768, 'professor': 769, 'invading': 770, 'universe': 771, 'tour': 772, 'follow': 773, 'law': 774, 'kidnapping': 775, 'premonition': 776, 'aid': 777, 'deceased': 778, 'hometown': 779, 'next': 780, 'producer': 781, 'daniel': 782, 'capture': 783, 'massive': 784, 'witness': 785, 'investigating': 786, 'case': 787, 'species': 788, 'citizens': 789, 'museum': 790, 'if': 791, 'found': 792, 'short': 793, 'some': 794, 'woods': 795, 'hell': 796, 'under': 797, 'because': 798, 'fortune': 799, 'aliens': 800, 'smuggling': 801, 'midst': 802, 'employee': 803, 'wilson': 804, 'curse': 805, 'inadvertently': 806, 'recover': 807, 'stranded': 808, 'brought': 809, 'held': 810, 'put': 811, 'play': 812, 'wielding': 813, 'full': 814, 'instead': 815, 'desperate': 816, 'hero': 817, 'krueger': 818, 'championship': 819, 'psychiatrist': 820, 'dog': 821, 'imprisoned': 822, 'number': 823, 'finding': 824, 'tales': 825, 'early': 826, 'thief': 827, 'dream': 828, 'e': 829, 'disaster': 830, 'sam': 831, 'skywalker': 832, 'knight': 833, 'darth': 834, 'vader': 835, 'hacker': 836, 'sense': 837, 'ten': 838, 'coma': 839, 'reach': 840, 'sisters': 841, 'trek': 842, 'salesman': 843, 'plague': 844, 'kills': 845, 'sole': 846, 'toxic': 847, 'films': 848, 'weeks': 849, 'months': 850, 'area': 851, 'raccoon': 852, 'hoping': 853, 'policeman': 854, 'mutated': 855, 'released': 856, 'bomb': 857, 'marines': 858, 'facility': 859, 'genetically': 860, 'machines': 861, 'philadelphia': 862, 'ragtag': 863, 'safe': 864, 'residents': 865, 'strikes': 866, 'supply': 867, 'cause': 868, 'colorado': 869, 'dancer': 870, 'lake': 871, 'teams': 872, 'late': 873, 'sports': 874, 'athlete': 875, 'countryside': 876, 'competitor': 877, 'racing': 878, 'tokyo': 879, 'aboard': 880, 'merciless': 881, 'awakens': 882, 'anyone': 883, 'engage': 884, 'horribly': 885, 'thirty': 886, 'traveling': 887, 'arthur': 888, 'table': 889, 'edward': 890, 'africa': 891, 'ago': 892, 'l': 893, 'tells': 894, 'occupied': 895, 'france': 896, 'assassinate': 897, 'uncover': 898, 'existence': 899, 'tests': 900, 'trade': 901, 'harvard': 902, 'site': 903, 'would': 904, 'twins': 905, 'co': 906, 'marine': 907, 'dispatched': 908, 'protecting': 909, 'comic': 910, 'ethan': 911, 'mismatched': 912, 'seize': 913, \"city's\": 914, 'office': 915, 'devil': 916, 'care': 917, 'maker': 918, 'underground': 919, 'mentor': 920, 'paul': 921, 'clue': 922, 'unleashes': 923, 'beach': 924, 'russian': 925, 'incompetent': 926, 'robbers': 927, 'gone': 928, 'dollars': 929, 'cash': 930, 'uncle': 931, 'name': 932, 'university': 933, 'entire': 934, 'encounters': 935, 'psychologist': 936, 'extraterrestrial': 937, 'exposed': 938, 'doll': 939, 'cuban': 940, 'bust': 941, 'captain': 942, 'sparrow': 943, 'allies': 944, 'contend': 945, 'mad': 946, 'brutal': 947, 'mercenaries': 948, 'eliminate': 949, 'renegade': 950, 'magician': 951, 'successor': 952, 'orphaned': 953, 'holiday': 954, 'b': 955, 'became': 956, 'indian': 957, 'rule': 958, 'almost': 959, 'key': 960, 'dying': 961, 'spend': 962, 'disappearance': 963, 'murderer': 964, 'trap': 965, 'crown': 966, 'murdering': 967, 'partner': 968, 'caught': 969, 'potter': 970, 'hogwarts': 971, 'claim': 972, 'service': 973, 'investigation': 974, 'humankind': 975, 'villain': 976, 'mid': 977, 'shrek': 978, 'alternate': 979, 'rules': 980, 'terrorized': 981, 'rebels': 982, 'captured': 983, 'dealing': 984, 'various': 985, 'bruce': 986, 'cabin': 987, 'adaptation': 988, 'epic': 989, 'clone': 990, 'count': 991, 'animal': 992, 'expected': 993, \"she's\": 994, 'super': 995, 'powered': 996, 'look': 997, 'flow': 998, 'duo': 999, 'hands': 1000, 'workers': 1001, 'defends': 1002, 'mcclane': 1003, 'closer': 1004, 'ally': 1005, 'tv': 1006, 'compete': 1007, 'inmates': 1008, 'receives': 1009, 'attacked': 1010, 'line': 1011, 'nation': 1012, 'pet': 1013, 'romantic': 1014, 'daring': 1015, 'side': 1016, 'without': 1017, 'central': 1018, 'tasked': 1019, 'loose': 1020, 'behavior': 1021, 'benjamin': 1022, 'starts': 1023, 'unexpected': 1024, 'presence': 1025, 'fashion': 1026, 'single': 1027, 'witnesses': 1028, \"mother's\": 1029, 'widow': 1030, 'think': 1031, 'seem': 1032, 'picked': 1033, 'transformed': 1034, 'obsessed': 1035, 'demonic': 1036, 'headed': 1037, '1970s': 1038, 'string': 1039, 'grisly': 1040, 'ill': 1041, 'saves': 1042, 'leaves': 1043, 'airport': 1044, 'country': 1045, 'researcher': 1046, 'president': 1047, 'brilliant': 1048, 'memories': 1049, 'infamous': 1050, \"jigsaw's\": 1051, 'jigsaw': 1052, 'revive': 1053, 'proves': 1054, 'apes': 1055, 'streets': 1056, 'third': 1057, 'terrorize': 1058, 'recently': 1059, 'appears': 1060, 'hire': 1061, 'conspiracy': 1062, 'interpol': 1063, 'eastern': 1064, 'conflict': 1065, 'reasons': 1066, 'religious': 1067, 'foes': 1068, 'elle': 1069, 'awaken': 1070, 'gain': 1071, 'continue': 1072, 'skills': 1073, 'gold': 1074, 'thrown': 1075, 'mexico': 1076, 'confronts': 1077, 'newly': 1078, 'important': 1079, 'colonel': 1080, 'clues': 1081, 'society': 1082, 'ocean': 1083, 'casino': 1084, 'born': 1085, 'offered': 1086, 'date': 1087, 'heads': 1088, 'system': 1089, 'mouse': 1090, 'official': 1091, 'australian': 1092, 'cars': 1093, 'rambo': 1094, 'desire': 1095, 'food': 1096, 'journalist': 1097, 'apartment': 1098, 'terrifying': 1099, 'movies': 1100, 'heiress': 1101, 'stake': 1102, 'fall': 1103, 'green': 1104, 'architect': 1105, 'allows': 1106, 'fast': 1107, 'terrorizing': 1108, 'crystal': 1109, 'voorhees': 1110, 'retired': 1111, 'industry': 1112, \"brother's\": 1113, 'henry': 1114, 'afraid': 1115, 'until': 1116, 'magnate': 1117, 'unaware': 1118, 'mortal': 1119, 'darkness': 1120, 'dance': 1121, 'agents': 1122, 'kid': 1123, 'grant': 1124, '1960s': 1125, 'looks': 1126, 'egg': 1127, '13': 1128, 'priest': 1129, 'roof': 1130, 'chicago': 1131, 'french': 1132, 'open': 1133, 'fend': 1134, 'j': 1135, 'isolated': 1136, 'relationship': 1137, 'werewolf': 1138, 'straight': 1139, 'summer': 1140, 'victim': 1141, 'deformed': 1142, 'penguin': 1143, 'animals': 1144, 'too': 1145, 'rob': 1146, 'reserve': 1147, 'sex': 1148, 'detroit': 1149, 'center': 1150, 'funding': 1151, 'alex': 1152, 'halloween': 1153, 'blinded': 1154, 'video': 1155, 'arrival': 1156, 'authorities': 1157, 'looking': 1158, 'ultimately': 1159, 'teens': 1160, 'academy': 1161, 'resistance': 1162, 'grim': 1163, 'vows': 1164, 'grave': 1165, 'chainsaw': 1166, 'believes': 1167, 'elizabeth': 1168, 'uncovers': 1169, \"can't\": 1170, 'among': 1171, 'biker': 1172, 'archaeological': 1173, 'rural': 1174, 'global': 1175, 'experience': 1176, 'bear': 1177, 'rich': 1178, 'enforcer': 1179, 'overthrow': 1180, 'alone': 1181, 'drebin': 1182, 'psychic': 1183, 'mythical': 1184, 'armed': 1185, 'stories': 1186, 'driving': 1187, 'r': 1188, 'g': 1189, '2': 1190, 'told': 1191, 'miyagi': 1192, 'spider': 1193, 'robocop': 1194, 'bored': 1195, 'solace': 1196, 'redemption': 1197, 'acts': 1198, 'vito': 1199, 'don': 1200, 'passes': 1201, 'hitmen': 1202, 'boxer': 1203, 'bandits': 1204, '1920s': 1205, 'syndicate': 1206, 'corporate': 1207, 'o': 1208, 'project': 1209, \"sauron's\": 1210, 'frodo': 1211, 'cocky': 1212, 'destroying': 1213, 'station': 1214, 'attempting': 1215, 'underworld': 1216, 'elaborate': 1217, 'deception': 1218, 'cyber': 1219, 'intelligence': 1220, 'rookie': 1221, 'motives': 1222, 'paris': 1223, 'identical': 1224, 'sarah': 1225, 'connor': 1226, 'rick': 1227, 'ruins': 1228, 'amusement': 1229, 'filled': 1230, 'insecure': 1231, 'quarantined': 1232, 'robert': 1233, 'exploitation': 1234, 'features': 1235, 'cult': 1236, 'throughout': 1237, 'uk': 1238, 'sanctuary': 1239, 'population': 1240, 'britain': 1241, 'alaska': 1242, 'worldwide': 1243, 'aggressive': 1244, 'midwestern': 1245, 'shopping': 1246, 'mall': 1247, 'supercomputer': 1248, 'clerk': 1249, 'horrific': 1250, 'medical': 1251, 'dropped': 1252, 'mars': 1253, 'enhanced': 1254, \"man's\": 1255, 'rat': 1256, 'monkey': 1257, 'dogs': 1258, 'growing': 1259, 'epidemic': 1260, 'secluded': 1261, 'coast': 1262, 'cameraman': 1263, 'simultaneously': 1264, 'state': 1265, 'grieving': 1266, 'raise': 1267, 'rise': 1268, 'winning': 1269, 'role': 1270, 'swan': 1271, 'heir': 1272, 'company': 1273, 'assistant': 1274, 'masked': 1275, 'bachelor': 1276, 'refugees': 1277, 'odds': 1278, 'should': 1279, 'avoid': 1280, 'sentence': 1281, 'volunteers': 1282, 'fifty': 1283, 'surviving': 1284, 'vessel': 1285, 'warn': 1286, 'predators': 1287, 'shattered': 1288, '1890s': 1289, 'simple': 1290, 'jewelry': 1291, 'informant': 1292, 'marty': 1293, 'mcfly': 1294, 'delorean': 1295, 'invented': 1296, 'doc': 1297, 'brown': 1298, 'knights': 1299, 'round': 1300, 'low': 1301, 'budget': 1302, 'encountering': 1303, 'many': 1304, 'row': 1305, 'rape': 1306, 'gift': 1307, 'william': 1308, 'homeland': 1309, 'generations': 1310, 'objects': 1311, 'mankind': 1312, 'berlin': 1313, 'bunker': 1314, 'emperor': 1315, 'leaders': 1316, 'ron': 1317, 'hermione': 1318, 'joker': 1319, 'wreaks': 1320, 'psychological': 1321, 'apprentice': 1322, 'connection': 1323, 'mark': 1324, 'claimed': 1325, 'stole': 1326, 'moon': 1327, 'version': 1328, 'dave': 1329, 'though': 1330, 'ride': 1331, 'birth': 1332, \"don't\": 1333, 'classmate': 1334, 'reveals': 1335, 'club': 1336, 'ridden': 1337, 'thousand': 1338, 'militia': 1339, 'feel': 1340, 'lapd': 1341, 'latest': 1342, 'boxing': 1343, 'amateur': 1344, 'supposedly': 1345, 'mayhem': 1346, 'stumbles': 1347, 'million': 1348, 'bitter': 1349, 'slacker': 1350, 'jeff': 1351, 'mistaken': 1352, 'debt': 1353, 'escaping': 1354, 'plagued': 1355, 'visions': 1356, 'suit': 1357, 'commit': 1358, 'crimes': 1359, 'christopher': 1360, '24': 1361, 'wilderness': 1362, 'shape': 1363, 'frightened': 1364, 'spirits': 1365, 'ensues': 1366, 'plantation': 1367, 'jealous': 1368, \"boy's\": 1369, 'miami': 1370, 'brian': 1371, 'south': 1372, 'turner': 1373, 'pirate': 1374, 'identity': 1375, 'tony': 1376, 'stark': 1377, 'health': 1378, 'ties': 1379, 'legacy': 1380, 'senator': 1381, 'rampage': 1382, 'operative': 1383, 'train': 1384, 'resourceful': 1385, 'physics': 1386, 'prodigy': 1387, 'destiny': 1388, 'red': 1389, 'reign': 1390, 'wizardry': 1391, 'haunts': 1392, 'teammates': 1393, 'reunite': 1394, '300': 1395, 'faded': 1396, 'outside': 1397, 'famed': 1398, '2029': 1399, '1984': 1400, 'indestructible': 1401, 'execute': 1402, 'unborn': 1403, 'devastated': 1404, 'convict': 1405, 'gather': 1406, 'janitor': 1407, 'possessed': 1408, 'entity': 1409, 'champion': 1410, 'determine': 1411, 'fact': 1412, 'fiction': 1413, 'regain': 1414, 'earning': 1415, \"woman's\": 1416, 'escaped': 1417, 'truck': 1418, 'phone': 1419, 'treasure': 1420, 'forever': 1421, 'balance': 1422, 'lovers': 1423, 'hawaiian': 1424, 'sherlock': 1425, 'holmes': 1426, 'nemesis': 1427, 'exploration': 1428, 'miserable': 1429, 'property': 1430, 'blood': 1431, \"voldemort's\": 1432, 'glory': 1433, 'featuring': 1434, 'rivalry': 1435, 'victor': 1436, 'mutant': 1437, 'exist': 1438, 'colleague': 1439, 'sends': 1440, 'vigilante': 1441, 'sprawling': 1442, 'completely': 1443, 'lone': 1444, 'holds': 1445, 'rumpelstiltskin': 1446, 'tricks': 1447, 'seniors': 1448, 'awry': 1449, 'boys': 1450, 'lose': 1451, 'prom': 1452, 'ice': 1453, 'bounty': 1454, 'couples': 1455, 'banner': 1456, 'loses': 1457, 'writer': 1458, 'assault': 1459, 'greek': 1460, 'chronicles': 1461, 'fates': 1462, 'palpatine': 1463, 'obi': 1464, 'wan': 1465, 'pursues': 1466, 'anakin': 1467, 'lured': 1468, 'settle': 1469, 'fun': 1470, 'loving': 1471, 'ben': 1472, 'show': 1473, 'doorstep': 1474, 'pregnant': 1475, 'faced': 1476, 'mutants': 1477, 'evolved': 1478, 'inevitable': 1479, 'lifelong': 1480, 'respective': 1481, 'making': 1482, 'cameras': 1483, 'previously': 1484, 'thought': 1485, 'bargain': 1486, 'investment': 1487, 'delves': 1488, 'hedonistic': 1489, 'separate': 1490, 'adventures': 1491, 'develops': 1492, 'jean': 1493, 'magneto': 1494, 'sea': 1495, 'baby': 1496, 'wave': 1497, 'shares': 1498, 'superhuman': 1499, 'edge': 1500, 'divided': 1501, 'bringing': 1502, 'musician': 1503, 'destruction': 1504, 'freak': 1505, 'occurrences': 1506, 'shooting': 1507, 'our': 1508, 'sport': 1509, 'call': 1510, 'enslaving': 1511, 'water': 1512, 'kingdom': 1513, 'promise': 1514, 'beloved': 1515, 'dwelling': 1516, 'educate': 1517, 'radiation': 1518, \"timmy's\": 1519, 'doing': 1520, 'sir': 1521, 'advantage': 1522, 'claire': 1523, 'classic': 1524, 'visitor': 1525, 'giant': 1526, 'theme': 1527, 'dinosaurs': 1528, 'wild': 1529, 'energy': 1530, 'eyes': 1531, 'bruno': 1532, 'forbidden': 1533, 'leaving': 1534, 'meeting': 1535, 'assassination': 1536, 'hardened': 1537, 'smart': 1538, 'graduate': 1539, 'nerdy': 1540, \"who's\": 1541, 'done': 1542, 'pressure': 1543, 'tekken': 1544, 'id': 1545, 'husband': 1546, '10': 1547, 'pain': 1548, 'amsterdam': 1549, 'points': 1550, 'fishing': 1551, 'boat': 1552, 'drama': 1553, 'motorcycle': 1554, 'rider': 1555, 'johnny': 1556, '21': 1557, 'skilled': 1558, 'tracking': 1559, 'increasingly': 1560, 'teleportation': 1561, 'suddenly': 1562, 'embarrassing': 1563, 'officers': 1564, 'damage': 1565, 'changes': 1566, 'improve': 1567, 'conan': 1568, 'warlord': 1569, 'thulsa': 1570, 'fearless': 1571, 'dumb': 1572, 'bent': 1573, 'mrs': 1574, 'dominant': 1575, 'artists': 1576, 'summoned': 1577, 'above': 1578, 'parker': 1579, 'evan': 1580, 'suffers': 1581, 'significant': 1582, 'remember': 1583, 'these': 1584, 'orphan': 1585, 'unleash': 1586, 'robber': 1587, 'broker': 1588, 'stakes': 1589, 'helped': 1590, 'astronaut': 1591, 'venture': 1592, 'sidney': 1593, 'hollywood': 1594, 'ghostface': 1595, 'rises': 1596, 'adopt': 1597, 'nearly': 1598, 'within': 1599, 'someone': 1600, 'spends': 1601, 'narcotics': 1602, 'ensnared': 1603, 'europe': 1604, 'selene': 1605, 'werewolves': 1606, 'mean': 1607, 'exiles': 1608, 'ends': 1609, 'anti': 1610, 'lover': 1611, 'perpetrated': 1612, 'temporary': 1613, 'results': 1614, 'san': 1615, 'cartoonist': 1616, 'northern': 1617, 'astronauts': 1618, 'unleashing': 1619, 'charlie': 1620, 'jerry': 1621, 'rachel': 1622, 'hairs': 1623, 'sudden': 1624, 'morality': 1625, 'chased': 1626, 'season': 1627, 'racially': 1628, 'card': 1629, 'casinos': 1630, 'poor': 1631, 'duke': 1632, 'lesson': 1633, 'neglected': 1634, 'archenemy': 1635, 'da': 1636, 'vinci': 1637, 'danny': 1638, 'rounds': 1639, 'eleven': 1640, 'odyssey': 1641, 'contract': 1642, 'wanted': 1643, 'prime': 1644, 'superior': 1645, 'searches': 1646, 'highly': 1647, 'agency': 1648, 'preventing': 1649, 'wins': 1650, 'chocolate': 1651, 'factory': 1652, 'diary': 1653, 'innocence': 1654, 'larger': 1655, 'teenagers': 1656, 'battling': 1657, 'upside': 1658, 'divorce': 1659, 'putting': 1660, 'extremely': 1661, 'process': 1662, 'marsh': 1663, 'seemingly': 1664, 'videos': 1665, 'runs': 1666, 'implicated': 1667, 'usa': 1668, 'inspector': 1669, 'p': 1670, 'chinese': 1671, 'strahm': 1672, 'hoffman': 1673, 'insurance': 1674, 'including': 1675, 'happens': 1676, 'pincus': 1677, 'unexpectedly': 1678, 'revived': 1679, '30': 1680, 'disillusioned': 1681, 'thailand': 1682, 'christian': 1683, 'native': 1684, 'videotape': 1685, 'view': 1686, 'interlocking': 1687, 'families': 1688, 'emergency': 1689, 'quickly': 1690, 'decades': 1691, 'hours': 1692, 'die': 1693, 'culture': 1694, 'centuries': 1695, 'feud': 1696, 'helping': 1697, 'lady': 1698, 'terminally': 1699, 'wish': 1700, 'assembles': 1701, \"other's\": 1702, 'member': 1703, 'european': 1704, 'sequel': 1705, 'ensure': 1706, 'catastrophic': 1707, 'nightmare': 1708, 'massacre': 1709, 'israeli': 1710, 'chosen': 1711, 'responsible': 1712, 'complications': 1713, 'arise': 1714, 'denmark': 1715, 'opposing': 1716, 'district': 1717, 'attorney': 1718, 'dent': 1719, 'circus': 1720, 'sidekick': 1721, 'farmer': 1722, 'clients': 1723, 'asked': 1724, 'hip': 1725, 'heroin': 1726, 'hole': 1727, 'woody': 1728, 'collector': 1729, 'homicide': 1730, 'chelios': 1731, 'poison': 1732, 'finally': 1733, 'discovering': 1734, 'term': 1735, 'loss': 1736, 'catches': 1737, 'puts': 1738, 'danger': 1739, 'mobster': 1740, 'regular': 1741, 're': 1742, 'performing': 1743, 'earn': 1744, 'bombing': 1745, 'box': 1746, 'debunking': 1747, 'paranormal': 1748, 'want': 1749, 'delivery': 1750, 'emerges': 1751, 'dumped': 1752, 'figures': 1753, 'imf': 1754, 'focker': 1755, 'traumatized': 1756, 'mass': 1757, 'austin': 1758, 'nasa': 1759, 'board': 1760, 'misfits': 1761, 'gym': 1762, 'onslaught': 1763, 'heritage': 1764, 'crop': 1765, 'circles': 1766, 'mistakenly': 1767, 'paige': 1768, 'eddie': 1769, 'accepts': 1770, 'loves': 1771, 'reluctantly': 1772, 'build': 1773, 'era': 1774, 'federal': 1775, 'challenge': 1776, 'shop': 1777, 'infiltrates': 1778, 'famous': 1779, 'prehistoric': 1780, \"d'leh\": 1781, 'mammoth': 1782, 'bonds': 1783, 'evolet': 1784, 'hatches': 1785, 'fiona': 1786, 'charming': 1787, 'pan': 1788, 'communicate': 1789, 'adopts': 1790, 'unlikely': 1791, 'custody': 1792, 'ellen': 1793, 'ford': 1794, 'guide': 1795, 'horrifying': 1796, 'await': 1797, 'getting': 1798, 'management': 1799, 'dracula': 1800, 'jim': 1801, 'prostitute': 1802, 'brooklyn': 1803, 'firefighters': 1804, 'gay': 1805, 'biological': 1806, 'promises': 1807, 'awaits': 1808, 'daughters': 1809, 'newlyweds': 1810, \"town's\": 1811, 'gigantic': 1812, 'wreaking': 1813, 'marriage': 1814, 'guard': 1815, 'natural': 1816, 'wreak': 1817, 'singer': 1818, 'teach': 1819, 'clutches': 1820, 'expose': 1821, 'financial': 1822, 'simon': 1823, 'mexican': 1824, 'entangled': 1825, 'right': 1826, 'picking': 1827, 'wounded': 1828, 'voice': 1829, 'jay': 1830, 'appearance': 1831, 'pound': 1832, 'inner': 1833, 'beauty': 1834, 'possessing': 1835, 'demons': 1836, 'cynical': 1837, 'study': 1838, 'agenda': 1839, 'news': 1840, 'fly': 1841, 'kind': 1842, 'pride': 1843, 'operatives': 1844, 'device': 1845, 'egypt': 1846, 'jones': 1847, 'waste': 1848, 'senses': 1849, 'adventurer': 1850, 'lara': 1851, 'croft': 1852, 'villains': 1853, 'suspicion': 1854, 'tourist': 1855, 'descend': 1856, 'murderous': 1857, 'target': 1858, 'disguises': 1859, 'dante': 1860, 'civilian': 1861, 'tricked': 1862, 'nanny': 1863, 'breaking': 1864, 'hearted': 1865, 'containing': 1866, 'customers': 1867, 'netherlands': 1868, 'dutch': 1869, 'vision': 1870, 'repercussions': 1871, 'groom': 1872, 'mental': 1873, 'venomous': 1874, 'deliberately': 1875, 'squad': 1876, 'billionaire': 1877, 'taking': 1878, 'apart': 1879, 'oil': 1880, 'kidnapper': 1881, 'fame': 1882, 'convince': 1883, \"island's\": 1884, 'unsuspecting': 1885, 'cannot': 1886, 'twelve': 1887, 'intelligent': 1888, 'stopped': 1889, 'discovered': 1890, 'collision': 1891, 'doomsday': 1892, 'worst': 1893, 'share': 1894, 'invade': 1895, \"year's\": 1896, 'dig': 1897, 'fierce': 1898, 'modified': 1899, 'pole': 1900, 'national': 1901, 'trainees': 1902, 'vicious': 1903, 'spoof': 1904, 'narnia': 1905, 'wardrobe': 1906, '8': 1907, 'estranged': 1908, 'invited': 1909, 'speed': 1910, 'beverly': 1911, 'hills': 1912, 'warring': 1913, 'predator': 1914, \"mogul's\": 1915, 'expedition': 1916, 'antarctica': 1917, 'running': 1918, 'scandal': 1919, 'tom': 1920, 'reunited': 1921, 'serve': 1922, 'girlfriends': 1923, 'engineer': 1924, 'why': 1925, 'streetwise': 1926, 'white': 1927, 'drifter': 1928, 'really': 1929, 'prey': 1930, '19th': 1931, 'inventor': 1932, 'bosnia': 1933, 'suspicious': 1934, 'trial': 1935, 'violinist': 1936, 'wells': 1937, 'helen': 1938, 'submits': 1939, 'cornea': 1940, 'transplantation': 1941, 'recovering': 1942, 'seeing': 1943, 'younger': 1944, 'demand': 1945, 'germany': 1946, 'stumble': 1947, 'games': 1948, 'nine': 1949, 'sweet': 1950, \"that's\": 1951, 'lieutenant': 1952, 'test': 1953, 'infiltrate': 1954, 'base': 1955, 'captive': 1956, 'claims': 1957, 'estate': 1958, 'private': 1959, 'radio': 1960, 'match': 1961, 'looney': 1962, 'tunes': 1963, 'jamal': 1964, 'eventually': 1965, 'burglars': 1966, 'player': 1967, 'nba': 1968, 'river': 1969, 'staff': 1970, 'searching': 1971, 'maggie': 1972, 'grandmother': 1973, 'knew': 1974, 'existed': 1975, 'stays': 1976, 'mary': 1977, 'successful': 1978, 'well': 1979, 'nephew': 1980, 'mercenary': 1981, 'patient': 1982, 'bean': 1983, 'unwittingly': 1984, 'embarks': 1985, 'van': 1986, 'conman': 1987, 'santa': 1988, 'befriends': 1989, 'armor': 1990, 'nearby': 1991, 'minister': 1992, \"wife's\": 1993, 'suicide': 1994, 'imaginary': 1995, 'extravagant': 1996, 'record': 1997, 'fatal': 1998, 'disappeared': 1999, 'hopeless': 2000, 'organisation': 2001, 'microchip': 2002, 'ending': 2003, \"britain's\": 2004, 'graduates': 2005, 'jimmy': 2006, 'spring': 2007, 'assigned': 2008, 'kidnap': 2009, 'rid': 2010, 'jamaican': 2011, 'enlists': 2012, 'monstrous': 2013, 'owners': 2014, 'riggs': 2015, 'murtaugh': 2016, 'trail': 2017, 'theft': 2018, 'santiago': 2019, 'muñez': 2020, 'newcastle': 2021, 'ali': 2022, 'cute': 2023, 'girls': 2024, 'male': 2025, 'taxi': 2026, 'theories': 2027, \"agent's\": 2028, 'disguise': 2029, 'pig': 2030, 'herd': 2031, 'sheep': 2032, 'firefighter': 2033, 'chances': 2034, 'bigger': 2035, 'kennedy': 2036, 'misfit': 2037, 'heroes': 2038, 'bison': 2039, \"daughter's\": 2040, 'title': 2041, 'potential': 2042, 'returning': 2043, 'drives': 2044, 'copper': 2045, 'pursue': 2046, 'chauffeur': 2047, 'genetic': 2048, 'downtown': 2049, 'waters': 2050, 'odie': 2051, 'poses': 2052, 'axel': 2053, 'foley': 2054, 'chucky': 2055, 'valuable': 2056, 'bubble': 2057, 'bb': 2058, 'stallion': 2059, 'elin': 2060, 'attention': 2061, 'demon': 2062, 'depicting': 2063, 'pazuzu': 2064, 'dennis': 2065, 'cruise': 2066, 'few': 2067, 'chemical': 2068, 'bus': 2069, 'kayako': 2070, 'hill': 2071, 'cave': 2072, 'wizard': 2073, 'jesus': 2074, 'nazareth': 2075, 'jerusalem': 2076, 'eventual': 2077, 'common': 2078, 'decency': 2079, 'godfather': 2080, 'mantel': 2081, 'diner': 2082, 'intertwine': 2083, 'portrayed': 2084, 'expands': 2085, 'tightens': 2086, 'grip': 2087, 'steals': 2088, 'sharing': 2089, 'inverse': 2090, 'task': 2091, 'planting': 2092, 'gandalf': 2093, 'aragorn': 2094, 'draw': 2095, 'gaze': 2096, 'approach': 2097, 'mount': 2098, 'wookiee': 2099, 'droids': 2100, \"empire's\": 2101, 'leia': 2102, 'meek': 2103, 'hobbit': 2104, 'shire': 2105, 'companions': 2106, 'sauron': 2107, 'stranger': 2108, 'forbidding': 2109, 'shocking': 2110, 'veteran': 2111, 'sins': 2112, 'amélie': 2113, 'naive': 2114, 'failed': 2115, 'deputy': 2116, 'grimes': 2117, 'ohio': 2118, 'toting': 2119, 'bruiser': 2120, 'twinkie': 2121, 'striving': 2122, 'uneventful': 2123, 'aimless': 2124, 'electronics': 2125, 'layabout': 2126, 'roommate': 2127, 'disrupted': 2128, 'apocalypse': 2129, 'transforms': 2130, 'rest': 2131, 'valiantly': 2132, 'enters': 2133, 'quaint': 2134, 'farming': 2135, 'quentin': 2136, 'tarantino': 2137, \"rodriguez's\": 2138, 'homage': 2139, \"'60s\": 2140, \"'70s\": 2141, 'include': 2142, 'previews': 2143, 'attractions': 2144, 'incurable': 2145, 'spreads': 2146, 'handful': 2147, 'inflicted': 2148, 'us': 2149, 'repopulate': 2150, 'according': 2151, 'catastrophe': 2152, 'nevada': 2153, 'caravan': 2154, 'umbrella': 2155, 'corp': 2156, 'producing': 2157, 'mega': 2158, 'hundreds': 2159, 'laboratory': 2160, 'experimental': 2161, 'bio': 2162, 'turning': 2163, 'thousands': 2164, 'rag': 2165, 'tag': 2166, 'infected': 2167, 'sardonic': 2168, 'hardware': 2169, 'transported': 2170, '1300': 2171, 'necronomicon': 2172, 'ski': 2173, 'confronted': 2174, 'unimaginable': 2175, 'mercy': 2176, 'sumatran': 2177, 'sick': 2178, 'nurses': 2179, 'neighbors': 2180, 'walled': 2181, 'grips': 2182, 'risen': 2183, 'w': 2184, 'traffic': 2185, 'pennsylvanians': 2186, 'barricade': 2187, 'farmhouse': 2188, 'remain': 2189, 'ghouls': 2190, 'ravaging': 2191, 'cdc': 2192, 'outbreak': 2193, 'un': 2194, 'relatives': 2195, 'filming': 2196, 'burial': 2197, 'ground': 2198, 'employees': 2199, 'warehouse': 2200, 'gas': 2201, 'vapors': 2202, 'hungry': 2203, 'ditch': 2204, 'maintain': 2205, 'sanity': 2206, 'production': 2207, \"tchaikovsky's\": 2208, 'britt': 2209, 'reid': 2210, \"dad's\": 2211, 'kato': 2212, 'extreme': 2213, 'xander': 2214, 'cage': 2215, 'unburied': 2216, 'shelter': 2217, 'pennsylvanian': 2218, 'drift': 2219, 'jail': 2220, 'conduct': 2221, 'aversion': 2222, 'hyper': 2223, 'sleep': 2224, 'listen': 2225, 'induced': 2226, 'utopias': 2227, 'coney': 2228, 'addictions': 2229, 'magicians': 2230, 'illusion': 2231, 'sacrificing': 2232, 'outwit': 2233, 'suspect': 2234, '17': 2235, 'close': 2236, 'surreal': 2237, 'holy': 2238, 'grail': 2239, 'silly': 2240, 'obstacles': 2241, 'affected': 2242, 'charges': 2243, 'accused': 2244, 'scottish': 2245, 'wallace': 2246, 'countrymen': 2247, 'rebellion': 2248, 'monoliths': 2249, 'push': 2250, 'stars': 2251, 'awesome': 2252, 'jupiter': 2253, 'h': 2254, '9000': 2255, 'traudl': 2256, 'junge': 2257, 'secretary': 2258, 'adolf': 2259, 'hitler': 2260, \"dictator's\": 2261, 'wwii': 2262, 'roman': 2263, 'general': 2264, 'exact': 2265, 'slavery': 2266, 'coincides': 2267, 'theatre': 2268, \"owner's\": 2269, 'horcruxes': 2270, 'wizarding': 2271, 'deathly': 2272, 'hallows': 2273, 'accept': 2274, 'physical': 2275, 'injustice': 2276, 'hitman': 2277, 'teaches': 2278, 'zuckerberg': 2279, 'networking': 2280, 'facebook': 2281, 'sued': 2282, 'founder': 2283, 'squeezed': 2284, 'paraplegic': 2285, 'pandora': 2286, 'orders': 2287, 'feels': 2288, 'realistic': 2289, 'toronto': 2290, 'exes': 2291, 'lizewski': 2292, 'unnoticed': 2293, 'fan': 2294, 'meaningful': 2295, 'reason': 2296, 'strung': 2297, 'highman': 2298, 'hitch': 2299, 'aspiring': 2300, 'tremblay': 2301, \"child's\": 2302, 'step': 2303, 'idolize': 2304, 'quite': 2305, 'bella': 2306, 'pacific': 2307, 'northwest': 2308, 'cullen': 2309, '108': 2310, 'insomniac': 2311, 'soap': 2312, 'evolves': 2313, 'nypd': 2314, 'several': 2315, 'nakatomi': 2316, 'plaza': 2317, 'rusesabagina': 2318, 'manager': 2319, 'houses': 2320, 'tutsi': 2321, 'hutu': 2322, 'rwanda': 2323, 'thieves': 2324, 'heat': 2325, 'biologist': 2326, 'seafarer': 2327, 'beast': 2328, 'unscrupulous': 2329, 'promoters': 2330, 'bookmakers': 2331, 'jewelers': 2332, 'priceless': 2333, 'ensue': 2334, 'rio': 2335, 'grande': 2336, 'simba': 2337, 'ascend': 2338, 'throne': 2339, 'dude': 2340, 'lebowski': 2341, 'millionaire': 2342, 'restitution': 2343, 'rug': 2344, 'ruined': 2345, 'collectors': 2346, 'enlisting': 2347, 'bowling': 2348, \"millionaire's\": 2349, 'narrowly': 2350, 'bizarre': 2351, 'rabbit': 2352, 'manipulates': 2353, 'graduating': 2354, 'emory': 2355, 'mccandless': 2356, 'abandons': 2357, 'possessions': 2358, 'gives': 2359, 'savings': 2360, 'account': 2361, 'charity': 2362, 'hitchhikes': 2363, 'characters': 2364, 'withdrawn': 2365, 'communicates': 2366, 'disheartened': 2367, 'slum': 2368, 'conditions': 2369, 'kindred': 2370, 'biotechnology': 2371, 'manipulative': 2372, 'georgia': 2373, 'conducts': 2374, 'turbulent': 2375, 'roguish': 2376, 'profiteer': 2377, 'civil': 2378, 'reconstruction': 2379, 'periods': 2380, 'awakening': 2381, 'cowboy': 2382, 'profoundly': 2383, 'threatened': 2384, 'spaceman': 2385, 'supplants': 2386, '1980': 2387, 'immigrant': 2388, 'succumbs': 2389, 'greed': 2390, \"o'conner\": 2391, 'racer': 2392, 'redeem': 2393, 'mole': 2394, 'identify': 2395, 'infiltrating': 2396, 'irish': 2397, 'boston': 2398, 'blacksmith': 2399, \"governor's\": 2400, \"jack's\": 2401, 'aware': 2402, 'iron': 2403, 'declining': 2404, 'federale': 2405, 'launches': 2406, 'hires': 2407, 'latin': 2408, 'defector': 2409, 'accuses': 2410, 'balthazar': 2411, 'blake': 2412, 'merlin': 2413, \"teacher's\": 2414, 'introverted': 2415, 'art': 2416, 'sorcery': 2417, 'morgana': 2418, 'le': 2419, 'fay': 2420, 'nineteen': 2421, 'reunites': 2422, \"queen's\": 2423, 'enrolls': 2424, 'fourth': 2425, 'july': 2426, 'weekend': 2427, 'leonidas': 2428, 'sparta': 2429, 'persians': 2430, 'thermopylae': 2431, '480': 2432, 'wrestler': 2433, 'retire': 2434, 'dispiriting': 2435, 'revolts': 2436, 'philosophy': 2437, 'nonviolent': 2438, 'protest': 2439, 'programmed': 2440, \"humanity's\": 2441, 'salvation': 2442, 'information': 2443, 'wiped': 2444, 'mathematics': 2445, 'needs': 2446, 'direction': 2447, 'oskar': 2448, 'overlooked': 2449, 'bullied': 2450, 'eli': 2451, 'peculiar': 2452, '12': 2453, 'priests': 2454, 'supremely': 2455, 'rare': 2456, 'heavyweight': 2457, 'bout': 2458, 'strives': 2459, 'distance': 2460, 'respect': 2461, 'cursed': 2462, 'hideous': 2463, '1954': 2464, 'marshal': 2465, 'criminally': 2466, 'insane': 2467, 'iraq': 2468, 'iraqis': 2469, 'buried': 2470, 'coffin': 2471, 'lighter': 2472, 'cell': 2473, 'claustrophobic': 2474, 'martine': 2475, 'offers': 2476, 'terry': 2477, 'foolproof': 2478, \"london's\": 2479, 'baker': 2480, 'roomful': 2481, 'deposit': 2482, 'boxes': 2483, 'worth': 2484, 'trove': 2485, 'dirty': 2486, 'twelfth': 2487, 'longstride': 2488, 'marauders': 2489, 'confront': 2490, 'uprising': 2491, 'normandy': 2492, 'landings': 2493, 'lines': 2494, 'paratrooper': 2495, 'pairs': 2496, 'psychopaths': 2497, 'tourists': 2498, 'islands': 2499, 'stalwart': 2500, 'watson': 2501, 'wits': 2502, 'brawn': 2503, 'basin': 2504, 'sixth': 2505, 'marked': 2506, 'hostile': 2507, 'blockade': 2508, 'dormant': 2509, 'sith': 2510, 'resurface': 2511, 'logan': 2512, 'creed': 2513, 'experimentation': 2514, 'metal': 2515, 'lined': 2516, 'wolverine': 2517, '1985': 2518, 'superheroes': 2519, 'active': 2520, 'rorschach': 2521, 'uncovering': 2522, 'change': 2523, 'we': 2524, 'sacred': 2525, 'saving': 2526, 'fugitive': 2527, 'dagger': 2528, 'enables': 2529, 'sand': 2530, 'reverse': 2531, 'crisis': 2532, 'burdened': 2533, 'allowing': 2534, 'erased': 2535, 'cast': 2536, 'timeline': 2537, 'supreme': 2538, 'parachute': 2539, 'unfamiliar': 2540, 'dependent': 2541, 'separation': 2542, 'anxiety': 2543, 'booze': 2544, 'soaked': 2545, 'pact': 2546, 'virginity': 2547, 'brutally': 2548, 'overpowered': 2549, 'hoth': 2550, 'yoda': 2551, 'boba': 2552, 'fett': 2553, 'barrier': 2554, 'reef': 2555, 'timid': 2556, 'clownfish': 2557, 'loosely': 2558, 'interrelated': 2559, 'frantic': 2560, 'whenever': 2561, 'temper': 2562, 'hazardous': 2563, 'schools': 2564, 'distracted': 2565, 'recurring': 2566, 'nightmares': 2567, 'spectre': 2568, 'disfigured': 2569, 'brutalized': 2570, 'retreat': 2571, 'attackers': 2572, \"homer's\": 2573, 'troy': 2574, 'wars': 2575, 'dooku': 2576, 'council': 2577, 'descendant': 2578, 'gods': 2579, 'stone': 2580, 'thing': 2581, 'tell': 2582, 'unplanned': 2583, 'pregnancy': 2584, 'offbeat': 2585, 'decision': 2586, 'regarding': 2587, 'discriminated': 2588, 'groups': 2589, 'clash': 2590, 'supremacist': 2591, 'brotherhood': 2592, 'pacifist': 2593, 'platonic': 2594, 'zack': 2595, 'miri': 2596, 'adult': 2597, 'roll': 2598, 'feelings': 2599, 'plea': 2600, \"family's\": 2601, 'banking': 2602, 'patrick': 2603, 'bateman': 2604, 'hides': 2605, 'ego': 2606, 'deeper': 2607, 'fantasies': 2608, 'tuesday': 2609, 'sexual': 2610, 'mutations': 2611, 'gray': 2612, 'darker': 2613, 'uncontrollable': 2614, 'persona': 2615, 'phoenix': 2616, 'causing': 2617, 'escalation': 2618, 'ailing': 2619, 'feds': 2620, 'gangsters': 2621, 'dillinger': 2622, 'nelson': 2623, 'pretty': 2624, 'floyd': 2625, 'booming': 2626, '1930s': 2627, 'thomas': 2628, 'gabriel': 2629, 'mordor': 2630, 'shifty': 2631, 'gollum': 2632, 'fellowship': 2633, 'saruman': 2634, 'hordes': 2635, 'isengard': 2636, 'recent': 2637, 'does': 2638, \"sarah's\": 2639, 'resort': 2640, 'polish': 2641, 'warsaw': 2642, 'ghetto': 2643, 'actors': 2644, 'portraying': 2645, 'jensen': 2646, 'ames': 2647, 'warden': 2648, 'industrial': 2649, 'brutalize': 2650, 'victory': 2651, 'merchant': 2652, 'transmission': 2653, 'distress': 2654, 'cycle': 2655, 'merely': 2656, 'begun': 2657, 'aang': 2658, 'avatars': 2659, 'elements': 2660, 'tribes': 2661, 'bordering': 2662, \"he'll\": 2663, 'fallen': 2664, 'venturing': 2665, 'realm': 2666, 'personnel': 2667, 'whether': 2668, 'zomcon': 2669, 'ways': 2670, 'pacify': 2671, 'pre': 2672, 'kesun': 2673, \"loder's\": 2674, '1950s': 2675, 'menial': 2676, 'chores': 2677, 'fido': 2678, 'billy': 2679, 'connolly': 2680, 'beckwith': 2681, 'jeremy': 2682, 'grey': 2683, 'womanizers': 2684, 'sneak': 2685, 'weddings': 2686, 'tinge': 2687, 'cleary': 2688, 'remake': 2689, '1951': 2690, 'science': 2691, 'counterpart': 2692, 'han': 2693, 'solo': 2694, 'jabba': 2695, 'hutt': 2696, 'dispatch': 2697, 'endor': 2698, \"emperor's\": 2699, 'pragmatic': 2700, 'paleontologist': 2701, 'touring': 2702, 'failure': 2703, \"park's\": 2704, 'cloned': 2705, 'drink': 2706, 'reps': 2707, 'enroll': 2708, 'button': 2709, 'aging': 2710, 'backwards': 2711, 'commandant': 2712, 'concentration': 2713, 'fence': 2714, 'startling': 2715, 'prophecy': 2716, 'corridors': 2717, 'paralyzed': 2718, 'initially': 2719, 'padmé': 2720, 'amidala': 2721, 'kenobi': 2722, 'crafted': 2723, 'trainer': 2724, 'sensible': 2725, 'miranda': 2726, 'priestly': 2727, 'demanding': 2728, 'editor': 2729, 'magazine': 2730, 'goaded': 2731, 'deed': 2732, 'mounting': 2733, 'jin': 2734, 'kazama': 2735, 'jun': 2736, 'slums': 2737, 'anvil': 2738, 'messages': 2739, 'intended': 2740, 'ease': 2741, 'experiencing': 2742, 'ins': 2743, 'unfolding': 2744, '1862': 2745, 'vallon': 2746, 'butcher': 2747, 'bullet': 2748, 'riddled': 2749, 'amnesia': 2750, 'elude': 2751, 'conservative': 2752, 'blaze': 2753, 'sells': 2754, \"devil's\": 2755, 'sinners': 2756, 'barely': 2757, 'forger': 2758, 'passed': 2759, 'carl': 2760, 'revels': 2761, 'pursuit': 2762, 'disturbed': 2763, 'nightly': 2764, 'sworn': 2765, 'annihilators': 2766, 'george': 2767, 'jung': 2768, 'medellín': 2769, 'pablo': 2770, 'escobar': 2771, 'established': 2772, 'cocaine': 2773, 'market': 2774, 'irritating': 2775, 'superiors': 2776, 'effectiveness': 2777, 'transferred': 2778, 'easygoing': 2779, 'object': 2780, 'fervor': 2781, 'regulations': 2782, 'hancock': 2783, 'considered': 2784, 'regularly': 2785, 'public': 2786, 'image': 2787, 'abusive': 2788, 'slave': 2789, 'tribe': 2790, 'destroyed': 2791, 'savage': 2792, 'sorcerer': 2793, 'invincible': 2794, 'briefcase': 2795, 'terminal': 2796, 'limo': 2797, 'dumber': 2798, 'hilarious': 2799, 'aspen': 2800, 'barber': 2801, 'wrongful': 2802, 'imprisonment': 2803, '1840s': 2804, 'resumes': 2805, 'forming': 2806, 'partnership': 2807, 'tenant': 2808, 'lovett': 2809, 'historian': 2810, 'templar': 2811, '2019': 2812, 'dwindling': 2813, 'fractured': 2814, 'covert': 2815, 'vamps': 2816, 'marksman': 2817, 'exile': 2818, 'coaxed': 2819, 'crossed': 2820, 'unknowing': 2821, 'outcome': 2822, 'fate': 2823, 'vienna': 2824, 'standing': 2825, 'beset': 2826, 'troubles': 2827, 'failing': 2828, 'battles': 2829, 'otto': 2830, 'octavius': 2831, 'treborn': 2832, 'blackouts': 2833, 'reading': 2834, 'journal': 2835, 'mixed': 2836, 'sunday': 2837, 'morning': 2838, '1941': 2839, 'adoptive': 2840, \"home's\": 2841, 'napier': 2842, 'clownishly': 2843, 'homicidal': 2844, 'rages': 2845, 'gathers': 2846, 'support': 2847, 'guru': 2848, 'bobby': 2849, 'dagen': 2850, 'negotiations': 2851, \"criminal's\": 2852, 'spirals': 2853, 'curious': 2854, 'unearth': 2855, 'barrels': 2856, \"time's\": 2857, 'charm': 2858, 'dominate': 2859, 'primitive': 2860, 'bourne': 2861, 'framed': 2862, 'resume': 2863, 'rampaging': 2864, 'stab': 2865, '3': 2866, 'woodsboro': 2867, '9': 2868, 'symbologist': 2869, 'langdon': 2870, 'physicist': 2871, 'vatican': 2872, 'church': 2873, 'broadway': 2874, 'gary': 2875, 'johnston': 2876, 'counter': 2877, 'terrorism': 2878, 'crumble': 2879, 'celebrities': 2880, 'acclimates': 2881, 'donning': 2882, 'costume': 2883, 'killings': 2884, \"isn't\": 2885, '47': 2886, \"'the\": 2887, \"organization'\": 2888, 'political': 2889, 'treks': 2890, 'russia': 2891, 'entrenched': 2892, 'sought': 2893, 'commandos': 2894, 'fairytale': 2895, 'swamp': 2896, 'grumpy': 2897, 'ogre': 2898, 'ranking': 2899, 'thug': 2900, 'entrusted': 2901, 'dispose': 2902, 'assembled': 2903, 'cope': 2904, 'infection': 2905, 'zealots': 2906, 'fanatically': 2907, 'festering': 2908, 'bride': 2909, 'continues': 2910, 'reclusive': 2911, 'bouncer': 2912, 'budd': 2913, 'treacherous': 2914, 'eyed': 2915, 'recollection': 2916, 'got': 2917, 'pawns': 2918, 'hostages': 2919, 'populated': 2920, 'chaotic': 2921, '1968': 2922, '1983': 2923, 'francisco': 2924, 'zodiac': 2925, 'unidentified': 2926, 'individual': 2927, 'terrorizes': 2928, 'california': 2929, 'challenges': 2930, 'say': 2931, 'yes': 2932, 'superpowers': 2933, 'cosmic': 2934, 'exposure': 2935, 'oppose': 2936, 'von': 2937, 'trinity': 2938, 'morpheus': 2939, 'revolt': 2940, 'arsenal': 2941, 'extraordinary': 2942, 'weaponry': 2943, 'systematic': 2944, 'repression': 2945, 'italy': 2946, 'croker': 2947, 'met': 2948, 'threatening': 2949, 'pushes': 2950, 'situations': 2951, 'everyday': 2952, 'hall': 2953, 'paleoclimatologist': 2954, 'plunges': 2955, 'age': 2956, 'mike': 2957, \"o'donnell\": 2958, 'ungrateful': 2959, 'rewrite': 2960, 'tried': 2961, 'bridge': 2962, 'jumped': 2963, 'vortex': 2964, 'swears': 2965, 'unspeakable': 2966, 'appointed': 2967, 'integrated': 2968, 'mit': 2969, 'experts': 2970, 'counting': 2971, 'subsequently': 2972, 'took': 2973, 'winnings': 2974, 'bohemian': 2975, 'poet': 2976, 'courtesan': 2977, 'nightclub': 2978, 'covets': 2979, 'realtor': 2980, 'mansion': 2981, 'stryker': 2982, 'kidnaps': 2983, 'attacks': 2984, 'louvre': 2985, 'paintings': 2986, 'protected': 2987, 'shake': 2988, 'foundations': 2989, 'christianity': 2990, 'willy': 2991, 'crosses': 2992, 'reuben': 2993, 'tishkoff': 2994, 'rapper': 2995, 'struggling': 2996, 'aspect': 2997, 'rap': 2998, 'harder': 2999, 'cab': 3000, 'engaging': 3001, 'richard': 3002, 'riddick': 3003, 'vin': 3004, 'diesel': 3005, 'helion': 3006, 'necromongers': 3007, 'convert': 3008, 'baptiste': 3009, 'grenouille': 3010, 'olfactory': 3011, 'finest': 3012, 'perfume': 3013, 'scent': 3014, 'maxwell': 3015, 'intellectual': 3016, 'kaos': 3017, 'magnificent': 3018, 'candy': 3019, 'gates': 3020, 'wilkes': 3021, \"booth's\": 3022, \"ancestor's\": 3023, 'abraham': 3024, 'lincoln': 3025, 'fascist': 3026, 'militaristic': 3027, 'wage': 3028, 'bugs': 3029, 'exceptionally': 3030, 'adept': 3031, 'firm': 3032, 'biggest': 3033, '2035': 3034, 'technophobic': 3035, 'disposing': 3036, 'globe': 3037, 'trotting': 3038, 'might': 3039, 'having': 3040, 'affair': 3041, 'smuggle': 3042, 'jo': 3043, 'harding': 3044, 'chasers': 3045, 'brink': 3046, 'weather': 3047, 'alert': 3048, 'tornadoes': 3049, 'maiden': 3050, \"china's\": 3051, 'heroines': 3052, 'jennifer': 3053, 'untraceable': 3054, 'posts': 3055, 'internet': 3056, 'chase': 3057, 'transporter': 3058, 'surfaces': 3059, 'loyal': 3060, 'dedicated': 3061, 'hong': 3062, 'kong': 3063, 'reckless': 3064, 'loudmouthed': 3065, \"consul's\": 3066, 'arrest': 3067, 'erickson': 3068, 'draws': 3069, 'nearer': 3070, 'executives': 3071, 'destructing': 3072, 'kimberly': 3073, 'multiple': 3074, 'blocks': 3075, 'ramp': 3076, 'trooper': 3077, 'bertram': 3078, 'desired': 3079, 'miraculously': 3080, 'minutes': 3081, 'annoying': 3082, 'ghosts': 3083, 'bereaved': 3084, 'flying': 3085, 'feet': 3086, 'vanishes': 3087, 'nobody': 3088, 'admit': 3089, 'clear': 3090, 'burma': 3091, 'infantry': 3092, 'cemetery': 3093, 'peasant': 3094, 'squire': 3095, 'fueled': 3096, 'week': 3097, 'moroccan': 3098, 'touching': 3099, 'locked': 3100, 'alexander': 3101, 'macedonia': 3102, 'warfare': 3103, 'conquers': 3104, 'sendup': 3105, 'accumulated': 3106, 'watched': 3107, 'dozens': 3108, 'betting': 3109, 'usd10': 3110, 'prize': 3111, 'plenty': 3112, 'cctvs': 3113, 'advisor': 3114, 'embraces': 3115, 'samurai': 3116, 'origins': 3117, 'centered': 3118, 'aristocratic': 3119, 'onetime': 3120, 'slaves': 3121, 'lycans': 3122, 'smooth': 3123, 'columnist': 3124, 'accountant': 3125, 'woo': 3126, 'compelled': 3127, 'legal': 3128, 'limited': 3129, 'period': 3130, 'amount': 3131, 'artificial': 3132, 'incompletely': 3133, 'constructed': 3134, 'scissors': 3135, 'solitary': 3136, 'introduces': 3137, 'cancer': 3138, 'ward': 3139, 'list': 3140, 'dos': 3141, 'greedy': 3142, 'moviemakers': 3143, 'skull': 3144, 'cannibalistic': 3145, 'natives': 3146, 'fantastic': 3147, \"aren't\": 3148, 'beings': 3149, 'square': 3150, 'silver': 3151, 'surfer': 3152, 'galactus': 3153, 'swap': 3154, 'homes': 3155, 'countries': 3156, 'pull': 3157, 'heists': 3158, \"ocean's\": 3159, '2001': 3160, 'robotic': 3161, 'depicted': 3162, 'september': 3163, 'athletes': 3164, '1972': 3165, 'olympics': 3166, 'fateful': 3167, 'genetics': 3168, 'transform': 3169, 'raging': 3170, 'angry': 3171, 'workaholic': 3172, 'universal': 3173, 'forward': 3174, 'rewind': 3175, 'parts': 3176, 'overrule': 3177, 'choices': 3178, 'beowulf': 3179, 'grendel': 3180, \"grendel's\": 3181, 'zion': 3182, 'itself': 3183, 'front': 3184, 'smith': 3185, 'harvey': 3186, 'nygma': 3187, 'riddler': 3188, 'amorous': 3189, 'acrobat': 3190, 'peaceful': 3191, 'driven': 3192, 'colonial': 3193, 'revolution': 3194, 'transports': 3195, 'packages': 3196, 'package': 3197, 'evidence': 3198, 'storage': 3199, 'precinct': 3200, 'wrongfully': 3201, 'expelled': 3202, 'undergrad': 3203, 'introduced': 3204, 'hooliganism': 3205, 'supermarket': 3206, 'adults': 3207, 'boarded': 3208, 'campsite': 3209, 'intentions': 3210, '60s': 3211, 'suitable': 3212, 'buzz': 3213, 'roundup': 3214, 'jessie': 3215, 'prospector': 3216, 'bullseye': 3217, 'demystified': 3218, 'sun': 3219, 'methodical': 3220, 'chev': 3221, 'injected': 3222, 'rate': 3223, 'drops': 3224, 'roth': 3225, 'commitment': 3226, 'lucy': 3227, 'forgets': 3228, 'indulgent': 3229, 'vain': 3230, 'publishing': 3231, 'privileged': 3232, 'upended': 3233, 'vehicular': 3234, 'resentful': 3235, 'unusually': 3236, 'intense': 3237, 'pattern': 3238, 'commercial': 3239, 'fishermen': 3240, 'replaced': 3241, 'battery': 3242, 'ticker': 3243, 'requires': 3244, 'jolts': 3245, 'electricity': 3246, 'protector': 3247, 'slaying': 3248, 'fakes': 3249, 'emerge': 3250, 'hair': 3251, 'stylist': 3252, 'alaskan': 3253, 'plunged': 3254, 'polices': 3255, 'monitors': 3256, 'interactions': 3257, 'tyler': 3258, 'gage': 3259, 'lifetime': 3260, 'vandalizing': 3261, 'gaining': 3262, 'scholarship': 3263, 'nora': 3264, 'campus': 3265, 'maybe': 3266, 'wooden': 3267, 'opening': 3268, 'specialises': 3269, 'checks': 3270, 'fabled': 3271, '1408': 3272, 'dolphin': 3273, 'settling': 3274, 'genuine': 3275, 'deliver': 3276, 'valentina': 3277, 'ukrainian': 3278, 'marseilles': 3279, 'odessa': 3280, 'en': 3281, 'route': 3282, 'thugs': 3283, 'intercept': 3284, \"valentina's\": 3285, 'virtual': 3286, 'implanted': 3287, 'harrowing': 3288, 'class': 3289, 'playboy': 3290, 'cryogenic': 3291, 'fashionable': 3292, 'sorority': 3293, 'fiancée': 3294, 'response': 3295, 'byrnes': 3296, 'childhoods': 3297, 'murderers': 3298, 'irresponsibly': 3299, 'glorified': 3300, '1975': 3301, 'aptly': 3302, 'goldmember': 3303, 'alagaesia': 3304, \"dragon's\": 3305, 'predestined': 3306, 'defend': 3307, 'devise': 3308, 'strategy': 3309, 'apollo': 3310, 'safely': 3311, 'spacecraft': 3312, 'undergoes': 3313, 'internal': 3314, 'jeopardy': 3315, 'disenchanted': 3316, 'chili': 3317, 'palmer': 3318, 'romancing': 3319, \"girls'\": 3320, 'greasers': 3321, 'dodgeball': 3322, 'cherished': 3323, 'fitness': 3324, 'chain': 3325, 'abortion': 3326, 'clinic': 3327, 'negated': 3328, 'angels': 3329, 'exploit': 3330, 'loop': 3331, 'reenter': 3332, 'heaven': 3333, 'widowed': 3334, 'pennsylvania': 3335, 'fields': 3336, 'suggests': 3337, 'frightening': 3338, 'wrath': 3339, 'slaughtered': 3340, 'reunion': 3341, 'illicit': 3342, 'tape': 3343, 'mailed': 3344, 'cannon': 3345, 'ecstasy': 3346, 'dislikes': 3347, 'likes': 3348, 'edvard': 3349, 'copenhagen': 3350, 'dysfunctional': 3351, 'contacts': 3352, 'congressman': 3353, 'baxter': 3354, 'ark': 3355, 'preparation': 3356, 'flood': 3357, 'darkened': 3358, 'photosensitive': 3359, 'convinced': 3360, 'parallel': 3361, 'lyra': 3362, 'belacqua': 3363, 'journeys': 3364, 'experiments': 3365, 'prohibition': 3366, 'eliot': 3367, 'ness': 3368, 'al': 3369, 'capone': 3370, 'rampant': 3371, 'hand': 3372, 'shakes': 3373, 'rigid': 3374, 'identifying': 3375, 'mafia': 3376, 'expense': 3377, 'bookshop': 3378, 'horseback': 3379, 'tribesmen': 3380, 'designated': 3381, 'install': 3382, 'rebellious': 3383, 'artie': 3384, 'coup': 3385, \"d'état\": 3386, 'jilted': 3387, \"barrie's\": 3388, 'inspired': 3389, 'brings': 3390, 'orphanage': 3391, 'handicapped': 3392, 'invisible': 3393, 'lazy': 3394, 'grad': 3395, 'impress': 3396, 'foster': 3397, 'delivered': 3398, 'cousin': 3399, 'olaf': 3400, 'plotting': 3401, \"parents'\": 3402, 'vast': 3403, 'staying': 3404, 'assailants': 3405, '200': 3406, 'hybrid': 3407, 'pirates': 3408, 'reaching': 3409, 'mere': 3410, 'seconds': 3411, 'demolished': 3412, 'construction': 3413, 'journeyman': 3414, 'swept': 3415, 'prefect': 3416, 'penning': 3417, 'edition': 3418, \"hitchhiker's\": 3419, 'racetrack': 3420, 'nonetheless': 3421, 'flight': 3422, 'attendant': 3423, 'nabbed': 3424, 'buznik': 3425, 'wrongly': 3426, 'sentenced': 3427, 'anger': 3428, 'instructor': 3429, 'diablo': 3430, 'lonely': 3431, 'landscape': 3432, 'attractive': 3433, 'spirited': 3434, 'toward': 3435, 'older': 3436, 'freeze': 3437, 'ivy': 3438, 'freezing': 3439, 'blade': 3440, 'nightstalkers': 3441, 'challenging': 3442, 'transylvania': 3443, \"frankenstein's\": 3444, 'nefarious': 3445, 'purposes': 3446, 'aileen': 3447, 'wuornos': 3448, 'daytona': 3449, 'pretend': 3450, 'receive': 3451, 'domestic': 3452, 'benefits': 3453, 'michelle': 3454, 'gathering': 3455, \"jim's\": 3456, \"michelle's\": 3457, 'moorish': 3458, 'companion': 3459, 'nottingham': 3460, 'outlaw': 3461, 'annie': 3462, 'hallie': 3463, 'separated': 3464, 'wayward': 3465, 'backpackers': 3466, 'slovak': 3467, 'expectations': 3468, 'cannibals': 3469, 'civilization': 3470, 'trappers': 3471, 'goku': 3472, 'piccolo': 3473, 'collect': 3474, 'orbs': 3475, 'wielder': 3476, 'unlimited': 3477, 'homer': 3478, 'pollutes': 3479, 'springfield': 3480, 'encased': 3481, 'dome': 3482, 'epa': 3483, 'simpsons': 3484, 'declared': 3485, 'fugitives': 3486, 'deals': 3487, 'calling': 3488, 'cruel': 3489, 'latter': 3490, 'catwoman': 3491, 'vendetta': 3492, 'disgraced': 3493, 'heiresses': 3494, \"fiona's\": 3495, 'celebrate': 3496, 'arrive': 3497, 'welcome': 3498, 'exhibits': 3499, 'display': 3500, 'robbie': 3501, 'julia': 3502, 'waitress': 3503, 'engaged': 3504, 'intervenes': 3505, 'complains': 3506, 'often': 3507, 'almighty': 3508, 'difficult': 3509, 'trusty': 3510, 'druidia': 3511, 'spaceballs': 3512, 'profile': 3513, \"institution's\": 3514, 'harlem': 3515, \"powers'\": 3516, 'mojo': 3517, 'shagless': 3518, 'gunslinger': 3519, 'el': 3520, 'mariachi': 3521, 'border': 3522, 'kingpin': 3523, 'bucho': 3524, 'etiquette': 3525, 'wooing': 3526, 'opposite': 3527, 'directly': 3528, 'reveal': 3529, 'dystopic': 3530, 'submerged': 3531, 'stanley': 3532, 'ipkiss': 3533, 'manic': 3534, 'wears': 3535, 'mask': 3536, 'software': 3537, 'appeal': 3538, 'dynamite': 3539, 'kay': 3540, 'restore': 3541, \"kay's\": 3542, 'rather': 3543, 'neurotic': 3544, 'ant': 3545, 'totalitarian': 3546, 'affection': 3547, 'port': 3548, 'authority': 3549, 'rubble': 3550, 'shallow': 3551, 'nitta': 3552, 'sayuri': 3553, 'transcended': 3554, 'roots': 3555, \"japan's\": 3556, 'celebrated': 3557, 'geisha': 3558, 'immature': 3559, 'taught': 3560, 'grown': 3561, 'korean': 3562, 'mogul': 3563, 'development': 3564, 'jurassic': 3565, 'ingen': 3566, 'approaches': 3567, 'phase': 3568, 'sides': 3569, 'fought': 3570, 'wives': 3571, 'wait': 3572, 'nervously': 3573, 'anxiously': 3574, 'bad': 3575, 'extra': 3576, 'dimensional': 3577, 'madagascar': 3578, 'nature': 3579, 'especially': 3580, 'royal': 3581, 'prompts': 3582, 'clean': 3583, 'avert': 3584, 'dulles': 3585, 'skellington': 3586, 'confusion': 3587, 'interstellar': 3588, 'resembling': 3589, 'egyptians': 3590, 'worship': 3591, 'ra': 3592, 'bridget': 3593, 'keeps': 3594, 'victorian': 3595, 'clairvoyant': 3596, 'ripper': 3597, 'remaining': 3598, 'acrobatic': 3599, 'artifacts': 3600, 'false': 3601, 'disloyalty': 3602, 'bluntman': 3603, 'chronic': 3604, 'stoners': 3605, 'silent': 3606, 'bob': 3607, 'profit': 3608, 'screen': 3609, 'wreck': 3610, 'jfk': 3611, 'residence': 3612, 'buttoned': 3613, 'newlywed': 3614, 'strictly': 3615, 'organized': 3616, 'backwoods': 3617, 'firefly': 3618, 'wydell': 3619, 'damien': 3620, 'leito': 3621, 'peace': 3622, 'sector': 3623, 'controlled': 3624, 'bosses': 3625, 'services': 3626, 'drastic': 3627, 'measures': 3628, 'problem': 3629, 'mummified': 3630, 'imhotep': 3631, 'shipped': 3632, 'campaign': 3633, 'fiorina': 3634, '161': 3635, 'maximum': 3636, 'occur': 3637, 'shortly': 3638, 'unwelcome': 3639, 'housekeeper': 3640, 'cousins': 3641, 'bo': 3642, 'daisy': 3643, 'jesse': 3644, 'hazzard': 3645, 'county': 3646, 'hogg': 3647, 'coltrane': 3648, 'calamity': 3649, \"randal's\": 3650, 'shops': 3651, 'horizons': 3652, \"mooby's\": 3653, 'diving': 3654, 'enlisted': 3655, 'submarine': 3656, 'aquatic': 3657, 'oldman': 3658, 'tim': 3659, 'curry': 3660, 'visiting': 3661, 'employs': 3662, 'controversy': 3663, 'surrounds': 3664, 'ken': 3665, 'carter': 3666, 'benches': 3667, 'academic': 3668, 'instructors': 3669, 'pranks': 3670, 'widely': 3671, 'varying': 3672, 'personalities': 3673, 'involuntarily': 3674, 'placed': 3675, 'endless': 3676, 'maze': 3677, 'traps': 3678, 'convenience': 3679, 'clerks': 3680, 'randal': 3681, 'annoy': 3682, 'discuss': 3683, 'hockey': 3684, 'regional': 3685, 'gestapo': 3686, 'headquarters': 3687, 'cheated': 3688, 'cheating': 3689, 'reaper': 3690, 'practices': 3691, 'inadvertent': 3692, 'assuming': 3693, 'hitchhiker': 3694, 'loon': 3695, 'equally': 3696, 'fifteen': 3697, '1963': 3698, 'myers': 3699, 'escapes': 3700, 'haddonfield': 3701, 'illinois': 3702, 'lakeside': 3703, 'vermont': 3704, 'losing': 3705, 'snakes': 3706, 'flown': 3707, 'honolulu': 3708, 'testify': 3709, 'specially': 3710, 'guinea': 3711, 'pigs': 3712, 'diabolical': 3713, 'policemen': 3714, 'dahlia': 3715, 'avenue': 3716, 'wagering': 3717, 'browning': 3718, 'readying': 3719, 'airplane': 3720, 'screams': 3721, 'flamboyant': 3722, 'austrian': 3723, 'brüno': 3724, 'decidedly': 3725, 'odd': 3726, 'ulterior': 3727, 'isla': 3728, 'sorna': 3729, 'landing': 3730, 'startles': 3731, 'inhabitants': 3732, 'evening': 3733, 'twenty': 3734, 'somethings': 3735, 'bombarded': 3736, 'disasters': 3737, 'negligent': 3738, 'performed': 3739, 'exorcism': 3740, 'hospice': 3741, 'spooky': 3742, 'orleans': 3743, \"house's\": 3744, 'paired': 3745, 'opposites': 3746, 'aside': 3747, 'differences': 3748, 'catch': 3749, 'smugglers': 3750, 'potheads': 3751, 'partying': 3752, 'parked': 3753, 'scheming': 3754, 'fools': 3755, 'forest': 3756, 'repay': 3757, 'sprawl': 3758, 'popped': 3759, 'hibernating': 3760, 'handle': 3761, 'unstable': 3762, 'brood': 3763, 'thirteenth': 3764, 'birthday': 3765, 'distant': 3766, 'oppressed': 3767, 'enslaved': 3768, 'host': 3769, 'dangers': 3770, 'finishing': 3771, 'comet': 3772, 'nears': 3773, 'prepares': 3774, 'algonquin': 3775, 'colonists': 3776, 'seventeenth': 3777, 'virginia': 3778, 'wannabes': 3779, 'bargained': 3780, 'del': 3781, 'fuegos': 3782, 'wonderland': 3783, 'hearts': 3784, 'fading': 3785, 'leisurely': 3786, 'worse': 3787, 'penguins': 3788, 'mates': 3789, 'song': 3790, 'sing': 3791, 'tap': 3792, 'chimera': 3793, 'sized': 3794, 'elf': 3795, 'nyc': 3796, 'exists': 3797, 'need': 3798, 'chauvinistic': 3799, 'advertising': 3800, 'acquires': 3801, 'hear': 3802, 'thinking': 3803, 'raf': 3804, 'camping': 3805, 'vacationing': 3806, 'parasitic': 3807, 'outer': 3808, \"years'\": 3809, 'code': 3810, '2006': 3811, 'witch': 3812, '2005': 3813, '20': 3814, 'celebs': 3815, '4': 3816, 'orphans': 3817, 'concerning': 3818, 'malevolently': 3819, 'mischievous': 3820, 'f': 3821, 'miss': 3822, 'pageant': 3823, 'event': 3824, 'quincy': 3825, 'archibald': 3826, \"won't\": 3827, 'cover': 3828, \"son's\": 3829, 'transplant': 3830, 'gadgets': 3831, 'reactivated': 3832, 'oss': 3833, 'twisted': 3834, 'relocated': 3835, 'wyoming': 3836, 'protection': 3837, 'doa': 3838, 'invitational': 3839, 'contest': 3840, 'organizer': 3841, 'hide': 3842, 'endowed': 3843, 'reflexes': 3844, 'walks': 3845, 'thin': 3846, 'doggedly': 3847, 'fascinated': 3848, 'personas': 3849, 'cindy': 3850, 'tapes': 3851, 'overworked': 3852, 'switch': 3853, 'bodies': 3854, 'adapt': 3855, 'freaky': 3856, 'friday': 3857, 'freewheeling': 3858, 'pursuing': 3859, 'any': 3860, 'induce': 3861, 'china': 3862, 'obtain': 3863, 'exclusive': 3864, 'coverage': 3865, 'bouvetøya': 3866, 'archaeologists': 3867, 'legends': 3868, 'politician': 3869, 'although': 3870, 'eager': 3871, 'cost': 3872, 'election': 3873, 'holes': 3874, 'tenth': 3875, 'anniversary': 3876, \"valentine's\": 3877, '22': 3878, 'homecoming': 3879, 'suspected': 3880, 'committing': 3881, 'flame': 3882, 'grief': 3883, 'counselor': 3884, 'root': 3885, 'disappear': 3886, 'bound': 3887, 'hook': 3888, 'maniac': 3889, 'seaside': 3890, 'horrors': 3891, 'seemed': 3892, 'breezy': 3893, 'net': 3894, 'piecing': 3895, 'gran': 3896, 'torino': 3897, 'snitch': 3898, 'huggy': 3899, 'settled': 3900, 'genovia': 3901, 'mia': 3902, 'revelation': 3903, 'primed': 3904, 'arranged': 3905, 'suitor': 3906, 'wasteland': 3907, 'agrees': 3908, 'gasoline': 3909, 'gorillas': 3910, 'belongs': 3911, '1980s': 3912, 'update': 3913, 'focuses': 3914, 'vice': 3915, 'crockett': 3916, 'tubbs': 3917, 'dangerously': 3918, 'intertwined': 3919, 'vegetarian': 3920, 'incident': 3921, '800': 3922, 'locks': 3923, 'claiming': 3924, 'spreading': 3925, 'elm': 3926, 'shot': 3927, 'crosshairs': 3928, 'spoiled': 3929, 'commanding': 3930, 'risks': 3931, 'demise': 3932, 'commended': 3933, \"hoffman's\": 3934, 'gruesome': 3935, 'juror': 3936, 'manipulate': 3937, 'court': 3938, 'manufacturer': 3939, 'avenging': 3940, 'ordering': 3941, 'troops': 3942, 'civilians': 3943, 'stormed': 3944, 'embassy': 3945, 'vitti': 3946, \"sobol's\": 3947, 'unemployed': 3948, 'spread': 3949, 'rumors': 3950, 'sexually': 3951, 'abusing': 3952, 'cybertronian': 3953, 'heroic': 3954, 'autobots': 3955, 'decepticons': 3956, 'studying': 3957, 'abroad': 3958, 'slovakian': 3959, 'hostel': 3960, 'reality': 3961, 'oktoberfest': 3962, 'competition': 3963, 'described': 3964, 'beer': 3965, 'conrad': 3966, 'awaiting': 3967, 'penalty': 3968, 'purchased': 3969, 'desolate': 3970, 'condemned': 3971, 'corners': 3972, 'dystopian': 3973, 'outskirts': 3974, 'whoville': 3975, 'grinch': 3976, 'ruin': 3977, \"there's\": 3978, 'secretive': 3979, 'pagan': 3980, 'sergeant': 3981, 'rally': 3982, 'prisoners': 3983, 'surround': 3984, 'intent': 3985, 'ranks': 3986, 'idealistic': 3987, \"inspiration's\": 3988, 'natured': 3989, 'inherits': 3990, 'controlling': 3991, 'conglomerate': 3992, 'riker': 3993, 'radioactive': 3994, 'dragonfly': 3995, 'except': 3996, 'parentless': 3997, \"'dog'\": 3998, 'scientific': 3999, 'hiding': 4000, 'creator': 4001, 'despite': 4002, 'colleagues': 4003, 'rigg': 4004, 'limit': 4005, 'celibate': 4006, 'forty': 4007, 'lent': 4008, 'unable': 4009, 'anything': 4010, 'jungles': 4011, 'pows': 4012, 'still': 4013, 'opium': 4014, \"lord's\": 4015, 'fortress': 4016, 'fleece': 4017, 'accomplice': 4018, 'spiderwick': 4019, 'twin': 4020, 'jared': 4021, 'grace': 4022, 'mallory': 4023, 'pulled': 4024, 'faeries': 4025, 'elektra': 4026, 'survives': 4027, 'investigator': 4028, 'snuff': 4029, 'authentic': 4030, 'æon': 4031, 'flux': 4032, 'monicans': 4033, 'chairman': 4034, 'whole': 4035, 'jersey': 4036, 'talk': 4037, 'trucker': 4038, 'cb': 4039, 'jordan': 4040, \"magnate's\": 4041, 'contaminate': 4042, 'fort': 4043, 'knox': 4044, 'guys': 4045, 'silas': 4046, 'decided': 4047, 'smoke': 4048, 'ace': 4049, 'entrance': 4050, 'exam': 4051, 'kevin': 4052, 'mccallister': 4053, 'had': 4054, 'mongo': 4055, 'ming': 4056, 'foil': 4057, 'adventurers': 4058, 'jackie': 4059, \"association's\": 4060, 'flint': 4061, 'michigan': 4062, 'tropics': 4063, 'rallies': 4064, 'ectoplasm': 4065, 'resurgence': 4066, 'spectral': 4067, 'activity': 4068, 'ghostbusters': 4069, \"alzheimer's\": 4070, 'trio': 4071, 'sharks': 4072, 'scenes': 4073, 'annual': 4074, 'surfing': 4075, 'newest': 4076, 'participant': 4077, 'comer': 4078, 'cody': 4079, 'maverick': 4080, 'wooed': 4081, 'groomed': 4082, 'complicated': 4083, 'elusive': 4084, 'gal': 4085, 'strait': 4086, 'laced': 4087, 'rose': 4088, 'relations': 4089, 'indiscretion': 4090, \"rose's\": 4091, 'chilly': 4092, 'atmosphere': 4093, 'broken': 4094, 'ella': 4095, 'neither': 4096, 'mulder': 4097, 'scully': 4098, 'duty': 4099, 'receiving': 4100, 'pertaining': 4101, 'cadet': 4102, 'professors': 4103, 'geeky': 4104, 'sexy': 4105, 'organism': 4106, 'rapidly': 4107, 'evolving': 4108, 'since': 4109, 'meteor': 4110, 'answers': 4111, 'disruption': 4112, 'houseguest': 4113, \"couple's\": 4114, 'annoyance': 4115, 'fiore': 4116, \"francisco's\": 4117, 'supplier': 4118, 'glamor': 4119, 'governess': 4120, 'rein': 4121, \"ne'er\": 4122, 'charge': 4123, 'cyrus': 4124, 'kriticos': 4125, \"pandora's\": 4126, 'assist': 4127, 'depressed': 4128, 'asylum': 4129, 'worked': 4130, 'cannes': 4131, 'separates': 4132, 'bicycling': 4133, 'affluent': 4134, 'blunders': 4135, 'embezzler': 4136, 'bates': 4137, 'motel': 4138, 'polar': 4139, 'express': 4140, 'bravery': 4141, 'mounts': 4142, 'trautman': 4143, 'formidable': 4144, 'soviet': 4145, 'afghanistan': 4146, 'counselors': 4147, 'reopen': 4148, 'baseball': 4149, 'league': 4150, 'agreeing': 4151, 'playoffs': 4152, 'lane': 4153, 'mini': 4154, 'pose': 4155, 'helper': 4156, 'department': 4157, 'stores': 4158, '1956': 4159, 'ernesto': 4160, \"'che'\": 4161, 'guevara': 4162, 'castro': 4163, 'mobilize': 4164, 'topple': 4165, 'regime': 4166, 'fulgencio': 4167, 'batista': 4168, 'thirst': 4169, 'builds': 4170, 'kevlar': 4171, 'samantha': 4172, 'caine': 4173, 'emerged': 4174, 'bell': 4175, 'ringer': 4176, 'assert': 4177, 'independence': 4178, 'gypsy': 4179, 'widower': 4180, 'piece': 4181, 'designer': 4182, 'dalmatian': 4183, 'puppies': 4184, 'fur': 4185, 'coat': 4186, 'mess': 4187, 'comedy': 4188, 'navy': 4189, 'seal': 4190, 'cook': 4191, 'battleship': 4192, 'inseparable': 4193, 'organize': 4194, 'rock': 4195, 'concert': 4196, 'wayne': 4197, 'eye': 4198, '1990': 4199, 'fragile': 4200, 'shock': 4201, 'dweeb': 4202, 'elliot': 4203, 'richards': 4204, 'granted': 4205, 'wishes': 4206, 'snare': 4207, 'allison': 4208, 'exchange': 4209, 'phantoms': 4210, 'diabolically': 4211, 'complex': 4212, 'reliable': 4213, 'tarot': 4214, 'reader': 4215, 'recovery': 4216, 'industrialist': 4217, 'monopoly': 4218, \"california's\": 4219, 'silicon': 4220, 'valley': 4221, 'knee': 4222, 'injury': 4223, 'aligns': 4224, 'renowned': 4225, 'touts': 4226, 'gambling': 4227, 'mongolian': 4228, 'showgirl': 4229, 'deloris': 4230, 'cartier': 4231, 'clarence': 4232, 'catholic': 4233, 'slated': 4234, 'closure': 4235, 'mi5': 4236, 'confident': 4237, 'unintelligent': 4238, 'ryden': 4239, 'malby': 4240, 'hint': 4241, 'bowler': 4242, 'prematurely': 4243, 'cut': 4244, 'hopes': 4245, 'success': 4246, 'riches': 4247, 'plumbers': 4248, 'mario': 4249, 'luigi': 4250, 'dimension': 4251, 'koopa': 4252, \"tulip's\": 4253, 'willis': 4254, 'quiet': 4255, 'shaken': 4256, 'pal': 4257, 'oz': 4258, 'matthew': 4259, 'perry': 4260, 'natasha': 4261, 'henstridge': 4262, 'hungarian': 4263, 'tulip': 4264, 'jill': 4265, 'amanda': 4266, 'peet': 4267, 'wendy': 4268, 'whisked': 4269, 'neverland': 4270, 'navajo': 4271, 'language': 4272, 'unbreakable': 4273, 'cypher': 4274, 'isolation': 4275, 'brainwash': 4276, 'afflicted': 4277, 'geostigma': 4278, 'stuart': 4279, 'creature': 4280, 'ritualistic': 4281, 'average': 4282, 'aquarium': 4283, 'cleaner': 4284, 'sits': 4285, 'gigolo': 4286, 'wannabe': 4287, 'sons': 4288, 'mobsters': 4289, 'midwest': 4290, 'trouble': 4291, 'anticipate': 4292, 'ominous': 4293, 'invades': 4294, 'serene': 4295, 'sunflower': 4296, 'dakota': 4297, 'solomon': 4298, 'sprinter': 4299, 'disqualified': 4300, 'olympic': 4301, 'dishonored': 4302, 'bobsled': 4303, 'mild': 4304, 'mannered': 4305, 'schemes': 4306, 'hooves': 4307, 'giselle': 4308, \"elliot's\": 4309, 'altar': 4310, 'slight': 4311, 'detour': 4312, 'weenie': 4313, 'pampered': 4314, 'pets': 4315, 'boatman': 4316, 'diplomats': 4317, 'immunity': 4318, 'activities': 4319, 'shuttle': 4320, 'genocide': 4321, 'warheads': 4322, 'detonated': 4323, 'talented': 4324, 'spotted': 4325, 'scout': 4326, 'pawn': 4327, \"chancellor's\": 4328, 'embraced': 4329, 'youth': 4330, 'pm': 4331, 'dinosaur': 4332, 'lemurs': 4333, 'arduous': 4334, 'meteorite': 4335, 'shower': 4336, 'destroys': 4337, 'unravels': 4338, 'puppet': 4339, 'cricket': 4340, 'conscience': 4341, 'worthy': 4342, 'shift': 4343, 'rental': 4344, \"stan's\": 4345, 'bff': 4346, 'penchant': 4347, 'unfortunately': 4348, 'theory': 4349, 'leslie': 4350, 'nielsen': 4351, 'retirement': 4352, 'planning': 4353, 'detonate': 4354, 'awards': 4355, 'fake': 4356, 'fabergé': 4357, 'jewel': 4358, 'octopussy': 4359, 'n': 4360, 'motorbikes': 4361, 'meth': 4362, \"brody's\": 4363, 'pruitt': 4364, 'spies': 4365, 'chip': 4366, \"player's\": 4367, 'shorter': 4368, 'shaft': 4369, 'sure': 4370, 'tycoon': 4371, 'motivated': 4372, 'babe': 4373, 'sheepdogs': 4374, 'hoggett': 4375, 'teller': 4376, 'extrasensory': 4377, 'perception': 4378, 'mysteriously': 4379, 'bakers': 4380, 'grandfather': 4381, 'deserted': 4382, 'blue': 4383, 'missionary': 4384, 'specializes': 4385, 'phenomena': 4386, 'biblical': 4387, 'plagues': 4388, '6': 4389, 'incidents': 4390, 'lethal': 4391, 'lurking': 4392, 'grand': 4393, 'scale': 4394, 'allied': 4395, 'spongebob': 4396, 'squarepants': 4397, 'bikini': 4398, 'bottom': 4399, \"neptune's\": 4400, 'beau': 4401, 'advocates': 4402, 'solar': 4403, 'hustlers': 4404, 'courts': 4405, \"fbi's\": 4406, 'profiling': 4407, 'practice': 4408, \"neighbor's\": 4409, 'breathing': 4410, 'scary': 4411, 'leon': 4412, 'redfield': 4413, 'whilst': 4414, 'plaguing': 4415, 'col': 4416, 'guile': 4417, 'cohorts': 4418, 'modern': 4419, 'jane': 4420, \"austen's\": 4421, 'novel': 4422, 'prejudice': 4423, 'unmarried': 4424, 'competes': 4425, 'repeat': 4426, 'winner': 4427, 'affections': 4428, 'inuit': 4429, 'needlessly': 4430, 'changed': 4431, 'punishment': 4432, 'talkative': 4433, 'cub': 4434, 'changing': 4435, 'ridiculed': 4436, 'enormous': 4437, 'ears': 4438, 'elephant': 4439, 'assisted': 4440, 'achieve': 4441, 'accompanies': 4442, \"miyagi's\": 4443, 'okinawa': 4444, 'visits': 4445, 'favor': 4446, 'outback': 4447, 'crocodile': 4448, 'poacher': 4449, 'invites': 4450, 'snake': 4451, 'plissken': 4452, 'autonomous': 4453, 'undesirables': 4454, 'deported': 4455, 'oppressors': 4456, 'fox': 4457, 'tod': 4458, 'hound': 4459, 'puppy': 4460, 'vow': 4461, 'robbing': 4462, 'combat': 4463, 'reprises': 4464, 'corpulent': 4465, \"suspect's\": 4466, 'roger': 4467, 'knowledge': 4468, 'procedure': 4469, 'policies': 4470, 'sell': 4471, 'confiscated': 4472, 'guns': 4473, 'ammunition': 4474, 'gangs': 4475, 'alcatraz': 4476, 'believed': 4477, 'possibly': 4478, 'prisons': 4479, 'deuce': 4480, 'whoring': 4481, 'whores': 4482, 'tarnished': 4483, 'loser': 4484, 'engineering': 4485, 'harmless': 4486, 'zealand': 4487, 'downspiral': 4488, 'solutions': 4489, 'sabotage': 4490, \"boyfriend's\": 4491, 'current': 4492, 'exiled': 4493, 'australia': 4494, 'abandoned': 4495, 'rebel': 4496, 'conical': 4497, 'crania': 4498, 'sheltered': 4499, 'uptown': 4500, 'cocker': 4501, 'spaniel': 4502, 'mutt': 4503, 'reide': 4504, 'wilbur': 4505, 'scared': 4506, 'dinner': 4507, 'charlotte': 4508, 'pen': 4509, 'happen': 4510, 'nick': 4511, 'larson': 4512, 'moments': 4513, 'photographs': 4514, 'brody': 4515, 'amity': 4516, '1966': 4517, 'western': 4518, 'haskins': 4519, 'starting': 4520, 'ncaa': 4521, 'inc': 4522, 'coolsville': 4523, 'ocp': 4524, 'jailed': 4525, 'horrified': 4526, \"abductors'\": 4527, 'traumatic': 4528, 'stress': 4529, 'disorder': 4530, 'jon': 4531, 'arbuckle': 4532, 'buys': 4533, 'abducted': 4534, \"jon's\": 4535, 'garfield': 4536, 'canine': 4537, 'missile': 4538, 'enhance': 4539, 'toys': 4540, 'programming': 4541, 'seriously': 4542, 'mouthy': 4543, 'feisty': 4544, 'taxicab': 4545, 'hot': 4546, 'tips': 4547, 'inept': 4548, 'solving': 4549, 'robberies': 4550, 'quartet': 4551, 'brazilian': 4552, 'straighten': 4553, 'haunt': 4554, 'hinton': 4555, 'murphy': 4556, 'phil': 4557, 'ryerson': 4558, 'garlin': 4559, 'laid': 4560, 'dads': 4561, 'jobs': 4562, 'inspires': 4563, 'espionage': 4564, 'cats': 4565, 'blissfully': 4566, 'marginalised': 4567, 'destructive': 4568, 'norms': 4569, 'shattering': 4570, 'complacency': 4571, 'polite': 4572, 'cinema': 4573, 'audiences': 4574, 'taggart': 4575, 'rosewood': 4576, \"bogomil's\": 4577, 'alphabet': 4578, 'associated': 4579, 'contacted': 4580, \"patients'\": 4581, 'experiences': 4582, 'cellar': 4583, 'abduction': 4584, 'revealed': 4585, 'perfect': 4586, 'mate': 4587, 'puzzling': 4588, 'cube': 4589, 'shaped': 4590, 'laws': 4591, 'always': 4592, 'apply': 4593, 'outcasts': 4594, 'neighborhood': 4595, 'ratings': 4596, 'dropping': 4597, 'themed': 4598, 'fans': 4599, 'andes': 4600, 'mountains': 4601, 'bigfoot': 4602, 'tracker': 4603, 'injured': 4604, 'burning': 4605, 'flashbacks': 4606, 'drifts': 4607, 'consciousness': 4608, 'tibetan': 4609, 'monk': 4610, 'punk': 4611, 'teaching': 4612, 'scroll': 4613, 'domination': 4614, 'responsibility': 4615, 'painting': 4616, 'cryogenically': 4617, 'frozen': 4618, 'beginning': 4619, '21st': 4620, '25th': 4621, 'thawed': 4622, 'spaceship': 4623, 'transporting': 4624, 'trespassing': 4625, 'swim': 4626, 'pool': 4627, 'cocoons': 4628, 'energized': 4629, 'youthful': 4630, 'vigor': 4631, 'interwoven': 4632, 'malevolent': 4633, 'jet': 4634, 'due': 4635, 'immune': 4636, 'blonde': 4637, 'proposes': 4638, 'niagara': 4639, 'automobile': 4640, 'mutual': 4641, 'escalates': 4642, 'conjoined': 4643, \"martha's\": 4644, 'vineyard': 4645, 'acting': 4646, 'resist': 4647, 'refuses': 4648, 'let': 4649, 'hope': 4650, 'sweden': 4651, 'agnes': 4652, 'friendless': 4653, 'sad': 4654, '500': 4655, \"architect's\": 4656, 'speak': 4657, 'beyond': 4658, 'obsession': 4659, 'slobbering': 4660, 'st': 4661, 'bernard': 4662, 'napping': 4663, 'veterinarian': 4664, 'henchmen': 4665, 'peyton': 4666, 'herbie': 4667, '53': 4668, \"wheelin'\": 4669, 'volkswagen': 4670, 'bug': 4671, 'paces': 4672, 'becoming': 4673, 'nascar': 4674, 'familiar': 4675, 'knife': 4676, 'tiffany': 4677, 'resurrected': 4678, 'gender': 4679, 'confused': 4680, 'glenda': 4681, \"dolls'\": 4682, 'underway': 4683, 'domineering': 4684, 'split': 4685, 'cliques': 4686, 'urban': 4687, 'retain': 4688, 'lankester': 4689, 'merrin': 4690, 'regan': 4691, \"macneil's\": 4692, \"merrin's\": 4693, 'initial': 4694, 'rediscovery': 4695, 'faith': 4696, 'crazy': 4697, 'helpful': 4698, 'arrived': 4699, 'gays': 4700, 'cunning': 4701, 'musical': 4702, 'presenting': 4703, \"christ's\": 4704, 'anachronistic': 4705, 'manner': 4706, 'spiders': 4707, 'noxious': 4708, 'grow': 4709, 'monumental': 4710, 'proportions': 4711, 'grossly': 4712, 'overweight': 4713, 'sherman': 4714, 'klump': 4715, 'slim': 4716, 'obnoxious': 4717, 'buddy': 4718, 'senior': 4719, 'promising': 4720, 'swimming': 4721, 'max': 4722, 'preposterous': 4723, 'crush': 4724, 'fulfilling': 4725, 'dragged': 4726, 'onto': 4727, 'goofy': 4728, 'soccer': 4729, 'kuno': 4730, 'becker': 4731, 'spot': 4732, 'madrid': 4733, 'accompanied': 4734, 'loyalties': 4735, 'acquaintances': 4736, 'superstar': 4737, 'sneakers': 4738, 'initials': 4739, 'representative': 4740, 'pass': 4741, 'ban': 4742, 'testing': 4743, 'ostracised': 4744, 'kreese': 4745, 'comrade': 4746, 'disposal': 4747, 'counterfeit': 4748, 'turbo': 4749, 'sold': 4750, 'everybody': 4751, 'else': 4752, \"team's\": 4753, 'creeper': 4754, 'winged': 4755, '23': 4756, 'feeding': 4757, 'frenzy': 4758, 'fails': 4759, 'basement': 4760, 'shoot': 4761, 'cortez': 4762, 'siblings': 4763, 'hapless': 4764, 'comatose': 4765, 'gadget': 4766, 'laden': 4767, 'tuxedo': 4768, 'astérix': 4769, 'obélix': 4770, 'numérobis': 4771, 'palace': 4772, 'cleopatra': 4773, 'scuba': 4774, 'divers': 4775, 'infested': 4776, 'basil': 4777, 'rodent': 4778, 'link': 4779, 'ratigan': 4780, 'developers': 4781, 'evict': 4782, 'outpost': 4783, 'boyd': 4784, 'regiment': 4785, 'ambushed': 4786, 'cannibal': 4787, 'collection': 4788, 'related': 4789, 'matrix': 4790, '1999': 4791, 'aback': 4792, 'announcement': 4793, 'marrying': 4794, 'teacher': 4795, 'japanese': 4796, 'stopping': 4797, 'seabourn': 4798, 'legend': 4799, 'liner': 4800, 'speeding': 4801, 'tanker': 4802, 'gremlins': 4803, \"they've\": 4804, 'skyscraper': 4805, 'possess': 4806, 'eat': 4807, 'losers': 4808, \"couldn't\": 4809, 'dates': 4810, 'pursuers': 4811, 'slightly': 4812, 'volcano': 4813, 'erupts': 4814, 'seismologist': 4815, 'screwball': 4816, 'portal': 4817, 'heather': 4818, 'langenkamp': 4819, 'nancy': 4820, 'lawrence': 4821, 'plays': 4822, 'medieval': 4823, 'sustaining': 4824, 'blow': 4825, '14th': 4826, 'presidencies': 4827, 'johnson': 4828, 'watergate': 4829, 'historical': 4830, 'unfold': 4831, 'perspective': 4832, 'alabama': 4833, 'iq': 4834, '75': 4835, 'sweetheart': 4836, 'seventeen': 4837, 'aristocrat': 4838, 'artist': 4839, 'luxurious': 4840, 'fated': 4841, 'titanic': 4842, 'skinhead': 4843, 'path': 4844, 'did': 4845, 'shadowy': 4846, 'alias': 4847, 'v': 4848, 'covering': 4849, 'karen': 4850, 'partners': 4851, 'conway': 4852, 'tommy': 4853, 'devito': 4854, 'italian': 4855, 'afghan': 4856, 'weaponized': 4857, '00': 4858, 'status': 4859, 'licence': 4860, '007': 4861, 'banker': 4862, 'poker': 4863, 'royale': 4864, 'montenegro': 4865, 'awkward': 4866, 'gains': 4867, 'befalls': 4868, 'davy': 4869, \"jones'\": 4870, 'goal': 4871, \"mankind's\": 4872, 'accomplices': 4873, 'barbossa': 4874, 'swann': 4875, 'sail': 4876, 'map': 4877, 'navigate': 4878, 'treachery': 4879, 'betrayal': 4880, 'alliances': 4881, 'decisive': 4882, 'asteroid': 4883, 'size': 4884, 'impact': 4885, 'less': 4886, 'core': 4887, 'drillers': 4888, 'witchcraft': 4889, 'delve': 4890, 'surrounding': 4891, 'prisoner': 4892, 'warning': 4893, 'scoffed': 4894, 'dumbledore': 4895, 'authoritarian': 4896, 'bureaucrat': 4897, 'seizes': 4898, 'summons': 4899, 'courage': 4900, 'friendly': 4901, 'surprised': 4902, 'agencies': 4903, 'guidance': 4904, 'mystical': 4905, '160': 4906, 'mogadishu': 4907, 'october': 4908, '1993': 4909, 'lieutenants': 4910, 'heavily': 4911, 'somalis': 4912, 'stable': 4913, 'door': 4914, 'christ': 4915, 'messiah': 4916, 'hamunaptra': 4917, 'serving': 4918, 'foreign': 4919, 'legion': 4920, 'mummy': 4921, 'reincarnation': 4922, 'descends': 4923, 'eliminating': 4924, \"country's\": 4925, 'resource': 4926, 'greg': 4927, 'proposing': 4928, \"date's\": 4929, 'biopic': 4930, 'director': 4931, 'aviator': 4932, 'howard': 4933, \"hughes'\": 4934, '1940s': 4935, 'catastrophes': 4936, 'annihilate': 4937, 'depicts': 4938, 'crucifixion': 4939, 'parapsychologists': 4940, 'removal': 4941, 'attracting': 4942, 'skeptical': 4943, 'troublemaker': 4944, 'balian': 4945, 'ibelin': 4946, 'crusades': 4947, '12th': 4948, 'defender': 4949, 'exploding': 4950, 'keeping': 4951, '50': 4952, 'mph': 4953, 'shifting': 4954, 'assumes': 4955, 'server': 4956, 'marijuana': 4957, 'wind': 4958, \"dealer's\": 4959, 'papers': 4960, 'exorcist': 4961, 'demonologist': 4962, 'constantine': 4963, 'policewoman': 4964, \"sister's\": 4965, '1955': 4966, '1885': 4967, 'fuel': 4968, 'readily': 4969, 'available': 4970, 'west': 4971, 'emmett': 4972, 'murderesses': 4973, 'develop': 4974, 'publicity': 4975, 'celebrity': 4976, 'sleazy': 4977, \"lawyer's\": 4978, 'voluptuous': 4979, 'times': 4980, 'scarred': 4981, 'stuntman': 4982, 'proof': 4983, 'revolves': 4984, 'sub': 4985, 'zero': 4986, 'woolly': 4987, 'saber': 4988, 'toothed': 4989, 'tiger': 4990, 'sloth': 4991, 'combination': 4992, 'squirrel': 4993, 'scrat': 4994, 'stan': 4995, 'rated': 4996, 'cursing': 4997, 'canada': 4998, 'blame': 4999, 'chun': 5000, 'li': 5001, 'tormented': 5002, 'abuse': 5003, 'depravity': 5004, 'comprised': 5005, 'joe': 5006, 'operating': 5007, 'pit': 5008, '2018': 5009, 'skynet': 5010, 'trusted': 5011, 'turmoil': 5012, 'contends': 5013, 'temptations': 5014, 'caving': 5015, 'explorers': 5016, 'breed': 5017, 'refusing': 5018, 'believe': 5019, 'spelunking': 5020, 'caves': 5021}\n",
            "[[   0    0    0 ...    4 2078 2079]\n",
            " [   0    0    0 ...    7   98  330]\n",
            " [   0    0    0 ...  613    5 1197]\n",
            " ...\n",
            " [   0    0    0 ... 5014    5  157]\n",
            " [   0    0    0 ... 5017    4 1287]\n",
            " [   0    0    0 ...   44  215 1808]]\n"
          ]
        }
      ]
    },
    {
      "cell_type": "code",
      "metadata": {
        "colab": {
          "base_uri": "https://localhost:8080/"
        },
        "id": "rfN41MoqfKAY",
        "outputId": "0f4b533a-5689-4df7-9dba-9587f08ac06a"
      },
      "source": [
        "print(len(t.word_index))\n",
        "#with io.open(output_dir+'/tokenizer.json','w',encoding='utf-8') as f:\n",
        "#    f.write(json.dumps(t.to_json(),ensure_ascii=False))\n",
        "vocab_size = len(t.word_index) + 1 \n",
        "#this represents the number of words that we tokenize different from max_features but necessary for\n",
        "#the definition of the dimension of the embedding space\n",
        "num_categories = 1"
      ],
      "execution_count": null,
      "outputs": [
        {
          "name": "stdout",
          "output_type": "stream",
          "text": [
            "5021\n"
          ]
        }
      ]
    },
    {
      "cell_type": "markdown",
      "metadata": {
        "id": "upij_1muSHdI"
      },
      "source": [
        "#Split data into train and test "
      ]
    },
    {
      "cell_type": "code",
      "metadata": {
        "colab": {
          "base_uri": "https://localhost:8080/"
        },
        "id": "lF47IhSSVhyG",
        "outputId": "1f2c32c1-29cc-40f4-9c36-a99d8e36e9c8"
      },
      "source": [
        "X_train, X_test, y_train, y_test = train_test_split(descr_sequences, short_df['age rate'], test_size=0.1, random_state=42)\n",
        "\n",
        "\n",
        "print(np.array(X_train))"
      ],
      "execution_count": null,
      "outputs": [
        {
          "name": "stdout",
          "output_type": "stream",
          "text": [
            "[[   0    0    0 ...    7  267   80]\n",
            " [   0    0    0 ... 2474   69  965]\n",
            " [   0    0    0 ...  262    4 2262]\n",
            " ...\n",
            " [   0    0    0 ...    1  201 1101]\n",
            " [   0    0    0 ... 1170 1340 1548]\n",
            " [   0    0    0 ...   39 2452   89]]\n"
          ]
        }
      ]
    },
    {
      "cell_type": "code",
      "metadata": {
        "colab": {
          "base_uri": "https://localhost:8080/"
        },
        "id": "1hxmfWndU6Uy",
        "outputId": "3c905210-8023-4847-a823-8a354010b6a9"
      },
      "source": [
        "l = len(X_train[102])\n",
        "print(l)\n",
        "#print(y_train)\n",
        "\n"
      ],
      "execution_count": null,
      "outputs": [
        {
          "name": "stdout",
          "output_type": "stream",
          "text": [
            "300\n"
          ]
        }
      ]
    },
    {
      "cell_type": "markdown",
      "metadata": {
        "id": "NW4MLy6EZ4ob"
      },
      "source": [
        "# Model and Train"
      ]
    },
    {
      "cell_type": "code",
      "metadata": {
        "colab": {
          "base_uri": "https://localhost:8080/"
        },
        "id": "qDUiVsQmZ5r3",
        "outputId": "64a9e217-861f-473d-cdf3-dbf6f46c5bc0"
      },
      "source": [
        "model = tf.keras.models.Sequential([\n",
        "  tf.keras.layers.Embedding(input_dim=vocab_size,\n",
        "                           output_dim=embedding_dim,\n",
        "                           input_length=maxlen),\n",
        "  tf.keras.layers.Flatten(),\n",
        "  tf.keras.layers.Dense(2000,activation='relu'),\n",
        "  tf.keras.layers.Dense(500,activation='relu'),\n",
        "  tf.keras.layers.Dense(100,activation='relu'),\n",
        "  tf.keras.layers.Dense(num_categories, activation=tf.nn.sigmoid)\n",
        "])\n",
        "\n",
        "model.compile(optimizer='nadam',\n",
        "              loss='categorical_crossentropy',\n",
        "              metrics=['accuracy'])\n",
        "\n",
        "modelcheckpoint = tf.keras.callbacks.ModelCheckpoint(filepath=output_dir+\n",
        "                                  \"/weights.{epoch:02d}.hdf5\")\n",
        "\n",
        "model.summary()"
      ],
      "execution_count": null,
      "outputs": [
        {
          "name": "stdout",
          "output_type": "stream",
          "text": [
            "Model: \"sequential_2\"\n",
            "_________________________________________________________________\n",
            " Layer (type)                Output Shape              Param #   \n",
            "=================================================================\n",
            " embedding_2 (Embedding)     (None, 300, 64)           321408    \n",
            "                                                                 \n",
            " flatten_2 (Flatten)         (None, 19200)             0         \n",
            "                                                                 \n",
            " dense_8 (Dense)             (None, 2000)              38402000  \n",
            "                                                                 \n",
            " dense_9 (Dense)             (None, 500)               1000500   \n",
            "                                                                 \n",
            " dense_10 (Dense)            (None, 100)               50100     \n",
            "                                                                 \n",
            " dense_11 (Dense)            (None, 1)                 101       \n",
            "                                                                 \n",
            "=================================================================\n",
            "Total params: 39,774,109\n",
            "Trainable params: 39,774,109\n",
            "Non-trainable params: 0\n",
            "_________________________________________________________________\n"
          ]
        }
      ]
    },
    {
      "cell_type": "code",
      "metadata": {
        "colab": {
          "base_uri": "https://localhost:8080/"
        },
        "id": "QuoF-sk5-fVz",
        "outputId": "1c88fcba-5e03-4050-ffb6-0e85d7c1e7de"
      },
      "source": [
        "#embedding level\n",
        "n_dim, n_unique_words, n_dim*n_unique_words"
      ],
      "execution_count": null,
      "outputs": [
        {
          "data": {
            "text/plain": [
              "(64, 5000, 320000)"
            ]
          },
          "execution_count": 26,
          "metadata": {},
          "output_type": "execute_result"
        }
      ]
    },
    {
      "cell_type": "code",
      "metadata": {
        "colab": {
          "base_uri": "https://localhost:8080/"
        },
        "id": "i0zQgJdk_GKg",
        "outputId": "0b35c20f-8d9f-4dea-82e7-075573a6845b"
      },
      "source": [
        "#flatten\n",
        "max_decription_length, n_dim, n_dim*max_decription_length"
      ],
      "execution_count": null,
      "outputs": [
        {
          "data": {
            "text/plain": [
              "(100, 64, 6400)"
            ]
          },
          "execution_count": 19,
          "metadata": {},
          "output_type": "execute_result"
        }
      ]
    },
    {
      "cell_type": "code",
      "metadata": {
        "colab": {
          "base_uri": "https://localhost:8080/"
        },
        "id": "uvwsE8tX_ipm",
        "outputId": "1be897ed-708d-439d-a52c-b6d99009180a"
      },
      "source": [
        "#dense\n",
        "n_dense, n_dim*max_decription_length*n_dense+n_dense #weights + biases"
      ],
      "execution_count": null,
      "outputs": [
        {
          "data": {
            "text/plain": [
              "(64, 409664)"
            ]
          },
          "execution_count": 52,
          "metadata": {},
          "output_type": "execute_result"
        }
      ]
    },
    {
      "cell_type": "code",
      "metadata": {
        "colab": {
          "base_uri": "https://localhost:8080/"
        },
        "id": "TQcXvJnR_3mc",
        "outputId": "a6b27ab9-9291-427e-ab8c-ddb0434e868f"
      },
      "source": [
        "#output\n",
        "n_dense + 1"
      ],
      "execution_count": null,
      "outputs": [
        {
          "data": {
            "text/plain": [
              "65"
            ]
          },
          "execution_count": 54,
          "metadata": {},
          "output_type": "execute_result"
        }
      ]
    },
    {
      "cell_type": "markdown",
      "metadata": {
        "id": "h9Qef1oGBp83"
      },
      "source": [
        "#Configure model"
      ]
    },
    {
      "cell_type": "code",
      "metadata": {
        "colab": {
          "base_uri": "https://localhost:8080/"
        },
        "id": "ZamjHmEIBGGN",
        "outputId": "681a24a2-4f50-427c-8758-6b9af3cfc973"
      },
      "source": [
        "model.compile(loss='binary_crossentropy', optimizer='nadam', metrics=['accuracy'])\n",
        "\n",
        "\n",
        "modelcheckpoint = ModelCheckpoint(filepath=output_dir+\n",
        "                                  \"/weights.{epoch:02d}.hdf5\")\n",
        "callbacks=[modelcheckpoint]\n",
        "\n",
        "\n",
        "\n",
        "if not os.path.exists(output_dir):\n",
        "    os.makedirs(output_dir)\n",
        "\n",
        "model.fit(X_train.astype('float32'),\n",
        "          np.array(y_train).astype('float32').reshape((-1,1)), \n",
        "          batch_size=batch_size, epochs=epochs, verbose=1, \n",
        "          validation_data=(X_test.astype('float32'), \n",
        "          np.array(y_test).astype('float32').reshape((-1,1))), callbacks=callbacks)"
      ],
      "execution_count": null,
      "outputs": [
        {
          "name": "stdout",
          "output_type": "stream",
          "text": [
            "Epoch 1/10\n",
            "23/23 [==============================] - 17s 697ms/step - loss: 0.7636 - accuracy: 0.5326 - val_loss: 0.6892 - val_accuracy: 0.5443\n",
            "Epoch 2/10\n",
            "23/23 [==============================] - 19s 847ms/step - loss: 0.6911 - accuracy: 0.5368 - val_loss: 0.7987 - val_accuracy: 0.5443\n",
            "Epoch 3/10\n",
            "23/23 [==============================] - 16s 707ms/step - loss: 0.6970 - accuracy: 0.5467 - val_loss: 0.7467 - val_accuracy: 0.5443\n",
            "Epoch 4/10\n",
            "23/23 [==============================] - 16s 706ms/step - loss: 0.6633 - accuracy: 0.5737 - val_loss: 1.4685 - val_accuracy: 0.5443\n",
            "Epoch 5/10\n",
            "23/23 [==============================] - 16s 708ms/step - loss: 0.3625 - accuracy: 0.8810 - val_loss: 1.4974 - val_accuracy: 0.4937\n",
            "Epoch 6/10\n",
            "23/23 [==============================] - 16s 688ms/step - loss: 0.0030 - accuracy: 1.0000 - val_loss: 1.6491 - val_accuracy: 0.6076\n",
            "Epoch 7/10\n",
            "23/23 [==============================] - 16s 701ms/step - loss: 1.2402e-04 - accuracy: 1.0000 - val_loss: 1.6105 - val_accuracy: 0.6329\n",
            "Epoch 8/10\n",
            "23/23 [==============================] - 16s 691ms/step - loss: 4.1458e-05 - accuracy: 1.0000 - val_loss: 1.6505 - val_accuracy: 0.6329\n",
            "Epoch 9/10\n",
            "23/23 [==============================] - 16s 691ms/step - loss: 2.6594e-05 - accuracy: 1.0000 - val_loss: 1.6830 - val_accuracy: 0.6329\n",
            "Epoch 10/10\n",
            "23/23 [==============================] - 16s 688ms/step - loss: 1.8887e-05 - accuracy: 1.0000 - val_loss: 1.7172 - val_accuracy: 0.6329\n"
          ]
        },
        {
          "data": {
            "text/plain": [
              "<keras.callbacks.History at 0x7f9d389766d0>"
            ]
          },
          "execution_count": 31,
          "metadata": {},
          "output_type": "execute_result"
        }
      ]
    },
    {
      "cell_type": "code",
      "metadata": {
        "colab": {
          "base_uri": "https://localhost:8080/"
        },
        "id": "BayeNDj8hUmw",
        "outputId": "9a9a3f38-24f9-4b77-9835-d726177a48ae"
      },
      "source": [
        "score = model.evaluate(np.array(X_test), np.array(y_test)) \n",
        "\n",
        "print(\"Test Score:\", score[0])\n",
        "print(\"Test Accuracy:\", score[1])"
      ],
      "execution_count": null,
      "outputs": [
        {
          "name": "stdout",
          "output_type": "stream",
          "text": [
            "3/3 [==============================] - 0s 55ms/step - loss: 1.7172 - accuracy: 0.6329\n",
            "Test Score: 1.717244267463684\n",
            "Test Accuracy: 0.6329113841056824\n"
          ]
        }
      ]
    },
    {
      "cell_type": "markdown",
      "metadata": {
        "id": "Ryi-R8bSdXoo"
      },
      "source": [
        "# Accuracy by Label"
      ]
    },
    {
      "cell_type": "code",
      "metadata": {
        "id": "I-0PqTQqdW6U"
      },
      "source": [
        "model.load_weights(output_dir+\"/weights.02.hdf5\") # NOT zero-indexed"
      ],
      "execution_count": null,
      "outputs": []
    },
    {
      "cell_type": "code",
      "metadata": {
        "id": "O5udOK_h-OzI"
      },
      "source": [
        "y_hat = model.predict(X_test)"
      ],
      "execution_count": null,
      "outputs": []
    },
    {
      "cell_type": "code",
      "metadata": {
        "colab": {
          "base_uri": "https://localhost:8080/"
        },
        "id": "qICDY9fFAGEJ",
        "outputId": "1f643125-8eb3-4629-f894-9e45cc776b2e"
      },
      "source": [
        "len(y_hat)"
      ],
      "execution_count": null,
      "outputs": [
        {
          "data": {
            "text/plain": [
              "79"
            ]
          },
          "execution_count": 42,
          "metadata": {},
          "output_type": "execute_result"
        }
      ]
    },
    {
      "cell_type": "code",
      "metadata": {
        "colab": {
          "base_uri": "https://localhost:8080/"
        },
        "id": "tPp9QO34AJjG",
        "outputId": "1d611738-a731-4b74-cc4b-d055eb4af0dd"
      },
      "source": [
        "y_hat[3]"
      ],
      "execution_count": null,
      "outputs": [
        {
          "data": {
            "text/plain": [
              "array([0.92573214], dtype=float32)"
            ]
          },
          "execution_count": 56,
          "metadata": {},
          "output_type": "execute_result"
        }
      ]
    },
    {
      "cell_type": "code",
      "metadata": {
        "id": "bwm0oMhCEHZ2"
      },
      "source": [
        ""
      ],
      "execution_count": null,
      "outputs": []
    },
    {
      "cell_type": "code",
      "metadata": {
        "colab": {
          "base_uri": "https://localhost:8080/"
        },
        "id": "llvc6DVhAOkM",
        "outputId": "b2894054-3cb9-4432-a90f-53201ff9e9dd"
      },
      "source": [
        "print(np.array(y_test)[3])"
      ],
      "execution_count": null,
      "outputs": [
        {
          "name": "stdout",
          "output_type": "stream",
          "text": [
            "1\n"
          ]
        }
      ]
    },
    {
      "cell_type": "code",
      "metadata": {
        "colab": {
          "base_uri": "https://localhost:8080/"
        },
        "id": "GTt4E9U5Dpmm",
        "outputId": "18f9e9ad-ee57-4f19-aedb-c29bf932d8b2"
      },
      "source": [
        "print(type(y_hat))"
      ],
      "execution_count": null,
      "outputs": [
        {
          "name": "stdout",
          "output_type": "stream",
          "text": [
            "<class 'numpy.ndarray'>\n"
          ]
        }
      ]
    },
    {
      "cell_type": "code",
      "metadata": {
        "colab": {
          "base_uri": "https://localhost:8080/",
          "height": 265
        },
        "id": "K0AaMHoTDbq8",
        "outputId": "5be9cb7f-bc4a-4ef4-b852-3c361acfc9b3"
      },
      "source": [
        "plt.hist(y_hat)\n",
        "_ = plt.axvline(x=0.5, color='orange')"
      ],
      "execution_count": null,
      "outputs": [
        {
          "data": {
            "image/png": "[encoded data removed]",
            "text/plain": [
              "<Figure size 432x288 with 1 Axes>"
            ]
          },
          "metadata": {},
          "output_type": "display_data"
        }
      ]
    },
    {
      "cell_type": "code",
      "metadata": {
        "colab": {
          "base_uri": "https://localhost:8080/",
          "height": 37
        },
        "id": "2n-TWsttEKWR",
        "outputId": "28221a60-ec57-4a95-c6c3-81d7daf10735"
      },
      "source": [
        "pct_auc = roc_auc_score(y_test, y_hat)*100.0\n",
        "\"{:0.2f}\".format(pct_auc)"
      ],
      "execution_count": null,
      "outputs": [
        {
          "data": {
            "application/vnd.google.colaboratory.intrinsic+json": {
              "type": "string"
            },
            "text/plain": [
              "'59.82'"
            ]
          },
          "execution_count": 63,
          "metadata": {},
          "output_type": "execute_result"
        }
      ]
    },
    {
      "cell_type": "code",
      "metadata": {
        "id": "Gxskx2ALEYOb"
      },
      "source": [
        "float_y_hat = []\n",
        "for y in y_hat:\n",
        "    float_y_hat.append(y[0])"
      ],
      "execution_count": null,
      "outputs": []
    },
    {
      "cell_type": "code",
      "metadata": {
        "colab": {
          "base_uri": "https://localhost:8080/",
          "height": 174
        },
        "id": "UDgf_k5OFcKk",
        "outputId": "b162d4ec-447e-4107-e627-28fc6f63e94a"
      },
      "source": [
        "ydf = pd.DataFrame(list(zip(float_y_hat, y_valid)), columns=['y_hat', 'y'])"
      ],
      "execution_count": 1,
      "outputs": [
        {
          "output_type": "error",
          "ename": "NameError",
          "evalue": "ignored",
          "traceback": [
            "\u001b[0;31m---------------------------------------------------------------------------\u001b[0m",
            "\u001b[0;31mNameError\u001b[0m                                 Traceback (most recent call last)",
            "\u001b[0;32m<ipython-input-1-b75b297a65a4>\u001b[0m in \u001b[0;36m<module>\u001b[0;34m()\u001b[0m\n\u001b[0;32m----> 1\u001b[0;31m \u001b[0mydf\u001b[0m \u001b[0;34m=\u001b[0m \u001b[0mpd\u001b[0m\u001b[0;34m.\u001b[0m\u001b[0mDataFrame\u001b[0m\u001b[0;34m(\u001b[0m\u001b[0mlist\u001b[0m\u001b[0;34m(\u001b[0m\u001b[0mzip\u001b[0m\u001b[0;34m(\u001b[0m\u001b[0mfloat_y_hat\u001b[0m\u001b[0;34m,\u001b[0m \u001b[0my_valid\u001b[0m\u001b[0;34m)\u001b[0m\u001b[0;34m)\u001b[0m\u001b[0;34m,\u001b[0m \u001b[0mcolumns\u001b[0m\u001b[0;34m=\u001b[0m\u001b[0;34m[\u001b[0m\u001b[0;34m'y_hat'\u001b[0m\u001b[0;34m,\u001b[0m \u001b[0;34m'y'\u001b[0m\u001b[0;34m]\u001b[0m\u001b[0;34m)\u001b[0m\u001b[0;34m\u001b[0m\u001b[0;34m\u001b[0m\u001b[0m\n\u001b[0m",
            "\u001b[0;31mNameError\u001b[0m: name 'pd' is not defined"
          ]
        }
      ]
    },
    {
      "cell_type": "markdown",
      "metadata": {
        "id": "hfGhSKfDdVeg"
      },
      "source": [
        "# Load/Save Model"
      ]
    },
    {
      "cell_type": "code",
      "metadata": {
        "id": "uIl2JVXOdcTm"
      },
      "source": [
        "model.save(output_dir+'/model_v001')"
      ],
      "execution_count": null,
      "outputs": []
    }
  ]
}