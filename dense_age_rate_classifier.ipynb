{
  "nbformat": 4,
  "nbformat_minor": 0,
  "metadata": {
    "colab": {
      "name": "dense_age_rate_classifier.ipynb",
      "provenance": [],
      "authorship_tag": "ABX9TyNjmPWQNIAO9n/bVixtJaxb",
      "include_colab_link": true
    },
    "kernelspec": {
      "display_name": "Python 3",
      "name": "python3"
    },
    "language_info": {
      "name": "python"
    }
  },
  "cells": [
    {
      "cell_type": "markdown",
      "metadata": {
        "id": "view-in-github",
        "colab_type": "text"
      },
      "source": [
        "<a href=\"https://colab.research.google.com/github/Teasotea/Age-Rate-Classifier-NLP/blob/main/dense_age_rate_classifier.ipynb\" target=\"_parent\"><img src=\"https://colab.research.google.com/assets/colab-badge.svg\" alt=\"Open In Colab\"/></a>"
      ]
    },
    {
      "cell_type": "markdown",
      "metadata": {
        "id": "485oDNWzjubB"
      },
      "source": [
        "\n",
        "# Dense Age Rate Classifier\n",
        "\n"
      ]
    },
    {
      "cell_type": "markdown",
      "metadata": {
        "id": "z59FxAtZkASY"
      },
      "source": [
        "###TODO: Build a dense neural net to classify  movies by their age rate."
      ]
    },
    {
      "cell_type": "code",
      "metadata": {
        "colab": {
          "base_uri": "https://localhost:8080/"
        },
        "id": "hw2_zx9T9l9v",
        "outputId": "272bcd9b-b123-4392-b699-b4d1cbc7d162"
      },
      "source": [
        "pip install geotext\n"
      ],
      "execution_count": 174,
      "outputs": [
        {
          "output_type": "stream",
          "name": "stdout",
          "text": [
            "Requirement already satisfied: geotext in /usr/local/lib/python3.7/dist-packages (0.4.0)\n"
          ]
        }
      ]
    },
    {
      "cell_type": "code",
      "metadata": {
        "id": "xBKFQo6YkOtX",
        "colab": {
          "base_uri": "https://localhost:8080/"
        },
        "outputId": "a95523ed-bfea-4cbf-8d9e-60dd72c87144"
      },
      "source": [
        "import os\n",
        "import io\n",
        "import json\n",
        "\n",
        "import tensorflow as tf\n",
        "import numpy as np\n",
        "import pandas as pd\n",
        "import matplotlib.pyplot as plt\n",
        "\n",
        "from sklearn import model_selection\n",
        "from sklearn.preprocessing import LabelEncoder \n",
        "from sklearn.model_selection import train_test_split\n",
        "from sklearn.metrics import roc_auc_score, roc_curve\n",
        "from tensorflow.keras.preprocessing.sequence import pad_sequences \n",
        "from tensorflow.keras.models import Sequential\n",
        "from tensorflow.keras.layers import Dense, Flatten, Dropout\n",
        "from tensorflow.keras.layers import Embedding \n",
        "from tensorflow.keras.callbacks import ModelCheckpoint\n",
        "from keras.preprocessing.text import Tokenizer\n",
        "\n",
        "import nltk\n",
        "from nltk import word_tokenize, sent_tokenize\n",
        "from nltk.corpus import names\n",
        "from nltk.corpus import stopwords\n",
        "from nltk.stem.porter import *\n",
        "nltk.download('punkt')\n",
        "nltk.download('stopwords')\n",
        "nltk.download('names')\n",
        "from geotext import GeoText"
      ],
      "execution_count": 305,
      "outputs": [
        {
          "output_type": "stream",
          "name": "stdout",
          "text": [
            "[nltk_data] Downloading package punkt to /root/nltk_data...\n",
            "[nltk_data]   Package punkt is already up-to-date!\n",
            "[nltk_data] Downloading package stopwords to /root/nltk_data...\n",
            "[nltk_data]   Package stopwords is already up-to-date!\n",
            "[nltk_data] Downloading package names to /root/nltk_data...\n",
            "[nltk_data]   Package names is already up-to-date!\n"
          ]
        }
      ]
    },
    {
      "cell_type": "markdown",
      "metadata": {
        "id": "MDfwdZ8vQ44b"
      },
      "source": [
        "#Load Data"
      ]
    },
    {
      "cell_type": "code",
      "metadata": {
        "colab": {
          "base_uri": "https://localhost:8080/",
          "height": 206
        },
        "id": "8oc0x2qrpMa9",
        "outputId": "c4f0fc6c-6bf7-4d93-c46f-7c3305a415ae"
      },
      "source": [
        "dataset_url = 'https://raw.githubusercontent.com/Teasotea/Age-Rate-Classifier-NLP/main/IMDB_data.csv'\n",
        "df = pd.read_csv(dataset_url)\n",
        "df.head()"
      ],
      "execution_count": 306,
      "outputs": [
        {
          "output_type": "execute_result",
          "data": {
            "text/html": [
              "<div>\n",
              "<style scoped>\n",
              "    .dataframe tbody tr th:only-of-type {\n",
              "        vertical-align: middle;\n",
              "    }\n",
              "\n",
              "    .dataframe tbody tr th {\n",
              "        vertical-align: top;\n",
              "    }\n",
              "\n",
              "    .dataframe thead th {\n",
              "        text-align: right;\n",
              "    }\n",
              "</style>\n",
              "<table border=\"1\" class=\"dataframe\">\n",
              "  <thead>\n",
              "    <tr style=\"text-align: right;\">\n",
              "      <th></th>\n",
              "      <th>Unnamed: 0</th>\n",
              "      <th>Name of movie</th>\n",
              "      <th>Description</th>\n",
              "      <th>Age rate</th>\n",
              "      <th>Year</th>\n",
              "      <th>Runtime</th>\n",
              "      <th>Genre</th>\n",
              "    </tr>\n",
              "  </thead>\n",
              "  <tbody>\n",
              "    <tr>\n",
              "      <th>0</th>\n",
              "      <td>0</td>\n",
              "      <td>The Shawshank Redemption</td>\n",
              "      <td>Two imprisoned men bond over a number of years...</td>\n",
              "      <td>R</td>\n",
              "      <td>1994</td>\n",
              "      <td>142</td>\n",
              "      <td>Drama</td>\n",
              "    </tr>\n",
              "    <tr>\n",
              "      <th>1</th>\n",
              "      <td>1</td>\n",
              "      <td>The Godfather</td>\n",
              "      <td>The Godfather follows Vito Corleone Don of the...</td>\n",
              "      <td>R</td>\n",
              "      <td>1972</td>\n",
              "      <td>175</td>\n",
              "      <td>Crime, Drama</td>\n",
              "    </tr>\n",
              "    <tr>\n",
              "      <th>2</th>\n",
              "      <td>2</td>\n",
              "      <td>Pulp Fiction</td>\n",
              "      <td>The lives of two mob hitmen, a boxer, a gangst...</td>\n",
              "      <td>R</td>\n",
              "      <td>1994</td>\n",
              "      <td>154</td>\n",
              "      <td>Crime, Drama</td>\n",
              "    </tr>\n",
              "    <tr>\n",
              "      <th>3</th>\n",
              "      <td>3</td>\n",
              "      <td>The Godfather: Part II</td>\n",
              "      <td>The early life and career of Vito Corleone in ...</td>\n",
              "      <td>R</td>\n",
              "      <td>1974</td>\n",
              "      <td>202</td>\n",
              "      <td>Crime, Drama</td>\n",
              "    </tr>\n",
              "    <tr>\n",
              "      <th>4</th>\n",
              "      <td>4</td>\n",
              "      <td>Inception</td>\n",
              "      <td>A thief who steals corporate secrets through t...</td>\n",
              "      <td>PG-13</td>\n",
              "      <td>2010</td>\n",
              "      <td>148</td>\n",
              "      <td>Action, Adventure, Sci-Fi</td>\n",
              "    </tr>\n",
              "  </tbody>\n",
              "</table>\n",
              "</div>"
            ],
            "text/plain": [
              "   Unnamed: 0  ...                                  Genre\n",
              "0           0  ...                      Drama            \n",
              "1           1  ...               Crime, Drama            \n",
              "2           2  ...               Crime, Drama            \n",
              "3           3  ...               Crime, Drama            \n",
              "4           4  ...  Action, Adventure, Sci-Fi            \n",
              "\n",
              "[5 rows x 7 columns]"
            ]
          },
          "metadata": {},
          "execution_count": 306
        }
      ]
    },
    {
      "cell_type": "code",
      "metadata": {
        "id": "3N2DvPw3Nu5c"
      },
      "source": [
        "is_r = list()\n",
        "for i in df['Age rate']:\n",
        "  if i=='R': is_r.append(1)\n",
        "  else: is_r.append(0)"
      ],
      "execution_count": 307,
      "outputs": []
    },
    {
      "cell_type": "markdown",
      "metadata": {
        "id": "-QD5YsB8iA9z"
      },
      "source": [
        "#Remove stopwords and punctuation"
      ]
    },
    {
      "cell_type": "code",
      "metadata": {
        "colab": {
          "base_uri": "https://localhost:8080/"
        },
        "id": "XoK-5CUgREhw",
        "outputId": "627a7f46-8d7f-43ac-c578-47d6d5016e1c"
      },
      "source": [
        "#define stop words: english stop words, numbers, male and female names\n",
        "numbers = ['one', 'two', 'three', 'four', 'five', 'six', 'seven', 'eight', 'nine', 'ten', 'eleven', 'twelve', \t'thirteen', 'fourteen', 'fifteen', \n",
        "'sixteen', 'seventeen', 'eighteen', 'nineteen', 'twenty', 'thirty', 'forty', 'fifty', 'sixty', 'seventy', 'eighty', 'ninety', 'hundred']\n",
        "stpwrds = stopwords.words('english') + [i.lower() for i in names.words('male.txt') + names.words('female.txt')] + numbers\n",
        "#print(stpwrds.count('into'))\n",
        "data = [i.lower() for i in df['Description']]\n",
        "data2 = []\n",
        "\n",
        "#remove city names from description\n",
        "for i in range(len(df['Description'])):\n",
        "  places = GeoText(df['Description'][i])\n",
        "  if places.cities != []:\n",
        "    for j in places.cities:\n",
        "      data[i] = data[i].replace(j.lower(), '')\n",
        "\n",
        "for i in data:\n",
        "  #remove punctuation and split\n",
        "  tr= str.maketrans(dict.fromkeys(string.punctuation))\n",
        "  new_i = i.translate(tr)\n",
        "  descr = new_i.split(sep=' ')\n",
        "\n",
        "  #remove stop words or numbers\n",
        "  for k in range(10):\n",
        "    for j in descr:\n",
        "      if j in stpwrds or j!= '' and j[0].isdigit():\n",
        "        descr.remove(j)\n",
        "    if \"\" in descr:\n",
        "      descr.remove(\"\")\n",
        "  data2.append(descr)\n",
        "\n",
        "print(df['Description'][3])\n",
        "print(data2[3])\n"
      ],
      "execution_count": 308,
      "outputs": [
        {
          "output_type": "stream",
          "name": "stdout",
          "text": [
            "The early life and career of Vito Corleone in 1920s New York City is portrayed, while his son, Michael, expands and tightens his grip on the family crime syndicate.\n",
            "['early', 'life', 'career', 'corleone', 'city', 'portrayed', 'expands', 'tightens', 'grip', 'family', 'crime', 'syndicate']\n"
          ]
        }
      ]
    },
    {
      "cell_type": "markdown",
      "metadata": {
        "id": "AKAQGDnmOLWi"
      },
      "source": [
        "#Stem words"
      ]
    },
    {
      "cell_type": "code",
      "metadata": {
        "colab": {
          "base_uri": "https://localhost:8080/"
        },
        "id": "f-Q54L9z8DxN",
        "outputId": "a3ffd07f-5034-4c8c-e271-5bb44f705471"
      },
      "source": [
        "stemmer = PorterStemmer()\n",
        "for i in range(len(data2)):\n",
        "  data2[i] = [stemmer.stem(w.lower()) for w in data2[i]]\n",
        "print(data2[3])"
      ],
      "execution_count": 309,
      "outputs": [
        {
          "output_type": "stream",
          "name": "stdout",
          "text": [
            "['earli', 'life', 'career', 'corleon', 'citi', 'portray', 'expand', 'tighten', 'grip', 'famili', 'crime', 'syndic']\n"
          ]
        }
      ]
    },
    {
      "cell_type": "code",
      "metadata": {
        "colab": {
          "base_uri": "https://localhost:8080/",
          "height": 206
        },
        "id": "JX2qYxWPiAUv",
        "outputId": "17d5384c-487f-494d-86c7-8c6a5631fa21"
      },
      "source": [
        "short_df = pd.DataFrame(list(zip(data2, is_r)),\n",
        "               columns =['description', 'age rate'])\n",
        "short_df.head()\n",
        "#with pd.option_context('display.max_rows', None, 'display.max_columns', None):\n",
        "#     print(short_df)"
      ],
      "execution_count": 310,
      "outputs": [
        {
          "output_type": "execute_result",
          "data": {
            "text/html": [
              "<div>\n",
              "<style scoped>\n",
              "    .dataframe tbody tr th:only-of-type {\n",
              "        vertical-align: middle;\n",
              "    }\n",
              "\n",
              "    .dataframe tbody tr th {\n",
              "        vertical-align: top;\n",
              "    }\n",
              "\n",
              "    .dataframe thead th {\n",
              "        text-align: right;\n",
              "    }\n",
              "</style>\n",
              "<table border=\"1\" class=\"dataframe\">\n",
              "  <thead>\n",
              "    <tr style=\"text-align: right;\">\n",
              "      <th></th>\n",
              "      <th>description</th>\n",
              "      <th>age rate</th>\n",
              "    </tr>\n",
              "  </thead>\n",
              "  <tbody>\n",
              "    <tr>\n",
              "      <th>0</th>\n",
              "      <td>[imprison, men, bond, number, year, find, sola...</td>\n",
              "      <td>1</td>\n",
              "    </tr>\n",
              "    <tr>\n",
              "      <th>1</th>\n",
              "      <td>[godfath, follow, corleon, corleon, famili, pa...</td>\n",
              "      <td>1</td>\n",
              "    </tr>\n",
              "    <tr>\n",
              "      <th>2</th>\n",
              "      <td>[live, mob, hitmen, boxer, gangster, wife, pai...</td>\n",
              "      <td>1</td>\n",
              "    </tr>\n",
              "    <tr>\n",
              "      <th>3</th>\n",
              "      <td>[earli, life, career, corleon, citi, portray, ...</td>\n",
              "      <td>1</td>\n",
              "    </tr>\n",
              "    <tr>\n",
              "      <th>4</th>\n",
              "      <td>[thief, steal, corpor, secret, use, dreamshar,...</td>\n",
              "      <td>0</td>\n",
              "    </tr>\n",
              "  </tbody>\n",
              "</table>\n",
              "</div>"
            ],
            "text/plain": [
              "                                         description  age rate\n",
              "0  [imprison, men, bond, number, year, find, sola...         1\n",
              "1  [godfath, follow, corleon, corleon, famili, pa...         1\n",
              "2  [live, mob, hitmen, boxer, gangster, wife, pai...         1\n",
              "3  [earli, life, career, corleon, citi, portray, ...         1\n",
              "4  [thief, steal, corpor, secret, use, dreamshar,...         0"
            ]
          },
          "metadata": {},
          "execution_count": 310
        }
      ]
    },
    {
      "cell_type": "markdown",
      "metadata": {
        "id": "aWZWBx-_Qsfb"
      },
      "source": [
        "# Hyperparameters\n"
      ]
    },
    {
      "cell_type": "code",
      "metadata": {
        "id": "ZscIPxf2snDQ"
      },
      "source": [
        "# output directory name:\n",
        "output_dir = 'model_output/dense'\n",
        "\n",
        "embedding_dim = 64\n",
        "max_features=10000\n",
        "maxlen=25\n",
        "\n",
        "####\n",
        "# training:\n",
        "epochs = 6 #4\n",
        "batch_size = 32#784\n",
        "\n",
        "# vector-space embedding: \n",
        "n_dim = 64\n",
        "n_unique_words = 5000 # as per Maas et al. (2011); may not be optimal\n",
        "#n_words_to_skip = 50 # ditto\n",
        "max_decription_length = 100 #max_review_length (amount of tokens(words))\n",
        "pad_type = trunc_type = 'pre' #could be 'post'\n",
        "\n",
        "# neural network architecture: \n",
        "n_dense = 64 #neurons\n",
        "dropout = 0.5 #drop 50% of neurons \n",
        "\n",
        "\n",
        "\n"
      ],
      "execution_count": 311,
      "outputs": []
    },
    {
      "cell_type": "markdown",
      "metadata": {
        "id": "CyHfKPx7SM-D"
      },
      "source": [
        "# Tokenizer"
      ]
    },
    {
      "cell_type": "code",
      "metadata": {
        "colab": {
          "base_uri": "https://localhost:8080/"
        },
        "id": "8kz1yWicnKTq",
        "outputId": "85695175-6743-4355-ef5d-3d1ed900b9eb"
      },
      "source": [
        "#tokenizer of descriptions\n",
        "t  = Tokenizer(num_words=max_features)\n",
        "t.fit_on_texts([x for x in short_df['description']])\n",
        "print(len(t.word_index))\n",
        "with io.open(output_dir+'/tokenizer.json', 'w',encoding='utf-8', ) as f:\n",
        "    f.write(json.dumps(t.to_json(),ensure_ascii=False))\n",
        "vocab_size = len(t.word_index) + 1\n",
        "num_categories = 1\n"
      ],
      "execution_count": 312,
      "outputs": [
        {
          "output_type": "stream",
          "name": "stdout",
          "text": [
            "3541\n"
          ]
        }
      ]
    },
    {
      "cell_type": "code",
      "metadata": {
        "colab": {
          "base_uri": "https://localhost:8080/"
        },
        "id": "zYqdpHsDcVqY",
        "outputId": "3965c2d4-41b0-4fdf-8854-8722c2d099b9"
      },
      "source": [
        "\n",
        "\n",
        "descr_sequences = t.texts_to_sequences([x for x in np.array(short_df['description'])])\n",
        "descr_sequences = tf.keras.preprocessing.sequence.pad_sequences(descr_sequences, maxlen=maxlen)\n",
        "print(descr_sequences[0])\n",
        "print('sequences : ',descr_sequences,'\\n')\n",
        "print('word_index : ',t.word_index)\n",
        "print(np.array(descr_sequences))"
      ],
      "execution_count": 262,
      "outputs": [
        {
          "output_type": "stream",
          "name": "stdout",
          "text": [
            "[   0    0    0    0    0    0    0    0    0    0    0    0    0  518\n",
            "  110  101  688   23    1  970  689  971  267 1566 1567]\n",
            "sequences :  [[   0    0    0 ...  267 1566 1567]\n",
            " [   0    0    0 ...   11  520 1569]\n",
            " [   0    0    0 ...  198  521  971]\n",
            " ...\n",
            " [   0    0    0 ...  465 3538  132]\n",
            " [   0    0    0 ...  411 3539  567]\n",
            " [   0    0    0 ...  969  169  511]] \n",
            "\n",
            "word_index :  {'find': 1, 'must': 2, 'young': 3, 'life': 4, 'man': 5, 'world': 6, 'group': 7, 'becom': 8, 'new': 9, 'help': 10, 'famili': 11, 'friend': 12, 'discov': 13, 'citi': 14, 'mysteri': 15, 'kill': 16, 'agent': 17, 'live': 18, 'forc': 19, 'tri': 20, 'murder': 21, 'team': 22, 'year': 23, 'save': 24, 'take': 25, 'set': 26, 'woman': 27, 'father': 28, 'time': 29, 'get': 30, 'human': 31, 'fight': 32, 'back': 33, 'school': 34, 'return': 35, 'home': 36, 'make': 37, 'stop': 38, 'use': 39, 'killer': 40, 'former': 41, 'evil': 42, 'come': 43, 'travel': 44, 'investig': 45, 'death': 46, 'go': 47, 'power': 48, 'girl': 49, 'plan': 50, 'protect': 51, 'polic': 52, 'war': 53, 'american': 54, 'battl': 55, 'boy': 56, 'meet': 57, 'small': 58, 'order': 59, 'race': 60, 'begin': 61, 'fall': 62, 'earth': 63, 'work': 64, 'secret': 65, 'lead': 66, 'student': 67, 'turn': 68, 'high': 69, 'day': 70, 'wife': 71, 'seek': 72, 'follow': 73, 'detect': 74, 'gang': 75, 'offic': 76, 'assassin': 77, 'magic': 78, 'daughter': 79, 'brother': 80, 'alien': 81, 'crime': 82, 'past': 83, 'attempt': 84, 'rescu': 85, 'learn': 86, 'survivor': 87, 'coupl': 88, 'peopl': 89, 'sent': 90, 'old': 91, 'escap': 92, 'terror': 93, 'stori': 94, 'kidnap': 95, 'dead': 96, 'teenag': 97, 'attack': 98, 'cop': 99, 'fbi': 100, 'bond': 101, 'deadli': 102, 'film': 103, 'island': 104, 'move': 105, 'seri': 106, 'planet': 107, 'children': 108, 'first': 109, 'men': 110, 'dark': 111, 'sister': 112, 'goe': 113, 'run': 114, 'govern': 115, 'hous': 116, 'call': 117, 'whose': 118, 'parent': 119, 'anoth': 120, 'beauti': 121, 'decid': 122, 'zombi': 123, 'us': 124, 'unit': 125, 'scientist': 126, 'movi': 127, 'mission': 128, 'soldier': 129, 'terrorist': 130, 'christma': 131, 'reveng': 132, 'plot': 133, 'join': 134, 'last': 135, 'monster': 136, 'surviv': 137, 'accid': 138, 'event': 139, 'mother': 140, 'trap': 141, 'crimin': 142, 'warrior': 143, 'train': 144, 'road': 145, 'danger': 146, 'boss': 147, 'involv': 148, 'togeth': 149, 'colleg': 150, 'head': 151, 'search': 152, 'struggl': 153, 'special': 154, 'accident': 155, 'space': 156, 'girlfriend': 157, 'caus': 158, 'memori': 159, 'futur': 160, 'creat': 161, 'encount': 162, 'corrupt': 163, 'known': 164, 'target': 165, 'name': 166, 'street': 167, 'adventur': 168, 'someth': 169, 'person': 170, 'organ': 171, 'pair': 172, 'destroy': 173, 'know': 174, 'across': 175, 'insid': 176, 'local': 177, 'ancient': 178, 'night': 179, 'deal': 180, 'child': 181, 'leav': 182, 'want': 183, 'oper': 184, 'haunt': 185, 'basketbal': 186, 'stalk': 187, 'game': 188, 'differ': 189, 'dream': 190, 'face': 191, 'prison': 192, 'car': 193, 'soon': 194, 'mr': 195, 'arriv': 196, 'break': 197, 'tale': 198, 'armi': 199, 'princess': 200, 'along': 201, 'america': 202, 'start': 203, 'militari': 204, 'creatur': 205, 'vacat': 206, 'nuclear': 207, 'research': 208, 'die': 209, 'taken': 210, 'victim': 211, 'leader': 212, 'experi': 213, 'ultim': 214, 'wrong': 215, 'end': 216, 'owner': 217, 'abil': 218, 'vampir': 219, 'profession': 220, 'hire': 221, 'spi': 222, 'true': 223, 'pursu': 224, 'rival': 225, 'look': 226, 'littl': 227, 'realiz': 228, 'kid': 229, 'prove': 230, 'bodi': 231, 'mob': 232, 'lord': 233, 'serial': 234, 'wake': 235, 'secur': 236, 'execut': 237, 'state': 238, 'build': 239, 'rais': 240, 'commit': 241, 'recruit': 242, 'exist': 243, 'claim': 244, 'even': 245, 'upon': 246, 'troubl': 247, 'univers': 248, 'childhood': 249, 'prevent': 250, 'quest': 251, 'hunt': 252, 'bank': 253, 'land': 254, 'enemi': 255, 'wit': 256, 'bring': 257, 'compet': 258, 'he': 259, 'seem': 260, 'real': 261, 'far': 262, 'control': 263, 'intern': 264, 'put': 265, 'centuri': 266, 'act': 267, 'career': 268, 'journey': 269, 'innoc': 270, 'plagu': 271, 'month': 272, 'marri': 273, 'releas': 274, 'machin': 275, 'parti': 276, 'wed': 277, 'awaken': 278, 'embark': 279, 'black': 280, 'yet': 281, 'uncov': 282, 'heart': 283, 'superhero': 284, 'unleash': 285, 'commun': 286, 'stolen': 287, 'drug': 288, 'spirit': 289, 'figur': 290, 'toy': 291, 'room': 292, 'determin': 293, 'british': 294, 'program': 295, 'origin': 296, 'captur': 297, 'tournament': 298, 'left': 299, 'wealthi': 300, 'visit': 301, 'demon': 302, 'fighter': 303, 'fellow': 304, 'supernatur': 305, 'base': 306, 'invad': 307, 'keep': 308, 'art': 309, 'femal': 310, 'steal': 311, 'ring': 312, 'jedi': 313, 'stranger': 314, 'around': 315, 'sheriff': 316, 'stay': 317, 'plane': 318, 'enter': 319, 'farm': 320, 'rage': 321, 'desert': 322, 'nurs': 323, 'behind': 324, 'retriev': 325, 'marin': 326, 'genet': 327, 'dog': 328, 'member': 329, 'north': 330, 'larg': 331, 'miss': 332, 'heist': 333, 'eccentr': 334, 'guard': 335, 'free': 336, 'england': 337, 'greatest': 338, 'final': 339, 'vengeanc': 340, 'wreak': 341, 'test': 342, 'elit': 343, 'busi': 344, 'like': 345, 'top': 346, 'worker': 347, 'much': 348, 'other': 349, 'clue': 350, 'shark': 351, 'violent': 352, 'track': 353, 'million': 354, 'romanc': 355, 'threaten': 356, 'undercov': 357, 'brutal': 358, 'queen': 359, 'orphan': 360, 'coach': 361, 'away': 362, 'lawyer': 363, 'rule': 364, 'curs': 365, 'disappear': 366, 'driver': 367, 'hit': 368, 'action': 369, 'complet': 370, 'anim': 371, 'ever': 372, 'solv': 373, 'howev': 374, 'popular': 375, 'crew': 376, 'suburban': 377, 'big': 378, 'camp': 379, 'suffer': 380, 'grow': 381, 'martial': 382, 'jigsaw': 383, 'arm': 384, 'dealer': 385, 'place': 386, 'teen': 387, 'english': 388, 'money': 389, 'women': 390, 'remot': 391, 'footbal': 392, 'dr': 393, 'music': 394, 'best': 395, 'vietnam': 396, 'recov': 397, 'hero': 398, 'gangster': 399, 'tragic': 400, 'doom': 401, 'knight': 402, 'pilot': 403, 'empir': 404, 'sens': 405, 'cyborg': 406, 'advanc': 407, 'shi': 408, 'transform': 409, 'cure': 410, 'strang': 411, 'unusu': 412, 'viru': 413, 'great': 414, 'produc': 415, 'flesheat': 416, 'shop': 417, 'store': 418, 'confront': 419, 'hospit': 420, 'bomb': 421, 'situat': 422, 'televis': 423, 'hord': 424, 'undead': 425, 'horror': 426, 'bumbl': 427, 'employe': 428, 'win': 429, 'buddi': 430, 'previou': 431, 'engag': 432, 'tyranni': 433, 'dictat': 434, 'ii': 435, 'jewish': 436, 'veng': 437, 'havoc': 438, 'gotham': 439, 'defeat': 440, 'book': 441, 'actor': 442, 'thing': 443, 'form': 444, 'hostag': 445, 'german': 446, 'box': 447, 'robber': 448, 'graduat': 449, 'expos': 450, 'betray': 451, 'infiltr': 452, 'cia': 453, 'legendari': 454, 'reunit': 455, 'terribl': 456, 'retir': 457, 'spend': 458, 'band': 459, 'psychopath': 460, 'long': 461, 'weapon': 462, 'chang': 463, 'histori': 464, 'villain': 465, 'jungl': 466, 'separ': 467, 'lose': 468, 'part': 469, 'sinist': 470, 'god': 471, 'stand': 472, 'develop': 473, 'defend': 474, 'boyfriend': 475, 'receiv': 476, 'nation': 477, 'promis': 478, 'hell': 479, 'robot': 480, 'second': 481, 'meanwhil': 482, 'tour': 483, 'widow': 484, 'soul': 485, 'ghost': 486, 'skill': 487, 'doctor': 488, 'everi': 489, 'domin': 490, 'adopt': 491, 'reviv': 492, 'crashland': 493, 'talk': 494, 'rogu': 495, 'theyr': 496, 'gain': 497, 'freedom': 498, 'casino': 499, 'professor': 500, 'law': 501, 'date': 502, 'secretli': 503, 'video': 504, 'ruthless': 505, 'emerg': 506, 'apart': 507, 'invas': 508, 'media': 509, 'businessman': 510, 'await': 511, 'firefight': 512, 'inadvert': 513, 'play': 514, 'believ': 515, 'chief': 516, 'drive': 517, 'imprison': 518, 'corleon': 519, 'pass': 520, 'violenc': 521, 'technolog': 522, 'given': 523, 'task': 524, 'idea': 525, 'mind': 526, 'disast': 527, 'galaxi': 528, 'also': 529, 'comput': 530, 'justic': 531, 'ident': 532, 'ruin': 533, 'aliv': 534, 'reach': 535, 'trek': 536, 'doubl': 537, 'featur': 538, 'week': 539, 'hand': 540, 'britain': 541, 'everyth': 542, 'catastroph': 543, 'hope': 544, 'refug': 545, 'mutat': 546, 'ragtag': 547, 'transport': 548, 'menac': 549, 'nazi': 550, 'overrun': 551, 'drop': 552, 'bitten': 553, 'report': 554, 'safe': 555, 'east': 556, 'bloodthirsti': 557, 'resid': 558, 'tragedi': 559, 'rise': 560, 'effort': 561, 'assist': 562, 'sport': 563, 'athlet': 564, 'sadist': 565, 'doesnt': 566, 'predat': 567, 'stage': 568, 'magician': 569, 'round': 570, 'discoveri': 571, 'tell': 572, 'chao': 573, 'teach': 574, 'social': 575, 'twin': 576, 'later': 577, 'dispatch': 578, 'uniqu': 579, 'feel': 580, 'reason': 581, 'seiz': 582, 'opportun': 583, 'reveal': 584, 'evolv': 585, 'hotel': 586, 'unknowingli': 587, 'stumbl': 588, 'near': 589, 'enlist': 590, 'vision': 591, 'possess': 592, 'cartel': 593, 'alli': 594, 'contend': 595, 'mercenari': 596, 'elimin': 597, 'fame': 598, 'diseas': 599, 'gather': 600, 'priest': 601, 'frustrat': 602, 'earn': 603, 'offer': 604, 'alter': 605, 'lover': 606, 'partner': 607, 'threat': 608, 'servic': 609, 'could': 610, 'cours': 611, 'postapocalypt': 612, 'trick': 613, 'allow': 614, 'rebel': 615, 'adapt': 616, 'fate': 617, 'clone': 618, 'count': 619, 'descend': 620, 'settl': 621, 'expect': 622, 'problem': 623, 'slowli': 624, 'notori': 625, 'master': 626, 'dc': 627, 'share': 628, 'unknown': 629, 'water': 630, 'side': 631, 'consequ': 632, 'friendship': 633, 'never': 634, 'think': 635, 'pick': 636, 'middl': 637, 'exil': 638, 'presid': 639, 'astronaut': 640, 'appear': 641, 'celebr': 642, 'gun': 643, 'continu': 644, 'spree': 645, 'challeng': 646, 'ocean': 647, 'led': 648, 'smuggl': 649, 'premonit': 650, 'desir': 651, 'wartorn': 652, 'aid': 653, 'hometown': 654, 'next': 655, 'center': 656, 'heiress': 657, 'depict': 658, 'respons': 659, 'architect': 660, 'massiv': 661, 'speci': 662, 'citizen': 663, 'museum': 664, 'found': 665, 'magnat': 666, 'open': 667, 'misfit': 668, 'isol': 669, 'midst': 670, 'penguin': 671, 'half': 672, 'author': 673, 'strand': 674, 'brought': 675, 'disguis': 676, 'held': 677, 'resist': 678, 'vow': 679, 'full': 680, 'instead': 681, 'desper': 682, 'invit': 683, 'krueger': 684, 'championship': 685, 'psychiatrist': 686, 'miyagi': 687, 'number': 688, 'eventu': 689, 'earli': 690, 'thief': 691, 'sauron': 692, 'mount': 693, 'skywalk': 694, 'vader': 695, 'hacker': 696, 'neo': 697, 'fail': 698, 'coma': 699, 'salesman': 700, 'sole': 701, 'crash': 702, 'toxic': 703, 'exploit': 704, 'includ': 705, 'attract': 706, 'spread': 707, 'popul': 708, 'area': 709, 'raccoon': 710, 'policeman': 711, 'thousand': 712, 'clerk': 713, 'facil': 714, 'enhanc': 715, 'eat': 716, 'strike': 717, 'suppli': 718, 'air': 719, 'dancer': 720, 'late': 721, 'mask': 722, 'extrem': 723, 'countrysid': 724, 'odd': 725, 'competitor': 726, 'sentenc': 727, 'aboard': 728, 'merciless': 729, 'warn': 730, 'anyon': 731, 'shatter': 732, 'horribl': 733, 'suspect': 734, 'inform': 735, 'brown': 736, 'tabl': 737, 'affect': 738, 'africa': 739, 'gener': 740, 'ago': 741, 'object': 742, 'mankind': 743, 'emperor': 744, 'nazioccupi': 745, 'wizard': 746, 'accept': 747, 'physic': 748, 'trade': 749, 'site': 750, 'comic': 751, 'mismatch': 752, 'maker': 753, 'underground': 754, 'mentor': 755, 'manag': 756, 'highend': 757, 'lapd': 758, 'russian': 759, 'incompet': 760, 'ensu': 761, 'gone': 762, 'dollar': 763, 'uncl': 764, 'collector': 765, 'manipul': 766, 'entir': 767, 'hitchhik': 768, 'frighten': 769, 'psychologist': 770, 'extraterrestri': 771, 'cuban': 772, 'bust': 773, 'pirat': 774, 'captain': 775, 'sparrow': 776, 'mad': 777, 'rampag': 778, 'renegad': 779, 'successor': 780, 'resourc': 781, 'truth': 782, 'holiday': 783, 'fade': 784, 'becam': 785, 'indian': 786, 'almost': 787, 'key': 788, 'villag': 789, 'crown': 790, 'line': 791, 'tourist': 792, 'explor': 793, 'caught': 794, 'potter': 795, 'hogwart': 796, 'mutant': 797, 'colleagu': 798, 'activ': 799, 'sprawl': 800, 'lone': 801, 'humankind': 802, 'shrek': 803, 'altern': 804, 'senior': 805, 'variou': 806, 'loos': 807, 'nightmar': 808, 'cabin': 809, 'epic': 810, 'she': 811, 'superpow': 812, 'xmen': 813, 'duo': 814, 'bargain': 815, 'hide': 816, 'delv': 817, 'mcclane': 818, 'closer': 819, 'recent': 820, 'tv': 821, 'destruct': 822, 'shoot': 823, 'inmat': 824, 'fire': 825, 'enslav': 826, 'ventur': 827, 'romant': 828, 'dare': 829, 'without': 830, 'central': 831, 'dinosaur': 832, 'behavior': 833, 'eye': 834, 'unexpect': 835, 'presenc': 836, 'initi': 837, 'demand': 838, 'fashion': 839, 'singl': 840, 'devil': 841, 'obsess': 842, 'superior': 843, 'string': 844, 'grisli': 845, 'abus': 846, 'airport': 847, 'termin': 848, 'artist': 849, 'summon': 850, 'brilliant': 851, 'lost': 852, 'infam': 853, 'homicid': 854, 'charm': 855, 'ape': 856, 'third': 857, 'conspiraci': 858, 'interpol': 859, 'eastern': 860, 'conflict': 861, 'dispos': 862, 'assembl': 863, 'religi': 864, 'foe': 865, 'oppos': 866, 'gold': 867, 'thrown': 868, 'crosshair': 869, 'mexico': 870, 'newli': 871, 'import': 872, 'colonel': 873, 'societi': 874, 'prime': 875, 'agenc': 876, 'system': 877, 'heroin': 878, 'post': 879, 'mous': 880, 'offici': 881, 'hoffman': 882, 'australian': 883, 'happen': 884, 'annoy': 885, 'fli': 886, 'rambo': 887, 'nativ': 888, 'food': 889, 'journalist': 890, 'terrifi': 891, 'woo': 892, 'stake': 893, 'wish': 894, 'countri': 895, 'green': 896, 'complic': 897, 'board': 898, 'voorhe': 899, 'industri': 900, 'afraid': 901, 'catch': 902, 'unawar': 903, 'mobster': 904, 'perform': 905, 'danc': 906, 'wood': 907, 'traumat': 908, 'egg': 909, 'love': 910, 'roof': 911, 'convinc': 912, 'fend': 913, 'inspir': 914, 'horrifi': 915, 'relationship': 916, 'werewolf': 917, 'straight': 918, 'summer': 919, 'newlyw': 920, 'deform': 921, 'natur': 922, 'reserv': 923, 'sex': 924, 'tech': 925, 'mogul': 926, 'fund': 927, 'studi': 928, 'halloween': 929, 'jone': 930, 'blind': 931, 'civilian': 932, 'surround': 933, 'academi': 934, 'grim': 935, 'groom': 936, 'deceas': 937, 'grave': 938, 'pig': 939, 'cant': 940, 'among': 941, 'intellig': 942, 'biker': 943, 'archaeolog': 944, 'transplant': 945, 'speed': 946, 'rural': 947, 'global': 948, 'serv': 949, 'engin': 950, 'enforc': 951, 'lieuten': 952, 'rigg': 953, 'overthrow': 954, 'alon': 955, 'drebin': 956, 'psychic': 957, 'success': 958, 'mythic': 959, 'patient': 960, 'made': 961, 'pose': 962, 'topsecret': 963, 'theori': 964, 'told': 965, 'spider': 966, 'robocop': 967, 'bore': 968, 'cave': 969, 'solac': 970, 'redempt': 971, 'hitmen': 972, 'boxer': 973, 'bandit': 974, 'intertwin': 975, 'portray': 976, 'grip': 977, 'syndic': 978, 'corpor': 979, 'project': 980, 'draw': 981, 'frodo': 982, 'approach': 983, 'cocki': 984, 'station': 985, 'companion': 986, 'underworld': 987, 'shock': 988, 'elabor': 989, 'decept': 990, 'rooki': 991, 'motiv': 992, 'strive': 993, 'amus': 994, 'disrupt': 995, 'insecur': 996, 'quarantin': 997, 'cult': 998, 'throughout': 999, 'uk': 1000, 'sanctuari': 1001, 'alaska': 1002, 'worldwid': 1003, 'aggress': 1004, 'midwestern': 1005, 'mall': 1006, 'supercomput': 1007, 'experiment': 1008, 'infect': 1009, 'horrif': 1010, 'medic': 1011, 'mar': 1012, 'neighbor': 1013, 'evergrow': 1014, 'epidem': 1015, 'seclud': 1016, 'pennsylvanian': 1017, 'remain': 1018, 'coast': 1019, 'cameraman': 1020, 'simultan': 1021, 'reallif': 1022, 'griev': 1023, 'role': 1024, 'swan': 1025, 'heir': 1026, 'compani': 1027, 'dad': 1028, 'bachelor': 1029, 'refuge': 1030, 'shelter': 1031, 'drift': 1032, 'avoid': 1033, 'jail': 1034, 'volunt': 1035, 'apocalypt': 1036, 'vessel': 1037, 'deep': 1038, 'simpl': 1039, 'jewelri': 1040, 'mcfli': 1041, 'delorean': 1042, 'invent': 1043, 'doc': 1044, 'mani': 1045, 'charg': 1046, 'accus': 1047, 'rape': 1048, 'gift': 1049, 'homeland': 1050, 'push': 1051, 'jung': 1052, 'bunker': 1053, 'joker': 1054, 'psycholog': 1055, 'apprentic': 1056, 'connect': 1057, 'would': 1058, 'stole': 1059, 'moon': 1060, 'torn': 1061, 'version': 1062, 'though': 1063, 'ride': 1064, 'birth': 1065, 'dont': 1066, 'classmat': 1067, 'club': 1068, 'crimeridden': 1069, 'militia': 1070, 'latest': 1071, 'beach': 1072, 'amateur': 1073, 'supposedli': 1074, 'mayhem': 1075, 'cash': 1076, 'bitter': 1077, 'slacker': 1078, 'mistaken': 1079, 'millionair': 1080, 'debt': 1081, 'suit': 1082, 'abandon': 1083, 'account': 1084, 'plantat': 1085, 'profit': 1086, 'civil': 1087, 'period': 1088, 'jealou': 1089, 'identifi': 1090, 'stark': 1091, 'health': 1092, 'tie': 1093, 'legaci': 1094, 'texa': 1095, 'senat': 1096, 'teacher': 1097, 'prodigi': 1098, 'destini': 1099, 'reign': 1100, 'enrol': 1101, 'wizardri': 1102, 'good': 1103, 'teammat': 1104, 'outsid': 1105, 'revolt': 1106, 'indestruct': 1107, 'unborn': 1108, 'devast': 1109, 'convict': 1110, 'janitor': 1111, 'mit': 1112, 'need': 1113, 'entiti': 1114, 'suprem': 1115, 'champion': 1116, 'fiction': 1117, 'regain': 1118, 'truck': 1119, 'phone': 1120, 'baker': 1121, 'treasur': 1122, 'forev': 1123, 'balanc': 1124, 'hawaiian': 1125, 'holm': 1126, 'nemesi': 1127, 'miser': 1128, 'properti': 1129, 'voldemort': 1130, 'rivalri': 1131, 'x': 1132, 'send': 1133, 'vigilant': 1134, 'hold': 1135, 'fugit': 1136, 'rumpelstiltskin': 1137, 'awri': 1138, 'prom': 1139, 'ice': 1140, 'bounti': 1141, 'banner': 1142, 'spectr': 1143, 'writer': 1144, 'assault': 1145, 'greek': 1146, 'chronicl': 1147, 'palpatin': 1148, 'obiwan': 1149, 'anakin': 1150, 'lure': 1151, 'onenight': 1152, 'show': 1153, 'doorstep': 1154, 'pregnant': 1155, 'decis': 1156, 'inevit': 1157, 'lifelong': 1158, 'respect': 1159, 'adult': 1160, 'camera': 1161, 'previous': 1162, 'thought': 1163, 'invest': 1164, 'hedonist': 1165, 'sexual': 1166, 'persona': 1167, 'magneto': 1168, 'escal': 1169, 'sea': 1170, 'babi': 1171, 'wave': 1172, 'superhuman': 1173, 'edg': 1174, 'divid': 1175, 'breakup': 1176, 'musician': 1177, 'freak': 1178, 'occurr': 1179, 'mere': 1180, 'tribe': 1181, 'kingdom': 1182, 'border': 1183, 'belov': 1184, 'educ': 1185, 'radiat': 1186, 'timmi': 1187, 'sir': 1188, 'advantag': 1189, 'classic': 1190, 'visitor': 1191, 'giant': 1192, 'theme': 1193, 'park': 1194, 'wild': 1195, 'energi': 1196, 'age': 1197, 'eightyearold': 1198, 'command': 1199, 'forbidden': 1200, 'startl': 1201, 'harden': 1202, 'smart': 1203, 'nerdi': 1204, 'who': 1205, 'done': 1206, 'pressur': 1207, 'tekken': 1208, 'husband': 1209, 'pain': 1210, 'unfold': 1211, 'point': 1212, 'boat': 1213, 'motorcycl': 1214, 'rider': 1215, 'sell': 1216, 'revel': 1217, 'increasingli': 1218, 'teleport': 1219, 'suddenli': 1220, 'annihil': 1221, 'embarrass': 1222, 'damag': 1223, 'improv': 1224, 'public': 1225, 'slave': 1226, 'warlord': 1227, 'thulsa': 1228, 'fearless': 1229, 'dumb': 1230, 'crosscountri': 1231, 'bent': 1232, 'resum': 1233, 'turnofthecenturi': 1234, 'signific': 1235, 'rememb': 1236, 'broker': 1237, 'highstak': 1238, 'ghostfac': 1239, 'nearli': 1240, 'within': 1241, 'someon': 1242, 'narcot': 1243, 'ensnar': 1244, 'polit': 1245, 'europ': 1246, 'werewolv': 1247, 'thug': 1248, 'pawn': 1249, 'perpetr': 1250, 'temporari': 1251, 'result': 1252, 'cartoonist': 1253, 'northern': 1254, 'california': 1255, 'sudden': 1256, 'plung': 1257, 'moral': 1258, 'chase': 1259, 'africanamerican': 1260, 'season': 1261, 'card': 1262, 'poor': 1263, 'lesson': 1264, 'neglect': 1265, 'archenemi': 1266, 'da': 1267, 'vinci': 1268, 'paint': 1269, 'shake': 1270, 'odyssey': 1271, 'contract': 1272, 'born': 1273, 'highli': 1274, 'chocol': 1275, 'factori': 1276, 'diari': 1277, 'bug': 1278, 'except': 1279, 'larger': 1280, 'upsid': 1281, 'divorc': 1282, 'china': 1283, 'process': 1284, 'seemingli': 1285, 'implic': 1286, 'usa': 1287, 'inspector': 1288, 'chines': 1289, 'strahm': 1290, 'insur': 1291, 'unexpectedli': 1292, 'disillus': 1293, 'thailand': 1294, 'fuel': 1295, 'videotap': 1296, 'view': 1297, 'interlock': 1298, 'quickli': 1299, 'lock': 1300, 'decad': 1301, 'hour': 1302, 'embrac': 1303, 'cultur': 1304, 'centuriesold': 1305, 'feud': 1306, 'aristocrat': 1307, 'limit': 1308, 'construct': 1309, 'ladi': 1310, 'introduc': 1311, 'pull': 1312, 'european': 1313, 'sequel': 1314, 'ensur': 1315, 'massacr': 1316, 'isra': 1317, 'olymp': 1318, 'chosen': 1319, 'aris': 1320, 'grendel': 1321, 'denmark': 1322, 'district': 1323, 'attorney': 1324, 'dent': 1325, 'circu': 1326, 'acrobat': 1327, 'sidekick': 1328, 'peac': 1329, 'farmer': 1330, 'packag': 1331, 'client': 1332, 'ask': 1333, 'hip': 1334, 'hole': 1335, 'intent': 1336, 'angel': 1337, 'chelio': 1338, 'poison': 1339, 'rate': 1340, 'shortterm': 1341, 'loss': 1342, 'mortal': 1343, 'regular': 1344, 'fake': 1345, 'debunk': 1346, 'paranorm': 1347, 'deliv': 1348, 'deliveri': 1349, 'cryogen': 1350, 'dump': 1351, 'imf': 1352, 'focker': 1353, 'mass': 1354, 'nasa': 1355, 'gym': 1356, 'onslaught': 1357, 'heritag': 1358, 'crop': 1359, 'circl': 1360, 'tape': 1361, 'mistakenli': 1362, 'flow': 1363, 'reluctantli': 1364, 'contact': 1365, 'prepar': 1366, 'feder': 1367, 'famou': 1368, 'prehistor': 1369, 'mammoth': 1370, 'evolet': 1371, 'design': 1372, 'hatch': 1373, 'pan': 1374, 'unlik': 1375, 'custodi': 1376, 'cousin': 1377, 'guid': 1378, 'instructor': 1379, 'freez': 1380, 'dracula': 1381, 'prostitut': 1382, 'biolog': 1383, 'cannib': 1384, 'collect': 1385, 'town': 1386, 'gigant': 1387, 'marriag': 1388, 'singer': 1389, 'clutch': 1390, 'financi': 1391, 'mexican': 1392, 'entangl': 1393, 'opposit': 1394, 'right': 1395, 'wound': 1396, 'inner': 1397, 'fleshpossess': 1398, 'root': 1399, 'cynic': 1400, 'agenda': 1401, 'news': 1402, 'african': 1403, 'kind': 1404, 'pride': 1405, 'devic': 1406, 'egypt': 1407, 'wast': 1408, 'croft': 1409, 'suspicion': 1410, 'goodheart': 1411, 'contain': 1412, 'custom': 1413, 'netherland': 1414, 'dutch': 1415, 'cheat': 1416, 'repercuss': 1417, 'practic': 1418, 'assum': 1419, 'chainsawwield': 1420, 'mental': 1421, 'venom': 1422, 'snake': 1423, 'deliber': 1424, 'squad': 1425, 'diabol': 1426, 'billionair': 1427, 'short': 1428, 'oil': 1429, 'kidnapp': 1430, 'unsuspect': 1431, 'cannot': 1432, 'scheme': 1433, 'collis': 1434, 'doomsday': 1435, 'worst': 1436, 'wannab': 1437, 'dig': 1438, 'mate': 1439, 'fierc': 1440, 'modifi': 1441, 'pole': 1442, 'traine': 1443, 'viciou': 1444, 'spoof': 1445, 'narnia': 1446, 'wardrob': 1447, 'malevol': 1448, 'cover': 1449, 'son': 1450, 'estrang': 1451, 'expedit': 1452, 'antarctica': 1453, 'legend': 1454, 'scandal': 1455, 'counselor': 1456, 'piec': 1457, 'streetwis': 1458, 'white': 1459, 'drifter': 1460, 'agre': 1461, 'realli': 1462, 'prey': 1463, 'incid': 1464, 'inventor': 1465, 'bosnia': 1466, 'suspici': 1467, 'court': 1468, 'trial': 1469, 'violinist': 1470, 'submit': 1471, 'cornea': 1472, 'see': 1473, 'younger': 1474, 'germani': 1475, 'ralli': 1476, 'smalltown': 1477, 'that': 1478, 'captiv': 1479, 'accomplic': 1480, 'longlost': 1481, 'rundown': 1482, 'estat': 1483, 'privat': 1484, 'radio': 1485, 'match': 1486, 'looney': 1487, 'tune': 1488, 'jamal': 1489, 'burglar': 1490, 'player': 1491, 'associ': 1492, 'nba': 1493, 'river': 1494, 'staff': 1495, 'relat': 1496, 'grandmoth': 1497, 'knew': 1498, 'nephew': 1499, 'bean': 1500, 'unwittingli': 1501, 'conman': 1502, 'santa': 1503, 'befriend': 1504, 'armor': 1505, 'nearbi': 1506, 'minist': 1507, 'suicid': 1508, 'imaginari': 1509, 'puppi': 1510, 'extravag': 1511, 'record': 1512, 'hopeless': 1513, 'organis': 1514, 'microchip': 1515, 'tulip': 1516, 'spring': 1517, 'assign': 1518, 'rid': 1519, 'jamaican': 1520, 'monstrou': 1521, 'murtaugh': 1522, 'trail': 1523, 'immun': 1524, 'theft': 1525, 'deton': 1526, 'santiago': 1527, 'muñez': 1528, 'spot': 1529, 'newcastl': 1530, 'youth': 1531, 'cute': 1532, 'taxi': 1533, 'herd': 1534, 'sheep': 1535, 'chanc': 1536, 'bigger': 1537, 'bison': 1538, 'titl': 1539, 'potenti': 1540, 'accompani': 1541, 'copper': 1542, 'manwhor': 1543, 'chauffeur': 1544, 'loser': 1545, 'downtown': 1546, 'abduct': 1547, 'hightech': 1548, 'foley': 1549, 'chucki': 1550, 'valuabl': 1551, 'swim': 1552, 'bubbl': 1553, 'bb': 1554, 'propos': 1555, 'stallion': 1556, 'refus': 1557, 'elin': 1558, 'attent': 1559, 'merrin': 1560, 'pazuzu': 1561, 'cruis': 1562, 'chemic': 1563, 'bu': 1564, 'kayako': 1565, 'common': 1566, 'decenc': 1567, 'godfath': 1568, 'mantel': 1569, 'diner': 1570, 'expand': 1571, 'tighten': 1572, 'dreamshar': 1573, 'invers': 1574, 'plant': 1575, 'ceo': 1576, 'gandalf': 1577, 'aragorn': 1578, 'gaze': 1579, 'wookie': 1580, 'droid': 1581, 'worlddestroy': 1582, 'meek': 1583, 'hobbit': 1584, 'shire': 1585, 'middleearth': 1586, 'forbid': 1587, 'truthth': 1588, 'cyberintellig': 1589, 'veteran': 1590, 'sin': 1591, 'améli': 1592, 'naiv': 1593, 'tenyearold': 1594, 'deputi': 1595, 'grime': 1596, 'ohio': 1597, 'guntot': 1598, 'bruiser': 1599, 'twinki': 1600, 'zombiefil': 1601, 'unev': 1602, 'aimless': 1603, 'electron': 1604, 'layabout': 1605, 'roommat': 1606, 'apocalyps': 1607, 'rest': 1608, 'valiantli': 1609, 'quaint': 1610, 'tarantino': 1611, 'rodriguez': 1612, 'homag': 1613, 'backtoback': 1614, 'preview': 1615, 'incur': 1616, 'inflict': 1617, 'repopul': 1618, 'accord': 1619, 'nevada': 1620, 'caravan': 1621, 'umbrella': 1622, 'corp': 1623, 'mega': 1624, 'outofcontrol': 1625, 'hundr': 1626, 'laboratori': 1627, 'bioweapon': 1628, 'zombielik': 1629, 'sardon': 1630, 'hardwar': 1631, 'ad': 1632, 'necronomicon': 1633, 'ski': 1634, 'unimagin': 1635, 'sumatran': 1636, 'ratmonkey': 1637, 'sick': 1638, 'wall': 1639, 'risen': 1640, 'swat': 1641, 'traffic': 1642, 'barricad': 1643, 'farmhous': 1644, 'ghoul': 1645, 'ravag': 1646, 'cdc': 1647, 'outbreak': 1648, 'rel': 1649, 'burial': 1650, 'ground': 1651, 'warehous': 1652, 'ga': 1653, 'vapor': 1654, 'flesh': 1655, 'hungri': 1656, 'ditch': 1657, 'maintain': 1658, 'saniti': 1659, 'product': 1660, 'tchaikovski': 1661, 'lake': 1662, 'kato': 1663, 'xander': 1664, 'cage': 1665, 'unburi': 1666, 'conductavers': 1667, 'fiftyseven': 1668, 'hypersleep': 1669, 'listen': 1670, 'druginduc': 1671, 'utopia': 1672, 'addict': 1673, 'illus': 1674, 'sacrif': 1675, 'outwit': 1676, 'timetravel': 1677, 'close': 1678, 'surreal': 1679, 'lowbudget': 1680, 'holi': 1681, 'grail': 1682, 'silli': 1683, 'obstacl': 1684, 'scottish': 1685, 'countrymen': 1686, 'rebellion': 1687, 'monolith': 1688, 'star': 1689, 'awesom': 1690, 'traudl': 1691, 'secretari': 1692, 'hitler': 1693, 'wwii': 1694, 'exact': 1695, 'slaveri': 1696, 'coincid': 1697, 'theatr': 1698, 'horcrux': 1699, 'deathli': 1700, 'hallow': 1701, 'injustic': 1702, 'hitman': 1703, 'zuckerberg': 1704, 'network': 1705, 'facebook': 1706, 'su': 1707, 'cofound': 1708, 'squeez': 1709, 'parapleg': 1710, 'realist': 1711, 'exe': 1712, 'lizewski': 1713, 'unnot': 1714, 'meaning': 1715, 'highstrung': 1716, 'fathertob': 1717, 'highman': 1718, 'hitch': 1719, 'aspir': 1720, 'tremblay': 1721, 'step': 1722, 'idol': 1723, 'quit': 1724, 'pacif': 1725, 'northwest': 1726, 'cullen': 1727, 'insomniac': 1728, 'devilmaycar': 1729, 'soap': 1730, 'nypd': 1731, 'sever': 1732, 'nakatomi': 1733, 'plaza': 1734, 'rusesabagina': 1735, 'tutsi': 1736, 'hutu': 1737, 'rwanda': 1738, 'thiev': 1739, 'heat': 1740, 'biologist': 1741, 'seafar': 1742, 'beast': 1743, 'unscrupul': 1744, 'promot': 1745, 'bookmak': 1746, 'jewel': 1747, 'priceless': 1748, 'simba': 1749, 'ascend': 1750, 'throne': 1751, 'dude': 1752, 'lebowski': 1753, 'restitut': 1754, 'rug': 1755, 'bowl': 1756, 'narrowli': 1757, 'bizarr': 1758, 'rabbit': 1759, 'mccandless': 1760, 'give': 1761, 'wilder': 1762, 'charact': 1763, 'shape': 1764, 'withdrawn': 1765, 'dishearten': 1766, 'slumlik': 1767, 'condit': 1768, 'kindr': 1769, 'biotechnolog': 1770, 'conduct': 1771, 'turbul': 1772, 'roguish': 1773, 'reconstruct': 1774, 'fouryear': 1775, 'cowboy': 1776, 'profoundli': 1777, 'spaceman': 1778, 'supplant': 1779, 'immigr': 1780, 'succumb': 1781, 'greed': 1782, 'oconn': 1783, 'racer': 1784, 'redeem': 1785, 'mole': 1786, 'irish': 1787, 'blacksmith': 1788, 'governor': 1789, 'jack': 1790, 'awar': 1791, 'iron': 1792, 'declin': 1793, 'setup': 1794, 'exfederal': 1795, 'launch': 1796, 'latin': 1797, 'defector': 1798, 'balthazar': 1799, 'introvert': 1800, 'sorceri': 1801, 'le': 1802, 'nineteenyearold': 1803, 'fourth': 1804, 'juli': 1805, 'weekend': 1806, 'sparta': 1807, 'persian': 1808, 'thermopyla': 1809, 'bc': 1810, 'wrestler': 1811, 'dispirit': 1812, 'philosophi': 1813, 'nonviol': 1814, 'protest': 1815, 'salvat': 1816, 'manmad': 1817, 'wipe': 1818, 'mathemat': 1819, 'direct': 1820, 'oskar': 1821, 'overlook': 1822, 'bulli': 1823, 'peculiar': 1824, 'smalltim': 1825, 'rare': 1826, 'heavyweight': 1827, 'bout': 1828, 'distanc': 1829, 'selfrespect': 1830, 'fact': 1831, 'hideou': 1832, 'insan': 1833, 'iraq': 1834, 'iraqi': 1835, 'buri': 1836, 'coffin': 1837, 'lighter': 1838, 'cell': 1839, 'claustrophob': 1840, 'martin': 1841, 'foolproof': 1842, 'deposit': 1843, 'trove': 1844, 'dirti': 1845, 'twelfthcenturi': 1846, 'longstrid': 1847, 'maraud': 1848, 'upris': 1849, 'normandi': 1850, 'paratroop': 1851, 'stalwart': 1852, 'watson': 1853, 'brawn': 1854, 'basin': 1855, 'sixth': 1856, 'mark': 1857, 'halfblood': 1858, 'hostil': 1859, 'blockad': 1860, 'dormant': 1861, 'sith': 1862, 'resurfac': 1863, 'creed': 1864, 'metallin': 1865, 'wolverin': 1866, 'rorschach': 1867, 'sacr': 1868, 'dagger': 1869, 'enabl': 1870, 'sand': 1871, 'revers': 1872, 'midlif': 1873, 'crisi': 1874, 'burden': 1875, 'eras': 1876, 'cast': 1877, 'timelin': 1878, 'parachut': 1879, 'unfamiliar': 1880, 'codepend': 1881, 'anxieti': 1882, 'boozesoak': 1883, 'pact': 1884, 'virgin': 1885, 'overpow': 1886, 'hoth': 1887, 'yoda': 1888, 'boba': 1889, 'fett': 1890, 'barrier': 1891, 'reef': 1892, 'timid': 1893, 'clownfish': 1894, 'interrel': 1895, 'frantic': 1896, 'whenev': 1897, 'temper': 1898, 'hazard': 1899, 'distract': 1900, 'recur': 1901, 'disfigur': 1902, 'retreat': 1903, 'homer': 1904, 'dooku': 1905, 'council': 1906, 'ongo': 1907, 'funlov': 1908, 'stone': 1909, 'unplan': 1910, 'pregnanc': 1911, 'offbeat': 1912, 'regard': 1913, 'discrimin': 1914, 'clash': 1915, 'supremacist': 1916, 'brotherhood': 1917, 'pacifist': 1918, 'platon': 1919, 'cashflow': 1920, 'roll': 1921, 'plea': 1922, 'bateman': 1923, 'ego': 1924, 'cowork': 1925, 'deeper': 1926, 'fantasi': 1927, 'darker': 1928, 'uncontrol': 1929, 'allout': 1930, 'ail': 1931, 'fed': 1932, 'dilling': 1933, 'pretti': 1934, 'boom': 1935, 'cyberterrorist': 1936, 'mordor': 1937, 'shifti': 1938, 'gollum': 1939, 'fellowship': 1940, 'saruman': 1941, 'isengard': 1942, 'sarah': 1943, 'resort': 1944, 'ex': 1945, 'polish': 1946, 'ghetto': 1947, 'bigbudget': 1948, 'excon': 1949, 'jensen': 1950, 'ame': 1951, 'postindustri': 1952, 'victori': 1953, 'merchant': 1954, 'transmiss': 1955, 'distress': 1956, 'cycl': 1957, 'begun': 1958, 'aang': 1959, 'avatar': 1960, 'element': 1961, 'fallen': 1962, 'realm': 1963, 'personnel': 1964, 'dwell': 1965, 'whether': 1966, 'zomcon': 1967, 'way': 1968, 'pacifi': 1969, 'preteen': 1970, 'kesun': 1971, 'loder': 1972, 'menial': 1973, 'chore': 1974, 'fido': 1975, 'beckwith': 1976, 'grey': 1977, 'sneak': 1978, 'ting': 1979, 'cleari': 1980, 'remak': 1981, 'scienc': 1982, 'counterpart': 1983, 'solo': 1984, 'jabba': 1985, 'hutt': 1986, 'endor': 1987, 'pragmat': 1988, 'paleontologist': 1989, 'failur': 1990, 'drink': 1991, 'rep': 1992, 'button': 1993, 'backward': 1994, 'concentr': 1995, 'fenc': 1996, 'propheci': 1997, 'corridor': 1998, 'paralyz': 1999, 'padmé': 2000, 'amidala': 2001, 'kenobi': 2002, 'craft': 2003, 'trainer': 2004, 'sensibl': 2005, 'priestli': 2006, 'editorinchief': 2007, 'magazin': 2008, 'goad': 2009, 'deed': 2010, 'jin': 2011, 'kazama': 2012, 'jun': 2013, 'slum': 2014, 'anvil': 2015, 'id': 2016, 'messag': 2017, 'intend': 2018, 'eas': 2019, 'experienc': 2020, 'breakin': 2021, 'amsterdam': 2022, 'vallon': 2023, 'butcher': 2024, 'fish': 2025, 'bulletriddl': 2026, 'amnesia': 2027, 'elud': 2028, 'drama': 2029, 'conserv': 2030, 'blaze': 2031, 'sinner': 2032, 'bare': 2033, 'forger': 2034, 'pursuit': 2035, 'disturb': 2036, 'nightli': 2037, 'sworn': 2038, 'medellín': 2039, 'escobar': 2040, 'establish': 2041, 'cocain': 2042, 'market': 2043, 'irrit': 2044, 'effect': 2045, 'transfer': 2046, 'easygo': 2047, 'fervor': 2048, 'regul': 2049, 'hancock': 2050, 'illconsid': 2051, 'regularli': 2052, 'imag': 2053, 'savag': 2054, 'sorcer': 2055, 'invinc': 2056, 'briefcas': 2057, 'limo': 2058, 'dumber': 2059, 'hilari': 2060, 'aspen': 2061, 'barber': 2062, 'partnership': 2063, 'tenant': 2064, 'lovett': 2065, 'historian': 2066, 'templar': 2067, 'dwindl': 2068, 'blood': 2069, 'fractur': 2070, 'covert': 2071, 'vamp': 2072, 'marksman': 2073, 'coax': 2074, 'cross': 2075, 'unknow': 2076, 'outcom': 2077, 'beset': 2078, 'treborn': 2079, 'blackout': 2080, 'read': 2081, 'journal': 2082, 'mix': 2083, 'sunday': 2084, 'morn': 2085, 'napier': 2086, 'clownishli': 2087, 'support': 2088, 'selfhelp': 2089, 'guru': 2090, 'dagen': 2091, 'highpow': 2092, 'negoti': 2093, 'spiral': 2094, 'curiou': 2095, 'unearth': 2096, 'barrel': 2097, 'primit': 2098, 'bourn': 2099, 'frame': 2100, 'stab': 2101, 'woodsboro': 2102, 'symbologist': 2103, 'langdon': 2104, 'physicist': 2105, 'vatican': 2106, 'church': 2107, 'broadway': 2108, 'johnston': 2109, 'counterterror': 2110, 'crumbl': 2111, 'acclim': 2112, 'don': 2113, 'costum': 2114, 'isnt': 2115, 'gunforhir': 2116, 'russia': 2117, 'entrench': 2118, 'sought': 2119, 'commando': 2120, 'mean': 2121, 'fairytal': 2122, 'swamp': 2123, 'grumpi': 2124, 'ogr': 2125, 'lowrank': 2126, 'entrust': 2127, 'antizombi': 2128, 'cope': 2129, 'zealot': 2130, 'fanat': 2131, 'fester': 2132, 'reclus': 2133, 'bouncer': 2134, 'budd': 2135, 'treacher': 2136, 'oneey': 2137, 'recollect': 2138, 'got': 2139, 'chaotic': 2140, 'zodiac': 2141, 'unidentifi': 2142, 'individu': 2143, 'ye': 2144, 'cosmic': 2145, 'exposur': 2146, 'triniti': 2147, 'morpheu': 2148, 'arsen': 2149, 'extraordinari': 2150, 'weaponri': 2151, 'systemat': 2152, 'repress': 2153, 'itali': 2154, 'croker': 2155, 'met': 2156, 'everyday': 2157, 'paleoclimatologist': 2158, 'odonnel': 2159, 'ungrat': 2160, 'rewrit': 2161, 'bridg': 2162, 'jump': 2163, 'vortex': 2164, 'swear': 2165, 'unspeak': 2166, 'appoint': 2167, 'racial': 2168, 'integr': 2169, 'factbas': 2170, 'expert': 2171, 'subsequ': 2172, 'took': 2173, 'vega': 2174, 'bohemian': 2175, 'poet': 2176, 'courtesan': 2177, 'nightclub': 2178, 'covet': 2179, 'realtor': 2180, 'mansion': 2181, 'antimut': 2182, 'stryker': 2183, 'louvr': 2184, 'foundat': 2185, 'christian': 2186, 'doublecross': 2187, 'tishkoff': 2188, 'rapper': 2189, 'aspect': 2190, 'rap': 2191, 'harder': 2192, 'cab': 2193, 'riddick': 2194, 'diesel': 2195, 'helion': 2196, 'necromong': 2197, 'convert': 2198, 'jeanbaptist': 2199, 'grenouil': 2200, 'olfactori': 2201, 'finest': 2202, 'perfum': 2203, 'scent': 2204, 'intellectu': 2205, 'kao': 2206, 'magnific': 2207, 'wilk': 2208, 'booth': 2209, 'ancestor': 2210, 'fascist': 2211, 'militarist': 2212, 'wage': 2213, 'adept': 2214, 'firm': 2215, 'biggest': 2216, 'technophob': 2217, 'globetrot': 2218, 'terroristbattl': 2219, 'might': 2220, 'affair': 2221, 'usedcar': 2222, 'hard': 2223, 'chaser': 2224, 'brink': 2225, 'weather': 2226, 'alert': 2227, 'tornado': 2228, 'maiden': 2229, 'untrac': 2230, 'internet': 2231, 'surfac': 2232, 'loyal': 2233, 'dedic': 2234, 'hong': 2235, 'kong': 2236, 'reckless': 2237, 'loudmouth': 2238, 'consul': 2239, 'arrest': 2240, 'erickson': 2241, 'nearer': 2242, 'selfdestruct': 2243, 'multipl': 2244, 'block': 2245, 'ramp': 2246, 'trooper': 2247, 'miracul': 2248, 'minut': 2249, 'bereav': 2250, 'feet': 2251, 'vanish': 2252, 'nobodi': 2253, 'admit': 2254, 'clear': 2255, 'burma': 2256, 'infantri': 2257, 'recentlydeceas': 2258, 'cemeteri': 2259, 'peasant': 2260, 'squir': 2261, 'moroccan': 2262, 'touch': 2263, 'macedonia': 2264, 'warfar': 2265, 'conquer': 2266, 'sendup': 2267, 'accumul': 2268, 'watch': 2269, 'dozen': 2270, 'bet': 2271, 'usd10000000': 2272, 'prize': 2273, 'plenti': 2274, 'cctv': 2275, 'advisor': 2276, 'samurai': 2277, 'onetim': 2278, 'lycan': 2279, 'smoothtalk': 2280, 'columnist': 2281, 'compel': 2282, 'legal': 2283, 'amount': 2284, 'artifici': 2285, 'incomplet': 2286, 'scissor': 2287, 'solitari': 2288, 'ill': 2289, 'cancer': 2290, 'list': 2291, 'todo': 2292, 'greedi': 2293, 'moviemak': 2294, 'skull': 2295, 'cannibalist': 2296, 'fantast': 2297, 'arent': 2298, 'be': 2299, 'squar': 2300, 'silver': 2301, 'surfer': 2302, 'galactu': 2303, 'guyproblem': 2304, 'swap': 2305, 'septemb': 2306, 'angri': 2307, 'workahol': 2308, 'fastforward': 2309, 'rewind': 2310, 'overrul': 2311, 'choic': 2312, 'zion': 2313, 'front': 2314, 'twofac': 2315, 'nygma': 2316, 'riddler': 2317, 'amor': 2318, 'driven': 2319, 'coloni': 2320, 'revolut': 2321, 'evid': 2322, 'storag': 2323, 'precinct': 2324, 'expel': 2325, 'undergrad': 2326, 'hooligan': 2327, 'supermarket': 2328, 'campsit': 2329, 'suitabl': 2330, 'buzz': 2331, 'roundup': 2332, 'prospector': 2333, 'bullsey': 2334, 'demystifi': 2335, 'lo': 2336, 'sun': 2337, 'method': 2338, 'inject': 2339, 'forget': 2340, 'selfindulg': 2341, 'vain': 2342, 'publish': 2343, 'privileg': 2344, 'upend': 2345, 'vehicular': 2346, 'resent': 2347, 'intens': 2348, 'pattern': 2349, 'commerci': 2350, 'fishermen': 2351, 'replac': 2352, 'batterypow': 2353, 'ticker': 2354, 'requir': 2355, 'jolt': 2356, 'electr': 2357, 'halfvampir': 2358, 'halfmort': 2359, 'protector': 2360, 'slay': 2361, 'reemerg': 2362, 'hair': 2363, 'stylist': 2364, 'alaskan': 2365, 'monitor': 2366, 'interact': 2367, 'gage': 2368, 'lifetim': 2369, 'vandal': 2370, 'scholarship': 2371, 'campu': 2372, 'mayb': 2373, 'wooden': 2374, 'specialis': 2375, 'check': 2376, 'fabl': 2377, 'dolphin': 2378, 'genuin': 2379, 'ukrainian': 2380, 'marseil': 2381, 'en': 2382, 'rout': 2383, 'intercept': 2384, 'valentina': 2385, 'virtual': 2386, 'implant': 2387, 'harrow': 2388, 'worldclass': 2389, 'playboy': 2390, 'parttim': 2391, 'soror': 2392, 'fiancé': 2393, 'byrn': 2394, 'irrespons': 2395, 'glorifi': 2396, 'aptli': 2397, 'goldmemb': 2398, 'alagaesia': 2399, 'dragon': 2400, 'predestin': 2401, 'devis': 2402, 'strategi': 2403, 'spacecraft': 2404, 'undergo': 2405, 'jeopardi': 2406, 'disench': 2407, 'chili': 2408, 'greaser': 2409, 'dodgebal': 2410, 'cherish': 2411, 'fit': 2412, 'chain': 2413, 'abort': 2414, 'clinic': 2415, 'negat': 2416, 'loophol': 2417, 'reenter': 2418, 'heaven': 2419, 'pennsylvania': 2420, 'field': 2421, 'suggest': 2422, 'wrath': 2423, 'slaughter': 2424, 'reunion': 2425, 'illicit': 2426, 'mail': 2427, 'loosecannon': 2428, 'ecstasi': 2429, 'dislik': 2430, 'edvard': 2431, 'dysfunct': 2432, 'congressman': 2433, 'ark': 2434, 'flood': 2435, 'darken': 2436, 'photosensit': 2437, 'parallel': 2438, 'lyra': 2439, 'belacqua': 2440, 'era': 2441, 'prohibit': 2442, 'ness': 2443, 'capon': 2444, 'rampant': 2445, 'handpick': 2446, 'rigid': 2447, 'mafia': 2448, 'expens': 2449, 'bookshop': 2450, 'horseback': 2451, 'tribesmen': 2452, 'instal': 2453, 'rebelli': 2454, 'coup': 2455, 'détat': 2456, 'jilt': 2457, 'jm': 2458, 'orphanag': 2459, 'handicap': 2460, 'invis': 2461, 'lazi': 2462, 'grad': 2463, 'impress': 2464, 'vast': 2465, 'assail': 2466, 'humanalien': 2467, 'hybrid': 2468, 'demolish': 2469, 'journeyman': 2470, 'swept': 2471, 'prefect': 2472, 'pen': 2473, 'edit': 2474, 'racetrack': 2475, 'nonetheless': 2476, 'flight': 2477, 'attend': 2478, 'nab': 2479, 'buznik': 2480, 'wrongli': 2481, 'anger': 2482, 'diablo': 2483, 'landscap': 2484, 'meanspirit': 2485, 'toward': 2486, 'older': 2487, 'blade': 2488, 'nightstalk': 2489, 'transylvania': 2490, 'frankenstein': 2491, 'nefari': 2492, 'purpos': 2493, 'fun': 2494, 'wuorno': 2495, 'pretend': 2496, 'domest': 2497, 'benefit': 2498, 'jim': 2499, 'michel': 2500, 'moorish': 2501, 'outlaw': 2502, 'wayward': 2503, 'backpack': 2504, 'slovak': 2505, 'trapper': 2506, 'goku': 2507, 'piccolo': 2508, 'orb': 2509, 'wielder': 2510, 'unlimit': 2511, 'pollut': 2512, 'encas': 2513, 'dome': 2514, 'epa': 2515, 'simpson': 2516, 'declar': 2517, 'batman': 2518, 'cruel': 2519, 'latter': 2520, 'catwoman': 2521, 'vendetta': 2522, 'disgrac': 2523, 'fiona': 2524, 'welcom': 2525, 'exhibit': 2526, 'display': 2527, 'waitress': 2528, 'interven': 2529, 'complain': 2530, 'often': 2531, 'almighti': 2532, 'difficult': 2533, 'starpilot': 2534, 'trusti': 2535, 'druidia': 2536, 'spacebal': 2537, 'highprofil': 2538, 'institut': 2539, 'harlem': 2540, 'mojo': 2541, 'shagless': 2542, 'gunsling': 2543, 'el': 2544, 'mariachi': 2545, 'kingpin': 2546, 'bucho': 2547, 'etiquett': 2548, 'directli': 2549, 'dystop': 2550, 'submerg': 2551, 'ipkiss': 2552, 'manic': 2553, 'wear': 2554, 'voiceid': 2555, 'softwar': 2556, 'appeal': 2557, 'dynamit': 2558, 'restor': 2559, 'reappear': 2560, 'kay': 2561, 'rather': 2562, 'neurot': 2563, 'ant': 2564, 'totalitarian': 2565, 'port': 2566, 'rubbl': 2567, 'shallow': 2568, 'nitta': 2569, 'sayuri': 2570, 'transcend': 2571, 'fishingvillag': 2572, 'japan': 2573, 'geisha': 2574, 'immatur': 2575, 'taught': 2576, 'grownup': 2577, 'korean': 2578, 'jurass': 2579, 'b': 2580, 'ingen': 2581, 'phase': 2582, 'fought': 2583, 'wive': 2584, 'nervous': 2585, 'anxious': 2586, 'bad': 2587, 'extradimension': 2588, 'madagascar': 2589, 'especi': 2590, 'prompt': 2591, 'clean': 2592, 'avert': 2593, 'dull': 2594, 'skellington': 2595, 'confus': 2596, 'interstellar': 2597, 'resembl': 2598, 'egyptian': 2599, 'worship': 2600, 'ra': 2601, 'victorianera': 2602, 'clairvoy': 2603, 'ripper': 2604, 'artifact': 2605, 'fals': 2606, 'disloyalti': 2607, 'bluntman': 2608, 'chronic': 2609, 'stoner': 2610, 'silent': 2611, 'bigscreen': 2612, 'wreck': 2613, 'jfk': 2614, 'buttonedup': 2615, 'strictli': 2616, 'backwood': 2617, 'firefli': 2618, 'wydel': 2619, 'leito': 2620, 'sector': 2621, 'drastic': 2622, 'measur': 2623, 'mummifi': 2624, 'imhotep': 2625, 'ship': 2626, 'campaign': 2627, 'fiorina': 2628, 'maximum': 2629, 'occur': 2630, 'shortli': 2631, 'unwelcom': 2632, 'housekeep': 2633, 'hazzard': 2634, 'counti': 2635, 'hogg': 2636, 'coltran': 2637, 'calam': 2638, 'randal': 2639, 'horizon': 2640, 'fast': 2641, 'moobi': 2642, 'dive': 2643, 'submarin': 2644, 'aquat': 2645, 'oldman': 2646, 'curri': 2647, 'employ': 2648, 'controversi': 2649, 'bench': 2650, 'academ': 2651, 'prank': 2652, 'wide': 2653, 'vari': 2654, 'involuntarili': 2655, 'endless': 2656, 'maze': 2657, 'conveni': 2658, 'discuss': 2659, 'hockey': 2660, 'region': 2661, 'gestapo': 2662, 'headquart': 2663, 'reaper': 2664, 'loon': 2665, 'equal': 2666, 'myer': 2667, 'haddonfield': 2668, 'illinoi': 2669, 'lakesid': 2670, 'vermont': 2671, 'flown': 2672, 'testifi': 2673, 'guinea': 2674, 'policemen': 2675, 'avenu': 2676, 'wager': 2677, 'readi': 2678, 'airplan': 2679, 'scream': 2680, 'flamboy': 2681, 'austrian': 2682, 'brüno': 2683, 'decidedli': 2684, 'ulterior': 2685, 'isla': 2686, 'sorna': 2687, 'inhabit': 2688, 'twentysometh': 2689, 'bombard': 2690, 'neglig': 2691, 'exorc': 2692, 'hospic': 2693, 'spooki': 2694, 'asid': 2695, 'smuggler': 2696, 'pothead': 2697, 'fool': 2698, 'repay': 2699, 'pop': 2700, 'hibernatingand': 2701, 'handl': 2702, 'unstabl': 2703, 'brood': 2704, 'thirteenth': 2705, 'birthday': 2706, 'thirtyyearold': 2707, 'distant': 2708, 'oppress': 2709, 'host': 2710, 'finish': 2711, 'comet': 2712, 'colonist': 2713, 'seventeenth': 2714, 'fuego': 2715, 'wonderland': 2716, 'leisur': 2717, 'wors': 2718, 'song': 2719, 'sing': 2720, 'tap': 2721, 'chimera': 2722, 'overs': 2723, 'elf': 2724, 'nyc': 2725, 'chauvinist': 2726, 'advertis': 2727, 'acquir': 2728, 'hear': 2729, 'parasit': 2730, 'outer': 2731, 'code': 2732, 'witch': 2733, 'celeb': 2734, 'concern': 2735, 'mischiev': 2736, 'pageant': 2737, 'wont': 2738, 'gadget': 2739, 'reactiv': 2740, 'oss': 2741, 'twist': 2742, 'york': 2743, 'reloc': 2744, 'doa': 2745, 'contest': 2746, 'endow': 2747, 'reflex': 2748, 'walk': 2749, 'thin': 2750, 'doggedli': 2751, 'fascin': 2752, 'overwork': 2753, 'switch': 2754, 'freaki': 2755, 'friday': 2756, 'freewheel': 2757, 'induc': 2758, 'obtain': 2759, 'exclus': 2760, 'coverag': 2761, 'bouvetøya': 2762, 'archaeologist': 2763, 'politician': 2764, 'although': 2765, 'eager': 2766, 'cost': 2767, 'elect': 2768, 'tenth': 2769, 'anniversari': 2770, 'valentin': 2771, 'homecom': 2772, 'flame': 2773, 'grief': 2774, 'planecrash': 2775, 'bound': 2776, 'hookwield': 2777, 'maniac': 2778, 'seasid': 2779, 'breezi': 2780, 'net': 2781, 'gran': 2782, 'torino': 2783, 'snitch': 2784, 'huggi': 2785, 'genovia': 2786, 'arrang': 2787, 'suitor': 2788, 'wasteland': 2789, 'gasolinerich': 2790, 'gorilla': 2791, 'belong': 2792, 'actiondrama': 2793, 'updat': 2794, 'focus': 2795, 'vice': 2796, 'crockett': 2797, 'tubb': 2798, 'wouldb': 2799, 'vegetarian': 2800, 'elm': 2801, 'shot': 2802, 'spoil': 2803, 'risk': 2804, 'demis': 2805, 'commend': 2806, 'gruesom': 2807, 'juror': 2808, 'manufactur': 2809, 'aveng': 2810, 'moneyd': 2811, 'troop': 2812, 'storm': 2813, 'embassi': 2814, 'vitti': 2815, 'sobol': 2816, 'care': 2817, 'unemploy': 2818, 'rumor': 2819, 'cybertronian': 2820, 'heroic': 2821, 'autobot': 2822, 'decepticon': 2823, 'abroad': 2824, 'slovakian': 2825, 'hostel': 2826, 'realiti': 2827, 'oktoberfest': 2828, 'competit': 2829, 'describ': 2830, 'beer': 2831, 'penalti': 2832, 'purchas': 2833, 'desol': 2834, 'condemn': 2835, 'corner': 2836, 'dystopian': 2837, 'outskirt': 2838, 'whovil': 2839, 'revengeseek': 2840, 'grinch': 2841, 'there': 2842, 'neopagan': 2843, 'rank': 2844, 'idealist': 2845, 'sweetnatur': 2846, 'inherit': 2847, 'conglomer': 2848, 'riker': 2849, 'radioact': 2850, 'dragonfli': 2851, 'super': 2852, 'parentless': 2853, 'pound': 2854, 'scientif': 2855, 'creator': 2856, 'despit': 2857, 'celib': 2858, 'lent': 2859, 'unabl': 2860, 'anyth': 2861, 'basecamp': 2862, 'pow': 2863, 'still': 2864, 'opium': 2865, 'fortress': 2866, 'martialart': 2867, 'fleec': 2868, 'spiderwick': 2869, 'faeri': 2870, 'elektra': 2871, 'neardeath': 2872, 'assassinforhir': 2873, 'snuff': 2874, 'authent': 2875, 'æon': 2876, 'flux': 2877, 'monican': 2878, 'chairman': 2879, 'whole': 2880, 'jersey': 2881, 'trucker': 2882, 'cb': 2883, 'contamin': 2884, 'fort': 2885, 'guy': 2886, 'smoke': 2887, 'entranc': 2888, 'exam': 2889, 'mccallist': 2890, 'ming': 2891, 'foil': 2892, 'ownercoachplay': 2893, 'michigan': 2894, 'tropic': 2895, 'ectoplasm': 2896, 'resurg': 2897, 'spectral': 2898, 'ghostbust': 2899, 'alzheim': 2900, 'trio': 2901, 'behindthescen': 2902, 'annual': 2903, 'surf': 2904, 'newest': 2905, 'particip': 2906, 'upandcom': 2907, 'maverick': 2908, 'sweet': 2909, 'elus': 2910, 'gal': 2911, 'straitlac': 2912, 'indiscret': 2913, 'rose': 2914, 'chilli': 2915, 'atmospher': 2916, 'broken': 2917, 'neither': 2918, 'mulder': 2919, 'sculli': 2920, 'duti': 2921, 'pertain': 2922, 'cadet': 2923, 'geeki': 2924, 'sexi': 2925, 'rapidli': 2926, 'sinc': 2927, 'meteor': 2928, 'answer': 2929, 'houseguest': 2930, 'fior': 2931, 'supplier': 2932, 'glamor': 2933, 'gover': 2934, 'rein': 2935, 'neerdowel': 2936, 'kritico': 2937, 'pandora': 2938, 'depress': 2939, 'asylum': 2940, 'bicycl': 2941, 'affluent': 2942, 'blunder': 2943, 'embezzl': 2944, 'bate': 2945, 'motel': 2946, 'polar': 2947, 'express': 2948, 'braveri': 2949, 'oneman': 2950, 'trautman': 2951, 'formid': 2952, 'soviet': 2953, 'afghanistan': 2954, 'reopen': 2955, 'basebal': 2956, 'leagu': 2957, 'playoff': 2958, 'fastlan': 2959, 'minivan': 2960, 'helper': 2961, 'depart': 2962, 'guevara': 2963, 'castrol': 2964, 'mobil': 2965, 'toppl': 2966, 'regim': 2967, 'fulgencio': 2968, 'batista': 2969, 'thirst': 2970, 'kevlar': 2971, 'cain': 2972, 'bellring': 2973, 'assert': 2974, 'independ': 2975, 'highfashion': 2976, 'dalmatian': 2977, 'fur': 2978, 'coat': 2979, 'mess': 2980, 'comedi': 2981, 'exnavi': 2982, 'seal': 2983, 'cook': 2984, 'battleship': 2985, 'insepar': 2986, 'concert': 2987, 'fragil': 2988, 'fatal': 2989, 'dweeb': 2990, 'richard': 2991, 'grant': 2992, 'snare': 2993, 'exchang': 2994, 'phantom': 2995, 'complex': 2996, 'reliabl': 2997, 'tarot': 2998, 'reader': 2999, 'recoveri': 3000, 'industrialist': 3001, 'monopoli': 3002, 'silicon': 3003, 'valley': 3004, 'careerend': 3005, 'knee': 3006, 'injuri': 3007, 'align': 3008, 'renown': 3009, 'tout': 3010, 'sportsgambl': 3011, 'mongolian': 3012, 'showgirl': 3013, 'cartier': 3014, 'cathol': 3015, 'slate': 3016, 'closur': 3017, 'mi5': 3018, 'confid': 3019, 'unintellig': 3020, 'ryden': 3021, 'malbi': 3022, 'hint': 3023, 'bowler': 3024, 'prematur': 3025, 'cut': 3026, 'rich': 3027, 'brooklyn': 3028, 'plumber': 3029, 'dimens': 3030, 'koopa': 3031, 'quiet': 3032, 'shaken': 3033, 'pal': 3034, 'oz': 3035, 'henstridg': 3036, 'hungarian': 3037, 'peet': 3038, 'whisk': 3039, 'neverland': 3040, 'navajo': 3041, 'languag': 3042, 'unbreak': 3043, 'cypher': 3044, 'exmercenari': 3045, 'brainwash': 3046, 'afflict': 3047, 'geostigma': 3048, 'ritualist': 3049, 'averag': 3050, 'aquarium': 3051, 'cleaner': 3052, 'housesit': 3053, 'gigolo': 3054, 'midwest': 3055, 'anticip': 3056, 'omin': 3057, 'sunflow': 3058, 'dakota': 3059, 'sprinter': 3060, 'disqualifi': 3061, 'dishonor': 3062, 'bobsl': 3063, 'mildmann': 3064, 'hoov': 3065, 'elliot': 3066, 'altar': 3067, 'slight': 3068, 'detour': 3069, 'weeni': 3070, 'pamper': 3071, 'pet': 3072, 'exspeci': 3073, 'boatman': 3074, 'south': 3075, 'diplomat': 3076, 'midair': 3077, 'shuttl': 3078, 'genocid': 3079, 'warhead': 3080, 'talent': 3081, 'scout': 3082, 'g': 3083, 'chancellor': 3084, 'voic': 3085, 'pm': 3086, 'lemur': 3087, 'arduou': 3088, 'meteorit': 3089, 'shower': 3090, 'unravel': 3091, 'puppet': 3092, 'cricket': 3093, 'conscienc': 3094, 'shift': 3095, 'rental': 3096, 'stan': 3097, 'bff': 3098, 'male': 3099, 'penchant': 3100, 'unfortun': 3101, 'nielsen': 3102, 'award': 3103, 'fabergé': 3104, 'jewelsmuggl': 3105, 'octopussi': 3106, 'nato': 3107, 'motorbik': 3108, 'fill': 3109, 'meth': 3110, 'brodi': 3111, 'pruitt': 3112, 'shorter': 3113, 'shaft': 3114, 'sure': 3115, 'tycoon': 3116, 'raciallymotiv': 3117, 'babe': 3118, 'sheepdog': 3119, 'hoggett': 3120, 'teller': 3121, 'extrasensori': 3122, 'percept': 3123, 'grandfath': 3124, 'chainsaw': 3125, 'blue': 3126, 'monkey': 3127, 'missionari': 3128, 'phenomena': 3129, 'biblic': 3130, 'lethal': 3131, 'lurk': 3132, 'dday': 3133, 'grand': 3134, 'scale': 3135, 'spongebob': 3136, 'squarep': 3137, 'bikini': 3138, 'bottom': 3139, 'neptun': 3140, 'exgirlfriend': 3141, 'advoc': 3142, 'solar': 3143, 'hustler': 3144, 'profil': 3145, 'breath': 3146, 'scari': 3147, 'redfield': 3148, 'gviru': 3149, 'whilst': 3150, 'col': 3151, 'guil': 3152, 'cohort': 3153, 'modern': 3154, 'austen': 3155, 'novel': 3156, 'prejudic': 3157, 'unmarri': 3158, 'repeat': 3159, 'winner': 3160, 'inuit': 3161, 'needlessli': 3162, 'punish': 3163, 'cub': 3164, 'ridicul': 3165, 'enorm': 3166, 'ear': 3167, 'eleph': 3168, 'achiev': 3169, 'favor': 3170, 'outback': 3171, 'crocodil': 3172, 'poacher': 3173, 'plissken': 3174, 'autonom': 3175, 'undesir': 3176, 'deport': 3177, 'oppressor': 3178, 'hound': 3179, 'bankrob': 3180, 'combat': 3181, 'repris': 3182, 'corpul': 3183, 'knowledg': 3184, 'procedur': 3185, 'polici': 3186, 'confisc': 3187, 'ammunit': 3188, 'alcatraz': 3189, 'possibl': 3190, 'deuc': 3191, 'tj': 3192, 'tarnish': 3193, 'harmless': 3194, 'zealand': 3195, 'downspir': 3196, 'solut': 3197, 'sabotag': 3198, 'current': 3199, 'australia': 3200, 'conic': 3201, 'crania': 3202, 'uptown': 3203, 'cocker': 3204, 'spaniel': 3205, 'mutt': 3206, 'reid': 3207, 'scare': 3208, 'dinner': 3209, 'larson': 3210, 'moment': 3211, 'photograph': 3212, 'western': 3213, 'haskin': 3214, 'allblack': 3215, 'lineup': 3216, 'ncaa': 3217, 'inc': 3218, 'coolsvil': 3219, 'ocp': 3220, 'abductor': 3221, 'stress': 3222, 'disord': 3223, 'arbuckl': 3224, 'buy': 3225, 'jon': 3226, 'canin': 3227, 'missil': 3228, 'serious': 3229, 'mouthi': 3230, 'feisti': 3231, 'taxicab': 3232, 'hot': 3233, 'tip': 3234, 'inept': 3235, 'robberi': 3236, 'quartet': 3237, 'brazilian': 3238, 'straighten': 3239, 'conwoman': 3240, 'hinton': 3241, 'ryerson': 3242, 'garlin': 3243, 'laid': 3244, 'stayathom': 3245, 'job': 3246, 'daycar': 3247, 'espionag': 3248, 'cat': 3249, 'bliss': 3250, 'marginalis': 3251, 'norm': 3252, 'complac': 3253, 'cinema': 3254, 'audienc': 3255, 'taggart': 3256, 'rosewood': 3257, 'bogomil': 3258, 'nearfat': 3259, 'alphabet': 3260, 'cellar': 3261, 'perfect': 3262, 'puzzl': 3263, 'cubeshap': 3264, 'alway': 3265, 'appli': 3266, 'deathobsess': 3267, 'outcast': 3268, 'neighborhood': 3269, 'wildernessthem': 3270, 'fan': 3271, 'and': 3272, 'mountain': 3273, 'bigfoot': 3274, 'deepwood': 3275, 'tracker': 3276, 'injur': 3277, 'burn': 3278, 'flashback': 3279, 'conscious': 3280, 'tibetan': 3281, 'monk': 3282, 'punk': 3283, 'scroll': 3284, 'frozen': 3285, 'thaw': 3286, 'spaceship': 3287, 'trespass': 3288, 'pool': 3289, 'cocoon': 3290, 'energ': 3291, 'vigor': 3292, 'interwoven': 3293, 'jet': 3294, 'due': 3295, 'blond': 3296, 'automobil': 3297, 'mutual': 3298, 'conjoin': 3299, 'martha': 3300, 'let': 3301, 'sweden': 3302, 'friendless': 3303, 'sad': 3304, 'speak': 3305, 'beyond': 3306, 'slobber': 3307, 'st': 3308, 'dognap': 3309, 'veterinarian': 3310, 'henchmen': 3311, 'freewheelin': 3312, 'volkswagen': 3313, 'pace': 3314, 'nascar': 3315, 'familiar': 3316, 'knifewield': 3317, 'resurrect': 3318, 'genderconfus': 3319, 'doll': 3320, 'underway': 3321, 'split': 3322, 'cliqu': 3323, 'retain': 3324, 'lankest': 3325, 'macneil': 3326, 'rediscoveri': 3327, 'crazi': 3328, 'gay': 3329, 'cun': 3330, 'present': 3331, 'christ': 3332, 'anachronist': 3333, 'manner': 3334, 'noxiou': 3335, 'monument': 3336, 'proport': 3337, 'grossli': 3338, 'overweight': 3339, 'klump': 3340, 'obnoxi': 3341, 'preposter': 3342, 'crush': 3343, 'fulfil': 3344, 'drag': 3345, 'onto': 3346, 'goofi': 3347, 'soccer': 3348, 'kuno': 3349, 'becker': 3350, 'madrid': 3351, 'loyalti': 3352, 'acquaint': 3353, 'superstar': 3354, 'sneaker': 3355, 'mj': 3356, 'repres': 3357, 'ban': 3358, 'ostracis': 3359, 'krees': 3360, 'comrad': 3361, 'counterfeit': 3362, 'turbo': 3363, 'sold': 3364, 'everybodi': 3365, 'creeper': 3366, 'wing': 3367, 'feed': 3368, 'frenzi': 3369, 'basement': 3370, 'cortez': 3371, 'sibl': 3372, 'hapless': 3373, 'comatos': 3374, 'gadgetladen': 3375, 'tuxedo': 3376, 'astérix': 3377, 'obélix': 3378, 'numérobi': 3379, 'palac': 3380, 'scuba': 3381, 'diver': 3382, 'infest': 3383, 'rodent': 3384, 'link': 3385, 'ratigan': 3386, 'manhalf': 3387, 'evict': 3388, 'outpost': 3389, 'regiment': 3390, 'ambush': 3391, 'matrix': 3392, 'aback': 3393, 'announc': 3394, 'japanes': 3395, 'seabourn': 3396, 'liner': 3397, 'tanker': 3398, 'gremlin': 3399, 'theyv': 3400, 'skyscrap': 3401, 'highschool': 3402, 'couldnt': 3403, 'allamerican': 3404, 'pursuer': 3405, 'slightli': 3406, 'volcano': 3407, 'erupt': 3408, 'seismologist': 3409, 'screwbal': 3410, 'portal': 3411, 'langenkamp': 3412, 'mediev': 3413, 'sustain': 3414, 'blow': 3415, 'waterg': 3416, 'histor': 3417, 'perspect': 3418, 'alabama': 3419, 'iq': 3420, 'sweetheart': 3421, 'seventeenyearold': 3422, 'luxuri': 3423, 'illfat': 3424, 'rm': 3425, 'titan': 3426, 'neonazi': 3427, 'skinhead': 3428, 'path': 3429, 'shadowi': 3430, 'alia': 3431, 'v': 3432, 'devito': 3433, 'italianamerican': 3434, 'afghan': 3435, 'statu': 3436, 'licenc': 3437, 'banker': 3438, 'poker': 3439, 'royal': 3440, 'montenegro': 3441, 'awkward': 3442, 'spiderlik': 3443, 'befal': 3444, 'well': 3445, 'goal': 3446, 'barbossa': 3447, 'swann': 3448, 'sail': 3449, 'map': 3450, 'navig': 3451, 'treacheri': 3452, 'allianc': 3453, 'asteroid': 3454, 'size': 3455, 'impact': 3456, 'less': 3457, 'deepcor': 3458, 'driller': 3459, 'witchcraft': 3460, 'scof': 3461, 'dumbledor': 3462, 'authoritarian': 3463, 'bureaucrat': 3464, 'courag': 3465, 'friendli': 3466, 'surpris': 3467, 'guidanc': 3468, 'mystic': 3469, 'octob': 3470, 'heavilyarm': 3471, 'somali': 3472, 'stabl': 3473, 'door': 3474, 'messiah': 3475, 'hamunaptra': 3476, 'foreign': 3477, 'legion': 3478, 'mummi': 3479, 'reincarn': 3480, 'biopic': 3481, 'director': 3482, 'aviat': 3483, 'hugh': 3484, 'mid': 3485, 'crucifixion': 3486, 'parapsychologist': 3487, 'remov': 3488, 'skeptic': 3489, 'troublemak': 3490, 'balian': 3491, 'ibelin': 3492, 'jerusalem': 3493, 'crusad': 3494, 'explod': 3495, 'mph': 3496, 'shapeshift': 3497, 'server': 3498, 'marijuana': 3499, 'wind': 3500, 'paper': 3501, 'exorcist': 3502, 'demonologist': 3503, 'policewoman': 3504, 'readili': 3505, 'avail': 3506, 'deathrow': 3507, 'murderess': 3508, 'sleazi': 3509, 'voluptu': 3510, 'scar': 3511, 'stuntman': 3512, 'proof': 3513, 'revolv': 3514, 'subzero': 3515, 'woolli': 3516, 'sabertooth': 3517, 'tiger': 3518, 'sloth': 3519, 'combin': 3520, 'squirrel': 3521, 'rat': 3522, 'scrat': 3523, 'rrate': 3524, 'blame': 3525, 'chunli': 3526, 'crimefight': 3527, 'torment': 3528, 'deprav': 3529, 'compris': 3530, 'gi': 3531, 'pit': 3532, 'halfhuman': 3533, 'halfmachin': 3534, 'skynet': 3535, 'trust': 3536, 'turmoil': 3537, 'temptat': 3538, 'breed': 3539, 'cavedwel': 3540, 'spelunk': 3541}\n",
            "[[   0    0    0 ...  267 1566 1567]\n",
            " [   0    0    0 ...   11  520 1569]\n",
            " [   0    0    0 ...  198  521  971]\n",
            " ...\n",
            " [   0    0    0 ...  465 3538  132]\n",
            " [   0    0    0 ...  411 3539  567]\n",
            " [   0    0    0 ...  969  169  511]]\n"
          ]
        }
      ]
    },
    {
      "cell_type": "markdown",
      "metadata": {
        "id": "upij_1muSHdI"
      },
      "source": [
        "#Split data into train and test "
      ]
    },
    {
      "cell_type": "code",
      "metadata": {
        "colab": {
          "base_uri": "https://localhost:8080/"
        },
        "id": "lF47IhSSVhyG",
        "outputId": "72a90884-88e8-41cf-8e96-582a64caabfd"
      },
      "source": [
        "X_train, X_test, y_train, y_test = train_test_split(descr_sequences, short_df['age rate'], test_size=0.1, random_state=42)\n",
        "\n",
        "\n",
        "print(np.array(X_train))"
      ],
      "execution_count": 313,
      "outputs": [
        {
          "output_type": "stream",
          "name": "stdout",
          "text": [
            "[[   0    0    0 ... 1271   24  223]\n",
            " [   0    0  124 ... 1840   46  141]\n",
            " [   0    0    0 ... 1053  216 1694]\n",
            " ...\n",
            " [   0    0    0 ...  892  121  657]\n",
            " [   0    0    0 ...  940  580 1210]\n",
            " [   0    0    0 ...  121 1824   49]]\n"
          ]
        }
      ]
    },
    {
      "cell_type": "code",
      "metadata": {
        "colab": {
          "base_uri": "https://localhost:8080/"
        },
        "id": "1hxmfWndU6Uy",
        "outputId": "18a90e3f-6c54-4d1e-e3f4-66cdcdba26a0"
      },
      "source": [
        "l = len(X_train[363])\n",
        "print(l)"
      ],
      "execution_count": 314,
      "outputs": [
        {
          "output_type": "stream",
          "name": "stdout",
          "text": [
            "25\n"
          ]
        }
      ]
    },
    {
      "cell_type": "markdown",
      "metadata": {
        "id": "NW4MLy6EZ4ob"
      },
      "source": [
        "# Model and Train"
      ]
    },
    {
      "cell_type": "code",
      "metadata": {
        "colab": {
          "base_uri": "https://localhost:8080/"
        },
        "id": "qDUiVsQmZ5r3",
        "outputId": "fedf3fde-e129-47df-ccfc-32582a484cb7"
      },
      "source": [
        "model = tf.keras.models.Sequential([\n",
        "  tf.keras.layers.Embedding(input_dim=vocab_size,\n",
        "                           output_dim=embedding_dim,\n",
        "                           input_length=maxlen),\n",
        "  tf.keras.layers.Flatten(),\n",
        "  tf.keras.layers.Dense(2000,activation='relu'),\n",
        "  tf.keras.layers.Dense(500,activation='relu'),\n",
        "  tf.keras.layers.Dense(100,activation='relu'),\n",
        "  tf.keras.layers.Dense(num_categories, activation=tf.nn.sigmoid)\n",
        "])\n",
        "\n",
        "model.compile(optimizer='nadam',\n",
        "              loss='categorical_crossentropy',\n",
        "              metrics=['accuracy'])\n",
        "\n",
        "modelcheckpoint = tf.keras.callbacks.ModelCheckpoint(filepath=output_dir+\n",
        "                                  \"/weights.{epoch:02d}.hdf5\")\n",
        "\n",
        "model.summary()"
      ],
      "execution_count": 315,
      "outputs": [
        {
          "output_type": "stream",
          "name": "stdout",
          "text": [
            "Model: \"sequential_5\"\n",
            "_________________________________________________________________\n",
            " Layer (type)                Output Shape              Param #   \n",
            "=================================================================\n",
            " embedding_5 (Embedding)     (None, 25, 64)            226688    \n",
            "                                                                 \n",
            " flatten_5 (Flatten)         (None, 1600)              0         \n",
            "                                                                 \n",
            " dense_20 (Dense)            (None, 2000)              3202000   \n",
            "                                                                 \n",
            " dense_21 (Dense)            (None, 500)               1000500   \n",
            "                                                                 \n",
            " dense_22 (Dense)            (None, 100)               50100     \n",
            "                                                                 \n",
            " dense_23 (Dense)            (None, 1)                 101       \n",
            "                                                                 \n",
            "=================================================================\n",
            "Total params: 4,479,389\n",
            "Trainable params: 4,479,389\n",
            "Non-trainable params: 0\n",
            "_________________________________________________________________\n"
          ]
        }
      ]
    },
    {
      "cell_type": "code",
      "metadata": {
        "colab": {
          "base_uri": "https://localhost:8080/"
        },
        "id": "QuoF-sk5-fVz",
        "outputId": "c7823b19-802a-4d99-8765-47279b946331"
      },
      "source": [
        "#embedding level\n",
        "n_dim, n_unique_words, n_dim*n_unique_words"
      ],
      "execution_count": 316,
      "outputs": [
        {
          "output_type": "execute_result",
          "data": {
            "text/plain": [
              "(64, 5000, 320000)"
            ]
          },
          "metadata": {},
          "execution_count": 316
        }
      ]
    },
    {
      "cell_type": "code",
      "metadata": {
        "colab": {
          "base_uri": "https://localhost:8080/"
        },
        "id": "i0zQgJdk_GKg",
        "outputId": "7dd798cf-1bcf-431a-b761-72925aa880f3"
      },
      "source": [
        "#flatten\n",
        "max_decription_length, n_dim, n_dim*max_decription_length"
      ],
      "execution_count": 317,
      "outputs": [
        {
          "output_type": "execute_result",
          "data": {
            "text/plain": [
              "(100, 64, 6400)"
            ]
          },
          "metadata": {},
          "execution_count": 317
        }
      ]
    },
    {
      "cell_type": "code",
      "metadata": {
        "colab": {
          "base_uri": "https://localhost:8080/"
        },
        "id": "uvwsE8tX_ipm",
        "outputId": "3ec590bc-072f-4865-adcc-56cfb0c9235a"
      },
      "source": [
        "#dense\n",
        "n_dense, n_dim*max_decription_length*n_dense+n_dense #weights + biases"
      ],
      "execution_count": 318,
      "outputs": [
        {
          "output_type": "execute_result",
          "data": {
            "text/plain": [
              "(64, 409664)"
            ]
          },
          "metadata": {},
          "execution_count": 318
        }
      ]
    },
    {
      "cell_type": "code",
      "metadata": {
        "colab": {
          "base_uri": "https://localhost:8080/"
        },
        "id": "TQcXvJnR_3mc",
        "outputId": "b866e61e-e25a-436e-c089-5563b710277a"
      },
      "source": [
        "#output\n",
        "n_dense + 1"
      ],
      "execution_count": 319,
      "outputs": [
        {
          "output_type": "execute_result",
          "data": {
            "text/plain": [
              "65"
            ]
          },
          "metadata": {},
          "execution_count": 319
        }
      ]
    },
    {
      "cell_type": "markdown",
      "metadata": {
        "id": "h9Qef1oGBp83"
      },
      "source": [
        "#Configure model"
      ]
    },
    {
      "cell_type": "code",
      "metadata": {
        "colab": {
          "base_uri": "https://localhost:8080/"
        },
        "id": "ZamjHmEIBGGN",
        "outputId": "dca81dd8-b210-44b5-800b-f4e5dd395aa7"
      },
      "source": [
        "model.compile(loss='binary_crossentropy', optimizer='nadam', metrics=['accuracy'])\n",
        "\n",
        "\n",
        "modelcheckpoint = ModelCheckpoint(filepath=output_dir+\n",
        "                                  \"/weights.{epoch:02d}.hdf5\")\n",
        "callbacks=[modelcheckpoint]\n",
        "\n",
        "\n",
        "\n",
        "if not os.path.exists(output_dir):\n",
        "    os.makedirs(output_dir)\n",
        "\n",
        "model.fit(X_train.astype('float32'),\n",
        "          np.array(y_train).astype('float32').reshape((-1,1)), \n",
        "          batch_size=batch_size, epochs=epochs, verbose=1, \n",
        "          validation_data=(X_test.astype('float32'), \n",
        "          np.array(y_test).astype('float32').reshape((-1,1))), callbacks=callbacks)"
      ],
      "execution_count": 320,
      "outputs": [
        {
          "output_type": "stream",
          "name": "stdout",
          "text": [
            "Epoch 1/6\n",
            "23/23 [==============================] - 4s 101ms/step - loss: 0.6854 - accuracy: 0.5567 - val_loss: 0.6852 - val_accuracy: 0.5443\n",
            "Epoch 2/6\n",
            "23/23 [==============================] - 2s 95ms/step - loss: 0.5235 - accuracy: 0.7266 - val_loss: 0.9460 - val_accuracy: 0.5949\n",
            "Epoch 3/6\n",
            "23/23 [==============================] - 2s 94ms/step - loss: 0.0412 - accuracy: 0.9873 - val_loss: 2.0398 - val_accuracy: 0.4937\n",
            "Epoch 4/6\n",
            "23/23 [==============================] - 2s 94ms/step - loss: 0.0035 - accuracy: 0.9986 - val_loss: 1.3339 - val_accuracy: 0.6582\n",
            "Epoch 5/6\n",
            "23/23 [==============================] - 2s 92ms/step - loss: 2.9640e-04 - accuracy: 1.0000 - val_loss: 1.3934 - val_accuracy: 0.6456\n",
            "Epoch 6/6\n",
            "23/23 [==============================] - 2s 94ms/step - loss: 1.2602e-04 - accuracy: 1.0000 - val_loss: 1.3978 - val_accuracy: 0.6962\n"
          ]
        },
        {
          "output_type": "execute_result",
          "data": {
            "text/plain": [
              "<keras.callbacks.History at 0x7f61fb1ba190>"
            ]
          },
          "metadata": {},
          "execution_count": 320
        }
      ]
    },
    {
      "cell_type": "code",
      "metadata": {
        "colab": {
          "base_uri": "https://localhost:8080/"
        },
        "id": "BayeNDj8hUmw",
        "outputId": "42c44563-be72-4d05-b58d-997096f70ca2"
      },
      "source": [
        "score = model.evaluate(np.array(X_test), np.array(y_test)) \n",
        "\n",
        "print(\"Test Score:\", score[0])\n",
        "print(\"Test Accuracy:\", score[1])"
      ],
      "execution_count": 321,
      "outputs": [
        {
          "output_type": "stream",
          "name": "stdout",
          "text": [
            "3/3 [==============================] - 0s 11ms/step - loss: 1.3978 - accuracy: 0.6962\n",
            "Test Score: 1.3978180885314941\n",
            "Test Accuracy: 0.6962025165557861\n"
          ]
        }
      ]
    },
    {
      "cell_type": "markdown",
      "metadata": {
        "id": "Ryi-R8bSdXoo"
      },
      "source": [
        "# Accuracy by Label"
      ]
    },
    {
      "cell_type": "code",
      "metadata": {
        "id": "I-0PqTQqdW6U"
      },
      "source": [
        "model.load_weights(output_dir+\"/weights.02.hdf5\") # NOT zero-indexed"
      ],
      "execution_count": 322,
      "outputs": []
    },
    {
      "cell_type": "code",
      "metadata": {
        "id": "O5udOK_h-OzI"
      },
      "source": [
        "y_hat = model.predict(X_test)"
      ],
      "execution_count": 323,
      "outputs": []
    },
    {
      "cell_type": "code",
      "metadata": {
        "colab": {
          "base_uri": "https://localhost:8080/"
        },
        "id": "qICDY9fFAGEJ",
        "outputId": "d3615e88-7656-4793-c79a-325191b15139"
      },
      "source": [
        "len(y_hat)"
      ],
      "execution_count": 324,
      "outputs": [
        {
          "output_type": "execute_result",
          "data": {
            "text/plain": [
              "79"
            ]
          },
          "metadata": {},
          "execution_count": 324
        }
      ]
    },
    {
      "cell_type": "code",
      "metadata": {
        "colab": {
          "base_uri": "https://localhost:8080/"
        },
        "id": "tPp9QO34AJjG",
        "outputId": "0fd1bb68-cb40-4aaf-d485-7ee3f250e333"
      },
      "source": [
        "y_hat[3]"
      ],
      "execution_count": 325,
      "outputs": [
        {
          "output_type": "execute_result",
          "data": {
            "text/plain": [
              "array([0.11950082], dtype=float32)"
            ]
          },
          "metadata": {},
          "execution_count": 325
        }
      ]
    },
    {
      "cell_type": "code",
      "metadata": {
        "id": "bwm0oMhCEHZ2"
      },
      "source": [
        ""
      ],
      "execution_count": 325,
      "outputs": []
    },
    {
      "cell_type": "code",
      "metadata": {
        "colab": {
          "base_uri": "https://localhost:8080/"
        },
        "id": "llvc6DVhAOkM",
        "outputId": "7081c68f-1111-4565-f600-d1ebc76c2f7e"
      },
      "source": [
        "print(np.array(y_test)[3])"
      ],
      "execution_count": 326,
      "outputs": [
        {
          "output_type": "stream",
          "name": "stdout",
          "text": [
            "1\n"
          ]
        }
      ]
    },
    {
      "cell_type": "code",
      "metadata": {
        "colab": {
          "base_uri": "https://localhost:8080/"
        },
        "id": "GTt4E9U5Dpmm",
        "outputId": "c48db10f-a057-4206-ba8e-6bbb01a781b8"
      },
      "source": [
        "print(type(y_hat))"
      ],
      "execution_count": 327,
      "outputs": [
        {
          "output_type": "stream",
          "name": "stdout",
          "text": [
            "<class 'numpy.ndarray'>\n"
          ]
        }
      ]
    },
    {
      "cell_type": "code",
      "metadata": {
        "colab": {
          "base_uri": "https://localhost:8080/",
          "height": 37
        },
        "id": "2n-TWsttEKWR",
        "outputId": "8df0c2c8-7b34-423e-b027-5ebb3471bdb9"
      },
      "source": [
        "pct_auc = roc_auc_score(y_test, y_hat)*100.0\n",
        "\"{:0.2f}\".format(pct_auc)"
      ],
      "execution_count": 329,
      "outputs": [
        {
          "output_type": "execute_result",
          "data": {
            "application/vnd.google.colaboratory.intrinsic+json": {
              "type": "string"
            },
            "text/plain": [
              "'64.47'"
            ]
          },
          "metadata": {},
          "execution_count": 329
        }
      ]
    },
    {
      "cell_type": "code",
      "metadata": {
        "id": "Gxskx2ALEYOb"
      },
      "source": [
        "float_y_hat = []\n",
        "for y in y_hat:\n",
        "    float_y_hat.append(y[0])"
      ],
      "execution_count": 330,
      "outputs": []
    },
    {
      "cell_type": "code",
      "metadata": {
        "colab": {
          "base_uri": "https://localhost:8080/"
        },
        "id": "UDgf_k5OFcKk",
        "outputId": "7cc731a7-703f-4192-bc9a-0343c5615397"
      },
      "source": [
        "ydf = pd.DataFrame(list(zip(float_y_hat, y_test)), columns=['y_hat', 'y'])\n",
        "\n",
        "with pd.option_context('display.max_rows', None, 'display.max_columns', None):\n",
        "     print(ydf)"
      ],
      "execution_count": 377,
      "outputs": [
        {
          "output_type": "stream",
          "name": "stdout",
          "text": [
            "       y_hat  y\n",
            "0   0.176884  0\n",
            "1   0.005274  0\n",
            "2   0.761301  1\n",
            "3   0.119501  1\n",
            "4   0.080103  0\n",
            "5   0.262201  0\n",
            "6   0.054166  0\n",
            "7   0.019870  0\n",
            "8   0.038521  1\n",
            "9   0.060719  1\n",
            "10  0.643186  0\n",
            "11  0.091632  1\n",
            "12  0.143416  1\n",
            "13  0.269978  1\n",
            "14  0.075831  0\n",
            "15  0.566653  1\n",
            "16  0.552250  1\n",
            "17  0.137174  0\n",
            "18  0.054910  0\n",
            "19  0.076055  0\n",
            "20  0.065984  0\n",
            "21  0.230226  0\n",
            "22  0.054895  1\n",
            "23  0.158809  1\n",
            "24  0.158608  1\n",
            "25  0.439810  1\n",
            "26  0.162589  0\n",
            "27  0.093510  0\n",
            "28  0.335297  1\n",
            "29  0.109020  1\n",
            "30  0.061583  0\n",
            "31  0.050390  1\n",
            "32  0.149148  0\n",
            "33  0.089358  0\n",
            "34  0.071658  1\n",
            "35  0.177706  1\n",
            "36  0.357569  1\n",
            "37  0.483133  1\n",
            "38  0.245234  0\n",
            "39  0.244338  1\n",
            "40  0.031822  1\n",
            "41  0.049226  1\n",
            "42  0.050477  0\n",
            "43  0.394927  0\n",
            "44  0.029532  0\n",
            "45  0.052782  1\n",
            "46  0.087576  1\n",
            "47  0.102099  1\n",
            "48  0.203840  1\n",
            "49  0.570816  1\n",
            "50  0.144514  0\n",
            "51  0.012251  0\n",
            "52  0.070818  0\n",
            "53  0.038261  0\n",
            "54  0.041281  1\n",
            "55  0.108239  0\n",
            "56  0.048457  0\n",
            "57  0.302002  0\n",
            "58  0.211763  1\n",
            "59  0.181742  1\n",
            "60  0.038056  0\n",
            "61  0.238686  0\n",
            "62  0.145009  0\n",
            "63  0.463665  1\n",
            "64  0.234502  1\n",
            "65  0.491518  0\n",
            "66  0.341961  0\n",
            "67  0.123651  0\n",
            "68  0.044302  0\n",
            "69  0.089167  0\n",
            "70  0.042443  0\n",
            "71  0.198263  1\n",
            "72  0.081303  0\n",
            "73  0.694180  1\n",
            "74  0.318644  0\n",
            "75  0.034962  0\n",
            "76  0.012885  0\n",
            "77  0.094669  0\n",
            "78  0.015219  1\n"
          ]
        }
      ]
    },
    {
      "cell_type": "code",
      "metadata": {
        "id": "7cbqE3YmX51C",
        "outputId": "18ac8a05-5d65-40b4-e1cc-abbee90ebd32",
        "colab": {
          "base_uri": "https://localhost:8080/"
        }
      },
      "source": [
        "print(y_test.head())"
      ],
      "execution_count": 348,
      "outputs": [
        {
          "output_type": "stream",
          "name": "stdout",
          "text": [
            "752    0\n",
            "39     0\n",
            "211    1\n",
            "199    1\n",
            "235    0\n",
            "Name: age rate, dtype: int64\n"
          ]
        }
      ]
    },
    {
      "cell_type": "code",
      "metadata": {
        "id": "7JDXmDj1UqKL",
        "outputId": "ade74be6-f9f0-4af9-e53b-561153a9e286",
        "colab": {
          "base_uri": "https://localhost:8080/"
        }
      },
      "source": [
        "print(df.iloc[752])\n",
        "print('Description:', df['Description'][752])\n",
        "print('Prediction:', y_hat[0])\n",
        "print(\"Reality:\", y_test.iloc[0])"
      ],
      "execution_count": 360,
      "outputs": [
        {
          "output_type": "stream",
          "name": "stdout",
          "text": [
            "Unnamed: 0                                                     752\n",
            "Name of movie                                           Armageddon\n",
            "Description      After discovering that an asteroid the size of...\n",
            "Age rate                                                     PG-13\n",
            "Year                                                          1998\n",
            "Runtime                                                        151\n",
            "Genre                        Action, Adventure, Sci-Fi            \n",
            "Name: 752, dtype: object\n",
            "Description: After discovering that an asteroid the size of Texas is going to impact Earth in less than a month, NASA recruits a misfit team of deep-core drillers to save the planet.\n",
            "Prediction: [0.17688385]\n",
            "Reality: 0\n"
          ]
        }
      ]
    },
    {
      "cell_type": "code",
      "metadata": {
        "colab": {
          "base_uri": "https://localhost:8080/",
          "height": 265
        },
        "id": "K0AaMHoTDbq8",
        "outputId": "67c8cfe2-52c1-4431-c407-956e296ff516"
      },
      "source": [
        "plt.hist(y_hat)\n",
        "_ = plt.axvline(x=0.5, color='orange')"
      ],
      "execution_count": 328,
      "outputs": [
        {
          "output_type": "display_data",
          "data": {
            "image/png": "[encoded data removed]",
            "text/plain": [
              "<Figure size 432x288 with 1 Axes>"
            ]
          },
          "metadata": {
            "needs_background": "light"
          }
        }
      ]
    },
    {
      "cell_type": "code",
      "metadata": {
        "id": "yeuypB5jaQly",
        "outputId": "ffee9656-dfae-40f9-816a-c6624b9a7c81",
        "colab": {
          "base_uri": "https://localhost:8080/"
        }
      },
      "source": [
        "print(len(ydf[(ydf.y == 1) & (ydf.y_hat < 0.1)]))\n",
        "print(len(y_test))"
      ],
      "execution_count": 373,
      "outputs": [
        {
          "output_type": "stream",
          "name": "stdout",
          "text": [
            "12\n",
            "79\n"
          ]
        }
      ]
    },
    {
      "cell_type": "code",
      "metadata": {
        "id": "UFFa4UZgbjr4",
        "outputId": "c870a853-2c9b-4cd9-a39c-23c787a63c91",
        "colab": {
          "base_uri": "https://localhost:8080/",
          "height": 206
        }
      },
      "source": [
        "ydf[(ydf.y == 1) & (ydf.y_hat < 0.1)].head()"
      ],
      "execution_count": 375,
      "outputs": [
        {
          "output_type": "execute_result",
          "data": {
            "text/html": [
              "<div>\n",
              "<style scoped>\n",
              "    .dataframe tbody tr th:only-of-type {\n",
              "        vertical-align: middle;\n",
              "    }\n",
              "\n",
              "    .dataframe tbody tr th {\n",
              "        vertical-align: top;\n",
              "    }\n",
              "\n",
              "    .dataframe thead th {\n",
              "        text-align: right;\n",
              "    }\n",
              "</style>\n",
              "<table border=\"1\" class=\"dataframe\">\n",
              "  <thead>\n",
              "    <tr style=\"text-align: right;\">\n",
              "      <th></th>\n",
              "      <th>y_hat</th>\n",
              "      <th>y</th>\n",
              "    </tr>\n",
              "  </thead>\n",
              "  <tbody>\n",
              "    <tr>\n",
              "      <th>8</th>\n",
              "      <td>0.038521</td>\n",
              "      <td>1</td>\n",
              "    </tr>\n",
              "    <tr>\n",
              "      <th>9</th>\n",
              "      <td>0.060719</td>\n",
              "      <td>1</td>\n",
              "    </tr>\n",
              "    <tr>\n",
              "      <th>11</th>\n",
              "      <td>0.091632</td>\n",
              "      <td>1</td>\n",
              "    </tr>\n",
              "    <tr>\n",
              "      <th>22</th>\n",
              "      <td>0.054895</td>\n",
              "      <td>1</td>\n",
              "    </tr>\n",
              "    <tr>\n",
              "      <th>31</th>\n",
              "      <td>0.050390</td>\n",
              "      <td>1</td>\n",
              "    </tr>\n",
              "  </tbody>\n",
              "</table>\n",
              "</div>"
            ],
            "text/plain": [
              "       y_hat  y\n",
              "8   0.038521  1\n",
              "9   0.060719  1\n",
              "11  0.091632  1\n",
              "22  0.054895  1\n",
              "31  0.050390  1"
            ]
          },
          "metadata": {},
          "execution_count": 375
        }
      ]
    },
    {
      "cell_type": "code",
      "metadata": {
        "id": "bvLRRUOQbyhz"
      },
      "source": [
        "print(df.iloc[752])\n",
        "print('Description:', df['Description'][752])\n",
        "print('Prediction:', y_hat[8])\n",
        "print(\"Reality:\", y_test.iloc[8])"
      ],
      "execution_count": null,
      "outputs": []
    },
    {
      "cell_type": "code",
      "metadata": {
        "id": "bsDgOShEbHKW",
        "outputId": "7cffd513-5f8b-4f64-cb63-14b3cb89b8eb",
        "colab": {
          "base_uri": "https://localhost:8080/"
        }
      },
      "source": [
        "print(ydf[(ydf.y == 0) & (ydf.y_hat > 0.9)])\n",
        "print(len(y_test))"
      ],
      "execution_count": 376,
      "outputs": [
        {
          "output_type": "stream",
          "name": "stdout",
          "text": [
            "Empty DataFrame\n",
            "Columns: [y_hat, y]\n",
            "Index: []\n",
            "79\n"
          ]
        }
      ]
    },
    {
      "cell_type": "markdown",
      "metadata": {
        "id": "hfGhSKfDdVeg"
      },
      "source": [
        "# Load/Save Model"
      ]
    },
    {
      "cell_type": "code",
      "metadata": {
        "id": "uIl2JVXOdcTm",
        "colab": {
          "base_uri": "https://localhost:8080/"
        },
        "outputId": "090ad55a-a6b5-4a79-f5cd-78ebf2ac6a3e"
      },
      "source": [
        "model.save(output_dir+'/model_v002')"
      ],
      "execution_count": 304,
      "outputs": [
        {
          "output_type": "stream",
          "name": "stdout",
          "text": [
            "INFO:tensorflow:Assets written to: model_output/dense/model_v001/assets\n"
          ]
        }
      ]
    }
  ]
}