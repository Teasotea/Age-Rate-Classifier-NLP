{
  "nbformat": 4,
  "nbformat_minor": 0,
  "metadata": {
    "colab": {
      "name": "Kaggle dataset other_features_dense_age_rate_classifier.ipynb",
      "provenance": [],
      "authorship_tag": "ABX9TyO4xbzc5flaMJGpgqrBLjNf",
      "include_colab_link": true
    },
    "kernelspec": {
      "display_name": "Python 3",
      "name": "python3"
    },
    "language_info": {
      "name": "python"
    }
  },
  "cells": [
    {
      "cell_type": "markdown",
      "metadata": {
        "id": "view-in-github",
        "colab_type": "text"
      },
      "source": [
        "<a href=\"https://colab.research.google.com/github/Teasotea/Age-Rate-Classifier-NLP/blob/main/Kaggle_dataset_other_features_dense_age_rate_classifier.ipynb\" target=\"_parent\"><img src=\"https://colab.research.google.com/assets/colab-badge.svg\" alt=\"Open In Colab\"/></a>"
      ]
    },
    {
      "cell_type": "markdown",
      "metadata": {
        "id": "485oDNWzjubB"
      },
      "source": [
        "\n",
        "# Dense Age Rate Classifier\n",
        "\n"
      ]
    },
    {
      "cell_type": "markdown",
      "metadata": {
        "id": "z59FxAtZkASY"
      },
      "source": [
        "###TODO: Build a dense neural net to classify  movies by their age rate."
      ]
    },
    {
      "cell_type": "code",
      "metadata": {
        "colab": {
          "base_uri": "https://localhost:8080/"
        },
        "id": "hw2_zx9T9l9v",
        "outputId": "2c655016-b3ca-485b-f5dd-fcebda5e49a2"
      },
      "source": [
        "pip install geotext\n"
      ],
      "execution_count": 4,
      "outputs": [
        {
          "output_type": "stream",
          "name": "stdout",
          "text": [
            "Collecting geotext\n",
            "  Downloading geotext-0.4.0-py2.py3-none-any.whl (2.0 MB)\n",
            "\u001b[K     |████████████████████████████████| 2.0 MB 7.8 MB/s \n",
            "\u001b[?25hInstalling collected packages: geotext\n",
            "Successfully installed geotext-0.4.0\n"
          ]
        }
      ]
    },
    {
      "cell_type": "code",
      "metadata": {
        "colab": {
          "base_uri": "https://localhost:8080/"
        },
        "id": "xcSGqEOSCfGG",
        "outputId": "e62d3b07-065b-4189-e198-d8851e6481f4"
      },
      "source": [
        "! pip install kaggle"
      ],
      "execution_count": 5,
      "outputs": [
        {
          "output_type": "stream",
          "name": "stdout",
          "text": [
            "Requirement already satisfied: kaggle in /usr/local/lib/python3.7/dist-packages (1.5.12)\n",
            "Requirement already satisfied: requests in /usr/local/lib/python3.7/dist-packages (from kaggle) (2.23.0)\n",
            "Requirement already satisfied: python-slugify in /usr/local/lib/python3.7/dist-packages (from kaggle) (5.0.2)\n",
            "Requirement already satisfied: python-dateutil in /usr/local/lib/python3.7/dist-packages (from kaggle) (2.8.2)\n",
            "Requirement already satisfied: urllib3 in /usr/local/lib/python3.7/dist-packages (from kaggle) (1.24.3)\n",
            "Requirement already satisfied: six>=1.10 in /usr/local/lib/python3.7/dist-packages (from kaggle) (1.15.0)\n",
            "Requirement already satisfied: tqdm in /usr/local/lib/python3.7/dist-packages (from kaggle) (4.62.3)\n",
            "Requirement already satisfied: certifi in /usr/local/lib/python3.7/dist-packages (from kaggle) (2021.10.8)\n",
            "Requirement already satisfied: text-unidecode>=1.3 in /usr/local/lib/python3.7/dist-packages (from python-slugify->kaggle) (1.3)\n",
            "Requirement already satisfied: chardet<4,>=3.0.2 in /usr/local/lib/python3.7/dist-packages (from requests->kaggle) (3.0.4)\n",
            "Requirement already satisfied: idna<3,>=2.5 in /usr/local/lib/python3.7/dist-packages (from requests->kaggle) (2.10)\n"
          ]
        }
      ]
    },
    {
      "cell_type": "code",
      "metadata": {
        "id": "NUuNJKXYCluo",
        "colab": {
          "base_uri": "https://localhost:8080/"
        },
        "outputId": "e1b52d54-90f7-4417-bb52-b39f11119e6d"
      },
      "source": [
        "! mkdir ~/.kaggle"
      ],
      "execution_count": 12,
      "outputs": [
        {
          "output_type": "stream",
          "name": "stdout",
          "text": [
            "mkdir: cannot create directory ‘/root/.kaggle’: File exists\n"
          ]
        }
      ]
    },
    {
      "cell_type": "code",
      "metadata": {
        "id": "Ij_0JzBRCoGG"
      },
      "source": [
        "! cp kaggle.json ~/.kaggle/\n",
        "! chmod 600 ~/.kaggle/kaggle.json"
      ],
      "execution_count": 13,
      "outputs": []
    },
    {
      "cell_type": "code",
      "metadata": {
        "id": "xBKFQo6YkOtX",
        "colab": {
          "base_uri": "https://localhost:8080/"
        },
        "outputId": "036f04c6-5702-404e-cb6b-6fe95a23698b"
      },
      "source": [
        "import os\n",
        "import io\n",
        "import json\n",
        "\n",
        "import tensorflow as tf\n",
        "import numpy as np\n",
        "import pandas as pd\n",
        "import matplotlib.pyplot as plt\n",
        "\n",
        "from sklearn import model_selection\n",
        "from sklearn.preprocessing import LabelEncoder \n",
        "from sklearn.model_selection import train_test_split\n",
        "from sklearn.metrics import roc_auc_score, roc_curve\n",
        "from tensorflow.keras.preprocessing.sequence import pad_sequences \n",
        "from tensorflow.keras.models import Sequential\n",
        "from tensorflow.keras.layers import Dense, Flatten, Dropout\n",
        "from tensorflow.keras.layers import Embedding \n",
        "from tensorflow.keras.callbacks import ModelCheckpoint\n",
        "from keras.preprocessing.text import Tokenizer\n",
        "\n",
        "import nltk\n",
        "from nltk import word_tokenize, sent_tokenize\n",
        "from nltk.corpus import names\n",
        "from nltk.corpus import stopwords\n",
        "from nltk.stem.porter import *\n",
        "nltk.download('punkt')\n",
        "nltk.download('stopwords')\n",
        "nltk.download('names')\n",
        "from geotext import GeoText\n",
        "import string"
      ],
      "execution_count": 8,
      "outputs": [
        {
          "output_type": "stream",
          "name": "stdout",
          "text": [
            "[nltk_data] Downloading package punkt to /root/nltk_data...\n",
            "[nltk_data]   Unzipping tokenizers/punkt.zip.\n",
            "[nltk_data] Downloading package stopwords to /root/nltk_data...\n",
            "[nltk_data]   Unzipping corpora/stopwords.zip.\n",
            "[nltk_data] Downloading package names to /root/nltk_data...\n",
            "[nltk_data]   Unzipping corpora/names.zip.\n"
          ]
        }
      ]
    },
    {
      "cell_type": "code",
      "metadata": {
        "id": "RVXfsqYrDRLQ"
      },
      "source": [
        ""
      ],
      "execution_count": null,
      "outputs": []
    },
    {
      "cell_type": "markdown",
      "metadata": {
        "id": "MDfwdZ8vQ44b"
      },
      "source": [
        "#Old Data"
      ]
    },
    {
      "cell_type": "code",
      "metadata": {
        "colab": {
          "base_uri": "https://localhost:8080/",
          "height": 310
        },
        "id": "8oc0x2qrpMa9",
        "outputId": "62e7eae3-53b7-4d12-b84b-15deb62f8fc2"
      },
      "source": [
        "dataset_url = 'https://raw.githubusercontent.com/Teasotea/Age-Rate-Classifier-NLP/main/IMDB_data.csv'\n",
        "df = pd.read_csv(dataset_url)\n",
        "df.head()"
      ],
      "execution_count": 276,
      "outputs": [
        {
          "output_type": "execute_result",
          "data": {
            "text/html": [
              "<div>\n",
              "<style scoped>\n",
              "    .dataframe tbody tr th:only-of-type {\n",
              "        vertical-align: middle;\n",
              "    }\n",
              "\n",
              "    .dataframe tbody tr th {\n",
              "        vertical-align: top;\n",
              "    }\n",
              "\n",
              "    .dataframe thead th {\n",
              "        text-align: right;\n",
              "    }\n",
              "</style>\n",
              "<table border=\"1\" class=\"dataframe\">\n",
              "  <thead>\n",
              "    <tr style=\"text-align: right;\">\n",
              "      <th></th>\n",
              "      <th>Unnamed: 0</th>\n",
              "      <th>Name of movie</th>\n",
              "      <th>Description</th>\n",
              "      <th>Age rate</th>\n",
              "      <th>Year</th>\n",
              "      <th>Runtime</th>\n",
              "      <th>Genre</th>\n",
              "    </tr>\n",
              "  </thead>\n",
              "  <tbody>\n",
              "    <tr>\n",
              "      <th>0</th>\n",
              "      <td>0</td>\n",
              "      <td>The Shawshank Redemption</td>\n",
              "      <td>Two imprisoned men bond over a number of years...</td>\n",
              "      <td>R</td>\n",
              "      <td>1994</td>\n",
              "      <td>142</td>\n",
              "      <td>Drama</td>\n",
              "    </tr>\n",
              "    <tr>\n",
              "      <th>1</th>\n",
              "      <td>1</td>\n",
              "      <td>The Godfather</td>\n",
              "      <td>The Godfather follows Vito Corleone Don of the...</td>\n",
              "      <td>R</td>\n",
              "      <td>1972</td>\n",
              "      <td>175</td>\n",
              "      <td>Crime, Drama</td>\n",
              "    </tr>\n",
              "    <tr>\n",
              "      <th>2</th>\n",
              "      <td>2</td>\n",
              "      <td>Pulp Fiction</td>\n",
              "      <td>The lives of two mob hitmen, a boxer, a gangst...</td>\n",
              "      <td>R</td>\n",
              "      <td>1994</td>\n",
              "      <td>154</td>\n",
              "      <td>Crime, Drama</td>\n",
              "    </tr>\n",
              "    <tr>\n",
              "      <th>3</th>\n",
              "      <td>3</td>\n",
              "      <td>The Godfather: Part II</td>\n",
              "      <td>The early life and career of Vito Corleone in ...</td>\n",
              "      <td>R</td>\n",
              "      <td>1974</td>\n",
              "      <td>202</td>\n",
              "      <td>Crime, Drama</td>\n",
              "    </tr>\n",
              "    <tr>\n",
              "      <th>4</th>\n",
              "      <td>4</td>\n",
              "      <td>Inception</td>\n",
              "      <td>A thief who steals corporate secrets through t...</td>\n",
              "      <td>PG-13</td>\n",
              "      <td>2010</td>\n",
              "      <td>148</td>\n",
              "      <td>Action, Adventure, Sci-Fi</td>\n",
              "    </tr>\n",
              "  </tbody>\n",
              "</table>\n",
              "</div>"
            ],
            "text/plain": [
              "   Unnamed: 0  ...                                  Genre\n",
              "0           0  ...                      Drama            \n",
              "1           1  ...               Crime, Drama            \n",
              "2           2  ...               Crime, Drama            \n",
              "3           3  ...               Crime, Drama            \n",
              "4           4  ...  Action, Adventure, Sci-Fi            \n",
              "\n",
              "[5 rows x 7 columns]"
            ]
          },
          "metadata": {},
          "execution_count": 276
        }
      ]
    },
    {
      "cell_type": "code",
      "metadata": {
        "id": "3N2DvPw3Nu5c",
        "colab": {
          "base_uri": "https://localhost:8080/"
        },
        "outputId": "b6859af4-a315-4bdf-8744-8ce684ec98ef"
      },
      "source": [
        "# is_r = list()\n",
        "# for i in df['Age rate']:\n",
        "#   if i=='R': is_r.append(1)\n",
        "#   else: is_r.append(0)\n",
        "# print(is_r.count(0), \":\", is_r.count(1))"
      ],
      "execution_count": null,
      "outputs": [
        {
          "output_type": "stream",
          "name": "stdout",
          "text": [
            "447 : 338\n"
          ]
        }
      ]
    },
    {
      "cell_type": "markdown",
      "metadata": {
        "id": "s8VfG4JtAU2Y"
      },
      "source": [
        "#Load data from Kaggle"
      ]
    },
    {
      "cell_type": "code",
      "metadata": {
        "colab": {
          "base_uri": "https://localhost:8080/"
        },
        "id": "X_rBLNPeC6KE",
        "outputId": "b985ff25-af0d-464e-ba47-106fef685816"
      },
      "source": [
        "#1\n",
        "! kaggle datasets download lukelarue/movie-attributes-for-3400-movies-from-20002020\n",
        "! unzip movie-attributes-for-3400-movies-from-20002020.zip\n"
      ],
      "execution_count": 209,
      "outputs": [
        {
          "output_type": "stream",
          "name": "stdout",
          "text": [
            "movie-attributes-for-3400-movies-from-20002020.zip: Skipping, found more recently modified local copy (use --force to force download)\n",
            "Archive:  movie-attributes-for-3400-movies-from-20002020.zip\n",
            "replace Attributes_DataFrame.csv? [y]es, [n]o, [A]ll, [N]one, [r]ename: "
          ]
        }
      ]
    },
    {
      "cell_type": "code",
      "metadata": {
        "colab": {
          "base_uri": "https://localhost:8080/"
        },
        "id": "GUP6wvyYVECW",
        "outputId": "adc3d05c-d454-422a-bf15-f2ee31f2c378"
      },
      "source": [
        "#2\n",
        "! kaggle datasets download igorkirko/wwwboxofficemojocom-movies-with-budget-listed --force\n",
        "! unzip wwwboxofficemojocom-movies-with-budget-listed.zip"
      ],
      "execution_count": 120,
      "outputs": [
        {
          "output_type": "stream",
          "name": "stdout",
          "text": [
            "Downloading wwwboxofficemojocom-movies-with-budget-listed.zip to /content\n",
            "\r  0% 0.00/841k [00:00<?, ?B/s]\n",
            "\r100% 841k/841k [00:00<00:00, 29.0MB/s]\n",
            "Archive:  wwwboxofficemojocom-movies-with-budget-listed.zip\n",
            "  inflating: Mojo_budget_data.csv    \n",
            "  inflating: Mojo_budget_update.csv  \n"
          ]
        }
      ]
    },
    {
      "cell_type": "code",
      "metadata": {
        "colab": {
          "base_uri": "https://localhost:8080/",
          "height": 276
        },
        "id": "MjqucnFPDd35",
        "outputId": "a29ca8a0-e4d0-4638-9915-d25da09c25e2"
      },
      "source": [
        "kaggle_df = pd.read_csv(\"Attributes_DataFrame.csv\")\n",
        "k_dataset = kaggle_df.drop(['Domestic','International', 'Budget', 'Runtime'], axis=1)\n",
        "k_dataset.head()"
      ],
      "execution_count": 210,
      "outputs": [
        {
          "output_type": "execute_result",
          "data": {
            "text/html": [
              "<div>\n",
              "<style scoped>\n",
              "    .dataframe tbody tr th:only-of-type {\n",
              "        vertical-align: middle;\n",
              "    }\n",
              "\n",
              "    .dataframe tbody tr th {\n",
              "        vertical-align: top;\n",
              "    }\n",
              "\n",
              "    .dataframe thead th {\n",
              "        text-align: right;\n",
              "    }\n",
              "</style>\n",
              "<table border=\"1\" class=\"dataframe\">\n",
              "  <thead>\n",
              "    <tr style=\"text-align: right;\">\n",
              "      <th></th>\n",
              "      <th>Title</th>\n",
              "      <th>Distributor</th>\n",
              "      <th>MPAA-Rating</th>\n",
              "      <th>Genres</th>\n",
              "    </tr>\n",
              "  </thead>\n",
              "  <tbody>\n",
              "    <tr>\n",
              "      <th>0</th>\n",
              "      <td>Jurassic World (2015)</td>\n",
              "      <td>Universal Pictures</td>\n",
              "      <td>PG-13</td>\n",
              "      <td>Action;Adventure;Sci-Fi</td>\n",
              "    </tr>\n",
              "    <tr>\n",
              "      <th>1</th>\n",
              "      <td>Star Wars: Episode VII - The Force Awakens (2015)</td>\n",
              "      <td>Walt Disney Studios Motion Pictures</td>\n",
              "      <td>PG-13</td>\n",
              "      <td>Action;Adventure;Sci-Fi</td>\n",
              "    </tr>\n",
              "    <tr>\n",
              "      <th>2</th>\n",
              "      <td>Avengers: Age of Ultron (2015)</td>\n",
              "      <td>Walt Disney Studios Motion Pictures</td>\n",
              "      <td>PG-13</td>\n",
              "      <td>Action;Adventure;Sci-Fi</td>\n",
              "    </tr>\n",
              "    <tr>\n",
              "      <th>3</th>\n",
              "      <td>Inside Out (2015)</td>\n",
              "      <td>Walt Disney Studios Motion Pictures</td>\n",
              "      <td>PG</td>\n",
              "      <td>Adventure;Animation;Comedy;Drama;Family;Fantasy</td>\n",
              "    </tr>\n",
              "    <tr>\n",
              "      <th>4</th>\n",
              "      <td>Furious 7 (2015)</td>\n",
              "      <td>Universal Pictures</td>\n",
              "      <td>PG-13</td>\n",
              "      <td>Action;Adventure;Thriller</td>\n",
              "    </tr>\n",
              "  </tbody>\n",
              "</table>\n",
              "</div>"
            ],
            "text/plain": [
              "                                               Title  ...                                           Genres\n",
              "0                              Jurassic World (2015)  ...                          Action;Adventure;Sci-Fi\n",
              "1  Star Wars: Episode VII - The Force Awakens (2015)  ...                          Action;Adventure;Sci-Fi\n",
              "2                     Avengers: Age of Ultron (2015)  ...                          Action;Adventure;Sci-Fi\n",
              "3                                  Inside Out (2015)  ...  Adventure;Animation;Comedy;Drama;Family;Fantasy\n",
              "4                                   Furious 7 (2015)  ...                        Action;Adventure;Thriller\n",
              "\n",
              "[5 rows x 4 columns]"
            ]
          },
          "metadata": {},
          "execution_count": 210
        }
      ]
    },
    {
      "cell_type": "code",
      "metadata": {
        "colab": {
          "base_uri": "https://localhost:8080/",
          "height": 206
        },
        "id": "jaUtGQ7mVU5s",
        "outputId": "8893c3f1-7170-433e-e7e0-102467a5a030"
      },
      "source": [
        "kaggle_df2 = pd.read_csv(\"Mojo_budget_data.csv\")\n",
        "k_dataset2 = kaggle_df2.drop(['movie_id', 'movie_year', 'director', 'writer','producer', 'composer','cinematographer', \n",
        "'main_actor_1', 'main_actor_2', 'main_actor_3', 'main_actor_4', 'budget', 'domestic', 'international',\n",
        "'worldwide', 'link', 'run_time'],axis=1).fillna('')\n",
        "k_dataset2 = k_dataset2.set_index(\"mpaa\")\n",
        "k_dataset2 = k_dataset2.drop('').reset_index()\n",
        "k_dataset2.head() "
      ],
      "execution_count": 211,
      "outputs": [
        {
          "output_type": "execute_result",
          "data": {
            "text/html": [
              "<div>\n",
              "<style scoped>\n",
              "    .dataframe tbody tr th:only-of-type {\n",
              "        vertical-align: middle;\n",
              "    }\n",
              "\n",
              "    .dataframe tbody tr th {\n",
              "        vertical-align: top;\n",
              "    }\n",
              "\n",
              "    .dataframe thead th {\n",
              "        text-align: right;\n",
              "    }\n",
              "</style>\n",
              "<table border=\"1\" class=\"dataframe\">\n",
              "  <thead>\n",
              "    <tr style=\"text-align: right;\">\n",
              "      <th></th>\n",
              "      <th>mpaa</th>\n",
              "      <th>movie_title</th>\n",
              "      <th>genre_1</th>\n",
              "      <th>genre_2</th>\n",
              "      <th>genre_3</th>\n",
              "      <th>genre_4</th>\n",
              "    </tr>\n",
              "  </thead>\n",
              "  <tbody>\n",
              "    <tr>\n",
              "      <th>0</th>\n",
              "      <td>PG-13</td>\n",
              "      <td>Glitter</td>\n",
              "      <td>Drama</td>\n",
              "      <td>Music</td>\n",
              "      <td>Romance</td>\n",
              "      <td></td>\n",
              "    </tr>\n",
              "    <tr>\n",
              "      <th>1</th>\n",
              "      <td>PG-13</td>\n",
              "      <td>Fantastic Four</td>\n",
              "      <td>Action</td>\n",
              "      <td>Adventure</td>\n",
              "      <td>Family</td>\n",
              "      <td>Fantasy</td>\n",
              "    </tr>\n",
              "    <tr>\n",
              "      <th>2</th>\n",
              "      <td>R</td>\n",
              "      <td>Frida</td>\n",
              "      <td>Biography</td>\n",
              "      <td>Drama</td>\n",
              "      <td>Romance</td>\n",
              "      <td></td>\n",
              "    </tr>\n",
              "    <tr>\n",
              "      <th>3</th>\n",
              "      <td>R</td>\n",
              "      <td>From Hell</td>\n",
              "      <td>Horror</td>\n",
              "      <td>Mystery</td>\n",
              "      <td>Thriller</td>\n",
              "      <td></td>\n",
              "    </tr>\n",
              "    <tr>\n",
              "      <th>4</th>\n",
              "      <td>PG-13</td>\n",
              "      <td>The Lord of the Rings: The Fellowship of the Ring</td>\n",
              "      <td>Action</td>\n",
              "      <td>Adventure</td>\n",
              "      <td>Drama</td>\n",
              "      <td>Fantasy</td>\n",
              "    </tr>\n",
              "  </tbody>\n",
              "</table>\n",
              "</div>"
            ],
            "text/plain": [
              "    mpaa                                        movie_title  ...   genre_3  genre_4\n",
              "0  PG-13                                            Glitter  ...   Romance         \n",
              "1  PG-13                                     Fantastic Four  ...    Family  Fantasy\n",
              "2      R                                              Frida  ...   Romance         \n",
              "3      R                                          From Hell  ...  Thriller         \n",
              "4  PG-13  The Lord of the Rings: The Fellowship of the Ring  ...     Drama  Fantasy\n",
              "\n",
              "[5 rows x 6 columns]"
            ]
          },
          "metadata": {},
          "execution_count": 211
        }
      ]
    },
    {
      "cell_type": "code",
      "metadata": {
        "colab": {
          "base_uri": "https://localhost:8080/"
        },
        "id": "qJ-P73OyJQQV",
        "outputId": "ae64b7a3-309c-44f4-ea9e-d283a556c53f"
      },
      "source": [
        "is_r = list()\n",
        "for i in k_dataset['MPAA-Rating']:\n",
        "  if i=='R': is_r.append(1)\n",
        "  else: is_r.append(0)\n",
        "print(is_r.count(0), \":\", is_r.count(1))"
      ],
      "execution_count": 239,
      "outputs": [
        {
          "output_type": "stream",
          "name": "stdout",
          "text": [
            "2159 : 1241\n"
          ]
        }
      ]
    },
    {
      "cell_type": "code",
      "metadata": {
        "colab": {
          "base_uri": "https://localhost:8080/"
        },
        "id": "a1zCQARfbZ2Q",
        "outputId": "82e65969-18dc-46cd-b6c9-6411a39e38d3"
      },
      "source": [
        "is_r2 = list()\n",
        "for i in k_dataset2['mpaa']:\n",
        "  if i=='R': is_r2.append(1)\n",
        "  else: is_r2.append(0)\n",
        "print(is_r2.count(0), \":\", is_r2.count(1))\n"
      ],
      "execution_count": 240,
      "outputs": [
        {
          "output_type": "stream",
          "name": "stdout",
          "text": [
            "1440 : 974\n"
          ]
        }
      ]
    },
    {
      "cell_type": "code",
      "metadata": {
        "colab": {
          "base_uri": "https://localhost:8080/"
        },
        "id": "C6XeMlDonzN5",
        "outputId": "8cd0a880-e2b1-4dde-e9de-2a0355b9c2e6"
      },
      "source": [
        "is_r.extend(is_r2)\n",
        "print(is_r.count(0), \":\", is_r.count(1))"
      ],
      "execution_count": 241,
      "outputs": [
        {
          "output_type": "stream",
          "name": "stdout",
          "text": [
            "3400\n",
            "5814\n",
            "3599 : 2215\n"
          ]
        }
      ]
    },
    {
      "cell_type": "markdown",
      "metadata": {
        "id": "-QD5YsB8iA9z"
      },
      "source": [
        "#Data processing"
      ]
    },
    {
      "cell_type": "code",
      "metadata": {
        "colab": {
          "base_uri": "https://localhost:8080/"
        },
        "id": "XoK-5CUgREhw",
        "outputId": "1ef81f9d-7e32-4623-c3a8-483e3c90518e"
      },
      "source": [
        "data = [''.join([i for i in n.lower() if not i.isdigit()]).replace('(', '').replace(')', '')[:-1] \n",
        "for n in k_dataset['Title']] \n",
        "data += [n.lower() for n in k_dataset2['movie_title']]\n",
        "print(data)\n",
        "\n",
        "for i in range(len(k_dataset)):\n",
        "  data[i] += \" \" + str(k_dataset['Distributor'][i]).lower()\n",
        "data2 = []\n",
        "\n",
        "#define stopwords\n",
        "numbers = ['one', 'two', 'three', 'four', 'five', 'six', 'seven', 'eight', 'nine', 'ten', 'eleven', 'twelve', \t'thirteen', 'fourteen', 'fifteen', \n",
        "'sixteen', 'seventeen', 'eighteen', 'nineteen', 'twenty', 'thirty', 'forty', 'fifty', 'sixty', 'seventy', 'eighty', 'ninety', 'hundred']\n",
        "stpwrds = stopwords.words('english') + [i.lower() for i in names.words('male.txt') + names.words('female.txt')] + numbers\n",
        "\n",
        "#remove city names from name\n",
        "for i in range(len(k_dataset['Title'][i])):\n",
        "  places = GeoText(k_dataset['Title'][i])\n",
        "  if places.cities != []:\n",
        "    for j in places.cities:\n",
        "      data[i] = data[i].replace(j.lower(), '')\n",
        "for i in range(len(k_dataset2['movie_title'][i])):\n",
        "  places2 = GeoText(k_dataset2['movie_title'][i])\n",
        "  if places2.cities != []:\n",
        "    for j in places2.cities:\n",
        "      data[i] = data[i].replace(j.lower(), '')\n",
        "\n",
        "for i in data:\n",
        "  #remove punctuation and split\n",
        "  tr= str.maketrans(dict.fromkeys(string.punctuation))\n",
        "  new_i = i.translate(tr)\n",
        "  descr = new_i.split(sep=' ')\n",
        "  #remove stop words or numbers\n",
        "  for k in range(5):\n",
        "    for j in descr:\n",
        "      if j in stpwrds or j!= '' and j[0].isdigit():\n",
        "        descr.remove(j)\n",
        "    if \"\" in descr:\n",
        "      descr.remove(\"\")\n",
        "  data2.append(descr)\n",
        "\n",
        "print(k_dataset2['movie_title'][5348-len(k_dataset['Title'])])\n",
        "print(data2[5348])\n",
        "print(len(data2))\n"
      ],
      "execution_count": 242,
      "outputs": [
        {
          "output_type": "stream",
          "name": "stdout",
          "text": [
            "['jurassic world', 'star wars: episode vii - the force awakens', 'avengers: age of ultron', 'inside out', 'furious ', 'american sniper', 'minions', 'the hunger games: mockingjay - part ', 'the martian', 'cinderella', 'how the grinch stole christmas', 'mission: impossible ii', 'gladiator', 'the perfect storm', 'meet the parents', 'x-men', 'scary movie', 'what lies beneath', 'erin brockovich', \"harry potter and the sorcerer's stone\", 'shrek', 'monsters, inc.', 'rush hour ', 'the mummy returns', 'pearl harbor', 'jurassic park iii', 'planet of the apes', 'hannibal', 'the lord of the rings: the fellowship of the ring', 'spider-man', 'star wars: episode ii - attack of the clones', 'harry potter and the chamber of secrets', 'signs', 'my big fat greek wedding', 'the lord of the rings: the two towers', 'austin powers in goldmember', 'men in black ii', 'ice age', 'a beautiful mind', 'finding nemo', 'pirates of the caribbean: the curse of the black pearl', 'the matrix reloaded', 'the lord of the rings: the return of the king', 'bruce almighty', 'x: x-men united', 'elf', 'chicago', 'terminator : rise of the machines', 'bad boys ii', 'shrek ', 'spider-man ', 'the passion of the christ', 'harry potter and the prisoner of azkaban', 'the incredibles', 'the day after tomorrow', 'the bourne supremacy', 'shark tale', 'the polar express', 'national treasure', 'star wars: episode iii - revenge of the sith', 'harry potter and the goblet of fire', 'war of the worlds', 'the chronicles of narnia: the lion, the witch and the wardrobe', 'wedding crashers', 'charlie and the chocolate factory', 'batman begins', 'madagascar', 'mr. & mrs. smith', 'hitch', \"pirates of the caribbean: dead man's chest\", 'cars', 'x-men: the last stand', 'the da vinci code', 'superman returns', 'ice age: the meltdown', 'happy feet', 'over the hedge', 'casino royale', 'talladega nights: the ballad of ricky bobby', 'spider-man ', 'shrek the third', 'transformers', \"pirates of the caribbean: at world's end\", 'harry potter and the order of the phoenix', 'the bourne ultimatum', '', 'ratatouille', 'i am legend', 'the simpsons movie', 'the dark knight', 'iron man', 'indiana jones and the kingdom of the crystal skull', 'hancock', 'wall·e', 'kung fu panda', 'madagascar: escape  africa', 'twilight', 'quantum of solace', 'horton hears a who!', 'transformers: revenge of the fallen', 'harry potter and the half-blood prince', 'up', 'the twilight saga: new moon', 'avatar', 'the hangover', 'star trek', 'monsters vs. aliens', 'ice age: dawn of the dinosaurs', 'the blind side', 'toy story ', 'alice in wonderland', 'iron man ', 'the twilight saga: eclipse', 'inception', 'harry potter and the deathly hallows: part ', 'despicable me', 'shrek forever after', 'how to train your dragon', 'harry potter and the deathly hallows: part ', 'transformers: dark of the moon', 'the twilight saga: breaking dawn - part ', 'the hangover part ii', 'pirates of the caribbean: on stranger tides', 'fast five', 'cars ', 'thor', 'rise of the planet of the apes', 'captain america: the first avenger', 'the avengers', 'the dark knight rises', 'the hunger games', 'skyfall', 'the twilight saga: breaking dawn - part ', 'the amazing spider-man', 'brave', 'the hobbit: an unexpected journey', 'ted', \"madagascar : europe's most wanted\", 'iron man ', 'the hunger games: catching fire', 'despicable me ', 'man of steel', 'monsters university', 'frozen', 'gravity', 'fast & furious ', 'oz the great and powerful', 'star trek into darkness', 'guardians of the galaxy', 'the hunger games: mockingjay - part ', 'captain america: the winter soldier', 'the lego movie', 'transformers: age of extinction', 'maleficent', 'x-men: days of future past', 'dawn of the planet of the apes', 'big hero ', 'the amazing spider-man ', 'finding dory', 'rogue one: a star wars story', 'captain america: civil war', 'the secret life of pets', 'the jungle book', 'deadpool', 'zootopia', 'batman v superman: dawn of justice', 'suicide squad', 'star wars: episode viii - the last jedi', 'beauty and the beast', 'wonder woman', 'guardians of the galaxy vol. ', 'spider-man: homecoming', 'it', 'thor: ragnarok', 'despicable me ', 'logan', 'the fate of the furious', 'black panther', 'avengers: infinity war', 'incredibles ', 'jurassic world: fallen kingdom', 'deadpool ', 'the grinch', 'jumanji: welcome to the jungle', 'mission: impossible - fallout', 'ant-man and the wasp', 'solo: a star wars story', 'avengers: endgame', 'the lion king', 'toy story ', 'frozen ii', 'captain marvel', 'star wars: episode ix - the rise of skywalker', 'spider-man: far from home', 'aladdin', 'joker', 'it chapter two', 'bad boys for life', '', 'sonic the hedgehog', 'jumanji: the next level', 'birds of prey', 'dolittle', 'little women', 'the invisible man', 'the call of the wild', 'nutty professor ii: the klumps', \"charlie's angels\", \"big momma's house\", 'remember the titans', 'the patriot', 'what women want', 'gone in  seconds', 'cast away', 'me, myself & irene', 'space cowboys', 'scream ', 'unbreakable', 'u-', 'hollow man', 'stuart little', 'the green mile', 'the kid', 'rugrats in paris', 'road trip', 'bring it on', 'rules of engagement', 'mission to mars', 'snow day', 'american beauty', 'next friday', 'the whole nine yards', 'shanghai noon', 'romeo must die', ' dalmatians', 'the talented mr. ripley', 'galaxy quest', 'the road to el dorado', 'the hurricane', 'vertical limit', 'toy story ', 'the tigger movie', 'the replacements', 'pokémon the movie ', 'miss congeniality', 'any given sunday', 'pitch black', \"the emperor's new groove\", 'the family man', 'the original kings of comedy', ' days', 'keeping the faith', 'hanging up', 'the flintstones in viva rock vegas', 'the skulls', 'the th day', 'my dog skip', 'return to me', 'the legend of bagger vance', 'the watcher', 'girl, interrupted', 'love & basketball', 'high fidelity', 'proof of life', 'the adventures of rocky & bullwinkle', 'nurse betty', 'bicentennial man', 'reindeer games', 'magnolia', 'wonder boys', 'anna and the king', 'the ninth gate', 'the contender', 'the sixth sense', 'small time crooks', 'thomas and the magic railroad', 'loser', 'the next best thing', 'man on the moon', 'snow falling on cedars', 'highlander: endgame', 'ready to rumble', 'crouching tiger, hidden dragon', 'the world is not enough', 'here on earth', 'godzilla : millennium', 'sleepy hollow', \"boys don't cry\", 'screwed', 'all the pretty horses', 'being john malkovich', 'chocolat', 'the insider', 'the bone collector', \"isn't she great\", 'double jeopardy', 'american pie ', 'the fast and the furious', \"ocean's eleven\", 'lara croft: tomb raider', 'traffic', 'dr. dolittle ', 'spy kids', 'the princess diaries', 'the others', \"america's sweethearts\", 'cats & dogs', 'save the last dance', 'atlantis: the lost empire', 'a.i. artificial intelligence', 'along came a spider', \"bridget jones's diary\", 'scary movie ', 'the score', 'swordfish', 'vanilla sky', 'shallow hal', 'the mexican', 'spy game', 'the wedding planner', 'the animal', 'moulin rouge!', 'rat race', \"a knight's tale\", 'blow', 'exit wounds', 'enemy at the gates', 'k-pax', 'behind enemy lines', 'jimmy neutron: boy genius', 'the one', 'heartbreakers', 'evolution', 'kiss of the dragon', \"recess: school's out\", 'ali', 'thirteen days', 'driven', \"what's the worst that could happen?\", 'final fantasy: the spirits within', 'black knight', 'not another teen movie', 'baby boy', 'the brothers', 'someone like you', 'joe dirt', 'the musketeer', 'crocodile dundee in los angeles', 'memento', \"captain corelli's mandolin\", 'angel eyes', 'kingdom come', 'the last castle', 'how high', 'kate & leopold', 'pokémon  the movie: spell of the unown', 'crazy/beautiful', 'the majestic', 'amélie', 'joe somebody', 'josie and the pussycats', 'freddy got fingered', 'the tailor of panama', 'out cold', 'tomcats', 'head over heels', 'the royal tenenbaums', 'the curse of the jade scorpion', 'the forsaken', 'town & country', \"one night at mccool's\", 'mulholland dr.', 'just visiting', 'glitter', 'pootie tang', 'scooby-doo', 'die another day', 'lilo & stitch', 'xxx', 'the santa clause ', 'minority report', 'the ring', 'mr. deeds', 'sweet home alabama', 'the bourne identity', 'the sum of all fears', ' mile', 'black hawk down', 'road to perdition', 'panic room', 'red dragon', 'the scorpion king', 'spy kids : island of lost dreams', 'blade ii', 'snow dogs', 'we were soldiers', 'barbershop', 'the rookie', 'spirit: stallion of the cimarron', 'john q', 'divine secrets of the ya-ya sisterhood', 'insomnia', 'changing lanes', 'stuart little ', 'jackass: the movie', 'catch me if you can', 'maid in manhattan', 'the time machine', 'the count of monte cristo', 'unfaithful', 'like mike', 'the tuxedo', 'two weeks notice', 'peter pan : return to never land', 'big fat liar', 'reign of fire', 'high crimes', 'about a boy', 'a walk to remember', 'orange county', 'windtalkers', 'gosford park', 'blue crush', 'the master of disguise', 'i am sam', 'resident evil', 'collateral damage', 'enough', 'drumline', 'undercover brother', 'showtime', ' days and  nights', 'crossroads', 'clockstoppers', 'the mothman prophecies', 'star trek: nemesis', 'e.t. the extra-terrestrial', 'k-: the widowmaker', 'gangs of new york', 'in the bedroom', 'treasure planet', 'i spy', 'friday after next', 'murder by numbers', 'one hour photo', \"monster's ball\", 'halloween: resurrection', 'queen of the damned', 'dragonfly', 'the banger sisters', 'bad company', 'the new guy', 'ghost ship', 'analyze that', 'swimfan', 'the crocodile hunter: collision course', 'brown sugar', 'blood work', 'all about the benjamins', 'the transporter', 'jonah: a veggietales movie', 'the sweetest thing', 'beauty and the beast', 'the hot chick', 'eight crazy nights', 'city by the sea', 'the wild thornberrys', 'van wilder', 'frida', 'martin lawrence live: runteldat', \"hart's war\", 'rollerball', 'tuck everlasting', 'super troopers', 'the four feathers', 'punch-drunk love', 'eight legged freaks', 'the country bears', 'serving sara', 'white oleander', 'kung pow: enter the fist', 'empire', 'half past dead', 'bowling for columbine', 'solaris', 'life or something like it', 'ballistic: ecks vs. sever', 'stealing harvard', 'the good girl', 'hey arnold! the movie', \"the emperor's club\", 'juwanna mann', 'feardotcom', 'jason x', 'frailty', 'undisputed', 'they', 'knockaround guys', 'the powerpuff girls movie', 'brotherhood of the wolf', 'abandon', 'sorority boys', 'possession', 'smne', 'the shipping news', 'death to smoochy', 'big trouble', 'trapped', 'kissing jessica stein', 'moonlight mile', 'spider-man/men in black ii', 'femme fatale', 'the rules of attraction', 'impostor', 'deuces wild', 'iris', 'spirited away', 'the truth about charlie', 'slackers', 'formula ', 'birthday girl', 'hollywood ending', 'extreme ops', 'igby goes down', 'adaptation.', 'the adventures of pluto nash', 'lantana', 'the other side of heaven', 'mostly martha', 'antwone fisher', 'the matrix revolutions', 'anger management', 'bringing down the house', 'hulk', ' fast  furious', 'seabiscuit', 's.w.a.t.', 'spy kids -d: game over', 'freaky friday', 'scary movie ', 'the italian job', 'how to lose a guy in  days', 'american wedding', 'daddy day care', 'daredevil', \"charlie's angels: full throttle\", 'the cat in the hat', 'legally blonde ', 'freddy vs. jason', 'brother bear', 'master and commander: the far side of the world', 'the texas chainsaw massacre', 'school of rock', 'the last samurai', 'old school', 'kill bill: vol. ', 'holes', 'the haunted mansion', 'kangaroo jack', 'the league of extraordinary gentlemen', 'lara croft tomb raider: the cradle of life', \"something's gotta give\", 'about schmidt', 'shanghai knights', 'open range', 'gothika', 'love actually', 'once upon a time in mexico', 'just married', 'cheaper by the dozen', 'mystic river', 'bad santa', 'the recruit', 'identity', 'underworld', 'radio', 'runaway jury', 'agent cody banks', 'the jungle book ', 'the rundown', 'final destination ', 'phone booth', ' days later...', 'tears of the sun', 'under the tuscan sun', 'the lizzie mcguire movie', 'secondhand lions', 'the hours', 'out of time', 'rugrats go wild', 'mona lisa smile', 'head of state', 'good boy', 'uptown girls', 'matchstick men', 'national security', 'what a girl wants', 'jeepers creepers ', 'intolerable cruelty', 'cradle  the grave', \"malibu's most wanted\", 'the hunted', 'dreamcatcher', 'darkness falls', 'bend it like beckham', 'the pianist', 'the core', 'lost in translation', 'hollywood homicide', 'the fighting temptations', 'johnny english', 'cold mountain', 'honey', 'a man apart', 'basic', 'stuck on you', 'sinbad: legend of the seven seas', 'dumb and dumberer: when harry met lloyd', 'the missing', 'paycheck', 'bulletproof monk', \"piglet's big movie\", 'dickie roberts: former child star', 'the medallion', 'peter pan', 'biker boyz', 'cold creek manor', 'cabin fever', 'whale rider', 'the in-laws', 'looney tunes: back in action', 'down with love', 'the life of david gale', 'timeline', 'a mighty wind', \"love don't cost a thing\", 'deliver us from eva', 'confessions of a dangerous mind', 'view from the top', \"my boss's daughter\", 'a guy thing', 'wrong turn', 'dirty pretty things', 'alex & emma', 'how to deal', 'gods and generals', 'th hour', 'house of  corpses', 'the quiet american', 'confidence', 'the lion king', 'winged migration', 'narc', 'house of the dead', 'swimming pool', 'duplex', 'dark blue', 'the divorce', 'boat trip', 'talk to her', 'tupac: resurrection', 'the order', 'it runs in the family', 'willard', 'nowhere in africa', 'chasing papi', 'gigli', 'american splendor', 'spellbound', ' grams', 'luther', 'the human stain', 'grind', 'the barbarian invasions', 'big fish', 'from justin to kelly', 'in the cut', 'thirteen', 'city of god', 'the magdalene sisters', 'the station agent', 'beyond borders', 'the real cancun', 'better luck tomorrow', 'in america', 'step into liquid', 'laurel canyon', 'the secret lives of dentists', 'the good thief', 'anything else', 'mambo italiano', 'the guru', 'the gospel of john', 'i, robot', 'troy', 'meet the fockers', ' first dates', 'van helsing', 'fahrenheit /', 'dodgeball: a true underdog story', 'the village', 'the grudge', 'collateral', \"ocean's twelve\", 'the princess diaries : royal engagement', 'starsky & hutch', 'along came polly', 'mean girls', 'anchorman: the legend of ron burgundy', 'a series of unfortunate events', 'scooby-doo : monsters unleashed', 'the spongebob squarepants movie', 'the notebook', 'alien vs. predator', 'man on fire', 'the terminal', 'garfield', 'ladder ', 'christmas with the kranks', 'ray', 'white chicks', 'hidalgo', 'the forgotten', 'kill bill: vol. ', 'the manchurian candidate', 'barbershop : back in business', 'miracle', 'friday night lights', 'hellboy', 'the stepford wives', 'dawn of the dead', 'without a paddle', 'the butterfly effect', 'the chronicles of riddick', ' going on ', 'shall we dance', 'saw', 'hero', 'king arthur', 'a cinderella story', 'resident evil: apocalypse', 'home on the range', 'secret window', 'walking tall', 'blade: trinity', 'napoleon dynamite', 'exorcist: the beginning', 'you got served', 'catwoman', 'the ladykillers', 'bridget jones: the edge of reason', 'sky captain and the world of tomorrow', 'raising helen', 'taxi', 'eternal sunshine of the spotless mind', 'monster', 'alexander', 'the punisher', 'team america: world police', 'taking lives', 'anacondas: the hunt for the blood orchid', 'cellular', 'johnson family vacation', 'open water', 'calendar girls', 'confessions of a teenage drama queen', 'the prince and me', 'after the sunset', 'garden state', 'spanglish', 'fat albert', 'closer', 'jersey girl', 'twisted', 'the aviator', 'around the world in  days', 'agent cody banks : destination london', 'ella enchanted', 'finding neverland', 'the alamo', 'mr. ', 'torque', 'sideways', 'little black book', 'yu-gi-oh!: the movie - pyramid of light', 'nascar: the imax experience', 'two brothers', 'harold & kumar go to white castle', 'laws of attraction', 'eurotrip', \"my baby's daddy\", 'seed of chucky', 'win a date with tad hamilton!', 'wimbledon', 'catch that kid', 'the whole ten yards', 'vanity fair', 'paparazzi', 'the motorcycle diaries', 'the girl next door', 'flight of the phoenix', 'welcome to mooseport', 'godsend', 'soul plane', 'dirty dancing: havana nights', 'new york minute', 'envy', 'shaun of the dead', 'de-lovely', 'alfie', 'wicker park', 'the phantom of the opera', 'darkness', 'i heart huckabees', \"breakin' all the rules\", 'chasing liberty', 'the cookout', 'surviving christmas', 'super size me', 'the life aquatic with steve zissou', 'girl with a pearl earring', 'raise your voice', 'the perfect score', 'house of sand and fog', 'sleepover', 'superbabies: baby geniuses ', 'first daughter', 'saved!', 'suspect zero', 'connie and carla', 'the cooler', 'thunderbirds', 'woman thou art loosed', 'maria full of grace', \"teacher's pet\", 'the big bounce', 'kinsey', 'the triplets of belleville', 'against the ropes', 'before sunset', 'the clearing', 'never die alone', 'the young black stallion', 'club dread', 'birth', 'spartan', 'a day without a mexican', 'the fog of war', 'the door in the floor', 'benji: off the leash!', 'house of flying daggers', 'being julia', \"clifford's really big movie\", 'veer-zaara', 'king kong', 'the longest yard', 'fantastic four', 'chicken little', 'robots', 'the pacifier', 'the -year-old virgin', 'million dollar baby', 'walk the line', 'flightplan', 'saw ii', 'monster-in-law', 'are we there yet?', 'the dukes of hazzard', 'march of the penguins', 'the ring two', 'constantine', 'the exorcism of emily rose', 'four brothers', 'sin city', 'the interpreter', 'guess who', 'sahara', 'coach carter', 'herbie fully loaded', 'the amityville horror', 'sky high', 'bewitched', 'jarhead', 'cinderella man', 'red eye', 'white noise', 'be cool', 'wallace & gromit: the curse of the were-rabbit', 'fun with dick and jane', 'crash', 'corpse bride', 'kicking & screaming', 'hide and seek', \"the hitchhiker's guide to the galaxy\", 'diary of a mad black woman', 'yours, mine & ours', 'racing stripes', 'miss congeniality : armed & fabulous', 'just like heaven', 'the skeleton key', 'kingdom of heaven', 'boogeyman', 'cheaper by the dozen ', 'in good company', 'the legend of zorro', 'must love dogs', 'transporter ', 'fever pitch', 'the family stone', 'the adventures of sharkboy and lavagirl -d', 'the sisterhood of the traveling pants', 'the brothers grimm', 'beauty shop', 'syriana', 'the island', 'derailed', 'hostage', 'the constant gardener', 'pride & prejudice', 'bad news bears', 'in her shoes', 'because of winn-dixie', 'dreamer', 'stealth', 'house of wax', 'the wedding date', 'just friends', 'a history of violence', \"get rich or die tryin'\", 'the fog', 'rent', 'doom', 'zathura: a space adventure', 'xxx: state of the union', 'elizabethtown', 'serenity', 'dark water', 'memoirs of a geisha', 'æon flux', 'rumor has it...', 'unleashed', 'elektra', 'ice princess', 'lord of war', 'good night, and good luck.', 'hotel rwanda', 'two for the money', 'prime', 'deuce bigalow: european gigolo', 'hustle & flow', 'a lot like love', 'land of the dead', 'assault on precinct ', 'man of the house', 'valiant', 'cursed', 'the upside of anger', 'into the blue', 'north country', \"pooh's heffalump movie\", 'roll bounce', 'the ringer', 'kung fu hustle', \"the devil's rejects\", 'son of the mask', 'rebound', 'the perfect man', 'waiting...', 'the gospel', 'the greatest game ever played', 'the cave', 'broken flowers', 'the honeymooners', 'the weather man', 'brokeback mountain', 'munich', 'capote', 'lords of dogtown', 'wolf creek', 'in the mix', 'domino', 'the great raid', 'shopgirl', 'cry wolf', 'the polar express', 'the producers', 'the ice harvest', 'an unfinished life', 'the man', 'mad hot ballroom', 'aliens of the deep', 'proof', 'ladies in lavender', 'bride & prejudice', 'millions', 'the aristocrats', 'the jacket', 'underclassman', 'downfall', 'beyond the sea', 'alone in the dark', 'the squid and the whale', \"howl's moving castle\", 'ong-bak: the thai warrior', 'mindhunters', 'a very long engagement', 'kiss kiss bang bang', 'enron: the smartest guys in the room', \"king's ransom\", 'me and you and everyone we know', 'melinda and melinda', 'high tension', 'bad education', 'stay', 'rize', 'grizzly man', 'supercross', 'click', 'mission: impossible iii', 'borat: cultural learnings of america for make benefit glorious nation of kazakhstan', 'the devil wears prada', 'the departed', 'the break-up', 'night at the museum', 'the pursuit of happyness', 'scary movie ', 'failure to launch', 'inside man', 'open season', 'the santa clause : the escape clause', 'the pink panther', 'eight below', 'saw iii', 'nacho libre', 'you, me and dupree', 'monster house', 'jackass number two', 'barnyard', 'rv', 'v for vendetta', 'world trade center', \"big momma's house \", 'step up', 'miami vice', \"madea's family reunion\", 'the fast and the furious: tokyo drift', 'underworld: evolution', 'flushed away', 'deja vu', 'the shaggy dog', 'poseidon', 'the benchwarmers', 'little miss sunshine', 'little man', 'curious george', 'invincible', 'eragon', 'the guardian', 'the omen', 'final destination ', \"charlotte's web\", 'the prestige', 'the lake house', 'hoodwinked', 'the holiday', 'firewall', 'date movie', 'rocky balboa', 'when a stranger calls', 'hostel', 'nanny mcphee', 'silent hill', 'apocalypto', 'glory road', 'lady in the water', 'the hills have eyes', 'john tucker must die', 'stranger than fiction', 'the illusionist', 'the texas chainsaw massacre: the beginning', 'the grudge ', 'gridiron gang', 'last holiday', 'the wild', 'man of the year', 'dreamgirls', ' blocks', 'the nativity story', 'accepted', 'the sentinel', 'blood diamond', 'the good shepherd', 'deck the halls', 'take the lead', 'snakes on a plane', \"she's the man\", 'flags of our fathers', 'united ', 'employee of the month', 'garfield: a tail of two kitties', 'the queen', 'the ant bully', 'crank', 'stick it', 'the descent', 'we are marshall', 'thank you for smoking', 'fearless', 'clerks ii', 'an inconvenient truth', 'the wicker man', 'the covenant', 'stay alive', 'match point', 'the black dahlia', 'my super ex-girlfriend', 'lucky number slevin', 'deep sea', 'waist deep', 'atl', 'flicka', 'a prairie home companion', 'pulse', 'babel', 'beerfest', 'akeelah and the bee', 'the marine', 'aquamarine', 'ultraviolet', 'school for scoundrels', 'just my luck', 'annapolis', 'an american haunting', 'marie antoinette', 'larry the cable guy: health inspector', 'see no evil', 'unaccompanied minors', 'tristan + isolde', \"everyone's hero\", 'hollywoodland', 'one night with the king', 'friends with money', 'flyboys', 'how to eat fried worms', 'the new world', 'idlewild', 'the matador', 'freedomland', 'the protector', 'zoom', 'end of the spear', \"dave chappelle's block party\", 'the last kiss', 'something new', 'material girls', 'bobby', 'black christmas', 'mrs. henderson presents', 'casanova', 'scoop', 'facing the giants', 'the fountain', 'transamerica', 'the nightmare before christmas', 'tenacious d in the pick of destiny', 'hoot', 'the night listener', 'slither', 'the return', 'doogal', 'a good year', \"all the king's men\", 'american dreamz', 'phat girlz', 'crossover', 'turistas', 'running scared', 'running with scissors', \"grandma's boy\", 'basic instinct ', 'a scanner darkly', 'for your consideration', 'the three burials of melquiades estrada', \"the world's fastest indian\", 'the libertine', 'wild hogs', 'knocked up', 'alvin and the chipmunks', 'rush hour ', 'live free or die hard', 'national treasure: book of secrets', 'fantastic : rise of the silver surfer', 'american gangster', 'bee movie', 'superbad', 'i now pronounce you chuck & larry', 'hairspray', 'blades of glory', \"ocean's thirteen\", 'ghost rider', 'enchanted', 'evan almighty', 'meet the robinsons', 'norbit', 'the game plan', 'bridge to terabithia', 'beowulf', 'disturbia', '', 'fred claus', 'saw iv', 'stomp the yard', 'the golden compass', \"surf's up\", 'halloween', \"tyler perry's why did i get married?\", 'tmnt', ': to yuma', 'resident evil: extinction', 'music and lyrics', 'are we done yet?', 'this christmas', 'premonition', 'the kingdom', 'shooter', 'dan in real life', 'license to wed', 'underdog', 'no reservations', 'because i said so', 'no country for old men', 'epic movie', ' days of night', 'hitman', 'michael clayton', 'fracture', \"charlie wilson's war\", 'stardust', \"pan's labyrinth\", 'the brave one', 'the heartbreak kid', 'freedom writers', \"smokin' aces\", 'the messengers', 'the number ', 'good luck chuck', 'children of men', 'breach', 'zodiac', 'balls of fury', \"mr. bean's holiday\", \"daddy's little girls\", \"mr. magorium's wonder emporium\", 'august rush', ' weeks later', 'we own the night', 'mr. brooks', 'sweeney todd: the demon barber of fleet street', 'aliens vs. predator: requiem', 'juno', 'hannibal rising', 'the nanny diaries', 'mr. woodcock', 'nancy drew', 'the mist', 'p.s. i love you', 'the reaping', 'grindhouse', 'sicko', 'across the universe', 'perfect stranger', 'hot fuzz', 'war', 'the last mimzy', 'amazing grace', 'the hills have eyes ', 'the invisible', 'reno ! miami', 'gone baby gone', 'reign over me', 'vacancy', 'georgia rule', 'waitress', 'the water horse', 'becoming jane', 'next', 'hostel: part ii', 'eastern promises', 'into the wild', 'notes on a scandal', 'dead silence', 'the hitcher', 'elizabeth: the golden age', \"happily n'ever after\", 'catch and release', 'alpha dog', 'arthur and the invisibles', 'the invasion', 'lions for lambs', 'the great debaters', 'the nightmare before christmas', 'awake', 'the last king of scotland', 'hot rod', 'firehouse dog', 'the namesake', 'letters from iwo jima', 'the comebacks', 'daddy day camp', 'walk hard: the dewey cox story', \"shoot 'em up\", 'i think i love my wife', 'evening', 'atonement', 'sydney white', 'the darjeeling limited', 'the lives of others', 'in the land of women', 'the astronaut farmer', 'dragon wars: d-war', 'primeval', 'la vie en rose', 'pathfinder', 'bratz', 'rendition', 'death sentence', 'once', 'black snake moan', 'a mighty heart', 'the seeker: the dark is rising', 'death at a funeral', 'code name: the cleaner', 'delta farce', 'volver', 'bella', 'the painted veil', 'el cantante', 'martian child', 'i know who killed me', 'the condemned', 'the hoax', 'pride', 'bug', 'redline', 'in the valley of elah', \"before the devil knows you're dead\", 'the last legion', 'feel the noise', 'the kite runner', 'lucky you', \"who's your caddy?\", 'lars and the real girl', 'aqua teen hunger force colon movie film for theaters', 'rescue dawn', 'the perfect holiday', 'sex and the city', 'mamma mia!', 'the chronicles of narnia: prince caspian', 'the incredible hulk', 'wanted', 'get smart', 'four christmases', 'tropic thunder', 'bolt', 'the mummy: tomb of the dragon emperor', 'journey to the center of the earth', 'eagle eye', 'step brothers', \"you don't mess with the zohan\", ', bc', 'beverly hills chihuahua', 'the bucket list', 'high school musical : senior year', 'pineapple express', '', 'what happens in vegas', 'jumper', 'cloverfield', ' dresses', 'hellboy ii: the golden army', 'marley & me', 'vantage point', 'the spiderwick chronicles', \"fool's gold\", 'the day the earth stood still', 'role models', 'hannah montana and miley cyrus: best of both worlds concert', 'the happening', 'forgetting sarah marshall', 'baby mama', 'burn after reading', 'yes man', 'step up : the streets', 'saw v', 'bedtime stories', 'the curious case of benjamin button', 'the strangers', 'the forbidden kingdom', 'the house bunny', \"nim's island\", 'made of honor', 'seven pounds', 'college road trip', 'australia', 'the sisterhood of the traveling pants ', 'speed racer', 'prom night', 'rambo', 'welcome home, roscoe jenkins', 'meet the browns', 'nights in rodanthe', 'valkyrie', 'max payne', 'righteous kill', 'there will be blood', 'lakeview terrace', 'body of lies', 'meet the spartans', 'harold & kumar escape from guantanamo bay', 'first sunday', 'the secret life of bees', 'the family that preys', 'death race', 'changeling', 'star wars: the clone wars', 'the tale of despereaux', 'semi-pro', 'fireproof', 'drillbit taylor', 'definitely, maybe', 'the love guru', 'quarantine', 'transporter ', \"nick and norah's infinite playlist\", 'the eye', 'leatherheads', 'zack and miri make a porno', 'mirrors', 'space chimps', 'the bank job', 'untraceable', 'the women', 'one missed call', 'the other boleyn girl', 'street kings', 'shutter', 'superhero movie', 'w.', 'never back down', 'traitor', 'vicky cristina barcelona', 'babylon a.d.', 'slumdog millionaire', 'the x files: i want to believe', 'mad money', 'appaloosa', 'igor', \"my best friend's girl\", 'kit kittredge: an american girl', 'the ruins', ' minutes', 'swing vote', 'pride and glory', 'bangkok dangerous', 'milk', 'disaster movie', 'the duchess', 'the haunting of molly hartley', 'ghost town', 'the spirit', 'religulous', \"the pirates who don't do anything: a veggietales movie\", 'under the same moon', 'fly me to the moon d', 'miss pettigrew lives for a day', 'soul men', 'doubt', 'meet dave', 'the longshots', 'be kind rewind', 'doomsday', 'stop-loss', 'rachel getting married', 'penelope', 'the express', 'u d', 'smart people', 'the visitor', 'the boy in the striped pajamas', 'sex drive', 'punisher: war zone', 'miracle at st. anna', 'city of ember', 'cadillac records', 'in bruges', 'expelled: no intelligence allowed', 'over her dead body', 'nothing like the holidays', 'how she move', 'an american carol', 'the orphanage', 'strange wilderness', 'brideshead revisited', 'the rocker', 'tell no one', 'run fatboy run', 'gran torino', 'mongol: the rise of genghis khan', 'rocknrolla', 'shine a light', 'the diving bell and the butterfly', 'hamlet ', 'the savages', 'in the name of the king: a dungeon siege tale', 'college', 'deception', 'flash of genius', 'frost/nixon', 'persepolis', 'witless protection', 'bottle shock', 'young@heart', 'charlie bartlett', 'x-men origins: wolverine', 'night at the museum: battle of the smithsonian', 'the proposal', '', 'fast & furious', 'g.i. joe: the rise of cobra', 'paul blart: mall cop', 'taken', 'a christmas carol', 'angels & demons', 'terminator salvation', 'cloudy with a chance of meatballs', 'alvin and the chipmunks: the squeakquel', 'inglourious basterds', 'g-force', 'district ', 'couples retreat', 'paranormal activity', 'watchmen', 'sherlock holmes', 'public enemies', 'julie & julia', \"he's just not that into you\", 'madea goes to jail', 'the ugly truth', 'knowing', 'hannah montana: the movie', 'where the wild things are', 'the princess and the frog', 'zombieland', 'coraline', 'hotel for dogs', 'law abiding citizen', 'this is it', 'i love you, man', 'obsessed', 'race to witch mountain', 'the final destination', 'the taking of pelham ', 'friday the th', ' again', \"the time traveler's wife\", 'brüno', 'bride wars', 'the haunting in connecticut', 'ghosts of girlfriends past', 'funny people', 'i can do bad all by myself', 'my bloody valentine', 'land of the lost', \"my sister's keeper\", 'old dogs', 'underworld: rise of the lycans', 'confessions of a shopaholic', 'year one', 'the unborn', 'precious', 'drag me to hell', 'orphan', 'duplicity', \"it's complicated\", 'planet ', 'surrogates', 'ninja assassin', 'state of play', 'notorious', 'the pink panther ', 'all about steve', 'up in the air', 'halloween ii', 'the informant!', 'the last house on the left', 'the reader', ' days of summer', 'earth', 'the men who stare at goats', 'push', '', 'the soloist', 'toy story', 'the stepfather', 'defiance', 'the uninvited', 'saw vi', 'invictus', 'brothers', 'dance flick', 'the international', 'the fourth kind', 'aliens in the attic', 'the wrestler', 'observe and report', 'fighting', 'love happens', 'revolutionary road', 'fame', 'shorts', 'gamer', 'did you hear about the morgans?', 'astro boy', 'under the sea d', 'jonas brothers: the d concert experience', 'fantastic mr. fox', 'the invention of lying', 'inkheart', 'fired up!', 'new in town', \"jennifer's body\", 'imagine that', 'adventureland', 'a perfect getaway', 'armored', 'the goods: live hard, sell hard', 'ponyo', 'the box', 'i love you, beth cooper', 'last chance harvey', 'capitalism: a love story', 'amelia', \"cirque du freak: the vampire's assistant\", 'crank: high voltage', 'whip it', 'the hurt locker', ' rounds', 'sunshine cleaning', 'sorority row', 'extract', 'not easily broken', 'pandorum', 'whiteout', 'next day air', 'nine', 'the boondock saints ii: all saints day', 'away we go', 'dragonball evolution', \"everybody's fine\", 'a serious man', 'street fighter: the legend of chun-li', 'my life in ruins', 'pirate radio', 'the collector', 'taking woodstock', 'post grad', 'the road', 'bandslam', 'miss march', 'bright star', 'good hair', 'the september issue', 'the brothers bloom', ' idiots', 'chéri', 'sin nombre', 'my one and only', 'adam', 'the karate kid', 'clash of the titans', 'grown ups', 'tangled', 'megamind', 'the last airbender', 'shutter island', 'the other guys', 'salt', 'tron: legacy', 'jackass d', \"valentine's day\", 'robin hood', 'the expendables', 'due date', 'date night', 'sex and the city ', 'the book of eli', 'the social network', 'the town', 'prince of persia: the sands of time', 'red', 'percy jackson & the olympians: the lightning thief', 'paranormal activity ', 'little fockers', 'eat pray love', 'the chronicles of narnia: the voyage of the dawn treader', 'dear john', 'unstoppable', 'the a-team', 'knight and day', 'dinner for schmucks', 'true grit', 'the bounty hunter', 'diary of a wimpy kid', \"the sorcerer's apprentice\", 'a nightmare on elm street', 'the last song', 'the wolfman', 'get him to the greek', 'resident evil: afterlife', 'why did i get married too?', 'tooth fairy', 'secretariat', 'easy a', 'takers', 'yogi bear', \"legend of the guardians: the owls of ga'hoole\", 'letters to juliet', 'life as we know it', 'wall street: money never sleeps', 'predators', 'hot tub time machine', 'the tourist', 'kick-ass', 'killers', 'saw: the final chapter', 'cop out', 'the lovely bones', 'cats & dogs: the revenge of kitty galore', 'edge of darkness', 'death at a funeral', 'step up d', 'the last exorcism', 'black swan', 'legion', 'the crazies', 'the fighter', 'crazy heart', 'for colored girls', 'the back-up plan', 'burlesque', 'vampires suck', 'the american', 'green zone', 'marmaduke', 'devil', 'hereafter', 'when in rome', \"she's out of my league\", 'scott pilgrim vs. the world', 'charlie st. cloud', 'love & other drugs', 'morning glory', 'daybreakers', 'nanny mcphee returns', 'the switch', \"brooklyn's finest\", 'machete', 'ramona and beezus', 'leap year', 'you again', 'alpha and omega', 'piranha d', 'lottery ticket', 'the spy next door', 'from paris with love', 'the losers', 'faster', 'how do you know', 'just wright', 'skyline', \"gulliver's travels\", 'the next three days', 'the kids are all right', 'our family wedding', 'hubble d', 'oceans', 'remember me', 'going the distance', \"the king's speech\", 'furry vengeance', 'splice', 'the ghost writer', 'youth in revolt', 'my soul to take', 'repo men', 'case ', 'let me in', 'extraordinary measures', 'avatar', 'jonah hex', ' hours', 'fair game', 'the young victoria', 'macgruber', 'a single man', 'the girl who played with fire', 'cyrus', 'babies', 'conviction', 'city island', 'waiting for superman', \"it's kind of a funny story\", \"winter's bone\", \"the warrior's way\", 'solitary man', 'greenberg', 'my name is khan', 'to save a life', 'the runaways', 'catfish', 'letters to god', 'n-secure', 'never let me go', 'twilight/new moon', 'stone', 'flipped', 'the help', 'bridesmaids', 'kung fu panda ', 'x-men: first class', 'puss in boots', 'rio', 'the smurfs', 'super ', 'sherlock holmes: a game of shadows', 'rango', 'mission: impossible - ghost protocol', 'horrible bosses', 'green lantern', 'hop', 'paranormal activity ', 'just go with it', 'bad teacher', 'cowboys & aliens', 'gnomeo & juliet', 'the green hornet', 'the lion king', 'alvin and the chipmunks: chipwrecked', 'real steel', 'crazy, stupid, love.', 'battle los angeles', 'immortals', 'the muppets', 'zookeeper', 'limitless', 'tower heist', 'contagion', 'moneyball', 'justin bieber: never say never', 'dolphin tale', 'jack and jill', 'no strings attached', \"mr. popper's penguins\", 'unknown', 'the adjustment bureau', 'happy feet two', 'water for elephants', 'the lincoln lawyer', 'midnight in paris', 'friends with benefits', 'i am number four', 'source code', 'insidious', \"madea's big happy family\", 'diary of a wimpy kid: rodrick rules', 'footloose', 'the girl with the dragon tattoo', 'hugo', 'the dilemma', 'arthur christmas', 'hall pass', \"new year's eve\", 'soul surfer', 'the adventures of tintin', 'final destination ', 'the ides of march', 'hanna', 'something borrowed', 'spy kids -d: all the time in the world', 'the descendants', 'scream ', 'big mommas: like father, like son', 'red riding hood', 'paul', 'the roommate', 'we bought a zoo', 'jumping the broom', 'the change-up', ' minutes or less', 'in time', 'colombiana', 'j. edgar', 'sucker punch', 'war horse', 'larry crowne', '/', 'a very harold & kumar christmas', 'drive', 'courageous', 'the rite', 'arthur', 'the debt', 'priest', 'the mechanic', 'abduction', 'beastly', 'winnie the pooh', 'the sitter', 'killer elite', 'season of the witch', 'our idiot brother', \"don't be afraid of the dark\", 'sanctum', 'monte carlo', 'your highness', 'mars needs moms', 'dream house', 'conan the barbarian', 'the three musketeers', 'country strong', 'the eagle', 'shark night', 'fright night', 'apollo ', 'the thing', 'african cats', 'born to be wild', 'judy moody and the not bummer summer', \"what's your number?\", 'one day', 'warrior', 'the tree of life', 'the rum diary', 'glee: the d concert movie', 'the darkest hour', 'the conspirator', 'young adult', 'jane eyre', 'drive angry', 'straw dogs', 'win win', 'hoodwinked too! hood vs. evil', 'prom', \"i don't know how she does it\", 'blue valentine', 'my week with marilyn', 'johnny english reborn', 'kevin hart: laugh at my pain', \"elle s'appelait sarah\", 'the big year', 'take me home tonight', 'cedar rapids', 'beginners', 'cave of forgotten dreams', 'margin call', 'biutiful', 'atlas shrugged: part i', 'the artist', 'anonymous', 'the company men', 'seven days in utopia', 'the way', 'tinker tailor soldier spy', 'like crazy', \"the king's speech\", 'from prada to nada', 'martha marcy may marlene', 'don ', 'everything must go', 'the way back', 'bucky larson: born to be a star', 'the grace card', 'the lorax', 'men in black ', 'wreck-it ralph', 'ice age: continental drift', 'snow white and the huntsman', 'hotel transylvania', 'taken ', ' jump street', 'lincoln', 'prometheus', 'safe house', 'the vow', 'magic mike', 'the bourne legacy', 'argo', 'journey : the mysterious island', 'flight', 'think like a man', 'rise of the guardians', 'the campaign', 'life of pi', 'the expendables ', 'wrath of the titans', 'dark shadows', 'john carter', 'les misérables', 'act of valor', 'django unchained', 'contraband', 'looper', \"madea's witness protection\", 'battleship', 'mirror mirror', 'chronicle', 'pitch perfect', 'hope springs', 'underworld: awakening', 'the lucky one', 'the dictator', 'total recall', 'titanic', 'american reunion', 'paranorman', 'this means war', 'project x', 'the woman in black', 'paranormal activity ', 'the devil inside', 'the odd life of timothy green', 'ghost rider: spirit of vengeance', 'the grey', 'red tails', 'the possession', 'diary of a wimpy kid: dog days', 'sinister', 'beauty and the beast', 'jack reacher', 'savages', 'the best exotic marigold hotel', 'moonrise kingdom', 'the three stooges', 'here comes the boom', 'red dawn', 'star wars: episode i - the phantom menace', 'resident evil: retribution', 'the cabin in the woods', \"what to expect when you're expecting\", 'finding nemo', 'end of watch', 'this is ', 'rock of ages', 'abraham lincoln: vampire hunter', 'lawless', \"that's my boy\", 'trouble with the curve', 'the watch', 'step up revolution', 'good deeds', 'frankenweenie', 'parental guidance', \": obama's america\", 'house at the end of the street', 'extremely loud & incredibly close', 'the pirates! band of misfits', 'joyful noise', 'the iron lady', 'chimpanzee', 'the five-year engagement', 'silver linings playbook', 'cloud atlas', 'one for the money', 'alex cross', 'part of me', 'sparkle', 'the guilt trip', 'premium rush', 'big miracle', 'monsters, inc.', 'the secret world of arrietty', 'haywire', 'man on a ledge', 'a thousand words', 'chernobyl diaries', 'silent hill: revelation', 'wanderlust', 'the perks of being a wallflower', 'safe', 'to rome with love', 'the raven', 'the master', 'the man with the iron fists', 'seven psychopaths', 'killing them softly', 'lockout', 'hit and run', 'dredd', 'silent house', 'playing for keeps', 'people like us', 'gone', 'the words', 'beasts of the southern wild', 'anna karenina', 'to the arctic d', 'the intouchables', 'fun size', 'bernie', 'salmon fishing in the yemen', 'cirque du soleil: worlds away', 'arbitrage', 'friends with kids', 'seeking a friend for the end of the world', 'the collection', 'chasing mavericks', 'casa de mi padre', 'for greater glory: the true story of cristiada', 'the sessions', \"won't back down\", 'october baby', 'hitchcock', 'the apparition', 'jeff, who lives at home', 'goon', 'safety not guaranteed', 'bully', 'the cold light of day', 'nitro circus: the movie', 'atlas shrugged ii: the strike', 'last ounce of courage', 'indiana jones and the raiders of the lost ark', 'jab tak hai jaan', 'albert nobbs', 'talaash', 'barfi!', \"singin' in the rain\", 'girl in progress', 'ruby sparks', 'thor: the dark world', 'world war z', 'the hobbit: the desolation of smaug', 'the croods', 'the heat', \"we're the millers\", 'the great gatsby', 'the conjuring', 'identity thief', 'grown ups ', 'the wolverine', 'g.i. joe: retaliation', 'now you see me', 'cloudy with a chance of meatballs ', \"lee daniels' the butler\", 'the hangover part iii', 'epic', 'captain phillips', 'pacific rim', 'this is the end', 'bad grandpa', 'olympus has fallen', '', 'zero dark thirty', 'elysium', 'anchorman : the legend continues', 'planes', 'the lone ranger', 'oblivion', 'insidious: chapter ', 'turbo', ' guns', 'white house down', 'mama', 'safe haven', 'the smurfs ', 'the best man holiday', 'percy jackson: sea of monsters', 'american hustle', 'a good day to die hard', 'warm bodies', 'jack the giant slayer', 'the purge', 'last vegas', \"ender's game\", 'prisoners', 'after earth', 'escape from planet earth', 'hansel & gretel: witch hunters', 'free birds', 'evil dead', 'red ', 'temptation: confessions of a marriage counselor', 'the call', 'pain & gain', 'gangster squad', 'jurassic park', 'a madea christmas', 'the internship', 'instructions not included', 'saving mr. banks', 'snitch', 'riddick', 'the wolf of wall street', 'a haunted house', ' years a slave', 'the family', 'carrie', 'texas chainsaw', 'r.i.p.d.', 'blue jasmine', 'kevin hart: let me explain', 'side effects', 'scary movie v', 'the secret life of walter mitty', 'the mortal instruments: city of bones', 'delivery man', 'one direction: this is us', 'kick-ass ', 'rush', 'the host', \"the world's end\", ' & over', 'escape plan', 'don jon', 'walking with dinosaurs d', ' ronin', 'the incredible burt wonderstone', 'the big wedding', 'mud', 'baggage claim', 'the way way back', 'the place beyond the pines', 'homefront', 'broken city', 'beautiful creatures', 'runner runner', \"you're next\", 'the impossible', 'quartet', 'the book thief', 'admission', 'parker', 'enough said', 'dark skies', 'philomena', 'the counselor', 'grudge match', 'jobs', 'fruitvale station', 'dallas buyers club', 'about time', 'the last exorcism part ii', 'spring breakers', 'the last stand', 'out of the furnace', 'dead man down', 'getaway', 'bullet to the head', 'peeples', 'battle of the year', 'movie ', 'before midnight', 'machete kills', 'paranoia', 'promised land', 'dhoom ', 'black nativity', 'the spectacular now', 'the grandmaster', 'nebraska', 'all is lost', 'the bling ring', 'pulling strings', 'closed circuit', 'the wizard of oz', 'chennai express', 'mandela: long walk to freedom', 'inside llewyn davis', \"justin bieber's believe\", 'hyde park on hudson', 'much ado about nothing', 'the to do list', 'metallica through the never', 'emperor', 'stand up guys', 'the fifth estate', 'top gun', 'in a world...', 'home run', 'filly brown', 'grace unplugged', 'the sapphires', \"i'm in love with a church girl\", 'trance', 'the east', 'oldboy', 'godzilla', ' jump street', 'teenage mutant ninja turtles', 'the hobbit: the battle of the five armies', 'interstellar', 'how to train your dragon ', 'gone girl', 'divergent', 'neighbors', 'ride along', 'rio ', 'lucy', 'lone survivor', 'the fault in our stars', 'mr. peabody & sherman', ': rise of an empire', 'the maze runner', 'noah', 'the equalizer', 'edge of tomorrow', 'non-stop', 'heaven is for real', 'fury', 'dumb and dumber to', 'tammy', 'annabelle', 'the other woman', \"let's be cops\", 'the monuments men', 'penguins of madagascar', 'hercules', 'the purge: anarchy', 'night at the museum: secret of the tomb', 'alexander and the terrible, horrible, no good, very bad day', 'think like a man too', 'the nut job', 'into the woods', 'unbroken', \"god's not dead\", 'son of god', 'planes: fire & rescue', 'the grand budapest hotel', 'robocop', 'annie', 'dracula untold', 'exodus: gods and kings', 'the hundred-foot journey', 'no good deed', 'horrible bosses ', 'muppets most wanted', 'ouija', 'jack ryan: shadow recruit', 'the boxtrolls', 'if i stay', 'the book of life', 'about last night', 'into the storm', 'jersey boys', 'the judge', 'blended', 'the giver', 'need for speed', 'a million ways to die in the west', 'st. vincent', 'john wick', 'dolphin tale ', 'the expendables ', 'earth to echo', 'sex tape', 'august: osage county', 'million dollar arm', 'this is where i leave you', 'paranormal activity: the marked ones', 'nightcrawler', 'chef', 'get on up', ' days to kill', 'deliver us from evil', 'when the game stands tall', 'draft day', 'oculus', 'the best of me', 'a walk among the tombstones', 'that awkward moment', 'the november man', 'birdman or the unexpected virtue of ignorance', 'boyhood', 'her', 'endless love', 'the theory of everything', 'pompeii', 'transcendence', 'as above, so below', 'top five', 'brick mansions', 'the imitation game', 'wild', 'i, frankenstein', 'the gambler', 'the legend of hercules', 'bears', 'addicted', 'a haunted house ', 'a most wanted man', 'begin again', 'the single moms club', \"devil's due\", 'and so it goes', 'step up all in', 'beyond the lights', 'america: imagine the world without her', 'left behind', 'sin city: a dame to kill for', 'labor day', \"winter's tale\", 'belle', 'the drop', 'sabotage', \"moms' night out\", 'pk', 'the quiet ones', \"legends of oz: dorothy's return\", 'island of lemurs: madagascar', 'vampire academy', 'bad words', 'cantinflas', 'big eyes', 'meet the mormons', 'cesar chavez', 'the skeleton twins', 'the wind rises', 'journey to the south pacific', 'snowpiercer', 'the railway man', 'dear white people', 'my old lady', 'calvary', 'wish i was here', 'ghostbusters', 'the interview', 'what if', 'the grand seduction', 'veronica mars', 'mommy', 'before i go to sleep', 'rosewater', 'the identical', 'the fluffy movie: unity through laughter', \"kirk cameron's saving christmas\", 'the good lie', 'the pyramid', 'dragon ball z: battle of gods', 'bang bang', 'kick', 'spectre', 'mission: impossible - rogue nation', 'pitch perfect ', 'ant-man', 'home', 'hotel transylvania ', 'fifty shades of grey', 'the spongebob movie: sponge out of water', 'straight outta compton', 'san andreas', 'mad max: fury road', 'the divergent series: insurgent', 'kingsman: the secret service', 'the peanuts movie', 'spy', 'the good dinosaur', 'trainwreck', 'creed', 'tomorrowland', 'get hard', 'terminator genisys', 'taken ', 'maze runner: the scorch trials', 'ted ', 'goosebumps', 'pixels', 'paddington', 'the intern', 'paul blart: mall cop ', 'bridge of spies', 'war room', 'magic mike xxl', 'the visit', \"daddy's home\", 'the wedding ringer', 'black mass', 'vacation', 'the perfect guy', 'fantastic four', 'alvin and the chipmunks: the road chip', 'focus', 'southpaw', 'insidious: chapter ', 'selma', 'sisters', 'poltergeist', 'jupiter ascending', 'sicario', 'the man from u.n.c.l.e.', 'mcfarland, usa', 'the gift', 'everest', 'the night before', 'max', 'the age of adaline', 'krampus', 'the longest ride', 'the boy next door', 'pan', 'hot pursuit', 'the duff', 'woman in gold', 'the second best exotic marigold hotel', 'unfriended', 'entourage', 'paper towns', 'chappie', 'crimson peak', 'a walk in the woods', 'joy', 'sinister ', 'the last witch hunter', 'no escape', 'ricki and the flash', 'the woman in black : angel of death', 'run all night', 'love the coopers', 'spotlight', 'the lazarus effect', 'ex machina', 'the big short', 'in the heart of the sea', 'the gallows', 'hitman: agent ', 'project almanac', 'black or white', 'aloha', 'secret in their eyes', 'brooklyn', 'shaun the sheep movie', 'still alice', 'paranormal activity: the ghost dimension', 'steve jobs', 'mr. holmes', 'dope', 'concussion', 'seventh son', 'monkey kingdom', 'the transporter refueled', 'point break', 'it follows', 'american ultra', 'woodlawn', 'burnt', 'the hateful eight', 'do you believe?', 'love & mercy', 'strange magic', 'hot tub time machine ', 'self/less', 'far from the madding crowd', 'the ', 'the gunman', 'unfinished business', 'the walk', \"huevos: little rooster's egg-cellent adventure\", 'amy', 'dragon ball z: resurrection \"f\"', 'blackhat', 'bajrangi bhaijaan', 'mortdecai', \"while we're young\", \"i'll see you in my dreams\", 'the green inferno', 'our brand is crisis', 'inherent vice', 'grandma', 'trumbo', 'me and earl and the dying girl', 'little boy', 'the loft', 'victor frankenstein', 'danny collins', 'bajirao mastani', ' minutes in heaven', 'true story', 'suffragette', 'baahubali: the beginning', 'the danish girl', 'dilwale', 'prem ratan dhan payo', 'the water diviner', 'carol', 'scouts guide to the zombie apocalypse', 'a la mala', 'spare parts', 'we are your friends', 'learning to drive', 'ladrones', 'tanu weds manu returns', 'rock the kasbah', 'he named me malala', 'captive', 'chi-raq', 'truth', 'mistress america', 'pawn sacrifice', 'doctor strange', 'fantastic beasts and where to find them', 'moana', 'the revenant', 'jason bourne', 'star trek beyond', 'x-men: apocalypse', 'sing', 'trolls', 'kung fu panda ', 'ghostbusters', 'central intelligence', 'the legend of tarzan', 'sully', 'bad moms', 'the angry birds movie', 'independence day: resurgence', 'the conjuring ', 'sausage party', 'the magnificent seven', 'arrival', 'ride along ', \"don't breathe\", \"miss peregrine's home for peculiar children\", 'the accountant', 'teenage mutant ninja turtles: out of the shadows', 'the purge: election year', 'alice through the looking glass', \"pete's dragon\", 'the girl on the train', 'boo! a madea halloween', 'storks', ' cloverfield lane', 'lights out', 'allegiant', 'now you see me ', 'hacksaw ridge', 'ice age: collision course', 'the boss', 'london has fallen', 'miracles from heaven', 'deepwater horizon', 'my big fat greek wedding ', 'jack reacher: never go back', 'me before you', 'the bfg', 'neighbors : sorority rising', 'passengers', 'the shallows', 'barbershop: the next cut', ' hours', 'office christmas party', \"the huntsman: winter's war\", 'kubo and the two strings', 'warcraft', 'how to be single', 'mike and dave need wedding dates', 'war dogs', 'almost christmas', 'money monster', 'allied', 'nerve', 'risen', \"assassin's creed\", 'the nice guys', 'the boy', 'dirty grandpa', 'ouija: origin of evil', 'the th wave', 'inferno', \"mother's day\", 'gods of egypt', 'la la land', 'why him?', 'hail, caesar!', 'when the bough breaks', 'zoolander ', 'the finest hours', 'florence foster jenkins', 'manchester by the sea', 'hell or high water', 'the forest', 'ben-hur', 'fences', 'the witch', 'collateral beauty', \"bridget jones's baby\", 'kevin hart: what now?', 'whiskey tango foxtrot', 'snowden', 'mechanic: resurrection', 'free state of jones', 'blair witch', \"god's not dead \", 'keanu', 'middle school: the worst years of my life', 'nine lives', 'race', 'the choice', 'eye in the sky', 'bad santa ', 'masterminds', 'norm of the north', 'the birth of a nation', 'eddie the eagle', 'the infiltrator', 'keeping up with the joneses', 'criminal', 'hello, my name is doris', 'the edge of seventeen', 'love & friendship', \"hillary's america: the secret history of the democratic party\", 'triple ', 'the light between oceans', 'moonlight', 'fifty shades of black', 'no manches frida', 'café society', 'pride and prejudice and zombies', 'the darkness', 'nocturnal animals', 'the perfect match', 'popstar: never stop never stopping', 'hardcore henry', 'meet the blacks', 'queen of katwe', 'ratchet & clank', 'the lobster', 'dangal', 'a beautiful planet', 'the wild life', 'loving', 'shut in', 'the brothers grimsby', 'the young messiah', 'jackie', 'southside with you', 'captain fantastic', 'sultan', 'lion', 'hunt for the wilderpeople', 'bleed for this', 'incarnate', 'absolutely fabulous: the movie', 'hands of stone', \"don't think twice\", 'the meddler', 'ae dil hai mushkil', 'a hologram for the king', 'swiss army man', 'denial', 'morgan', 'kabali', 'the man who knew infinity', 'max steel', 'batman: the killing joke', 'midnight special', 'anomalisa', \"rules don't apply\", 'miss sloane', 'indignation', 'everybody wants some!!', 'sing street', 'mei ren yu', 'green room', 'our kind of traitor', 'compadres', 'the other side of the door', 'justice league', 'dunkirk', 'coco', 'the lego batman movie', 'get out', 'the boss baby', 'pirates of the caribbean: dead men tell no tales', 'kong: skull island', 'hidden figures', 'cars ', 'war for the planet of the apes', 'split', 'transformers: the last knight', 'wonder', 'girls trip', 'fifty shades darker', 'baby driver', 'annabelle: creation', \"daddy's home \", 'murder on the orient express', 'kingsman: the golden circle', 'john wick: chapter ', 'blade runner ', 'the emoji movie', 'power rangers', 'the mummy', \"the hitman's bodyguard\", 'alien: covenant', 'captain underpants: the first epic movie', 'a bad moms christmas', \"a dog's purpose\", 'pitch perfect ', 'the lego ninjago movie', 'baywatch', 'the shack', 'happy death day', 'ferdinand', 'atomic blonde', 'american made', 'the dark tower', 'the greatest showman', 'boo ! a madea halloween', 'snatched', 'the great wall', 'smurfs: the lost village', 'going in style', 'all eyez on me', 'xxx: return of xander cage', ' meters down', 'the big sick', 'ghost in the shell', 'valerian and the city of a thousand planets', 'the star', 'king arthur: legend of the sword', 'jigsaw', 'american assassin', 'the foreigner', 'everything, everything', 'wind river', 'geostorm', 'monster trucks', 'fist fight', 'how to be a latin lover', 'lady bird', 'patriots day', 'kidnap', 'underworld: blood wars', 'the mountain between us', 'life', 'the nut job : nutty by nature', 'rings', 'logan lucky', 'home again', 'resident evil: the final chapter', 'the house', 'gifted', 'three billboards outside ebbing, missouri', 'the bye bye man', 'victoria & abdul', 'rough night', 'my little pony: the movie', 'leap!', 'sleepless', 'diary of a wimpy kid: the long haul', 'the circle', 'baahubali : the conclusion', 'chips', 'only the brave', 'darkest hour', 'the disaster artist', 'mother!', \"the zookeeper's wife\", 'the glass castle', 'downsizing', 'flatliners', 'detroit', 'the shape of water', 'the case for christ', 'wish upon', 'it comes at night', 'born in china', 'megan leavey', 'father figures', 'the founder', 'all the money in the world', 'battle of the sexes', 'before i fall', 'roman j. israel, esq.', 'unforgettable', 'the beguiled', 'live by night', 'the belko experiment', 'thank you for your service', 'marshall', 'rock dog', 'the lost city of z', 'the promise', 'a cure for wellness', 'the space between us', 'gold', 'let there be light', 'i am not your negro', 'beatriz at dinner', 'birth of the dragon', 'silence', 'the snowman', 'same kind of different as me', 'lowriders', 'loving vincent', 'just getting started', 'all saints', 'suburbicon', 'paris can wait', 'the man who invented christmas', 'th century women', \"molly's game\", 'the florida project', 'your name.', 'tiger zinda hai', 'call me by your name', 'the book of henry', 'stronger', 'the hero', 'sleight', 'a united kingdom', 'norman', 'friend request', 'a monster calls', 'table ', 'their finest', 'phoenix forgotten', 'an inconvenient sequel: truth to power', 'til death do us part', 'raees', 'close encounters of the third kind', 'colossal', 'ingrid goes west', 'wolf warrior ', 'my cousin rachel', 'showtime championship boxing: floyd mayweather vs. conor mcgregor', 'a question of faith', 'is genesis history?', \"disney's newsies: the broadway musical!\", 'in our hands: battle for jerusalem', 'venom', 'a star is born', 'aquaman', 'bohemian rhapsody', 'a quiet place', 'ralph breaks the internet', 'crazy rich asians', 'hotel transylvania : summer vacation', 'halloween', 'fantastic beasts: the crimes of grindelwald', 'the meg', \"ocean's eight\", 'ready player one', 'mamma mia! here we go again', 'the nun', 'peter rabbit', 'creed ii', 'spider-man: into the spider-verse', 'mary poppins returns', 'the equalizer ', 'rampage', 'a wrinkle in time', 'fifty shades freed', 'christopher robin', 'i can only imagine', 'smallfoot', 'the post', 'night school', 'bumblebee', 'the first purge', 'game night', 'book club', 'the house with a clock in its walls', 'skyscraper', 'insidious: the last key', 'instant family', 'the mule', 'blockers', 'pacific rim: uprising', 'tomb raider', 'maze runner: the death cure', 'tag', 'the nutcracker and the four realms', 'a simple favor', 'life of the party', 'the predator', 'overboard', 'sicario: day of the soldado', 'i feel pretty', 'blackkklansman', 'red sparrow', 'breaking in', 'goosebumps : haunted halloween', ' strong', 'den of thieves', 'first man', 'hereditary', 'acrimony', 'sherlock gnomes', 'uncle drew', 'widows', 'truth or dare', 'paddington ', 'love, simon', 'the commuter', 'the : to paris', 'mile ', 'alpha', 'peppermint', 'death wish', 'the spy who dumped me', 'annihilation', 'green book', 'isle of dogs', \"nobody's fool\", 'adrift', 'robin hood', 'super troopers ', 'slender man', 'teen titans go! to the movies', 'hostiles', 'the hate u give', 'i, tonya', 'searching', 'winchester', 'the strangers: prey at night', 'white boy rick', 'second act', \"won't you be my neighbor?\", 'overlord', 'holmes & watson', 'proud mary', 'the happytime murders', 'phantom thread', 'superfly', 'vice', 'show dogs', 'bad times at the el royale', 'operation finale', 'paul, apostle of christ', 'sorry to bother you', 'chappaquiddick', 'forever my girl', 'the favourite', 'hunter killer', 'mortal engines', \"the girl in the spider's web\", 'the possession of hannah grace', 'rbg', 'eighth grade', 'the darkest minds', 'three identical strangers', 'upgrade', 'padmaavat', 'free solo', 'the old man & the gun', 'hell fest', 'the miracle season', 'mary queen of scots', 'midnight sun', 'tully', 'traffik', 'unfriended: dark web', 'welcome to marwen', 'early man', 'the death of stalin', 'they shall not grow old', 'sanju', 'unsane', 'beautiful boy', 'can you ever forgive me?', 'mids', 'dog days', 'boy erased', 'hotel artemis', 'a-x-l', 'fahrenheit /', 'unbroken: path to redemption', 'the hurricane heist', 'every day', 'leave no trace', 'once upon a deadpool', 'death of a nation', 'pandas', 'my hero academia: two heroes', \"god's not dead: a light in darkness\", 'kin', 'colette', 'action point', 'beirut', 'gringo', 'samson', 'johnny english strikes again', 'gotti', 'blindspotting', 'burn the stage: the movie', 'ya veremos', 'life itself', 'sgt. stubby: an american hero', \"gosnell: the trial of america's biggest serial killer\", 'indivisible', 'the oscar nominated short films : live action', 'disobedience', 'first reformed', 'juliet, naked', 'bad samaritan', ' days in entebbe', ': a space odyssey', '.', 'the leisure seeker', 'the sisters brothers', 'us', 'fast & furious presents: hobbs & shaw', 'john wick: chapter  - parabellum', 'how to train your dragon: the hidden world', 'the secret life of pets ', 'pokémon detective pikachu', 'once upon a time... in hollywood', 'shazam!', 'knives out', 'dumbo', 'maleficent: mistress of evil', 'glass', 'godzilla: king of the monsters', 'the upside', 'ford v ferrari', 'the lego movie : the second part', 'hustlers', 'the addams family', 'downton abbey', 'rocketman', 'alita: battle angel', 'good boys', 'men in black: international', 'annabelle comes home', 'yesterday', 'a madea family funeral', 'zombieland: double tap', 'angel has fallen', 'scary stories to tell in the dark', 'x-men: dark phoenix', 'terminator: dark fate', 'abominable', 'dora and the lost city of gold', 'escape room', 'a beautiful day in the neighborhood', 'midway', 'the curse of la llorona', 'pet sematary', 'what men want', 'ad astra', \"isn't it romantic\", 'gemini man', 'ma', 'five feet apart', 'wonder park', 'rambo: last blood', 'playing with fire', 'harriet', \"a dog's way home\", 'the angry birds movie ', 'little', 'queen & slim', 'breakthrough', 'crawl', 'the intruder', 'the hustle', 'last christmas', 'overcomer', 'cold pursuit', 'doctor sleep', 'dragon ball super: broly', 'long shot', 'spies in disguise', \"child's play\", 'ready or not', 'happy death day u', ' bridges', 'midsommar', 'the art of racing in the rain', 'countdown', 'uncut gems', 'judy', 'fighting with my family', 'on the basis of sex', \"a dog's journey\", 'booksmart', 'parasite', 'stuber', ' meters down: uncaged', 'black and blue', 'hellboy', 'shaft', 'jojo rabbit', 'the peanut butter falcon', 'uglydolls', 'cats', 'unplanned', 'bombshell', 'richard jewell', \"charlie's angels\", 'the farewell', 'brightburn', 'the good liar', 'the kid who would be king', 'missing link', 'late night', 'miss bala', 'the prodigy', 'poms', 'if beale street could talk', 'the kitchen', 'after', 'blinded by the light', 'the lighthouse', 'dark waters', 'greta', 'the best of enemies', 'black christmas', 'hotel mumbai', 'motherless brooklyn', 'no manches frida ', \"where'd you go, bernadette\", 'apollo ', 'serenity', 'anna', 'penguins', 'brittany runs a marathon', \"the dead don't die\", 'jexi', 'run the race', \"the current war: director's cut\", 'captive state', 'the wandering earth', 'arctic dogs', 'gloria bell', 'gully boy', 'the goldfinch', \"don't let go\", 'the mustang', 'the sun is also a star', 'bring the soul: the movie', 'pavarotti', 'tolkien', 'the last black man in san francisco', 'war', 'cold war', 'menteur', 'brian banks', 'the biggest little farm', 'amazing grace', 'linda ronstadt: the sound of my voice', 'uri: the surgical strike', 'replicas', 'pain and glory', 'ne zha', 'mission mangal', 'bts world tour: love yourself in seoul', 'the beach bum', 'echo in the canyon', 'jay and silent bob reboot', 'simmba', 'bharat', 'honey boy', 'friends th: the one with the anniversary', 'saaho', 'kalank', 'tod@s caen', 'everybody knows', 'the art of self-defense', 'arctic', 'my people, my country', 'promare', 'super ', 'faustina: love and mercy', 'onward', 'tenet', 'the gentlemen', 'just mercy', 'the croods: a new age', 'fantasy island', 'the new mutants', 'wonder woman ', 'like a boss', 'the grudge', 'unhinged', 'the photograph', 'the war with grandpa', 'underwater', 'the turning', 'gretel & hansel', 'honest thief', 'my hero academia: heroes rising', 'the way back', 'brahms: the boy ii', 'impractical jokers: the movie', 'emma.', 'bloodshot', 'i still believe', 'come play', 'let him go', 'freaky', 'downhill', 'weathering with you', 'the hunt', 'the rhythm section', 'monster hunter', 'hocus pocus', 'the spongebob movie: sponge on the run', 'the broken hearts gallery', 'infidel', 'news of the world', 'portrait of a lady on fire', 'bill & ted face the music', 'the empty man', \"my boyfriend's meds\", 'the last full measure', 'words on bathroom walls', 'star wars: episode v - the empire strikes back', 'fatale', 'the nightmare before christmas', 'half brothers', 'elf', 'the personal history of david copperfield', 'the wretched', 'the lodge', 'the rental', ' hearts', 'promising young woman', 'true to the game ', 'the assistant', 'love and monsters', 'relic', 'the tax collector', 'the last shift', 'becky', 'all my life', 'mafia inc', \"national lampoon's christmas vacation\", 'a hidden life', 'sarileru neekevvaru', 'vanguard', 'possessor', 'after we collided', 'toy story', 'monsters, inc.', 'baaghi ', 'the santa clause', 'patterns of evidence: the red sea miracle', 'the polar express', 'the last vermeer', 'the addams family', 'merci pour tout', 'chhapaak', 'shortcut', 'panga', 'guardians of the galaxy', 'followed', 'kajillionaire', 'the big ugly', 'the call', 'the grinch', 'the forgotten carols', 'spell', 'ava', 'pinocchio', 'seberg', 'infamous', 'tulsa', 'stevie nicks  karat gold the concert', 'buddy games', 'the kid detective', 'she dies tomorrow', 'yellow rose', 'ride your wave', 'the eight hundred', 'les misérables', 'die hard', 'clemency', 'ordinary love', 'the informer', 'save yourselves!', 'how the grinch stole christmas', 'mystify: michael hutchence', 'an american in paris', 'wonder woman', 'tokyo godfathers', 'blind eyes opened', 'the climb', 'doctor who live q&a and screening', 'frozen', 'wild mountain thyme', 'the secrets we keep', \"fate/stay night: heaven's feel - iii. spring song\", 'ashfall', 'national theater live: cyrano de bergerac', 'the wolf of snow hollow', 'come away', 'no escape', 'a call to spy', 'love story', 'glitter', 'fantastic four', 'frida', 'from hell', 'the lord of the rings: the fellowship of the ring', 'mission: impossible ii', 'resident evil', 'the shipping news', 'x-men', 'men in black ii', 'titan a.e.', 'star wars: episode ii - attack of the clones', 'star wars: episode iii - revenge of the sith', 'return to me', 'heartbreakers', 'shrek', 'dinosaur', 'the adventures of rocky & bullwinkle', 'driven', 'planet of the apes', 'treasure planet', 'scream 3', 'duets', 'pitch black', 'supernova', 'the road to el dorado', 'the yards', \"isn't she great\", 'town & country', 'u-571', 'american psycho', 'nutty professor ii: the klumps', 'highlander: endgame', 'spider-man', 'thirteen days', 'lara croft: tomb raider', 'high fidelity', 'the legend of bagger vance', 'where the money is', 'all the pretty horses', 'screwed', 'my dog skip', 'the next best thing', 'clockstoppers', 'the flintstones in viva rock vegas', 'behind enemy lines', 'cold mountain', 'the art of war', \"charlie's angels\", 'eye see you', 'impostor', 'lost souls', 'rules of engagement', 'what lies beneath', \"what's the worst that could happen?\", 'cast away', 'ghost world', 'shaft', 'hanging up', 'jurassic park iii', 'the beach', 'bless the child', 'hollow man', 'the sum of all fears', 'under suspicion', 'along came a spider', 'romeo must die', 'sinbad: legend of the seven seas', 'bones', 'monkeybone', 'spirit: stallion of the cimarron', 'hellboy', 'i dreamed of africa', 'the lord of the rings: the return of the king', 'the lord of the rings: the two towers', 'thunderbirds', 'antwone fisher', 'how the grinch stole christmas', 'gun shy', 'keeping the faith', 'nurse betty', 'bad boys ii', 'gladiator', 'final fantasy: the spirits within', 'whipped', 'autumn in new york', 'scary movie', 'gossip', 'the perfect storm', 'moonlight mile', '15 minutes', 'the adventures of pluto nash', 'hardball', 'what planet are you from?', 'minority report', 'terminator 3: rise of the machines', 'almost famous', 'boiler room', \"the caveman's valentine\", 'me, myself & irene', 'mission to mars', 'phone booth', \"a knight's tale\", 'reindeer games', 'shanghai noon', 'snow day', 'wonder boys', 'battlefield earth', 'little nicky', 'drowning mona', 'frequency', 'space cowboys', 'sugar & spice', 'bounce', 'down to you', 'gone in 60 seconds', 'the patriot', 'blade ii', 'price of glory', 'just visiting', 'crouching tiger, hidden dragon', 'dungeons & dragons', 'vertical limit', 'the fighting temptations', 'the replacements', '28 days', 'get over it', 'head over heels', 'the little vampire', 'the skulls', 'urban legends: final cut', 'texas rangers', 'saving grace', 'erin brockovich', 'final destination', 'here on earth', 'next friday', 'small time crooks', 'zoolander', 'where the heart is', 'the crew', 'monsters, inc.', 'love & basketball', 'red planet', 'coyote ugly', 'whatever it takes', 'rock star', 'the way of the gun', 'moulin rouge!', 'men of honor', \"one night at mccool's\", 'boys and girls', 'exorcist: the beginning', 'the watcher', 'bring it on', 'dr. t & the women', 'joy ride', 'woman on top', 'children of men', 'my first mister', 'what women want', \"big momma's house\", 'the contender', 'get carter', 'memento', 'the mummy returns', 'the wedding planner', 'the cell', 'beautiful', 'center stage', 'remember the titans', 'jason x', 'amélie', 'awake', 'bait', 'meet the parents', 'miss congeniality', '2046', 'a.i. artificial intelligence', 'hannibal', 'pearl harbor', 'road trip', 'enemy at the gates', 'the 6th day', 'gangs of new york', 'loser', 'ready to rumble', 'unbreakable', 'soul survivors', 'best in show', 'original sin', 'the family man', 'the kid', 'lucky numbers', 'bandits', 'timecode', 'halloween: resurrection', 'blow', 'the glass house', 'pay it forward', 'angel eyes', 'the score', 'spy kids', 'formula 51', 'ghosts of mars', 'proof of life', 'the crimson rivers', 'book of shadows: blair witch 2', 'atlantis: the lost empire', 'bedazzled', 'the others', 'down to earth', 'the fast and the furious', '3000 miles to graceland', 'collateral damage', 'the matrix reloaded', 'novocaine', 'summer catch', 'pokémon 3 the movie: spell of the unown', 'josie and the pussycats', 'the mexican', 'the tailor of panama', 'brotherhood of the wolf', 'the pledge', \"captain corelli's mandolin\", 'queen of the damned', 'cats & dogs', 'saving silverman', \"say it isn't so\", 'dr. dolittle 2', 'kung pow: enter the fist', 'the four feathers', 'freddy got fingered', \"ocean's eleven\", 'slackers', 'vanity fair', 'chocolat', \"harry potter and the sorcerer's stone\", 'the new guy', \"dude, where's my car?\", 'exit wounds', 'the matrix revolutions', 'valentine', \"bridget jones's diary\", 'stuart little 2', 'italian for beginners', 'swordfish', 'someone like you', 'the forsaken', 'crush', 'windtalkers', 'thir13en ghosts', 'joe dirt', 'bulletproof monk', 'the count of monte cristo', 'kingdom come', 'die another day', 'big trouble', 'the musketeer', 'donnie darko', 'rollerball', 'tomcats', 'the believer', 'in the bedroom', 'the princess diaries', 'super troopers', 'ali', 'billy elliot', 'domestic disturbance', 'the brothers', 'the deep end', 'see spot run', 'unfaithful', 'evolution', \"hart's war\", 'john q', 'house of 1000 corpses', 'maid in manhattan', \"all the queen's men\", 'buffalo soldiers', 'hearts in atlantis', 'heist', 'american pie 2', 'high heels and low lifes', 'the pianist', 'reign of fire', 'star trek: nemesis', 'out cold', 'the sweetest thing', 'the animal', 'baby boy', 'shallow hal', 'sweet home alabama', 'the curse of the jade scorpion', 'road to perdition', 's.w.a.t.', 'scary movie 2', 'about schmidt', 'cursed', 'high crimes', 'panic room', 'the quiet american', 'the bourne identity', 'dragonfly', 'ghost rider', 'my big fat greek wedding', 'vanilla sky', 'digimon: the movie', \"don't say a word\", 'serving sara', 'jay and silent bob strike back', 'empire', 'jeepers creepers', 'uptown girls', 'catch me if you can', 'changing lanes', 'frailty', 'kissing jessica stein', 'life as a house', 'murder by numbers', \"america's sweethearts\", 'black hawk down', 'black knight', 'big fat liar', 'the mothman prophecies', 'one hour photo', \"recess: school's out\", 'the royal tenenbaums', 'death to smoochy', 'a man apart', 'duplex', 'kill bill: vol. 1', 'marci x', 'rush hour 2', 'spy game', 'abandon', 'k-19: the widowmaker', 'scooby-doo', 'adaptation.', 'ice age', 'the time machine', 'a beautiful mind', 'the majestic', 'city by the sea', 'two can play that game', 'the hunted', 'confessions of a dangerous mind', \"my boss's daughter\", 'kiss of the dragon', 'eight legged freaks', 'the last castle', 'k-pax', 'narc', 'ararat', 'darkness', \"max keeble's big move\", 'johnny english', 'the hours', 'crossroads', 'bad education', 'lilo & stitch', 'about a boy', 'dogville', 'the scorpion king', 'not another teen movie', 'we were soldiers', 'all about the benjamins', 'enough', 'how high', 'insomnia', 'spider', 'gods and generals', 'the good girl', 'on the line', 'dark blue', 'divine secrets of the ya-ya sisterhood', 'sorority boys', 'joe somebody', 'peter pan 2: return to never land', 'trapped', 'the banger sisters', 'better luck tomorrow', 'bad company', 'mr. deeds', 'gosford park', 'igby goes down', 'undisputed', 'a walk to remember', 'snow dogs', 'the good thief', 'the wild thornberrys movie', 'darkness falls', 'life or something like it', 'swimfan', 'van wilder: party liaison', 'white oleander', \"the emperor's club\", 'they', 'showtime', 'boat trip', 'dreamcatcher', \"monster's ball\", 'once upon a time in mexico', 'owning mahowny', 'signs', 'stolen summer', 'all or nothing', 'close your eyes', 'hulk', 'what a girl wants', 'scorched', 'spy kids 2: island of lost dreams', 'daredevil', 'ghost ship', '28 days later...', 'the powerpuff girls movie', 'young adam', 'red dragon', 'analyze that', 'the butterfly effect', 'the life of david gale', 'meet the fockers', 'the tuxedo', 'full frontal', 'x2: x-men united', 'swept away', 'no good deed', 'the rules of attraction', 'the phantom of the opera', 'rush hour 3', 'the transporter', 'beyond borders', 'rent', 'austin powers in goldmember', 'feardotcom', 'a guy thing', 'harry potter and the chamber of secrets', 'the master of disguise', 'wrong turn', 'xxx', 'the chronicles of riddick', 'brown sugar', 'i spy', 'far from heaven', 'the ring', 'shrek 2', '8 mile', 'whale rider', 'the core', 'home on the range', 'chicago', 'gigli', 'hero', 'i capture the castle', 'jersey girl', 'shanghai knights', 'blue crush', 'timeline', 'jeepers creepers 2', 'old school', 'barbershop', 'cabin fever', 'drumline', 'harry potter and the prisoner of azkaban', 'mona lisa smile', 'anger management', \"charlie's angels: full throttle\", 'the crocodile hunter: collision course', 'bringing down the house', 'just married', 'scary movie 3', 'cradle 2 the grave', 'lizzie mcguire', 'shark tale', 'solaris', '25th hour', 'bad santa', 'ballistic: ecks vs. sever', 'the human stain', 'like mike', 'finding neverland', 'blood work', 'identity', 'luther', 'the dreamers', 'willard', 'bowling for columbine', 'confidence', 'master and commander: the far side of the world', 'holes', 'the league of extraordinary gentlemen', 'pieces of april', 'the cat in the hat', 'veronica guerin', 'out of time', 'runaway jury', 'two weeks notice', 'anything else', 'agent cody banks', 'hey arnold! the movie', 'love actually', 'tears of the sun', 'twisted', 'bruce almighty', '21 grams', 'house of sand and fog', 'open range', 'peter pan', 'radio', 'spider-man 2', 'because of winn-dixie', 'bridget jones: the edge of reason', 'daddy day care', 'the hebrew hammer', 'hidalgo', 'house of the dead', 'the italian job', 'mission: impossible iii', 'a sound of thunder', 'looney tunes: back in action', 'alex & emma', 'resident evil: apocalypse', 'sahara', 'the alamo', 'big fish', 'the day after tomorrow', 'elf', 'how to deal', 'kingdom of heaven', 'underworld', '2 fast 2 furious', 'freaky friday', 'honey', 'jackass: the movie', 'laws of attraction', 'the mother', 'shade', 'suspect zero', 'the texas chainsaw massacre', 'dickie roberts: former child star', 'head of state', 'lara croft tomb raider: the cradle of life', 'the last samurai', 'pirates of the caribbean: the curse of the black pearl', 'biker boyz', 'envy', 'good boy', 'the great raid', 'mystic river', 'secondhand lions', 'the stepford wives', 'the whole ten yards', 'around the world in 80 days', 'catwoman', 'coraline', 'ella enchanted', 'the rundown', \"malibu's most wanted\", 'man on fire', 'thirteen', 'under the tuscan sun', 'american wedding', 'dumb and dumberer: when harry met lloyd', 'freddy vs. jason', 'seabiscuit', 'torque', 'hollywood homicide', 'wilbur wants to kill himself', 'harry potter and the goblet of fire', 'the punisher', 'fever pitch', 'the notebook', 'saved!', 'school of rock', 'troy', 'intermission', \"my baby's daddy\", 'garden state', 'legally blonde 2: red, white & blonde', 'the company', 'godsend', 'the ladykillers', 'lost in translation', 'the passion of the christ', 'starsky & hutch', 'win a date with tad hamilton!', '13 going on 30', 'barbershop 2: back in business', 'the prince and me', 'rugrats go wild', \"something's gotta give\", 'birth', 'calendar girls', 'catch that kid', 'cellular', 'live free or die hard', 'eternal sunshine of the spotless mind', 'grind', 'the haunted mansion', 'dirty dancing: havana nights', 'paycheck', 'spy kids 3-d: game over', 'van helsing', 'the aviator', \"lemony snicket's a series of unfortunate events\", 'the statement', 'monster', 'unleashed', 'along came polly', '50 first dates', 'i, robot', 'the lost city', 'a very long engagement', 'connie and carla', 'the spongebob squarepants movie', 'sky captain and the world of tomorrow', 'alexander', 'steamboy', 'superman returns', 'waiting...', 'the door in the floor', 'gothika', \"breakin' all the rules\", 'cheaper by the dozen', 'king arthur', \"ocean's twelve\", 'ray', 'an unfinished life', 'walking tall', 'cinderella man', 'de-lovely', 'ginger snaps 2: unleashed', 'the game of their lives', 'the brothers grimm', 'lords of dogtown', 'eurotrip', 'the bridge of san luis rey', 'a cinderella story', 'the forgotten', 'garfield', 'the family stone', 'i heart huckabees', 'mr. & mrs. smith', 'elektra', 'anchorman: the legend of ron burgundy', 'boogeyman', 'robots', 'shall we dance', 'walk the line', 'agent cody banks 2: destination london', 'blade: trinity', 'a home at the end of the world', 'johnson family vacation', 'the secret life of walter mitty', 'chasing liberty', 'wimbledon', '10th & wolf', 'constantine', 'king kong', 'the real cancun', 'valiant', \"we don't live here anymore\", 'bride & prejudice', 'raise your voice', 'inglourious basterds', 'little black book', 'welcome to mooseport', 'scary movie 4', 'son of the mask', 'the terminal', 'kinsey', 'the life aquatic with steve zissou', 'the box', 'new york minute', 'dawn of the dead', 'the chronicles of narnia: the lion, the witch and the wardrobe', 'secret window', 'taking lives', 'dodgeball: a true underdog story', 'without a paddle', 'babylon a.d.', 'the matador', 'syriana', 'tenacious d in the pick of destiny', 'the upside of anger', 'a walk among the tombstones', 'whiteout', 'you got served', 'anacondas: the hunt for the blood orchid', 'happy feet', 'harold & kumar go to white castle', 'soul plane', 'the squid and the whale', 'after the sunset', 'charlie and the chocolate factory', 'deuce bigalow: european gigolo', 'indiana jones and the kingdom of the crystal skull', 'the manchurian candidate', 'the village', 'are we there yet?', 'elizabethtown', 'national treasure', 'osama', 'alone in the dark', 'collateral', 'four christmases', 'fun with dick and jane', 'jurassic world', 'monster-in-law', 'ultraviolet', 'alien vs. predator', 'spanglish', 'chicken little', \"the hitchhiker's guide to the galaxy\", 'iron man', 'the bourne supremacy', 'the wedding date', 'team america: world police', 'batman begins', 'dragon wars: d-war', 'journey to the center of the earth', 'kung fu hustle', 'where the truth lies', 'kiss kiss bang bang', 'harry potter and the order of the phoenix', 'the honeymooners', 'the interpreter', 'open water', 'bewitched', 'napoleon dynamite', 'sideways', 'bobby jones: stroke of genius', 'alfie', 'astro boy', 'crash', 'rebound', 'the rum diary', 'closer', 'x-men: the last stand', 'flight of the phoenix', 'mean girls', 'proof', 'be cool', 'the dukes of hazzard', 'the visual bible: the gospel of john', 'kill bill: vol. 2', 'my date with drew', 'capote', 'serenity', 'leatherheads', 'the merchant of venice', 'the lovely bones', 'oliver twist', 'the perfect man', 'casino royale', 'before sunset', 'white chicks', '3:10 to yuma', 'the da vinci code', 'ratatouille', 'stealth', 'the three stooges', 'synecdoche, new york', 'the pink panther', 'bloodrayne', \"pirates of the caribbean: dead man's chest\", 'cry wolf', 'silent hill', 'kicking & screaming', 'the weather man', 'accepted', 'the amityville horror', 'the golden compass', 'monster house', 'motherless brooklyn', 'sicko', 'where the wild things are', 'the legend of zorro', 'hitch', 'renaissance', 'bee season', 'the constant gardener', 'prime', 'saw', 'seed of chucky', 'the black dahlia', \"it's all gone pete tong\", 'malevolence', 'christmas with the kranks', 'transporter 2', 'brokeback mountain', 'black book', '30 days of night', 'bee movie', 'click', 'friday night lights', 'primer', 'super size me', 'the grudge', 'a lot like love', 'mozart and the whale', 'coach carter', 'the producers', 'catch and release', 'forty shades of blue', \"the devil's rejects\", 'the pacifier', 'north country', 'perfume: the story of a murderer', 'wedding crashers', 'nanny mcphee', 'house of wax', 'the skeleton key', 'eight below', 'memoirs of a geisha', 'bolt', 'derailed', 'the longest yard', 'tangled', 'assault on precinct 13', 'a history of violence', 'the island', 'lord of war', 'end of the spear', 'open season', 'a good year', 'john carter', 'sin city', 'æon flux', 'the great new wonderful', 'the sisterhood of the traveling pants', 'youth in revolt', 'the exorcism of emily rose', 'little children', 'running scared', 'the lives of others', 'million dollar baby', 'sky high', 'the 40-year-old virgin', 'the wild', \"all the king's men\", 'the prize winner of defiance, ohio', 'zathura: a space adventure', \"pooh's heffalump movie\", 'war of the worlds', 'the departed', 'sweeney todd: the demon barber of fleet street', 'munich', 'bad news bears', 'last holiday', 'poseidon', 'watchmen', 'cowboys & aliens', 'hustle & flow', 'the lake house', \"nim's island\", 'hellboy ii: the golden army', 'evan almighty', 'shrek the third', 'spider-man 3', \"charlotte's web\", 'barnyard', 'final destination 3', 'the fountain', 'talladega nights: the ballad of ricky bobby', 'mongol: the rise of genghis khan', 'the secret life of bees', 'the spiderwick chronicles', 'match point', '300', 'must love dogs', 'snakes on a plane', 'two for the money', 'harry potter and the half-blood prince', 'transformers', 'dreamer: inspired by a true story', 'flags of our fathers', 'inside deep throat', 'jarhead', 'land of the dead', 'three burials', 'doom', 'find me guilty', 'stranger than fiction', 'keane', 'the texas chainsaw massacre: the beginning', 'street kings', 'gridiron gang', 'red eye', 'the curious case of benjamin button', \"big momma's house 2\", 'diary of a mad black woman', 'marie antoinette', 'the oh in ohio', 'charlie bartlett', 'flushed away', 'clerks ii', 'employee of the month', 'get smart', 'just like heaven', \"mini's first time\", 'run, fat boy, run', 'the messengers', \"dave chappelle's block party\", 'dinner for schmucks', 'failure to launch', 'the invasion', 'the lookout', 'thank you for smoking', 'sweet land', 'the a-team', 'an american haunting', 'the ant bully', 'aquamarine', 'four brothers', 'little man', \"get rich or die tryin'\", 'miami vice', 'one night with the king', 'the women', 'role models', 'the possession', 'the kingdom', 'p.s. i love you', 'fantastic mr. fox', 'the fog', 'saw ii', 'daybreakers', 'good night, and good luck.', 'the grudge 2', 'journey from the fall', 'the namesake', 'the last kiss', 'flicka', 'v for vendetta', 'undiscovered', 'conversations with other women', 'the giver', 'friends with money', 'g-force', 'alita: battle angel', 'see no evil', 'akeelah and the bee', 'the benchwarmers', 'ice age: the meltdown', 'terminator salvation', 'slither', 'the bourne ultimatum', 'gracie', 'kung fu panda', 'beowulf', 'lincoln', 'vantage point', 'yours, mine & ours', 'borat: cultural learnings of america for make benefit glorious nation of kazakhstan', 'the illusionist', '10,000 bc', 'the assassination of jesse james by the coward robert ford', 'the x files: i want to believe', 'zodiac', 'paradise now', 'blades of glory', 'pathfinder', 'scott pilgrim vs. the world', 'knowing', 'shazam!', 'hancock', 'puss in boots', 'eragon', 'little miss sunshine', \"pirates of the caribbean: at world's end\", 'rv', 'la vie en rose', 'blood diamond', 'hostel', 'punisher: war zone', 'the wicker man', '1408', \"cirque du freak: the vampire's assistant\", 'wonder woman', 'the break-up', 'death race', 'gone baby gone', 'lady in the water', \"the time traveler's wife\", 'vacancy', 'deja vu', 'hoot', 'tmnt', '42', 'bubble', 'flyboys', 'the hills have eyes', 'inside man', 'life of pi', 'pulse', 'the pursuit of happyness', \"she's the man\", 'turistas', 'the crazies', 'how to lose friends & alienate people', 'the last king of scotland', \"madea's family reunion\", 'dead silence', 'australia', 'when a stranger calls', 'the equalizer', 'john tucker must die', 'land of the lost', \"pan's labyrinth\", 'nacho libre', 'the holiday', 'captain america: the first avenger', 'the devil wears prada', 'x-men origins: wolverine', 'enchanted', 'black snake moan', 'code name: the cleaner', 'grindhouse', 'the hoax', 'outlander', 'rambo', 'school for scoundrels', 'the simpsons movie', 'step up', 'you, me and dupree', 'freedom writers', 'piranha 3d', 'american dreamz', 'igor', 'push', \"shoot 'em up\", 'date movie', 'margaret', 'the omen', 'max payne', 'the other boleyn girl', 'juno', 'the dark knight', 'the astronaut farmer', 'there will be blood', 'world trade center', 'the express', 'ex machina', 'tower heist', '9', 'apocalypto', \"charlie wilson's war\", 'the smurfs', 'notorious', 'the mechanic', 'prince of persia: the sands of time', 'united 93', 'hail, caesar!', \"smokin' aces\", 'norbit', 'premonition', 'rocket science', 'unstoppable', '21', 'the tree of life', 'knocked up', 'vitus', 'ant-man', 'rocky balboa', 'crank', 'madagascar: escape 2 africa', 'one missed call', 'season of the witch', 'i am legend', 'the losers', 'hall pass', 'the number 23', 'the croods', 'harold & kumar escape from guantanamo bay', 'bella', 'the prestige', 'pride and glory', 'the strangers', 'red tails', 'thr3e', 'fly me to the moon 3d', 'fantastic 4: rise of the silver surfer', 'stardust', 'disturbia', 'unaccompanied minors', 'jumper', 'saw iii', 'stop-loss', 'phat girlz', 'reign over me', 'something borrowed', 'furry vengeance', 'chips', 'jackass number two', 'wanted', 'inkheart', 'welcome home, roscoe jenkins', 'hostel: part ii', 'letters from iwo jima', 'rings', 'we own the night', 'the chronicles of narnia: prince caspian', 'avatar', 'reno 911!: miami', 'friday the 13th', 'love & other drugs', 'body of lies', 'i now pronounce you chuck & larry', 'the nativity story', 'planet 51', 'brothers', 'american gangster', 'escape from planet earth', 'meet dave', \"what's your number?\", \"fool's gold\", 'i think i love my wife', 'man of steel', 'the illusionist', 'stomp the yard', 'aliens in the attic', 'drive', \"everybody's fine\", 'imagine that', 'mr. brooks', 'redline', 'the wolfman', 'the brothers solomon', 'the boxtrolls', 'the incredible burt wonderstone', 'dallas buyers club', 'everybody wants to be italian', 'the messenger', 'jack reacher', 'r.i.p.d.', 'case 39', 'death at a funeral', 'mamma mia!', 'not easily broken', 'scary movie 5', 'star trek', 'forgetting sarah marshall', 'the hills have eyes 2', 'the incredible hulk', 'appaloosa', 'clash of the titans', 'thor', 'warcraft', \"it's kind of a funny story\", 'married life', 'facing the giants', 'lars and the real girl', 'angels & demons', 'lust, caution', 'tooth fairy', 'life during wartime', 'bright star', 'jack and jill', 'speed racer', 'the love guru', 'bangkok dangerous', 'percy jackson & the olympians: the lightning thief', 'seven pounds', 'the stepfather', 'the life before her eyes', \"she's out of my league\", 'religulous', 'conan the barbarian', 'interstellar', 'world war z', 'flipped', \"valentine's day\", 'priest', 'shooter', 'changeling', 'the last station', 'the bucket list', 'dracula untold', 'a mighty heart', 'superbad', 'quantum of solace', 'godzilla', 'underworld: rise of the lycans', 'hotel transylvania', 'pet sematary', 'the darjeeling limited', 'the pink panther 2', 'step brothers', 'the town', 'walk hard: the dewey cox story', 'the kids are all right', 'cloudy with a chance of meatballs', 'college', 'the avengers', 'epic', 'the house bunny', 'death of a president', 'the mummy: tomb of the dragon emperor', 'super troopers 2', 'blindness', 'mr. peabody & sherman', 'made of honor', 'baby mama', 'my soul to take', 'nine', 'the blind side', 'please give', 'eat pray love', 'untraceable', 'sanctum', 'the mist', \"legends of oz: dorothy's return\", 'the wedding ringer', 'burn after reading', 'the hurt locker', 'the switch', 'lions for lambs', 'letters to juliet', 'how to train your dragon', 'monsters vs. aliens', 'shrek forever after', 'the city of your final destination', 'the road', 'love happens', 'bride wars', 'the good the bad the weird', 'the thing', 'once', 'pineapple express', 'armored', 'doubt', 'the legend of tarzan', 'prom night', 'precious', 'rabbit hole', 'taken', 'this christmas', 'the last airbender', 'silent hill: revelation', 'tropic thunder', 'salt', 'source code', 'black swan', 'green zone', 'the amazing spider-man', 'the happening', 'alvin and the chipmunks', 'the killer inside me', 'robin hood', 'revolutionary road', \"you don't mess with the zohan\", 'bedtime stories', 'high school musical 3', 'the young victoria', 'the international', \"the sorcerer's apprentice\", 'the fighter', 'the conspirator', 'city of ember', 'the day the earth stood still', 'little fockers', 'a perfect getaway', 'the reader', 'old dogs', 'fair game', 'sucker punch', 'the chronicles of narnia: the voyage of the dawn treader', \"nick and norah's infinite playlist\", 'fantasy island', 'machete', 'valkyrie', 'surrogates', 'sherlock holmes', 'traitor', '27 dresses', 'dear john', 'the green hornet', 'hanna', 'the wolf of wall street', 'ghost town', 'straw dogs', 'sex and the city', 'megamind', 'countdown', 'zack and miri make a porno', 'slumdog millionaire', 'redbelt', 'fast & furious', 'milk', 'alice in wonderland', 'fame', 'the runaways', 'our brand is crisis', 'the sisterhood of the traveling pants 2', 'selma', 'centurion', '500 days of summer', 'never back down', 'the way back', 'argo', 'gemini man', 'wall street: money never sleeps', 'swing vote', 'secretariat', 'poltergeist', 'the rocker', \"the warrior's way\", 'i love you, beth cooper', 'what happens in vegas', 'defiance', 'righteous kill', 'the eagle', 'coco before chanel', 'the book of eli', 'legion', 'the bounty hunter', 'the nutcracker in 3d', 'the proposal', 'cadillac records', 'the legend of hercules', 'silver linings playbook', 'year one', \"my best friend's girl\", 'g.i. joe: the rise of cobra', 'miracle at st. anna', 'parental guidance', 'black christmas', 'up', 'goosebumps', 'the invisible man', 'repo men', 'the big year', 'the imaginarium of doctor parnassus', 'life as we know it', 'transformers: revenge of the fallen', 'invictus', 'the invention of lying', 'eagle eye', 'cloverfield', 'boyhood', 'a christmas carol', 'water for elephants', 'monte carlo', 'yes man', 'ghost rider: spirit of vengeance', 'skyfall', 'jonah hex', 'dark shadows', \"my sister's keeper\", 'night at the museum: battle of the smithsonian', 'couples retreat', 'ice age: dawn of the dinosaurs', 'the belko experiment', 'quarantine', 'eddie the eagle', 'fired up!', 'blended', 'lone survivor', 'paul', 'the goods: live hard, sell hard', 'the darkest hour', 'bad lieutenant: port of call new orleans', 'twilight', 'killers', 'tron: legacy', 'hamlet 2', 'paddington', 'the taking of pelham 123', 'paul blart: mall cop', 'jackass 3d', 'the hangover', 'blue valentine', 'seventh son', 'mother and child', 'free state of jones', 'city of life and death', 'the wrestler', 'love ranch', 'burlesque', 'morning glory', 'drag me to hell', 'taking woodstock', 'fireproof', 'amelia', 'the informant!', 'shutter island', 'pirate radio', \"jennifer's body\", 'the girl with the dragon tattoo', 'saw v', 'green lantern', 'survival of the dead', 'takers', 'duplicity', 'julie & julia', 'sex drive', 'district 9', 'death wish', 'the ghost writer', 'the unborn', 'frankenweenie', 'the ugly truth', 'the final destination', 'chain letter', 'the white ribbon', 'leaves of grass', 'beastly', 'freakonomics', 'public enemies', 'dance flick', 'the karate kid', 'zombieland', 'gentlemen broncos', 'the rite', 'whip it', 'the company men', 'city island', 'an education', 'w.', 'me and orson welles', 'away we go', 'from paris with love', 'a nightmare on elm street', 'chéri', 'my bloody valentine', 'paranormal activity', 'you will meet a tall dark stranger', 'ninja assassin', 'agora', 'pandorum', 'the lincoln lawyer', '2012', 'rango', 'up in the air', 'step up 3d', 'the bourne legacy', 'get low', 'casino jack', 'the five-year engagement', 'diary of a wimpy kid', 'law abiding citizen', 'observe and report', 'obsessed', 'funny people', 'the muppets', 'last vegas', 'ouija', 'gran torino', 'jack ryan: shadow recruit', 'out of the furnace', 'rambo: last blood', \"brooklyn's finest\", 'moneyball', 'the lone ranger', 'doctor strange', 'hereafter', 'the back-up plan', 'first man', 'disaster movie', \"the world's end\", 'cars 2', 'leap year', 'brave', 'battle los angeles', 'limitless', \"legend of the guardians: the owls of ga'hoole\", 'ghost in the shell', 'resident evil: afterlife', 'zookeeper', 'extract', 'get him to the greek', 'the greatest', 'edge of darkness', 'the debt', 'iron man 2', 'let me in', 'mission: impossible - ghost protocol', 'anchorman 2: the legend continues', 'not fade away', \"it's complicated\", 'alvin and the chipmunks: the squeakquel', 'due date', 'hot tub time machine', \"that's my boy\", 'capitalism: a love story', 'sorority row', '21 jump street', 'brighton rock', 'saw vi', 'the men who stare at goats', 'red dawn', 'robocop', 'a prophet', 'the future', 'wild target', 'broken city', 'ondine', 'your highness', 'i spit on your grave', 'the tourist', 'aloha', 'extraordinary measures', 'this is the end', 'red', 'kick-ass', 'salvation boulevard', '300: rise of an empire', 'immortals', 'holmes & watson', 'incendies', 'the man with the iron fists', 'the twilight saga: new moon', 'sex and the city 2', 'scream 4', 'crazy heart', 'hercules', 'a very harold & kumar 3d christmas', \"the devil's double\", 'to save a life', \"don't be afraid of the dark\", 'venom', 'x-men: first class', '2 guns', 'the spy next door', 'the tempest', 'looper', \"madagascar 3: europe's most wanted\", 'date night', 'easy a', 'bad teacher', 'the social network', 'the joneses', 'cats & dogs: the revenge of kitty galore', 'evil dead', 'ghostbusters', 'harry brown', 'teenage mutant ninja turtles', 'warrior', 'how to be single', 'xxx: return of xander cage', 'solitary man', 'the last song', 'the watch', 'pirates of the caribbean: on stranger tides', 'the boondock saints ii: all saints day', 'iron man 3', 'kung fu panda 2', 'yogi bear', 'mars needs moms', 'seeking a friend for the end of the world', 'the happytime murders', 'halloween ii', 'did you hear about the morgans?', 'a single man', 'there be dragons', 'rise of the planet of the apes', 'the last exorcism', 'the expendables', \"gulliver's travels\", 'death at a funeral', 'oldboy', 'the beaver', 'gangster squad', 'going the distance', 'despicable me', 'the twilight saga: breaking dawn - part 1', 'the twilight saga: eclipse', \"lee daniels' the butler\", 'movie 43', 'never let me go', 'arthur', '47 ronin', 'rock of ages', 'cyrus', 'in a better world', 'terminator genisys', 'how do you know', 'the great gatsby', 'dredd', 'the dark knight rises', 'the eclipse', 'jack the giant slayer', 'chloe', 'if i stay', 'passengers', 'black mass', 'tomb raider', 'the sitter', 'this is where i leave you', 'pride and prejudice and zombies', 'inception', 'grown ups', 'the adjustment bureau', 'cop out', 'the other guys', 'suicide squad', 'total recall', 'downsizing', 'when the bough breaks', 'in the heart of the sea', 'why did i get married too?', 'the hunger games', 'mad max: fury road', 'marmaduke', 'prisoners', \"mr. popper's penguins\", 'it', 'taken 2', 'journey 2: the mysterious island', 'straight outta compton', 'transformers: dark of the moon', \"winter's bone\", 'unknown', 'hesher', 'true grit', 'remember me', 'for colored girls', 'twelve', 'star trek into darkness', 'ride along', 'men in black 3', 'no strings attached', 'riddick', 'bucky larson: born to be a star', 'the hangover part ii', 'hop', 'the best exotic marigold hotel', 'paranoia', 'you again', 'nanny mcphee returns', 'i, frankenstein', 'somewhere', \"barney's version\", 'stone', 'predators', 'black nativity', 'hansel & gretel: witch hunters', 'the wolverine', 'brick mansions', 'big miracle', 'the pirates! band of misfits', 'deadpool', 'another year', 'faster', 'the apparition', 'rio', 'fright night', 'charlie st. cloud', 'battleship', 'the american', 'under the skin', 'rise of the guardians', 'prometheus', 'killer elite', 'the help', 'gravity', 'the conjuring', 'kidnap', 'the next three days', 'dream house', 'letters to god', 'big mommas: like father, like son', 'i am number four', 'baywatch', 'macgruber', 'monsters', \"bridget jones's baby\", 'saw: the final chapter', 'bridesmaids', 'attack the block', 'the lorax', 'oblivion', 'the greatest showman', 'red riding hood', 'the raven', '5 days of war', 'the change-up', 'central intelligence', 'the lego movie', 'underworld awakening', 'restless', 'horrible bosses', 'bad boys for life', 'halloween', 'fantastic four', \"the king's speech\", 'haywire', 'the three musketeers', 'super', 'the host', 'a star is born', 'spy kids 4-d: all the time in the world', \"meek's cutoff\", 'anonymous', 'contraband', 'vacation', 'exodus: gods and kings', 'trust', 'everything must go', 'beginners', 'battle of the year', 'elysium', 'captain phillips', 'paranormal activity 2', 'the mortal instruments: city of bones', 'blair witch', 'the guard', 'snow flower and the secret fan', '127 hours', 'judy moody and the not bummer summer', 'premium rush', 'the last stand', 'a better life', 'country strong', 'beautiful creatures', 'zombieland: double tap', 'the devil inside', 'one day', 'overboard', 'dolphin tale', 'just go with it', 'skyline', 'man on a ledge', 'the girl with the dragon tattoo', 'war horse', 'crazy, stupid, love.', 'mortal engines', 'the dilemma', 'house at the end of the street', 'larry crowne', 'g.i. joe: retaliation', 'the last godfather', \"what to expect when you're expecting\", 'machine gun preacher', 'maleficent', 'warm bodies', 'insidious', 'act of valor', 'lockout', 'fast five', 'soul surfer', 'this means war', 'the big short', 'contagion', \"new year's eve\", 'one for the money', 'safe house', 'abduction', 'the drop', 'the grey', 'amour', 'prom', 'american reunion', 'midnight in paris', 'a good day to die hard', 'the vow', 'abraham lincoln: vampire hunter', 'savages', 'margin call', 'the foreigner', 'alvin and the chipmunks: chipwrecked', 'j. edgar', 'jupiter ascending', 'the last witch hunter', 'bleed for this', 'free birds', 'think like a man', '30 minutes or less', 'final destination 5', 'oz the great and powerful', 'paranorman', 'young adult', 'independence day: resurgence', 'chasing mavericks', 'courageous', 'edge of tomorrow', 'friends with benefits', 'shark night 3d', 'bloodshot', 'johnny english reborn', 'in time', 'our idiot brother', 'ted', 'the man from u.n.c.l.e.', 'jumping the broom', 'inside job', 'the dictator', 'how to train your dragon 2', 'wrath of the titans', 'million dollar arm', 'the dark tower', 'diary of a wimpy kid: rodrick rules', 'super 8', 'kick-ass 2', 'the artist', 'colombiana', 'cinderella', 'grudge match', 'fun size', 'the revenant', 'pacific rim', 'all eyez on me', 'vampires suck', 'the duff', 'mirror mirror', 'ice age: continental drift', 'now you see me', 'the twilight saga: breaking dawn - part 2', 'entourage', 'take shelter', 'ready player one', 'trolls', 'stoker', 'circumstance', 'despicable me 2', 'planes', 'the guilt trip', 'alexander and the terrible, horrible, no good, very bad day', 'peeples', 'sausage party', 'safe haven', 'chronicle', 'les misérables', '21 & over', 'office christmas party', 'alex cross', 'only lovers left alive', 'people like us', \"we're the millers\", 'scouts guide to the zombie apocalypse', 'bohemian rhapsody', \"ender's game\", 'the lords of salem', 'snow white and the huntsman', 'secret in their eyes', 'jersey boys', \"i don't know how she does it\", 'the greatest movie ever sold', 'moonrise kingdom', \"a dog's purpose\", 'the to do list', 'the snowman', 'this is 40', 'walking with dinosaurs 3d', 'killing them softly', 'the expendables 2', 'apollo 18', 'danny collins', 'wreck-it ralph', 'paranormal activity 3', 'pirates of the caribbean: dead men tell no tales', 'the maze runner', 'zero dark thirty', 'bad santa 2', 'southpaw', 'her', 'american hustle', 'that awkward moment', 'step up revolution', 'unbroken', 'admission', 'after earth', 'the place beyond the pines', 'nebraska', 'the nut job', 'red 2', 'annie', 'chappie', 'about last night', 'the fifth estate', \"winter's tale\", 'divergent', 'the words', 'captain america: the winter soldier', 'hunter killer', 'sisters', 'django unchained', 'percy jackson: sea of monsters', 'end of watch', 'resident evil: retribution', 'blade runner 2049', 'dirty grandpa', 'turbo', 'deepwater horizon', 'filly brown', 'the judge', 'sparkle', 'x-men: days of future past', 'the edge of seventeen', 'parker', 'fast & furious 6', 'flight', 'the call', 'penguins of madagascar', 'magic mike', 'pompeii', 'glee: the 3d concert movie', 'sinister', 'trance', \"let's be cops\", 'heaven is for real', 'the big wedding', 'seven psychopaths', \"miss peregrine's home for peculiar children\", 'carrie', 'uglydolls', 'ford v ferrari', 'the hangover part iii', 'the hunger games: catching fire', 'the hunger games: mockingjay - part 1', 'the hunger games: mockingjay - part 2', 'sex tape', 'noah', \"the hitman's bodyguard\", 'american assassin', 'tomorrowland', 'labor day', 'king arthur: legend of the sword', 'the best of me', \"rules don't apply\", 'rush', 'pain & gain', 'thor: the dark world', 'geostorm', 'pitch perfect', 'the angry birds movie', 'cloudy with a chance of meatballs 2', 'the upside', 'hell fest', 'neighbors', 'no good deed', 'guardians of the galaxy', 'the smurfs 2', 'diary of a wimpy kid: dog days', 'mama', 'identity thief', 'non-stop', '12 years a slave', 'the last exorcism part ii', 'the great wall', 'flatliners', 'the gambler', 'point break', 'rocketman', 'steve jobs', 'the best man holiday', 'captain underpants: the first epic movie', \"assassin's creed\", 'dumb and dumber to', 'inside out', 'hit and run', 'spring breakers', 'tammy', 'dawn of the planet of the apes', 'into the storm', 'paranormal activity 4', 'transformers: age of extinction', 'hacksaw ridge', 'the house with a clock in its walls', 'pixels', 'san andreas', 'second act', 'saving mr. banks', 'the accountant', 'getaway', 'horrible bosses 2', '3 days to kill', 'metallica through the never', 'the monuments men', 'american sniper', 'into the woods', 'earth to echo', 'the purge', 'grown ups 2', 'the counselor', 'run all night', 'the other woman', 'transcendence', \"madea's witness protection\", 'katy perry: part of me', 'home', 'insidious: chapter 2', 'the mountain between us', 'don jon', 'rampage', 'the internship', 'valerian and the city of a thousand planets', 'think like a man too', 'money monster', 'a haunted house', 'big hero 6', 'when the game stands tall', 'spider-man: homecoming', 'the book of life', 'kung fu panda 3', 'gone girl', 'magic mike xxl', 'hellboy', 'the grand budapest hotel', 'love the coopers', 'the spongebob movie: sponge out of water', 'muppets most wanted', 'men in black: international', 'jumanji: welcome to the jungle', 'minions', '22 jump street', 'frozen', 'sherlock gnomes', 'olympus has fallen', 'the 5th wave', 'the gallows', 'homefront', 'alien: covenant', 'endless love', 'fifty shades of grey', 'snatched', 'white house down', 'the rover', 'the mummy', 'jobs', 'rio 2', 'unfinished business', 'the intern', 'runner runner', 'the disappointments room', 'need for speed', 'deliver us from evil', 'spectre', 'mission: impossible - rogue nation', 'focus', \"the huntsman: winter's war\", 'how to train your dragon: the hidden world', 'dark skies', 'keeping up with the joneses', 'delivery man', 'oculus', 'avengers: age of ultron', 'smurfs: the lost village', 'the green inferno', 'gods of egypt', 'the family', 'woman in gold', 'the magnificent seven', 'the heat', 'atomic blonde', 'philomena', 'project almanac', 'taken 3', 'joy', 'the peanuts movie', 'left behind', 'paranormal activity: the ghost dimension', 'paranormal activity: the marked ones', 'star wars: episode vii - the force awakens', 'burnt', 'hotel transylvania 2', 'the gunman', 'one direction: this is us', 'star wars: episode viii - the last jedi', \"god's not dead\", 'blockers', 'arrival', 'the light between oceans', 'crimson peak', 'the second best exotic marigold hotel', 'pacific rim: uprising', 'a million ways to die in the west', 'get hard', 'birdman or (the unexpected virtue of ignorance)', 'alice through the looking glass', 'going in style', 'me and earl and the dying girl', 'hell or high water', 'whiplash', 'the fault in our stars', 'resident evil: the final chapter', 'ted 2', 'hot tub time machine 2', 'ben-hur', 'star trek beyond', 'fences', 'me before you', 'hitman: agent 47', 'night at the museum: secret of the tomb', 'the boss', 'game night', \"dr. seuss' the grinch\", 'the secret life of pets', 'fury', 'blackhat', 'everest', 'the longest ride', \"devil's due\", 'sinister 2', 't2 trainspotting', 'beauty and the beast', 'veronica mars', 'thank you for your service', \"pete's dragon\", 'annihilation', 'kingsman: the secret service', 'furious 7', 'mike and dave need wedding dates', 'a haunted house 2', 'pitch perfect 2', 'tag', 'ride along 2', 'nightcrawler', 'lucy', 'red sparrow', 'black or white', '99 homes', 'insurgent', 'john wick', 'the lazarus effect', '47 meters down', 'a most violent year', 'hot pursuit', 'the purge: anarchy', 'batman v superman: dawn of justice', 'dolphin tale 2', 'the theory of everything', 'the hundred-foot journey', 'planes: fire & rescue', 'camp x-ray', 'the water diviner', \"moms' night out\", 'the jungle book', 'mortdecai', 'inferno', 'bad grandpa', 'the conjuring 2', 'creed', 'spy', 'crazy rich asians', 'trainwreck', \"justin bieber's believe\", 'the boy next door', 'fantastic beasts and where to find them', 'insidious: chapter 3', 'incarnate', 'a beautiful day in the neighborhood', 'risen', 'sully', 'heist', 'little women', 'welcome to marwen', 'london has fallen', 'logan', 'american ultra', 'still alice', 'concussion', 'annabelle', 'pan', 'jigsaw', 'friend request', 'max', 'transformers: the last knight', 'x-men: apocalypse', 'scary stories to tell in the dark', 'the forest', 'jack reacher: never go back', 'sicario', 'murder on the orient express', 'ferdinand', 'ice age: collision course', 'paul blart: mall cop 2', 'war for the planet of the apes', 'the hateful eight', 'unforgettable', 'despicable me 3', 'sing', 'the nut job 2: nutty by nature', 'the walk', 'captain america: civil war', 'thor: ragnarok', 'the night before', 'nerve', 'american made', 'whiskey tango foxtrot', 'girls trip', 'the visit', 'the grudge', 'jem and the holograms', 'paper towns', 'ricki and the flash', 'the girl on the train', 'allied', 'the martian', 'bridge of spies', 'the bfg', 'by the sea', 'unfriended', 'underworld: blood wars', 'power rangers', 'kong: skull island', 'godzilla: king of the monsters', 'lion', 'rogue one: a star wars story', 'the equalizer 2', 'snowden', 'solo: a star wars story', 'la la land', 'sonic the hedgehog', 'the nice guys', 'the predator', 'only the brave', 'war room', 'dope', 'krampus', 'dumbo', 'the perfect guy', 'the goldfinch', 'the boy', 'baby driver', 'guardians of the galaxy vol. 2', 'the space between us', 'teenage mutant ninja turtles: out of the shadows', 'the bye bye man', 'manchester by the sea', 'maze runner: the scorch trials', 'the shallows', 'the darkest minds', 'the purge: election year', 'the lego batman movie', 'fantastic beasts: the crimes of grindelwald', 'after', 'my little pony: the movie', 'florence foster jenkins', 'keanu', 'avengers: endgame', \"don't breathe\", '13 hours', 'the gift', 'the birth of a nation', 'jason bourne', 'alpha', 'miracles from heaven', 'the witch', 'grandma', 'the circle', 'kubo and the two strings', 'queen of katwe', 'ouija: origin of evil', 'nine lives', 'fifty shades darker', 'fifty shades freed', 'gifted', 'the house', 'all i see is you', 'maze runner: the death cure', 'why him?', 'the prodigy', 'morgan', 'overlord', 'robin hood', 'white boy rick', 'mile 22', 'patriots day', 'sleight', 'christopher robin', 'the star', 'storks', 'the fate of the furious', 'spider-man: into the spider-verse', \"huevos: little rooster's egg-cellent adventure\", 'harriet', 'almost christmas', 'kingsman: the golden circle', 'bad moms', 'all saints', 'collateral beauty', 'bumblebee', 'a cure for wellness', 'unfriended: dark web', 'pitch perfect 3', 'the promise', 'the meg', 'lights out', 'rough night', 'the best of enemies', \"mother's day\", 'hidden figures', 'the emoji movie', 'jurassic world: fallen kingdom', 'mission: impossible - fallout', 'the curse of la llorona', 'split', 'moonlight', 'middle school: the worst years of my life', 'everything, everything', 'dunkirk', 'mary poppins returns', \"charlie's angels\", 'get out', 'sicario: day of the soldado', 'mother!', 'the secret life of pets 2', 'peter rabbit', 'annabelle: creation', \"ocean's eight\", 'love, simon', \"the girl in the spider's web\", 'hotel transylvania 3: summer vacation', 'marshall', 'happy death day', 'wish upon', \"tyler perry's boo! a madea halloween\", 'the hurricane heist', 'wind river', 'detroit', 'logan lucky', 'life', 'deadpool 2', 'hustlers', 'the nutcracker and the four realms', 'the good liar', 'the hate u give', \"daddy's home 2\", 'goosebumps 2: haunted halloween', 'slender man', 'cats', 'home again', 'just getting started', 'insidious: the last key', 'the possession of hannah grace', 'skyscraper', 'the nun', 'the kitchen', 'ralph breaks the internet', 'pokémon detective pikachu', 'escape room', 'miss bala', 'roman j. israel, esq.', 'diary of a wimpy kid: the long haul', 'the angry birds movie 2', 'the lion king', 'the first purge', 'aladdin', 'angel has fallen', 'boo 2! a madea halloween', 'a ghost story', 'the post', 'adrift', 'spider-man: far from home', 'an inconvenient sequel: truth to power', 'abominable', 'creed ii', 'a bad moms christmas', 'proud mary', 'i can only imagine', 'terminator: dark fate', 'action point', 'phoenix forgotten', 'bad times at the el royale', 'a quiet place', 'the spy who dumped me', 'dolittle', 'the intruder', \"blumhouse's truth or dare\", 'night school', 'i feel pretty', 'the 15:17 to paris', \"don't let go\", 'glass', 'peppermint', 'us', 'mamma mia! here we go again', 'johnny english strikes again', 'midway', 'green book', 'every day', 'a simple favor', 'breakthrough', 'once upon a time... in hollywood', 'breaking in', 'joker', '47 meters down: uncaged', 'good boys', 'blackkklansman', 'paul, apostle of christ', 'black and blue', 'instant family', 'teen titans go! to the movies', 'the call of the wild', 'the turning', 'like a boss', 'dora and the lost city of gold', 'dora and the lost city of gold', \"a dog's way home\", 'what men want', 'superfly', 'birds of prey: and the fantabulous emancipation of one harley quinn', 'brightburn', 'ready or not', 'the photograph', 'ma', 'the mule', 'jumanji: the next level', 'yesterday', 'little', \"nobody's fool\", 'happy death day 2u', 'overcomer', 'the hunt', 'crawl', 'last christmas', \"child's play\", '21 bridges', 'knives out', 'unplanned', 'playing with fire', 'brahms: the boy ii']\n",
            "Assassin's Creed\n",
            "['assassins', 'creed']\n",
            "5814\n"
          ]
        }
      ]
    },
    {
      "cell_type": "markdown",
      "metadata": {
        "id": "AKAQGDnmOLWi"
      },
      "source": [
        "#Stem words"
      ]
    },
    {
      "cell_type": "code",
      "metadata": {
        "colab": {
          "base_uri": "https://localhost:8080/"
        },
        "id": "f-Q54L9z8DxN",
        "outputId": "9e378467-2a0b-4fca-ea12-ce8e1bcb9452"
      },
      "source": [
        "stemmer = PorterStemmer()\n",
        "for i in range(len(data2)):\n",
        "  data2[i] = [stemmer.stem(w.lower()) for w in data2[i]]\n",
        "print(data2[3])"
      ],
      "execution_count": 243,
      "outputs": [
        {
          "output_type": "stream",
          "name": "stdout",
          "text": [
            "['insid', 'disney', 'studio', 'motion', 'pictur']\n"
          ]
        }
      ]
    },
    {
      "cell_type": "code",
      "metadata": {
        "colab": {
          "base_uri": "https://localhost:8080/",
          "height": 225
        },
        "id": "JX2qYxWPiAUv",
        "outputId": "de7d77ef-2efc-4370-94a8-53b955c1deb6"
      },
      "source": [
        "for i in range(len(k_dataset)):\n",
        "  data2[i].extend(str(k_dataset['Genres'][i]).replace(';', ' ').lower().split(' '))\n",
        "for i in range(len(k_dataset2)):\n",
        "  data2[i+len(k_dataset['Title'])].append(str(k_dataset2['genre_1'][i]).lower())\n",
        "  data2[i+len(k_dataset['Title'])].append(str(k_dataset2['genre_2'][i]).lower())\n",
        "  data2[i+len(k_dataset['Title'])].append(str(k_dataset2['genre_3'][i]).lower())\n",
        "  data2[i+len(k_dataset['Title'])].append(str(k_dataset2['genre_4'][i]).lower())\n",
        "  if '' in data2[i+len(k_dataset['Title'])]:\n",
        "    data2[i+len(k_dataset['Title'])].remove('')\n",
        "print(data2[2+len(k_dataset['Title'])])\n",
        "short_df = pd.DataFrame(list(zip(data2, is_r)),\n",
        "               columns =['info', 'age rate'])\n",
        "\n",
        "short_df.tail()\n",
        "#with pd.option_context('display.max_rows', None, 'display.max_columns', None):\n",
        "#     print(short_df)"
      ],
      "execution_count": 244,
      "outputs": [
        {
          "output_type": "stream",
          "name": "stdout",
          "text": [
            "['frida', 'biography', 'drama', 'romance']\n"
          ]
        },
        {
          "output_type": "execute_result",
          "data": {
            "text/html": [
              "<div>\n",
              "<style scoped>\n",
              "    .dataframe tbody tr th:only-of-type {\n",
              "        vertical-align: middle;\n",
              "    }\n",
              "\n",
              "    .dataframe tbody tr th {\n",
              "        vertical-align: top;\n",
              "    }\n",
              "\n",
              "    .dataframe thead th {\n",
              "        text-align: right;\n",
              "    }\n",
              "</style>\n",
              "<table border=\"1\" class=\"dataframe\">\n",
              "  <thead>\n",
              "    <tr style=\"text-align: right;\">\n",
              "      <th></th>\n",
              "      <th>info</th>\n",
              "      <th>age rate</th>\n",
              "    </tr>\n",
              "  </thead>\n",
              "  <tbody>\n",
              "    <tr>\n",
              "      <th>0</th>\n",
              "      <td>[jurass, world, univers, pictur, action, adven...</td>\n",
              "      <td>0</td>\n",
              "    </tr>\n",
              "    <tr>\n",
              "      <th>1</th>\n",
              "      <td>[war, episod, vii, forc, awaken, disney, studi...</td>\n",
              "      <td>0</td>\n",
              "    </tr>\n",
              "    <tr>\n",
              "      <th>2</th>\n",
              "      <td>[aveng, age, ultron, disney, studio, motion, p...</td>\n",
              "      <td>0</td>\n",
              "    </tr>\n",
              "    <tr>\n",
              "      <th>3</th>\n",
              "      <td>[insid, disney, studio, motion, pictur, advent...</td>\n",
              "      <td>0</td>\n",
              "    </tr>\n",
              "    <tr>\n",
              "      <th>4</th>\n",
              "      <td>[furiou, univers, pictur, action, adventure, t...</td>\n",
              "      <td>0</td>\n",
              "    </tr>\n",
              "  </tbody>\n",
              "</table>\n",
              "</div>"
            ],
            "text/plain": [
              "                                                info  age rate\n",
              "0  [jurass, world, univers, pictur, action, adven...         0\n",
              "1  [war, episod, vii, forc, awaken, disney, studi...         0\n",
              "2  [aveng, age, ultron, disney, studio, motion, p...         0\n",
              "3  [insid, disney, studio, motion, pictur, advent...         0\n",
              "4  [furiou, univers, pictur, action, adventure, t...         0"
            ]
          },
          "metadata": {},
          "execution_count": 244
        }
      ]
    },
    {
      "cell_type": "code",
      "metadata": {
        "colab": {
          "base_uri": "https://localhost:8080/",
          "height": 206
        },
        "id": "wfca9Kk6pAt4",
        "outputId": "4489f268-a012-47c4-dbe4-60134e2f3284"
      },
      "source": [
        "short_df.tail()"
      ],
      "execution_count": 246,
      "outputs": [
        {
          "output_type": "execute_result",
          "data": {
            "text/html": [
              "<div>\n",
              "<style scoped>\n",
              "    .dataframe tbody tr th:only-of-type {\n",
              "        vertical-align: middle;\n",
              "    }\n",
              "\n",
              "    .dataframe tbody tr th {\n",
              "        vertical-align: top;\n",
              "    }\n",
              "\n",
              "    .dataframe thead th {\n",
              "        text-align: right;\n",
              "    }\n",
              "</style>\n",
              "<table border=\"1\" class=\"dataframe\">\n",
              "  <thead>\n",
              "    <tr style=\"text-align: right;\">\n",
              "      <th></th>\n",
              "      <th>info</th>\n",
              "      <th>age rate</th>\n",
              "    </tr>\n",
              "  </thead>\n",
              "  <tbody>\n",
              "    <tr>\n",
              "      <th>5809</th>\n",
              "      <td>[bridg, action, crime, drama, thriller]</td>\n",
              "      <td>1</td>\n",
              "    </tr>\n",
              "    <tr>\n",
              "      <th>5810</th>\n",
              "      <td>[knive, comedy, crime, drama, mystery]</td>\n",
              "      <td>0</td>\n",
              "    </tr>\n",
              "    <tr>\n",
              "      <th>5811</th>\n",
              "      <td>[unplan, biography, drama, ]</td>\n",
              "      <td>1</td>\n",
              "    </tr>\n",
              "    <tr>\n",
              "      <th>5812</th>\n",
              "      <td>[play, fire, comedy, family, ]</td>\n",
              "      <td>0</td>\n",
              "    </tr>\n",
              "    <tr>\n",
              "      <th>5813</th>\n",
              "      <td>[brahm, boy, ii, drama, horror, mystery, thril...</td>\n",
              "      <td>0</td>\n",
              "    </tr>\n",
              "  </tbody>\n",
              "</table>\n",
              "</div>"
            ],
            "text/plain": [
              "                                                   info  age rate\n",
              "5809            [bridg, action, crime, drama, thriller]         1\n",
              "5810             [knive, comedy, crime, drama, mystery]         0\n",
              "5811                       [unplan, biography, drama, ]         1\n",
              "5812                     [play, fire, comedy, family, ]         0\n",
              "5813  [brahm, boy, ii, drama, horror, mystery, thril...         0"
            ]
          },
          "metadata": {},
          "execution_count": 246
        }
      ]
    },
    {
      "cell_type": "markdown",
      "metadata": {
        "id": "aWZWBx-_Qsfb"
      },
      "source": [
        "# Hyperparameters\n"
      ]
    },
    {
      "cell_type": "code",
      "metadata": {
        "id": "ZscIPxf2snDQ"
      },
      "source": [
        "# output directory name:\n",
        "output_dir = 'model_output/dense'\n",
        "\n",
        "embedding_dim = 64\n",
        "max_features=10000\n",
        "maxlen=20\n",
        "\n",
        "####\n",
        "# training:\n",
        "epochs = 6#4\n",
        "batch_size = 32#784\n",
        "\n",
        "# vector-space embedding: \n",
        "n_dim = 64\n",
        "n_unique_words = 5000 # as per Maas et al. (2011); may not be optimal\n",
        "#n_words_to_skip = 50 # ditto\n",
        "max_decription_length = 100 #max_review_length (amount of tokens(words))\n",
        "pad_type = trunc_type = 'pre' #could be 'post'\n",
        "\n",
        "# neural network architecture: \n",
        "n_dense = 64 #neurons\n",
        "dropout = 0.5 #drop 50% of neurons \n",
        "\n",
        "\n",
        "\n"
      ],
      "execution_count": 245,
      "outputs": []
    },
    {
      "cell_type": "markdown",
      "metadata": {
        "id": "CyHfKPx7SM-D"
      },
      "source": [
        "# Tokenizer"
      ]
    },
    {
      "cell_type": "code",
      "metadata": {
        "colab": {
          "base_uri": "https://localhost:8080/"
        },
        "id": "8kz1yWicnKTq",
        "outputId": "2b346eac-a957-417c-e37e-55402f5c26e8"
      },
      "source": [
        "#tokenizer of descriptions\n",
        "t  = Tokenizer(num_words=max_features)\n",
        "t.fit_on_texts([x for x in short_df['info']])\n",
        "print(len(t.word_index))\n",
        "os.makedirs(output_dir, exist_ok=True)\n",
        "with io.open(output_dir+'/tokenizer.json', 'w',encoding='utf-8', ) as f:\n",
        "    f.write(json.dumps(t.to_json(),ensure_ascii=False))\n",
        "vocab_size = len(t.word_index) + 1\n",
        "num_categories = 1\n"
      ],
      "execution_count": 247,
      "outputs": [
        {
          "output_type": "stream",
          "name": "stdout",
          "text": [
            "3049\n"
          ]
        }
      ]
    },
    {
      "cell_type": "code",
      "metadata": {
        "colab": {
          "base_uri": "https://localhost:8080/"
        },
        "id": "zYqdpHsDcVqY",
        "outputId": "4fbb0058-a658-4f0c-8f6a-f3be22da8679"
      },
      "source": [
        "info_sequences = t.texts_to_sequences([x for x in np.array(short_df['info'])])\n",
        "info_sequences = tf.keras.preprocessing.sequence.pad_sequences(info_sequences, maxlen=maxlen)\n",
        "print(info_sequences[0])\n",
        "print('sequences : ',info_sequences,'\\n')\n",
        "print('word_index : ',t.word_index)\n",
        "print(np.array(info_sequences))"
      ],
      "execution_count": 248,
      "outputs": [
        {
          "output_type": "stream",
          "name": "stdout",
          "text": [
            "[  0   0   0   0   0   0   0   0   0   0   0   0   0 356  61  20   6   3\n",
            "   5  12]\n",
            "sequences :  [[ 0  0  0 ...  3  5 12]\n",
            " [ 0  0  0 ...  3  5 12]\n",
            " [ 0  0  0 ...  3  5 12]\n",
            " ...\n",
            " [ 0  0  0 ... 15  1  9]\n",
            " [ 0  0  0 ...  2 11  9]\n",
            " [ 0  0  0 ... 14 13  4]] \n",
            "\n",
            "word_index :  {'drama': 1, 'comedy': 2, 'action': 3, 'thriller': 4, 'adventure': 5, 'pictur': 6, 'romance': 7, 'crime': 8, '': 9, 'fantasy': 10, 'family': 11, 'sci-fi': 12, 'mystery': 13, 'horror': 14, 'biography': 15, 'animation': 16, 'bro': 17, 'entertain': 18, 'studio': 19, 'univers': 20, 'centuri': 21, 'twentieth': 22, 'motion': 23, 'disney': 24, 'music': 25, 'history': 26, 'soni': 27, 'war': 28, 'paramount': 29, 'spe': 30, 'sport': 31, 'lionsgat': 32, 'film': 33, 'musical': 34, 'documentary': 35, 'searchlight': 36, 'focu': 37, 'featur': 38, 'new': 39, 'line': 40, 'dreamwork': 41, 'movi': 42, 'man': 43, 'compani': 44, 'ii': 45, 'cinema': 46, 'screen': 47, 'gem': 48, 'day': 49, 'miramax': 50, 'weinstein': 51, 'road': 52, 'media': 53, 'distribut': 54, 'night': 55, 'life': 56, 'last': 57, 'western': 58, 'girl': 59, 'open': 60, 'world': 61, 'metrogoldwynmay': 62, 'mgm': 63, 'attract': 64, 'street': 65, 'black': 66, 'dark': 67, 'revolut': 68, 'hous': 69, 'roadsid': 70, 'boy': 71, 'big': 72, 'classic': 73, 'good': 74, 'releas': 75, 'american': 76, 'rel': 77, 'stx': 78, 'game': 79, 'christma': 80, 'bad': 81, 'stori': 82, 'dimens': 83, 'dog': 84, 'go': 85, 'summit': 86, 'dragon': 87, 'kid': 88, 'men': 89, 'littl': 90, 'time': 91, 'citi': 92, 'secret': 93, 'home': 94, 'a24': 95, 'monster': 96, 'dead': 97, 'like': 98, 'tristar': 99, 'bleecker': 100, 'part': 101, 'rise': 102, 'legend': 103, 'unit': 104, 'mr': 105, 'spi': 106, 'death': 107, 'year': 108, 'brother': 109, 'evil': 110, 'ghost': 111, 'artist': 112, 'return': 113, 'wed': 114, 'want': 115, 'die': 116, 'famili': 117, 'diari': 118, 'live': 119, 'event': 120, 'get': 121, 'age': 122, 'planet': 123, 'rogu': 124, 'wild': 125, 'green': 126, 'dont': 127, 'eye': 128, 'white': 129, 'perfect': 130, 'hour': 131, 'america': 132, 'first': 133, 'next': 134, 'high': 135, 'lost': 136, 'babi': 137, 'never': 138, 'mgmweinstein': 139, 'vantag': 140, 'fathom': 141, 'beauti': 142, 'end': 143, 'book': 144, 'final': 145, 'island': 146, 'run': 147, 'fire': 148, 'captain': 149, 'miss': 150, 'best': 151, 'earth': 152, 'walk': 153, 'water': 154, 'hotel': 155, 'xmen': 156, 'spiderman': 157, 'pirat': 158, 'nation': 159, 'kingdom': 160, 'woman': 161, 'call': 162, 'sea': 163, 'kill': 164, 'back': 165, 'god': 166, 'date': 167, 'friend': 168, 'overtur': 169, 'cb': 170, 'furiou': 171, 'potter': 172, 'ring': 173, 'tale': 174, 'witch': 175, 'great': 176, 'school': 177, 'us': 178, 'neon': 179, 'knight': 180, 'vs': 181, 'alien': 182, 'halloween': 183, 'mountain': 184, 'light': 185, 'fantast': 186, 'money': 187, 'freestyl': 188, 'hard': 189, 'runner': 190, 'filmdistrict': 191, 'flix': 192, 'meet': 193, 'scari': 194, 'ice': 195, 'chronicl': 196, 'escap': 197, 'break': 198, 'stranger': 199, 'fast': 200, 'mission': 201, 'destin': 202, 'thing': 203, 'blue': 204, 'number': 205, 'blood': 206, 'super': 207, 'heaven': 208, 'haunt': 209, 'take': 210, 'heart': 211, 'know': 212, 'madea': 213, 'short': 214, 'battl': 215, 'paranorm': 216, 'activ': 217, 'episod': 218, 'insid': 219, 'imposs': 220, 'iii': 221, 'lord': 222, 'hero': 223, 'chapter': 224, 'angel': 225, 'away': 226, 'rule': 227, 'king': 228, 'save': 229, 'land': 230, 'resid': 231, 'step': 232, 'independ': 233, 'devil': 234, 'intern': 235, 'let': 236, 'pure': 237, 'ifc': 238, 'caribbean': 239, 'termin': 240, 'bourn': 241, 'express': 242, 'transform': 243, 'kung': 244, 'twilight': 245, 'fallen': 246, 'journey': 247, 'guardian': 248, 'v': 249, 'wonder': 250, 'women': 251, 'titan': 252, 'gone': 253, 'pitch': 254, 'adventur': 255, 'ocean': 256, 'tomb': 257, 'kiss': 258, 'room': 259, 'hot': 260, 'crazi': 261, 'truth': 262, 'soul': 263, 'play': 264, 'picturehous': 265, 'sex': 266, 'ride': 267, 'aveng': 268, 'hunger': 269, 'rush': 270, 'curs': 271, 'machin': 272, 'tomorrow': 273, 'iron': 274, 'moon': 275, 'catch': 276, 'beast': 277, 'pari': 278, 'snow': 279, 'friday': 280, 'countri': 281, 'queen': 282, 'daddi': 283, 'underworld': 284, 'state': 285, 'miracl': 286, 'wip': 287, 'young': 288, 'holiday': 289, 'parti': 290, 'gold': 291, 'wall': 292, 'boss': 293, 'mom': 294, 'fip': 295, 'shade': 296, 'bh': 297, 'tilt': 298, 'lie': 299, 'shrek': 300, 'ape': 301, 'power': 302, 'mind': 303, 'find': 304, 'begin': 305, 'madagascar': 306, 'jone': 307, 'fu': 308, 'saga': 309, 'trek': 310, 'train': 311, 'galaxi': 312, 'winter': 313, 'welcom': 314, 'bird': 315, 'space': 316, 'must': 317, 'vertic': 318, 'usa': 319, 'magnolia': 320, 'bone': 321, 'along': 322, 'race': 323, 'enemi': 324, 'happen': 325, 'spirit': 326, 'cold': 327, 'ident': 328, 'blade': 329, 'pan': 330, 'sister': 331, 'old': 332, 'bank': 333, 'beyond': 334, 'real': 335, 'thief': 336, 'true': 337, 'grudg': 338, 'edg': 339, 'door': 340, 'plane': 341, 'travel': 342, 'point': 343, 'name': 344, 'peopl': 345, 'cop': 346, 'summer': 347, 'vampir': 348, 'wimpi': 349, 'killer': 350, 'insidi': 351, 'everyth': 352, 'purg': 353, 'pantelion': 354, 'amazon': 355, 'jurass': 356, 'stone': 357, 'fat': 358, 'x': 359, 'incred': 360, 'batman': 361, 'stand': 362, 'phoenix': 363, 'panda': 364, 'side': 365, 'second': 366, 'mile': 367, 'engag': 368, 'mar': 369, 'hidden': 370, 'raider': 371, 'cat': 372, 'danc': 373, 'empir': 374, 'come': 375, 'castl': 376, 'santa': 377, 'deed': 378, 'dream': 379, 'murder': 380, 'someth': 381, 'club': 382, 'guy': 383, 'news': 384, 'upon': 385, 'marri': 386, 'agent': 387, 'child': 388, 'predat': 389, 'vacat': 390, 'minut': 391, 'yash': 392, 'million': 393, 'mad': 394, 'hustl': 395, 'ladi': 396, 'silent': 397, 'chipmunk': 398, 'free': 399, 'golden': 400, 'letter': 401, 'think': 402, 'bodi': 403, 'goldwyn': 404, 'believ': 405, 'kind': 406, 'hell': 407, 'assassin': 408, 'hood': 409, 'gun': 410, 'grinch': 411, 'mummi': 412, 'tower': 413, 'newmarket': 414, 'reveng': 415, 'narnia': 416, 'code': 417, 'skull': 418, 'hangov': 419, 'dinosaur': 420, 'despic': 421, 'soldier': 422, 'lego': 423, 'vol': 424, 'far': 425, 'charli': 426, 'momma': 427, 'rememb': 428, 'scream': 429, 'emperor': 430, 'origin': 431, 'keep': 432, 'vega': 433, 'th': 434, 'artisan': 435, 'magic': 436, 'readi': 437, 'sisterhood': 438, 'jackass': 439, 'collater': 440, 'york': 441, 'ball': 442, 'brown': 443, 'transport': 444, 'texa': 445, 'sun': 446, 'english': 447, 'rider': 448, 'luck': 449, 'idp': 450, 'forgotten': 451, 'hellboy': 452, 'apocalyps': 453, 'kumar': 454, 'penguin': 455, 'exorc': 456, 'pride': 457, 'broken': 458, 'warrior': 459, 'long': 460, 'bang': 461, 'season': 462, 'atom': 463, 'bridg': 464, 'eagl': 465, 'drive': 466, 'taken': 467, 'holm': 468, 'ninja': 469, 'saint': 470, 'apparit': 471, 'smurf': 472, 'shadow': 473, 'horribl': 474, 'heist': 475, 'jump': 476, 'need': 477, 'born': 478, 'atla': 479, 'transylvania': 480, 'word': 481, 'strike': 482, 'utv': 483, 'maze': 484, 'creed': 485, 'broad': 486, 'glass': 487, 'mother': 488, 'inc': 489, 'greek': 490, 'treasur': 491, 'car': 492, 'superman': 493, 'blind': 494, 'toy': 495, 'amaz': 496, 'brave': 497, 'oz': 498, 'jungl': 499, 'deadpool': 500, 'panther': 501, 'u': 502, 'bring': 503, 'el': 504, 'pokémon': 505, 'fall': 506, 'godzilla': 507, 'pretti': 508, 'hors': 509, 'dr': 510, 'princess': 511, 'intellig': 512, 'spider': 513, 'anoth': 514, 'teen': 515, 'head': 516, 'xxx': 517, 'barbershop': 518, 'master': 519, 'resurrect': 520, 'fist': 521, 'soror': 522, 'possess': 523, 'hollywood': 524, 'goe': 525, 'full': 526, 'blond': 527, 'chainsaw': 528, 'leagu': 529, 'give': 530, 'river': 531, 'fight': 532, 'whale': 533, 'confess': 534, 'top': 535, 'dirti': 536, 'quiet': 537, 'chase': 538, 'spongebob': 539, 'effect': 540, 'tall': 541, 'teenag': 542, 'fog': 543, 'birth': 544, 'sin': 545, 'fun': 546, 'prejudic': 547, 'histori': 548, 'greatest': 549, 'deep': 550, 'museum': 551, 'pursuit': 552, 'center': 553, 'hill': 554, 'father': 555, 'match': 556, 'nightmar': 557, 'epic': 558, 'hitman': 559, 'children': 560, 'furi': 561, 'promis': 562, 'wife': 563, 'funer': 564, 'still': 565, 'concert': 566, 'mirror': 567, 'st': 568, 'tell': 569, 'box': 570, 'imagin': 571, 'everybodi': 572, 'relianc': 573, 'expend': 574, 'brooklyn': 575, 'singl': 576, 'string': 577, 'midnight': 578, 'darkest': 579, 'angri': 580, 'safe': 581, 'z': 582, 'pacif': 583, 'grandpa': 584, 'ranger': 585, 'mutant': 586, 'wish': 587, 'funim': 588, 'doctor': 589, 'annapurna': 590, 'global': 591, 'stage': 592, 'awaken': 593, 'mockingjay': 594, 'parent': 595, 'sorcer': 596, 'matrix': 597, 'almighti': 598, 'prison': 599, 'shark': 600, 'feet': 601, 'royal': 602, 'africa': 603, 'steel': 604, 'frozen': 605, 'past': 606, 'pet': 607, 'squad': 608, 'fate': 609, 'jumanji': 610, 'endgam': 611, 'prey': 612, 'dolittl': 613, 'invis': 614, 'nutti': 615, 'patriot': 616, 'cowboy': 617, 'hollow': 618, 'yard': 619, 'shanghai': 620, 'limit': 621, 'proof': 622, 'loser': 623, 'enough': 624, 'isnt': 625, 'doubl': 626, 'croft': 627, 'other': 628, 'atlanti': 629, 'came': 630, 'joness': 631, 'shallow': 632, 'behind': 633, 'evolut': 634, 'what': 635, 'worst': 636, 'fantasi': 637, 'musket': 638, 'got': 639, 'scorpion': 640, 'visit': 641, 'claus': 642, 'minor': 643, 'report': 644, 'divin': 645, 'week': 646, 'liar': 647, 'reign': 648, 'gang': 649, 'ship': 650, 'collis': 651, 'cours': 652, 'frida': 653, 'trooper': 654, 'freak': 655, 'bear': 656, 'serv': 657, 'moonlight': 658, 'anger': 659, 'hulk': 660, 'italian': 661, 'massacr': 662, 'mansion': 663, 'extraordinari': 664, 'gentlemen': 665, 'cradl': 666, 'rang': 667, 'radio': 668, 'runaway': 669, 'lion': 670, 'dumb': 671, 'dumber': 672, 'fever': 673, 'wind': 674, 'danger': 675, 'turn': 676, 'fine': 677, 'thinkfilm': 678, 'cut': 679, 'better': 680, 'robot': 681, 'focker': 682, 'villag': 683, 'mean': 684, 'anchorman': 685, 'unleash': 686, 'busi': 687, 'without': 688, 'riddick': 689, 'punish': 690, 'sunset': 691, 'jersey': 692, 'london': 693, 'enchant': 694, 'experi': 695, 'law': 696, 'fair': 697, 'flight': 698, 'phantom': 699, 'size': 700, 'sand': 701, 'zero': 702, 'kong': 703, 'longest': 704, 'dollar': 705, 'guid': 706, 'key': 707, 'pant': 708, 'upsid': 709, 'unfinish': 710, 'stay': 711, 'make': 712, 'benefit': 713, 'pink': 714, 'miami': 715, 'vice': 716, 'reunion': 717, 'hostel': 718, 'mcphee': 719, 'block': 720, 'nativ': 721, 'snake': 722, 'she': 723, 'thank': 724, 'giant': 725, 'silver': 726, 'surfer': 727, 'gangster': 728, 'plan': 729, 'writer': 730, 'demon': 731, 'alpha': 732, 'your': 733, 'feel': 734, 'mamma': 735, 'list': 736, 'armi': 737, 'fool': 738, 'mama': 739, 'made': 740, 'speed': 741, 'prom': 742, 'rambo': 743, 'jenkin': 744, 'zone': 745, 'strang': 746, 'wolverin': 747, 'gi': 748, 'blart': 749, 'mall': 750, 'cloudi': 751, 'meatbal': 752, 'ugli': 753, 'zombieland': 754, 'funni': 755, 'left': 756, 'getaway': 757, 'grown': 758, 'up': 759, 'legaci': 760, 'due': 761, 'sleep': 762, 'tub': 763, 'kickass': 764, 'love': 765, 'finest': 766, 'vengeanc': 767, 'rio': 768, 'muppet': 769, 'dolphin': 770, 'j': 771, 'pain': 772, 'huntsman': 773, 'act': 774, 'spring': 775, 'project': 776, 'grey': 777, 'sinist': 778, 'reacher': 779, 'exot': 780, 'wood': 781, 'expect': 782, 'watch': 783, 'close': 784, 'conjur': 785, 'rim': 786, 'lone': 787, 'mortal': 788, 'place': 789, 'job': 790, 'turtl': 791, 'neighbor': 792, 'equal': 793, 'nut': 794, 'ouija': 795, 'wick': 796, 'leav': 797, 'san': 798, 'kingsman': 799, 'servic': 800, 'goosebump': 801, 'sicario': 802, 'gift': 803, 'unfriend': 804, 'europacorp': 805, 'hate': 806, 'inferno': 807, 'zombi': 808, 'boo': 809, 'circl': 810, 'meter': 811, 'aviron': 812, 'bye': 813, 'cure': 814, 'well': 815, 'rabbit': 816, 'forc': 817, 'martian': 818, 'stole': 819, 'attack': 820, 'clone': 821, 'elf': 822, 'chicago': 823, 'polar': 824, 'casino': 825, 'third': 826, 'order': 827, 'indiana': 828, 'hear': 829, 'avatar': 830, 'eclips': 831, 'forev': 832, 'hobbit': 833, 'unexpect': 834, 'extinct': 835, 'malefic': 836, 'futur': 837, 'justic': 838, 'antman': 839, 'solo': 840, 'joker': 841, 'rugrat': 842, 'whole': 843, 'hurrican': 844, 'congeni': 845, 'tiger': 846, 'cri': 847, 'collector': 848, 'score': 849, 'mexican': 850, 'anim': 851, 'geniu': 852, 'heartbreak': 853, 'could': 854, 'crocodil': 855, 'lo': 856, 'spell': 857, 'heel': 858, 'scoobydoo': 859, 'sweet': 860, 'stallion': 861, 'manhattan': 862, 'crush': 863, 'disguis': 864, 'showtim': 865, 'sugar': 866, 'chick': 867, 'wilder': 868, 'troubl': 869, 'nan': 870, 'deuc': 871, 'freaki': 872, 'hole': 873, 'cheaper': 874, 'dozen': 875, 'recruit': 876, 'later': 877, 'jeeper': 878, 'creeper': 879, 'grave': 880, 'temptat': 881, 'apart': 882, 'cabin': 883, 'mighti': 884, 'deliv': 885, 'daughter': 886, 'corps': 887, 'barbarian': 888, 'invas': 889, 'fish': 890, 'station': 891, 'anyth': 892, 'guru': 893, 'gospel': 894, 'underdog': 895, 'seri': 896, 'butterfli': 897, 'shall': 898, 'rais': 899, 'twist': 900, 'imax': 901, 'wicker': 902, 'voic': 903, 'teacher': 904, 'bounc': 905, 'alon': 906, 'fli': 907, 'yet': 908, 'march': 909, 'nois': 910, 'kick': 911, 'seek': 912, 'arm': 913, 'skeleton': 914, 'dreamer': 915, 'seren': 916, 'north': 917, 'ringer': 918, 'wait': 919, 'ever': 920, 'weather': 921, 'produc': 922, 'move': 923, 'educ': 924, 'learn': 925, 'prada': 926, 'drift': 927, 'curiou': 928, 'illusionist': 929, 'group': 930, 'tail': 931, 'bulli': 932, 'crank': 933, 'inconveni': 934, 'coven': 935, 'eat': 936, 'face': 937, 'grandma': 938, 'freedom': 939, 'messeng': 940, 'silenc': 941, 'legion': 942, 'look': 943, 'rescu': 944, 'smart': 945, 'thunder': 946, 'cloverfield': 947, 'burn': 948, 'colleg': 949, 'shutter': 950, 'traitor': 951, 'ad': 952, 'disast': 953, 'noth': 954, 'khan': 955, 'savag': 956, 'flash': 957, 'protect': 958, 'salvat': 959, 'air': 960, 'inform': 961, 'defianc': 962, 'invent': 963, 'cirqu': 964, 'du': 965, 'assist': 966, 'whip': 967, 'fighter': 968, 'post': 969, 'idiot': 970, 'karat': 971, 'dear': 972, 'dinner': 973, 'song': 974, 'cloud': 975, 'machet': 976, 'leap': 977, 'speech': 978, 'measur': 979, 'zookeep': 980, 'bieber': 981, 'tattoo': 982, 'courag': 983, 'mechan': 984, 'strong': 985, 'beginn': 986, 'misérabl': 987, 'thousand': 988, 'arctic': 989, 'hai': 990, 'crood': 991, 'counselor': 992, 'diverg': 993, 'survivor': 994, 'unbroken': 995, 'grand': 996, 'echo': 997, 'one': 998, 'frankenstein': 999, 'clariu': 1000, 'ghostbust': 1001, 'spong': 1002, 'peanut': 1003, 'scorch': 1004, 'trial': 1005, 'paddington': 1006, 'uncl': 1007, 'crimson': 1008, 'ero': 1009, 'sing': 1010, 'almost': 1011, 'wave': 1012, 'jones': 1013, 'figur': 1014, 'affirm': 1015, 'nutcrack': 1016, 'trafalgar': 1017, 'detect': 1018, 'cmc': 1019, 'vii': 1020, 'ultron': 1021, 'sniper': 1022, 'minion': 1023, 'gladiat': 1024, 'beneath': 1025, 'brockovich': 1026, 'harbor': 1027, 'fellowship': 1028, 'chamber': 1029, 'sign': 1030, 'goldmemb': 1031, 'nemo': 1032, 'reload': 1033, 'passion': 1034, 'azkaban': 1035, 'supremaci': 1036, 'sith': 1037, 'goblet': 1038, 'wardrob': 1039, 'crasher': 1040, 'chocol': 1041, 'factori': 1042, 'hitch': 1043, 'chest': 1044, 'da': 1045, 'vinci': 1046, 'meltdown': 1047, 'talladega': 1048, 'ballad': 1049, 'ultimatum': 1050, 'ratatouil': 1051, 'simpson': 1052, 'hancock': 1053, 'quantum': 1054, 'solac': 1055, 'halfblood': 1056, 'wonderland': 1057, 'incept': 1058, 'deathli': 1059, 'hallow': 1060, 'tide': 1061, 'skyfal': 1062, 'europ': 1063, 'graviti': 1064, 'civil': 1065, 'suicid': 1066, 'viii': 1067, 'jedi': 1068, 'homecom': 1069, 'ragnarok': 1070, 'infin': 1071, 'fallout': 1072, 'aladdin': 1073, 'sonic': 1074, 'hedgehog': 1075, 'level': 1076, 'professor': 1077, 'klump': 1078, 'cast': 1079, 'unbreak': 1080, 'noon': 1081, 'dorado': 1082, 'replac': 1083, 'sunday': 1084, 'hang': 1085, 'flintston': 1086, 'bagger': 1087, 'watcher': 1088, 'basketbal': 1089, 'bullwinkl': 1090, 'nurs': 1091, 'reindeer': 1092, 'contend': 1093, 'small': 1094, 'crook': 1095, 'cedar': 1096, 'highland': 1097, 'rumbl': 1098, 'crouch': 1099, 'millennium': 1100, 'screw': 1101, 'chocolat': 1102, 'pie': 1103, 'sweetheart': 1104, 'ai': 1105, 'artifici': 1106, 'swordfish': 1107, 'vanilla': 1108, 'planner': 1109, 'moulin': 1110, 'roug': 1111, 'blow': 1112, 'exit': 1113, 'wound': 1114, 'kpax': 1115, 'recess': 1116, 'driven': 1117, 'within': 1118, 'someon': 1119, 'dirt': 1120, 'memento': 1121, 'corelli': 1122, 'mandolin': 1123, 'unown': 1124, 'majest': 1125, 'améli': 1126, 'somebodi': 1127, 'pussycat': 1128, 'finger': 1129, 'panama': 1130, 'tomcat': 1131, 'tenenbaum': 1132, 'forsaken': 1133, 'mccool': 1134, 'glitter': 1135, 'lilo': 1136, 'stitch': 1137, 'alabama': 1138, 'sum': 1139, 'fear': 1140, 'hawk': 1141, 'perdit': 1142, 'panic': 1143, 'cimarron': 1144, 'q': 1145, 'yaya': 1146, 'insomnia': 1147, 'chang': 1148, 'lane': 1149, 'maid': 1150, 'count': 1151, 'cristo': 1152, 'unfaith': 1153, 'tuxedo': 1154, 'notic': 1155, 'counti': 1156, 'windtalk': 1157, 'gosford': 1158, 'damag': 1159, 'drumlin': 1160, 'crossroad': 1161, 'clockstopp': 1162, 'mothman': 1163, 'propheci': 1164, 'nemesi': 1165, 'widowmak': 1166, 'bedroom': 1167, 'photo': 1168, 'damn': 1169, 'dragonfli': 1170, 'banger': 1171, 'analyz': 1172, 'swimfan': 1173, 'work': 1174, 'benjamin': 1175, 'veggietal': 1176, 'sweetest': 1177, 'thornberri': 1178, 'hart': 1179, 'rollerbal': 1180, 'feather': 1181, 'leg': 1182, 'oleand': 1183, 'pow': 1184, 'enter': 1185, 'half': 1186, 'bowl': 1187, 'columbin': 1188, 'solari': 1189, 'ballist': 1190, 'eck': 1191, 'sever': 1192, 'hey': 1193, 'feardotcom': 1194, 'frailti': 1195, 'undisput': 1196, 'powerpuff': 1197, 'brotherhood': 1198, 'abandon': 1199, 'smoochi': 1200, 'trap': 1201, 'stein': 1202, 'fatal': 1203, 'impostor': 1204, 'slacker': 1205, 'formula': 1206, 'extrem': 1207, 'igbi': 1208, 'adapt': 1209, 'pluto': 1210, 'nash': 1211, 'antwon': 1212, 'fisher': 1213, 'manag': 1214, 'seabiscuit': 1215, 'swat': 1216, 'lose': 1217, 'care': 1218, 'daredevil': 1219, 'throttl': 1220, 'hat': 1221, 'legal': 1222, 'command': 1223, 'samurai': 1224, 'gotta': 1225, 'schmidt': 1226, 'gothika': 1227, 'actual': 1228, 'mexico': 1229, 'mystic': 1230, 'juri': 1231, 'rundown': 1232, 'phone': 1233, 'booth': 1234, 'tear': 1235, 'tuscan': 1236, 'mcguir': 1237, 'secondhand': 1238, 'smile': 1239, 'uptown': 1240, 'malibu': 1241, 'hunt': 1242, 'dreamcatch': 1243, 'pianist': 1244, 'core': 1245, 'translat': 1246, 'homicid': 1247, 'basic': 1248, 'sinbad': 1249, 'met': 1250, 'paycheck': 1251, 'bulletproof': 1252, 'monk': 1253, 'robert': 1254, 'former': 1255, 'biker': 1256, 'boyz': 1257, 'creek': 1258, 'looney': 1259, 'tune': 1260, 'timelin': 1261, 'view': 1262, 'bosss': 1263, 'wrong': 1264, 'deal': 1265, 'gener': 1266, 'confid': 1267, 'narc': 1268, 'duplex': 1269, 'boat': 1270, 'talk': 1271, 'gigli': 1272, 'gram': 1273, 'human': 1274, 'stain': 1275, 'grind': 1276, 'border': 1277, 'cancun': 1278, 'canyon': 1279, 'hels': 1280, 'fahrenheit': 1281, 'dodgebal': 1282, 'starski': 1283, 'hutch': 1284, 'burgundi': 1285, 'unfortun': 1286, 'squarep': 1287, 'notebook': 1288, 'krank': 1289, 'hidalgo': 1290, 'manchurian': 1291, 'candid': 1292, 'stepford': 1293, 'wive': 1294, 'paddl': 1295, 'window': 1296, 'triniti': 1297, 'dynamit': 1298, 'exorcist': 1299, 'catwoman': 1300, 'ladykil': 1301, 'reason': 1302, 'etern': 1303, 'spotless': 1304, 'team': 1305, 'polic': 1306, 'anaconda': 1307, 'orchid': 1308, 'cellular': 1309, 'johnson': 1310, 'calendar': 1311, 'garden': 1312, 'spanglish': 1313, 'closer': 1314, 'aviat': 1315, 'around': 1316, 'neverland': 1317, 'alamo': 1318, 'torqu': 1319, 'sideway': 1320, 'pyramid': 1321, 'eurotrip': 1322, 'seed': 1323, 'chucki': 1324, 'wimbledon': 1325, 'vaniti': 1326, 'mooseport': 1327, 'godsend': 1328, 'havana': 1329, 'envi': 1330, 'delov': 1331, 'opera': 1332, 'huckabe': 1333, 'breakin': 1334, 'liberti': 1335, 'surviv': 1336, 'aquat': 1337, 'zissou': 1338, 'suspect': 1339, 'thunderbird': 1340, 'kinsey': 1341, 'spartan': 1342, 'floor': 1343, 'chicken': 1344, 'pacifi': 1345, 'virgin': 1346, 'monsterinlaw': 1347, 'duke': 1348, 'hazzard': 1349, 'interpret': 1350, 'sahara': 1351, 'coach': 1352, 'amityvil': 1353, 'bewitch': 1354, 'jarhead': 1355, 'cool': 1356, 'crash': 1357, 'hitchhik': 1358, 'mine': 1359, 'stripe': 1360, 'fabul': 1361, 'boogeyman': 1362, 'grimm': 1363, 'syriana': 1364, 'derail': 1365, 'constant': 1366, 'winndixi': 1367, 'stealth': 1368, 'wax': 1369, 'violenc': 1370, 'tryin': 1371, 'rent': 1372, 'doom': 1373, 'zathura': 1374, 'elizabethtown': 1375, 'memoir': 1376, 'geisha': 1377, 'æon': 1378, 'flux': 1379, 'elektra': 1380, 'prime': 1381, 'bigalow': 1382, 'european': 1383, 'gigolo': 1384, 'flow': 1385, 'lot': 1386, 'assault': 1387, 'precinct': 1388, 'valiant': 1389, 'pooh': 1390, 'heffalump': 1391, 'reject': 1392, 'mask': 1393, 'rebound': 1394, 'cave': 1395, 'honeymoon': 1396, 'brokeback': 1397, 'munich': 1398, 'capot': 1399, 'dogtown': 1400, 'raid': 1401, 'squid': 1402, 'everyon': 1403, 'click': 1404, 'borat': 1405, 'cultur': 1406, 'gloriou': 1407, 'kazakhstan': 1408, 'wear': 1409, 'depart': 1410, 'breakup': 1411, 'happy': 1412, 'failur': 1413, 'launch': 1414, 'nacho': 1415, 'libr': 1416, 'dupre': 1417, 'barnyard': 1418, 'rv': 1419, 'vendetta': 1420, 'trade': 1421, 'tokyo': 1422, 'flush': 1423, 'deja': 1424, 'vu': 1425, 'poseidon': 1426, 'benchwarm': 1427, 'eragon': 1428, 'omen': 1429, 'charlott': 1430, 'prestig': 1431, 'lake': 1432, 'hoodwink': 1433, 'balboa': 1434, 'apocalypto': 1435, 'fiction': 1436, 'yari': 1437, 'gridiron': 1438, 'accept': 1439, 'flag': 1440, 'employe': 1441, 'month': 1442, 'ant': 1443, 'smoke': 1444, 'clerk': 1445, 'aliv': 1446, 'flicka': 1447, 'puls': 1448, 'akeelah': 1449, 'aquamarin': 1450, 'ultraviolet': 1451, 'scoundrel': 1452, 'unaccompani': 1453, 'flyboy': 1454, 'matador': 1455, 'spear': 1456, 'chappel': 1457, 'present': 1458, 'fountain': 1459, 'tenaci': 1460, 'pick': 1461, 'destini': 1462, 'hoot': 1463, 'slither': 1464, 'dreamz': 1465, 'phat': 1466, 'girlz': 1467, 'turista': 1468, 'scare': 1469, 'burial': 1470, 'knock': 1471, 'superbad': 1472, 'pronounc': 1473, 'norbit': 1474, 'disturbia': 1475, 'stomp': 1476, 'compass': 1477, 'perri': 1478, 'tmnt': 1479, 'yuma': 1480, 'premonit': 1481, 'shooter': 1482, 'said': 1483, 'wilson': 1484, 'stardust': 1485, 'labyrinth': 1486, 'smokin': 1487, 'ace': 1488, 'zodiac': 1489, 'sweeney': 1490, 'barber': 1491, 'fleet': 1492, 'juno': 1493, 'mist': 1494, 'ps': 1495, 'grindhous': 1496, 'sicko': 1497, 'reno': 1498, 'vacanc': 1499, 'lamb': 1500, 'awak': 1501, 'scotland': 1502, 'namesak': 1503, 'iwo': 1504, 'jima': 1505, 'camp': 1506, 'cox': 1507, 'shoot': 1508, 'darjeel': 1509, 'astronaut': 1510, 'farmer': 1511, 'dwar': 1512, 'vie': 1513, 'en': 1514, 'pathfind': 1515, 'moan': 1516, 'seeker': 1517, 'cleaner': 1518, 'hoax': 1519, 'redlin': 1520, 'theater': 1521, 'caspian': 1522, 'christmas': 1523, 'tropic': 1524, 'bolt': 1525, 'mess': 1526, 'zohan': 1527, 'bc': 1528, 'bucket': 1529, 'pineappl': 1530, 'jumper': 1531, 'dress': 1532, 'spiderwick': 1533, 'stood': 1534, 'role': 1535, 'model': 1536, 'montana': 1537, 'forget': 1538, 'read': 1539, 'ye': 1540, 'bedtim': 1541, 'button': 1542, 'nim': 1543, 'pound': 1544, 'australia': 1545, 'racer': 1546, 'valkyri': 1547, 'payn': 1548, 'righteou': 1549, 'guantanamo': 1550, 'bee': 1551, 'changel': 1552, 'fireproof': 1553, 'quarantin': 1554, 'norah': 1555, 'infinit': 1556, 'playlist': 1557, 'leatherhead': 1558, 'miri': 1559, 'porno': 1560, 'untrac': 1561, 'boleyn': 1562, 'w': 1563, 'babylon': 1564, 'slumdog': 1565, 'millionair': 1566, 'file': 1567, 'appaloosa': 1568, 'ruin': 1569, 'swing': 1570, 'vote': 1571, 'bangkok': 1572, 'milk': 1573, 'religul': 1574, 'doubt': 1575, 'stoploss': 1576, 'geograph': 1577, 'ember': 1578, 'cadillac': 1579, 'record': 1580, 'vivendi': 1581, 'rocker': 1582, 'gran': 1583, 'torino': 1584, 'mongol': 1585, 'genghi': 1586, 'dungeon': 1587, 'smithsonian': 1588, 'propos': 1589, 'cobra': 1590, 'squeakquel': 1591, 'inglouri': 1592, 'basterd': 1593, 'gforc': 1594, 'district': 1595, 'coupl': 1596, 'retreat': 1597, 'watchmen': 1598, 'public': 1599, 'abid': 1600, 'citizen': 1601, 'obsess': 1602, 'pelham': 1603, 'bloodi': 1604, 'keeper': 1605, 'lycan': 1606, 'unborn': 1607, 'preciou': 1608, 'drag': 1609, 'duplic': 1610, 'complic': 1611, 'surrog': 1612, 'notori': 1613, 'reader': 1614, 'stare': 1615, 'goat': 1616, 'push': 1617, 'stepfath': 1618, 'invictu': 1619, 'flick': 1620, 'attic': 1621, 'wrestler': 1622, 'observ': 1623, 'revolutionari': 1624, 'fame': 1625, 'morgan': 1626, 'astro': 1627, 'inkheart': 1628, 'jennif': 1629, 'armor': 1630, 'sell': 1631, 'capit': 1632, 'hurt': 1633, 'locker': 1634, 'extract': 1635, 'easili': 1636, 'pandorum': 1637, 'whiteout': 1638, 'boondock': 1639, 'woodstock': 1640, 'bright': 1641, 'chéri': 1642, 'clash': 1643, 'tangl': 1644, 'megamind': 1645, 'airbend': 1646, 'salt': 1647, 'tron': 1648, 'valentin': 1649, 'social': 1650, 'network': 1651, 'persia': 1652, 'olympian': 1653, 'lightn': 1654, 'pray': 1655, 'voyag': 1656, 'treader': 1657, 'unstopp': 1658, 'ateam': 1659, 'schmuck': 1660, 'grit': 1661, 'bounti': 1662, 'apprentic': 1663, 'elm': 1664, 'wolfman': 1665, 'afterlif': 1666, 'tooth': 1667, 'fairi': 1668, 'secretariat': 1669, 'easi': 1670, 'taker': 1671, 'yogi': 1672, 'owl': 1673, 'gahool': 1674, 'tourist': 1675, 'galor': 1676, 'swan': 1677, 'color': 1678, 'backup': 1679, 'burlesqu': 1680, 'suck': 1681, 'hereaft': 1682, 'rome': 1683, 'pilgrim': 1684, 'drug': 1685, 'morn': 1686, 'daybreak': 1687, 'switch': 1688, 'piranha': 1689, 'faster': 1690, 'skylin': 1691, 'gulliv': 1692, 'right': 1693, 'distanc': 1694, 'furri': 1695, 'youth': 1696, 'revolt': 1697, 'repo': 1698, 'hex': 1699, 'macgrub': 1700, 'anchor': 1701, 'solitari': 1702, 'flip': 1703, 'help': 1704, 'bridesmaid': 1705, 'class': 1706, 'puss': 1707, 'boot': 1708, 'rango': 1709, 'protocol': 1710, 'lantern': 1711, 'hop': 1712, 'hornet': 1713, 'chipwreck': 1714, 'stupid': 1715, 'immort': 1716, 'limitless': 1717, 'contagion': 1718, 'moneybal': 1719, 'attach': 1720, 'popper': 1721, 'unknown': 1722, 'adjust': 1723, 'bureau': 1724, 'eleph': 1725, 'lawyer': 1726, 'sourc': 1727, 'dilemma': 1728, 'pass': 1729, 'borrow': 1730, 'broom': 1731, 'changeup': 1732, 'less': 1733, 'colombiana': 1734, 'sucker': 1735, 'punch': 1736, 'crown': 1737, 'rite': 1738, 'debt': 1739, 'priest': 1740, 'abduct': 1741, 'beastli': 1742, 'sitter': 1743, 'elit': 1744, 'afraid': 1745, 'sanctum': 1746, 'fright': 1747, 'moodi': 1748, 'bummer': 1749, 'tree': 1750, 'rum': 1751, 'glee': 1752, 'conspir': 1753, 'adult': 1754, 'straw': 1755, 'reborn': 1756, 'margin': 1757, 'shrug': 1758, 'anonym': 1759, 'larson': 1760, 'lorax': 1761, 'wreckit': 1762, 'continent': 1763, 'prometheu': 1764, 'vow': 1765, 'argo': 1766, 'mysteri': 1767, 'pi': 1768, 'wrath': 1769, 'valor': 1770, 'django': 1771, 'unchain': 1772, 'contraband': 1773, 'looper': 1774, 'wit': 1775, 'battleship': 1776, 'dictat': 1777, 'total': 1778, 'recal': 1779, 'paranorman': 1780, 'moonris': 1781, 'stoog': 1782, 'retribut': 1783, 'that': 1784, 'frankenweeni': 1785, 'guidanc': 1786, 'band': 1787, 'misfit': 1788, 'fiveyear': 1789, 'playbook': 1790, 'cross': 1791, 'sparkl': 1792, 'guilt': 1793, 'premium': 1794, 'haywir': 1795, 'ledg': 1796, 'revel': 1797, 'psychopath': 1798, 'softli': 1799, 'lockout': 1800, 'hit': 1801, 'dredd': 1802, 'collect': 1803, 'ld': 1804, 'maverick': 1805, 'de': 1806, 'arc': 1807, 'wont': 1808, 'rain': 1809, 'heat': 1810, 'miller': 1811, 'gatsbi': 1812, 'retali': 1813, 'daniel': 1814, 'phillip': 1815, 'olympu': 1816, 'elysium': 1817, 'continu': 1818, 'oblivion': 1819, 'turbo': 1820, 'warm': 1821, 'slayer': 1822, 'ender': 1823, 'hunter': 1824, 'gain': 1825, 'internship': 1826, 'slave': 1827, 'ripd': 1828, 'mitti': 1829, 'instrument': 1830, 'deliveri': 1831, 'direct': 1832, 'host': 1833, 'ronin': 1834, 'wonderston': 1835, 'pine': 1836, 'homefront': 1837, 'creatur': 1838, 'admiss': 1839, 'sky': 1840, 'buyer': 1841, 'breaker': 1842, 'furnac': 1843, 'peepl': 1844, 'paranoia': 1845, 'nebraska': 1846, 'metallica': 1847, 'fifth': 1848, 'estat': 1849, 'filli': 1850, 'tranc': 1851, 'oldboy': 1852, 'interstellar': 1853, 'fault': 1854, 'star': 1855, 'peabodi': 1856, 'nonstop': 1857, 'monument': 1858, 'anarchi': 1859, 'terribl': 1860, 'budapest': 1861, 'robocop': 1862, 'dracula': 1863, 'untold': 1864, 'exodu': 1865, 'hundredfoot': 1866, 'boxtrol': 1867, 'judg': 1868, 'blend': 1869, 'giver': 1870, 'way': 1871, 'tape': 1872, 'mark': 1873, 'nightcrawl': 1874, 'oculu': 1875, 'among': 1876, 'tombston': 1877, 'awkward': 1878, 'moment': 1879, 'birdman': 1880, 'virtu': 1881, 'ignor': 1882, 'boyhood': 1883, 'endless': 1884, 'theori': 1885, 'pompeii': 1886, 'transcend': 1887, 'brick': 1888, 'gambler': 1889, 'labor': 1890, 'drop': 1891, 'dorothi': 1892, 'academi': 1893, 'purdi': 1894, 'radiustwc': 1895, 'spectr': 1896, 'straight': 1897, 'outta': 1898, 'compton': 1899, 'insurg': 1900, 'trainwreck': 1901, 'tomorrowland': 1902, 'genisi': 1903, 'pixel': 1904, 'xxl': 1905, 'mass': 1906, 'southpaw': 1907, 'poltergeist': 1908, 'jupit': 1909, 'ascend': 1910, 'everest': 1911, 'krampu': 1912, 'duff': 1913, 'entourag': 1914, 'paper': 1915, 'town': 1916, 'chappi': 1917, 'peak': 1918, 'cooper': 1919, 'ex': 1920, 'machina': 1921, 'gallow': 1922, 'almanac': 1923, 'aloha': 1924, 'dope': 1925, 'concuss': 1926, 'seventh': 1927, 'follow': 1928, 'ultra': 1929, 'burnt': 1930, 'gunman': 1931, 'huevo': 1932, 'rooster': 1933, 'eggcel': 1934, 'blackhat': 1935, 'mortdecai': 1936, 'brand': 1937, 'crisi': 1938, 'baahubali': 1939, 'scout': 1940, 'captiv': 1941, 'mistress': 1942, 'reven': 1943, 'troll': 1944, 'central': 1945, 'resurg': 1946, 'sausag': 1947, 'magnific': 1948, 'arriv': 1949, 'breath': 1950, 'peregrin': 1951, 'peculiar': 1952, 'account': 1953, 'elect': 1954, 'pete': 1955, 'stork': 1956, 'hacksaw': 1957, 'ridg': 1958, 'deepwat': 1959, 'horizon': 1960, 'bfg': 1961, 'passeng': 1962, 'offic': 1963, 'kubo': 1964, 'warcraft': 1965, 'alli': 1966, 'nerv': 1967, 'risen': 1968, 'nice': 1969, 'egypt': 1970, 'hail': 1971, 'bough': 1972, 'zooland': 1973, 'manchest': 1974, 'benhur': 1975, 'fenc': 1976, 'whiskey': 1977, 'tango': 1978, 'foxtrot': 1979, 'snowden': 1980, 'keanu': 1981, 'middl': 1982, 'qualiti': 1983, 'manch': 1984, 'stop': 1985, 'katw': 1986, 'orchard': 1987, 'bleed': 1988, 'incarn': 1989, 'hand': 1990, 'ae': 1991, 'hologram': 1992, 'appli': 1993, 'dunkirk': 1994, 'coco': 1995, 'split': 1996, 'darker': 1997, 'driver': 1998, 'creation': 1999, 'orient': 2000, 'emoji': 2001, 'bodyguard': 2002, 'underp': 2003, 'purpos': 2004, 'baywatch': 2005, 'showman': 2006, 'snatch': 2007, 'style': 2008, 'eyez': 2009, 'xander': 2010, 'cage': 2011, 'valerian': 2012, 'sword': 2013, 'jigsaw': 2014, 'foreign': 2015, 'geostorm': 2016, 'lover': 2017, 'kidnap': 2018, 'natur': 2019, 'rough': 2020, 'poni': 2021, 'haul': 2022, 'india': 2023, 'chip': 2024, 'downsiz': 2025, 'flatlin': 2026, 'detroit': 2027, 'esq': 2028, 'unforgett': 2029, 'belko': 2030, 'snowman': 2031, 'start': 2032, 'sleight': 2033, 'request': 2034, 'sequel': 2035, 'venom': 2036, 'bohemian': 2037, 'rhapsodi': 2038, 'internet': 2039, 'asian': 2040, 'grindelwald': 2041, 'player': 2042, 'nun': 2043, 'spidervers': 2044, 'poppin': 2045, 'rampag': 2046, 'freed': 2047, 'bumblebe': 2048, 'clock': 2049, 'skyscrap': 2050, 'instant': 2051, 'mule': 2052, 'blocker': 2053, 'upris': 2054, 'tag': 2055, 'realm': 2056, 'simpl': 2057, 'favor': 2058, 'overboard': 2059, 'soldado': 2060, 'blackkklansman': 2061, 'sparrow': 2062, 'gnome': 2063, 'dare': 2064, 'peppermint': 2065, 'dump': 2066, 'annihil': 2067, 'nobodi': 2068, 'adrift': 2069, 'slender': 2070, 'overlord': 2071, 'watson': 2072, 'proud': 2073, 'happytim': 2074, 'superfli': 2075, 'show': 2076, 'apostl': 2077, 'engin': 2078, 'fest': 2079, 'marwen': 2080, 'everi': 2081, 'academia': 2082, 'biggest': 2083, 'pikachu': 2084, 'shazam': 2085, 'knive': 2086, 'dumbo': 2087, 'ferrari': 2088, 'hustler': 2089, 'addam': 2090, 'rocketman': 2091, 'alita': 2092, 'yesterday': 2093, 'tap': 2094, 'abomin': 2095, 'neighborhood': 2096, 'midway': 2097, 'llorona': 2098, 'sematari': 2099, 'gemini': 2100, 'breakthrough': 2101, 'crawl': 2102, 'intrud': 2103, 'overcom': 2104, 'countdown': 2105, 'uncag': 2106, 'shaft': 2107, 'uglydol': 2108, 'unplan': 2109, 'brightburn': 2110, 'bala': 2111, 'prodigi': 2112, 'kitchen': 2113, 'motherless': 2114, 'where': 2115, 'goldfinch': 2116, 'sound': 2117, 'greenwich': 2118, 'beach': 2119, 'gkid': 2120, 'photograph': 2121, 'brahm': 2122, 'bloodshot': 2123, 'gravita': 2124, 'ventur': 2125, 'godfath': 2126, 'low': 2127, 'ohio': 2128, 'hedg': 2129, 'wall·': 2130, 'horton': 2131, 'zootopia': 2132, 'wasp': 2133, 'marvel': 2134, 'ix': 2135, 'skywalk': 2136, 'dalmatian': 2137, 'talent': 2138, 'quest': 2139, 'tigger': 2140, 'given': 2141, 'groov': 2142, 'comedi': 2143, 'interrupt': 2144, 'bicentenni': 2145, 'ninth': 2146, 'gate': 2147, 'sixth': 2148, 'sens': 2149, 'railroad': 2150, 'sleepi': 2151, 'malkovich': 2152, 'jeopardi': 2153, 'traffic': 2154, 'rat': 2155, 'neutron': 2156, 'dunde': 2157, 'crazybeauti': 2158, 'mulholland': 2159, 'pooti': 2160, 'tang': 2161, 'rooki': 2162, 'orang': 2163, 'undercov': 2164, 'et': 2165, 'extraterrestri': 2166, 'k': 2167, 'runteldat': 2168, 'everlast': 2169, 'punchdrunk': 2170, 'steal': 2171, 'juwanna': 2172, 'mann': 2173, 'knockaround': 2174, 'smne': 2175, 'spidermanmen': 2176, 'femm': 2177, 'birthday': 2178, 'op': 2179, 'lantana': 2180, 'excel': 2181, 'mostli': 2182, 'kangaroo': 2183, 'matchstick': 2184, 'secur': 2185, 'intoler': 2186, 'cruelti': 2187, 'bend': 2188, 'beckham': 2189, 'stuck': 2190, 'piglet': 2191, 'medallion': 2192, 'manor': 2193, 'inlaw': 2194, 'cost': 2195, 'wing': 2196, 'migrat': 2197, 'swim': 2198, 'pool': 2199, 'divorc': 2200, 'tupac': 2201, 'nowher': 2202, 'zeitgeist': 2203, 'papi': 2204, 'splendor': 2205, 'spellbound': 2206, 'rs': 2207, 'allianc': 2208, 'vivafilm': 2209, 'liquid': 2210, 'dentist': 2211, 'mambo': 2212, 'italiano': 2213, 'ladder': 2214, 'taxi': 2215, 'yugioh': 2216, 'nascar': 2217, 'paparazzi': 2218, 'motorcycl': 2219, 'cookout': 2220, 'ear': 2221, 'sleepov': 2222, 'superbabi': 2223, 'genius': 2224, 'triumph': 2225, 'corpor': 2226, 'cooler': 2227, 'thou': 2228, 'loos': 2229, 'triplet': 2230, 'bellevil': 2231, 'rope': 2232, 'clear': 2233, 'dread': 2234, 'televisa': 2235, 'cine': 2236, 'leash': 2237, 'mulberri': 2238, 'squar': 2239, 'dagger': 2240, 'clifford': 2241, 'realli': 2242, 'veerzaara': 2243, 'yearold': 2244, 'flightplan': 2245, 'guess': 2246, 'fulli': 2247, 'load': 2248, 'gromit': 2249, 'wererabbit': 2250, 'hide': 2251, 'sharkboy': 2252, 'lavagirl': 2253, 'shop': 2254, 'hostag': 2255, 'shoe': 2256, 'union': 2257, 'rumor': 2258, 'rwanda': 2259, 'roll': 2260, 'flower': 2261, 'mix': 2262, 'domino': 2263, 'shopgirl': 2264, 'harvest': 2265, 'ballroom': 2266, 'lavend': 2267, 'aristocrat': 2268, 'jacket': 2269, 'underclassman': 2270, 'downfal': 2271, 'howl': 2272, 'ongbak': 2273, 'thai': 2274, 'mindhunt': 2275, 'enron': 2276, 'smartest': 2277, 'tension': 2278, 'rize': 2279, 'grizzli': 2280, 'supercross': 2281, 'shaggi': 2282, 'invinc': 2283, 'firewal': 2284, 'dreamgirl': 2285, 'sentinel': 2286, 'deck': 2287, 'hall': 2288, 'lead': 2289, 'kitti': 2290, 'stick': 2291, 'descent': 2292, 'fearless': 2293, 'exgirlfriend': 2294, 'slevin': 2295, 'waist': 2296, 'atl': 2297, 'prairi': 2298, 'companion': 2299, 'babel': 2300, 'beerfest': 2301, 'marin': 2302, 'annapoli': 2303, 'cabl': 2304, 'health': 2305, 'inspector': 2306, 'isold': 2307, 'hollywoodland': 2308, 'fri': 2309, 'worm': 2310, 'idlewild': 2311, 'freedomland': 2312, 'protector': 2313, 'dynasti': 2314, 'zoom': 2315, 'materi': 2316, 'casanova': 2317, 'scoop': 2318, 'transamerica': 2319, 'listen': 2320, 'doogal': 2321, 'crossov': 2322, 'scissor': 2323, 'instinct': 2324, 'scanner': 2325, 'darkli': 2326, 'consider': 2327, 'melquiad': 2328, 'estrada': 2329, 'fastest': 2330, 'indian': 2331, 'libertin': 2332, 'hog': 2333, 'hairspray': 2334, 'robinson': 2335, 'terabithia': 2336, 'iv': 2337, 'surf': 2338, 'lyric': 2339, 'done': 2340, 'licens': 2341, 'reserv': 2342, 'fractur': 2343, 'breach': 2344, 'bean': 2345, 'magorium': 2346, 'emporium': 2347, 'requiem': 2348, 'woodcock': 2349, 'reap': 2350, 'across': 2351, 'fuzz': 2352, 'mimzi': 2353, 'waitress': 2354, 'becom': 2355, 'eastern': 2356, 'note': 2357, 'scandal': 2358, 'hitcher': 2359, 'happili': 2360, 'debat': 2361, 'firehous': 2362, 'comeback': 2363, 'even': 2364, 'aton': 2365, 'primev': 2366, 'bratz': 2367, 'rendit': 2368, 'sentenc': 2369, 'delta': 2370, 'farc': 2371, 'volver': 2372, 'paint': 2373, 'veil': 2374, 'cantant': 2375, 'condemn': 2376, 'bug': 2377, 'valley': 2378, 'elah': 2379, 'bmg': 2380, 'kite': 2381, 'who': 2382, 'caddi': 2383, 'aqua': 2384, 'colon': 2385, 'chihuahua': 2386, 'senior': 2387, 'miley': 2388, 'forbidden': 2389, 'rodanth': 2390, 'lakeview': 2391, 'terrac': 2392, 'despereaux': 2393, 'semipro': 2394, 'drillbit': 2395, 'definit': 2396, 'mayb': 2397, 'chimp': 2398, 'superhero': 2399, 'barcelona': 2400, 'kittredg': 2401, 'duchess': 2402, 'pettigrew': 2403, 'longshot': 2404, 'rewind': 2405, 'doomsday': 2406, 'visitor': 2407, 'pajama': 2408, 'bruge': 2409, 'expel': 2410, 'allow': 2411, 'orphanag': 2412, 'brideshead': 2413, 'revisit': 2414, 'fatboy': 2415, 'rocknrolla': 2416, 'shine': 2417, 'dive': 2418, 'sieg': 2419, 'decept': 2420, 'frostnixon': 2421, 'persepoli': 2422, 'witless': 2423, 'bottl': 2424, 'shock': 2425, 'youngheart': 2426, 'he': 2427, 'jail': 2428, 'frog': 2429, 'brüno': 2430, 'connecticut': 2431, 'girlfriend': 2432, 'shopahol': 2433, 'orphan': 2434, 'soloist': 2435, 'uninvit': 2436, 'fourth': 2437, 'gamer': 2438, 'adventureland': 2439, 'ponyo': 2440, 'voltag': 2441, 'round': 2442, 'clean': 2443, 'dragonbal': 2444, 'seriou': 2445, 'chunli': 2446, 'grad': 2447, 'bandslam': 2448, 'hair': 2449, 'septemb': 2450, 'issu': 2451, 'bloom': 2452, 'nombr': 2453, 'beezu': 2454, 'omega': 2455, 'lotteri': 2456, 'ticket': 2457, 'hubbl': 2458, 'splice': 2459, 'convict': 2460, 'greenberg': 2461, 'catfish': 2462, 'nsecur': 2463, 'twilightnew': 2464, 'gnomeo': 2465, 'footloos': 2466, 'tintin': 2467, 'ide': 2468, 'descend': 2469, 'roommat': 2470, 'bought': 2471, 'zoo': 2472, 'african': 2473, 'eyr': 2474, 'laugh': 2475, 'codeblack': 2476, 'sappelait': 2477, 'tonight': 2478, 'rapid': 2479, 'biuti': 2480, 'utopia': 2481, 'visio': 2482, 'agenc': 2483, 'tinker': 2484, 'card': 2485, 'campaign': 2486, 'odd': 2487, 'boom': 2488, 'menac': 2489, 'lawless': 2490, 'curv': 2491, 'obama': 2492, 'loud': 2493, 'joy': 2494, 'chimpanze': 2495, 'arrietti': 2496, 'chernobyl': 2497, 'wanderlust': 2498, 'perk': 2499, 'wallflow': 2500, 'southern': 2501, 'karenina': 2502, 'intouch': 2503, 'yemen': 2504, 'soleil': 2505, 'arbitrag': 2506, 'casa': 2507, 'mi': 2508, 'padr': 2509, 'greater': 2510, 'cristiada': 2511, 'session': 2512, 'octob': 2513, 'hitchcock': 2514, 'goon': 2515, 'safeti': 2516, 'guarante': 2517, 'nitro': 2518, 'circu': 2519, 'ounc': 2520, 'ark': 2521, 'jab': 2522, 'tak': 2523, 'jaan': 2524, 'nobb': 2525, 'talaash': 2526, 'barfi': 2527, 'singin': 2528, 'progress': 2529, 'spark': 2530, 'desol': 2531, 'smaug': 2532, 'marriag': 2533, 'instruct': 2534, 'includ': 2535, 'snitch': 2536, 'explain': 2537, 'mud': 2538, 'baggag': 2539, 'claim': 2540, 'quartet': 2541, 'fruitval': 2542, 'bullet': 2543, 'dhoom': 2544, 'spectacular': 2545, 'grandmast': 2546, 'bling': 2547, 'pull': 2548, 'circuit': 2549, 'wizard': 2550, 'chennai': 2551, 'mandela': 2552, 'llewyn': 2553, 'hyde': 2554, 'much': 2555, 'ado': 2556, 'unplug': 2557, 'sapphir': 2558, 'im': 2559, 'church': 2560, 'east': 2561, 'osag': 2562, 'chef': 2563, 'draft': 2564, 'novemb': 2565, 'imit': 2566, 'addict': 2567, 'dame': 2568, 'sabotag': 2569, 'pk': 2570, 'lemur': 2571, 'cantinfla': 2572, 'mormon': 2573, 'chavez': 2574, 'twin': 2575, 'south': 2576, 'snowpierc': 2577, 'railway': 2578, 'cohen': 2579, 'calvari': 2580, 'interview': 2581, 'seduct': 2582, 'rosewat': 2583, 'fluffi': 2584, 'uniti': 2585, 'laughter': 2586, 'cameron': 2587, 'screenvis': 2588, 'mcfarland': 2589, 'spotlight': 2590, 'sheep': 2591, 'monkey': 2592, 'refuel': 2593, 'woodlawn': 2594, 'selfless': 2595, 'crowd': 2596, 'f': 2597, 'bajrangi': 2598, 'bhaijaan': 2599, 'ill': 2600, 'inher': 2601, 'trumbo': 2602, 'loft': 2603, 'bajirao': 2604, 'mastani': 2605, 'suffragett': 2606, 'danish': 2607, 'dilwal': 2608, 'prem': 2609, 'ratan': 2610, 'dhan': 2611, 'payo': 2612, 'spare': 2613, 'ladron': 2614, 'tanu': 2615, 'manu': 2616, 'kasbah': 2617, 'malala': 2618, 'chiraq': 2619, 'pawn': 2620, 'sacrific': 2621, 'moana': 2622, 'allegi': 2623, 'choic': 2624, 'mastermind': 2625, 'infiltr': 2626, 'crimin': 2627, 'hello': 2628, 'friendship': 2629, 'hillari': 2630, 'democrat': 2631, 'tripl': 2632, 'café': 2633, 'societi': 2634, 'nocturn': 2635, 'popstar': 2636, 'hardcor': 2637, 'ratchet': 2638, 'clank': 2639, 'lobster': 2640, 'dangal': 2641, 'shut': 2642, 'grimsbi': 2643, 'messiah': 2644, 'southsid': 2645, 'sultan': 2646, 'wilderpeopl': 2647, 'absolut': 2648, 'twice': 2649, 'arcad': 2650, 'meddler': 2651, 'dil': 2652, 'mushkil': 2653, 'swiss': 2654, 'denial': 2655, 'kabali': 2656, 'cinegalaxi': 2657, 'knew': 2658, 'joke': 2659, 'special': 2660, 'anomalisa': 2661, 'indign': 2662, 'ren': 2663, 'yu': 2664, 'compadr': 2665, 'ninjago': 2666, 'shack': 2667, 'sick': 2668, 'truck': 2669, 'latin': 2670, 'billboard': 2671, 'outsid': 2672, 'eb': 2673, 'missouri': 2674, 'sleepless': 2675, 'conclus': 2676, 'shape': 2677, 'china': 2678, 'leavey': 2679, 'founder': 2680, 'beguil': 2681, 'negro': 2682, 'differ': 2683, 'lowrid': 2684, 'suburbicon': 2685, 'molli': 2686, 'zinda': 2687, 'stronger': 2688, 'tabl': 2689, 'cinel': 2690, 'til': 2691, 'novu': 2692, 'raee': 2693, 'zee': 2694, 'tv': 2695, 'encount': 2696, 'coloss': 2697, 'h': 2698, 'cousin': 2699, 'championship': 2700, 'mayweath': 2701, 'conor': 2702, 'mcgregor': 2703, 'question': 2704, 'genesi': 2705, 'newsi': 2706, 'broadway': 2707, 'jerusalem': 2708, 'aquaman': 2709, 'wrinkl': 2710, 'smallfoot': 2711, 'den': 2712, 'thiev': 2713, 'hereditari': 2714, 'acrimoni': 2715, 'widow': 2716, 'commut': 2717, 'isl': 2718, 'hostil': 2719, 'search': 2720, 'winchest': 2721, 'thread': 2722, 'oper': 2723, 'sorri': 2724, 'bother': 2725, 'chappaquiddick': 2726, 'favourit': 2727, 'rbg': 2728, 'eighth': 2729, 'grade': 2730, 'upgrad': 2731, 'padmaavat': 2732, 'mirrorld': 2733, 'scot': 2734, 'traffik': 2735, 'earli': 2736, 'stalin': 2737, 'grow': 2738, 'sanju': 2739, 'unsan': 2740, 'forgiv': 2741, 'mid': 2742, 'eras': 2743, 'artemi': 2744, 'axl': 2745, 'briarcliff': 2746, 'path': 2747, 'redempt': 2748, 'beirut': 2749, 'gringo': 2750, 'gotti': 2751, 'blindspot': 2752, 'ya': 2753, 'veremo': 2754, 'sgt': 2755, 'stubbi': 2756, 'gosnel': 2757, 'serial': 2758, 'gvn': 2759, 'indivis': 2760, 'nomin': 2761, 'disobedi': 2762, 'reform': 2763, 'nake': 2764, 'samaritan': 2765, 'electr': 2766, 'entebb': 2767, 'odyssey': 2768, 'leisur': 2769, 'hobb': 2770, 'parabellum': 2771, 'downton': 2772, 'romant': 2773, 'broli': 2774, 'shot': 2775, 'midsommar': 2776, 'uncut': 2777, 'basi': 2778, 'booksmart': 2779, 'parasit': 2780, 'stuber': 2781, 'butter': 2782, 'falcon': 2783, 'bombshel': 2784, 'farewel': 2785, 'would': 2786, 'link': 2787, 'late': 2788, 'pom': 2789, 'lighthous': 2790, 'mumbai': 2791, 'marathon': 2792, 'jexi': 2793, 'current': 2794, 'director': 2795, 'wander': 2796, 'gulli': 2797, 'otl': 2798, 'mustang': 2799, 'also': 2800, 'pavarotti': 2801, 'tolkien': 2802, 'menteur': 2803, 'farm': 2804, 'ronstadt': 2805, 'surgic': 2806, 'packyourbag': 2807, 'replica': 2808, 'ne': 2809, 'zha': 2810, 'mangal': 2811, 'bt': 2812, 'tour': 2813, 'seoul': 2814, 'bum': 2815, 'reboot': 2816, 'saban': 2817, 'simmba': 2818, 'anniversari': 2819, 'saaho': 2820, 'kalank': 2821, 'tod': 2822, 'caen': 2823, 'selfdefens': 2824, 'promar': 2825, 'onward': 2826, 'tenet': 2827, 'unhing': 2828, 'solstic': 2829, 'underwat': 2830, 'honest': 2831, 'impract': 2832, 'trutv': 2833, 'downhil': 2834, 'rhythm': 2835, 'section': 2836, 'hocu': 2837, 'pocu': 2838, 'galleri': 2839, 'infidel': 2840, 'cloudburst': 2841, 'portrait': 2842, 'empti': 2843, 'boyfriend': 2844, 'med': 2845, 'bathroom': 2846, 'person': 2847, 'copperfield': 2848, 'wretch': 2849, 'lodg': 2850, 'rental': 2851, 'relic': 2852, 'tax': 2853, 'rlje': 2854, 'shift': 2855, 'quiver': 2856, 'mafia': 2857, 'lampoon': 2858, 'sarileru': 2859, 'neekevvaru': 2860, 'vanguard': 2861, 'possessor': 2862, 'collid': 2863, 'baaghi': 2864, 'pattern': 2865, 'evid': 2866, 'vermeer': 2867, 'pour': 2868, 'tout': 2869, 'eon': 2870, 'chhapaak': 2871, 'shortcut': 2872, 'panga': 2873, 'kajillionair': 2874, 'carol': 2875, 'pinocchio': 2876, 'seberg': 2877, 'infam': 2878, 'tulsa': 2879, 'pryor': 2880, 'nick': 2881, 'yellow': 2882, 'clemenc': 2883, 'ordinari': 2884, 'mystifi': 2885, 'hutchenc': 2886, 'climb': 2887, 'qa': 2888, 'thyme': 2889, 'fatestay': 2890, 'ashfal': 2891, 'capelight': 2892, 'cyrano': 2893, 'bergerac': 2894, 'duet': 2895, 'supernova': 2896, 'u571': 2897, 'psycho': 2898, 'bless': 2899, 'suspicion': 2900, 'monkeybon': 2901, 'shi': 2902, 'autumn': 2903, 'gossip': 2904, 'hardbal': 2905, 'famou': 2906, 'boiler': 2907, 'caveman': 2908, 'battlefield': 2909, 'drown': 2910, 'frequenc': 2911, 'spice': 2912, 'crew': 2913, 'coyot': 2914, 'whatev': 2915, 'mister': 2916, 'cell': 2917, 'bait': 2918, 'bandit': 2919, 'timecod': 2920, 'pay': 2921, 'forward': 2922, 'bedazzl': 2923, 'graceland': 2924, 'novocain': 2925, 'pledg': 2926, 'silverman': 2927, 'dude': 2928, 'thir13en': 2929, 'darko': 2930, 'domest': 2931, 'disturb': 2932, 'spot': 2933, 'buffalo': 2934, 'digimon': 2935, 'k19': 2936, 'ararat': 2937, 'keebl': 2938, 'dogvil': 2939, 'liaison': 2940, 'own': 2941, 'mahowni': 2942, 'stolen': 2943, 'frontal': 2944, 'x2': 2945, 'swept': 2946, 'captur': 2947, 'piec': 2948, 'guerin': 2949, 'hebrew': 2950, 'hammer': 2951, 'intermiss': 2952, 'lemoni': 2953, 'snicket': 2954, 'statement': 2955, 'steamboy': 2956, 'snap': 2957, 'anymor': 2958, 'osama': 2959, 'stroke': 2960, 'visual': 2961, 'bibl': 2962, 'merchant': 2963, 'venic': 2964, 'synecdoch': 2965, 'bloodrayn': 2966, 'renaiss': 2967, 'tong': 2968, 'malevol': 2969, 'primer': 2970, 'mozart': 2971, 'perfum': 2972, 'prize': 2973, 'winner': 2974, 'inspir': 2975, 'throat': 2976, 'guilti': 2977, 'kean': 2978, 'oh': 2979, 'mini': 2980, 'lookout': 2981, 'undiscov': 2982, 'convers': 2983, 'coward': 2984, 'paradis': 2985, 'bubbl': 2986, 'outland': 2987, 'rocket': 2988, 'scienc': 2989, 'vitu': 2990, 'thr3e': 2991, 'caution': 2992, 'wartim': 2993, 'presid': 2994, 'pleas': 2995, 'weird': 2996, 'redbelt': 2997, 'centurion': 2998, 'chanel': 2999, 'imaginarium': 3000, 'parnassu': 3001, 'lieuten': 3002, 'port': 3003, 'orlean': 3004, 'ranch': 3005, 'chain': 3006, 'ribbon': 3007, 'grass': 3008, 'freakonom': 3009, 'bronco': 3010, 'agora': 3011, 'fade': 3012, 'brighton': 3013, 'prophet': 3014, 'target': 3015, 'ondin': 3016, 'spit': 3017, 'boulevard': 3018, 'incendi': 3019, 'tempest': 3020, 'beaver': 3021, 'hesher': 3022, 'somewher': 3023, 'barney': 3024, 'version': 3025, 'skin': 3026, 'restless': 3027, 'meek': 3028, 'cutoff': 3029, 'trust': 3030, 'guard': 3031, 'preacher': 3032, 'amour': 3033, 'shelter': 3034, 'stoker': 3035, 'circumst': 3036, 'sold': 3037, 'rover': 3038, 'disappoint': 3039, 'whiplash': 3040, 'seuss': 3041, 't2': 3042, 'trainspot': 3043, 'violent': 3044, 'xray': 3045, 'jem': 3046, 'blumhous': 3047, 'fantabul': 3048, 'emancip': 3049}\n",
            "[[ 0  0  0 ...  3  5 12]\n",
            " [ 0  0  0 ...  3  5 12]\n",
            " [ 0  0  0 ...  3  5 12]\n",
            " ...\n",
            " [ 0  0  0 ... 15  1  9]\n",
            " [ 0  0  0 ...  2 11  9]\n",
            " [ 0  0  0 ... 14 13  4]]\n"
          ]
        }
      ]
    },
    {
      "cell_type": "markdown",
      "metadata": {
        "id": "upij_1muSHdI"
      },
      "source": [
        "#Split data into train and test "
      ]
    },
    {
      "cell_type": "code",
      "metadata": {
        "colab": {
          "base_uri": "https://localhost:8080/"
        },
        "id": "lF47IhSSVhyG",
        "outputId": "2db8a57c-7036-4b02-c59c-523dba10d8ef"
      },
      "source": [
        "X_train, X_test, y_train, y_test = train_test_split(info_sequences, short_df['age rate'], test_size=0.1, random_state=42)\n",
        "\n",
        "\n",
        "print(np.array(X_train))"
      ],
      "execution_count": 249,
      "outputs": [
        {
          "output_type": "stream",
          "name": "stdout",
          "text": [
            "[[ 0  0  0 ... 13 12  4]\n",
            " [ 0  0  0 ...  8 14  4]\n",
            " [ 0  0  0 ... 62 63  2]\n",
            " ...\n",
            " [ 0  0  0 ...  8 13  4]\n",
            " [ 0  0  0 ...  2 10  9]\n",
            " [ 0  0  0 ...  6  2  7]]\n"
          ]
        }
      ]
    },
    {
      "cell_type": "code",
      "metadata": {
        "colab": {
          "base_uri": "https://localhost:8080/"
        },
        "id": "1hxmfWndU6Uy",
        "outputId": "2768b26b-bb76-4dcc-e1fe-321b96416b9b"
      },
      "source": [
        "l = len(X_train[363])\n",
        "print(l)"
      ],
      "execution_count": 250,
      "outputs": [
        {
          "output_type": "stream",
          "name": "stdout",
          "text": [
            "20\n"
          ]
        }
      ]
    },
    {
      "cell_type": "markdown",
      "metadata": {
        "id": "NW4MLy6EZ4ob"
      },
      "source": [
        "# Model and Train"
      ]
    },
    {
      "cell_type": "code",
      "metadata": {
        "colab": {
          "base_uri": "https://localhost:8080/"
        },
        "id": "qDUiVsQmZ5r3",
        "outputId": "351d55cb-490d-41c8-a98f-acef3adb4394"
      },
      "source": [
        "model = tf.keras.models.Sequential([\n",
        "  tf.keras.layers.Embedding(input_dim=vocab_size,\n",
        "                           output_dim=embedding_dim,\n",
        "                           input_length=maxlen),\n",
        "  tf.keras.layers.Flatten(),\n",
        "  tf.keras.layers.Dense(2000,activation='relu'),\n",
        "  tf.keras.layers.Dense(500,activation='relu'),\n",
        "  tf.keras.layers.Dense(100,activation='relu'),\n",
        "  tf.keras.layers.Dense(num_categories, activation=tf.nn.sigmoid)\n",
        "])\n",
        "\n",
        "model.compile(optimizer='nadam',\n",
        "              loss='categorical_crossentropy',\n",
        "              metrics=['accuracy'])\n",
        "\n",
        "modelcheckpoint = tf.keras.callbacks.ModelCheckpoint(filepath=output_dir+\n",
        "                                  \"/weights.{epoch:02d}.hdf5\")\n",
        "\n",
        "model.summary()"
      ],
      "execution_count": 251,
      "outputs": [
        {
          "output_type": "stream",
          "name": "stdout",
          "text": [
            "Model: \"sequential_3\"\n",
            "_________________________________________________________________\n",
            " Layer (type)                Output Shape              Param #   \n",
            "=================================================================\n",
            " embedding_3 (Embedding)     (None, 20, 64)            195200    \n",
            "                                                                 \n",
            " flatten_3 (Flatten)         (None, 1280)              0         \n",
            "                                                                 \n",
            " dense_12 (Dense)            (None, 2000)              2562000   \n",
            "                                                                 \n",
            " dense_13 (Dense)            (None, 500)               1000500   \n",
            "                                                                 \n",
            " dense_14 (Dense)            (None, 100)               50100     \n",
            "                                                                 \n",
            " dense_15 (Dense)            (None, 1)                 101       \n",
            "                                                                 \n",
            "=================================================================\n",
            "Total params: 3,807,901\n",
            "Trainable params: 3,807,901\n",
            "Non-trainable params: 0\n",
            "_________________________________________________________________\n"
          ]
        }
      ]
    },
    {
      "cell_type": "code",
      "metadata": {
        "colab": {
          "base_uri": "https://localhost:8080/"
        },
        "id": "QuoF-sk5-fVz",
        "outputId": "5cacd76a-a297-4e1c-f291-a79fcc9289c9"
      },
      "source": [
        "#embedding level\n",
        "n_dim, n_unique_words, n_dim*n_unique_words"
      ],
      "execution_count": 252,
      "outputs": [
        {
          "output_type": "execute_result",
          "data": {
            "text/plain": [
              "(64, 5000, 320000)"
            ]
          },
          "metadata": {},
          "execution_count": 252
        }
      ]
    },
    {
      "cell_type": "code",
      "metadata": {
        "colab": {
          "base_uri": "https://localhost:8080/"
        },
        "id": "i0zQgJdk_GKg",
        "outputId": "744ec8ff-0469-4563-a700-4bda5fa84168"
      },
      "source": [
        "#flatten\n",
        "max_decription_length, n_dim, n_dim*max_decription_length"
      ],
      "execution_count": 253,
      "outputs": [
        {
          "output_type": "execute_result",
          "data": {
            "text/plain": [
              "(100, 64, 6400)"
            ]
          },
          "metadata": {},
          "execution_count": 253
        }
      ]
    },
    {
      "cell_type": "code",
      "metadata": {
        "colab": {
          "base_uri": "https://localhost:8080/"
        },
        "id": "uvwsE8tX_ipm",
        "outputId": "750eb948-f4d3-4715-ee3e-84cea24462c2"
      },
      "source": [
        "#dense\n",
        "n_dense, n_dim*max_decription_length*n_dense+n_dense #weights + biases"
      ],
      "execution_count": 254,
      "outputs": [
        {
          "output_type": "execute_result",
          "data": {
            "text/plain": [
              "(64, 409664)"
            ]
          },
          "metadata": {},
          "execution_count": 254
        }
      ]
    },
    {
      "cell_type": "code",
      "metadata": {
        "colab": {
          "base_uri": "https://localhost:8080/"
        },
        "id": "TQcXvJnR_3mc",
        "outputId": "61ddcdb7-8155-47ea-f9c3-f22a90dfc1ec"
      },
      "source": [
        "#output\n",
        "n_dense + 1"
      ],
      "execution_count": 255,
      "outputs": [
        {
          "output_type": "execute_result",
          "data": {
            "text/plain": [
              "65"
            ]
          },
          "metadata": {},
          "execution_count": 255
        }
      ]
    },
    {
      "cell_type": "markdown",
      "metadata": {
        "id": "h9Qef1oGBp83"
      },
      "source": [
        "#Configure model"
      ]
    },
    {
      "cell_type": "code",
      "metadata": {
        "colab": {
          "base_uri": "https://localhost:8080/"
        },
        "id": "ZamjHmEIBGGN",
        "outputId": "d2297456-667e-4444-9d8f-76738b2ba991"
      },
      "source": [
        "model.compile(loss='binary_crossentropy', optimizer='nadam', metrics=['accuracy'])\n",
        "\n",
        "\n",
        "modelcheckpoint = ModelCheckpoint(filepath=output_dir+\n",
        "                                  \"/weights.{epoch:02d}.hdf5\")\n",
        "callbacks=[modelcheckpoint]\n",
        "\n",
        "\n",
        "\n",
        "if not os.path.exists(output_dir):\n",
        "    os.makedirs(output_dir)\n",
        "\n",
        "model.fit(X_train.astype('float32'),\n",
        "          np.array(y_train).astype('float32').reshape((-1,1)), \n",
        "          batch_size=batch_size, epochs=epochs, verbose=1, \n",
        "          validation_data=(X_test.astype('float32'), \n",
        "          np.array(y_test).astype('float32').reshape((-1,1))), callbacks=callbacks)"
      ],
      "execution_count": 256,
      "outputs": [
        {
          "output_type": "stream",
          "name": "stdout",
          "text": [
            "Epoch 1/6\n",
            "164/164 [==============================] - 12s 64ms/step - loss: 0.5422 - accuracy: 0.6929 - val_loss: 0.5185 - val_accuracy: 0.7354\n",
            "Epoch 2/6\n",
            "164/164 [==============================] - 10s 63ms/step - loss: 0.3769 - accuracy: 0.8280 - val_loss: 0.3634 - val_accuracy: 0.8419\n",
            "Epoch 3/6\n",
            "164/164 [==============================] - 10s 63ms/step - loss: 0.1821 - accuracy: 0.9268 - val_loss: 0.4170 - val_accuracy: 0.8179\n",
            "Epoch 4/6\n",
            "164/164 [==============================] - 10s 63ms/step - loss: 0.0957 - accuracy: 0.9618 - val_loss: 0.4801 - val_accuracy: 0.8316\n",
            "Epoch 5/6\n",
            "164/164 [==============================] - 11s 64ms/step - loss: 0.0644 - accuracy: 0.9719 - val_loss: 0.5690 - val_accuracy: 0.8265\n",
            "Epoch 6/6\n",
            "164/164 [==============================] - 11s 65ms/step - loss: 0.0509 - accuracy: 0.9786 - val_loss: 0.6902 - val_accuracy: 0.8402\n"
          ]
        },
        {
          "output_type": "execute_result",
          "data": {
            "text/plain": [
              "<keras.callbacks.History at 0x7f8825937f90>"
            ]
          },
          "metadata": {},
          "execution_count": 256
        }
      ]
    },
    {
      "cell_type": "code",
      "metadata": {
        "colab": {
          "base_uri": "https://localhost:8080/"
        },
        "id": "BayeNDj8hUmw",
        "outputId": "894135a7-970a-4928-d518-deed175d8b4c"
      },
      "source": [
        "score = model.evaluate(np.array(X_test), np.array(y_test)) \n",
        "\n",
        "print(\"Test Score:\", score[0])\n",
        "print(\"Test Accuracy:\", score[1])"
      ],
      "execution_count": 257,
      "outputs": [
        {
          "output_type": "stream",
          "name": "stdout",
          "text": [
            "19/19 [==============================] - 0s 9ms/step - loss: 0.6902 - accuracy: 0.8402\n",
            "Test Score: 0.6902134418487549\n",
            "Test Accuracy: 0.8402062058448792\n"
          ]
        }
      ]
    },
    {
      "cell_type": "markdown",
      "metadata": {
        "id": "Ryi-R8bSdXoo"
      },
      "source": [
        "# Accuracy"
      ]
    },
    {
      "cell_type": "code",
      "metadata": {
        "id": "I-0PqTQqdW6U"
      },
      "source": [
        "model.load_weights(output_dir+\"/weights.02.hdf5\") # NOT zero-indexed"
      ],
      "execution_count": 258,
      "outputs": []
    },
    {
      "cell_type": "code",
      "metadata": {
        "id": "O5udOK_h-OzI"
      },
      "source": [
        "y_hat = model.predict(X_test)"
      ],
      "execution_count": 259,
      "outputs": []
    },
    {
      "cell_type": "code",
      "metadata": {
        "colab": {
          "base_uri": "https://localhost:8080/"
        },
        "id": "qICDY9fFAGEJ",
        "outputId": "a5954a2f-e3b1-4e55-ca4b-2605c4de9d53"
      },
      "source": [
        "len(y_hat)"
      ],
      "execution_count": 260,
      "outputs": [
        {
          "output_type": "execute_result",
          "data": {
            "text/plain": [
              "582"
            ]
          },
          "metadata": {},
          "execution_count": 260
        }
      ]
    },
    {
      "cell_type": "code",
      "metadata": {
        "colab": {
          "base_uri": "https://localhost:8080/"
        },
        "id": "tPp9QO34AJjG",
        "outputId": "0965d663-ec2b-455e-9bbe-d27ee05cee5a"
      },
      "source": [
        "y_hat[3]"
      ],
      "execution_count": 261,
      "outputs": [
        {
          "output_type": "execute_result",
          "data": {
            "text/plain": [
              "array([0.00024584], dtype=float32)"
            ]
          },
          "metadata": {},
          "execution_count": 261
        }
      ]
    },
    {
      "cell_type": "code",
      "metadata": {
        "id": "bwm0oMhCEHZ2"
      },
      "source": [
        ""
      ],
      "execution_count": 261,
      "outputs": []
    },
    {
      "cell_type": "code",
      "metadata": {
        "colab": {
          "base_uri": "https://localhost:8080/"
        },
        "id": "llvc6DVhAOkM",
        "outputId": "9a87251c-c2f7-47f8-d369-da988f5494ea"
      },
      "source": [
        "print(np.array(y_test)[3])"
      ],
      "execution_count": 262,
      "outputs": [
        {
          "output_type": "stream",
          "name": "stdout",
          "text": [
            "0\n"
          ]
        }
      ]
    },
    {
      "cell_type": "code",
      "metadata": {
        "colab": {
          "base_uri": "https://localhost:8080/"
        },
        "id": "GTt4E9U5Dpmm",
        "outputId": "7eab4ef6-9fdc-4ffb-f86b-72e7a3468b32"
      },
      "source": [
        "print(type(y_hat))"
      ],
      "execution_count": 263,
      "outputs": [
        {
          "output_type": "stream",
          "name": "stdout",
          "text": [
            "<class 'numpy.ndarray'>\n"
          ]
        }
      ]
    },
    {
      "cell_type": "code",
      "metadata": {
        "colab": {
          "base_uri": "https://localhost:8080/",
          "height": 37
        },
        "id": "2n-TWsttEKWR",
        "outputId": "1bafd7d4-91e4-4ded-8d73-865e877f384a"
      },
      "source": [
        "pct_auc = roc_auc_score(y_test, y_hat)*100.0\n",
        "\"{:0.2f}\".format(pct_auc)"
      ],
      "execution_count": 264,
      "outputs": [
        {
          "output_type": "execute_result",
          "data": {
            "application/vnd.google.colaboratory.intrinsic+json": {
              "type": "string"
            },
            "text/plain": [
              "'91.50'"
            ]
          },
          "metadata": {},
          "execution_count": 264
        }
      ]
    },
    {
      "cell_type": "code",
      "metadata": {
        "id": "Gxskx2ALEYOb"
      },
      "source": [
        "float_y_hat = []\n",
        "for y in y_hat:\n",
        "    float_y_hat.append(y[0])"
      ],
      "execution_count": 265,
      "outputs": []
    },
    {
      "cell_type": "code",
      "metadata": {
        "colab": {
          "base_uri": "https://localhost:8080/"
        },
        "id": "7cbqE3YmX51C",
        "outputId": "6cb6fda9-7465-4c54-98a6-cf27e823e30b"
      },
      "source": [
        "ydf = pd.DataFrame(list(zip(float_y_hat, y_test)), columns=['y_hat', 'y'])\n",
        "with pd.option_context('display.max_rows', None, 'display.max_columns', None):\n",
        "  print(ydf)"
      ],
      "execution_count": 266,
      "outputs": [
        {
          "output_type": "stream",
          "name": "stdout",
          "text": [
            "        y_hat  y\n",
            "0    0.771305  1\n",
            "1    0.770226  1\n",
            "2    0.000199  0\n",
            "3    0.000246  0\n",
            "4    0.000176  0\n",
            "5    0.884231  1\n",
            "6    0.504186  0\n",
            "7    0.833341  1\n",
            "8    0.210100  1\n",
            "9    0.002688  0\n",
            "10   0.231967  0\n",
            "11   0.002677  0\n",
            "12   0.255800  0\n",
            "13   0.680396  1\n",
            "14   0.000423  0\n",
            "15   0.813631  1\n",
            "16   0.223228  0\n",
            "17   0.414290  0\n",
            "18   0.125712  0\n",
            "19   0.000124  0\n",
            "20   0.129788  1\n",
            "21   0.557719  0\n",
            "22   0.745428  1\n",
            "23   0.002250  0\n",
            "24   0.013941  0\n",
            "25   0.314848  1\n",
            "26   0.181131  0\n",
            "27   0.555818  1\n",
            "28   0.385368  0\n",
            "29   0.512749  0\n",
            "30   0.034527  0\n",
            "31   0.330670  0\n",
            "32   0.607571  1\n",
            "33   0.017965  0\n",
            "34   0.915454  1\n",
            "35   0.813048  1\n",
            "36   0.255953  0\n",
            "37   0.582758  1\n",
            "38   0.031988  0\n",
            "39   0.035200  0\n",
            "40   0.254880  1\n",
            "41   0.894640  1\n",
            "42   0.776654  0\n",
            "43   0.044443  0\n",
            "44   0.153470  0\n",
            "45   0.000681  0\n",
            "46   0.968227  0\n",
            "47   0.837228  0\n",
            "48   0.662675  1\n",
            "49   0.268900  0\n",
            "50   0.744991  0\n",
            "51   0.354468  0\n",
            "52   0.000311  0\n",
            "53   0.103217  0\n",
            "54   0.782643  1\n",
            "55   0.115416  0\n",
            "56   0.002626  0\n",
            "57   0.204502  0\n",
            "58   0.486430  0\n",
            "59   0.001317  0\n",
            "60   0.119303  0\n",
            "61   0.286709  0\n",
            "62   0.647463  1\n",
            "63   0.316583  1\n",
            "64   0.000166  0\n",
            "65   0.091967  0\n",
            "66   0.644543  0\n",
            "67   0.301567  0\n",
            "68   0.902834  1\n",
            "69   0.153164  0\n",
            "70   0.525127  1\n",
            "71   0.165527  0\n",
            "72   0.049438  0\n",
            "73   0.927157  1\n",
            "74   0.913314  1\n",
            "75   0.000077  0\n",
            "76   0.817628  0\n",
            "77   0.000262  0\n",
            "78   0.414455  0\n",
            "79   0.000243  0\n",
            "80   0.002305  0\n",
            "81   0.002095  0\n",
            "82   0.590309  1\n",
            "83   0.545381  1\n",
            "84   0.145164  0\n",
            "85   0.381664  1\n",
            "86   0.874740  1\n",
            "87   0.441602  0\n",
            "88   0.644716  0\n",
            "89   0.421009  0\n",
            "90   0.795013  1\n",
            "91   0.197453  0\n",
            "92   0.428904  1\n",
            "93   0.426431  1\n",
            "94   0.000047  0\n",
            "95   0.098911  0\n",
            "96   0.292741  1\n",
            "97   0.714474  0\n",
            "98   0.368373  0\n",
            "99   0.561225  0\n",
            "100  0.084121  0\n",
            "101  0.037580  0\n",
            "102  0.000127  0\n",
            "103  0.240236  0\n",
            "104  0.472364  0\n",
            "105  0.000349  0\n",
            "106  0.089020  1\n",
            "107  0.090554  0\n",
            "108  0.021244  0\n",
            "109  0.407226  1\n",
            "110  0.058080  0\n",
            "111  0.002741  0\n",
            "112  0.642266  1\n",
            "113  0.859451  1\n",
            "114  0.664379  1\n",
            "115  0.955187  1\n",
            "116  0.624832  0\n",
            "117  0.187682  0\n",
            "118  0.011493  0\n",
            "119  0.326916  0\n",
            "120  0.001814  0\n",
            "121  0.003473  0\n",
            "122  0.364062  0\n",
            "123  0.038790  0\n",
            "124  0.090206  0\n",
            "125  0.194066  0\n",
            "126  0.924693  1\n",
            "127  0.203670  0\n",
            "128  0.000104  0\n",
            "129  0.914256  1\n",
            "130  0.001230  0\n",
            "131  0.977381  1\n",
            "132  0.753449  1\n",
            "133  0.360938  0\n",
            "134  0.484947  0\n",
            "135  0.000197  0\n",
            "136  0.118566  0\n",
            "137  0.323663  0\n",
            "138  0.119364  0\n",
            "139  0.575277  0\n",
            "140  0.263581  0\n",
            "141  0.223950  0\n",
            "142  0.013056  0\n",
            "143  0.181301  0\n",
            "144  0.669377  0\n",
            "145  0.155590  0\n",
            "146  0.003457  0\n",
            "147  0.771609  1\n",
            "148  0.125284  0\n",
            "149  0.000098  0\n",
            "150  0.000215  0\n",
            "151  0.759495  0\n",
            "152  0.181908  0\n",
            "153  0.728430  1\n",
            "154  0.606583  0\n",
            "155  0.171351  0\n",
            "156  0.000016  0\n",
            "157  0.608791  1\n",
            "158  0.000153  0\n",
            "159  0.428872  1\n",
            "160  0.924211  1\n",
            "161  0.000209  0\n",
            "162  0.749358  1\n",
            "163  0.061994  0\n",
            "164  0.000068  0\n",
            "165  0.258594  1\n",
            "166  0.008693  0\n",
            "167  0.619066  1\n",
            "168  0.389272  0\n",
            "169  0.974160  1\n",
            "170  0.007629  0\n",
            "171  0.215328  1\n",
            "172  0.000014  0\n",
            "173  0.120100  1\n",
            "174  0.175224  0\n",
            "175  0.849128  1\n",
            "176  0.845978  1\n",
            "177  0.000210  0\n",
            "178  0.594451  1\n",
            "179  0.819386  1\n",
            "180  0.104017  0\n",
            "181  0.844610  1\n",
            "182  0.745261  1\n",
            "183  0.841522  1\n",
            "184  0.740963  1\n",
            "185  0.155616  0\n",
            "186  0.084464  0\n",
            "187  0.013546  0\n",
            "188  0.787052  1\n",
            "189  0.709042  0\n",
            "190  0.113714  0\n",
            "191  0.717845  0\n",
            "192  0.010186  0\n",
            "193  0.000192  0\n",
            "194  0.623815  0\n",
            "195  0.001950  0\n",
            "196  0.866047  1\n",
            "197  0.057496  0\n",
            "198  0.329704  0\n",
            "199  0.093918  0\n",
            "200  0.273971  0\n",
            "201  0.000119  0\n",
            "202  0.776917  0\n",
            "203  0.159181  0\n",
            "204  0.322530  0\n",
            "205  0.000077  0\n",
            "206  0.845176  1\n",
            "207  0.697153  0\n",
            "208  0.128587  0\n",
            "209  0.016520  0\n",
            "210  0.816328  1\n",
            "211  0.000082  0\n",
            "212  0.002422  0\n",
            "213  0.493003  0\n",
            "214  0.147403  0\n",
            "215  0.397654  1\n",
            "216  0.903601  1\n",
            "217  0.239747  1\n",
            "218  0.320315  0\n",
            "219  0.341738  1\n",
            "220  0.020602  0\n",
            "221  0.831806  1\n",
            "222  0.703076  1\n",
            "223  0.080460  0\n",
            "224  0.007579  0\n",
            "225  0.132088  0\n",
            "226  0.313375  1\n",
            "227  0.072841  0\n",
            "228  0.756143  1\n",
            "229  0.331831  0\n",
            "230  0.023070  0\n",
            "231  0.677287  1\n",
            "232  0.775534  1\n",
            "233  0.389031  0\n",
            "234  0.300828  1\n",
            "235  0.249446  0\n",
            "236  0.249781  0\n",
            "237  0.101890  0\n",
            "238  0.000081  0\n",
            "239  0.001982  0\n",
            "240  0.116741  0\n",
            "241  0.855374  1\n",
            "242  0.485460  0\n",
            "243  0.055538  0\n",
            "244  0.000670  0\n",
            "245  0.045673  0\n",
            "246  0.000072  0\n",
            "247  0.166938  0\n",
            "248  0.127164  0\n",
            "249  0.023556  0\n",
            "250  0.888068  1\n",
            "251  0.165776  0\n",
            "252  0.628770  0\n",
            "253  0.214363  1\n",
            "254  0.001808  0\n",
            "255  0.059175  0\n",
            "256  0.841883  1\n",
            "257  0.926009  1\n",
            "258  0.036494  0\n",
            "259  0.747419  1\n",
            "260  0.355502  0\n",
            "261  0.096072  0\n",
            "262  0.458993  0\n",
            "263  0.067577  0\n",
            "264  0.701046  1\n",
            "265  0.054586  0\n",
            "266  0.810021  1\n",
            "267  0.821118  1\n",
            "268  0.916106  1\n",
            "269  0.075539  0\n",
            "270  0.006582  0\n",
            "271  0.484556  1\n",
            "272  0.230803  0\n",
            "273  0.570995  0\n",
            "274  0.755495  1\n",
            "275  0.164810  0\n",
            "276  0.000195  0\n",
            "277  0.430235  0\n",
            "278  0.013562  0\n",
            "279  0.000835  0\n",
            "280  0.016739  0\n",
            "281  0.000040  0\n",
            "282  0.113698  0\n",
            "283  0.647302  1\n",
            "284  0.987009  1\n",
            "285  0.715971  1\n",
            "286  0.010281  0\n",
            "287  0.229536  0\n",
            "288  0.676936  0\n",
            "289  0.693419  1\n",
            "290  0.643597  1\n",
            "291  0.829173  0\n",
            "292  0.476303  0\n",
            "293  0.572380  1\n",
            "294  0.129889  0\n",
            "295  0.002727  0\n",
            "296  0.660945  1\n",
            "297  0.338265  0\n",
            "298  0.253055  0\n",
            "299  0.704982  0\n",
            "300  0.680570  1\n",
            "301  0.919821  1\n",
            "302  0.000469  0\n",
            "303  0.931638  1\n",
            "304  0.924395  1\n",
            "305  0.780818  1\n",
            "306  0.041162  0\n",
            "307  0.286513  0\n",
            "308  0.869846  1\n",
            "309  0.463468  0\n",
            "310  0.303897  0\n",
            "311  0.877049  1\n",
            "312  0.822397  1\n",
            "313  0.702946  1\n",
            "314  0.436387  0\n",
            "315  0.099305  0\n",
            "316  0.688369  1\n",
            "317  0.562585  0\n",
            "318  0.065584  0\n",
            "319  0.007966  0\n",
            "320  0.000121  0\n",
            "321  0.699162  1\n",
            "322  0.117091  0\n",
            "323  0.303171  0\n",
            "324  0.290454  0\n",
            "325  0.915302  1\n",
            "326  0.046933  0\n",
            "327  0.000601  0\n",
            "328  0.049012  0\n",
            "329  0.640669  1\n",
            "330  0.689957  0\n",
            "331  0.936095  1\n",
            "332  0.184433  0\n",
            "333  0.590341  0\n",
            "334  0.265490  0\n",
            "335  0.364748  0\n",
            "336  0.126248  0\n",
            "337  0.942865  1\n",
            "338  0.861677  1\n",
            "339  0.812011  1\n",
            "340  0.005461  0\n",
            "341  0.886559  1\n",
            "342  0.417562  0\n",
            "343  0.000033  0\n",
            "344  0.886842  0\n",
            "345  0.627152  0\n",
            "346  0.628254  0\n",
            "347  0.767522  1\n",
            "348  0.012701  0\n",
            "349  0.178456  0\n",
            "350  0.847049  0\n",
            "351  0.426841  0\n",
            "352  0.345826  0\n",
            "353  0.702775  1\n",
            "354  0.301091  0\n",
            "355  0.081586  0\n",
            "356  0.000459  0\n",
            "357  0.717008  1\n",
            "358  0.001692  0\n",
            "359  0.532512  0\n",
            "360  0.417100  1\n",
            "361  0.917404  1\n",
            "362  0.772029  1\n",
            "363  0.074048  0\n",
            "364  0.669078  1\n",
            "365  0.868454  1\n",
            "366  0.644874  1\n",
            "367  0.188417  0\n",
            "368  0.494769  1\n",
            "369  0.631404  0\n",
            "370  0.956730  1\n",
            "371  0.263334  1\n",
            "372  0.875871  1\n",
            "373  0.892384  1\n",
            "374  0.612684  0\n",
            "375  0.908951  1\n",
            "376  0.560292  0\n",
            "377  0.806882  1\n",
            "378  0.043664  0\n",
            "379  0.691220  0\n",
            "380  0.565399  1\n",
            "381  0.718434  1\n",
            "382  0.081152  0\n",
            "383  0.056839  0\n",
            "384  0.233439  0\n",
            "385  0.807499  1\n",
            "386  0.745769  1\n",
            "387  0.337354  1\n",
            "388  0.754559  1\n",
            "389  0.720802  1\n",
            "390  0.742062  0\n",
            "391  0.000857  0\n",
            "392  0.005933  1\n",
            "393  0.000059  0\n",
            "394  0.109382  0\n",
            "395  0.001933  0\n",
            "396  0.611233  1\n",
            "397  0.056839  0\n",
            "398  0.000394  0\n",
            "399  0.009236  0\n",
            "400  0.566970  1\n",
            "401  0.748435  1\n",
            "402  0.593787  0\n",
            "403  0.002980  0\n",
            "404  0.053664  0\n",
            "405  0.884248  1\n",
            "406  0.001258  0\n",
            "407  0.000964  0\n",
            "408  0.080538  0\n",
            "409  0.018261  0\n",
            "410  0.071389  0\n",
            "411  0.457881  0\n",
            "412  0.001572  0\n",
            "413  0.384339  0\n",
            "414  0.834596  1\n",
            "415  0.001616  0\n",
            "416  0.827914  1\n",
            "417  0.579080  1\n",
            "418  0.121182  0\n",
            "419  0.497255  0\n",
            "420  0.003364  0\n",
            "421  0.097011  0\n",
            "422  0.773518  1\n",
            "423  0.000094  0\n",
            "424  0.000013  0\n",
            "425  0.523088  0\n",
            "426  0.000104  0\n",
            "427  0.594053  0\n",
            "428  0.747169  1\n",
            "429  0.722206  1\n",
            "430  0.978440  1\n",
            "431  0.896850  1\n",
            "432  0.870394  1\n",
            "433  0.720913  1\n",
            "434  0.796020  1\n",
            "435  0.312567  0\n",
            "436  0.433859  0\n",
            "437  0.716301  1\n",
            "438  0.028315  0\n",
            "439  0.000045  0\n",
            "440  0.825222  1\n",
            "441  0.759267  1\n",
            "442  0.000314  0\n",
            "443  0.699965  1\n",
            "444  0.700941  1\n",
            "445  0.050582  0\n",
            "446  0.602014  1\n",
            "447  0.569537  1\n",
            "448  0.339004  1\n",
            "449  0.760158  0\n",
            "450  0.659769  1\n",
            "451  0.567488  0\n",
            "452  0.013619  0\n",
            "453  0.563937  1\n",
            "454  0.795467  1\n",
            "455  0.034390  0\n",
            "456  0.000406  0\n",
            "457  0.002813  0\n",
            "458  0.062982  0\n",
            "459  0.951925  1\n",
            "460  0.613260  1\n",
            "461  0.745927  1\n",
            "462  0.959825  0\n",
            "463  0.230150  0\n",
            "464  0.803024  1\n",
            "465  0.950937  1\n",
            "466  0.114735  0\n",
            "467  0.773873  1\n",
            "468  0.051350  0\n",
            "469  0.806204  1\n",
            "470  0.066604  0\n",
            "471  0.041284  0\n",
            "472  0.773931  1\n",
            "473  0.004927  0\n",
            "474  0.001209  0\n",
            "475  0.829426  0\n",
            "476  0.623626  1\n",
            "477  0.890750  1\n",
            "478  0.160868  0\n",
            "479  0.820132  1\n",
            "480  0.218675  0\n",
            "481  0.001150  0\n",
            "482  0.924885  0\n",
            "483  0.183887  0\n",
            "484  0.296885  0\n",
            "485  0.104684  0\n",
            "486  0.727438  1\n",
            "487  0.544949  0\n",
            "488  0.245953  0\n",
            "489  0.113873  0\n",
            "490  0.113903  0\n",
            "491  0.002389  0\n",
            "492  0.000728  0\n",
            "493  0.975615  1\n",
            "494  0.547666  1\n",
            "495  0.694189  1\n",
            "496  0.141526  0\n",
            "497  0.021943  0\n",
            "498  0.196756  0\n",
            "499  0.894565  1\n",
            "500  0.749296  1\n",
            "501  0.195550  0\n",
            "502  0.808751  1\n",
            "503  0.299472  1\n",
            "504  0.178438  0\n",
            "505  0.155291  0\n",
            "506  0.590778  0\n",
            "507  0.653048  0\n",
            "508  0.063298  0\n",
            "509  0.270767  0\n",
            "510  0.244473  0\n",
            "511  0.979409  1\n",
            "512  0.832185  1\n",
            "513  0.514477  0\n",
            "514  0.528365  1\n",
            "515  0.870079  1\n",
            "516  0.000038  0\n",
            "517  0.012359  0\n",
            "518  0.780173  0\n",
            "519  0.847876  0\n",
            "520  0.655946  1\n",
            "521  0.006953  0\n",
            "522  0.007560  0\n",
            "523  0.956592  1\n",
            "524  0.020927  0\n",
            "525  0.561512  0\n",
            "526  0.510143  1\n",
            "527  0.048174  0\n",
            "528  0.625184  1\n",
            "529  0.430766  0\n",
            "530  0.071389  0\n",
            "531  0.040128  0\n",
            "532  0.035173  0\n",
            "533  0.580102  0\n",
            "534  0.092087  1\n",
            "535  0.761897  1\n",
            "536  0.173915  0\n",
            "537  0.090027  0\n",
            "538  0.121419  0\n",
            "539  0.002036  0\n",
            "540  0.000228  0\n",
            "541  0.266515  0\n",
            "542  0.139274  0\n",
            "543  0.014950  0\n",
            "544  0.850383  0\n",
            "545  0.190582  0\n",
            "546  0.740064  0\n",
            "547  0.013859  0\n",
            "548  0.815737  1\n",
            "549  0.047365  0\n",
            "550  0.001002  0\n",
            "551  0.044154  0\n",
            "552  0.437397  1\n",
            "553  0.292193  0\n",
            "554  0.465903  0\n",
            "555  0.943240  1\n",
            "556  0.062695  0\n",
            "557  0.661752  1\n",
            "558  0.530747  0\n",
            "559  0.024633  0\n",
            "560  0.391930  0\n",
            "561  0.913914  1\n",
            "562  0.917050  1\n",
            "563  0.694498  0\n",
            "564  0.520811  1\n",
            "565  0.070937  0\n",
            "566  0.916102  1\n",
            "567  0.884203  1\n",
            "568  0.000118  0\n",
            "569  0.893515  1\n",
            "570  0.843701  1\n",
            "571  0.501042  1\n",
            "572  0.000661  0\n",
            "573  0.158875  0\n",
            "574  0.931017  1\n",
            "575  0.735770  1\n",
            "576  0.782165  1\n",
            "577  0.836848  1\n",
            "578  0.000183  0\n",
            "579  0.026527  0\n",
            "580  0.279550  1\n",
            "581  0.353960  0\n"
          ]
        }
      ]
    },
    {
      "cell_type": "code",
      "metadata": {
        "colab": {
          "base_uri": "https://localhost:8080/"
        },
        "id": "7JDXmDj1UqKL",
        "outputId": "225d93c3-10c6-47ca-f3e6-3f97ab61aa44"
      },
      "source": [
        "print(k_dataset.iloc[752])\n",
        "print('Prediction:', y_hat[0])\n",
        "print(\"Reality:\", y_test.iloc[0])"
      ],
      "execution_count": 267,
      "outputs": [
        {
          "output_type": "stream",
          "name": "stdout",
          "text": [
            "Title                         Raising Helen (2004)\n",
            "Distributor    Walt Disney Studios Motion Pictures\n",
            "MPAA-Rating                                  PG-13\n",
            "Genres                        Comedy;Drama;Romance\n",
            "Name: 752, dtype: object\n",
            "Prediction: [0.77130514]\n",
            "Reality: 1\n"
          ]
        }
      ]
    },
    {
      "cell_type": "code",
      "metadata": {
        "colab": {
          "base_uri": "https://localhost:8080/",
          "height": 265
        },
        "id": "K0AaMHoTDbq8",
        "outputId": "38b1a23a-5c06-4ee9-fd56-c62b15bf5455"
      },
      "source": [
        "plt.hist(y_hat)\n",
        "_ = plt.axvline(x=0.5, color='orange')"
      ],
      "execution_count": 273,
      "outputs": [
        {
          "output_type": "display_data",
          "data": {
            "image/png": "[encoded data removed]",
            "text/plain": [
              "<Figure size 432x288 with 1 Axes>"
            ]
          },
          "metadata": {
            "needs_background": "light"
          }
        }
      ]
    },
    {
      "cell_type": "code",
      "metadata": {
        "colab": {
          "base_uri": "https://localhost:8080/"
        },
        "id": "yeuypB5jaQly",
        "outputId": "cb896eca-5828-459d-d59e-5170185c4d01"
      },
      "source": [
        "print(len(ydf[(ydf.y == 1) & (ydf.y_hat < 0.1)]))\n",
        "print(len(y_test))"
      ],
      "execution_count": 269,
      "outputs": [
        {
          "output_type": "stream",
          "name": "stdout",
          "text": [
            "3\n",
            "582\n"
          ]
        }
      ]
    },
    {
      "cell_type": "code",
      "metadata": {
        "colab": {
          "base_uri": "https://localhost:8080/"
        },
        "id": "UDgf_k5OFcKk",
        "outputId": "5887bdb3-6c6a-414d-9118-0bfb06184d35"
      },
      "source": [
        "ydf = pd.DataFrame(list(zip(float_y_hat, y_test)), columns=['y_hat', 'y'])\n",
        "with pd.option_context('display.max_rows', None, 'display.max_columns', None):\n",
        "    print(y_test)"
      ],
      "execution_count": 270,
      "outputs": [
        {
          "output_type": "stream",
          "name": "stdout",
          "text": [
            "393     1\n",
            "5091    1\n",
            "2638    0\n",
            "1002    0\n",
            "168     0\n",
            "5494    1\n",
            "800     0\n",
            "1732    1\n",
            "4532    1\n",
            "5381    0\n",
            "1599    0\n",
            "4037    0\n",
            "2775    0\n",
            "4398    1\n",
            "3968    0\n",
            "1032    1\n",
            "5781    0\n",
            "2705    0\n",
            "4270    0\n",
            "156     0\n",
            "1717    1\n",
            "1558    0\n",
            "1393    1\n",
            "1554    0\n",
            "3250    0\n",
            "4969    1\n",
            "2623    0\n",
            "4689    1\n",
            "4985    0\n",
            "1421    0\n",
            "4594    0\n",
            "1741    0\n",
            "2118    1\n",
            "2977    0\n",
            "4454    1\n",
            "4253    1\n",
            "3258    0\n",
            "5606    1\n",
            "3135    0\n",
            "1702    0\n",
            "3276    1\n",
            "1586    1\n",
            "2859    0\n",
            "3686    0\n",
            "4025    0\n",
            "308     0\n",
            "3678    0\n",
            "2584    0\n",
            "2098    1\n",
            "5090    0\n",
            "4484    0\n",
            "5589    0\n",
            "1438    0\n",
            "5002    0\n",
            "1694    1\n",
            "4560    0\n",
            "4653    0\n",
            "279     0\n",
            "4337    0\n",
            "5141    0\n",
            "2225    0\n",
            "4902    0\n",
            "2924    1\n",
            "3349    1\n",
            "3626    0\n",
            "3978    0\n",
            "3551    0\n",
            "2893    0\n",
            "5680    1\n",
            "4139    0\n",
            "4420    1\n",
            "408     0\n",
            "1397    0\n",
            "5485    1\n",
            "3669    1\n",
            "2805    0\n",
            "5367    0\n",
            "5528    0\n",
            "4113    0\n",
            "1101    0\n",
            "101     0\n",
            "5333    0\n",
            "3039    1\n",
            "4507    1\n",
            "808     0\n",
            "626     1\n",
            "2154    1\n",
            "3870    0\n",
            "3340    0\n",
            "2642    0\n",
            "2233    1\n",
            "4259    0\n",
            "233     1\n",
            "2380    1\n",
            "3063    0\n",
            "4645    0\n",
            "5099    1\n",
            "3409    0\n",
            "2531    0\n",
            "3698    0\n",
            "3523    0\n",
            "4691    0\n",
            "896     0\n",
            "544     0\n",
            "319     0\n",
            "132     0\n",
            "2486    1\n",
            "5542    0\n",
            "1609    0\n",
            "2518    1\n",
            "2275    0\n",
            "5662    0\n",
            "1876    1\n",
            "2792    1\n",
            "5529    1\n",
            "2707    1\n",
            "3754    0\n",
            "2409    0\n",
            "3074    0\n",
            "742     0\n",
            "5171    0\n",
            "1835    0\n",
            "2226    0\n",
            "1919    0\n",
            "5154    0\n",
            "2002    0\n",
            "3690    1\n",
            "751     0\n",
            "1844    0\n",
            "889     1\n",
            "5751    0\n",
            "4760    1\n",
            "1362    1\n",
            "598     0\n",
            "3326    0\n",
            "410     0\n",
            "1199    0\n",
            "4463    0\n",
            "3542    0\n",
            "1498    0\n",
            "239     0\n",
            "1025    0\n",
            "157     0\n",
            "877     0\n",
            "3545    0\n",
            "4559    0\n",
            "2913    0\n",
            "5659    1\n",
            "3862    0\n",
            "3001    0\n",
            "4741    0\n",
            "1419    0\n",
            "199     0\n",
            "2271    1\n",
            "1580    0\n",
            "5118    0\n",
            "5432    0\n",
            "611     1\n",
            "80      0\n",
            "263     1\n",
            "4091    1\n",
            "2835    0\n",
            "4183    1\n",
            "5038    0\n",
            "4959    0\n",
            "2364    1\n",
            "3240    0\n",
            "3727    1\n",
            "2655    0\n",
            "3109    1\n",
            "177     0\n",
            "1186    1\n",
            "3125    0\n",
            "1818    1\n",
            "2031    0\n",
            "4245    1\n",
            "5230    1\n",
            "2329    0\n",
            "4917    1\n",
            "3725    1\n",
            "1871    0\n",
            "221     1\n",
            "4825    1\n",
            "1921    1\n",
            "2373    1\n",
            "5741    0\n",
            "2498    0\n",
            "3917    0\n",
            "2671    1\n",
            "1020    0\n",
            "811     0\n",
            "3322    0\n",
            "23      0\n",
            "1770    0\n",
            "926     0\n",
            "2997    0\n",
            "3904    1\n",
            "351     0\n",
            "1042    0\n",
            "14      0\n",
            "4323    0\n",
            "2080    0\n",
            "4288    0\n",
            "1983    0\n",
            "1144    0\n",
            "589     0\n",
            "2484    1\n",
            "3014    0\n",
            "1755    0\n",
            "346     0\n",
            "4841    1\n",
            "1370    0\n",
            "1612    0\n",
            "1183    0\n",
            "4757    0\n",
            "1893    1\n",
            "5498    1\n",
            "2877    1\n",
            "1268    0\n",
            "3309    1\n",
            "2619    0\n",
            "3721    1\n",
            "1039    1\n",
            "167     0\n",
            "3910    0\n",
            "65      0\n",
            "3708    1\n",
            "4712    0\n",
            "5042    1\n",
            "5796    0\n",
            "79      0\n",
            "2721    1\n",
            "5124    1\n",
            "2641    0\n",
            "5689    1\n",
            "4553    0\n",
            "3580    0\n",
            "4751    0\n",
            "2954    0\n",
            "5283    0\n",
            "3796    0\n",
            "426     1\n",
            "2422    0\n",
            "3044    0\n",
            "3926    0\n",
            "4649    0\n",
            "1879    0\n",
            "764     0\n",
            "2985    0\n",
            "3035    0\n",
            "1536    1\n",
            "5400    0\n",
            "4739    0\n",
            "3209    1\n",
            "2963    0\n",
            "2589    0\n",
            "4753    1\n",
            "3024    1\n",
            "2552    0\n",
            "181     1\n",
            "373     0\n",
            "1973    0\n",
            "4602    0\n",
            "506     0\n",
            "553     1\n",
            "2549    0\n",
            "259     1\n",
            "501     1\n",
            "4617    1\n",
            "4058    0\n",
            "3946    0\n",
            "4586    1\n",
            "783     0\n",
            "2312    0\n",
            "3700    1\n",
            "4128    0\n",
            "1862    0\n",
            "3208    0\n",
            "3880    0\n",
            "3404    0\n",
            "15      0\n",
            "1049    0\n",
            "1892    0\n",
            "2680    1\n",
            "4826    1\n",
            "683     1\n",
            "5310    0\n",
            "4734    0\n",
            "2414    0\n",
            "465     1\n",
            "4939    1\n",
            "2873    0\n",
            "4458    0\n",
            "2592    1\n",
            "2526    0\n",
            "1477    0\n",
            "4446    1\n",
            "2436    0\n",
            "696     0\n",
            "4727    0\n",
            "3133    1\n",
            "1918    1\n",
            "4410    0\n",
            "4006    1\n",
            "1075    1\n",
            "5555    1\n",
            "2826    0\n",
            "4072    0\n",
            "1962    1\n",
            "3193    0\n",
            "8       0\n",
            "2571    1\n",
            "3313    1\n",
            "5416    1\n",
            "5518    0\n",
            "2333    0\n",
            "230     1\n",
            "4641    0\n",
            "5125    0\n",
            "1057    0\n",
            "2615    0\n",
            "3628    1\n",
            "33      0\n",
            "4182    0\n",
            "44      0\n",
            "2232    1\n",
            "3570    0\n",
            "1820    0\n",
            "3720    0\n",
            "5444    1\n",
            "1520    0\n",
            "325     1\n",
            "2313    0\n",
            "2509    0\n",
            "3443    0\n",
            "4315    0\n",
            "4603    0\n",
            "2456    1\n",
            "401     1\n",
            "2481    1\n",
            "2451    0\n",
            "3770    1\n",
            "712     0\n",
            "3707    0\n",
            "4328    0\n",
            "4676    0\n",
            "4677    0\n",
            "5792    1\n",
            "4878    0\n",
            "5458    0\n",
            "2063    0\n",
            "3883    0\n",
            "3221    0\n",
            "5007    1\n",
            "2656    0\n",
            "2115    0\n",
            "2024    0\n",
            "1302    1\n",
            "586     0\n",
            "3164    0\n",
            "324     1\n",
            "5532    1\n",
            "1992    1\n",
            "3692    0\n",
            "5670    1\n",
            "3603    1\n",
            "3620    1\n",
            "2405    0\n",
            "4725    1\n",
            "3599    0\n",
            "2094    1\n",
            "4461    1\n",
            "2574    1\n",
            "3745    1\n",
            "576     0\n",
            "4204    1\n",
            "2173    0\n",
            "3886    1\n",
            "3578    0\n",
            "655     0\n",
            "1281    1\n",
            "1543    1\n",
            "881     0\n",
            "534     0\n",
            "3898    0\n",
            "1175    1\n",
            "2910    1\n",
            "2440    1\n",
            "5253    1\n",
            "4790    1\n",
            "2228    0\n",
            "4099    0\n",
            "4932    1\n",
            "240     0\n",
            "5762    0\n",
            "1323    0\n",
            "1744    1\n",
            "297     0\n",
            "4521    0\n",
            "3655    0\n",
            "3333    1\n",
            "63      1\n",
            "3107    0\n",
            "5745    0\n",
            "3612    0\n",
            "4597    1\n",
            "4510    0\n",
            "4275    0\n",
            "84      0\n",
            "3094    0\n",
            "3909    0\n",
            "3857    0\n",
            "1193    0\n",
            "4897    0\n",
            "1287    1\n",
            "538     0\n",
            "333     1\n",
            "1315    1\n",
            "1121    0\n",
            "1699    0\n",
            "805     0\n",
            "3841    0\n",
            "4623    1\n",
            "4584    0\n",
            "1425    0\n",
            "4552    0\n",
            "247     0\n",
            "1657    0\n",
            "3403    1\n",
            "2758    1\n",
            "3102    1\n",
            "5798    1\n",
            "2210    1\n",
            "371     1\n",
            "5083    1\n",
            "2765    0\n",
            "1487    0\n",
            "4222    1\n",
            "4967    0\n",
            "3127    0\n",
            "2304    1\n",
            "4308    1\n",
            "3836    0\n",
            "2177    1\n",
            "3768    1\n",
            "5332    0\n",
            "2144    1\n",
            "2714    1\n",
            "2223    1\n",
            "2495    0\n",
            "315     1\n",
            "3733    0\n",
            "4049    0\n",
            "1328    1\n",
            "1730    1\n",
            "1513    0\n",
            "1209    0\n",
            "149     0\n",
            "1095    0\n",
            "599     1\n",
            "290     1\n",
            "453     1\n",
            "4240    0\n",
            "4791    0\n",
            "5075    1\n",
            "296     1\n",
            "4724    0\n",
            "3034    1\n",
            "5568    0\n",
            "530     1\n",
            "893     0\n",
            "2303    0\n",
            "2104    1\n",
            "5812    0\n",
            "3955    0\n",
            "1488    0\n",
            "763     1\n",
            "1561    1\n",
            "1817    0\n",
            "5773    1\n",
            "747     0\n",
            "2299    0\n",
            "1670    0\n",
            "1611    0\n",
            "4901    0\n",
            "4096    0\n",
            "4812    1\n",
            "2276    0\n",
            "2820    0\n",
            "561     0\n",
            "3631    0\n",
            "3773    0\n",
            "1220    0\n",
            "4868    1\n",
            "2664    1\n",
            "4923    1\n",
            "3247    0\n",
            "4538    0\n",
            "1504    0\n",
            "439     1\n",
            "654     1\n",
            "3839    0\n",
            "3801    1\n",
            "5003    1\n",
            "3442    0\n",
            "381     0\n",
            "5013    0\n",
            "3246    0\n",
            "748     0\n",
            "422     0\n",
            "4486    0\n",
            "3858    1\n",
            "1094    1\n",
            "1168    0\n",
            "3753    1\n",
            "3112    1\n",
            "124     0\n",
            "102     0\n",
            "1406    0\n",
            "3332    0\n",
            "4556    1\n",
            "794     0\n",
            "4666    0\n",
            "1176    1\n",
            "135     0\n",
            "4618    0\n",
            "1295    1\n",
            "5297    0\n",
            "1666    1\n",
            "2263    0\n",
            "3433    0\n",
            "4384    0\n",
            "994     0\n",
            "5420    0\n",
            "2770    1\n",
            "978     1\n",
            "3945    0\n",
            "5184    0\n",
            "705     0\n",
            "3755    0\n",
            "1033    0\n",
            "4003    0\n",
            "1084    0\n",
            "969     0\n",
            "380     0\n",
            "3808    0\n",
            "1261    0\n",
            "5251    0\n",
            "121     1\n",
            "5163    0\n",
            "4881    0\n",
            "418     0\n",
            "2114    1\n",
            "1128    0\n",
            "2316    0\n",
            "787     1\n",
            "810     0\n",
            "3624    1\n",
            "4329    0\n",
            "248     0\n",
            "5607    0\n",
            "3780    1\n",
            "447     1\n",
            "5622    0\n",
            "5065    1\n",
            "622     0\n",
            "2522    1\n",
            "3694    1\n",
            "3184    0\n",
            "755     1\n",
            "1514    1\n",
            "2577    1\n",
            "414     0\n",
            "3985    0\n",
            "1507    1\n",
            "1194    1\n",
            "1480    1\n",
            "2887    1\n",
            "3167    0\n",
            "1044    0\n",
            "2715    1\n",
            "3951    0\n",
            "Name: age rate, dtype: int64\n"
          ]
        }
      ]
    },
    {
      "cell_type": "code",
      "metadata": {
        "colab": {
          "base_uri": "https://localhost:8080/"
        },
        "id": "UFFa4UZgbjr4",
        "outputId": "cfe55dcc-4a8c-4bcb-d605-bb86086b5a86"
      },
      "source": [
        "print(ydf[(ydf.y == 1) & (ydf.y_hat < 0.1)])"
      ],
      "execution_count": 271,
      "outputs": [
        {
          "output_type": "stream",
          "name": "stdout",
          "text": [
            "        y_hat  y\n",
            "106  0.089020  1\n",
            "392  0.005933  1\n",
            "534  0.092087  1\n"
          ]
        }
      ]
    },
    {
      "cell_type": "code",
      "metadata": {
        "colab": {
          "base_uri": "https://localhost:8080/"
        },
        "id": "bsDgOShEbHKW",
        "outputId": "7e832802-a08f-496e-c129-4081acdb1830"
      },
      "source": [
        "print(ydf[(ydf.y == 0) & (ydf.y_hat > 0.9)])\n",
        "print(len(y_test))"
      ],
      "execution_count": 272,
      "outputs": [
        {
          "output_type": "stream",
          "name": "stdout",
          "text": [
            "        y_hat  y\n",
            "46   0.968227  0\n",
            "462  0.959825  0\n",
            "482  0.924885  0\n",
            "582\n"
          ]
        }
      ]
    },
    {
      "cell_type": "code",
      "metadata": {
        "colab": {
          "base_uri": "https://localhost:8080/"
        },
        "id": "if3-Tp4xqIQ5",
        "outputId": "2309c450-407b-46e4-96ec-d5e7bd0c7151"
      },
      "source": [
        "print(X_test)"
      ],
      "execution_count": 275,
      "outputs": [
        {
          "output_type": "stream",
          "name": "stdout",
          "text": [
            "[[ 0  0  0 ... 14 12  4]\n",
            " [ 0  0  0 ...  1 25  7]\n",
            " [ 0  0  0 ...  2 11 10]\n",
            " ...\n",
            " [ 0  0  0 ...  2  1  7]\n",
            " [ 0  0  0 ...  2  1  7]\n",
            " [ 0  0  0 ...  2  8  4]]\n"
          ]
        }
      ]
    },
    {
      "cell_type": "code",
      "metadata": {
        "colab": {
          "base_uri": "https://localhost:8080/"
        },
        "id": "SlyvAwGtqXsn",
        "outputId": "373416a5-e01f-45b6-9a55-a9a5fb958f30"
      },
      "source": [
        "test_l = []\n",
        "num = int(input('Input number of movie: '))\n",
        "print(\"This is your movie: \", df['Name of movie'][num],\",\",df['Genre'][num] )\n",
        "test_l.extend(df['Name of movie'][num].lower().replace(':','').split(' '))\n",
        "test_l.extend(df['Genre'][num].replace(' ','').lower().split(','))\n",
        "#test_l.extend(df['Description'][num].lower().replace(':','').replace('.','').replace(',','').split(' '))\n",
        "for i in test_l:\n",
        "  if i in stpwrds:\n",
        "    test_l.remove(i)\n",
        "test_l= [stemmer.stem(w) for w in test_l]\n",
        "print(test_l)\n",
        "\n",
        "t.fit_on_texts([test_l])\n",
        "info_sequences = t.texts_to_sequences([test_l])\n",
        "info_sequences = tf.keras.preprocessing.sequence.pad_sequences(info_sequences, maxlen=maxlen)\n",
        "info_sequences = np.where(info_sequences > 3049, 0, info_sequences)\n",
        "print(info_sequences)\n",
        "y_try = model.predict(info_sequences)\n",
        "print(y_try)\n",
        "print(df['Age rate'][num])"
      ],
      "execution_count": 341,
      "outputs": [
        {
          "output_type": "stream",
          "name": "stdout",
          "text": [
            "Input number of movie: 44\n",
            "This is your movie:  A Clockwork Orange , Crime, Drama, Sci-Fi            \n",
            "['clockwork', 'orang', 'crime', 'drama', 'sci-fi']\n",
            "[[  0   0   0   0   0   0   0   0   0   0   0   0   0   0   0 838 532   8\n",
            "    1  12]]\n",
            "[[0.81011486]]\n",
            "R\n"
          ]
        }
      ]
    },
    {
      "cell_type": "markdown",
      "metadata": {
        "id": "hfGhSKfDdVeg"
      },
      "source": [
        "# Load/Save Model"
      ]
    },
    {
      "cell_type": "code",
      "metadata": {
        "id": "uIl2JVXOdcTm",
        "colab": {
          "base_uri": "https://localhost:8080/"
        },
        "outputId": "af15797b-41c7-433e-fab3-744b7a97c6cc"
      },
      "source": [
        "model.save(output_dir+'/model_v006_2datasets+higher_accuracy')"
      ],
      "execution_count": 274,
      "outputs": [
        {
          "output_type": "stream",
          "name": "stdout",
          "text": [
            "INFO:tensorflow:Assets written to: model_output/dense/model_v006_2datasets+higher_accuracy/assets\n"
          ]
        }
      ]
    }
  ]
}