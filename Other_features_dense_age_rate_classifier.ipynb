{
  "nbformat": 4,
  "nbformat_minor": 0,
  "metadata": {
    "colab": {
      "name": "Other_features_dense_age_rate_classifier.ipynb",
      "provenance": [],
      "authorship_tag": "ABX9TyMPJ6/0XzEFCm0XiVxRUBPw",
      "include_colab_link": true
    },
    "kernelspec": {
      "display_name": "Python 3",
      "name": "python3"
    },
    "language_info": {
      "name": "python"
    }
  },
  "cells": [
    {
      "cell_type": "markdown",
      "metadata": {
        "id": "view-in-github",
        "colab_type": "text"
      },
      "source": [
        "<a href=\"https://colab.research.google.com/github/Teasotea/Age-Rate-Classifier-NLP/blob/main/Other_features_dense_age_rate_classifier.ipynb\" target=\"_parent\"><img src=\"https://colab.research.google.com/assets/colab-badge.svg\" alt=\"Open In Colab\"/></a>"
      ]
    },
    {
      "cell_type": "markdown",
      "metadata": {
        "id": "485oDNWzjubB"
      },
      "source": [
        "\n",
        "# Dense Age Rate Classifier\n",
        "\n"
      ]
    },
    {
      "cell_type": "markdown",
      "metadata": {
        "id": "z59FxAtZkASY"
      },
      "source": [
        "###TODO: Build a dense neural net to classify  movies by their age rate."
      ]
    },
    {
      "cell_type": "code",
      "metadata": {
        "colab": {
          "base_uri": "https://localhost:8080/"
        },
        "id": "hw2_zx9T9l9v",
        "outputId": "bc92034d-43d0-43cd-fa3b-4b670d5f7f15"
      },
      "source": [
        "pip install geotext\n"
      ],
      "execution_count": null,
      "outputs": [
        {
          "output_type": "stream",
          "name": "stdout",
          "text": [
            "Requirement already satisfied: geotext in /usr/local/lib/python3.7/dist-packages (0.4.0)\n"
          ]
        }
      ]
    },
    {
      "cell_type": "code",
      "metadata": {
        "colab": {
          "base_uri": "https://localhost:8080/"
        },
        "id": "xcSGqEOSCfGG",
        "outputId": "7d425fe7-038c-4200-b8c5-bd7ac07787c0"
      },
      "source": [
        "! pip install kaggle"
      ],
      "execution_count": null,
      "outputs": [
        {
          "output_type": "stream",
          "name": "stdout",
          "text": [
            "Requirement already satisfied: kaggle in /usr/local/lib/python3.7/dist-packages (1.5.12)\n",
            "Requirement already satisfied: python-slugify in /usr/local/lib/python3.7/dist-packages (from kaggle) (5.0.2)\n",
            "Requirement already satisfied: six>=1.10 in /usr/local/lib/python3.7/dist-packages (from kaggle) (1.15.0)\n",
            "Requirement already satisfied: certifi in /usr/local/lib/python3.7/dist-packages (from kaggle) (2021.10.8)\n",
            "Requirement already satisfied: urllib3 in /usr/local/lib/python3.7/dist-packages (from kaggle) (1.24.3)\n",
            "Requirement already satisfied: python-dateutil in /usr/local/lib/python3.7/dist-packages (from kaggle) (2.8.2)\n",
            "Requirement already satisfied: requests in /usr/local/lib/python3.7/dist-packages (from kaggle) (2.23.0)\n",
            "Requirement already satisfied: tqdm in /usr/local/lib/python3.7/dist-packages (from kaggle) (4.62.3)\n",
            "Requirement already satisfied: text-unidecode>=1.3 in /usr/local/lib/python3.7/dist-packages (from python-slugify->kaggle) (1.3)\n",
            "Requirement already satisfied: idna<3,>=2.5 in /usr/local/lib/python3.7/dist-packages (from requests->kaggle) (2.10)\n",
            "Requirement already satisfied: chardet<4,>=3.0.2 in /usr/local/lib/python3.7/dist-packages (from requests->kaggle) (3.0.4)\n"
          ]
        }
      ]
    },
    {
      "cell_type": "code",
      "metadata": {
        "id": "NUuNJKXYCluo"
      },
      "source": [
        "! mkdir ~/.kaggle"
      ],
      "execution_count": null,
      "outputs": []
    },
    {
      "cell_type": "code",
      "metadata": {
        "id": "Ij_0JzBRCoGG"
      },
      "source": [
        "! cp kaggle.json ~/.kaggle/\n",
        "! chmod 600 ~/.kaggle/kaggle.json"
      ],
      "execution_count": null,
      "outputs": []
    },
    {
      "cell_type": "code",
      "metadata": {
        "id": "xBKFQo6YkOtX",
        "colab": {
          "base_uri": "https://localhost:8080/"
        },
        "outputId": "faea8284-c8e2-4d90-a17b-e088d85bd56c"
      },
      "source": [
        "import os\n",
        "import io\n",
        "import json\n",
        "\n",
        "import tensorflow as tf\n",
        "import numpy as np\n",
        "import pandas as pd\n",
        "import matplotlib.pyplot as plt\n",
        "\n",
        "from sklearn import model_selection\n",
        "from sklearn.preprocessing import LabelEncoder \n",
        "from sklearn.model_selection import train_test_split\n",
        "from sklearn.metrics import roc_auc_score, roc_curve\n",
        "from tensorflow.keras.preprocessing.sequence import pad_sequences \n",
        "from tensorflow.keras.models import Sequential\n",
        "from tensorflow.keras.layers import Dense, Flatten, Dropout\n",
        "from tensorflow.keras.layers import Embedding \n",
        "from tensorflow.keras.callbacks import ModelCheckpoint\n",
        "from keras.preprocessing.text import Tokenizer\n",
        "\n",
        "import nltk\n",
        "from nltk import word_tokenize, sent_tokenize\n",
        "from nltk.corpus import names\n",
        "from nltk.corpus import stopwords\n",
        "from nltk.stem.porter import *\n",
        "nltk.download('punkt')\n",
        "nltk.download('stopwords')\n",
        "nltk.download('names')\n",
        "from geotext import GeoText\n",
        "import string"
      ],
      "execution_count": null,
      "outputs": [
        {
          "output_type": "stream",
          "name": "stdout",
          "text": [
            "[nltk_data] Downloading package punkt to /root/nltk_data...\n",
            "[nltk_data]   Package punkt is already up-to-date!\n",
            "[nltk_data] Downloading package stopwords to /root/nltk_data...\n",
            "[nltk_data]   Package stopwords is already up-to-date!\n",
            "[nltk_data] Downloading package names to /root/nltk_data...\n",
            "[nltk_data]   Package names is already up-to-date!\n"
          ]
        }
      ]
    },
    {
      "cell_type": "code",
      "metadata": {
        "id": "RVXfsqYrDRLQ"
      },
      "source": [
        ""
      ],
      "execution_count": null,
      "outputs": []
    },
    {
      "cell_type": "markdown",
      "metadata": {
        "id": "MDfwdZ8vQ44b"
      },
      "source": [
        "#Load Data"
      ]
    },
    {
      "cell_type": "code",
      "metadata": {
        "colab": {
          "base_uri": "https://localhost:8080/",
          "height": 310
        },
        "id": "8oc0x2qrpMa9",
        "outputId": "38be37a2-dac4-4649-8a5a-23da4505a9fe"
      },
      "source": [
        "dataset_url = 'https://raw.githubusercontent.com/Teasotea/Age-Rate-Classifier-NLP/main/IMDB_data.csv'\n",
        "df = pd.read_csv(dataset_url)\n",
        "df.head()"
      ],
      "execution_count": null,
      "outputs": [
        {
          "output_type": "execute_result",
          "data": {
            "text/html": [
              "<div>\n",
              "<style scoped>\n",
              "    .dataframe tbody tr th:only-of-type {\n",
              "        vertical-align: middle;\n",
              "    }\n",
              "\n",
              "    .dataframe tbody tr th {\n",
              "        vertical-align: top;\n",
              "    }\n",
              "\n",
              "    .dataframe thead th {\n",
              "        text-align: right;\n",
              "    }\n",
              "</style>\n",
              "<table border=\"1\" class=\"dataframe\">\n",
              "  <thead>\n",
              "    <tr style=\"text-align: right;\">\n",
              "      <th></th>\n",
              "      <th>Unnamed: 0</th>\n",
              "      <th>Name of movie</th>\n",
              "      <th>Description</th>\n",
              "      <th>Age rate</th>\n",
              "      <th>Year</th>\n",
              "      <th>Runtime</th>\n",
              "      <th>Genre</th>\n",
              "    </tr>\n",
              "  </thead>\n",
              "  <tbody>\n",
              "    <tr>\n",
              "      <th>0</th>\n",
              "      <td>0</td>\n",
              "      <td>The Shawshank Redemption</td>\n",
              "      <td>Two imprisoned men bond over a number of years...</td>\n",
              "      <td>R</td>\n",
              "      <td>1994</td>\n",
              "      <td>142</td>\n",
              "      <td>Drama</td>\n",
              "    </tr>\n",
              "    <tr>\n",
              "      <th>1</th>\n",
              "      <td>1</td>\n",
              "      <td>The Godfather</td>\n",
              "      <td>The Godfather follows Vito Corleone Don of the...</td>\n",
              "      <td>R</td>\n",
              "      <td>1972</td>\n",
              "      <td>175</td>\n",
              "      <td>Crime, Drama</td>\n",
              "    </tr>\n",
              "    <tr>\n",
              "      <th>2</th>\n",
              "      <td>2</td>\n",
              "      <td>Pulp Fiction</td>\n",
              "      <td>The lives of two mob hitmen, a boxer, a gangst...</td>\n",
              "      <td>R</td>\n",
              "      <td>1994</td>\n",
              "      <td>154</td>\n",
              "      <td>Crime, Drama</td>\n",
              "    </tr>\n",
              "    <tr>\n",
              "      <th>3</th>\n",
              "      <td>3</td>\n",
              "      <td>The Godfather: Part II</td>\n",
              "      <td>The early life and career of Vito Corleone in ...</td>\n",
              "      <td>R</td>\n",
              "      <td>1974</td>\n",
              "      <td>202</td>\n",
              "      <td>Crime, Drama</td>\n",
              "    </tr>\n",
              "    <tr>\n",
              "      <th>4</th>\n",
              "      <td>4</td>\n",
              "      <td>Inception</td>\n",
              "      <td>A thief who steals corporate secrets through t...</td>\n",
              "      <td>PG-13</td>\n",
              "      <td>2010</td>\n",
              "      <td>148</td>\n",
              "      <td>Action, Adventure, Sci-Fi</td>\n",
              "    </tr>\n",
              "  </tbody>\n",
              "</table>\n",
              "</div>"
            ],
            "text/plain": [
              "   Unnamed: 0  ...                                  Genre\n",
              "0           0  ...                      Drama            \n",
              "1           1  ...               Crime, Drama            \n",
              "2           2  ...               Crime, Drama            \n",
              "3           3  ...               Crime, Drama            \n",
              "4           4  ...  Action, Adventure, Sci-Fi            \n",
              "\n",
              "[5 rows x 7 columns]"
            ]
          },
          "metadata": {},
          "execution_count": 307
        }
      ]
    },
    {
      "cell_type": "code",
      "metadata": {
        "id": "3N2DvPw3Nu5c",
        "colab": {
          "base_uri": "https://localhost:8080/"
        },
        "outputId": "b6859af4-a315-4bdf-8744-8ce684ec98ef"
      },
      "source": [
        "is_r = list()\n",
        "for i in df['Age rate']:\n",
        "  if i=='R': is_r.append(1)\n",
        "  else: is_r.append(0)\n",
        "print(is_r.count(0), \":\", is_r.count(1))"
      ],
      "execution_count": null,
      "outputs": [
        {
          "output_type": "stream",
          "name": "stdout",
          "text": [
            "447 : 338\n"
          ]
        }
      ]
    },
    {
      "cell_type": "markdown",
      "metadata": {
        "id": "s8VfG4JtAU2Y"
      },
      "source": [
        "#Load data2"
      ]
    },
    {
      "cell_type": "code",
      "metadata": {
        "colab": {
          "base_uri": "https://localhost:8080/"
        },
        "id": "X_rBLNPeC6KE",
        "outputId": "cf6f7b2b-3f94-4a94-9bc8-1340f3ffa83f"
      },
      "source": [
        "! kaggle datasets download lukelarue/movie-attributes-for-3400-movies-from-20002020\n",
        "! unzip movie-attributes-for-3400-movies-from-20002020.zip"
      ],
      "execution_count": null,
      "outputs": [
        {
          "output_type": "stream",
          "name": "stdout",
          "text": [
            "movie-attributes-for-3400-movies-from-20002020.zip: Skipping, found more recently modified local copy (use --force to force download)\n",
            "Archive:  movie-attributes-for-3400-movies-from-20002020.zip\n",
            "  inflating: Attributes_DataFrame.csv  \n",
            "  inflating: Daily_DataFrame.csv     \n"
          ]
        }
      ]
    },
    {
      "cell_type": "code",
      "metadata": {
        "colab": {
          "base_uri": "https://localhost:8080/",
          "height": 276
        },
        "id": "MjqucnFPDd35",
        "outputId": "312039e7-a974-4650-a292-1145a6ec7a6c"
      },
      "source": [
        "kaggle_df = pd.read_csv(\"Attributes_DataFrame.csv\")\n",
        "k_dataset = kaggle_df.drop(['Domestic','International', 'Budget'], axis=1)\n",
        "k_dataset.head()"
      ],
      "execution_count": null,
      "outputs": [
        {
          "output_type": "execute_result",
          "data": {
            "text/html": [
              "<div>\n",
              "<style scoped>\n",
              "    .dataframe tbody tr th:only-of-type {\n",
              "        vertical-align: middle;\n",
              "    }\n",
              "\n",
              "    .dataframe tbody tr th {\n",
              "        vertical-align: top;\n",
              "    }\n",
              "\n",
              "    .dataframe thead th {\n",
              "        text-align: right;\n",
              "    }\n",
              "</style>\n",
              "<table border=\"1\" class=\"dataframe\">\n",
              "  <thead>\n",
              "    <tr style=\"text-align: right;\">\n",
              "      <th></th>\n",
              "      <th>Title</th>\n",
              "      <th>Distributor</th>\n",
              "      <th>MPAA-Rating</th>\n",
              "      <th>Runtime</th>\n",
              "      <th>Genres</th>\n",
              "    </tr>\n",
              "  </thead>\n",
              "  <tbody>\n",
              "    <tr>\n",
              "      <th>0</th>\n",
              "      <td>Jurassic World (2015)</td>\n",
              "      <td>Universal Pictures</td>\n",
              "      <td>PG-13</td>\n",
              "      <td>124</td>\n",
              "      <td>Action;Adventure;Sci-Fi</td>\n",
              "    </tr>\n",
              "    <tr>\n",
              "      <th>1</th>\n",
              "      <td>Star Wars: Episode VII - The Force Awakens (2015)</td>\n",
              "      <td>Walt Disney Studios Motion Pictures</td>\n",
              "      <td>PG-13</td>\n",
              "      <td>138</td>\n",
              "      <td>Action;Adventure;Sci-Fi</td>\n",
              "    </tr>\n",
              "    <tr>\n",
              "      <th>2</th>\n",
              "      <td>Avengers: Age of Ultron (2015)</td>\n",
              "      <td>Walt Disney Studios Motion Pictures</td>\n",
              "      <td>PG-13</td>\n",
              "      <td>141</td>\n",
              "      <td>Action;Adventure;Sci-Fi</td>\n",
              "    </tr>\n",
              "    <tr>\n",
              "      <th>3</th>\n",
              "      <td>Inside Out (2015)</td>\n",
              "      <td>Walt Disney Studios Motion Pictures</td>\n",
              "      <td>PG</td>\n",
              "      <td>95</td>\n",
              "      <td>Adventure;Animation;Comedy;Drama;Family;Fantasy</td>\n",
              "    </tr>\n",
              "    <tr>\n",
              "      <th>4</th>\n",
              "      <td>Furious 7 (2015)</td>\n",
              "      <td>Universal Pictures</td>\n",
              "      <td>PG-13</td>\n",
              "      <td>137</td>\n",
              "      <td>Action;Adventure;Thriller</td>\n",
              "    </tr>\n",
              "  </tbody>\n",
              "</table>\n",
              "</div>"
            ],
            "text/plain": [
              "                                               Title  ...                                           Genres\n",
              "0                              Jurassic World (2015)  ...                          Action;Adventure;Sci-Fi\n",
              "1  Star Wars: Episode VII - The Force Awakens (2015)  ...                          Action;Adventure;Sci-Fi\n",
              "2                     Avengers: Age of Ultron (2015)  ...                          Action;Adventure;Sci-Fi\n",
              "3                                  Inside Out (2015)  ...  Adventure;Animation;Comedy;Drama;Family;Fantasy\n",
              "4                                   Furious 7 (2015)  ...                        Action;Adventure;Thriller\n",
              "\n",
              "[5 rows x 5 columns]"
            ]
          },
          "metadata": {},
          "execution_count": 361
        }
      ]
    },
    {
      "cell_type": "markdown",
      "metadata": {
        "id": "-QD5YsB8iA9z"
      },
      "source": [
        "#Remove stopwords and punctuation"
      ]
    },
    {
      "cell_type": "code",
      "metadata": {
        "colab": {
          "base_uri": "https://localhost:8080/"
        },
        "id": "XoK-5CUgREhw",
        "outputId": "4f6fde54-56e0-4ac8-ed48-5ae653fba8a9"
      },
      "source": [
        "#define stop words: english stop words, numbers, male and female names\n",
        "numbers = ['one', 'two', 'three', 'four', 'five', 'six', 'seven', 'eight', 'nine', 'ten', 'eleven', 'twelve', \t'thirteen', 'fourteen', 'fifteen', \n",
        "'sixteen', 'seventeen', 'eighteen', 'nineteen', 'twenty', 'thirty', 'forty', 'fifty', 'sixty', 'seventy', 'eighty', 'ninety', 'hundred']\n",
        "stpwrds = stopwords.words('english') + [i.lower() for i in names.words('male.txt') + names.words('female.txt')] + numbers\n",
        "data = [n.lower() for n in df['Name of movie']]\n",
        "for i in range(len(data)):\n",
        "  data[i] += \" \" + df['Description'][i].lower()\n",
        "data2 = []\n",
        "\n",
        "#remove city names from description\n",
        "for i in range(len(df['Name of movie'])):\n",
        "  places = GeoText(df['Name of movie'][i])\n",
        "  if places.cities != []:\n",
        "    for j in places.cities:\n",
        "      data[i] = data[i].replace(j.lower(), '')\n",
        "\n",
        "\n",
        "for i in data:\n",
        "  #remove punctuation and split\n",
        "  tr= str.maketrans(dict.fromkeys(string.punctuation))\n",
        "  new_i = i.translate(tr)\n",
        "  descr = new_i.split(sep=' ')\n",
        "\n",
        "  #remove stop words or numbers\n",
        "  for k in range(10):\n",
        "    for j in descr:\n",
        "      if j in stpwrds or j!= '' and j[0].isdigit():\n",
        "        descr.remove(j)\n",
        "    if \"\" in descr:\n",
        "      descr.remove(\"\")\n",
        "  data2.append(descr)\n",
        "\n",
        "print(df['Name of movie'][348], \": \",df['Description'][348] )\n",
        "print(data2[348])\n"
      ],
      "execution_count": null,
      "outputs": [
        {
          "output_type": "stream",
          "name": "stdout",
          "text": [
            "The Hitchhiker's Guide to the Galaxy :  Mere seconds before the Earth is to be demolished by an alien construction crew, journeyman Arthur Dent is swept off the planet by his friend Ford Prefect, a researcher penning a new edition of \"The Hitchhiker's Guide to the Galaxy.\"\n",
            "['hitchhikers', 'guide', 'galaxy', 'mere', 'seconds', 'earth', 'demolished', 'alien', 'construction', 'crew', 'journeyman', 'dent', 'swept', 'planet', 'friend', 'prefect', 'researcher', 'penning', 'new', 'edition', 'hitchhikers', 'guide', 'galaxy']\n"
          ]
        }
      ]
    },
    {
      "cell_type": "markdown",
      "metadata": {
        "id": "AKAQGDnmOLWi"
      },
      "source": [
        "#Stem words"
      ]
    },
    {
      "cell_type": "code",
      "metadata": {
        "colab": {
          "base_uri": "https://localhost:8080/"
        },
        "id": "f-Q54L9z8DxN",
        "outputId": "81542148-fe18-461f-dae0-996f6c5b61fa"
      },
      "source": [
        "stemmer = PorterStemmer()\n",
        "for i in range(len(data2)):\n",
        "  data2[i] = [stemmer.stem(w.lower()) for w in data2[i]]\n",
        "print(data2[3])"
      ],
      "execution_count": null,
      "outputs": [
        {
          "output_type": "stream",
          "name": "stdout",
          "text": [
            "['godfath', 'part', 'ii', 'earli', 'life', 'career', 'corleon', 'new', 'york', 'citi', 'portray', 'expand', 'tighten', 'grip', 'famili', 'crime', 'syndic']\n"
          ]
        }
      ]
    },
    {
      "cell_type": "code",
      "metadata": {
        "colab": {
          "base_uri": "https://localhost:8080/",
          "height": 245
        },
        "id": "JX2qYxWPiAUv",
        "outputId": "84c0e2c4-d821-4700-e19a-ae02d4832f63"
      },
      "source": [
        "for i in range(len(data2)):\n",
        "  data2[i].extend(df['Genre'][i].replace(' ', '').lower().split(','))\n",
        "  data2[i].append(str(df['Runtime'][i]))\n",
        "  data2[i].append(str(df['Year'][i]))\n",
        "  data2[i].append(str(df['Unnamed: 0'][i]))\n",
        "print(data2)\n",
        "short_df = pd.DataFrame(list(zip(data2, is_r)),\n",
        "               columns =['name', 'age rate'])\n",
        "\n",
        "short_df.head()\n",
        "#with pd.option_context('display.max_rows', None, 'display.max_columns', None):\n",
        "#     print(short_df)"
      ],
      "execution_count": null,
      "outputs": [
        {
          "output_type": "stream",
          "name": "stdout",
          "text": [
            "[['shawshank', 'redempt', 'imprison', 'men', 'bond', 'number', 'year', 'find', 'solac', 'eventu', 'redempt', 'act', 'common', 'decenc', 'drama', '142', '1994', '0'], ['godfath', 'godfath', 'follow', 'corleon', 'corleon', 'famili', 'pass', 'mantel', 'crime', 'drama', '175', '1972', '1'], ['pulp', 'fiction', 'live', 'mob', 'hitmen', 'boxer', 'gangster', 'wife', 'pair', 'diner', 'bandit', 'intertwin', 'tale', 'violenc', 'redempt', 'crime', 'drama', '154', '1994', '2'], ['godfath', 'part', 'ii', 'earli', 'life', 'career', 'corleon', 'new', 'york', 'citi', 'portray', 'expand', 'tighten', 'grip', 'famili', 'crime', 'syndic', 'crime', 'drama', '202', '1974', '3'], ['incept', 'thief', 'steal', 'corpor', 'secret', 'use', 'dreamshar', 'technolog', 'given', 'invers', 'task', 'plant', 'idea', 'mind', 'ceo', 'tragic', 'past', 'doom', 'project', 'team', 'disast', 'action', 'adventure', 'sci-fi', '148', '2010', '4'], ['lord', 'ring', 'return', 'gandalf', 'aragorn', 'lead', 'world', 'men', 'sauron', 'armi', 'draw', 'gaze', 'frodo', 'approach', 'mount', 'doom', 'ring', 'action', 'adventure', 'drama', '201', '2003', '5'], ['war', 'episod', 'iv', 'skywalk', 'join', 'forc', 'jedi', 'knight', 'cocki', 'pilot', 'wookie', 'droid', 'save', 'galaxi', 'empir', 'worlddestroy', 'battl', 'station', 'also', 'attempt', 'rescu', 'princess', 'mysteri', 'vader', 'action', 'adventure', 'fantasy', '121', '1977', '6'], ['lord', 'ring', 'fellowship', 'ring', 'meek', 'hobbit', 'shire', 'companion', 'set', 'journey', 'destroy', 'power', 'ring', 'save', 'middleearth', 'dark', 'lord', 'sauron', 'action', 'adventure', 'drama', '178', '2001', '7'], ['matrix', 'beauti', 'stranger', 'lead', 'comput', 'hacker', 'neo', 'forbid', 'underworld', 'discov', 'shock', 'truthth', 'life', 'know', 'elabor', 'decept', 'evil', 'cyberintellig', 'action', 'sci-fi', '136', '1999', '8'], ['se7en', 'detect', 'rooki', 'veteran', 'serial', 'killer', 'use', 'deadli', 'sin', 'motiv', 'crime', 'drama', 'mystery', '127', '1995', '9'], ['améli', 'améli', 'innoc', 'naiv', 'girl', 'pari', 'sens', 'justic', 'decid', 'help', 'around', 'along', 'discov', 'comedy', 'romance', '122', '2001', '10'], ['termin', 'judgment', 'day', 'cyborg', 'ident', 'fail', 'kill', 'must', 'protect', 'tenyearold', 'advanc', 'power', 'cyborg', 'action', 'sci-fi', '137', '1991', '11'], ['walk', 'dead', 'sheriff', 'deputi', 'grime', 'wake', 'coma', 'learn', 'world', 'ruin', 'must', 'lead', 'group', 'survivor', 'stay', 'aliv', 'drama', 'horror', 'thriller', '44', '2010', '12'], ['zombieland', 'shi', 'student', 'tri', 'reach', 'famili', 'ohio', 'guntot', 'bruiser', 'search', 'last', 'twinki', 'pair', 'sister', 'strive', 'get', 'amus', 'join', 'forc', 'trek', 'across', 'zombiefil', 'america', 'adventure', 'comedy', 'horror', '88', '2009', '13'], ['dead', 'unev', 'aimless', 'live', 'london', 'electron', 'salesman', 'layabout', 'roommat', 'disrupt', 'zombi', 'apocalyps', 'comedy', 'horror', '99', '2004', '14'], ['legend', 'year', 'plagu', 'kill', 'human', 'transform', 'rest', 'monster', 'sole', 'survivor', 'new', 'york', 'citi', 'struggl', 'valiantli', 'find', 'cure', 'action', 'adventure', 'drama', '101', '2007', '15'], ['crazi', 'strang', 'insecur', 'plane', 'crash', 'unusu', 'toxic', 'viru', 'enter', 'quaint', 'farm', 'young', 'coupl', 'quarantin', 'fight', 'surviv', 'along', 'help', 'coupl', 'peopl', 'horror', 'mystery', 'thriller', '101', '2010', '16'], ['grindhous', 'tarantino', 'rodriguez', 'homag', 'exploit', 'doubl', 'featur', 'backtoback', 'cult', 'film', 'includ', 'preview', 'come', 'attract', 'action', 'horror', 'thriller', '191', '2007', '17'], ['day', 'later', 'week', 'mysteri', 'incur', 'viru', 'spread', 'throughout', 'uk', 'hand', 'survivor', 'tri', 'find', 'sanctuari', 'drama', 'horror', 'sci-fi', '113', '2002', '18'], ['week', 'later', 'month', 'rage', 'viru', 'inflict', 'popul', 'great', 'britain', 'us', 'armi', 'help', 'secur', 'small', 'area', 'london', 'survivor', 'repopul', 'start', 'everyth', 'goe', 'accord', 'plan', 'horror', 'sci-fi', '100', '2007', '19'], ['resid', 'evil', 'extinct', 'survivor', 'raccoon', 'citi', 'catastroph', 'travel', 'across', 'nevada', 'desert', 'hope', 'make', 'alaska', 'join', 'caravan', 'fight', 'evil', 'umbrella', 'corp', 'action', 'horror', 'sci-fi', '94', '2007', '20'], ['dead', 'nurs', 'policeman', 'young', 'marri', 'coupl', 'salesman', 'survivor', 'worldwid', 'plagu', 'produc', 'aggress', 'flesheat', 'zombi', 'take', 'refug', 'mega', 'midwestern', 'shop', 'mall', 'action', 'horror', '101', '2004', '21'], ['resid', 'evil', 'special', 'militari', 'unit', 'fight', 'power', 'outofcontrol', 'supercomput', 'hundr', 'scientist', 'mutat', 'flesheat', 'creatur', 'laboratori', 'accid', 'action', 'horror', 'sci-fi', '100', '2002', '22'], ['planet', 'terror', 'experiment', 'bioweapon', 'releas', 'turn', 'thousand', 'zombielik', 'creatur', 'ragtag', 'group', 'survivor', 'stop', 'infect', 'behind', 'releas', 'action', 'comedy', 'fantasy', '105', '2007', '23'], ['armi', 'dark', 'sardon', 'hardwar', 'store', 'clerk', 'accident', 'transport', 'ad', 'must', 'retriev', 'necronomicon', 'battl', 'armi', 'dead', 'return', 'home', 'comedy', 'horror', '81', '1992', '24'], ['dead', 'snow', 'ski', 'vacat', 'turn', 'horrif', 'group', 'medic', 'student', 'find', 'confront', 'unimagin', 'menac', 'nazi', 'zombi', 'comedy', 'fantasy', 'horror', '91', '2009', '25'], ['resid', 'evil', 'apocalyps', 'wake', 'raccoon', 'citi', 'hospit', 'area', 'overrun', 'zombi', 'must', 'make', 'citi', 'nuclear', 'bomb', 'drop', 'action', 'horror', 'sci-fi', '94', '2004', '26'], ['doom', 'space', 'marin', 'sent', 'investig', 'strang', 'event', 'research', 'facil', 'mar', 'find', 'genet', 'enhanc', 'kill', 'machin', 'action', 'horror', 'sci-fi', '105', '2005', '27'], ['dead', 'aliv', 'young', 'man', 'mother', 'bitten', 'sumatran', 'ratmonkey', 'get', 'sick', 'die', 'time', 'come', 'back', 'life', 'kill', 'eat', 'dog', 'nurs', 'friend', 'neighbor', 'comedy', 'fantasy', 'horror', '104', '1992', '28'], ['land', 'dead', 'live', 'dead', 'taken', 'world', 'last', 'human', 'live', 'wall', 'citi', 'protect', 'come', 'grip', 'situat', 'horror', 'sci-fi', 'thriller', '93', '2005', '29'], ['dead', 'follow', 'evergrow', 'epidem', 'zombi', 'risen', 'dead', 'philadelphia', 'swat', 'team', 'member', 'traffic', 'report', 'televis', 'execut', 'girlfriend', 'seek', 'refug', 'seclud', 'shop', 'mall', 'horror', 'thriller', '127', '1978', '30'], ['night', 'live', 'dead', 'ragtag', 'group', 'pennsylvanian', 'barricad', 'old', 'farmhous', 'remain', 'safe', 'hord', 'flesheat', 'ghoul', 'ravag', 'east', 'coast', 'unit', 'state', 'horror', 'thriller', '96', '1968', '31'], ['quarantin', 'televis', 'report', 'cameraman', 'trap', 'insid', 'build', 'quarantin', 'cdc', 'outbreak', 'mysteri', 'viru', 'turn', 'human', 'bloodthirsti', 'killer', 'horror', 'thriller', '89', '2008', '32'], ['surviv', 'dead', 'island', 'coast', 'north', 'america', 'local', 'resid', 'simultan', 'fight', 'zombi', 'epidem', 'hope', 'cure', 'return', 'undead', 'rel', 'back', 'human', 'state', 'comedy', 'drama', 'horror', '90', '2009', '33'], ['diari', 'dead', 'group', 'young', 'film', 'student', 'run', 'reallif', 'zombi', 'film', 'horror', 'movi', 'fantasy', 'horror', 'sci-fi', '95', '2007', '34'], ['sematari', 'tragedi', 'strike', 'griev', 'father', 'discov', 'ancient', 'burial', 'ground', 'behind', 'home', 'power', 'rais', 'dead', 'fantasy', 'horror', 'thriller', '103', '1989', '35'], ['return', 'live', 'dead', 'bumbl', 'employe', 'medic', 'suppli', 'warehous', 'accident', 'releas', 'deadli', 'ga', 'air', 'vapor', 'caus', 'dead', 'rise', 'zombi', 'comedy', 'horror', 'sci-fi', '91', '1985', '36'], ['day', 'dead', 'small', 'colorado', 'overrun', 'flesh', 'hungri', 'dead', 'small', 'group', 'survivor', 'tri', 'escap', 'last', 'ditch', 'effort', 'stay', 'aliv', 'action', 'horror', 'sci-fi', '86', '2008', '37'], ['black', 'swan', 'commit', 'dancer', 'struggl', 'maintain', 'saniti', 'win', 'lead', 'role', 'product', 'tchaikovski', 'swan', 'lake', 'drama', 'thriller', '108', '2010', '38'], ['green', 'hornet', 'follow', 'death', 'father', 'heir', 'father', 'larg', 'compani', 'team', 'late', 'dad', 'assist', 'kato', 'becom', 'mask', 'crime', 'fight', 'team', 'action', 'comedy', 'crime', '119', '2011', '39'], ['xxx', 'extrem', 'sport', 'athlet', 'xander', 'cage', 'recruit', 'govern', 'special', 'mission', 'action', 'adventure', 'thriller', '124', '2002', '40'], ['hangov', 'buddi', 'bachelor', 'parti', 'la', 'vega', 'memori', 'previou', 'night', 'bachelor', 'miss', 'make', 'around', 'citi', 'order', 'find', 'friend', 'wed', 'comedy', '100', '2009', '41'], ['night', 'live', 'dead', 'unburi', 'dead', 'return', 'life', 'seek', 'human', 'victim', 'refuge', 'seek', 'shelter', 'hous', 'pennsylvanian', 'countrysid', 'group', 'odd', 'deal', 'situat', 'horror', '92', '1990', '42'], ['fast', 'furiou', 'tokyo', 'drift', 'teenag', 'becom', 'competitor', 'world', 'drift', 'race', 'move', 'father', 'tokyo', 'avoid', 'jail', 'sentenc', 'america', 'action', 'crime', 'thriller', '104', '2006', '43'], ['clockwork', 'orang', 'futur', 'sadist', 'gang', 'leader', 'imprison', 'volunt', 'conductavers', 'experi', 'doesnt', 'go', 'plan', 'crime', 'drama', 'sci-fi', '136', '1971', '44'], ['alien', 'fiftyseven', 'year', 'surviv', 'apocalypt', 'attack', 'aboard', 'space', 'vessel', 'merciless', 'space', 'creatur', 'offic', 'awaken', 'hypersleep', 'tri', 'warn', 'anyon', 'listen', 'predat', 'action', 'adventure', 'sci-fi', '137', '1986', '45'], ['requiem', 'dream', 'druginduc', 'utopia', 'coney', 'island', 'peopl', 'shatter', 'addict', 'run', 'deep', 'drama', '102', '2000', '46'], ['prestig', 'tragic', 'accid', 'stage', 'magician', 'london', 'engag', 'battl', 'creat', 'ultim', 'illus', 'sacrif', 'everyth', 'outwit', 'drama', 'mystery', 'sci-fi', '130', '2006', '47'], ['reservoir', 'dog', 'simpl', 'jewelri', 'heist', 'goe', 'horribl', 'wrong', 'surviv', 'crimin', 'begin', 'suspect', 'polic', 'inform', 'crime', 'drama', 'thriller', '99', '1992', '48'], ['back', 'futur', 'mcfli', 'high', 'school', 'student', 'accident', 'sent', 'year', 'past', 'timetravel', 'delorean', 'invent', 'close', 'friend', 'eccentr', 'scientist', 'doc', 'brown', 'adventure', 'comedy', 'sci-fi', '116', '1985', '49'], ['python', 'holi', 'grail', 'knight', 'round', 'tabl', 'embark', 'surreal', 'lowbudget', 'search', 'holi', 'grail', 'encount', 'mani', 'silli', 'obstacl', 'adventure', 'comedy', 'fantasy', '91', '1975', '50'], ['green', 'mile', 'live', 'guard', 'death', 'affect', 'charg', 'black', 'man', 'accus', 'child', 'murder', 'rape', 'yet', 'mysteri', 'gift', 'crime', 'drama', 'fantasy', '189', '1999', '51'], ['braveheart', 'scottish', 'warrior', 'lead', 'countrymen', 'rebellion', 'free', 'homeland', 'tyranni', 'england', 'biography', 'drama', 'history', '178', '1995', '52'], ['space', 'odyssey', 'monolith', 'push', 'human', 'reach', 'star', 'discoveri', 'africa', 'gener', 'ago', 'mysteri', 'object', 'lead', 'mankind', 'awesom', 'journey', 'jupit', 'help', 'world', 'greatest', 'supercomput', 'adventure', 'sci-fi', '149', '1968', '53'], ['downfal', 'traudl', 'jung', 'final', 'secretari', 'hitler', 'tell', 'nazi', 'dictat', 'final', 'day', 'berlin', 'bunker', 'end', 'wwii', 'biography', 'drama', 'history', '156', '2004', '54'], ['gladiat', 'former', 'gener', 'set', 'exact', 'vengeanc', 'corrupt', 'emperor', 'murder', 'famili', 'sent', 'slaveri', 'action', 'adventure', 'drama', '155', '2000', '55'], ['inglouri', 'basterd', 'nazioccupi', 'world', 'war', 'ii', 'plan', 'assassin', 'nazi', 'leader', 'group', 'jewish', 'us', 'soldier', 'coincid', 'theatr', 'owner', 'veng', 'plan', 'adventure', 'drama', 'war', '153', '2009', '56'], ['potter', 'deathli', 'hallow', 'part', 'race', 'time', 'evil', 'destroy', 'horcrux', 'uncov', 'exist', 'power', 'object', 'wizard', 'world', 'deathli', 'hallow', 'adventure', 'fantasy', 'mystery', '146', '2010', '57'], ['dark', 'knight', 'menac', 'known', 'joker', 'wreak', 'havoc', 'chao', 'peopl', 'gotham', 'batman', 'must', 'accept', 'greatest', 'psycholog', 'physic', 'test', 'abil', 'fight', 'injustic', 'action', 'crime', 'drama', '152', '2008', '58'], ['mechan', 'elit', 'hitman', 'teach', 'trade', 'apprentic', 'connect', 'previou', 'victim', 'action', 'crime', 'thriller', '93', '2011', '59'], ['social', 'network', 'student', 'zuckerberg', 'creat', 'social', 'network', 'site', 'would', 'becom', 'known', 'facebook', 'su', 'twin', 'claim', 'stole', 'idea', 'cofound', 'later', 'squeez', 'busi', 'biography', 'drama', '120', '2010', '60'], ['avatar', 'parapleg', 'marin', 'dispatch', 'moon', 'uniqu', 'mission', 'becom', 'torn', 'follow', 'order', 'protect', 'world', 'feel', 'home', 'action', 'adventure', 'fantasy', '162', '2009', '61'], ['pilgrim', 'vs', 'world', 'magic', 'realist', 'version', 'toronto', 'young', 'man', 'must', 'defeat', 'new', 'girlfriend', 'evil', 'exe', 'order', 'heart', 'action', 'comedy', 'fantasy', '112', '2010', '62'], ['kickass', 'lizewski', 'unnot', 'high', 'school', 'student', 'comic', 'book', 'day', 'decid', 'becom', 'superhero', 'even', 'though', 'power', 'train', 'meaning', 'reason', 'action', 'comedy', 'crime', '117', '2010', '63'], ['due', 'date', 'highstrung', 'fathertob', 'highman', 'forc', 'hitch', 'ride', 'aspir', 'actor', 'tremblay', 'road', 'order', 'make', 'child', 'birth', 'time', 'comedy', 'drama', '95', '2010', '64'], ['guy', 'mismatch', 'new', 'york', 'citi', 'detect', 'seiz', 'opportun', 'step', 'like', 'citi', 'top', 'cop', 'idol', 'thing', 'dont', 'quit', 'go', 'plan', 'action', 'comedy', 'crime', '107', '2010', '65'], ['twilight', 'swan', 'move', 'small', 'pacif', 'northwest', 'fall', 'cullen', 'mysteri', 'classmat', 'reveal', 'vampir', 'drama', 'fantasy', 'romance', '122', '2008', '66'], ['fight', 'club', 'insomniac', 'offic', 'worker', 'devilmaycar', 'soap', 'maker', 'form', 'underground', 'fight', 'club', 'evolv', 'much', 'drama', '139', '1999', '67'], ['batman', 'begin', 'train', 'mentor', 'batman', 'begin', 'fight', 'free', 'crimeridden', 'gotham', 'citi', 'corrupt', 'action', 'adventure', '140', '2005', '68'], ['die', 'hard', 'nypd', 'offic', 'tri', 'save', 'wife', 'sever', 'other', 'taken', 'hostag', 'german', 'terrorist', 'christma', 'parti', 'nakatomi', 'plaza', 'lo', 'angel', 'action', 'thriller', '132', '1988', '69'], ['hotel', 'rwanda', 'rusesabagina', 'hotel', 'manag', 'hous', 'thousand', 'tutsi', 'refuge', 'struggl', 'hutu', 'militia', 'rwanda', 'africa', 'biography', 'drama', 'history', '121', '2004', '70'], ['heat', 'group', 'highend', 'profession', 'thiev', 'start', 'feel', 'heat', 'lapd', 'unknowingli', 'leav', 'clue', 'latest', 'heist', 'action', 'crime', 'drama', '170', '1995', '71'], ['jaw', 'killer', 'shark', 'unleash', 'chao', 'beach', 'commun', 'long', 'island', 'local', 'sheriff', 'marin', 'biologist', 'old', 'seafar', 'beast', 'adventure', 'thriller', '124', '1975', '72'], ['snatch', 'unscrupul', 'box', 'promot', 'violent', 'bookmak', 'russian', 'gangster', 'incompet', 'amateur', 'robber', 'supposedli', 'jewish', 'jewel', 'fight', 'track', 'priceless', 'stolen', 'comedy', 'crime', '102', '2000', '73'], ['countri', 'old', 'men', 'violenc', 'mayhem', 'ensu', 'stumbl', 'upon', 'drug', 'deal', 'gone', 'wrong', 'million', 'dollar', 'cash', 'near', 'rio', 'grand', 'crime', 'drama', 'thriller', '122', '2007', '74'], ['simba', 'father', 'target', 'bitter', 'uncl', 'want', 'ascend', 'throne', 'animation', 'adventure', 'drama', '88', '1994', '75'], ['big', 'lebowski', 'ultim', 'slacker', 'dude', 'lebowski', 'mistaken', 'millionair', 'name', 'seek', 'restitut', 'rug', 'ruin', 'debt', 'collector', 'enlist', 'bowl', 'buddi', 'help', 'tri', 'find', 'millionair', 'miss', 'wife', 'comedy', 'crime', 'sport', '117', '1998', '76'], ['darko', 'narrowli', 'escap', 'bizarr', 'accid', 'troubl', 'teenag', 'plagu', 'vision', 'man', 'larg', 'rabbit', 'suit', 'manipul', 'commit', 'seri', 'crime', 'drama', 'mystery', 'sci-fi', '113', '2001', '77'], ['wild', 'graduat', 'univers', 'top', 'student', 'athlet', 'mccandless', 'abandon', 'possess', 'give', 'entir', 'save', 'account', 'hitchhik', 'alaska', 'live', 'wilder', 'along', 'encount', 'seri', 'charact', 'shape', 'life', 'adventure', 'biography', 'drama', '148', '2007', '78'], ['sixth', 'sens', 'frighten', 'withdrawn', 'philadelphia', 'boy', 'commun', 'spirit', 'seek', 'help', 'dishearten', 'child', 'psychologist', 'drama', 'mystery', 'thriller', '107', '1999', '79'], ['district', 'violenc', 'ensu', 'extraterrestri', 'race', 'forc', 'live', 'slumlik', 'condit', 'earth', 'find', 'kindr', 'spirit', 'govern', 'agent', 'expos', 'biotechnolog', 'action', 'sci-fi', 'thriller', '112', '2009', '80'], ['gone', 'wind', 'manipul', 'daughter', 'plantat', 'owner', 'conduct', 'turbul', 'romanc', 'roguish', 'profit', 'american', 'civil', 'war', 'reconstruct', 'period', 'drama', 'history', 'romance', '238', '1939', '81'], ['kill', 'vol', 'awaken', 'fouryear', 'coma', 'former', 'assassin', 'wreak', 'vengeanc', 'team', 'assassin', 'betray', 'action', 'crime', 'drama', '111', '2003', '82'], ['toy', 'stori', 'cowboy', 'profoundli', 'threaten', 'jealou', 'new', 'spaceman', 'figur', 'supplant', 'top', 'toy', 'boy', 'room', 'animation', 'adventure', 'comedy', '81', '1995', '83'], ['miami', 'determin', 'cuban', 'immigr', 'take', 'drug', 'cartel', 'succumb', 'greed', 'crime', 'drama', '170', '1983', '84'], ['fast', 'furiou', 'former', 'cop', 'oconn', 'call', 'upon', 'bust', 'danger', 'crimin', 'recruit', 'help', 'former', 'childhood', 'friend', 'street', 'racer', 'redeem', 'action', 'crime', 'thriller', '107', '2003', '85'], ['depart', 'undercov', 'cop', 'mole', 'polic', 'attempt', 'identifi', 'infiltr', 'irish', 'gang', 'south', 'boston', 'action', 'crime', 'drama', '151', '2006', '86'], ['pirat', 'caribbean', 'curs', 'black', 'blacksmith', 'team', 'eccentr', 'pirat', 'captain', 'sparrow', 'save', 'governor', 'daughter', 'jack', 'former', 'pirat', 'alli', 'undead', 'action', 'adventure', 'fantasy', '143', '2003', '87'], ['iron', 'man', 'world', 'awar', 'ident', 'iron', 'man', 'stark', 'must', 'contend', 'declin', 'health', 'veng', 'mad', 'man', 'tie', 'father', 'legaci', 'action', 'adventure', 'sci-fi', '124', '2010', '88'], ['machet', 'setup', 'betray', 'man', 'hire', 'assassin', 'texa', 'senat', 'exfederal', 'launch', 'brutal', 'rampag', 'reveng', 'former', 'boss', 'action', 'crime', 'thriller', '105', '2010', '89'], ['expend', 'cia', 'oper', 'hire', 'team', 'mercenari', 'elimin', 'latin', 'dictat', 'renegad', 'cia', 'agent', 'action', 'adventure', 'thriller', '103', '2010', '90'], ['cia', 'agent', 'goe', 'run', 'defector', 'accus', 'russian', 'spi', 'action', 'thriller', '100', '2010', '91'], ['sorcer', 'apprentic', 'balthazar', 'apprentic', 'legendari', 'magician', 'must', 'train', 'old', 'teacher', 'successor', 'introvert', 'resourc', 'physic', 'prodigi', 'sorceri', 'prevent', 'return', 'le', 'action', 'adventure', 'family', '109', '2010', '92'], ['wonderland', 'nineteenyearold', 'return', 'magic', 'world', 'childhood', 'adventur', 'reunit', 'old', 'friend', 'learn', 'true', 'destini', 'end', 'queen', 'reign', 'terror', 'adventure', 'family', 'fantasy', '108', '2010', '93'], ['potter', 'sorcer', 'stone', 'orphan', 'boy', 'enrol', 'school', 'wizardri', 'learn', 'truth', 'famili', 'terribl', 'evil', 'haunt', 'magic', 'world', 'adventure', 'family', 'fantasy', '152', '2001', '94'], ['grown', 'up', 'high', 'school', 'basketbal', 'coach', 'pass', 'away', 'good', 'friend', 'former', 'teammat', 'reunit', 'fourth', 'juli', 'holiday', 'weekend', 'comedy', '102', '2010', '95'], ['sparta', 'forc', 'men', 'fight', 'persian', 'thermopyla', 'bc', 'action', 'drama', '117', '2006', '96'], ['wrestler', 'fade', 'profession', 'wrestler', 'must', 'retir', 'find', 'quest', 'new', 'life', 'outsid', 'ring', 'dispirit', 'struggl', 'drama', 'sport', '109', '2008', '97'], ['gandhi', 'life', 'lawyer', 'becam', 'fame', 'leader', 'indian', 'revolt', 'british', 'rule', 'philosophi', 'nonviol', 'protest', 'biography', 'drama', '191', '1982', '98'], ['termin', 'human', 'soldier', 'sent', 'stop', 'almost', 'indestruct', 'cyborg', 'kill', 'machin', 'sent', 'year', 'program', 'execut', 'young', 'woman', 'whose', 'unborn', 'key', 'human', 'futur', 'salvat', 'action', 'sci-fi', '107', '1984', '99'], ['monkey', 'futur', 'world', 'devast', 'diseas', 'convict', 'sent', 'back', 'time', 'gather', 'inform', 'manmad', 'viru', 'wipe', 'human', 'popul', 'planet', 'mystery', 'sci-fi', 'thriller', '129', '1995', '100'], ['good', 'hunt', 'hunt', 'janitor', 'mit', 'gift', 'mathemat', 'need', 'help', 'psychologist', 'find', 'direct', 'life', 'drama', 'romance', '126', '1997', '101'], ['let', 'right', 'oskar', 'overlook', 'bulli', 'boy', 'find', 'reveng', 'beauti', 'peculiar', 'girl', 'crime', 'drama', 'fantasy', '114', '2008', '102'], ['exorcist', 'girl', 'possess', 'mysteri', 'entiti', 'mother', 'seek', 'help', 'priest', 'save', 'horror', '122', '1973', '103'], ['smalltim', 'philadelphia', 'boxer', 'get', 'suprem', 'rare', 'fight', 'world', 'heavyweight', 'champion', 'bout', 'strive', 'go', 'distanc', 'selfrespect', 'drama', 'sport', '120', '1976', '104'], ['big', 'fish', 'frustrat', 'tri', 'determin', 'fact', 'fiction', 'die', 'father', 'life', 'adventure', 'drama', 'fantasy', '125', '2003', '105'], ['beauti', 'beast', 'curs', 'spend', 'day', 'hideou', 'monster', 'set', 'regain', 'human', 'earn', 'young', 'woman', 'animation', 'family', 'fantasy', '84', '1991', '106'], ['mystic', 'river', 'live', 'men', 'childhood', 'friend', 'shatter', 'famili', 'tragedi', 'crime', 'drama', 'mystery', '138', '2003', '107'], ['shutter', 'island', 'us', 'investig', 'disappear', 'murder', 'escap', 'hospit', 'crimin', 'insan', 'mystery', 'thriller', '138', '2010', '108'], ['buri', 'us', 'truck', 'driver', 'work', 'iraq', 'attack', 'group', 'iraqi', 'wake', 'find', 'buri', 'aliv', 'insid', 'coffin', 'lighter', 'cell', 'phone', 'race', 'time', 'escap', 'claustrophob', 'death', 'trap', 'drama', 'mystery', 'thriller', '95', '2010', '109'], ['bank', 'martin', 'offer', 'lead', 'foolproof', 'bank', 'hit', 'london', 'baker', 'street', 'target', 'room', 'safe', 'deposit', 'box', 'million', 'cash', 'jewelri', 'along', 'treasur', 'trove', 'dirti', 'secret', 'crime', 'drama', 'thriller', '111', '2008', '110'], ['hood', 'twelfthcenturi', 'england', 'longstrid', 'band', 'maraud', 'confront', 'corrupt', 'local', 'villag', 'lead', 'upris', 'crown', 'forev', 'alter', 'balanc', 'world', 'power', 'action', 'adventure', 'drama', '140', '2010', '111'], ['save', 'privat', 'follow', 'normandi', 'land', 'group', 'us', 'soldier', 'go', 'behind', 'enemi', 'line', 'retriev', 'paratroop', 'whose', 'brother', 'kill', 'action', 'drama', 'war', '169', '1998', '112'], ['perfect', 'getaway', 'pair', 'lover', 'hawaiian', 'vacat', 'discov', 'psychopath', 'stalk', 'murder', 'tourist', 'island', 'drama', 'mystery', 'thriller', '98', '2009', '113'], ['holm', 'detect', 'holm', 'stalwart', 'partner', 'watson', 'engag', 'battl', 'wit', 'brawn', 'nemesi', 'whose', 'plot', 'threat', 'england', 'action', 'adventure', 'mystery', '128', '2009', '114'], ['sin', 'citi', 'explor', 'dark', 'miser', 'basin', 'citi', 'resid', 'caught', 'violent', 'corrupt', 'crime', 'thriller', '124', '2005', '115'], ['potter', 'halfblood', 'potter', 'begin', 'sixth', 'year', 'hogwart', 'discov', 'old', 'book', 'mark', 'properti', 'halfblood', 'begin', 'learn', 'lord', 'voldemort', 'dark', 'past', 'action', 'adventure', 'family', '153', '2009', '116'], ['war', 'episod', 'phantom', 'menac', 'jedi', 'escap', 'hostil', 'blockad', 'find', 'alli', 'come', 'across', 'young', 'boy', 'bring', 'balanc', 'forc', 'long', 'dormant', 'sith', 'resurfac', 'claim', 'origin', 'action', 'adventure', 'fantasy', '136', '1999', '117'], ['xmen', 'origin', 'wolverin', 'earli', 'year', 'featur', 'rivalri', 'brother', 'creed', 'servic', 'special', 'forc', 'team', 'weapon', 'x', 'experiment', 'metallin', 'mutant', 'wolverin', 'action', 'sci-fi', '107', '2009', '118'], ['watchmen', 'former', 'superhero', 'exist', 'murder', 'colleagu', 'send', 'activ', 'vigilant', 'rorschach', 'sprawl', 'investig', 'uncov', 'someth', 'could', 'complet', 'chang', 'cours', 'histori', 'know', 'action', 'drama', 'mystery', '162', '2009', '119'], ['book', 'postapocalypt', 'tale', 'lone', 'man', 'fight', 'across', 'america', 'order', 'protect', 'sacr', 'book', 'hold', 'secret', 'save', 'humankind', 'action', 'adventure', 'drama', '118', '2010', '120'], ['persia', 'sand', 'time', 'young', 'fugit', 'princess', 'must', 'stop', 'villain', 'unknowingli', 'threaten', 'destroy', 'world', 'special', 'dagger', 'enabl', 'magic', 'sand', 'insid', 'revers', 'time', 'action', 'adventure', 'fantasy', '116', '2010', '121'], ['shrek', 'forev', 'rumpelstiltskin', 'trick', 'midlif', 'crisi', 'burden', 'shrek', 'allow', 'eras', 'exist', 'cast', 'dark', 'altern', 'timelin', 'rumpelstiltskin', 'rule', 'suprem', 'animation', 'adventure', 'comedy', '93', '2010', '122'], ['predat', 'group', 'elit', 'warrior', 'parachut', 'unfamiliar', 'jungl', 'hunt', 'member', 'merciless', 'alien', 'race', 'action', 'adventure', 'sci-fi', '107', '2010', '123'], ['superbad', 'codepend', 'high', 'school', 'senior', 'forc', 'deal', 'separ', 'anxieti', 'plan', 'stage', 'boozesoak', 'parti', 'goe', 'awri', 'comedy', '113', '2007', '124'], ['american', 'pie', 'teenag', 'boy', 'enter', 'pact', 'lose', 'virgin', 'prom', 'night', 'comedy', '95', '1999', '125'], ['scream', 'year', 'murder', 'mother', 'teenag', 'girl', 'terror', 'new', 'killer', 'target', 'girl', 'friend', 'use', 'horror', 'film', 'part', 'deadli', 'game', 'horror', 'mystery', '111', '1996', '126'], ['war', 'episod', 'v', 'empir', 'strike', 'back', 'rebel', 'brutal', 'overpow', 'empir', 'ice', 'planet', 'hoth', 'skywalk', 'begin', 'jedi', 'train', 'yoda', 'friend', 'pursu', 'across', 'galaxi', 'vader', 'bounti', 'boba', 'fett', 'action', 'adventure', 'fantasy', '124', '1980', '127'], ['find', 'nemo', 'captur', 'great', 'barrier', 'reef', 'taken', 'timid', 'clownfish', 'set', 'journey', 'bring', 'home', 'animation', 'adventure', 'comedy', '100', '2003', '128'], ['actual', 'follow', 'live', 'differ', 'coupl', 'deal', 'live', 'variou', 'loos', 'interrel', 'tale', 'set', 'frantic', 'month', 'christma', 'london', 'england', 'comedy', 'drama', 'romance', '135', '2003', '129'], ['incred', 'hulk', 'banner', 'scientist', 'run', 'us', 'govern', 'must', 'find', 'cure', 'monster', 'turn', 'whenev', 'lose', 'temper', 'action', 'adventure', 'sci-fi', '112', '2008', '130'], ['potter', 'goblet', 'fire', 'potter', 'find', 'compet', 'hazard', 'tournament', 'rival', 'school', 'magic', 'distract', 'recur', 'nightmar', 'adventure', 'family', 'fantasy', '157', '2005', '131'], ['nightmar', 'elm', 'street', 'spectr', 'disfigur', 'man', 'haunt', 'children', 'parent', 'murder', 'stalk', 'kill', 'dream', 'crime', 'drama', 'horror', '95', '2010', '132'], ['spit', 'grave', 'writer', 'brutal', 'cabin', 'retreat', 'seek', 'reveng', 'attack', 'left', 'dead', 'horror', 'thriller', '108', '2010', '133'], ['adapt', 'homer', 'great', 'epic', 'film', 'follow', 'assault', 'unit', 'greek', 'forc', 'chronicl', 'fate', 'men', 'involv', 'drama', 'history', '163', '2004', '134'], ['war', 'episod', 'iii', 'reveng', 'sith', 'year', 'clone', 'war', 'jedi', 'rescu', 'palpatin', 'count', 'dooku', 'obiwan', 'pursu', 'new', 'threat', 'anakin', 'act', 'doubl', 'agent', 'jedi', 'council', 'palpatin', 'lure', 'sinist', 'plan', 'rule', 'galaxi', 'action', 'adventure', 'fantasy', '140', '2005', '135'], ['olympian', 'lightn', 'thief', 'teenag', 'discov', 'he', 'descend', 'greek', 'god', 'set', 'adventur', 'settl', 'ongo', 'battl', 'god', 'adventure', 'family', 'fantasy', '118', '2010', '136'], ['knock', 'funlov', 'parti', 'anim', 'stone', 'last', 'thing', 'ever', 'expect', 'onenight', 'stand', 'show', 'doorstep', 'week', 'later', 'tell', 'she', 'pregnant', 'child', 'comedy', 'romance', '129', '2007', '137'], ['juno', 'face', 'unplan', 'pregnanc', 'offbeat', 'young', 'woman', 'make', 'unusu', 'decis', 'regard', 'unborn', 'child', 'comedy', 'drama', '96', '2007', '138'], ['xmen', 'world', 'mutant', 'evolv', 'superpow', 'human', 'exist', 'discrimin', 'group', 'form', 'inevit', 'clash', 'supremacist', 'brotherhood', 'pacifist', 'xmen', 'action', 'adventure', 'sci-fi', '104', '2000', '139'], ['miri', 'make', 'porno', 'lifelong', 'platon', 'friend', 'miri', 'look', 'solv', 'respect', 'cashflow', 'problem', 'make', 'adult', 'film', 'togeth', 'camera', 'roll', 'howev', 'duo', 'begin', 'sens', 'feel', 'previous', 'thought', 'comedy', 'romance', '101', '2008', '140'], ['law', 'abid', 'citizen', 'frustrat', 'man', 'decid', 'take', 'justic', 'hand', 'plea', 'bargain', 'set', 'famili', 'killer', 'free', 'action', 'crime', 'drama', '109', '2009', '141'], ['american', 'psycho', 'wealthi', 'new', 'york', 'citi', 'invest', 'bank', 'execut', 'bateman', 'hide', 'altern', 'psychopath', 'ego', 'cowork', 'friend', 'delv', 'deeper', 'violent', 'hedonist', 'fantasi', 'crime', 'drama', 'horror', '101', '2000', '142'], ['ypf', 'night', 'coupl', 'separ', 'sexual', 'adventur', 'comedy', 'drama', 'romance', '87', '2007', '143'], ['xmen', 'last', 'stand', 'human', 'govern', 'develop', 'cure', 'mutat', 'becom', 'darker', 'uncontrol', 'persona', 'call', 'phoenix', 'alli', 'magneto', 'caus', 'escal', 'allout', 'battl', 'xmen', 'action', 'adventure', 'sci-fi', '104', '2006', '144'], ['road', 'danger', 'postapocalypt', 'world', 'ail', 'father', 'defend', 'slowli', 'travel', 'sea', 'drama', '111', '2009', '145'], ['public', 'enemi', 'fed', 'tri', 'take', 'notori', 'american', 'gangster', 'dilling', 'babi', 'face', 'pretti', 'boy', 'boom', 'crime', 'wave', 'action', 'biography', 'crime', '140', '2009', '146'], ['live', 'free', 'die', 'hard', 'mcclane', 'young', 'hacker', 'join', 'forc', 'take', 'master', 'cyberterrorist', 'dc', 'action', 'thriller', '128', '2007', '147'], ['want', 'frustrat', 'offic', 'worker', 'discov', 'profession', 'assassin', 'share', 'father', 'superhuman', 'kill', 'abil', 'action', 'crime', 'thriller', '110', '2008', '148'], ['lord', 'ring', 'tower', 'frodo', 'edg', 'closer', 'mordor', 'help', 'shifti', 'gollum', 'divid', 'fellowship', 'make', 'stand', 'sauron', 'new', 'saruman', 'hord', 'isengard', 'action', 'adventure', 'drama', '179', '2002', '149'], ['forget', 'devast', 'take', 'hawaiian', 'vacat', 'order', 'deal', 'recent', 'breakup', 'tv', 'girlfriend', 'littl', 'know', 'sarah', 'travel', 'resort', 'ex', 'she', 'bring', 'along', 'new', 'boyfriend', 'comedy', 'drama', 'romance', '111', '2008', '150'], ['pianist', 'polish', 'jewish', 'musician', 'struggl', 'surviv', 'destruct', 'warsaw', 'ghetto', 'world', 'war', 'ii', 'biography', 'drama', 'music', '150', '2002', '151'], ['tropic', 'thunder', 'seri', 'freak', 'occurr', 'group', 'actor', 'shoot', 'bigbudget', 'war', 'movi', 'forc', 'becom', 'soldier', 'portray', 'action', 'comedy', 'war', '107', '2008', '152'], ['death', 'race', 'excon', 'jensen', 'ame', 'forc', 'notori', 'prison', 'compet', 'postindustri', 'world', 'popular', 'sport', 'car', 'race', 'inmat', 'must', 'brutal', 'kill', 'anoth', 'road', 'victori', 'action', 'sci-fi', 'thriller', '105', '2008', '153'], ['alien', 'space', 'merchant', 'vessel', 'receiv', 'unknown', 'transmiss', 'distress', 'call', 'crew', 'attack', 'mysteri', 'life', 'form', 'soon', 'realiz', 'life', 'cycl', 'mere', 'begun', 'horror', 'sci-fi', '117', '1979', '154'], ['last', 'airbend', 'follow', 'adventur', 'aang', 'young', 'successor', 'long', 'line', 'avatar', 'must', 'master', 'element', 'stop', 'fire', 'nation', 'enslav', 'water', 'tribe', 'earth', 'kingdom', 'action', 'adventure', 'family', '103', '2010', '155'], ['stardust', 'countrysid', 'border', 'magic', 'land', 'young', 'man', 'make', 'promis', 'belov', 'hell', 'retriev', 'fallen', 'ventur', 'magic', 'realm', 'adventure', 'family', 'fantasy', '127', '2007', '156'], ['day', 'dead', 'world', 'overrun', 'zombi', 'small', 'group', 'scientist', 'militari', 'personnel', 'dwell', 'underground', 'bunker', 'must', 'determin', 'whether', 'educ', 'elimin', 'escap', 'undead', 'hord', 'horror', 'thriller', '101', '1985', '157'], ['fido', 'space', 'radiat', 'turn', 'dead', 'zombi', 'zomcon', 'fight', 'zombi', 'find', 'way', 'pacifi', 'use', 'preteen', 'timmi', 'kesun', 'loder', 'suburban', 'street', 'zombi', 'menial', 'chore', 'timmi', 'zombi', 'becom', 'friend', 'name', 'fido', 'sir', 'comedy', 'drama', 'horror', '93', '2006', '158'], ['wed', 'crasher', 'beckwith', 'grey', 'pair', 'commit', 'woman', 'sneak', 'wed', 'take', 'advantag', 'romant', 'ting', 'air', 'find', 'odd', 'anoth', 'meet', 'fall', 'cleari', 'comedy', 'romance', '119', '2005', '159'], ['day', 'earth', 'stood', 'still', 'remak', 'classic', 'scienc', 'fiction', 'film', 'alien', 'visitor', 'giant', 'robot', 'counterpart', 'visit', 'earth', 'drama', 'sci-fi', 'thriller', '104', '2008', '160'], ['war', 'episod', 'return', 'jedi', 'dare', 'mission', 'rescu', 'solo', 'jabba', 'hutt', 'rebel', 'dispatch', 'endor', 'destroy', 'second', 'death', 'meanwhil', 'struggl', 'help', 'vader', 'back', 'dark', 'side', 'without', 'fall', 'emperor', 'trap', 'action', 'adventure', 'fantasy', '131', '1983', '161'], ['jurass', 'pragmat', 'paleontologist', 'tour', 'almost', 'complet', 'theme', 'island', 'central', 'america', 'task', 'protect', 'coupl', 'kid', 'power', 'failur', 'caus', 'park', 'clone', 'dinosaur', 'run', 'loos', 'action', 'adventure', 'sci-fi', '127', '1993', '162'], ['role', 'model', 'wild', 'behavior', 'forc', 'pair', 'energi', 'drink', 'rep', 'enrol', 'big', 'brother', 'program', 'comedy', '99', '2008', '163'], ['curiou', 'button', 'tell', 'stori', 'button', 'man', 'start', 'age', 'backward', 'consequ', 'drama', 'fantasy', 'romance', '166', '2008', '164'], ['boy', 'stripe', 'pajama', 'innoc', 'eye', 'eightyearold', 'command', 'german', 'concentr', 'camp', 'forbidden', 'friendship', 'jewish', 'boy', 'side', 'camp', 'fenc', 'startl', 'unexpect', 'consequ', 'drama', 'history', 'war', '94', '2008', '165'], ['potter', 'chamber', 'secret', 'ancient', 'propheci', 'seem', 'come', 'true', 'mysteri', 'presenc', 'begin', 'stalk', 'corridor', 'school', 'magic', 'leav', 'victim', 'paralyz', 'adventure', 'family', 'fantasy', '161', '2002', '166'], ['war', 'episod', 'ii', 'attack', 'clone', 'year', 'initi', 'meet', 'anakin', 'skywalk', 'share', 'forbidden', 'romanc', 'padmé', 'amidala', 'obiwan', 'kenobi', 'investig', 'assassin', 'attempt', 'senat', 'discov', 'secret', 'clone', 'armi', 'craft', 'jedi', 'action', 'adventure', 'fantasy', '142', '2002', '167'], ['million', 'dollar', 'babi', 'determin', 'woman', 'work', 'harden', 'box', 'trainer', 'becom', 'profession', 'drama', 'sport', '132', '2004', '168'], ['devil', 'wear', 'prada', 'smart', 'sensibl', 'new', 'graduat', 'land', 'assist', 'priestli', 'demand', 'editorinchief', 'high', 'fashion', 'magazin', 'comedy', 'drama', '109', '2006', '169'], ['virgin', 'goad', 'buddi', 'nerdi', 'who', 'never', 'done', 'deed', 'find', 'pressur', 'mount', 'meet', 'singl', 'mother', 'comedy', 'romance', '116', '2005', '170'], ['tekken', 'jin', 'kazama', 'wit', 'death', 'mother', 'jun', 'tekken', 'slum', 'known', 'anvil', 'find', 'tekken', 'id', 'decid', 'seek', 'vengeanc', 'mother', 'death', 'action', 'crime', 'drama', '92', '2010', '171'], ['ps', 'young', 'widow', 'discov', 'late', 'husband', 'left', 'messag', 'intend', 'help', 'eas', 'pain', 'start', 'new', 'life', 'comedy', 'drama', 'romance', '126', '2007', '172'], ['paranorm', 'activ', 'experienc', 'think', 'seri', 'breakin', 'famili', 'set', 'secur', 'camera', 'around', 'home', 'realiz', 'event', 'unfold', 'sinist', 'seem', 'horror', 'mystery', '91', '2010', '173'], ['gang', 'amsterdam', 'vallon', 'return', 'point', 'area', 'citi', 'seek', 'reveng', 'butcher', 'father', 'killer', 'crime', 'drama', '167', '2002', '174'], ['bourn', 'ident', 'man', 'pick', 'fish', 'boat', 'bulletriddl', 'suffer', 'amnesia', 'race', 'elud', 'assassin', 'attempt', 'regain', 'memori', 'action', 'mystery', 'thriller', '119', '2002', '175'], ['dear', 'romant', 'drama', 'soldier', 'fall', 'conserv', 'colleg', 'student', 'he', 'home', 'leav', 'drama', 'mystery', 'romance', '108', '2010', '176'], ['ghost', 'rider', 'motorcycl', 'rider', 'blaze', 'sell', 'soul', 'devil', 'save', 'father', 'life', 'transform', 'ghost', 'rider', 'devil', 'bounti', 'sent', 'sinner', 'action', 'fantasy', 'thriller', '110', '2007', '177'], ['catch', 'bare', 'yet', 'skill', 'forger', 'pass', 'doctor', 'lawyer', 'pilot', 'fbi', 'agent', 'becom', 'obsess', 'track', 'man', 'revel', 'pursuit', 'biography', 'crime', 'drama', '141', '2002', '178'], ['paranorm', 'activ', 'move', 'suburban', 'home', 'coupl', 'becom', 'increasingli', 'disturb', 'nightli', 'demon', 'presenc', 'horror', 'mystery', '86', '2007', '179'], ['jumper', 'teenag', 'teleport', 'abil', 'suddenli', 'find', 'middl', 'ancient', 'war', 'like', 'sworn', 'annihil', 'action', 'adventure', 'sci-fi', '88', '2008', '180'], ['blow', 'stori', 'jung', 'along', 'medellín', 'cartel', 'head', 'escobar', 'establish', 'american', 'cocain', 'market', 'unit', 'state', 'biography', 'crime', 'drama', '124', '2001', '181'], ['hot', 'fuzz', 'skill', 'london', 'polic', 'offic', 'irrit', 'superior', 'embarrass', 'effect', 'transfer', 'villag', 'easygo', 'offic', 'object', 'fervor', 'regul', 'string', 'grisli', 'murder', 'strike', 'action', 'comedy', 'mystery', '121', '2007', '182'], ['hancock', 'hancock', 'superhero', 'whose', 'illconsid', 'behavior', 'regularli', 'caus', 'damag', 'million', 'chang', 'person', 'save', 'help', 'improv', 'public', 'imag', 'action', 'drama', 'fantasy', '92', '2008', '183'], ['social', 'worker', 'fight', 'save', 'girl', 'abus', 'parent', 'discov', 'situat', 'danger', 'ever', 'expect', 'horror', 'mystery', 'thriller', '109', '2009', '184'], ['barbarian', 'young', 'boy', 'becom', 'slave', 'parent', 'kill', 'tribe', 'destroy', 'savag', 'warlord', 'sorcer', 'thulsa', 'doom', 'grow', 'becom', 'fearless', 'invinc', 'fighter', 'set', 'free', 'plot', 'reveng', 'thulsa', 'doom', 'action', 'adventure', 'fantasy', '129', '1982', '185'], ['dumb', 'dumber', 'woman', 'leav', 'briefcas', 'airport', 'termin', 'dumb', 'limo', 'driver', 'dumber', 'friend', 'set', 'hilari', 'crosscountri', 'road', 'aspen', 'return', 'comedy', '107', '1994', '186'], ['sweeney', 'demon', 'barber', 'fleet', 'street', 'legendari', 'tale', 'barber', 'return', 'wrong', 'imprison', 'london', 'bent', 'reveng', 'rape', 'death', 'wife', 'resum', 'trade', 'form', 'sinist', 'partnership', 'fellow', 'tenant', 'mr', 'lovett', 'drama', 'horror', 'musical', '116', '2007', '187'], ['nation', 'treasur', 'historian', 'race', 'find', 'legendari', 'templar', 'treasur', 'team', 'mercenari', 'action', 'adventure', 'mystery', '131', '2004', '188'], ['daybreak', 'year', 'plagu', 'transform', 'almost', 'everi', 'human', 'vampir', 'face', 'dwindl', 'blood', 'suppli', 'fractur', 'domin', 'race', 'plot', 'surviv', 'meanwhil', 'research', 'work', 'covert', 'band', 'vamp', 'save', 'humankind', 'action', 'horror', 'sci-fi', '98', '2009', '189'], ['shooter', 'marksman', 'live', 'exil', 'coax', 'back', 'action', 'learn', 'plot', 'kill', 'presid', 'doubl', 'cross', 'attempt', 'run', 'set', 'real', 'killer', 'truth', 'action', 'drama', 'thriller', '124', '2007', '190'], ['mortal', 'kombat', 'unknow', 'martial', 'artist', 'summon', 'mysteri', 'island', 'compet', 'tournament', 'whose', 'outcom', 'decid', 'fate', 'world', 'action', 'adventure', 'fantasy', '101', '1995', '191'], ['illusionist', 'turnofthecenturi', 'vienna', 'magician', 'use', 'abil', 'secur', 'woman', 'far', 'social', 'stand', 'drama', 'fantasy', 'mystery', '110', '2006', '192'], ['spiderman', 'beset', 'troubl', 'fail', 'person', 'life', 'battl', 'brilliant', 'scientist', 'name', 'doctor', 'action', 'adventure', 'sci-fi', '127', '2004', '193'], ['butterfli', 'effect', 'treborn', 'suffer', 'blackout', 'signific', 'event', 'life', 'grow', 'find', 'rememb', 'lost', 'memori', 'supernatur', 'alter', 'life', 'read', 'journal', 'drama', 'sci-fi', 'thriller', '113', '2004', '194'], ['harbor', 'tale', 'war', 'romanc', 'mix', 'histori', 'stori', 'follow', 'lifelong', 'friend', 'beauti', 'nurs', 'caught', 'horror', 'infam', 'sunday', 'morn', 'action', 'drama', 'history', '183', '2001', '195'], ['superman', 'alien', 'orphan', 'sent', 'die', 'planet', 'earth', 'grow', 'becom', 'adopt', 'home', 'first', 'greatest', 'superhero', 'action', 'adventure', 'drama', '143', '1978', '196'], ['dark', 'knight', 'gotham', 'citi', 'begin', 'war', 'crime', 'first', 'enemi', 'napier', 'crimin', 'becom', 'clownishli', 'homicid', 'joker', 'action', 'adventure', '126', '1989', '197'], ['final', 'chapter', 'deadli', 'battl', 'rage', 'jigsaw', 'brutal', 'legaci', 'group', 'jigsaw', 'survivor', 'gather', 'seek', 'support', 'selfhelp', 'guru', 'fellow', 'survivor', 'dagen', 'man', 'whose', 'dark', 'secret', 'unleash', 'new', 'wave', 'terror', 'crime', 'horror', 'mystery', '90', '2010', '198'], ['insid', 'man', 'polic', 'detect', 'bank', 'robber', 'highpow', 'broker', 'enter', 'highstak', 'negoti', 'crimin', 'brilliant', 'heist', 'spiral', 'hostag', 'situat', 'crime', 'drama', 'mystery', '129', '2006', '199'], ['return', 'live', 'dead', 'ii', 'curiou', 'kid', 'unearth', 'barrel', 'previous', 'help', 'reviv', 'dead', 'prove', 'second', 'time', 'undead', 'charm', 'comedy', 'horror', 'sci-fi', '89', '1988', '200'], ['planet', 'ape', 'air', 'forc', 'astronaut', 'crashland', 'mysteri', 'planet', 'evolv', 'talk', 'ape', 'domin', 'race', 'primit', 'human', 'action', 'adventure', 'sci-fi', '119', '2001', '201'], ['bourn', 'supremaci', 'bourn', 'frame', 'cia', 'oper', 'gone', 'awri', 'forc', 'resum', 'former', 'life', 'train', 'assassin', 'surviv', 'action', 'mystery', 'thriller', '108', '2004', '202'], ['cloverfield', 'group', 'friend', 'ventur', 'deep', 'street', 'new', 'york', 'rescu', 'mission', 'rampag', 'monster', 'attack', 'action', 'horror', 'sci-fi', '85', '2008', '203'], ['scream', 'friend', 'visit', 'hollywood', 'set', 'stab', 'third', 'film', 'base', 'woodsboro', 'murder', 'anoth', 'ghostfac', 'killer', 'rise', 'terror', 'horror', 'mystery', '116', '2000', '204'], ['orphan', 'husband', 'wife', 'recent', 'lost', 'babi', 'adopt', 'girl', 'nearli', 'innoc', 'appear', 'horror', 'mystery', 'thriller', '123', '2009', '205'], ['angel', 'demon', 'symbologist', 'langdon', 'work', 'nuclear', 'physicist', 'solv', 'murder', 'prevent', 'terrorist', 'act', 'vatican', 'signific', 'event', 'within', 'church', 'action', 'mystery', 'thriller', '138', '2009', '206'], ['team', 'america', 'world', 'polic', 'popular', 'broadway', 'actor', 'johnston', 'recruit', 'elit', 'counterterror', 'organ', 'team', 'america', 'world', 'polic', 'world', 'begin', 'crumbl', 'around', 'must', 'battl', 'terrorist', 'celebr', 'fall', 'action', 'comedy', '98', '2004', '207'], ['scream', 'year', 'first', 'seri', 'murder', 'acclim', 'colleg', 'life', 'someon', 'don', 'ghostfac', 'costum', 'begin', 'new', 'string', 'kill', 'horror', 'mystery', '120', '1997', '208'], ['train', 'day', 'rooki', 'cop', 'spend', 'first', 'day', 'lo', 'angel', 'narcot', 'offic', 'rogu', 'detect', 'isnt', 'appear', 'crime', 'drama', 'thriller', '122', '2001', '209'], ['hitman', 'gunforhir', 'known', 'agent', 'hire', 'group', 'known', 'organ', 'ensnar', 'polit', 'conspiraci', 'find', 'pursu', 'interpol', 'russian', 'militari', 'trek', 'across', 'russia', 'eastern', 'europ', 'action', 'crime', 'thriller', '100', '2007', '210'], ['underworld', 'vampir', 'warrior', 'entrench', 'conflict', 'vampir', 'werewolv', 'fall', 'human', 'sought', 'werewolv', 'unknown', 'reason', 'action', 'fantasy', 'thriller', '121', '2003', '211'], ['predat', 'team', 'commando', 'mission', 'central', 'american', 'jungl', 'find', 'hunt', 'extraterrestri', 'warrior', 'action', 'adventure', 'horror', '107', '1987', '212'], ['shrek', 'mean', 'lord', 'exil', 'fairytal', 'creatur', 'swamp', 'grumpi', 'ogr', 'must', 'go', 'quest', 'rescu', 'princess', 'lord', 'order', 'get', 'land', 'back', 'animation', 'adventure', 'comedy', '90', '2001', '213'], ['run', 'scare', 'lowrank', 'thug', 'entrust', 'crime', 'boss', 'dispos', 'gun', 'kill', 'corrupt', 'cop', 'thing', 'get', 'control', 'gun', 'end', 'wrong', 'hand', 'action', 'crime', 'drama', '122', '2006', '214'], ['dead', 'next', 'door', 'elit', 'antizombi', 'team', 'assembl', 'govern', 'cope', 'evergrow', 'undead', 'infect', 'religi', 'cult', 'zealot', 'fanat', 'protect', 'fester', 'foe', 'horror', '78', '1989', '215'], ['kill', 'vol', 'continu', 'quest', 'vengeanc', 'former', 'boss', 'lover', 'reclus', 'bouncer', 'budd', 'treacher', 'oneey', 'action', 'crime', 'thriller', '137', '2004', '216'], ['stranger', 'awaken', 'room', 'recollect', 'got', 'soon', 'discov', 'theyr', 'pawn', 'deadli', 'game', 'perpetr', 'notori', 'serial', 'killer', 'horror', 'mystery', 'thriller', '103', '2004', '217'], ['dusk', 'till', 'crimin', 'hostag', 'unknowingli', 'seek', 'temporari', 'refug', 'truck', 'stop', 'popul', 'vampir', 'chaotic', 'result', 'action', 'crime', 'horror', '108', '1996', '218'], ['zodiac', 'san', 'cartoonist', 'becom', 'amateur', 'detect', 'obsess', 'track', 'zodiac', 'killer', 'unidentifi', 'individu', 'terror', 'northern', 'california', 'kill', 'spree', 'crime', 'drama', 'mystery', '157', '2007', '219'], ['ye', 'man', 'man', 'challeng', 'ye', 'everyth', 'comedy', 'romance', '104', '2008', '220'], ['fantast', 'group', 'astronaut', 'gain', 'superpow', 'cosmic', 'radiat', 'exposur', 'must', 'use', 'oppos', 'plan', 'enemi', 'doctor', 'doom', 'action', 'adventure', 'fantasy', '106', '2005', '221'], ['matrix', 'reload', 'freedom', 'fighter', 'neo', 'triniti', 'morpheu', 'continu', 'lead', 'revolt', 'machin', 'armi', 'unleash', 'arsen', 'extraordinari', 'skill', 'weaponri', 'systemat', 'forc', 'repress', 'exploit', 'action', 'sci-fi', '138', '2003', '222'], ['italian', 'betray', 'left', 'dead', 'itali', 'croker', 'team', 'plan', 'elabor', 'gold', 'heist', 'former', 'action', 'crime', 'thriller', '111', '2003', '223'], ['eagl', 'eye', 'stranger', 'thrown', 'togeth', 'mysteri', 'phone', 'call', 'woman', 'never', 'met', 'threaten', 'live', 'famili', 'push', 'seri', 'increasingli', 'danger', 'situat', 'use', 'technolog', 'everyday', 'life', 'track', 'control', 'everi', 'move', 'action', 'mystery', 'thriller', '118', '2008', '224'], ['day', 'tomorrow', 'paleoclimatologist', 'must', 'make', 'dare', 'trek', 'dc', 'new', 'york', 'citi', 'reach', 'trap', 'crosshair', 'sudden', 'intern', 'plung', 'planet', 'new', 'ice', 'age', 'action', 'adventure', 'sci-fi', '124', '2004', '225'], ['odonnel', 'ungrat', 'life', 'turn', 'get', 'rewrit', 'life', 'tri', 'save', 'janitor', 'near', 'bridg', 'jump', 'time', 'vortex', 'comedy', 'drama', 'fantasy', '102', '2009', '226'], ['fire', 'mexico', 'citi', 'former', 'cia', 'oper', 'swear', 'vengeanc', 'commit', 'unspeak', 'act', 'famili', 'hire', 'protect', 'action', 'crime', 'drama', '146', '2004', '227'], ['lord', 'war', 'arm', 'dealer', 'confront', 'moral', 'work', 'chase', 'interpol', 'agent', 'action', 'crime', 'drama', '122', '2005', '228'], ['rememb', 'titan', 'true', 'stori', 'newli', 'appoint', 'africanamerican', 'coach', 'high', 'school', 'team', 'first', 'season', 'racial', 'integr', 'unit', 'biography', 'drama', 'sport', '113', '2000', '229'], ['factbas', 'stori', 'mit', 'student', 'train', 'becom', 'expert', 'card', 'count', 'subsequ', 'took', 'vega', 'casino', 'million', 'win', 'crime', 'drama', 'history', '123', '2008', '230'], ['moulin', 'roug', 'poor', 'bohemian', 'poet', 'pari', 'fall', 'beauti', 'courtesan', 'nightclub', 'jealou', 'covet', 'drama', 'musical', 'romance', '127', '2001', '231'], ['haunt', 'mansion', 'realtor', 'wife', 'children', 'summon', 'mansion', 'soon', 'discov', 'haunt', 'attempt', 'escap', 'learn', 'import', 'lesson', 'famili', 'neglect', 'comedy', 'family', 'fantasy', '88', '2003', '232'], ['x2', 'xmen', 'unit', 'antimut', 'colonel', 'stryker', 'kidnap', 'professor', 'x', 'attack', 'school', 'xmen', 'must', 'archenemi', 'magneto', 'stop', 'action', 'sci-fi', 'thriller', '134', '2003', '233'], ['da', 'vinci', 'code', 'murder', 'insid', 'louvr', 'clue', 'da', 'vinci', 'paint', 'lead', 'discoveri', 'religi', 'mysteri', 'protect', 'secret', 'societi', 'thousand', 'year', 'could', 'shake', 'foundat', 'christian', 'mystery', 'thriller', '149', '2006', '234'], ['ocean', 'ocean', 'round', 'boy', 'third', 'heist', 'casino', 'owner', 'bank', 'doublecross', 'origin', 'tishkoff', 'crime', 'thriller', '122', '2007', '235'], ['mile', 'young', 'rapper', 'struggl', 'everi', 'aspect', 'life', 'want', 'make', 'big', 'friend', 'foe', 'make', 'odyssey', 'rap', 'harder', 'seem', 'drama', 'music', '110', '2002', '236'], ['collater', 'cab', 'driver', 'find', 'hostag', 'engag', 'contract', 'killer', 'make', 'round', 'hit', 'hit', 'night', 'lo', 'angel', 'action', 'crime', 'drama', '120', '2004', '237'], ['chronicl', 'riddick', 'want', 'crimin', 'riddick', 'diesel', 'arriv', 'planet', 'call', 'helion', 'prime', 'find', 'invad', 'empir', 'call', 'necromong', 'armi', 'plan', 'convert', 'kill', 'human', 'univers', 'action', 'adventure', 'sci-fi', '119', '2004', '238'], ['perfum', 'stori', 'murder', 'jeanbaptist', 'grenouil', 'born', 'superior', 'olfactori', 'sens', 'creat', 'world', 'finest', 'perfum', 'work', 'howev', 'take', 'dark', 'turn', 'search', 'ultim', 'scent', 'crime', 'drama', 'fantasy', '147', '2006', '239'], ['get', 'smart', 'smart', 'highli', 'intellectu', 'bumbl', 'spi', 'work', 'control', 'agenc', 'task', 'prevent', 'terrorist', 'attack', 'rival', 'spi', 'agenc', 'kao', 'action', 'adventure', 'comedy', '110', '2008', '240'], ['chocol', 'factori', 'young', 'boy', 'win', 'tour', 'magnific', 'chocol', 'factori', 'world', 'led', 'world', 'unusu', 'maker', 'adventure', 'comedy', 'family', '115', '2005', '241'], ['nation', 'treasur', 'book', 'secret', 'must', 'follow', 'clue', 'left', 'wilk', 'booth', 'diari', 'prove', 'ancestor', 'innoc', 'assassin', 'action', 'adventure', 'mystery', '124', '2007', '242'], ['starship', 'trooper', 'human', 'fascist', 'militarist', 'futur', 'wage', 'war', 'giant', 'alien', 'bug', 'action', 'adventure', 'sci-fi', '129', '1997', '243'], ['devil', 'advoc', 'except', 'adept', 'lawyer', 'offer', 'highend', 'new', 'york', 'citi', 'law', 'firm', 'highend', 'boss', 'biggest', 'opportun', 'career', 'date', 'drama', 'mystery', 'thriller', '144', '1997', '244'], ['robot', 'technophob', 'cop', 'investig', 'crime', 'perpetr', 'robot', 'lead', 'larger', 'threat', 'human', 'action', 'mystery', 'sci-fi', '115', '2004', '245'], ['scari', 'movi', 'year', 'dispos', 'bodi', 'man', 'accident', 'kill', 'group', 'dumb', 'teenag', 'stalk', 'bumbl', 'serial', 'killer', 'comedy', '88', '2000', '246'], ['true', 'lie', 'fearless', 'globetrot', 'terroristbattl', 'secret', 'agent', 'life', 'turn', 'upsid', 'discov', 'wife', 'might', 'affair', 'usedcar', 'salesman', 'terrorist', 'smuggl', 'nuclear', 'war', 'head', 'unit', 'state', 'action', 'comedy', 'thriller', '141', '1994', '247'], ['twister', 'hard', 'advanc', 'chaser', 'brink', 'divorc', 'must', 'join', 'togeth', 'creat', 'advanc', 'weather', 'alert', 'system', 'put', 'crosshair', 'extrem', 'violent', 'tornado', 'action', 'adventure', 'thriller', '113', '1996', '248'], ['mulan', 'save', 'father', 'death', 'armi', 'young', 'maiden', 'secretli', 'goe', 'place', 'becom', 'china', 'greatest', 'heroin', 'process', 'animation', 'adventure', 'comedy', '88', '1998', '249'], ['untrac', 'fbi', 'agent', 'task', 'hunt', 'seemingli', 'untrac', 'serial', 'killer', 'post', 'live', 'video', 'victim', 'internet', 'time', 'run', 'mous', 'becom', 'person', 'crime', 'mystery', 'thriller', '101', '2008', '250'], ['transport', 'transport', 'surfac', 'miami', 'implic', 'kidnap', 'young', 'power', 'usa', 'offici', 'action', 'crime', 'thriller', '87', '2005', '251'], ['rush', 'hour', 'loyal', 'dedic', 'hong', 'kong', 'inspector', 'team', 'reckless', 'loudmouth', 'lapd', 'detect', 'rescu', 'chines', 'consul', 'kidnap', 'daughter', 'tri', 'arrest', 'danger', 'crime', 'lord', 'along', 'action', 'comedy', 'crime', '98', '1998', '252'], ['agent', 'strahm', 'dead', 'fbi', 'agent', 'erickson', 'draw', 'nearer', 'hoffman', 'meanwhil', 'pair', 'insur', 'execut', 'find', 'anoth', 'game', 'set', 'jigsaw', 'horror', 'mystery', 'thriller', '90', '2009', '253'], ['mad', 'selfdestruct', 'world', 'veng', 'australian', 'policeman', 'set', 'stop', 'violent', 'motorcycl', 'gang', 'action', 'adventure', 'sci-fi', '88', '1979', '254'], ['final', 'destin', 'premonit', 'accid', 'kill', 'multipl', 'peopl', 'includ', 'friend', 'block', 'car', 'behind', 'ramp', 'polic', 'trooper', 'arriv', 'accid', 'happen', 'death', 'stalk', 'group', 'survivor', 'horror', 'thriller', '90', '2003', '255'], ['ghost', 'man', 'whose', 'peopl', 'skill', 'leav', 'much', 'desir', 'die', 'unexpectedli', 'miracul', 'reviv', 'minut', 'wake', 'discov', 'annoy', 'abil', 'ghost', 'comedy', 'drama', 'fantasy', '102', '2008', '256'], ['flightplan', 'bereav', 'woman', 'daughter', 'fli', 'home', 'berlin', 'america', 'feet', 'child', 'vanish', 'nobodi', 'admit', 'ever', 'plane', 'drama', 'mystery', 'thriller', '98', '2005', '257'], ['street', 'king', 'undercov', 'cop', 'disillus', 'death', 'wife', 'implic', 'murder', 'offic', 'must', 'struggl', 'clear', 'action', 'crime', 'thriller', '109', '2008', '258'], ['rambo', 'thailand', 'rambo', 'join', 'group', 'mercenari', 'ventur', 'wartorn', 'burma', 'rescu', 'group', 'aid', 'worker', 'kidnap', 'ruthless', 'local', 'infantri', 'unit', 'action', 'adventure', 'thriller', '92', '2008', '259'], ['sematari', 'ii', 'teenag', 'boy', 'father', 'move', 'recentlydeceas', 'mother', 'hometown', 'encount', 'ancient', 'nativ', 'american', 'cemeteri', 'power', 'rais', 'dead', 'fantasy', 'horror', '100', '1992', '260'], ['knight', 'tale', 'master', 'die', 'peasant', 'squir', 'fuel', 'desir', 'food', 'creat', 'new', 'ident', 'knight', 'action', 'adventure', 'romance', '132', '2001', '261'], ['ring', 'journalist', 'must', 'investig', 'mysteri', 'videotap', 'seem', 'caus', 'death', 'anyon', 'week', 'day', 'view', 'horror', 'mystery', '115', '2002', '262'], ['babel', 'tragedi', 'strike', 'marri', 'coupl', 'vacat', 'moroccan', 'desert', 'touch', 'interlock', 'stori', 'involv', 'differ', 'famili', 'drama', '143', '2006', '263'], ['rec', 'televis', 'report', 'cameraman', 'follow', 'emerg', 'worker', 'dark', 'apart', 'build', 'quickli', 'lock', 'insid', 'someth', 'terrifi', 'horror', 'mystery', 'thriller', '78', '2007', '264'], ['macedonia', 'greatest', 'armi', 'leader', 'histori', 'warfar', 'conquer', 'much', 'known', 'world', 'action', 'biography', 'drama', '175', '2004', '265'], ['anoth', 'teen', 'movi', 'sendup', 'teen', 'movi', 'accumul', 'past', 'decad', 'comedy', '89', '2001', '266'], ['tournament', 'tournament', 'watch', 'dozen', 'wealthi', 'men', 'bet', 'assassin', 'surviv', 'next', 'hour', 'kill', 'die', 'claim', 'usd10000000', 'prize', 'take', 'place', 'english', 'plenti', 'cctv', 'action', 'thriller', '95', '2009', '267'], ['last', 'samurai', 'american', 'militari', 'advisor', 'embrac', 'samurai', 'cultur', 'hire', 'destroy', 'captur', 'battl', 'action', 'drama', '154', '2003', '268'], ['underworld', 'rise', 'lycan', 'origin', 'stori', 'center', 'centuriesold', 'feud', 'race', 'aristocrat', 'vampir', 'onetim', 'slave', 'lycan', 'action', 'fantasy', 'thriller', '92', '2009', '269'], ['hitch', 'smoothtalk', 'man', 'fall', 'harden', 'columnist', 'help', 'shi', 'account', 'woo', 'beauti', 'heiress', 'comedy', 'romance', '118', '2005', '270'], ['happen', 'vega', 'man', 'woman', 'compel', 'legal', 'reason', 'live', 'life', 'coupl', 'limit', 'period', 'time', 'stake', 'larg', 'amount', 'money', 'comedy', 'romance', '99', '2008', '271'], ['scissorhand', 'artifici', 'man', 'incomplet', 'construct', 'scissor', 'hand', 'lead', 'solitari', 'life', 'day', 'suburban', 'ladi', 'meet', 'introduc', 'world', 'drama', 'fantasy', 'romance', '105', '1990', '272'], ['bucket', 'list', 'termin', 'ill', 'men', 'escap', 'cancer', 'head', 'road', 'wish', 'list', 'todo', 'die', 'adventure', 'comedy', 'drama', '97', '2007', '273'], ['kong', 'greedi', 'film', 'produc', 'assembl', 'team', 'moviemak', 'set', 'infam', 'skull', 'island', 'find', 'cannibalist', 'nativ', 'action', 'adventure', 'drama', '187', '2005', '274'], ['fantast', 'rise', 'silver', 'surfer', 'fantast', 'learn', 'arent', 'superpow', 'be', 'univers', 'squar', 'power', 'silver', 'surfer', 'planet', 'galactu', 'action', 'adventure', 'fantasy', '92', '2007', '275'], ['holiday', 'women', 'troubl', 'guyproblem', 'swap', 'home', 'other', 'countri', 'meet', 'local', 'fall', 'comedy', 'romance', '136', '2006', '276'], ['ocean', 'ocean', 'recruit', 'team', 'member', 'pull', 'european', 'heist', 'sequel', 'ocean', 'crime', 'thriller', '125', '2004', '277'], ['termin', 'rise', 'machin', 'machin', 'postapocalypt', 'futur', 'travel', 'back', 'time', 'protect', 'man', 'woman', 'advanc', 'robot', 'assassin', 'ensur', 'surviv', 'nuclear', 'attack', 'action', 'sci-fi', '109', '2003', '278'], ['war', 'world', 'alien', 'invas', 'threaten', 'futur', 'human', 'catastroph', 'nightmar', 'depict', 'eye', 'american', 'famili', 'fight', 'surviv', 'action', 'adventure', 'sci-fi', '116', '2005', '279'], ['black', 'septemb', 'captur', 'massacr', 'isra', 'athlet', 'olymp', 'men', 'chosen', 'elimin', 'peopl', 'respons', 'fate', 'day', 'action', 'drama', 'history', '164', '2005', '280'], ['hulk', 'banner', 'genet', 'research', 'tragic', 'past', 'suffer', 'accid', 'caus', 'transform', 'rage', 'green', 'monster', 'get', 'angri', 'action', 'sci-fi', '138', '2003', '281'], ['click', 'workahol', 'architect', 'find', 'univers', 'remot', 'allow', 'fastforward', 'rewind', 'differ', 'part', 'life', 'complic', 'aris', 'remot', 'start', 'overrul', 'choic', 'comedy', 'drama', 'fantasy', '107', '2006', '282'], ['warrior', 'must', 'fight', 'defeat', 'monster', 'grendel', 'terror', 'denmark', 'grendel', 'mother', 'begin', 'kill', 'reveng', 'animation', 'action', 'adventure', '115', '2007', '283'], ['matrix', 'revolut', 'human', 'citi', 'zion', 'defend', 'massiv', 'invas', 'machin', 'neo', 'fight', 'end', 'war', 'anoth', 'front', 'also', 'oppos', 'rogu', 'agent', 'action', 'sci-fi', '129', '2003', '284'], ['batman', 'forev', 'batman', 'must', 'battl', 'former', 'district', 'attorney', 'dent', 'twofac', 'nygma', 'riddler', 'help', 'amor', 'psychologist', 'young', 'circu', 'acrobat', 'becom', 'sidekick', 'action', 'adventure', '121', '1995', '285'], ['patriot', 'peac', 'farmer', 'driven', 'lead', 'coloni', 'militia', 'american', 'revolut', 'sadist', 'british', 'offic', 'murder', 'action', 'drama', 'history', '165', '2000', '286'], ['transport', 'transport', 'packag', 'unknown', 'client', 'ask', 'move', 'packag', 'soon', 'begin', 'move', 'complic', 'aris', 'action', 'crime', 'thriller', '92', '2002', '287'], ['bad', 'boy', 'hip', 'detect', 'protect', 'wit', 'murder', 'investig', 'stolen', 'heroin', 'evid', 'storag', 'room', 'polic', 'precinct', 'action', 'comedy', 'crime', '119', '1995', '288'], ['green', 'street', 'hooligan', 'wrong', 'expel', 'undergrad', 'move', 'london', 'introduc', 'violent', 'underworld', 'footbal', 'hooligan', 'crime', 'drama', 'sport', '109', '2005', '289'], ['mist', 'freak', 'unleash', 'speci', 'bloodthirsti', 'creatur', 'small', 'small', 'band', 'citizen', 'hole', 'supermarket', 'fight', 'live', 'horror', 'sci-fi', 'thriller', '126', '2007', '290'], ['friday', 'group', 'young', 'adult', 'visit', 'board', 'campsit', 'name', 'lake', 'soon', 'encount', 'mysteri', 'voorhe', 'deadli', 'intent', 'horror', 'mystery', 'thriller', '97', '2009', '291'], ['godfath', 'part', 'iii', 'follow', 'corleon', 'seek', 'free', 'famili', 'crime', 'find', 'suitabl', 'successor', 'empir', 'crime', 'drama', '162', '1990', '292'], ['toy', 'stori', 'stolen', 'toy', 'collector', 'buzz', 'friend', 'set', 'rescu', 'mission', 'save', 'becom', 'museum', 'toy', 'properti', 'roundup', 'gang', 'prospector', 'bullsey', 'animation', 'adventure', 'comedy', '92', '1999', '293'], ['demystifi', 'take', 'tale', 'knight', 'round', 'tabl', 'action', 'adventure', 'drama', '126', '2004', '294'], ['insomnia', 'lo', 'angel', 'homicid', 'detect', 'dispatch', 'northern', 'sun', 'doesnt', 'set', 'investig', 'method', 'murder', 'local', 'teen', 'drama', 'mystery', 'thriller', '118', '2002', '295'], ['crank', 'profession', 'assassin', 'chelio', 'learn', 'rival', 'inject', 'poison', 'kill', 'heart', 'rate', 'drop', 'action', 'crime', 'thriller', '88', '2006', '296'], ['gone', 'second', 'retir', 'master', 'car', 'thief', 'must', 'come', 'back', 'industri', 'steal', 'car', 'crew', 'night', 'save', 'brother', 'life', 'action', 'crime', 'thriller', '118', '2000', '297'], ['first', 'date', 'man', 'afraid', 'commit', 'meet', 'beauti', 'hit', 'think', 'he', 'final', 'found', 'girl', 'dream', 'discov', 'shortterm', 'memori', 'loss', 'forget', 'next', 'day', 'comedy', 'drama', 'romance', '99', '2004', '298'], ['vanilla', 'selfindulg', 'vain', 'publish', 'magnat', 'find', 'privileg', 'life', 'upend', 'vehicular', 'accid', 'resent', 'lover', 'fantasy', 'mystery', 'romance', '136', '2001', '299'], ['perfect', 'unusu', 'intens', 'pattern', 'catch', 'commerci', 'fishermen', 'unawar', 'put', 'mortal', 'danger', 'action', 'adventure', 'drama', '130', '2000', '300'], ['crank', 'high', 'voltag', 'chelio', 'face', 'chines', 'mobster', 'stolen', 'nearli', 'indestruct', 'heart', 'replac', 'batterypow', 'ticker', 'requir', 'regular', 'jolt', 'electr', 'keep', 'work', 'action', 'crime', 'thriller', '96', '2009', '301'], ['blade', 'halfvampir', 'halfmort', 'man', 'becom', 'protector', 'mortal', 'race', 'slay', 'evil', 'vampir', 'action', 'horror', 'sci-fi', '120', '1998', '302'], ['dont', 'mess', 'zohan', 'isra', 'special', 'forc', 'soldier', 'fake', 'death', 'reemerg', 'new', 'york', 'citi', 'hair', 'stylist', 'comedy', '113', '2008', '303'], ['day', 'night', 'alaskan', 'plung', 'dark', 'month', 'attack', 'bloodthirsti', 'gang', 'vampir', 'action', 'horror', 'thriller', '113', '2007', '304'], ['men', 'black', 'polic', 'offic', 'join', 'secret', 'organ', 'polic', 'monitor', 'extraterrestri', 'interact', 'earth', 'action', 'adventure', 'comedy', '98', '1997', '305'], ['step', 'gage', 'receiv', 'opportun', 'lifetim', 'vandal', 'perform', 'art', 'school', 'gain', 'earn', 'scholarship', 'danc', 'come', 'dancer', 'crime', 'drama', 'music', '104', '2006', '306'], ['kingdom', 'team', 'us', 'govern', 'agent', 'sent', 'investig', 'bomb', 'american', 'facil', 'middl', 'east', 'action', 'drama', 'thriller', '110', '2007', '307'], ['wilder', 'popular', 'kid', 'campu', 'meet', 'beauti', 'journalist', 'make', 'realiz', 'mayb', 'he', 'afraid', 'graduat', 'comedy', 'romance', '92', '2002', '308'], ['box', 'small', 'wooden', 'box', 'arriv', 'doorstep', 'marri', 'coupl', 'know', 'open', 'million', 'dollar', 'kill', 'someon', 'dont', 'know', 'drama', 'mystery', 'thriller', '115', '2009', '309'], ['man', 'specialis', 'debunk', 'paranorm', 'occurr', 'check', 'fabl', 'room', 'dolphin', 'hotel', 'soon', 'settl', 'confront', 'genuin', 'terror', 'fantasy', 'horror', 'mystery', '104', '2007', '310'], ['transport', 'forc', 'deliv', 'kidnap', 'daughter', 'ukrainian', 'govern', 'offici', 'marseil', 'black', 'sea', 'en', 'rout', 'contend', 'thug', 'want', 'intercept', 'valentina', 'safe', 'deliveri', 'action', 'crime', 'thriller', '104', '2008', '311'], ['total', 'recal', 'man', 'goe', 'virtual', 'vacat', 'memori', 'planet', 'mar', 'implant', 'mind', 'unexpect', 'harrow', 'seri', 'event', 'forc', 'go', 'planet', 'real', 'action', 'sci-fi', 'thriller', '113', '1990', '312'], ['power', 'intern', 'man', 'mysteri', 'worldclass', 'playboy', 'parttim', 'secret', 'agent', 'emerg', 'year', 'cryogen', 'state', 'battl', 'nemesi', 'dr', 'evil', 'adventure', 'comedy', '89', '1997', '313'], ['legal', 'blond', 'wood', 'fashion', 'soror', 'queen', 'dump', 'boyfriend', 'decid', 'follow', 'law', 'school', 'figur', 'look', 'comedy', 'romance', '96', '2001', '314'], ['imposs', 'iii', 'imf', 'agent', 'come', 'conflict', 'danger', 'sadist', 'arm', 'dealer', 'threaten', 'life', 'fiancé', 'respons', 'action', 'adventure', 'thriller', '126', '2006', '315'], ['meet', 'focker', 'hell', 'break', 'loos', 'byrn', 'famili', 'meet', 'focker', 'famili', 'first', 'time', 'comedy', 'romance', '115', '2004', '316'], ['there', 'someth', 'man', 'get', 'meet', 'dream', 'girl', 'high', 'school', 'even', 'though', 'date', 'back', 'complet', 'disast', 'comedy', 'romance', '119', '1998', '317'], ['natur', 'born', 'killer', 'victim', 'traumat', 'childhood', 'becom', 'lover', 'psychopath', 'serial', 'murder', 'irrespons', 'glorifi', 'mass', 'media', 'action', 'crime', 'drama', '118', '1994', '318'], ['power', 'goldmemb', 'upon', 'learn', 'father', 'kidnap', 'power', 'must', 'travel', 'defeat', 'aptli', 'name', 'villain', 'goldmemb', 'work', 'dr', 'evil', 'action', 'adventure', 'comedy', '94', '2002', '319'], ['eragon', 'homeland', 'alagaesia', 'farm', 'boy', 'happen', 'upon', 'dragon', 'egg', 'discoveri', 'lead', 'predestin', 'journey', 'realiz', 'he', 'person', 'defend', 'home', 'evil', 'action', 'adventure', 'family', '104', '2006', '320'], ['nasa', 'must', 'devis', 'strategi', 'return', 'earth', 'safe', 'spacecraft', 'undergo', 'massiv', 'intern', 'damag', 'put', 'live', 'astronaut', 'board', 'jeopardi', 'adventure', 'drama', 'history', '140', '1995', '321'], ['cool', 'disench', 'movi', 'industri', 'chili', 'tri', 'music', 'industri', 'meet', 'romanc', 'widow', 'music', 'execut', 'comedy', 'crime', 'music', '118', '2005', '322'], ['greas', 'british', 'student', 'american', 'high', 'school', 'must', 'prove', 'leader', 'girl', 'gang', 'whose', 'member', 'date', 'greaser', 'comedy', 'drama', 'musical', '115', '1982', '323'], ['dodgebal', 'true', 'underdog', 'stori', 'group', 'misfit', 'enter', 'la', 'vega', 'dodgebal', 'tournament', 'order', 'save', 'cherish', 'local', 'gym', 'onslaught', 'corpor', 'health', 'fit', 'chain', 'comedy', 'sport', '92', '2004', '324'], ['dogma', 'abort', 'clinic', 'worker', 'special', 'heritag', 'call', 'upon', 'save', 'exist', 'human', 'negat', 'renegad', 'angel', 'tri', 'exploit', 'loophol', 'reenter', 'heaven', 'adventure', 'comedy', 'drama', '130', '1999', '325'], ['sign', 'widow', 'former', 'priest', 'live', 'children', 'brother', 'pennsylvania', 'farm', 'find', 'mysteri', 'crop', 'circl', 'field', 'suggest', 'someth', 'frighten', 'come', 'drama', 'mystery', 'sci-fi', '106', '2002', '326'], ['punish', 'undercov', 'fbi', 'agent', 'becom', 'vigilant', 'set', 'unleash', 'wrath', 'upon', 'corrupt', 'businessman', 'slaughter', 'entir', 'famili', 'reunion', 'action', 'crime', 'drama', '124', '2004', '327'], ['road', 'colleg', 'buddi', 'embark', 'road', 'retriev', 'illicit', 'tape', 'mistakenli', 'mail', 'femal', 'friend', 'comedy', '93', '2000', '328'], ['bad', 'boy', 'ii', 'loosecannon', 'narcot', 'cop', 'investig', 'flow', 'ecstasi', 'cuban', 'drug', 'cartel', 'action', 'comedy', 'crime', '147', '2003', '329'], ['colleg', 'meet', 'fellow', 'student', 'denmark', 'first', 'dislik', 'later', 'accept', 'like', 'love', 'prove', 'crown', 'edvard', 'follow', 'copenhagen', 'follow', 'back', 'school', 'plan', 'comedy', 'family', 'romance', '111', '2004', '330'], ['tenenbaum', 'eccentr', 'member', 'dysfunct', 'famili', 'reluctantli', 'gather', 'roof', 'variou', 'reason', 'comedy', 'drama', '110', '2001', '331'], ['almighti', 'god', 'contact', 'congressman', 'tell', 'build', 'ark', 'prepar', 'great', 'flood', 'comedy', 'family', 'fantasy', '96', '2007', '332'], ['other', 'woman', 'live', 'darken', 'old', 'famili', 'hous', 'photosensit', 'children', 'becom', 'convinc', 'home', 'haunt', 'horror', 'mystery', 'thriller', '104', '2001', '333'], ['golden', 'compass', 'parallel', 'univers', 'young', 'lyra', 'belacqua', 'journey', 'far', 'north', 'save', 'best', 'friend', 'kidnap', 'children', 'terribl', 'experi', 'mysteri', 'organ', 'adventure', 'family', 'fantasy', '113', '2007', '334'], ['untouch', 'era', 'prohibit', 'unit', 'state', 'feder', 'agent', 'ness', 'set', 'stop', 'ruthless', 'chicago', 'gangster', 'capon', 'rampant', 'corrupt', 'assembl', 'small', 'handpick', 'team', 'help', 'crime', 'drama', 'thriller', '119', '1987', '335'], ['longest', 'prison', 'inmat', 'form', 'footbal', 'team', 'challeng', 'prison', 'guard', 'comedy', 'crime', 'sport', '113', '2005', '336'], ['chocolat', 'woman', 'young', 'daughter', 'open', 'chocol', 'shop', 'small', 'remot', 'villag', 'shake', 'rigid', 'moral', 'commun', 'drama', 'romance', '121', '2000', '337'], ['brasco', 'fbi', 'undercov', 'agent', 'infiltr', 'mob', 'find', 'identifi', 'mafia', 'life', 'expens', 'regular', 'biography', 'crime', 'drama', '127', '1997', '338'], ['not', 'life', 'simpl', 'bookshop', 'owner', 'chang', 'meet', 'famou', 'film', 'world', 'comedy', 'drama', 'romance', '124', '1999', '339'], ['bc', 'prehistor', 'past', 'dleh', 'mammoth', 'bond', 'beauti', 'evolet', 'warrior', 'horseback', 'captur', 'evolet', 'tribesmen', 'dleh', 'must', 'embark', 'odyssey', 'save', 'true', 'action', 'adventure', 'drama', '109', '2008', '340'], ['shrek', 'third', 'reluctantli', 'design', 'heir', 'land', 'far', 'far', 'away', 'shrek', 'hatch', 'plan', 'instal', 'rebelli', 'new', 'princess', 'tri', 'fend', 'coup', 'détat', 'jilt', 'charm', 'animation', 'adventure', 'comedy', '93', '2007', '341'], ['find', 'neverland', 'stori', 'sir', 'jm', 'barri', 'friendship', 'famili', 'inspir', 'creat', 'pan', 'biography', 'drama', 'family', '106', '2004', '342'], ['orphanag', 'woman', 'bring', 'famili', 'back', 'childhood', 'home', 'use', 'orphanag', 'handicap', 'children', 'long', 'start', 'commun', 'invis', 'new', 'friend', 'drama', 'horror', 'mystery', '105', '2007', '343'], ['big', 'daddi', 'lazi', 'law', 'school', 'grad', 'adopt', 'kid', 'impress', 'girlfriend', 'everyth', 'doesnt', 'go', 'plan', 'becom', 'unlik', 'father', 'comedy', 'drama', '93', '1999', '344'], ['seri', 'unfortun', 'event', 'massiv', 'fire', 'kill', 'parent', 'children', 'deliv', 'custodi', 'cousin', 'stage', 'actor', 'count', 'secretli', 'plot', 'steal', 'parent', 'vast', 'adventure', 'comedy', 'family', '108', '2004', '345'], ['stranger', 'young', 'coupl', 'stay', 'isol', 'vacat', 'home', 'terror', 'unknown', 'assail', 'horror', 'mystery', 'thriller', '86', '2008', '346'], ['alien', 'resurrect', 'year', 'death', 'reviv', 'power', 'humanalien', 'hybrid', 'clone', 'along', 'crew', 'space', 'pirat', 'must', 'battl', 'deadli', 'alien', 'stop', 'reach', 'earth', 'action', 'horror', 'sci-fi', '109', '1997', '347'], ['hitchhik', 'guid', 'galaxi', 'mere', 'second', 'earth', 'demolish', 'alien', 'construct', 'crew', 'journeyman', 'dent', 'swept', 'planet', 'friend', 'prefect', 'research', 'pen', 'new', 'edit', 'hitchhik', 'guid', 'galaxi', 'adventure', 'comedy', 'sci-fi', '109', '2005', '348'], ['final', 'destin', 'horrifi', 'premonit', 'save', 'young', 'man', 'friend', 'death', 'racetrack', 'accid', 'terribl', 'fate', 'await', 'nonetheless', 'action', 'horror', 'thriller', '82', '2009', '349'], ['brown', 'flight', 'attend', 'crimin', 'past', 'get', 'nab', 'fbi', 'smuggl', 'pressur', 'becom', 'inform', 'drug', 'dealer', 'work', 'must', 'find', 'secur', 'futur', 'without', 'get', 'kill', 'crime', 'drama', 'thriller', '154', '1997', '350'], ['anger', 'manag', 'buznik', 'businessman', 'wrongli', 'sentenc', 'anger', 'manag', 'program', 'meet', 'aggress', 'instructor', 'comedy', '106', '2003', '351'], ['man', 'apart', 'man', 'known', 'diablo', 'emerg', 'head', 'drug', 'cartel', 'previou', 'leader', 'imprison', 'action', 'crime', 'drama', '109', '2003', '352'], ['like', 'heaven', 'lone', 'landscap', 'architect', 'fall', 'spirit', 'beauti', 'woman', 'use', 'live', 'new', 'apart', 'comedy', 'drama', 'fantasy', '95', '2005', '353'], ['hot', 'chick', 'attract', 'popular', 'teenag', 'meanspirit', 'toward', 'other', 'find', 'bodi', 'older', 'man', 'must', 'find', 'get', 'back', 'origin', 'bodi', 'comedy', 'fantasy', '104', '2002', '354'], ['tri', 'keep', 'relationship', 'togeth', 'even', 'must', 'stop', 'mr', 'freez', 'poison', 'freez', 'gotham', 'citi', 'action', 'sci-fi', '125', '1997', '355'], ['next', 'la', 'vega', 'magician', 'futur', 'pursu', 'fbi', 'agent', 'seek', 'use', 'abil', 'prevent', 'nuclear', 'terrorist', 'attack', 'action', 'sci-fi', 'thriller', '96', '2007', '356'], ['blade', 'triniti', 'blade', 'want', 'man', 'fbi', 'must', 'join', 'forc', 'nightstalk', 'face', 'challeng', 'enemi', 'yet', 'dracula', 'action', 'horror', 'sci-fi', '113', '2004', '357'], ['hels', 'fame', 'monster', 'sent', 'transylvania', 'stop', 'count', 'dracula', 'use', 'dr', 'frankenstein', 'research', 'werewolf', 'nefari', 'purpos', 'action', 'adventure', 'fantasy', '131', '2004', '358'], ['american', 'pie', 'friend', 'colleg', 'decid', 'meet', 'beach', 'hous', 'fun', 'comedy', '108', '2001', '359'], ['monster', 'base', 'life', 'wuorno', 'daytona', 'beach', 'prostitut', 'becam', 'serial', 'killer', 'biography', 'crime', 'drama', '109', '2003', '360'], ['pronounc', 'straight', 'singl', 'brooklyn', 'firefight', 'pretend', 'coupl', 'order', 'receiv', 'domest', 'partner', 'benefit', 'comedy', 'romance', '115', '2007', '361'], ['american', 'wed', 'wed', 'gather', 'famili', 'friend', 'includ', 'jim', 'old', 'friend', 'high', 'school', 'michel', 'littl', 'sister', 'comedy', '96', '2003', '362'], ['hood', 'thiev', 'moorish', 'companion', 'come', 'england', 'tyranni', 'sheriff', 'nottingham', 'decid', 'fight', 'back', 'outlaw', 'action', 'adventure', 'drama', '143', '1991', '363'], ['parent', 'trap', 'ident', 'twin', 'separ', 'birth', 'rais', 'biolog', 'parent', 'later', 'discov', 'first', 'time', 'summer', 'camp', 'make', 'plan', 'bring', 'wayward', 'parent', 'back', 'togeth', 'adventure', 'comedy', 'drama', '128', '1998', '364'], ['hostel', 'backpack', 'head', 'slovak', 'citi', 'promis', 'meet', 'hedonist', 'expect', 'idea', 'hell', 'await', 'horror', '94', '2005', '365'], ['hill', 'eye', 'travel', 'famili', 'fall', 'victim', 'group', 'mutat', 'cannib', 'desert', 'far', 'away', 'civil', 'horror', 'thriller', '107', '2006', '366'], ['last', 'mohican', 'trapper', 'protect', 'daughter', 'british', 'colonel', 'midst', 'indian', 'war', 'action', 'adventure', 'drama', '112', '1992', '367'], ['dragonbal', 'evolut', 'young', 'warrior', 'goku', 'set', 'quest', 'race', 'time', 'veng', 'piccolo', 'collect', 'set', 'magic', 'orb', 'wielder', 'unlimit', 'power', 'action', 'adventure', 'fantasy', '85', '2009', '368'], ['amityvil', 'horror', 'newlyw', 'terror', 'demon', 'forc', 'move', 'larg', 'hous', 'site', 'grisli', 'mass', 'murder', 'year', 'horror', '90', '2005', '369'], ['simpson', 'movi', 'pollut', 'town', 'water', 'suppli', 'springfield', 'encas', 'gigant', 'dome', 'epa', 'simpson', 'declar', 'fugit', 'animation', 'adventure', 'comedy', '87', '2007', '370'], ['batman', 'return', 'batman', 'deal', 'deform', 'man', 'call', 'penguin', 'wreak', 'havoc', 'across', 'gotham', 'help', 'cruel', 'businessman', 'femal', 'employe', 'latter', 'becom', 'catwoman', 'vendetta', 'action', 'crime', 'fantasy', '126', '1992', '371'], ['white', 'chick', 'disgrac', 'fbi', 'agent', 'go', 'undercov', 'effort', 'protect', 'hotel', 'heiress', 'sister', 'kidnap', 'plot', 'comedy', 'crime', '109', '2004', '372'], ['shrek', 'shrek', 'travel', 'kingdom', 'far', 'far', 'away', 'fiona', 'parent', 'queen', 'celebr', 'marriag', 'arriv', 'find', 'welcom', 'thought', 'would', 'animation', 'adventure', 'comedy', '93', '2004', '373'], ['night', 'museum', 'newli', 'recruit', 'night', 'secur', 'guard', 'museum', 'natur', 'histori', 'discov', 'ancient', 'curs', 'caus', 'anim', 'exhibit', 'display', 'come', 'life', 'wreak', 'havoc', 'adventure', 'comedy', 'family', '108', '2006', '374'], ['wed', 'singer', 'singer', 'waitress', 'engag', 'wrong', 'peopl', 'interven', 'help', 'discov', 'comedy', 'music', 'romance', '97', '1998', '375'], ['almighti', 'complain', 'god', 'often', 'given', 'almighti', 'power', 'teach', 'difficult', 'run', 'world', 'comedy', 'fantasy', '101', '2003', '376'], ['spacebal', 'starpilot', 'hire', 'trusti', 'sidekick', 'must', 'come', 'rescu', 'princess', 'save', 'planet', 'druidia', 'clutch', 'evil', 'spacebal', 'adventure', 'comedy', 'sci-fi', '96', '1987', '377'], ['intern', 'interpol', 'agent', 'attempt', 'expos', 'highprofil', 'financi', 'institut', 'role', 'intern', 'arm', 'deal', 'ring', 'action', 'crime', 'drama', '118', '2009', '378'], ['die', 'hard', 'vengeanc', 'mcclane', 'harlem', 'store', 'owner', 'target', 'german', 'terrorist', 'new', 'york', 'citi', 'plan', 'feder', 'reserv', 'build', 'action', 'adventure', 'thriller', '128', '1995', '379'], ['power', 'spi', 'shag', 'dr', 'evil', 'back', 'invent', 'new', 'time', 'machin', 'allow', 'go', 'back', 'steal', 'power', 'mojo', 'inadvert', 'leav', 'shagless', 'action', 'adventure', 'comedy', '95', '1999', '380'], ['desperado', 'former', 'musician', 'gunsling', 'el', 'mariachi', 'arriv', 'small', 'mexican', 'border', 'away', 'long', 'time', 'past', 'quickli', 'catch', 'soon', 'get', 'entangl', 'local', 'drug', 'kingpin', 'bucho', 'gang', 'action', 'crime', 'thriller', '104', '1995', '381'], ['sweetest', 'thing', 'girl', 'find', 'forc', 'educ', 'etiquett', 'woo', 'opposit', 'sex', 'final', 'meet', 'mr', 'right', 'comedy', 'romance', '84', '2002', '382'], ['underworld', 'evolut', 'pick', 'directli', 'previou', 'movi', 'vampir', 'warrior', 'half', 'werewolf', 'clue', 'reveal', 'histori', 'race', 'war', 'action', 'fantasy', 'thriller', '106', '2006', '383'], ['robocop', 'dystop', 'crimeridden', 'detroit', 'termin', 'wound', 'cop', 'return', 'forc', 'power', 'cyborg', 'haunt', 'submerg', 'memori', 'action', 'crime', 'sci-fi', '102', '1987', '384'], ['mask', 'bank', 'clerk', 'ipkiss', 'transform', 'manic', 'superhero', 'wear', 'mysteri', 'mask', 'action', 'comedy', 'crime', '101', '1994', '385'], ['charli', 'angel', 'women', 'detect', 'mysteri', 'boss', 'retriev', 'stolen', 'voiceid', 'softwar', 'use', 'martial', 'art', 'tech', 'skill', 'sex', 'appeal', 'action', 'adventure', 'comedy', '98', '2000', '386'], ['black', 'dynamit', 'black', 'dynamit', 'greatest', 'africanamerican', 'action', 'brother', 'kill', 'man', 'find', 'justic', 'action', 'comedy', '84', '2009', '387'], ['men', 'black', 'ii', 'agent', 'sent', 'find', 'agent', 'restor', 'memori', 'reappear', 'kay', 'past', 'action', 'adventure', 'comedy', '88', '2002', '388'], ['antz', 'rather', 'neurot', 'ant', 'tri', 'break', 'totalitarian', 'societi', 'tri', 'affect', 'princess', 'love', 'animation', 'adventure', 'comedy', '83', '1998', '389'], ['world', 'trade', 'center', 'port', 'author', 'polic', 'offic', 'becom', 'trap', 'rubbl', 'world', 'trade', 'center', 'drama', 'history', 'thriller', '129', '2006', '390'], ['shallow', 'shallow', 'man', 'fall', 'woman', 'inner', 'beauti', 'comedy', 'drama', 'fantasy', '114', '2001', '391'], ['evil', 'dead', 'friend', 'travel', 'cabin', 'wood', 'unknowingli', 'releas', 'fleshpossess', 'demon', 'horror', '85', '1981', '392'], ['memoir', 'geisha', 'nitta', 'sayuri', 'reveal', 'transcend', 'fishingvillag', 'root', 'becam', 'japan', 'celebr', 'geisha', 'drama', 'romance', '145', '2005', '393'], ['boy', 'cynic', 'immatur', 'young', 'man', 'taught', 'act', 'like', 'grownup', 'littl', 'boy', 'comedy', 'drama', 'romance', '101', '2002', '394'], ['die', 'anoth', 'day', 'bond', 'sent', 'investig', 'connect', 'north', 'korean', 'terrorist', 'mogul', 'fund', 'develop', 'intern', 'space', 'weapon', 'action', 'adventure', 'thriller', '133', '2002', '395'], ['lost', 'world', 'jurass', 'research', 'team', 'sent', 'jurass', 'site', 'b', 'island', 'studi', 'dinosaur', 'ingen', 'team', 'approach', 'anoth', 'agenda', 'action', 'adventure', 'sci-fi', '129', '1997', '396'], ['soldier', 'stori', 'first', 'battl', 'american', 'phase', 'vietnam', 'war', 'soldier', 'side', 'fought', 'wive', 'nervous', 'anxious', 'home', 'good', 'news', 'bad', 'news', 'action', 'drama', 'history', '138', '2002', '397'], ['mortal', 'kombat', 'annihil', 'group', 'martial', 'art', 'warrior', 'day', 'save', 'earth', 'extradimension', 'invas', 'action', 'adventure', 'fantasy', '95', '1997', '398'], ['madagascar', 'escap', 'africa', 'madagascar', 'anim', 'fli', 'back', 'new', 'york', 'citi', 'crashland', 'african', 'natur', 'reserv', 'meet', 'other', 'kind', 'especi', 'discov', 'heritag', 'pride', 'animation', 'adventure', 'comedy', '89', '2008', '399'], ['walk', 'tall', 'former', 'us', 'soldier', 'return', 'hometown', 'find', 'overrun', 'crime', 'corrupt', 'prompt', 'clean', 'hous', 'action', 'crime', '86', '2004', '400'], ['die', 'hard', 'mcclane', 'attempt', 'avert', 'disast', 'rogu', 'militari', 'oper', 'seiz', 'control', 'dull', 'intern', 'airport', 'dc', 'action', 'thriller', '124', '1990', '401'], ['nightmar', 'christma', 'skellington', 'halloween', 'discov', 'christma', 'attempt', 'bring', 'christma', 'home', 'caus', 'confus', 'animation', 'family', 'fantasy', '76', '1993', '402'], ['stargat', 'interstellar', 'teleport', 'devic', 'found', 'egypt', 'lead', 'planet', 'human', 'resembl', 'ancient', 'egyptian', 'worship', 'god', 'ra', 'action', 'adventure', 'sci-fi', '116', '1994', '403'], ['joness', 'diari', 'jone', 'determin', 'improv', 'look', 'year', 'keep', 'person', 'diari', 'comedy', 'drama', 'romance', '97', '2001', '404'], ['hell', 'victorianera', 'london', 'troubl', 'clairvoy', 'polic', 'detect', 'investig', 'murder', 'ripper', 'horror', 'mystery', 'thriller', '122', '2001', '405'], ['daredevil', 'man', 'blind', 'toxic', 'wast', 'also', 'enhanc', 'remain', 'sens', 'fight', 'crime', 'acrobat', 'martial', 'art', 'superhero', 'action', 'crime', '103', '2003', '406'], ['croft', 'tomb', 'raider', 'video', 'game', 'adventur', 'croft', 'come', 'life', 'movi', 'race', 'time', 'villain', 'recov', 'power', 'ancient', 'artifact', 'action', 'adventure', 'fantasy', '100', '2001', '407'], ['imposs', 'american', 'agent', 'fals', 'suspicion', 'disloyalti', 'must', 'discov', 'expos', 'real', 'spi', 'without', 'help', 'organ', 'action', 'adventure', 'thriller', '110', '1996', '408'], ['silent', 'strike', 'back', 'comic', 'bluntman', 'chronic', 'base', 'reallif', 'stoner', 'silent', 'get', 'profit', 'bigscreen', 'adapt', 'set', 'wreck', 'movi', 'comedy', '104', '2001', '409'], ['termin', 'eastern', 'european', 'tourist', 'unexpectedli', 'find', 'strand', 'jfk', 'airport', 'must', 'take', 'temporari', 'resid', 'comedy', 'drama', 'romance', '128', '2004', '410'], ['along', 'came', 'buttonedup', 'newlyw', 'find', 'strictli', 'organ', 'life', 'descend', 'chao', 'fall', 'old', 'classmat', 'comedy', 'romance', '90', '2004', '411'], ['devil', 'reject', 'murder', 'backwood', 'firefli', 'famili', 'take', 'road', 'escap', 'veng', 'sheriff', 'wydel', 'afraid', 'ruthless', 'target', 'crime', 'horror', 'western', '107', '2005', '412'], ['district', 'ultimatum', 'leito', 'return', 'district', 'mission', 'bring', 'peac', 'troubl', 'sector', 'control', 'differ', 'gang', 'boss', 'citi', 'secret', 'servic', 'take', 'drastic', 'measur', 'solv', 'problem', 'action', 'crime', 'thriller', '101', '2009', '413'], ['mummi', 'return', 'mummifi', 'bodi', 'imhotep', 'ship', 'museum', 'london', 'wake', 'begin', 'campaign', 'rage', 'terror', 'action', 'adventure', 'fantasy', '130', '2001', '414'], ['alien', 'last', 'encount', 'crashland', 'fiorina', 'maximum', 'secur', 'prison', 'seri', 'strang', 'deadli', 'event', 'occur', 'shortli', 'arriv', 'realiz', 'brought', 'along', 'unwelcom', 'visitor', 'action', 'horror', 'sci-fi', '114', '1992', '415'], ['mr', 'doubtfir', 'bitter', 'divorc', 'actor', 'disguis', 'femal', 'housekeep', 'spend', 'time', 'children', 'held', 'custodi', 'former', 'wife', 'comedy', 'drama', 'family', '125', '1993', '416'], ['duke', 'hazzard', 'cousin', 'uncl', 'egg', 'author', 'hazzard', 'counti', 'boss', 'hogg', 'sheriff', 'coltran', 'comedy', '104', '2005', '417'], ['clerk', 'ii', 'calam', 'randal', 'shop', 'send', 'look', 'new', 'horizon', 'ultim', 'settl', 'fast', 'food', 'empir', 'moobi', 'comedy', '97', '2006', '418'], ['abyss', 'civilian', 'dive', 'team', 'enlist', 'search', 'lost', 'nuclear', 'submarin', 'face', 'danger', 'encount', 'alien', 'aquat', 'speci', 'adventure', 'drama', 'mystery', '140', '1989', '419'], ['scari', 'movi', 'teen', 'trick', 'professor', 'oldman', 'curri', 'visit', 'haunt', 'hous', 'school', 'project', 'comedy', '83', '2001', '420'], ['poppin', 'turn', 'centuri', 'london', 'magic', 'employ', 'music', 'adventur', 'help', 'neglect', 'children', 'becom', 'closer', 'father', 'comedy', 'family', 'fantasy', '139', '1964', '421'], ['coach', 'controversi', 'surround', 'high', 'school', 'basketbal', 'coach', 'bench', 'entir', 'team', 'break', 'academ', 'contract', 'biography', 'drama', 'sport', '136', '2005', '422'], ['polic', 'academi', 'group', 'goodheart', 'incompet', 'misfit', 'enter', 'polic', 'academi', 'instructor', 'go', 'put', 'prank', 'comedy', '96', '1984', '423'], ['cube', 'complet', 'stranger', 'wide', 'vari', 'person', 'involuntarili', 'place', 'endless', 'maze', 'contain', 'deadli', 'trap', 'drama', 'horror', 'mystery', '90', '1997', '424'], ['clerk', 'day', 'live', 'conveni', 'clerk', 'name', 'annoy', 'custom', 'discuss', 'movi', 'play', 'hockey', 'store', 'roof', 'comedy', '92', '1994', '425'], ['black', 'book', 'nazioccupi', 'netherland', 'world', 'war', 'ii', 'jewish', 'singer', 'infiltr', 'region', 'gestapo', 'headquart', 'dutch', 'resist', 'drama', 'thriller', 'war', '145', '2006', '426'], ['final', 'destin', 'year', 'student', 'cheat', 'death', 'anoth', 'teen', 'premonit', 'friend', 'involv', 'accid', 'vision', 'prove', 'true', 'student', 'survivor', 'deal', 'repercuss', 'cheat', 'grim', 'reaper', 'horror', 'mystery', 'thriller', '93', '2006', '427'], ['corps', 'shi', 'groom', 'practic', 'wed', 'vow', 'inadvert', 'presenc', 'deceas', 'young', 'woman', 'rise', 'grave', 'assum', 'marri', 'animation', 'drama', 'family', '77', '2005', '428'], ['texa', 'chainsaw', 'massacr', 'pick', 'traumat', 'young', 'hitchhik', 'friend', 'find', 'stalk', 'hunt', 'deform', 'chainsawwield', 'loon', 'famili', 'equal', 'psychopath', 'killer', 'crime', 'horror', '98', '2003', '429'], ['halloween', 'year', 'murder', 'sister', 'halloween', 'night', 'myer', 'escap', 'mental', 'hospit', 'return', 'small', 'haddonfield', 'illinoi', 'kill', 'horror', 'thriller', '91', '1978', '430'], ['lie', 'beneath', 'wife', 'univers', 'research', 'scientist', 'believ', 'lakesid', 'vermont', 'home', 'haunt', 'ghost', 'lose', 'mind', 'drama', 'horror', 'mystery', '130', '2000', '431'], ['snake', 'plane', 'fbi', 'agent', 'take', 'plane', 'full', 'deadli', 'venom', 'snake', 'deliber', 'releas', 'kill', 'wit', 'flown', 'honolulu', 'lo', 'angel', 'testifi', 'mob', 'boss', 'action', 'adventure', 'crime', '105', '2006', '432'], ['gforc', 'special', 'train', 'squad', 'guinea', 'pig', 'dispatch', 'stop', 'diabol', 'billionair', 'take', 'world', 'animation', 'action', 'adventure', '88', '2009', '433'], ['black', 'policemen', 'person', 'profession', 'live', 'fall', 'apart', 'black', 'short', 'murder', 'investig', 'crime', 'drama', 'mystery', '121', '2006', '434'], ['world', 'enough', 'bond', 'uncov', 'nuclear', 'plot', 'protect', 'oil', 'heiress', 'former', 'kidnapp', 'intern', 'terrorist', 'cant', 'feel', 'pain', 'action', 'adventure', 'thriller', '128', '1999', '435'], ['rat', 'race', 'la', 'vega', 'casino', 'magnat', 'determin', 'find', 'new', 'avenu', 'wager', 'set', 'race', 'money', 'action', 'adventure', 'comedy', '112', '2001', '436'], ['final', 'destin', 'brown', 'among', 'group', 'high', 'school', 'student', 'readi', 'europ', 'suddenli', 'premonit', 'airplan', 'crash', 'scream', 'warn', 'other', 'instead', 'thrown', 'plane', 'horror', 'thriller', '98', '2000', '437'], ['brüno', 'flamboy', 'austrian', 'brüno', 'look', 'new', 'fame', 'america', 'comedy', '81', '2009', '438'], ['jurass', 'iii', 'decidedli', 'odd', 'coupl', 'ulterior', 'motiv', 'convinc', 'dr', 'go', 'isla', 'sorna', 'holiday', 'unexpect', 'land', 'startl', 'island', 'new', 'inhabit', 'action', 'adventure', 'sci-fi', '92', '2001', '439'], ['disast', 'movi', 'cours', 'even', 'unsuspect', 'group', 'twentysometh', 'find', 'bombard', 'seri', 'natur', 'disast', 'catastroph', 'event', 'comedy', 'sci-fi', '87', '2008', '440'], ['exorc', 'lawyer', 'take', 'neglig', 'homicid', 'involv', 'priest', 'perform', 'exorc', 'young', 'girl', 'drama', 'horror', 'thriller', '119', '2005', '441'], ['skeleton', 'key', 'hospic', 'nurs', 'work', 'spooki', 'new', 'orlean', 'plantat', 'home', 'find', 'entangl', 'mysteri', 'involv', 'hous', 'dark', 'past', 'drama', 'horror', 'mystery', '104', '2005', '442'], ['lethal', 'weapon', 'newli', 'pair', 'cop', 'complet', 'opposit', 'must', 'put', 'asid', 'differ', 'order', 'catch', 'gang', 'drug', 'smuggler', 'action', 'crime', 'thriller', '109', '1987', '443'], ['dude', 'where', 'car', 'pothead', 'night', 'parti', 'cannot', 'rememb', 'park', 'car', 'comedy', 'mystery', 'sci-fi', '83', '2000', '444'], ['hedg', 'scheme', 'raccoon', 'fool', 'mismatch', 'famili', 'creatur', 'help', 'repay', 'debt', 'food', 'invad', 'new', 'suburban', 'sprawl', 'pop', 'hibernatingand', 'learn', 'lesson', 'famili', 'animation', 'adventure', 'comedy', '83', '2006', '445'], ['cheaper', 'dozen', 'wife', 'book', 'tour', 'father', 'must', 'handl', 'new', 'unstabl', 'brood', 'comedy', 'family', '98', '2003', '446'], ['go', 'girl', 'make', 'wish', 'thirteenth', 'birthday', 'wake', 'next', 'day', 'thirtyyearold', 'woman', 'comedy', 'fantasy', 'romance', '98', '2004', '447'], ['planet', 'ape', 'astronaut', 'crew', 'crashland', 'planet', 'distant', 'futur', 'intellig', 'talk', 'ape', 'domin', 'speci', 'human', 'oppress', 'enslav', 'adventure', 'sci-fi', '112', '1968', '448'], ['jumanji', 'kid', 'find', 'play', 'magic', 'board', 'game', 'releas', 'man', 'trap', 'decad', 'host', 'danger', 'stop', 'finish', 'game', 'adventure', 'comedy', 'family', '104', '1995', '449'], ['deep', 'impact', 'comet', 'discov', 'collis', 'cours', 'earth', 'doomsday', 'near', 'human', 'race', 'prepar', 'worst', 'action', 'drama', 'sci-fi', '120', '1998', '450'], ['pocahonta', 'english', 'soldier', 'daughter', 'algonquin', 'chief', 'share', 'romanc', 'english', 'colonist', 'invad', 'seventeenth', 'centuri', 'animation', 'adventure', 'drama', '81', '1995', '451'], ['wild', 'hog', 'group', 'suburban', 'biker', 'wannab', 'look', 'adventur', 'hit', 'open', 'road', 'get', 'bargain', 'encount', 'new', 'mexico', 'gang', 'call', 'fuego', 'action', 'adventure', 'comedy', '100', '2007', '452'], ['wonderland', 'stumbl', 'world', 'wonderland', 'get', 'home', 'queen', 'heart', 'animation', 'adventure', 'comedy', '75', '1951', '453'], ['room', 'interlock', 'tale', 'take', 'place', 'fade', 'hotel', 'new', 'year', 'comedy', '98', '1995', '454'], ['ruin', 'leisur', 'mexican', 'holiday', 'take', 'turn', 'wors', 'group', 'friend', 'fellow', 'tourist', 'embark', 'remot', 'archaeolog', 'dig', 'jungl', 'someth', 'evil', 'live', 'among', 'ruin', 'adventure', 'fantasy', 'horror', '90', '2008', '455'], ['feet', 'world', 'emperor', 'penguin', 'find', 'soul', 'mate', 'song', 'penguin', 'born', 'cannot', 'sing', 'tap', 'danc', 'someth', 'fierc', 'animation', 'adventure', 'comedy', '108', '2006', '456'], ['imposs', 'ii', 'imf', 'agent', 'sent', 'find', 'destroy', 'genet', 'modifi', 'diseas', 'call', 'chimera', 'action', 'adventure', 'thriller', '123', '2000', '457'], ['elf', 'rais', 'overs', 'elf', 'human', 'travel', 'north', 'pole', 'nyc', 'meet', 'biolog', 'father', 'doesnt', 'know', 'exist', 'desper', 'need', 'christma', 'spirit', 'adventure', 'comedy', 'family', '97', '2003', '458'], ['hill', 'eye', 'group', 'nation', 'guard', 'traine', 'find', 'battl', 'viciou', 'group', 'mutant', 'last', 'day', 'train', 'desert', 'horror', 'thriller', '89', '2007', '459'], ['women', 'want', 'cocki', 'chauvinist', 'advertis', 'execut', 'magic', 'acquir', 'abil', 'hear', 'women', 'think', 'comedy', 'fantasy', 'romance', '127', '2000', '460'], ['winter', 'wartim', 'nazioccupi', 'netherland', 'teenag', 'boy', 'get', 'involv', 'dutch', 'resist', 'come', 'aid', 'wound', 'pilot', 'drama', 'history', 'war', '103', '2008', '461'], ['dreamcatch', 'friend', 'camp', 'discov', 'theyr', 'vacat', 'plagu', 'unusu', 'fashion', 'parasit', 'alien', 'outer', 'space', 'drama', 'horror', 'sci-fi', '134', '2003', '462'], ['epic', 'movi', 'spoof', 'previou', 'year', 'epic', 'movi', 'da', 'vinci', 'code', 'chronicl', 'narnia', 'witch', 'wardrob', 'tv', 'seri', 'music', 'video', 'celeb', 'orphan', 'epic', 'adventur', 'adventure', 'comedy', 'fantasy', '86', '2007', '463'], ['gremlin', 'young', 'man', 'inadvert', 'break', 'import', 'rule', 'concern', 'new', 'unleash', 'hord', 'malevol', 'mischiev', 'monster', 'small', 'comedy', 'fantasy', 'horror', '106', '1984', '464'], ['miss', 'congeni', 'fbi', 'agent', 'must', 'go', 'undercov', 'miss', 'unit', 'state', 'beauti', 'pageant', 'prevent', 'group', 'bomb', 'event', 'action', 'comedy', 'crime', '109', '2000', '465'], ['q', 'take', 'hospit', 'emerg', 'room', 'hostag', 'insur', 'wont', 'cover', 'son', 'heart', 'transplant', 'crime', 'drama', 'thriller', '116', '2002', '466'], ['spi', 'kid', 'use', 'high', 'tech', 'gadget', 'kid', 'save', 'reactiv', 'oss', 'top', 'spi', 'parent', 'theyr', 'taken', 'evil', 'high', 'tech', 'enemi', 'action', 'adventure', 'comedy', '88', '2001', '467'], ['ii', 'detect', 'team', 'must', 'rescu', 'peopl', 'trap', 'factori', 'twist', 'serial', 'killer', 'known', 'jigsaw', 'horror', 'mystery', '93', '2005', '468'], ['hear', 'morgan', 'new', 'york', 'citi', 'estrang', 'coupl', 'wit', 'murder', 'reloc', 'small', 'wyom', 'part', 'wit', 'protect', 'program', 'comedy', 'drama', 'romance', '103', '2009', '469'], ['doa', 'dead', 'aliv', 'world', 'best', 'fighter', 'invit', 'doa', 'invit', 'martial', 'art', 'contest', 'femal', 'rival', 'fighter', 'work', 'togeth', 'uncov', 'secret', 'organ', 'tournament', 'tri', 'hide', 'action', 'adventure', 'mystery', '87', '2006', '470'], ['catwoman', 'shi', 'woman', 'endow', 'speed', 'reflex', 'sens', 'walk', 'thin', 'line', 'crimin', 'hero', 'even', 'detect', 'doggedli', 'pursu', 'fascin', 'persona', 'action', 'crime', 'fantasy', '104', '2004', '471'], ['scari', 'movi', 'must', 'investig', 'mysteri', 'crop', 'circl', 'video', 'tape', 'help', 'presid', 'prevent', 'alien', 'invas', 'comedy', '84', '2003', '472'], ['freaki', 'friday', 'overwork', 'mother', 'daughter', 'get', 'along', 'switch', 'bodi', 'forc', 'adapt', 'other', 'life', 'freaki', 'friday', 'comedy', 'family', 'fantasy', '97', '2003', '473'], ['cop', 'freewheel', 'detroit', 'cop', 'pursu', 'murder', 'investig', 'find', 'deal', 'differ', 'cultur', 'action', 'comedy', 'crime', '105', '1984', '474'], ['alien', 'vs', 'predat', 'requiem', 'war', 'alien', 'predat', 'race', 'descend', 'rural', 'colorado', 'unsuspect', 'resid', 'must', 'band', 'togeth', 'surviv', 'action', 'horror', 'sci-fi', '94', '2007', '475'], ['tomorrow', 'never', 'die', 'bond', 'set', 'stop', 'media', 'mogul', 'plan', 'induc', 'war', 'china', 'uk', 'order', 'obtain', 'exclus', 'global', 'media', 'coverag', 'action', 'adventure', 'thriller', '119', '1997', '476'], ['alien', 'vs', 'predat', 'archaeolog', 'expedit', 'bouvetøya', 'island', 'antarctica', 'team', 'archaeologist', 'scientist', 'find', 'caught', 'battl', 'legend', 'soon', 'team', 'realiz', 'speci', 'action', 'adventure', 'horror', '101', '2004', '477'], ['girl', 'want', 'american', 'teenag', 'learn', 'father', 'wealthi', 'british', 'politician', 'run', 'offic', 'although', 'eager', 'find', 'realiz', 'could', 'caus', 'scandal', 'cost', 'elect', 'comedy', 'drama', 'family', '105', '2003', '478'], ['evil', 'dead', 'ii', 'lone', 'survivor', 'onslaught', 'fleshpossess', 'spirit', 'hole', 'cabin', 'group', 'stranger', 'demon', 'continu', 'attack', 'comedy', 'horror', '84', '1987', '479'], ['bloodi', 'return', 'hometown', 'tenth', 'anniversari', 'valentin', 'night', 'massacr', 'claim', 'live', 'peopl', 'instead', 'homecom', 'find', 'suspect', 'commit', 'murder', 'seem', 'like', 'old', 'flame', 'believ', 'he', 'innoc', 'horror', 'mystery', 'thriller', '101', '2009', '480'], ['passeng', 'grief', 'counselor', 'work', 'group', 'planecrash', 'survivor', 'find', 'root', 'mysteri', 'client', 'begin', 'disappear', 'mystery', 'romance', 'thriller', '93', '2008', '481'], ['know', 'last', 'summer', 'young', 'friend', 'bound', 'tragic', 'accid', 'reunit', 'find', 'stalk', 'hookwield', 'maniac', 'small', 'seasid', 'horror', 'mystery', '101', '1997', '482'], ['texa', 'chainsaw', 'massacr', 'begin', 'sent', 'serv', 'vietnam', 'brother', 'girlfriend', 'take', 'last', 'road', 'get', 'accid', 'terrifi', 'experi', 'take', 'seclud', 'hous', 'horror', 'chainsawwield', 'killer', 'horror', 'thriller', '91', '2006', '483'], ['paycheck', 'seem', 'like', 'breezi', 'idea', 'engin', 'net', 'million', 'dollar', 'leav', 'run', 'life', 'piec', 'togeth', 'he', 'chase', 'action', 'mystery', 'sci-fi', '119', '2003', '484'], ['starski', 'hutch', 'streetwis', 'cop', 'bust', 'crimin', 'white', 'gran', 'torino', 'help', 'polic', 'snitch', 'call', 'huggi', 'comedy', 'crime', '101', '2004', '485'], ['princess', 'diari', 'engag', 'settl', 'genovia', 'princess', 'face', 'new', 'revel', 'prime', 'arrang', 'marriag', 'english', 'suitor', 'comedy', 'family', 'romance', '113', '2004', '486'], ['mad', 'road', 'warrior', 'postapocalypt', 'australian', 'wasteland', 'cynic', 'drifter', 'agre', 'help', 'small', 'gasolinerich', 'commun', 'escap', 'hord', 'bandit', 'action', 'adventure', 'sci-fi', '96', '1981', '487'], ['man', 'rais', 'gorilla', 'must', 'decid', 'realli', 'belong', 'discov', 'human', 'animation', 'adventure', 'comedy', '88', '1999', '488'], ['miami', 'vice', 'base', 'tv', 'actiondrama', 'updat', 'focus', 'vice', 'detect', 'crockett', 'tubb', 'respect', 'person', 'profession', 'live', 'becom', 'danger', 'intertwin', 'action', 'crime', 'drama', '132', '2006', '489'], ['shark', 'tale', 'gangster', 'shark', 'boss', 'accident', 'kill', 'wouldb', 'prey', 'vegetarian', 'brother', 'decid', 'use', 'incid', 'advantag', 'animation', 'adventure', 'comedy', '90', '2004', '490'], ['time', 'machin', 'hope', 'alter', 'event', 'past', 'centuri', 'inventor', 'instead', 'travel', 'year', 'futur', 'find', 'humankind', 'divid', 'war', 'race', 'action', 'adventure', 'sci-fi', '96', '2002', '491'], ['grudg', 'american', 'nurs', 'live', 'work', 'tokyo', 'expos', 'mysteri', 'supernatur', 'curs', 'lock', 'person', 'power', 'rage', 'claim', 'life', 'spread', 'anoth', 'victim', 'horror', 'mystery', 'thriller', '91', '2004', '492'], ['vs', 'krueger', 'voorhe', 'return', 'terror', 'teenag', 'elm', 'street', 'time', 'theyr', 'get', 'action', 'horror', '97', '2003', '493'], ['behind', 'enemi', 'line', 'disillus', 'pilot', 'shot', 'wartorn', 'bosnia', 'ensnar', 'conflict', 'wartorn', 'bosnia', 'crosshair', 'enemi', 'assassin', 'spoil', 'pilot', 'run', 'life', 'command', 'offic', 'risk', 'save', 'action', 'drama', 'thriller', '106', '2001', '494'], ['v', 'follow', 'jigsaw', 'grisli', 'demis', 'hoffman', 'commend', 'hero', 'agent', 'strahm', 'suspici', 'delv', 'hoffman', 'past', 'meanwhil', 'anoth', 'group', 'peopl', 'put', 'seri', 'gruesom', 'test', 'crime', 'horror', 'mystery', '92', '2008', '495'], ['runaway', 'juri', 'juror', 'insid', 'woman', 'outsid', 'manipul', 'court', 'trial', 'involv', 'gun', 'manufactur', 'crime', 'drama', 'thriller', '127', '2003', '496'], ['eye', 'violinist', 'accident', 'blind', 'sister', 'year', 'old', 'submit', 'cornea', 'transplant', 'recov', 'oper', 'realiz', 'see', 'dead', 'peopl', 'horror', 'mystery', '98', '2008', '497'], ['must', 'die', 'aveng', 'cop', 'seek', 'brother', 'killer', 'fall', 'daughter', 'businessman', 'involv', 'moneyd', 'father', 'action', 'crime', 'thriller', '115', '2000', '498'], ['rule', 'engag', 'attorney', 'defend', 'offic', 'trial', 'order', 'troop', 'fire', 'civilian', 'storm', 'us', 'embassi', 'middl', 'eastern', 'countri', 'drama', 'thriller', 'war', '128', '2000', '499'], ['analyz', 'mobster', 'vitti', 'releas', 'dr', 'sobol', 'care', 'chao', 'ensu', 'comedy', 'crime', '96', '2002', '500'], ['get', 'la', 'vega', 'mob', 'enforc', 'travel', 'back', 'hometown', 'investig', 'brother', 'mysteri', 'death', 'action', 'crime', 'drama', '102', '2000', '501'], ['got', 'finger', 'unemploy', 'cartoonist', 'move', 'back', 'parent', 'younger', 'brother', 'parent', 'demand', 'leav', 'begin', 'spread', 'rumor', 'father', 'sexual', 'abus', 'comedy', '87', '2001', '502'], ['transform', 'ancient', 'struggl', 'cybertronian', 'race', 'heroic', 'autobot', 'evil', 'decepticon', 'come', 'earth', 'clue', 'ultim', 'power', 'held', 'teenag', 'action', 'adventure', 'sci-fi', '144', '2007', '503'], ['hostel', 'part', 'ii', 'american', 'colleg', 'student', 'studi', 'abroad', 'lure', 'slovakian', 'hostel', 'discov', 'grim', 'realiti', 'behind', 'horror', '94', '2007', '504'], ['beerfest', 'brother', 'travel', 'germani', 'oktoberfest', 'stumbl', 'upon', 'secret', 'centuriesold', 'competit', 'describ', 'fight', 'club', 'beer', 'game', 'comedy', '110', '2006', '505'], ['condemn', 'await', 'death', 'penalti', 'corrupt', 'central', 'american', 'prison', 'purchas', 'wealthi', 'televis', 'produc', 'taken', 'desol', 'island', 'must', 'fight', 'death', 'condemn', 'killer', 'corner', 'world', 'freedom', 'go', 'sole', 'survivor', 'action', 'crime', 'thriller', '113', '2007', '506'], ['predat', 'predat', 'return', 'earth', 'time', 'stake', 'claim', 'wartorn', 'street', 'dystopian', 'lo', 'angel', 'action', 'horror', 'sci-fi', '108', '1990', '507'], ['grinch', 'stole', 'christma', 'outskirt', 'whovil', 'live', 'green', 'revengeseek', 'grinch', 'plan', 'ruin', 'christma', 'citizen', 'comedy', 'family', 'fantasy', '104', '2000', '508'], ['wicker', 'sheriff', 'investig', 'disappear', 'young', 'girl', 'small', 'island', 'discov', 'there', 'larger', 'mysteri', 'solv', 'among', 'island', 'secret', 'neopagan', 'commun', 'horror', 'mystery', 'thriller', '102', '2006', '509'], ['assault', 'precinct', 'polic', 'must', 'ralli', 'cop', 'prison', 'togeth', 'protect', 'new', 'year', 'corrupt', 'policeman', 'surround', 'station', 'intent', 'kill', 'keep', 'decept', 'rank', 'action', 'crime', 'drama', '109', '2005', '510'], ['robot', 'robot', 'world', 'young', 'idealist', 'inventor', 'travel', 'big', 'citi', 'join', 'inspir', 'compani', 'find', 'oppos', 'sinist', 'new', 'manag', 'animation', 'adventure', 'comedy', '91', '2005', '511'], ['mr', 'deed', 'sweetnatur', 'smalltown', 'inherit', 'control', 'stake', 'media', 'conglomer', 'begin', 'busi', 'comedy', 'romance', '96', '2002', '512'], ['superhero', 'movi', 'orphan', 'high', 'school', 'student', 'riker', 'bitten', 'radioact', 'dragonfli', 'develop', 'super', 'power', 'except', 'abil', 'fli', 'becom', 'hero', 'action', 'comedy', 'sci-fi', '75', '2008', '513'], ['lilo', 'stitch', 'young', 'parentless', 'girl', 'adopt', 'dog', 'local', 'pound', 'complet', 'unawar', 'supposedli', 'danger', 'scientif', 'experi', 'that', 'taken', 'refug', 'earth', 'hide', 'creator', 'menac', 'animation', 'adventure', 'comedy', '85', '2002', '514'], ['iv', 'despit', 'jigsaw', 'death', 'order', 'save', 'live', 'colleagu', 'lieuten', 'rigg', 'forc', 'take', 'part', 'new', 'game', 'promis', 'test', 'limit', 'crime', 'horror', 'mystery', '93', '2007', '515'], ['day', 'night', 'brutal', 'breakup', 'young', 'man', 'vow', 'stay', 'celib', 'day', 'lent', 'find', 'girl', 'dream', 'unabl', 'anyth', 'comedy', 'romance', '96', '2002', '516'], ['rambo', 'first', 'blood', 'part', 'ii', 'rambo', 'return', 'jungl', 'vietnam', 'mission', 'infiltr', 'enemi', 'basecamp', 'rescu', 'american', 'pow', 'still', 'held', 'captiv', 'action', 'adventure', 'thriller', '96', '1985', '517'], ['enter', 'dragon', 'secret', 'agent', 'come', 'opium', 'lord', 'island', 'fortress', 'fighter', 'martialart', 'tournament', 'action', 'crime', 'drama', '102', '1973', '518'], ['addam', 'famili', 'artist', 'plan', 'fleec', 'eccentr', 'famili', 'use', 'accomplic', 'claim', 'longlost', 'uncl', 'comedy', 'fantasy', '99', '1991', '519'], ['spiderwick', 'chronicl', 'upon', 'move', 'rundown', 'spiderwick', 'estat', 'mother', 'twin', 'brother', 'along', 'sister', 'find', 'pull', 'altern', 'world', 'full', 'faeri', 'creatur', 'action', 'adventure', 'drama', '96', '2008', '520'], ['elektra', 'elektra', 'warrior', 'surviv', 'neardeath', 'experi', 'becom', 'assassinforhir', 'tri', 'protect', 'latest', 'target', 'singl', 'father', 'young', 'daughter', 'group', 'supernatur', 'assassin', 'action', 'adventure', 'crime', '97', '2005', '521'], ['privat', 'investig', 'hire', 'discov', 'snuff', 'film', 'authent', 'crime', 'drama', 'mystery', '123', '1999', '522'], ['æon', 'flux', 'æon', 'flux', 'mysteri', 'assassin', 'work', 'monican', 'group', 'rebel', 'tri', 'overthrow', 'govern', 'sent', 'mission', 'kill', 'chairman', 'whole', 'new', 'mysteri', 'found', 'action', 'adventure', 'sci-fi', '93', '2005', '523'], ['ride', 'young', 'peopl', 'road', 'colorado', 'new', 'jersey', 'talk', 'trucker', 'cb', 'radio', 'must', 'escap', 'turn', 'psychopath', 'killer', 'action', 'mystery', 'thriller', '97', '2001', '524'], ['space', 'jam', 'desper', 'attempt', 'basketbal', 'match', 'earn', 'freedom', 'looney', 'tune', 'seek', 'aid', 'retir', 'basketbal', 'champion', 'animation', 'adventure', 'comedy', '88', '1996', '525'], ['goldfing', 'investig', 'gold', 'magnat', 'smuggl', 'bond', 'uncov', 'plot', 'contamin', 'fort', 'gold', 'reserv', 'action', 'adventure', 'thriller', '110', '1964', '526'], ['high', 'guy', 'name', 'jamal', 'decid', 'day', 'smoke', 'someth', 'magic', 'eventu', 'help', 'colleg', 'entranc', 'exam', 'comedy', 'fantasy', '93', '2001', '527'], ['home', 'alon', 'lost', 'year', 'mccallist', 'left', 'home', 'alon', 'defeat', 'pair', 'bumbl', 'burglar', 'accident', 'find', 'strand', 'citi', 'crimin', 'far', 'behind', 'adventure', 'comedy', 'crime', '120', '1992', '528'], ['flash', 'footbal', 'player', 'friend', 'travel', 'planet', 'mongo', 'find', 'fight', 'tyranni', 'ming', 'merciless', 'save', 'earth', 'action', 'adventure', 'sci-fi', '111', '1980', '529'], ['nake', 'gun', 'file', 'polic', 'squad', 'incompet', 'polic', 'detect', 'drebin', 'must', 'foil', 'attempt', 'assassin', 'queen', 'ii', 'comedy', 'crime', '85', '1988', '530'], ['destroy', 'lead', 'ragtag', 'group', 'adventur', 'quest', 'princess', 'action', 'adventure', 'fantasy', '103', '1984', '531'], ['semipro', 'moon', 'ownercoachplay', 'american', 'basketbal', 'associ', 'michigan', 'tropic', 'ralli', 'teammat', 'make', 'nba', 'dream', 'come', 'true', 'comedy', 'sport', '91', '2008', '532'], ['ghostbust', 'ii', 'discoveri', 'massiv', 'river', 'ectoplasm', 'resurg', 'spectral', 'activ', 'allow', 'staff', 'ghostbust', 'reviv', 'busi', 'action', 'comedy', 'fantasy', '108', '1989', '533'], ['deep', 'blue', 'sea', 'search', 'cure', 'alzheim', 'diseas', 'group', 'scientist', 'isol', 'research', 'facil', 'becom', 'prey', 'trio', 'intellig', 'shark', 'fight', 'back', 'action', 'adventure', 'sci-fi', '105', '1999', '534'], ['surf', 'behindthescen', 'look', 'annual', 'penguin', 'world', 'surf', 'championship', 'newest', 'particip', 'upandcom', 'maverick', 'animation', 'adventure', 'comedy', '85', '2007', '535'], ['sassi', 'girl', 'sweet', 'midwestern', 'life', 'plan', 'woo', 'groom', 'ultim', 'dump', 'complic', 'elus', 'gal', 'comedy', 'drama', 'romance', '92', '2008', '536'], ['shoe', 'straitlac', 'break', 'relat', 'parti', 'girl', 'sister', 'indiscret', 'involv', 'rose', 'boyfriend', 'chilli', 'atmospher', 'broken', 'arriv', 'grandmoth', 'neither', 'sister', 'knew', 'exist', 'comedy', 'drama', 'romance', '130', '2005', '537'], ['x', 'file', 'want', 'believ', 'mulder', 'sculli', 'call', 'back', 'duti', 'fbi', 'former', 'priest', 'claim', 'receiv', 'psychic', 'vision', 'pertain', 'kidnap', 'agent', 'crime', 'drama', 'horror', '104', '2008', '538'], ['evolut', 'firefight', 'cadet', 'colleg', 'professor', 'geeki', 'sexi', 'govern', 'scientist', 'work', 'alien', 'organ', 'rapidli', 'evolv', 'sinc', 'arriv', 'earth', 'insid', 'meteor', 'comedy', 'sci-fi', '101', '2001', '539'], ['dr', 'resourc', 'british', 'govern', 'agent', 'seek', 'answer', 'involv', 'disappear', 'colleagu', 'disrupt', 'american', 'space', 'program', 'action', 'adventure', 'thriller', '110', '1962', '540'], ['dupre', 'best', 'man', 'stay', 'houseguest', 'newlyw', 'much', 'coupl', 'annoy', 'comedy', 'romance', '110', '2006', '541'], ['wed', 'planner', 'fior', 'san', 'francisco', 'success', 'supplier', 'romanc', 'glamor', 'know', 'trick', 'know', 'rule', 'break', 'import', 'rule', 'fall', 'groom', 'comedy', 'romance', '103', '2001', '542'], ['mcphee', 'gover', 'use', 'magic', 'rein', 'behavior', 'neerdowel', 'children', 'charg', 'comedy', 'family', 'fantasy', '97', '2005', '543'], ['thir13en', 'ghost', 'kritico', 'collector', 'uniqu', 'thing', 'die', 'leav', 'hous', 'nephew', 'famili', 'theyr', 'insid', 'find', 'alon', 'fantasy', 'horror', '91', '2001', '544'], ['croft', 'tomb', 'raider', 'cradl', 'life', 'adventur', 'croft', 'goe', 'quest', 'save', 'mythic', 'pandora', 'box', 'evil', 'scientist', 'find', 'recruit', 'former', 'marin', 'turn', 'mercenari', 'assist', 'action', 'adventure', 'fantasy', '117', '2003', '545'], ['gothika', 'depress', 'psychiatrist', 'wake', 'patient', 'asylum', 'work', 'memori', 'done', 'horror', 'mystery', 'thriller', '98', '2003', '546'], ['mr', 'bean', 'mr', 'bean', 'win', 'cann', 'unwittingli', 'separ', 'young', 'boy', 'father', 'must', 'help', 'reunit', 'discov', 'bicycl', 'true', 'comedy', 'family', '90', '2007', '547'], ['fun', 'affluent', 'coupl', 'lose', 'money', 'follow', 'seri', 'blunder', 'turn', 'life', 'crime', 'make', 'end', 'meet', 'comedy', 'crime', '90', '2005', '548'], ['psycho', 'young', 'femal', 'embezzl', 'arriv', 'bate', 'motel', 'terribl', 'secret', 'horror', 'mystery', 'thriller', '105', '1998', '549'], ['polar', 'express', 'christma', 'young', 'boy', 'embark', 'magic', 'adventur', 'north', 'pole', 'polar', 'express', 'learn', 'friendship', 'braveri', 'spirit', 'christma', 'animation', 'adventure', 'comedy', '100', '2004', '550'], ['rambo', 'iii', 'rambo', 'mount', 'oneman', 'mission', 'rescu', 'friend', 'colonel', 'trautman', 'clutch', 'formid', 'invad', 'soviet', 'forc', 'afghanistan', 'action', 'adventure', '102', '1988', '551'], ['friday', 'group', 'camp', 'counselor', 'tri', 'reopen', 'summer', 'camp', 'call', 'lake', 'grim', 'past', 'stalk', 'mysteri', 'killer', 'horror', 'mystery', 'thriller', '95', '1980', '552'], ['rooki', 'texa', 'basebal', 'coach', 'make', 'leagu', 'agre', 'tri', 'high', 'school', 'team', 'made', 'playoff', 'drama', 'family', 'sport', '127', '2002', '553'], ['univers', 'soldier', 'rival', 'soldier', 'kill', 'vietnam', 'brought', 'back', 'life', 'top', 'secret', 'militari', 'experi', 'creat', 'superhuman', 'warrior', 'action', 'sci-fi', '102', '1992', '554'], ['famili', 'fastlan', 'invest', 'broker', 'offer', 'opportun', 'half', 'live', 'wake', 'find', 'sport', 'car', 'girlfriend', 'becom', 'minivan', 'wife', 'comedy', 'drama', 'fantasy', '125', '2000', '555'], ['bad', 'santa', 'miser', 'conman', 'partner', 'pose', 'santa', 'littl', 'helper', 'depart', 'store', 'christma', 'run', 'problem', 'conman', 'befriend', 'troubl', 'kid', 'comedy', 'crime', 'drama', '92', '2003', '556'], ['part', 'guevara', 'band', 'castrol', 'cuban', 'exil', 'mobil', 'armi', 'toppl', 'regim', 'dictat', 'fulgencio', 'batista', 'biography', 'drama', 'history', '134', '2008', '557'], ['rampag', 'man', 'thirst', 'reveng', 'build', 'full', 'bodi', 'armor', 'kevlar', 'goe', 'kill', 'spree', 'action', 'crime', 'thriller', '85', '2009', '558'], ['long', 'kiss', 'goodnight', 'cain', 'live', 'small', 'daughter', 'year', 'ago', 'emerg', 'month', 'pregnant', 'nearbi', 'river', 'memori', 'past', 'howev', 'she', 'get', 'closer', 'find', 'past', 'action', 'crime', 'drama', '121', '1996', '559'], ['hunchback', 'notr', 'dame', 'deform', 'bellring', 'must', 'assert', 'independ', 'viciou', 'govern', 'minist', 'order', 'help', 'friend', 'dancer', 'animation', 'drama', 'family', '91', '1996', '560'], ['hide', 'seek', 'widow', 'tri', 'piec', 'togeth', 'life', 'wife', 'suicid', 'daughter', 'find', 'solac', 'first', 'imaginari', 'friend', 'drama', 'horror', 'mystery', '101', '2005', '561'], ['dalmatian', 'evil', 'highfashion', 'design', 'plot', 'steal', 'dalmatian', 'puppi', 'order', 'make', 'extravag', 'fur', 'coat', 'instead', 'creat', 'extravag', 'mess', 'adventure', 'comedy', 'crime', '103', '1996', '562'], ['analyz', 'comedi', 'psychiatrist', 'whose', 'number', 'patient', 'insecur', 'mob', 'boss', 'comedy', 'crime', '103', '1999', '563'], ['sieg', 'exnavi', 'seal', 'turn', 'cook', 'person', 'stop', 'group', 'terrorist', 'seiz', 'control', 'us', 'battleship', 'action', 'thriller', '103', '1992', '564'], ['world', 'insepar', 'duo', 'tri', 'organ', 'concert', 'must', 'fend', 'record', 'produc', 'eye', 'girlfriend', 'comedy', 'music', '95', '1993', '565'], ['good', 'bye', 'lenin', 'protect', 'fragil', 'mother', 'fatal', 'shock', 'long', 'coma', 'young', 'man', 'must', 'keep', 'learn', 'belov', 'nation', 'east', 'germani', 'knew', 'disappear', 'comedy', 'drama', 'romance', '121', '2003', '566'], ['bedazzl', 'hopeless', 'dweeb', 'richard', 'grant', 'wish', 'devil', 'snare', 'girl', 'dream', 'exchang', 'soul', 'comedy', 'fantasy', '93', '2000', '567'], ['final', 'fantasi', 'spirit', 'within', 'scientist', 'make', 'last', 'stand', 'earth', 'help', 'ragtag', 'team', 'soldier', 'invas', 'alien', 'phantom', 'animation', 'action', 'adventure', '106', '2001', '568'], ['live', 'let', 'die', 'bond', 'sent', 'stop', 'diabol', 'brilliant', 'heroin', 'magnat', 'arm', 'complex', 'organis', 'reliabl', 'psychic', 'tarot', 'card', 'reader', 'action', 'adventure', 'thriller', '121', '1973', '569'], ['view', 'kill', 'recoveri', 'microchip', 'bodi', 'fellow', 'agent', 'lead', 'bond', 'mad', 'industrialist', 'plan', 'creat', 'worldwid', 'microchip', 'monopoli', 'destroy', 'california', 'silicon', 'valley', 'action', 'adventure', 'thriller', '131', '1985', '570'], ['money', 'suffer', 'careerend', 'knee', 'injuri', 'former', 'colleg', 'footbal', 'align', 'renown', 'tout', 'sportsgambl', 'busi', 'crime', 'drama', 'sport', '122', '2005', '571'], ['flight', 'survivor', 'plane', 'crash', 'mongolian', 'desert', 'work', 'togeth', 'build', 'new', 'plane', 'action', 'adventure', 'drama', '113', '2004', '572'], ['sister', 'act', 'back', 'habit', 'showgirl', 'cartier', 'return', 'sister', 'teach', 'music', 'group', 'cathol', 'student', 'whose', 'rundown', 'school', 'slate', 'closur', 'comedy', 'family', 'music', '107', '1993', '573'], ['english', 'sudden', 'attack', 'mi5', 'english', 'britain', 'confid', 'yet', 'unintellig', 'spi', 'becom', 'britain', 'spi', 'action', 'adventure', 'comedy', '87', '2003', '574'], ['post', 'grad', 'ryden', 'malbi', 'graduat', 'colleg', 'forc', 'move', 'back', 'childhood', 'home', 'eccentr', 'famili', 'attempt', 'find', 'right', 'hint', 'life', 'head', 'comedy', 'romance', '88', '2009', '575'], ['eye', 'violinist', 'accident', 'blind', 'sister', 'year', 'old', 'submit', 'cornea', 'transplant', 'recov', 'oper', 'realiz', 'see', 'dead', 'peopl', 'horror', 'mystery', '98', '2008', '576'], ['kingpin', 'bowler', 'whose', 'career', 'prematur', 'cut', 'hope', 'ride', 'new', 'prodigi', 'success', 'rich', 'comedy', 'sport', '114', '1996', '577'], ['super', 'bro', 'brooklyn', 'plumber', 'must', 'travel', 'anoth', 'dimens', 'rescu', 'princess', 'evil', 'dictat', 'koopa', 'stop', 'take', 'world', 'adventure', 'comedy', 'family', '104', '1993', '578'], ['whole', 'yard', 'tulip', 'quiet', 'new', 'life', 'shaken', 'old', 'pal', 'oz', 'whose', 'wife', 'henstridg', 'kidnap', 'hungarian', 'mob', 'tulip', 'wife', 'peet', 'spring', 'action', 'comedy', 'crime', 'thriller', '98', '2004', '579'], ['pan', 'brother', 'whisk', 'away', 'magic', 'world', 'neverland', 'hero', 'stori', 'pan', 'animation', 'adventure', 'family', '77', '1953', '580'], ['windtalk', 'us', 'marin', 'world', 'war', 'ii', 'assign', 'protect', 'navajo', 'marin', 'use', 'nativ', 'languag', 'unbreak', 'radio', 'cypher', 'action', 'drama', 'war', '134', '2002', '581'], ['final', 'fantasi', 'vii', 'advent', 'children', 'exmercenari', 'forc', 'isol', 'mysteri', 'men', 'kidnap', 'brainwash', 'citi', 'children', 'afflict', 'geostigma', 'diseas', 'animation', 'action', 'adventure', '101', '2005', '582'], ['littl', 'littl', 'famili', 'adopt', 'charm', 'young', 'mous', 'name', 'famili', 'want', 'rid', 'adventure', 'comedy', 'family', '84', '1999', '583'], ['jeeper', 'creeper', 'brother', 'sister', 'drive', 'home', 'isol', 'countrysid', 'spring', 'break', 'encount', 'flesheat', 'creatur', 'midst', 'ritualist', 'eat', 'spree', 'horror', 'mystery', '90', '2001', '584'], ['deuc', 'bigalow', 'male', 'gigolo', 'averag', 'aquarium', 'cleaner', 'housesit', 'gigolo', 'forc', 'becom', 'comedy', 'romance', '88', '1999', '585'], ['knockaround', 'guy', 'wannab', 'son', 'mobster', 'go', 'remot', 'midwest', 'get', 'troubl', 'anyon', 'could', 'anticip', 'crime', 'drama', 'thriller', '92', '2001', '586'], ['messeng', 'omin', 'dark', 'invad', 'seemingli', 'sunflow', 'farm', 'north', 'dakota', 'famili', 'torn', 'apart', 'suspicion', 'mayhem', 'murder', 'drama', 'horror', 'mystery', '90', '2007', '587'], ['cool', 'run', 'jamaican', 'sprinter', 'disqualifi', 'olymp', 'game', 'enlist', 'help', 'dishonor', 'coach', 'start', 'first', 'jamaican', 'bobsl', 'team', 'adventure', 'comedy', 'family', '98', '1993', '588'], ['norbit', 'mildmann', 'marri', 'monstrou', 'woman', 'meet', 'woman', 'dream', 'scheme', 'find', 'comedy', 'romance', '102', '2007', '589'], ['open', 'season', 'fall', 'head', 'hoov', 'elliot', 'road', 'altar', 'take', 'slight', 'detour', 'mr', 'weeni', 'kidnap', 'group', 'pamper', 'pet', 'determin', 'return', 'owner', 'animation', 'adventure', 'comedy', '76', '2008', '590'], ['far', 'cri', 'exspeci', 'forc', 'soldier', 'turn', 'boatman', 'hire', 'journalist', 'investig', 'topsecret', 'militari', 'base', 'nearbi', 'island', 'action', 'adventure', 'sci-fi', '95', '2008', '591'], ['lethal', 'weapon', 'rigg', 'murtaugh', 'trail', 'south', 'african', 'diplomat', 'use', 'immun', 'engag', 'crimin', 'activ', 'action', 'crime', 'thriller', '114', '1989', '592'], ['moonrak', 'bond', 'investig', 'midair', 'theft', 'space', 'shuttl', 'discov', 'plot', 'commit', 'global', 'genocid', 'action', 'adventure', 'sci-fi', '126', '1979', '593'], ['never', 'never', 'spectr', 'agent', 'stolen', 'american', 'nuclear', 'warhead', 'bond', 'must', 'find', 'target', 'deton', 'action', 'adventure', 'thriller', '134', '1983', '594'], ['goal', 'dream', 'begin', 'extrem', 'talent', 'santiago', 'muñez', 'spot', 'newcastl', 'unit', 'scout', 'given', 'profession', 'footbal', 'adventure', 'drama', 'romance', '118', '2005', '595'], ['g', 'indahous', 'g', 'unwittingli', 'becom', 'pawn', 'chancellor', 'plot', 'overthrow', 'prime', 'minist', 'great', 'britain', 'howev', 'embrac', 'nation', 'voic', 'youth', 'make', 'pm', 'govern', 'popular', 'ever', 'comedy', '85', '2002', '596'], ['dinosaur', 'orphan', 'dinosaur', 'rais', 'lemur', 'join', 'arduou', 'trek', 'sanctuari', 'meteorit', 'shower', 'destroy', 'famili', 'home', 'animation', 'adventure', 'drama', '82', '2000', '597'], ['alon', 'dark', 'detect', 'paranorm', 'slowli', 'unravel', 'mysteri', 'event', 'deadli', 'result', 'action', 'horror', 'sci-fi', '96', '2005', '598'], ['pinocchio', 'live', 'puppet', 'help', 'cricket', 'conscienc', 'must', 'prove', 'becom', 'real', 'boy', 'animation', 'adventure', 'comedy', '88', '1940', '599'], ['hels', 'spoof', 'mani', 'horror', 'movi', 'seri', 'end', 'shift', 'video', 'rental', 'stan', 'pick', 'bff', 'cute', 'girl', 'go', 'halloween', 'parti', 'even', 'get', 'comedy', 'fantasy', 'horror', '108', '2009', '600'], ['big', 'momma', 'hous', 'order', 'protect', 'beauti', 'woman', 'robber', 'male', 'fbi', 'agent', 'disguis', 'larg', 'grandmoth', 'action', 'comedy', 'crime', '99', '2000', '601'], ['conspiraci', 'theori', 'taxi', 'driver', 'penchant', 'conspiraci', 'theori', 'becom', 'target', 'theori', 'turn', 'true', 'unfortun', 'save', 'figur', 'theori', 'action', 'mystery', 'thriller', '135', '1997', '602'], ['nake', 'gun', 'final', 'insult', 'drebin', 'nielsen', 'come', 'retir', 'help', 'polic', 'squad', 'infiltr', 'gang', 'terrorist', 'plan', 'deton', 'bomb', 'academi', 'award', 'comedy', 'crime', '83', '1994', '603'], ['octopussi', 'fake', 'fabergé', 'egg', 'fellow', 'agent', 'death', 'lead', 'bond', 'uncov', 'intern', 'jewelsmuggl', 'oper', 'head', 'mysteri', 'octopussi', 'use', 'disguis', 'nuclear', 'attack', 'nato', 'forc', 'action', 'adventure', 'thriller', '131', '1983', '604'], ['torqu', 'biker', 'return', 'thailand', 'set', 'thing', 'straight', 'girlfriend', 'gang', 'leader', 'want', 'deliveri', 'motorbik', 'fill', 'meth', 'anoth', 'gang', 'leader', 'want', 'murder', 'brother', 'action', 'comedy', 'crime', '84', '2004', '605'], ['jaw', 'reveng', 'chief', 'brodi', 'widow', 'believ', 'famili', 'deliber', 'target', 'anoth', 'shark', 'search', 'reveng', 'adventure', 'horror', 'thriller', '89', '1987', '606'], ['home', 'alon', 'pruitt', 'boy', 'live', 'chicago', 'must', 'fend', 'intern', 'spi', 'seek', 'topsecret', 'comput', 'toy', 'car', 'action', 'comedy', 'crime', '102', '1997', '607'], ['got', 'game', 'basketbal', 'player', 'father', 'must', 'tri', 'convinc', 'go', 'colleg', 'get', 'shorter', 'sentenc', 'drama', 'sport', '136', '1998', '608'], ['shaft', 'new', 'york', 'citi', 'polic', 'detect', 'shaft', 'nephew', 'origin', 'detect', 'goe', 'person', 'mission', 'make', 'sure', 'real', 'estat', 'tycoon', 'brought', 'justic', 'raciallymotiv', 'murder', 'action', 'crime', 'thriller', '99', '2000', '609'], ['babe', 'babe', 'pig', 'rais', 'sheepdog', 'rural', 'english', 'farm', 'learn', 'herd', 'sheep', 'littl', 'help', 'farmer', 'hoggett', 'comedy', 'drama', 'family', '91', '1995', '610'], ['gift', 'teller', 'extrasensori', 'percept', 'ask', 'help', 'find', 'young', 'woman', 'mysteri', 'disappear', 'drama', 'fantasy', 'horror', '111', '2000', '611'], ['cheaper', 'dozen', 'baker', 'vacat', 'find', 'compet', 'rival', 'famili', 'children', 'adventure', 'comedy', 'family', '94', '2005', '612'], ['texa', 'chain', 'massacr', 'friend', 'head', 'rural', 'texa', 'visit', 'grave', 'grandfath', 'stumbl', 'across', 'appear', 'desert', 'hous', 'discov', 'someth', 'sinist', 'within', 'someth', 'arm', 'chainsaw', 'horror', '83', '1974', '613'], ['looney', 'tune', 'back', 'action', 'looney', 'tune', 'search', 'man', 'miss', 'father', 'mythic', 'blue', 'monkey', 'animation', 'adventure', 'comedy', '91', '2003', '614'], ['reap', 'former', 'missionari', 'special', 'debunk', 'religi', 'phenomena', 'investig', 'small', 'seem', 'suffer', 'biblic', 'plagu', 'horror', 'thriller', '99', '2007', '615'], ['ring', 'month', 'incid', 'involv', 'lethal', 'videotap', 'new', 'clue', 'prove', 'new', 'evil', 'lurk', 'dark', 'horror', 'mystery', '110', '2005', '616'], ['collater', 'damag', 'famili', 'kill', 'terrorist', 'act', 'firefight', 'goe', 'search', 'respons', 'action', 'drama', 'thriller', '108', '2002', '617'], ['longest', 'day', 'event', 'dday', 'told', 'grand', 'scale', 'alli', 'german', 'point', 'view', 'action', 'drama', 'history', '178', '1962', '618'], ['spongebob', 'squarep', 'movi', 'spongebob', 'squarep', 'take', 'leav', 'bikini', 'bottom', 'order', 'track', 'neptun', 'stolen', 'crown', 'animation', 'adventure', 'comedy', '87', '2004', '619'], ['rais', 'voic', 'girl', 'small', 'head', 'big', 'citi', 'lo', 'angel', 'spend', 'summer', 'perform', 'art', 'high', 'school', 'family', 'music', 'musical', '103', '2004', '620'], ['nake', 'gun', 'smell', 'fear', 'lieuten', 'drebin', 'discov', 'exgirlfriend', 'new', 'involv', 'plot', 'kidnap', 'scientist', 'advoc', 'solar', 'energi', 'comedy', 'crime', '85', '1991', '621'], ['white', 'men', 'cant', 'jump', 'black', 'white', 'basketbal', 'hustler', 'join', 'forc', 'doubl', 'chanc', 'win', 'money', 'street', 'court', 'basketbal', 'tournament', 'comedy', 'drama', 'sport', '115', '1992', '622'], ['mindhunt', 'traine', 'fbi', 'psycholog', 'profil', 'program', 'must', 'put', 'train', 'practic', 'discov', 'killer', 'midst', 'crime', 'horror', 'thriller', '106', '2004', '623'], ['forgotten', 'told', 'children', 'never', 'exist', 'man', 'woman', 'soon', 'discov', 'much', 'bigger', 'enemi', 'work', 'drama', 'mystery', 'sci-fi', '91', '2004', '624'], ['monster', 'hous', 'teen', 'discov', 'neighbor', 'hous', 'realli', 'live', 'breath', 'scari', 'monster', 'animation', 'comedy', 'family', '91', '2006', '625'], ['resid', 'evil', 'degener', 'redfield', 'must', 'battl', 'rogu', 'warrior', 'seek', 'reveng', 'unleash', 'deadli', 'gviru', 'whilst', 'mutat', 'monster', 'goe', 'rampag', 'animation', 'action', 'horror', '98', '2008', '626'], ['polic', 'academi', 'citizen', 'patrol', 'misfit', 'polic', 'academi', 'graduat', 'assign', 'train', 'group', 'civilian', 'volunt', 'fight', 'crime', 'plagu', 'street', 'comedy', 'crime', '88', '1987', '627'], ['street', 'fighter', 'col', 'guil', 'variou', 'martial', 'art', 'hero', 'fight', 'tyranni', 'dictat', 'bison', 'cohort', 'action', 'adventure', 'comedy', '102', '1994', '628'], ['prejudic', 'modern', 'adapt', 'austen', 'classic', 'novel', 'pride', 'prejudic', 'featur', 'live', 'unmarri', 'daughter', 'indian', 'famili', 'comedy', 'drama', 'musical', '122', '2004', '629'], ['schmidt', 'recent', 'retir', 'man', 'embark', 'journey', 'estrang', 'daughter', 'wed', 'discov', 'life', 'ever', 'expect', 'comedy', 'drama', '125', '2002', '630'], ['employe', 'month', 'slacker', 'compet', 'repeat', 'winner', 'employe', 'month', 'titl', 'work', 'order', 'gain', 'affect', 'new', 'femal', 'employe', 'comedy', 'romance', '103', '2006', '631'], ['brother', 'young', 'inuit', 'needlessli', 'kill', 'magic', 'chang', 'punish', 'talk', 'cub', 'guid', 'chang', 'back', 'animation', 'adventure', 'comedy', '85', '2003', '632'], ['dumbo', 'ridicul', 'enorm', 'ear', 'young', 'circu', 'eleph', 'assist', 'mous', 'achiev', 'full', 'potenti', 'animation', 'adventure', 'drama', '64', '1941', '633'], ['karat', 'kid', 'part', 'ii', 'accompani', 'mentor', 'mr', 'miyagi', 'miyagi', 'childhood', 'home', 'okinawa', 'miyagi', 'visit', 'die', 'father', 'confront', 'old', 'rival', 'fall', 'inadvert', 'make', 'new', 'rival', 'action', 'family', 'sport', '113', '1986', '634'], ['kiss', 'dragon', 'betray', 'intellig', 'offic', 'enlist', 'aid', 'prostitut', 'prove', 'innoc', 'deadli', 'conspiraci', 'return', 'favor', 'action', 'crime', 'thriller', '98', '2001', '635'], ['crocodil', 'dunde', 'american', 'report', 'goe', 'australian', 'outback', 'meet', 'eccentr', 'crocodil', 'poacher', 'invit', 'new', 'york', 'citi', 'action', 'adventure', 'comedy', '97', '1986', '636'], ['escap', 'snake', 'plissken', 'call', 'unit', 'state', 'govern', 'recov', 'potenti', 'doomsday', 'devic', 'lo', 'angel', 'autonom', 'island', 'undesir', 'deport', 'action', 'adventure', 'sci-fi', '101', '1996', '637'], ['messeng', 'stori', 'arc', 'young', 'girl', 'receiv', 'vision', 'drive', 'rid', 'oppressor', 'adventure', 'biography', 'drama', '148', '1999', '638'], ['hound', 'littl', 'name', 'copper', 'hound', 'puppi', 'vow', 'best', 'buddi', 'forev', 'copper', 'grow', 'hunt', 'dog', 'unlik', 'friendship', 'face', 'ultim', 'test', 'animation', 'adventure', 'drama', '83', '1981', '639'], ['bandida', 'turnofthecenturi', 'mexico', 'differ', 'women', 'becom', 'bankrob', 'duo', 'effort', 'combat', 'ruthless', 'enforc', 'terror', 'action', 'comedy', 'crime', '93', '2006', '640'], ['big', 'momma', 'hous', 'fbi', 'agent', 'repris', 'disguis', 'corpul', 'old', 'ladi', 'take', 'crime', 'suspect', 'hous', 'comedy', 'crime', '99', '2006', '641'], ['lethal', 'weapon', 'rigg', 'murtaugh', 'pursu', 'former', 'lapd', 'offic', 'use', 'knowledg', 'polic', 'procedur', 'polici', 'steal', 'sell', 'confisc', 'gun', 'ammunit', 'local', 'street', 'gang', 'action', 'crime', 'thriller', '118', '1992', '642'], ['escap', 'alcatraz', 'alcatraz', 'secur', 'prison', 'time', 'believ', 'ever', 'escap', 'dare', 'men', 'make', 'possibl', 'success', 'attempt', 'escap', 'infam', 'prison', 'world', 'action', 'biography', 'crime', '112', '1979', '643'], ['deuc', 'bigalow', 'european', 'gigolo', 'deuc', 'trick', 'manwhor', 'tj', 'amsterdam', 'manwhor', 'murder', 'midst', 'comedy', '83', '2005', '644'], ['taxi', 'work', 'tarnish', 'drive', 'record', 'hip', 'taxi', 'driver', 'must', 'chauffeur', 'loser', 'polic', 'inspector', 'trail', 'german', 'bank', 'robber', 'action', 'comedy', 'crime', '86', '1998', '645'], ['black', 'sheep', 'experi', 'genet', 'engin', 'turn', 'harmless', 'sheep', 'bloodthirsti', 'killer', 'terror', 'sprawl', 'new', 'zealand', 'farm', 'comedy', 'horror', 'sci-fi', '87', '2006', '646'], ['imagin', 'financi', 'execut', 'cant', 'stop', 'career', 'downspir', 'invit', 'daughter', 'imaginari', 'world', 'solut', 'problem', 'await', 'comedy', 'drama', 'family', '107', '2009', '647'], ['dead', 'bodi', 'ghost', 'tri', 'sabotag', 'former', 'boyfriend', 'current', 'relationship', 'psychic', 'comedy', 'fantasy', 'romance', '95', '2008', '648'], ['mad', 'beyond', 'thunderdom', 'exil', 'advanc', 'post', 'apocalypt', 'australia', 'drifter', 'travel', 'group', 'abandon', 'children', 'rebel', 'town', 'queen', 'action', 'adventure', 'sci-fi', '107', '1985', '649'], ['conehead', 'alien', 'conic', 'crania', 'crashland', 'earth', 'comedy', 'sci-fi', '88', '1993', '650'], ['ladi', 'tramp', 'romant', 'tale', 'shelter', 'uptown', 'cocker', 'spaniel', 'dog', 'streetwis', 'downtown', 'mutt', 'animation', 'adventure', 'comedy', '76', '1955', '651'], ['butterfli', 'effect', 'revel', 'reid', 'use', 'power', 'time', 'travel', 'solv', 'mysteri', 'girlfriend', 'death', 'crime', 'sci-fi', 'thriller', '90', '2009', '652'], ['pig', 'scare', 'end', 'season', 'know', 'come', 'time', 'end', 'dinner', 'tabl', 'hatch', 'plan', 'spider', 'live', 'ensur', 'never', 'happen', 'adventure', 'comedy', 'family', '97', '2006', '653'], ['butterfli', 'effect', 'larson', 'discov', 'supernatur', 'alter', 'life', 'travel', 'back', 'time', 'key', 'moment', 'life', 'look', 'photograph', 'drama', 'sci-fi', 'thriller', '92', '2006', '654'], ['jaw', 'polic', 'chief', 'must', 'protect', 'citizen', 'second', 'monstrou', 'shark', 'begin', 'terror', 'water', 'adventure', 'horror', 'thriller', '116', '1978', '655'], ['road', 'texa', 'western', 'coach', 'haskin', 'led', 'first', 'allblack', 'start', 'lineup', 'colleg', 'basketbal', 'team', 'ncaa', 'nation', 'championship', 'biography', 'drama', 'sport', '118', '2006', '656'], ['scoobydoo', 'monster', 'unleash', 'mysteri', 'inc', 'gang', 'must', 'save', 'coolsvil', 'attack', 'past', 'monster', 'brought', 'life', 'evil', 'mask', 'figur', 'tri', 'take', 'gang', 'animation', 'adventure', 'comedy', '93', '2004', '657'], ['robocop', 'cyborg', 'law', 'enforc', 'robocop', 'return', 'protect', 'citizen', 'old', 'detroit', 'face', 'deadli', 'challeng', 'rogu', 'ocp', 'member', 'secretli', 'creat', 'new', 'evil', 'robocop', 'action', 'crime', 'sci-fi', '117', '1990', '658'], ['mean', 'machin', 'footbal', 'jail', 'assault', 'lead', 'group', 'inmat', 'match', 'prison', 'guard', 'comedy', 'crime', 'drama', '99', '2001', '659'], ['dont', 'word', 'daughter', 'psychiatrist', 'kidnap', 'he', 'horrifi', 'discov', 'abductor', 'demand', 'break', 'post', 'traumat', 'stress', 'disord', 'suffer', 'young', 'woman', 'know', 'secret', 'drama', 'mystery', 'thriller', '113', '2001', '660'], ['arbuckl', 'buy', 'second', 'dog', 'name', 'howev', 'abduct', 'jon', 'find', 'rescu', 'canin', 'animation', 'adventure', 'comedy', '80', '2004', '661'], ['small', 'soldier', 'missil', 'technolog', 'use', 'enhanc', 'toy', 'action', 'figur', 'toy', 'soon', 'begin', 'take', 'battl', 'program', 'serious', 'action', 'adventure', 'comedy', '110', '1998', '662'], ['taxi', 'mouthi', 'feisti', 'taxicab', 'driver', 'hot', 'tip', 'green', 'inept', 'cop', 'set', 'solv', 'string', 'new', 'york', 'citi', 'bank', 'robberi', 'commit', 'quartet', 'femal', 'brazilian', 'bank', 'robber', 'action', 'comedy', 'crime', '97', '2004', '663'], ['femm', 'fatal', 'woman', 'tri', 'straighten', 'life', 'even', 'past', 'conwoman', 'come', 'back', 'haunt', 'crime', 'drama', 'mystery', '114', '2002', '664'], ['daddi', 'day', 'care', 'men', 'hinton', 'ryerson', 'garlin', 'get', 'laid', 'becom', 'stayathom', 'dad', 'cant', 'find', 'job', 'inspir', 'open', 'daycar', 'center', 'comedy', 'family', '92', '2003', '665'], ['blue', 'streak', 'former', 'convict', 'pose', 'cop', 'retriev', 'stole', 'year', 'ago', 'action', 'comedy', 'crime', '93', '1999', '666'], ['hat', 'bore', 'children', 'live', 'turn', 'upsid', 'talk', 'come', 'visit', 'adventure', 'comedy', 'family', '82', '2003', '667'], ['cat', 'dog', 'look', 'topsecret', 'hightech', 'espionag', 'war', 'go', 'cat', 'dog', 'human', 'owner', 'bliss', 'unawar', 'action', 'comedy', 'family', '87', '2001', '668'], ['baisemoi', 'young', 'women', 'marginalis', 'societi', 'go', 'destruct', 'tour', 'sex', 'violenc', 'break', 'norm', 'kill', 'men', 'shatter', 'complac', 'polit', 'cinema', 'audienc', 'crime', 'drama', 'thriller', '77', '2000', '669'], ['cop', 'ii', 'foley', 'return', 'help', 'taggart', 'rosewood', 'investig', 'chief', 'bogomil', 'nearfat', 'shoot', 'seri', 'alphabet', 'crime', 'associ', 'action', 'comedy', 'crime', '100', '1987', '670'], ['dragonfli', 'griev', 'doctor', 'contact', 'deceas', 'wife', 'patient', 'near', 'death', 'experi', 'drama', 'fantasy', 'mystery', '104', '2002', '671'], ['captiv', 'man', 'woman', 'awaken', 'find', 'trap', 'cellar', 'kidnapp', 'drive', 'mad', 'truth', 'horrif', 'abduct', 'reveal', 'crime', 'horror', 'mystery', '96', '2007', '672'], ['chucki', 'chucki', 'possess', 'serial', 'killer', 'discov', 'perfect', 'mate', 'kill', 'reviv', 'bodi', 'anoth', 'comedy', 'horror', '89', '1998', '673'], ['cube²', 'hypercub', 'stranger', 'awaken', 'memori', 'puzzl', 'cubeshap', 'room', 'law', 'physic', 'alway', 'appli', 'drama', 'horror', 'mystery', '94', '2002', '674'], ['snap', 'deathobsess', 'sister', 'outcast', 'suburban', 'neighborhood', 'must', 'deal', 'tragic', 'consequ', 'bitten', 'deadli', 'werewolf', 'drama', 'fantasy', 'horror', '108', '2000', '675'], ['strang', 'wilder', 'rate', 'drop', 'wildernessthem', 'televis', 'show', 'anim', 'fan', 'go', 'and', 'mountain', 'search', 'bigfoot', 'adventure', 'comedy', '87', '2008', '676'], ['hunt', 'fbi', 'deepwood', 'tracker', 'attempt', 'captur', 'train', 'assassin', 'made', 'sport', 'hunt', 'human', 'action', 'crime', 'drama', '94', '2003', '677'], ['ladder', 'firefight', 'injur', 'trap', 'burn', 'build', 'flashback', 'life', 'drift', 'conscious', 'meanwhil', 'fellow', 'firefight', 'led', 'chief', 'attempt', 'rescu', 'action', 'drama', 'thriller', '115', '2004', '678'], ['bulletproof', 'monk', 'base', 'underground', 'comic', 'book', 'name', 'tibetan', 'monk', 'becom', 'mentor', 'young', 'street', 'punk', 'tri', 'teach', 'protect', 'scroll', 'ultim', 'power', 'secret', 'nazi', 'organ', 'bent', 'world', 'domin', 'action', 'comedy', 'fantasy', '104', '2003', '679'], ['bean', 'bumbl', 'mr', 'bean', 'travel', 'america', 'given', 'respons', 'bring', 'highli', 'valuabl', 'paint', 'lo', 'angel', 'museum', 'adventure', 'comedy', 'family', '89', '1997', '680'], ['x', 'voorhe', 'cryogen', 'frozen', 'begin', 'centuri', 'discov', 'centuri', 'taken', 'space', 'get', 'thaw', 'begin', 'stalk', 'kill', 'crew', 'spaceship', 'that', 'transport', 'action', 'horror', 'sci-fi', '92', '2001', '681'], ['cocoon', 'group', 'trespass', 'senior', 'swim', 'pool', 'contain', 'alien', 'cocoon', 'find', 'energ', 'youth', 'vigor', 'comedy', 'drama', 'sci-fi', '117', '1985', '682'], ['nation', 'secur', 'mismatch', 'secur', 'guard', 'thrown', 'togeth', 'bust', 'smuggl', 'oper', 'action', 'comedy', 'crime', '88', '2003', '683'], ['grudg', 'interwoven', 'stori', 'terribl', 'curs', 'young', 'woman', 'encount', 'malevol', 'supernatur', 'forc', 'search', 'miss', 'sister', 'tokyo', 'horror', 'thriller', '102', '2006', '684'], ['spi', 'profession', 'athlet', 'help', 'us', 'govern', 'agent', 'recov', 'miss', 'jet', 'action', 'adventure', 'comedy', '97', '2002', '685'], ['bubbl', 'boy', 'bubbl', 'boy', 'bubbl', 'life', 'due', 'immun', 'system', 'cute', 'blond', 'girl', 'befriend', 'bb', 'boyfriend', 'propos', 'bb', 'decid', 'travel', 'across', 'usa', 'niagara', 'fall', 'stop', 'wed', 'adventure', 'comedy', 'romance', '84', '2001', '686'], ['chang', 'lane', 'young', 'lawyer', 'businessman', 'share', 'small', 'automobil', 'accid', 'mutual', 'road', 'rage', 'escal', 'feud', 'drama', 'thriller', '98', '2002', '687'], ['stuck', 'conjoin', 'twin', 'martha', 'vineyard', 'move', 'lo', 'angel', 'pursu', 'act', 'career', 'comedy', '118', '2003', '688'], ['spirit', 'stallion', 'cimarron', 'wild', 'stallion', 'captur', 'human', 'slowli', 'lose', 'resist', 'train', 'yet', 'throughout', 'struggl', 'freedom', 'stallion', 'refus', 'let', 'go', 'day', 'return', 'home', 'herd', 'animation', 'adventure', 'drama', '83', '2002', '689'], ['show', 'teenag', 'girl', 'smalltown', 'sweden', 'elin', 'beauti', 'popular', 'bore', 'life', 'friendless', 'sad', 'secretli', 'elin', 'comedy', 'drama', 'romance', '89', '1998', '690'], ['ninja', 'man', 'tri', 'rescu', 'woman', 'littl', 'help', 'half', 'brother', 'action', 'comedy', '88', '1997', '691'], ['dragon', 'war', 'dwar', 'year', 'ancient', 'mythic', 'creatur', 'come', 'earth', 'wreak', 'havoc', 'destruct', 'time', 'must', 'stop', 'action', 'drama', 'fantasy', '107', '2007', '692'], ['jungl', 'man', 'rais', 'jungl', 'ape', 'fall', 'wealthi', 'american', 'heiress', 'action', 'adventure', 'comedy', '92', '1997', '693'], ['white', 'nois', 'architect', 'desir', 'speak', 'wife', 'beyond', 'grave', 'becom', 'obsess', 'supernatur', 'repercuss', 'drama', 'horror', 'mystery', '101', '2005', '694'], ['beethoven', 'slobber', 'st', 'becom', 'center', 'attent', 'love', 'famili', 'must', 'contend', 'dognap', 'veterinarian', 'henchmen', 'comedy', 'drama', 'family', '87', '1992', '695'], ['fulli', 'load', 'new', 'owner', 'number', 'freewheelin', 'volkswagen', 'bug', 'mind', 'put', 'car', 'pace', 'road', 'becom', 'nascar', 'competitor', 'adventure', 'comedy', 'family', '101', '2005', '696'], ['nightmar', 'elm', 'street', 'dream', 'warrior', 'psychiatrist', 'familiar', 'knifewield', 'dream', 'demon', 'krueger', 'help', 'teen', 'mental', 'hospit', 'battl', 'killer', 'invad', 'dream', 'fantasy', 'horror', '96', '1987', '697'], ['seed', 'chucki', 'chucki', 'resurrect', 'innoc', 'genderconfus', 'daughter', 'hit', 'hollywood', 'movi', 'depict', 'killer', 'doll', 'murder', 'spree', 'underway', 'comedy', 'fantasy', 'horror', '87', '2004', '698'], ['bratz', 'first', 'year', 'high', 'school', 'best', 'girlfriend', 'face', 'domin', 'student', 'bodi', 'presid', 'want', 'split', 'differ', 'social', 'cliqu', 'comedy', 'family', 'music', '110', '2007', '699'], ['biker', 'boyz', 'leader', 'legendari', 'group', 'biker', 'gang', 'tri', 'retain', 'championship', 'titl', 'action', 'drama', '110', '2003', '700'], ['exorcist', 'begin', 'year', 'father', 'lankest', 'merrin', 'help', 'save', 'macneil', 'soul', 'first', 'encount', 'demon', 'pazuzu', 'east', 'africa', 'tale', 'father', 'merrin', 'initi', 'battl', 'pazuzu', 'rediscoveri', 'horror', 'mystery', 'thriller', '114', '2004', '701'], ['menac', 'parent', 'go', 'stay', 'mr', 'mr', 'littl', 'menac', 'drive', 'mr', 'crazi', 'tri', 'help', 'even', 'thief', 'who', 'arriv', 'comedy', 'family', '94', '1993', '702'], ['boat', 'straight', 'men', 'mistakenli', 'end', 'gay', 'cruis', 'comedy', '94', '2002', '703'], ['young', 'boy', 'find', 'famili', 'target', 'insid', 'must', 'use', 'cun', 'save', 'comedy', 'family', '95', '1994', '704'], ['superstar', 'film', 'version', 'music', 'stage', 'play', 'present', 'last', 'week', 'christ', 'life', 'told', 'anachronist', 'manner', 'drama', 'history', 'musical', '106', '1973', '705'], ['leg', 'freak', 'venom', 'spider', 'get', 'expos', 'noxiou', 'chemic', 'caus', 'grow', 'monument', 'proport', 'action', 'adventure', 'comedy', '99', '2002', '706'], ['nutti', 'professor', 'grossli', 'overweight', 'yet', 'goodheart', 'professor', 'klump', 'take', 'special', 'chemic', 'turn', 'obnoxi', 'comedy', 'romance', 'sci-fi', '95', '1996', '707'], ['swimfan', 'high', 'school', 'senior', 'promis', 'swim', 'career', 'onenight', 'stand', 'consequ', 'drama', 'thriller', '85', '2002', '708'], ['goofi', 'movi', 'make', 'preposter', 'promis', 'girl', 'crush', 'chanc', 'fulfil', 'seem', 'hopeless', 'drag', 'onto', 'crosscountri', 'embarrass', 'father', 'goofi', 'animation', 'adventure', 'comedy', '78', '1995', '709'], ['goal', 'ii', 'live', 'dream', 'newcastl', 'unit', 'soccer', 'santiago', 'muñez', 'kuno', 'becker', 'offer', 'spot', 'real', 'madrid', 'accept', 'move', 'accompani', 'big', 'money', 'fame', 'test', 'tie', 'loyalti', 'famili', 'friend', 'busi', 'acquaint', 'adventure', 'drama', 'sport', '115', '2007', '710'], ['like', 'orphan', 'becom', 'nba', 'superstar', 'tri', 'pair', 'sneaker', 'fade', 'initi', 'mj', 'insid', 'comedy', 'family', 'fantasy', '99', '2002', '711'], ['legal', 'blond', 'white', 'blond', 'wood', 'head', 'dc', 'join', 'staff', 'repres', 'order', 'pass', 'ban', 'anim', 'test', 'comedy', '95', '2003', '712'], ['karat', 'kid', 'part', 'iii', 'ostracis', 'villain', 'krees', 'attempt', 'gain', 'reveng', 'miyagi', 'help', 'vietnam', 'war', 'comrad', 'wealthi', 'owner', 'toxic', 'wast', 'dispos', 'busi', 'action', 'drama', 'family', '112', '1989', '713'], ['cop', 'iii', 'foley', 'investig', 'car', 'theft', 'ring', 'come', 'across', 'someth', 'much', 'bigger', 'men', 'kill', 'boss', 'run', 'counterfeit', 'money', 'ring', 'theme', 'lo', 'angel', 'action', 'comedy', 'crime', '104', '1994', '714'], ['doctor', 'dolittl', 'doctor', 'discov', 'commun', 'anim', 'comedy', 'family', 'fantasy', '85', '1998', '715'], ['jingl', 'father', 'vow', 'get', 'turbo', 'man', 'action', 'figur', 'christma', 'howev', 'everi', 'store', 'sold', 'must', 'travel', 'compet', 'everybodi', 'order', 'find', 'adventure', 'comedy', 'family', '89', '1996', '716'], ['jeeper', 'creeper', 'set', 'day', 'origin', 'championship', 'basketbal', 'team', 'bu', 'attack', 'creeper', 'wing', 'flesheat', 'terror', 'last', 'day', 'feed', 'frenzi', 'horror', '104', '2003', '717'], ['bowfing', 'desper', 'movi', 'produc', 'fail', 'get', 'bargain', 'basement', 'film', 'decid', 'shoot', 'film', 'secretli', 'around', 'comedy', '97', '1999', '718'], ['spi', 'kid', 'island', 'lost', 'dream', 'cortez', 'sibl', 'set', 'mysteri', 'island', 'encount', 'genet', 'scientist', 'set', 'rival', 'spi', 'kid', 'action', 'adventure', 'comedy', '100', '2002', '719'], ['tuxedo', 'hapless', 'chauffeur', 'must', 'take', 'comatos', 'secret', 'agent', 'place', 'use', 'special', 'gadgetladen', 'tuxedo', 'action', 'comedy', 'sci-fi', '98', '2002', '720'], ['asterix', 'obelix', 'mission', 'astérix', 'obélix', 'go', 'egypt', 'help', 'architect', 'numérobi', 'build', 'palac', 'adventure', 'comedy', 'family', '107', '2002', '721'], ['open', 'water', 'base', 'true', 'stori', 'scuba', 'diver', 'accident', 'strand', 'shark', 'infest', 'water', 'tour', 'boat', 'left', 'adventure', 'drama', 'horror', '79', '2003', '722'], ['great', 'mous', 'detect', 'rodent', 'holm', 'investig', 'kidnap', 'toy', 'maker', 'uncov', 'link', 'archenemi', 'professor', 'ratigan', 'animation', 'adventure', 'family', '74', '1986', '723'], ['robocop', 'robocop', 'save', 'day', 'time', 'half', 'manhalf', 'robot', 'take', 'ruthless', 'develop', 'want', 'evict', 'peopl', 'land', 'action', 'crime', 'sci-fi', '104', '1993', '724'], ['raven', 'remot', 'militari', 'outpost', 'centuri', 'captain', 'regiment', 'embark', 'rescu', 'mission', 'take', 'dark', 'turn', 'ambush', 'sadist', 'cannib', 'adventure', 'horror', 'western', '101', '1999', '725'], ['animatrix', 'collect', 'short', 'film', 'featur', 'stori', 'relat', 'matrix', 'animation', 'action', 'adventure', '100', '2003', '726'], ['mr', 'woodcock', 'taken', 'aback', 'mother', 'wed', 'announc', 'young', 'man', 'return', 'home', 'effort', 'stop', 'marri', 'old', 'high', 'school', 'gym', 'teacher', 'man', 'made', 'middl', 'school', 'hell', 'gener', 'student', 'comedy', 'romance', 'sport', '87', '2007', '727'], ['grudg', 'young', 'japanes', 'woman', 'hold', 'key', 'stop', 'evil', 'spirit', 'kayako', 'travel', 'haunt', 'chicago', 'apart', 'sequel', 'stop', 'curs', 'kayako', 'horror', 'mystery', 'thriller', '90', '2009', '728'], ['speed', 'cruis', 'control', 'comput', 'hacker', 'break', 'comput', 'system', 'seabourn', 'legend', 'cruis', 'liner', 'set', 'speed', 'collis', 'cours', 'gigant', 'oil', 'tanker', 'action', 'adventure', 'crime', '121', '1997', '729'], ['gremlin', 'new', 'batch', 'gremlin', 'back', 'time', 'theyv', 'taken', 'control', 'new', 'york', 'citi', 'media', 'mogul', 'hightech', 'skyscrap', 'comedy', 'fantasy', 'horror', '106', '1990', '730'], ['nightmar', 'elm', 'street', 'freddi', 'reveng', 'teenag', 'boy', 'haunt', 'dream', 'deceas', 'child', 'murder', 'krueger', 'possess', 'order', 'continu', 'reign', 'terror', 'real', 'world', 'horror', '87', '1985', '731'], ['danc', 'dead', 'night', 'big', 'highschool', 'prom', 'dead', 'rise', 'eat', 'live', 'peopl', 'stop', 'loser', 'couldnt', 'get', 'date', 'danc', 'action', 'comedy', 'horror', '87', '2008', '732'], ['death', 'stone', 'allamerican', 'murder', 'day', 'horrifi', 'pursuer', 'slightli', 'differ', 'live', 'experi', 'terror', 'murder', 'horror', 'thriller', '87', '2007', '733'], ['volcano', 'volcano', 'erupt', 'downtown', 'lo', 'angel', 'citi', 'offici', 'seismologist', 'tri', 'stop', 'inevit', 'flow', 'citi', 'action', 'drama', 'sci-fi', '104', '1997', '734'], ['polic', 'academi', 'first', 'assign', 'new', 'gang', 'move', 'screwbal', 'polic', 'team', 'stop', 'comedy', '87', '1985', '735'], ['new', 'nightmar', 'demon', 'forc', 'chosen', 'krueger', 'portal', 'real', 'world', 'langenkamp', 'play', 'part', 'last', 'time', 'trap', 'evil', 'tri', 'enter', 'world', 'fantasy', 'horror', 'mystery', '112', '1994', '736'], ['santa', 'claus', 'man', 'inadvert', 'make', 'santa', 'fall', 'roof', 'christma', 'find', 'magic', 'recruit', 'take', 'place', 'comedy', 'drama', 'family', '97', '1994', '737'], ['black', 'knight', 'play', 'jamal', 'employe', 'mediev', 'world', 'amus', 'sustain', 'blow', 'head', 'awaken', 'find', 'centuri', 'england', 'adventure', 'comedy', 'fantasy', '95', '2001', '738'], ['gump', 'presid', 'johnson', 'vietnam', 'war', 'waterg', 'scandal', 'histor', 'event', 'unfold', 'perspect', 'alabama', 'man', 'iq', 'whose', 'desir', 'reunit', 'childhood', 'sweetheart', 'drama', 'romance', '142', '1994', '739'], ['titan', 'seventeenyearold', 'aristocrat', 'fall', 'kind', 'poor', 'artist', 'aboard', 'luxuri', 'illfat', 'rm', 'titan', 'drama', 'romance', '194', '1997', '740'], ['memento', 'man', 'shortterm', 'memori', 'loss', 'attempt', 'track', 'wife', 'murder', 'mystery', 'thriller', '113', '2000', '741'], ['american', 'histori', 'x', 'former', 'neonazi', 'skinhead', 'tri', 'prevent', 'younger', 'brother', 'go', 'wrong', 'path', 'drama', '119', '1998', '742'], ['v', 'vendetta', 'futur', 'british', 'tyranni', 'shadowi', 'freedom', 'fighter', 'known', 'alia', 'v', 'plot', 'overthrow', 'help', 'young', 'woman', 'action', 'drama', 'sci-fi', '132', '2005', '743'], ['goodfella', 'stori', 'life', 'mob', 'cover', 'relationship', 'wife', 'mob', 'partner', 'devito', 'italianamerican', 'crime', 'syndic', 'biography', 'crime', 'drama', '146', '1990', '744'], ['iron', 'man', 'held', 'captiv', 'afghan', 'cave', 'billionair', 'engin', 'stark', 'creat', 'uniqu', 'weapon', 'suit', 'armor', 'fight', 'evil', 'action', 'adventure', 'sci-fi', '126', '2008', '745'], ['casino', 'royal', 'earn', 'statu', 'licenc', 'kill', 'secret', 'agent', 'bond', 'set', 'first', 'mission', 'bond', 'must', 'defeat', 'privat', 'banker', 'fund', 'terrorist', 'highstak', 'game', 'poker', 'casino', 'royal', 'montenegro', 'action', 'adventure', 'thriller', '144', '2006', '746'], ['spiderman', 'bitten', 'genet', 'modifi', 'spider', 'nerdi', 'shi', 'awkward', 'high', 'school', 'student', 'gain', 'spiderlik', 'abil', 'eventu', 'must', 'use', 'fight', 'evil', 'superhero', 'tragedi', 'befal', 'famili', 'action', 'adventure', 'sci-fi', '121', '2002', '747'], ['pirat', 'caribbean', 'dead', 'man', 'chest', 'sparrow', 'race', 'recov', 'heart', 'jone', 'avoid', 'enslav', 'soul', 'jone', 'servic', 'friend', 'foe', 'seek', 'heart', 'agenda', 'well', 'action', 'adventure', 'fantasy', '151', '2006', '748'], ['independ', 'day', 'alien', 'come', 'goal', 'invad', 'destroy', 'earth', 'fight', 'superior', 'technolog', 'mankind', 'best', 'weapon', 'surviv', 'action', 'adventure', 'sci-fi', '145', '1996', '749'], ['ocean', 'ocean', 'accomplic', 'plan', 'la', 'vega', 'casino', 'simultan', 'crime', 'thriller', '116', '2001', '750'], ['pirat', 'caribbean', 'world', 'end', 'captain', 'barbossa', 'swann', 'must', 'sail', 'edg', 'map', 'navig', 'treacheri', 'betray', 'find', 'sparrow', 'make', 'final', 'allianc', 'last', 'decis', 'battl', 'action', 'adventure', 'fantasy', '169', '2007', '751'], ['armageddon', 'discov', 'asteroid', 'size', 'texa', 'go', 'impact', 'earth', 'less', 'month', 'nasa', 'recruit', 'misfit', 'team', 'deepcor', 'driller', 'save', 'planet', 'action', 'adventure', 'sci-fi', '151', '1998', '752'], ['potter', 'prison', 'azkaban', 'potter', 'return', 'hogwart', 'school', 'witchcraft', 'wizardri', 'third', 'year', 'studi', 'delv', 'mysteri', 'surround', 'escap', 'prison', 'pose', 'danger', 'threat', 'young', 'wizard', 'adventure', 'family', 'fantasy', '142', '2004', '753'], ['potter', 'order', 'warn', 'lord', 'voldemort', 'return', 'scof', 'dumbledor', 'target', 'wizard', 'author', 'authoritarian', 'bureaucrat', 'slowli', 'seiz', 'power', 'hogwart', 'action', 'adventure', 'family', '138', '2007', '754'], ['et', 'extraterrestri', 'troubl', 'child', 'summon', 'courag', 'help', 'friendli', 'alien', 'escap', 'earth', 'return', 'home', 'world', 'adventure', 'family', 'sci-fi', '115', '1982', '755'], ['mr', 'mr', 'bore', 'marri', 'coupl', 'surpris', 'learn', 'assassin', 'hire', 'compet', 'agenc', 'kill', 'action', 'comedy', 'crime', '120', '2005', '756'], ['chronicl', 'narnia', 'witch', 'wardrob', 'kid', 'travel', 'wardrob', 'land', 'narnia', 'learn', 'destini', 'free', 'guidanc', 'mystic', 'adventure', 'family', 'fantasy', '143', '2005', '757'], ['black', 'hawk', 'stori', 'elit', 'us', 'soldier', 'drop', 'mogadishu', 'octob', 'captur', 'top', 'lieuten', 'renegad', 'warlord', 'found', 'desper', 'battl', 'larg', 'forc', 'heavilyarm', 'somali', 'action', 'drama', 'war', '144', '2001', '758'], ['python', 'life', 'born', 'origin', 'christma', 'stabl', 'next', 'door', 'nazareth', 'spend', 'life', 'mistaken', 'messiah', 'comedy', '94', '1979', '759'], ['mummi', 'archaeolog', 'dig', 'ancient', 'citi', 'hamunaptra', 'american', 'serv', 'foreign', 'legion', 'accident', 'awaken', 'mummi', 'begin', 'wreak', 'havoc', 'search', 'reincarn', 'longlost', 'action', 'adventure', 'fantasy', '124', '1999', '760'], ['quantum', 'solac', 'bond', 'descend', 'mysteri', 'tri', 'stop', 'mysteri', 'organis', 'elimin', 'countri', 'valuabl', 'resourc', 'action', 'adventure', 'thriller', '106', '2008', '761'], ['meet', 'parent', 'male', 'nurs', 'focker', 'meet', 'girlfriend', 'parent', 'propos', 'suspici', 'father', 'everi', 'date', 'worst', 'nightmar', 'comedy', 'romance', '108', '2000', '762'], ['aviat', 'biopic', 'depict', 'earli', 'year', 'legendari', 'director', 'aviat', 'hugh', 'career', 'late', 'mid', 'biography', 'drama', '170', '2004', '763'], ['frustrat', 'writer', 'struggl', 'keep', 'famili', 'aliv', 'seri', 'global', 'catastroph', 'threaten', 'annihil', 'mankind', 'action', 'adventure', 'sci-fi', '158', '2009', '764'], ['passion', 'depict', 'final', 'hour', 'life', 'nazareth', 'day', 'crucifixion', 'jerusalem', 'drama', '127', '2004', '765'], ['ghostbust', 'parapsychologist', 'forc', 'univers', 'fund', 'set', 'shop', 'uniqu', 'ghost', 'remov', 'servic', 'new', 'york', 'citi', 'attract', 'frighten', 'yet', 'skeptic', 'custom', 'action', 'comedy', 'fantasy', '105', '1984', '766'], ['home', 'alon', 'eightyearold', 'troublemak', 'must', 'protect', 'hous', 'pair', 'burglar', 'accident', 'left', 'home', 'alon', 'famili', 'christma', 'vacat', 'comedy', 'family', '103', '1990', '767'], ['kingdom', 'heaven', 'balian', 'ibelin', 'travel', 'jerusalem', 'crusad', 'centuri', 'find', 'defend', 'citi', 'peopl', 'action', 'adventure', 'drama', '144', '2005', '768'], ['speed', 'young', 'polic', 'offic', 'must', 'prevent', 'bomb', 'explod', 'aboard', 'citi', 'bu', 'keep', 'speed', 'mph', 'action', 'adventure', 'thriller', '116', '1994', '769'], ['thing', 'research', 'team', 'antarctica', 'hunt', 'shapeshift', 'alien', 'assum', 'appear', 'victim', 'horror', 'mystery', 'sci-fi', '109', '1982', '770'], ['pineappl', 'express', 'process', 'server', 'marijuana', 'dealer', 'wind', 'run', 'hitmen', 'corrupt', 'polic', 'offic', 'wit', 'dealer', 'boss', 'murder', 'competitor', 'tri', 'serv', 'paper', 'action', 'comedy', 'crime', '111', '2008', '771'], ['supernatur', 'exorcist', 'demonologist', 'help', 'policewoman', 'prove', 'sister', 'death', 'suicid', 'someth', 'action', 'fantasy', 'horror', '121', '2005', '772'], ['back', 'futur', 'part', 'iii', 'strand', 'mcfli', 'learn', 'death', 'doc', 'brown', 'must', 'travel', 'back', 'time', 'save', 'fuel', 'readili', 'avail', 'delorean', 'must', 'figur', 'escap', 'old', 'murder', 'adventure', 'comedy', 'sci-fi', '118', '1990', '773'], ['deathrow', 'murderess', 'develop', 'fierc', 'rivalri', 'compet', 'public', 'celebr', 'sleazi', 'lawyer', 'attent', 'comedy', 'crime', 'musical', '113', '2002', '774'], ['death', 'proof', 'separ', 'set', 'voluptu', 'women', 'stalk', 'differ', 'time', 'scar', 'stuntman', 'use', 'death', 'proof', 'car', 'execut', 'murder', 'plan', 'action', 'thriller', '127', '2007', '775'], ['ice', 'age', 'stori', 'revolv', 'around', 'subzero', 'hero', 'woolli', 'mammoth', 'sabertooth', 'tiger', 'sloth', 'prehistor', 'combin', 'squirrel', 'rat', 'known', 'scrat', 'animation', 'adventure', 'comedy', '81', '2002', '776'], ['south', 'bigger', 'longer', 'uncut', 'friend', 'go', 'rrate', 'movi', 'start', 'curs', 'parent', 'think', 'blame', 'animation', 'comedy', 'fantasy', '81', '1999', '777'], ['street', 'fighter', 'legend', 'chunli', 'teenag', 'chunli', 'wit', 'kidnap', 'father', 'wealthi', 'crime', 'lord', 'bison', 'grow', 'goe', 'quest', 'vengeanc', 'becom', 'famou', 'crimefight', 'street', 'fighter', 'univers', 'action', 'crime', 'fantasy', '96', '2009', '778'], ['martyr', 'young', 'woman', 'quest', 'reveng', 'peopl', 'kidnap', 'torment', 'child', 'lead', 'friend', 'also', 'victim', 'child', 'abus', 'terrifi', 'journey', 'live', 'hell', 'deprav', 'horror', '99', '2008', '779'], ['gi', 'rise', 'cobra', 'elit', 'militari', 'unit', 'compris', 'special', 'oper', 'known', 'gi', 'oper', 'pit', 'take', 'evil', 'organ', 'led', 'notori', 'arm', 'dealer', 'action', 'adventure', 'sci-fi', '118', '2009', '780'], ['termin', 'salvat', 'mysteri', 'new', 'weapon', 'war', 'machin', 'halfhuman', 'halfmachin', 'come', 'resist', 'attack', 'skynet', 'whose', 'side', 'trust', 'action', 'sci-fi', '115', '2009', '781'], ['spiderman', 'strang', 'black', 'entiti', 'anoth', 'world', 'bond', 'caus', 'inner', 'turmoil', 'contend', 'new', 'villain', 'temptat', 'reveng', 'action', 'adventure', 'sci-fi', '139', '2007', '782'], ['descent', 'cave', 'expedit', 'goe', 'horribl', 'wrong', 'explor', 'becom', 'trap', 'ultim', 'pursu', 'strang', 'breed', 'predat', 'adventure', 'horror', 'thriller', '99', '2005', '783'], ['descent', 'part', 'refus', 'believ', 'stori', 'cavedwel', 'monster', 'sole', 'survivor', 'spelunk', 'explor', 'gone', 'horribl', 'wrong', 'forc', 'follow', 'author', 'back', 'cave', 'someth', 'await', 'adventure', 'horror', 'thriller', '94', '2009', '784']]\n"
          ]
        },
        {
          "output_type": "execute_result",
          "data": {
            "text/html": [
              "<div>\n",
              "<style scoped>\n",
              "    .dataframe tbody tr th:only-of-type {\n",
              "        vertical-align: middle;\n",
              "    }\n",
              "\n",
              "    .dataframe tbody tr th {\n",
              "        vertical-align: top;\n",
              "    }\n",
              "\n",
              "    .dataframe thead th {\n",
              "        text-align: right;\n",
              "    }\n",
              "</style>\n",
              "<table border=\"1\" class=\"dataframe\">\n",
              "  <thead>\n",
              "    <tr style=\"text-align: right;\">\n",
              "      <th></th>\n",
              "      <th>name</th>\n",
              "      <th>age rate</th>\n",
              "    </tr>\n",
              "  </thead>\n",
              "  <tbody>\n",
              "    <tr>\n",
              "      <th>0</th>\n",
              "      <td>[shawshank, redempt, imprison, men, bond, numb...</td>\n",
              "      <td>1</td>\n",
              "    </tr>\n",
              "    <tr>\n",
              "      <th>1</th>\n",
              "      <td>[godfath, godfath, follow, corleon, corleon, f...</td>\n",
              "      <td>1</td>\n",
              "    </tr>\n",
              "    <tr>\n",
              "      <th>2</th>\n",
              "      <td>[pulp, fiction, live, mob, hitmen, boxer, gang...</td>\n",
              "      <td>1</td>\n",
              "    </tr>\n",
              "    <tr>\n",
              "      <th>3</th>\n",
              "      <td>[godfath, part, ii, earli, life, career, corle...</td>\n",
              "      <td>1</td>\n",
              "    </tr>\n",
              "    <tr>\n",
              "      <th>4</th>\n",
              "      <td>[incept, thief, steal, corpor, secret, use, dr...</td>\n",
              "      <td>0</td>\n",
              "    </tr>\n",
              "  </tbody>\n",
              "</table>\n",
              "</div>"
            ],
            "text/plain": [
              "                                                name  age rate\n",
              "0  [shawshank, redempt, imprison, men, bond, numb...         1\n",
              "1  [godfath, godfath, follow, corleon, corleon, f...         1\n",
              "2  [pulp, fiction, live, mob, hitmen, boxer, gang...         1\n",
              "3  [godfath, part, ii, earli, life, career, corle...         1\n",
              "4  [incept, thief, steal, corpor, secret, use, dr...         0"
            ]
          },
          "metadata": {},
          "execution_count": 311
        }
      ]
    },
    {
      "cell_type": "markdown",
      "metadata": {
        "id": "aWZWBx-_Qsfb"
      },
      "source": [
        "# Hyperparameters\n"
      ]
    },
    {
      "cell_type": "code",
      "metadata": {
        "id": "ZscIPxf2snDQ"
      },
      "source": [
        "# output directory name:\n",
        "output_dir = 'model_output/dense'\n",
        "\n",
        "embedding_dim = 64\n",
        "max_features=10000\n",
        "maxlen=30\n",
        "\n",
        "####\n",
        "# training:\n",
        "epochs = 4#4\n",
        "batch_size = 32#784\n",
        "\n",
        "# vector-space embedding: \n",
        "n_dim = 64\n",
        "n_unique_words = 5000 # as per Maas et al. (2011); may not be optimal\n",
        "#n_words_to_skip = 50 # ditto\n",
        "max_decription_length = 100 #max_review_length (amount of tokens(words))\n",
        "pad_type = trunc_type = 'pre' #could be 'post'\n",
        "\n",
        "# neural network architecture: \n",
        "n_dense = 64 #neurons\n",
        "dropout = 0.5 #drop 50% of neurons \n",
        "\n",
        "\n",
        "\n"
      ],
      "execution_count": null,
      "outputs": []
    },
    {
      "cell_type": "markdown",
      "metadata": {
        "id": "CyHfKPx7SM-D"
      },
      "source": [
        "# Tokenizer"
      ]
    },
    {
      "cell_type": "code",
      "metadata": {
        "colab": {
          "base_uri": "https://localhost:8080/"
        },
        "id": "8kz1yWicnKTq",
        "outputId": "839ce8e6-ac20-478d-8e7e-0fe364bfd1e6"
      },
      "source": [
        "#tokenizer of descriptions\n",
        "t  = Tokenizer(num_words=max_features)\n",
        "t.fit_on_texts([x for x in short_df['name']])\n",
        "print(len(t.word_index))\n",
        "os.makedirs(output_dir, exist_ok=True)\n",
        "with io.open(output_dir+'/tokenizer.json', 'w',encoding='utf-8', ) as f:\n",
        "    f.write(json.dumps(t.to_json(),ensure_ascii=False))\n",
        "vocab_size = len(t.word_index) + 1\n",
        "num_categories = 1\n"
      ],
      "execution_count": null,
      "outputs": [
        {
          "output_type": "stream",
          "name": "stdout",
          "text": [
            "4742\n"
          ]
        }
      ]
    },
    {
      "cell_type": "code",
      "metadata": {
        "colab": {
          "base_uri": "https://localhost:8080/"
        },
        "id": "zYqdpHsDcVqY",
        "outputId": "bde5db72-14c5-47a2-8d88-4dccb677a66f"
      },
      "source": [
        "descr_sequences = t.texts_to_sequences([x for x in np.array(short_df['name'])])\n",
        "descr_sequences = tf.keras.preprocessing.sequence.pad_sequences(descr_sequences, maxlen=maxlen)\n",
        "print(descr_sequences[0])\n",
        "print('sequences : ',descr_sequences,'\\n')\n",
        "print('word_index : ',t.word_index)\n",
        "print(np.array(descr_sequences))"
      ],
      "execution_count": null,
      "outputs": [
        {
          "output_type": "stream",
          "name": "stdout",
          "text": [
            "[   0    0    0    0    0    0    0    0    0    0    0    0 1994  908\n",
            "  680  124  175  909   49   11  910  911  908  340 1995 1996    3  565\n",
            "  137 1997]\n",
            "sequences :  [[   0    0    0 ...  565  137 1997]\n",
            " [   0    0    0 ...  912 1999 2000]\n",
            " [   0    0    0 ...  685  137 2003]\n",
            " ...\n",
            " [   0    0    0 ...  754   16 4737]\n",
            " [   0    0    0 ...  159   23 4739]\n",
            " [   0    0    0 ...  181   32 4742]] \n",
            "\n",
            "word_index :  {'action': 1, 'comedy': 2, 'drama': 3, 'adventure': 4, 'crime': 5, 'thriller': 6, 'horror': 7, 'sci-fi': 8, 'fantasy': 9, 'mystery': 10, 'find': 11, 'must': 12, 'family': 13, 'new': 14, 'romance': 15, '2007': 16, 'man': 17, 'world': 18, '2004': 19, 'life': 20, 'young': 21, '2008': 22, '2005': 23, '2003': 24, 'group': 25, 'animation': 26, '2002': 27, 'becom': 28, '2006': 29, 'famili': 30, '2001': 31, '2009': 32, 'live': 33, 'help': 34, 'kill': 35, 'friend': 36, 'war': 37, 'discov': 38, 'citi': 39, 'mysteri': 40, 'agent': 41, 'dead': 42, 'murder': 43, 'forc': 44, 'tri': 45, 'team': 46, 'save': 47, 'back': 48, 'year': 49, 'return': 50, 'take': 51, '2000': 52, 'set': 53, 'day': 54, 'woman': 55, '2010': 56, 'time': 57, 'father': 58, 'evil': 59, 'get': 60, 'home': 61, 'fight': 62, 'human': 63, 'polic': 64, 'school': 65, 'make': 66, '104': 67, 'death': 68, 'american': 69, 'power': 70, 'killer': 71, 'stop': 72, 'boy': 73, 'use': 74, 'girl': 75, 'go': 76, 'former': 77, 'come': 78, 'travel': 79, 'investig': 80, 'begin': 81, '1999': 82, '101': 83, 'plan': 84, 'alien': 85, 'meet': 86, 'protect': 87, 'movi': 88, 'sport': 89, 'race': 90, '1997': 91, 'secret': 92, 'battl': 93, 'small': 94, 'order': 95, 'high': 96, 'biography': 97, 'fall': 98, 'earth': 99, 'stori': 100, '98': 101, 'ii': 102, '88': 103, '96': 104, '92': 105, 'work': 106, 'lead': 107, 'student': 108, '113': 109, 'turn': 110, 'seek': 111, 'escap': 112, 'wife': 113, 'detect': 114, '93': 115, 'island': 116, 'gang': 117, 'cop': 118, '1998': 119, 'street': 120, '87': 121, '109': 122, 'brother': 123, 'men': 124, 'follow': 125, 'planet': 126, 'terror': 127, 'old': 128, '95': 129, 'offic': 130, 'assassin': 131, 'magic': 132, '107': 133, 'daughter': 134, '97': 135, 'first': 136, '1994': 137, 'past': 138, 'attempt': 139, 'rescu': 140, 'dark': 141, 'learn': 142, 'survivor': 143, 'last': 144, 'coupl': 145, 'peopl': 146, 'sent': 147, 'die': 148, '90': 149, 'black': 150, '108': 151, 'hous': 152, 'attack': 153, 'history': 154, '110': 155, 'kidnap': 156, 'york': 157, '1995': 158, '99': 159, '91': 160, 'run': 161, '103': 162, 'teenag': 163, '102': 164, 'soldier': 165, 'road': 166, 'seri': 167, 'reveng': 168, '118': 169, 'children': 170, 'parent': 171, 'anoth': 172, 'fbi': 173, 'mr': 174, 'bond': 175, 'part': 176, 'deadli': 177, 'sister': 178, 'monster': 179, 'film': 180, '94': 181, 'night': 182, 'move': 183, 'dream': 184, 'christma': 185, 'angel': 186, '115': 187, 'music': 188, '121': 189, 'beauti': 190, 'goe': 191, '100': 192, 'unit': 193, 'govern': 194, 'mission': 195, '124': 196, 'warrior': 197, 'final': 198, 'want': 199, 'call': 200, 'whose': 201, '127': 202, 'decid': 203, 'zombi': 204, 'surviv': 205, 'us': 206, 'scientist': 207, '105': 208, '1992': 209, 'space': 210, 'event': 211, 'trap': 212, '119': 213, 'futur': 214, 'train': 215, 'terrorist': 216, '85': 217, 'spi': 218, '106': 219, 'plot': 220, '1996': 221, 'kid': 222, 'lord': 223, 'ring': 224, 'join': 225, 'along': 226, '122': 227, 'accid': 228, 'mother': 229, '89': 230, 'crimin': 231, '116': 232, 'lo': 233, 'danger': 234, 'boss': 235, 'someth': 236, 'involv': 237, 'togeth': 238, 'colleg': 239, 'head': 240, 'tale': 241, 'destroy': 242, 'know': 243, 'search': 244, 'london': 245, 'struggl': 246, 'special': 247, 'accident': 248, 'girlfriend': 249, 'insid': 250, 'caus': 251, 'memori': 252, 'wed': 253, '1990': 254, 'creat': 255, 'encount': 256, 'corrupt': 257, 'known': 258, 'target': 259, 'big': 260, 'name': 261, '111': 262, 'adventur': 263, 'true': 264, 'haunt': 265, 'game': 266, 'prison': 267, 'car': 268, 'person': 269, 'organ': 270, 'pair': 271, 'armi': 272, 'princess': 273, 'across': 274, 'america': 275, 'machin': 276, 'local': 277, 'ancient': 278, 'deal': 279, 'child': 280, 'end': 281, 'potter': 282, '112': 283, 'leav': 284, '83': 285, 'oper': 286, 'basketbal': 287, 'hunt': 288, '126': 289, 'enemi': 290, 'stalk': 291, 'differ': 292, 'face': 293, 'littl': 294, 'soon': 295, '1993': 296, '1987': 297, 'intern': 298, 'arriv': 299, 'bodi': 300, 'break': 301, 'secur': 302, 'start': 303, 'militari': 304, 'creatur': 305, 'vacat': 306, 'nuclear': 307, 'research': 308, 'land': 309, 'taken': 310, 'rais': 311, '1985': 312, 'victim': 313, 'leader': 314, 'experi': 315, 'predat': 316, 'ultim': 317, 'wrong': 318, 'owner': 319, 'abil': 320, '120': 321, 'vampir': 322, 'profession': 323, 'univers': 324, 'spirit': 325, 'toy': 326, '84': 327, 'hire': 328, '129': 329, 'bank': 330, 'pursu': 331, 'rival': 332, 'look': 333, 'realiz': 334, 'demon': 335, 'fighter': 336, 'far': 337, 'prove': 338, 'control': 339, 'act': 340, 'mob': 341, 'knight': 342, '136': 343, 'serial': 344, 'termin': 345, 'wake': 346, 'month': 347, 'resid': 348, 'dog': 349, 'execut': 350, 'state': 351, 'build': 352, 'rise': 353, 'commit': 354, 'recruit': 355, 'vega': 356, 'exist': 357, 'claim': 358, 'book': 359, 'superhero': 360, 'even': 361, '117': 362, 'like': 363, 'unleash': 364, 'upon': 365, 'troubl': 366, 'room': 367, 'childhood': 368, 'texa': 369, 'prevent': 370, 'quest': 371, '114': 372, '138': 373, 'wit': 374, '128': 375, 'bring': 376, 'origin': 377, 'weapon': 378, 'compet': 379, 'tournament': 380, 'nightmar': 381, 'iii': 382, 'he': 383, 'nation': 384, 'eye': 385, 'seem': 386, 'ghost': 387, 'real': 388, 'put': 389, 'centuri': 390, 'career': 391, 'jedi': 392, 'journey': 393, 'stranger': 394, 'innoc': 395, 'plagu': 396, 'plane': 397, 'enter': 398, 'marri': 399, 'releas': 400, 'behind': 401, 'transport': 402, '81': 403, '1989': 404, '86': 405, 'parti': 406, 'miss': 407, 'awaken': 408, 'engag': 409, '130': 410, 'embark': 411, 'yet': 412, 'free': 413, 'vengeanc': 414, 'uncov': 415, 'batman': 416, 'heart': 417, 'date': 418, 'thing': 419, '140': 420, 'other': 421, 'shark': 422, 'commun': 423, 'long': 424, 'stolen': 425, 'drug': 426, 'million': 427, 'figur': 428, 'determin': 429, 'curs': 430, 'orphan': 431, 'coach': 432, 'british': 433, 'rule': 434, 'program': 435, '125': 436, 'xmen': 437, 'shrek': 438, 'captur': 439, 'left': 440, 'wealthi': 441, 'robot': 442, 'visit': 443, 'never': 444, 'fellow': 445, 'musical': 446, 'supernatur': 447, 'base': 448, 'gun': 449, 'ocean': 450, 'invad': 451, 'teen': 452, 'english': 453, 'money': 454, 'women': 455, 'keep': 456, 'art': 457, 'dr': 458, 'femal': 459, 'alon': 460, 'steal': 461, 'doom': 462, 'episod': 463, 'empir': 464, 'sens': 465, 'around': 466, 'sheriff': 467, 'stay': 468, 'aliv': 469, 'transform': 470, 'strang': 471, 'farm': 472, 'later': 473, 'rage': 474, 'great': 475, 'desert': 476, 'nurs': 477, 'retriev': 478, 'menac': 479, 'marin': 480, 'genet': 481, 'member': 482, 'north': 483, 'employe': 484, 'green': 485, 'larg': 486, 'la': 487, 'heist': 488, 'eccentr': 489, 'guard': 490, 'england': 491, 'greatest': 492, 'wreak': 493, 'test': 494, 'elit': 495, 'busi': 496, 'top': 497, 'worker': 498, 'much': 499, '132': 500, 'clue': 501, 'box': 502, 'violent': 503, 'track': 504, 'romanc': 505, 'threaten': 506, 'undercov': 507, 'pirat': 508, '143': 509, 'mad': 510, 'brutal': 511, 'queen': 512, 'away': 513, 'lawyer': 514, '1984': 515, 'disappear': 516, 'driver': 517, 'hit': 518, 'complet': 519, 'chang': 520, 'histori': 521, 'jungl': 522, '131': 523, '134': 524, 'anim': 525, 'ever': 526, 'stand': 527, 'solv': 528, 'howev': 529, 'law': 530, 'citizen': 531, '144': 532, 'popular': 533, 'crew': 534, 'hell': 535, 'suburban': 536, 'second': 537, 'camp': 538, 'devil': 539, 'suffer': 540, 'doctor': 541, 'grow': 542, 'martial': 543, 'lost': 544, 'jigsaw': 545, 'next': 546, 'arm': 547, 'dealer': 548, 'casino': 549, 'professor': 550, 'place': 551, 'rambo': 552, 'apart': 553, 'remot': 554, 'footbal': 555, 'open': 556, 'best': 557, 'white': 558, 'robocop': 559, 'vietnam': 560, 'recov': 561, 'academi': 562, 'believ': 563, 'hero': 564, '142': 565, 'gangster': 566, 'tragic': 567, 'disast': 568, 'pilot': 569, 'galaxi': 570, 'underworld': 571, 'cyborg': 572, 'ident': 573, 'advanc': 574, '1991': 575, 'ruin': 576, 'shi': 577, 'cure': 578, 'unusu': 579, 'viru': 580, 'week': 581, 'produc': 582, 'flesheat': 583, 'shop': 584, 'store': 585, 'clerk': 586, 'confront': 587, 'hospit': 588, 'bomb': 589, 'situat': 590, 'televis': 591, 'hord': 592, 'undead': 593, 'diari': 594, 'strike': 595, 'bumbl': 596, 'win': 597, 'buddi': 598, 'previou': 599, 'tyranni': 600, 'dictat': 601, 'jewish': 602, 'veng': 603, 'havoc': 604, 'gotham': 605, 'social': 606, 'defeat': 607, 'actor': 608, 'form': 609, 'hard': 610, 'hostag': 611, 'german': 612, 'hotel': 613, 'robber': 614, 'gone': 615, 'graduat': 616, 'expos': 617, 'betray': 618, 'infiltr': 619, 'cia': 620, 'legendari': 621, 'reunit': 622, 'terribl': 623, 'retir': 624, '1982': 625, 'spend': 626, 'band': 627, 'psychopath': 628, 'x': 629, 'activ': 630, 'villain': 631, '123': 632, 'separ': 633, 'lose': 634, 'fire': 635, 'chronicl': 636, 'clone': 637, 'sinist': 638, 'god': 639, 'develop': 640, 'defend': 641, 'boyfriend': 642, 'receiv': 643, '1979': 644, 'water': 645, 'promis': 646, 'meanwhil': 647, 'tour': 648, 'widow': 649, 'soul': 650, 'skill': 651, 'everi': 652, 'domin': 653, 'adopt': 654, 'reviv': 655, 'ape': 656, 'crashland': 657, 'talk': 658, 'rogu': 659, 'theyr': 660, 'gain': 661, 'freedom': 662, 'secretli': 663, 'video': 664, 'ruthless': 665, 'emerg': 666, 'center': 667, 'invas': 668, 'massacr': 669, 'museum': 670, 'media': 671, 'businessman': 672, 'await': 673, 'firefight': 674, 'inadvert': 675, 'play': 676, 'chief': 677, 'speed': 678, 'drive': 679, 'imprison': 680, 'godfath': 681, 'corleon': 682, 'pass': 683, 'violenc': 684, '154': 685, 'thief': 686, 'technolog': 687, 'given': 688, 'task': 689, 'idea': 690, 'mind': 691, '148': 692, 'also': 693, '178': 694, 'matrix': 695, 'comput': 696, 'justic': 697, '137': 698, 'reach': 699, 'trek': 700, 'legend': 701, 'doubl': 702, 'featur': 703, 'hand': 704, 'britain': 705, 'everyth': 706, 'catastroph': 707, 'hope': 708, 'refug': 709, 'mutat': 710, 'ragtag': 711, 'nazi': 712, 'overrun': 713, 'drop': 714, 'bitten': 715, 'report': 716, '1978': 717, 'safe': 718, 'east': 719, 'bloodthirsti': 720, 'tragedi': 721, 'effort': 722, 'assist': 723, 'mask': 724, 'athlet': 725, 'tokyo': 726, 'sadist': 727, 'doesnt': 728, '1986': 729, 'deep': 730, 'stage': 731, 'magician': 732, 'brown': 733, 'round': 734, 'discoveri': 735, 'africa': 736, 'tell': 737, '146': 738, 'chao': 739, 'teach': 740, 'trade': 741, 'twin': 742, 'dispatch': 743, 'uniqu': 744, 'feel': 745, '162': 746, 'vs': 747, 'reason': 748, 'seiz': 749, 'opportun': 750, 'dont': 751, 'reveal': 752, 'evolv': 753, '139': 754, '1988': 755, 'manag': 756, 'unknowingli': 757, '170': 758, 'countri': 759, 'stumbl': 760, 'dollar': 761, 'near': 762, 'enlist': 763, '76': 764, 'vision': 765, '77': 766, 'wild': 767, 'possess': 768, 'hitchhik': 769, '78': 770, 'district': 771, 'extraterrestri': 772, '82': 773, 'cartel': 774, '1983': 775, '151': 776, 'alli': 777, 'contend': 778, 'rampag': 779, 'mercenari': 780, 'elimin': 781, 'good': 782, 'holiday': 783, 'fame': 784, 'key': 785, 'diseas': 786, 'gather': 787, 'priest': 788, '1973': 789, 'frustrat': 790, 'earn': 791, 'offer': 792, 'treasur': 793, 'forev': 794, 'alter': 795, 'line': 796, 'lover': 797, 'partner': 798, 'threat': 799, 'servic': 800, 'could': 801, 'cours': 802, 'postapocalypt': 803, 'trick': 804, 'allow': 805, 'scream': 806, 'v': 807, 'rebel': 808, 'elm': 809, 'grave': 810, 'adapt': 811, 'epic': 812, 'fate': 813, 'count': 814, 'descend': 815, 'settl': 816, 'expect': 817, 'problem': 818, 'hide': 819, 'slowli': 820, '145': 821, 'notori': 822, 'master': 823, 'dc': 824, 'share': 825, 'unknown': 826, 'kingdom': 827, 'side': 828, 'jurass': 829, 'dinosaur': 830, 'consequ': 831, 'friendship': 832, 'paranorm': 833, 'think': 834, 'pick': 835, 'catch': 836, 'middl': 837, 'effect': 838, 'exil': 839, 'presid': 840, 'mortal': 841, 'astronaut': 842, 'third': 843, 'appear': 844, 'celebr': 845, 'conspiraci': 846, 'continu': 847, 'spree': 848, 'challeng': 849, 'born': 850, 'led': 851, 'scari': 852, 'smuggl': 853, 'post': 854, 'mous': 855, 'destin': 856, 'premonit': 857, 'happen': 858, 'desir': 859, 'wartorn': 860, 'aid': 861, 'hometown': 862, 'heiress': 863, 'depict': 864, 'respons': 865, 'architect': 866, 'massiv': 867, 'bad': 868, 'speci': 869, 'friday': 870, 'found': 871, 'magnat': 872, 'danc': 873, 'blond': 874, 'natur': 875, 'dragon': 876, 'misfit': 877, 'isol': 878, 'summer': 879, 'midst': 880, 'penguin': 881, 'half': 882, 'author': 883, 'halloween': 884, 'croft': 885, 'strand': 886, 'brought': 887, 'disguis': 888, 'held': 889, 'resist': 890, 'vow': 891, 'full': 892, 'cant': 893, 'instead': 894, 'lethal': 895, 'biker': 896, 'desper': 897, 'invit': 898, 'krueger': 899, 'championship': 900, 'psychiatrist': 901, 'bean': 902, 'santa': 903, 'theori': 904, 'taxi': 905, 'miyagi': 906, 'chucki': 907, 'redempt': 908, 'number': 909, 'solac': 910, 'eventu': 911, '175': 912, 'fiction': 913, 'earli': 914, 'sauron': 915, 'mount': 916, 'skywalk': 917, 'vader': 918, 'hacker': 919, 'neo': 920, 'rooki': 921, 'fail': 922, 'walk': 923, 'coma': 924, 'salesman': 925, 'sole': 926, 'crash': 927, 'toxic': 928, 'quarantin': 929, 'exploit': 930, 'includ': 931, 'attract': 932, '191': 933, 'spread': 934, 'popul': 935, 'area': 936, 'raccoon': 937, 'policeman': 938, 'thousand': 939, 'facil': 940, 'enhanc': 941, 'eat': 942, 'philadelphia': 943, '1968': 944, 'suppli': 945, 'air': 946, 'colorado': 947, 'swan': 948, 'dancer': 949, 'role': 950, 'lake': 951, 'late': 952, 'extrem': 953, 'countrysid': 954, 'odd': 955, 'fast': 956, 'drift': 957, 'competitor': 958, 'sentenc': 959, 'aboard': 960, 'merciless': 961, 'warn': 962, 'anyon': 963, 'shatter': 964, 'horribl': 965, 'suspect': 966, 'inform': 967, 'tabl': 968, 'affect': 969, 'gift': 970, 'odyssey': 971, 'gener': 972, 'ago': 973, 'object': 974, 'mankind': 975, '149': 976, 'emperor': 977, 'nazioccupi': 978, '153': 979, 'wizard': 980, 'accept': 981, 'physic': 982, '152': 983, 'apprentic': 984, 'site': 985, 'stole': 986, 'comic': 987, 'ride': 988, 'guy': 989, 'mismatch': 990, 'club': 991, 'maker': 992, 'underground': 993, 'mentor': 994, 'highend': 995, 'lapd': 996, 'jaw': 997, 'beach': 998, 'russian': 999, 'incompet': 1000, 'ensu': 1001, 'uncl': 1002, '75': 1003, 'collector': 1004, 'manipul': 1005, 'entir': 1006, 'wilder': 1007, 'frighten': 1008, 'psychologist': 1009, 'miami': 1010, 'cuban': 1011, 'bust': 1012, 'south': 1013, 'caribbean': 1014, 'captain': 1015, 'sparrow': 1016, 'iron': 1017, 'renegad': 1018, 'sorcer': 1019, 'successor': 1020, 'resourc': 1021, 'wonderland': 1022, 'stone': 1023, 'truth': 1024, 'fade': 1025, 'becam': 1026, 'indian': 1027, 'almost': 1028, 'let': 1029, 'right': 1030, 'exorcist': 1031, 'river': 1032, 'villag': 1033, 'crown': 1034, 'privat': 1035, '169': 1036, 'perfect': 1037, 'tourist': 1038, 'holm': 1039, 'explor': 1040, 'caught': 1041, 'hogwart': 1042, 'mutant': 1043, 'colleagu': 1044, 'sprawl': 1045, 'lone': 1046, 'humankind': 1047, 'altern': 1048, 'senior': 1049, 'ice': 1050, '1980': 1051, 'variou': 1052, 'loos': 1053, '135': 1054, '157': 1055, 'cabin': 1056, 'assault': 1057, 'show': 1058, 'she': 1059, 'superpow': 1060, 'duo': 1061, 'bargain': 1062, '141': 1063, 'delv': 1064, 'fantasi': 1065, 'sea': 1066, 'public': 1067, 'babi': 1068, 'mcclane': 1069, '147': 1070, 'closer': 1071, 'recent': 1072, 'tv': 1073, 'destruct': 1074, 'freak': 1075, 'shoot': 1076, 'inmat': 1077, 'enslav': 1078, 'ventur': 1079, 'romant': 1080, 'dare': 1081, 'without': 1082, 'central': 1083, 'behavior': 1084, 'age': 1085, 'unexpect': 1086, 'presenc': 1087, 'initi': 1088, 'smart': 1089, 'demand': 1090, 'fashion': 1091, 'singl': 1092, 'tekken': 1093, 'bourn': 1094, 'boat': 1095, 'rider': 1096, 'obsess': 1097, 'revel': 1098, 'annihil': 1099, 'hot': 1100, 'superior': 1101, 'string': 1102, 'grisli': 1103, 'damag': 1104, 'abus': 1105, 'dumb': 1106, 'airport': 1107, 'artist': 1108, 'summon': 1109, 'spiderman': 1110, 'brilliant': 1111, 'butterfli': 1112, 'rememb': 1113, 'infam': 1114, 'homicid': 1115, 'charm': 1116, 'within': 1117, 'interpol': 1118, 'eastern': 1119, 'conflict': 1120, 'dispos': 1121, 'assembl': 1122, 'religi': 1123, 'foe': 1124, 'got': 1125, 'fantast': 1126, 'oppos': 1127, 'gold': 1128, 'thrown': 1129, 'crosshair': 1130, 'mexico': 1131, 'titan': 1132, 'newli': 1133, 'season': 1134, 'import': 1135, 'colonel': 1136, 'da': 1137, 'vinci': 1138, 'societi': 1139, 'prime': 1140, 'agenc': 1141, 'chocol': 1142, 'factori': 1143, 'system': 1144, 'heroin': 1145, 'offici': 1146, 'hour': 1147, 'hoffman': 1148, 'australian': 1149, 'annoy': 1150, 'fli': 1151, 'nativ': 1152, 'food': 1153, 'journalist': 1154, 'view': 1155, 'terrifi': 1156, 'dozen': 1157, 'woo': 1158, 'legal': 1159, 'stake': 1160, 'ladi': 1161, 'wish': 1162, 'european': 1163, 'complic': 1164, 'board': 1165, 'voorhe': 1166, 'industri': 1167, 'afraid': 1168, 'unawar': 1169, 'mobster': 1170, 'blade': 1171, 'perform': 1172, 'wood': 1173, 'imposs': 1174, 'focker': 1175, 'traumat': 1176, 'egg': 1177, 'heaven': 1178, 'love': 1179, 'roof': 1180, 'almighti': 1181, 'convinc': 1182, 'chicago': 1183, 'fend': 1184, 'inspir': 1185, 'pan': 1186, 'guid': 1187, 'horrifi': 1188, 'relationship': 1189, 'werewolf': 1190, 'straight': 1191, 'hostel': 1192, 'evolut': 1193, 'newlyw': 1194, 'deform': 1195, 'singer': 1196, 'reserv': 1197, 'sex': 1198, 'detroit': 1199, 'tech': 1200, '1981': 1201, 'mogul': 1202, 'fund': 1203, 'studi': 1204, 'jone': 1205, 'blind': 1206, 'western': 1207, 'mummi': 1208, 'civilian': 1209, 'surround': 1210, 'grim': 1211, 'groom': 1212, 'deceas': 1213, 'chainsaw': 1214, 'snake': 1215, 'squad': 1216, 'pig': 1217, 'among': 1218, 'intellig': 1219, 'archaeolog': 1220, 'narnia': 1221, 'wardrob': 1222, 'gremlin': 1223, 'transplant': 1224, 'rural': 1225, 'global': 1226, 'serv': 1227, 'engin': 1228, 'grudg': 1229, 'enforc': 1230, 'lieuten': 1231, 'rigg': 1232, 'captiv': 1233, 'overthrow': 1234, 'looney': 1235, 'tune': 1236, 'nake': 1237, 'drebin': 1238, 'ghostbust': 1239, 'blue': 1240, 'psychic': 1241, 'success': 1242, 'mythic': 1243, 'patient': 1244, 'express': 1245, 'made': 1246, 'pose': 1247, 'assign': 1248, 'creeper': 1249, 'deuc': 1250, 'male': 1251, 'gigolo': 1252, 'topsecret': 1253, 'goal': 1254, 'sheep': 1255, 'told': 1256, 'bigger': 1257, 'spider': 1258, 'bore': 1259, 'bubbl': 1260, 'stallion': 1261, 'cruis': 1262, 'cave': 1263, 'hitmen': 1264, 'boxer': 1265, 'bandit': 1266, 'intertwin': 1267, 'portray': 1268, 'grip': 1269, 'syndic': 1270, '202': 1271, '1974': 1272, 'corpor': 1273, 'project': 1274, 'draw': 1275, 'frodo': 1276, 'approach': 1277, '201': 1278, 'iv': 1279, 'cocki': 1280, 'station': 1281, 'fellowship': 1282, 'companion': 1283, 'shock': 1284, 'elabor': 1285, 'decept': 1286, 'sin': 1287, 'motiv': 1288, 'améli': 1289, 'pari': 1290, '44': 1291, 'strive': 1292, 'amus': 1293, 'disrupt': 1294, 'apocalyps': 1295, 'crazi': 1296, 'insecur': 1297, 'cult': 1298, 'throughout': 1299, 'uk': 1300, 'sanctuari': 1301, 'alaska': 1302, 'worldwid': 1303, 'aggress': 1304, 'midwestern': 1305, 'mall': 1306, 'supercomput': 1307, 'experiment': 1308, 'infect': 1309, 'horrif': 1310, 'medic': 1311, 'mar': 1312, 'neighbor': 1313, 'evergrow': 1314, 'epidem': 1315, 'seclud': 1316, 'pennsylvanian': 1317, 'remain': 1318, 'coast': 1319, 'cameraman': 1320, 'simultan': 1321, 'reallif': 1322, 'sematari': 1323, 'griev': 1324, 'heir': 1325, 'compani': 1326, 'dad': 1327, '2011': 1328, 'bachelor': 1329, 'refuge': 1330, 'shelter': 1331, 'furiou': 1332, 'avoid': 1333, 'jail': 1334, 'volunt': 1335, 'apocalypt': 1336, 'vessel': 1337, 'requiem': 1338, 'simpl': 1339, 'jewelri': 1340, 'mcfli': 1341, 'delorean': 1342, 'invent': 1343, 'doc': 1344, 'python': 1345, 'holi': 1346, 'grail': 1347, 'mani': 1348, '1975': 1349, 'mile': 1350, 'charg': 1351, 'accus': 1352, 'rape': 1353, '189': 1354, 'homeland': 1355, 'push': 1356, 'jung': 1357, 'berlin': 1358, 'bunker': 1359, '156': 1360, '155': 1361, 'deathli': 1362, 'hallow': 1363, 'joker': 1364, 'psycholog': 1365, 'hitman': 1366, 'connect': 1367, 'network': 1368, 'would': 1369, 'avatar': 1370, 'moon': 1371, 'torn': 1372, 'version': 1373, 'though': 1374, 'due': 1375, 'hitch': 1376, 'birth': 1377, '64': 1378, 'step': 1379, 'classmat': 1380, 'crimeridden': 1381, 'rwanda': 1382, 'militia': 1383, 'heat': 1384, 'thiev': 1385, 'latest': 1386, 'beast': 1387, 'amateur': 1388, 'supposedli': 1389, 'mayhem': 1390, 'cash': 1391, 'grand': 1392, '74': 1393, 'bitter': 1394, 'lebowski': 1395, 'slacker': 1396, 'dude': 1397, 'mistaken': 1398, 'millionair': 1399, 'debt': 1400, 'suit': 1401, 'abandon': 1402, 'account': 1403, 'sixth': 1404, '79': 1405, '80': 1406, 'wind': 1407, 'plantat': 1408, 'profit': 1409, 'civil': 1410, 'period': 1411, '238': 1412, 'vol': 1413, 'jealou': 1414, 'depart': 1415, 'identifi': 1416, 'stark': 1417, 'health': 1418, 'tie': 1419, 'legaci': 1420, 'senat': 1421, 'teacher': 1422, 'prodigi': 1423, 'destini': 1424, 'reign': 1425, 'enrol': 1426, 'wizardri': 1427, 'teammat': 1428, 'bc': 1429, 'wrestler': 1430, 'outsid': 1431, 'revolt': 1432, 'indestruct': 1433, 'unborn': 1434, 'salvat': 1435, 'monkey': 1436, 'devast': 1437, 'convict': 1438, 'janitor': 1439, 'mit': 1440, 'need': 1441, 'entiti': 1442, 'suprem': 1443, 'champion': 1444, 'fish': 1445, 'regain': 1446, 'mystic': 1447, 'buri': 1448, 'truck': 1449, 'phone': 1450, 'baker': 1451, 'hood': 1452, 'balanc': 1453, 'hawaiian': 1454, 'nemesi': 1455, 'miser': 1456, 'halfblood': 1457, 'properti': 1458, 'voldemort': 1459, 'phantom': 1460, 'sith': 1461, 'wolverin': 1462, 'rivalri': 1463, 'send': 1464, 'vigilant': 1465, 'hold': 1466, 'sand': 1467, 'fugit': 1468, 'rumpelstiltskin': 1469, 'awri': 1470, 'pie': 1471, 'virgin': 1472, 'prom': 1473, 'bounti': 1474, 'hulk': 1475, 'banner': 1476, 'spectr': 1477, 'writer': 1478, '133': 1479, 'greek': 1480, '163': 1481, 'palpatin': 1482, 'obiwan': 1483, 'anakin': 1484, 'lure': 1485, 'onenight': 1486, 'doorstep': 1487, 'pregnant': 1488, 'decis': 1489, 'inevit': 1490, 'miri': 1491, 'lifelong': 1492, 'respect': 1493, 'adult': 1494, 'camera': 1495, 'previous': 1496, 'thought': 1497, 'psycho': 1498, 'invest': 1499, 'hedonist': 1500, 'sexual': 1501, 'persona': 1502, 'magneto': 1503, 'escal': 1504, 'wave': 1505, 'superhuman': 1506, 'edg': 1507, 'divid': 1508, '179': 1509, 'forget': 1510, 'breakup': 1511, '150': 1512, 'musician': 1513, 'tropic': 1514, 'occurr': 1515, 'mere': 1516, 'tribe': 1517, 'border': 1518, 'belov': 1519, 'educ': 1520, 'fido': 1521, 'radiat': 1522, 'timmi': 1523, 'sir': 1524, '158': 1525, 'advantag': 1526, 'still': 1527, 'classic': 1528, 'visitor': 1529, 'giant': 1530, '161': 1531, 'theme': 1532, 'park': 1533, 'energi': 1534, 'curiou': 1535, 'button': 1536, '166': 1537, '164': 1538, 'eightyearold': 1539, 'command': 1540, 'forbidden': 1541, 'startl': 1542, '165': 1543, '167': 1544, 'harden': 1545, 'wear': 1546, 'nerdi': 1547, 'who': 1548, 'done': 1549, 'deed': 1550, 'pressur': 1551, 'husband': 1552, 'pain': 1553, 'unfold': 1554, 'amsterdam': 1555, 'point': 1556, 'motorcycl': 1557, 'sell': 1558, 'increasingli': 1559, 'teleport': 1560, 'suddenli': 1561, 'blow': 1562, 'embarrass': 1563, 'hancock': 1564, 'improv': 1565, '183': 1566, 'slave': 1567, 'warlord': 1568, 'thulsa': 1569, 'fearless': 1570, 'dumber': 1571, 'crosscountri': 1572, 'barber': 1573, 'bent': 1574, 'resum': 1575, '187': 1576, 'blood': 1577, 'kombat': 1578, 'turnofthecenturi': 1579, 'signific': 1580, '194': 1581, 'broker': 1582, 'highstak': 1583, 'hollywood': 1584, 'ghostfac': 1585, 'nearli': 1586, 'someon': 1587, 'narcot': 1588, 'ensnar': 1589, 'polit': 1590, 'europ': 1591, 'werewolv': 1592, 'mean': 1593, 'scare': 1594, 'thug': 1595, 'door': 1596, 'pawn': 1597, 'perpetr': 1598, 'temporari': 1599, 'result': 1600, 'zodiac': 1601, 'san': 1602, 'cartoonist': 1603, 'northern': 1604, 'california': 1605, 'ye': 1606, 'triniti': 1607, 'tomorrow': 1608, 'sudden': 1609, 'plung': 1610, 'jump': 1611, 'moral': 1612, 'chase': 1613, 'africanamerican': 1614, 'card': 1615, 'poor': 1616, 'mansion': 1617, 'lesson': 1618, 'neglect': 1619, 'archenemi': 1620, 'code': 1621, 'paint': 1622, 'shake': 1623, 'collater': 1624, 'contract': 1625, 'riddick': 1626, 'perfum': 1627, 'highli': 1628, 'trooper': 1629, 'bug': 1630, 'advoc': 1631, 'except': 1632, 'larger': 1633, 'lie': 1634, 'upsid': 1635, 'divorc': 1636, 'china': 1637, 'process': 1638, 'untrac': 1639, 'seemingli': 1640, 'implic': 1641, 'usa': 1642, 'kong': 1643, 'inspector': 1644, 'chines': 1645, 'strahm': 1646, 'insur': 1647, 'unexpectedli': 1648, 'feet': 1649, 'disillus': 1650, 'thailand': 1651, 'fuel': 1652, 'videotap': 1653, 'interlock': 1654, 'quickli': 1655, 'lock': 1656, 'decad': 1657, 'samurai': 1658, 'embrac': 1659, 'cultur': 1660, 'lycan': 1661, 'centuriesold': 1662, 'feud': 1663, 'aristocrat': 1664, 'limit': 1665, 'construct': 1666, 'introduc': 1667, 'list': 1668, 'silver': 1669, 'surfer': 1670, 'pull': 1671, 'sequel': 1672, 'ensur': 1673, 'isra': 1674, 'olymp': 1675, 'chosen': 1676, 'aris': 1677, 'grendel': 1678, 'denmark': 1679, 'revolut': 1680, 'attorney': 1681, 'dent': 1682, 'circu': 1683, 'acrobat': 1684, 'sidekick': 1685, 'peac': 1686, 'farmer': 1687, 'packag': 1688, 'client': 1689, 'ask': 1690, 'hip': 1691, 'precinct': 1692, 'hooligan': 1693, 'hole': 1694, 'intent': 1695, 'crank': 1696, 'chelio': 1697, 'poison': 1698, 'rate': 1699, 'shortterm': 1700, 'loss': 1701, 'regular': 1702, 'mess': 1703, 'fake': 1704, 'debunk': 1705, 'deliv': 1706, 'deliveri': 1707, 'cryogen': 1708, 'dump': 1709, 'imf': 1710, 'there': 1711, 'mass': 1712, 'goldmemb': 1713, 'nasa': 1714, 'cool': 1715, 'dodgebal': 1716, 'gym': 1717, 'onslaught': 1718, 'chain': 1719, 'heritag': 1720, 'crop': 1721, 'circl': 1722, 'punish': 1723, 'tape': 1724, 'mistakenli': 1725, 'flow': 1726, 'reluctantli': 1727, 'contact': 1728, 'prepar': 1729, 'feder': 1730, 'longest': 1731, 'famou': 1732, 'prehistor': 1733, 'dleh': 1734, 'mammoth': 1735, 'evolet': 1736, 'design': 1737, 'hatch': 1738, 'neverland': 1739, 'orphanag': 1740, 'daddi': 1741, 'grad': 1742, 'unlik': 1743, 'unfortun': 1744, 'custodi': 1745, 'cousin': 1746, 'resurrect': 1747, 'flight': 1748, 'anger': 1749, 'instructor': 1750, 'chick': 1751, 'freez': 1752, 'dracula': 1753, 'hels': 1754, 'fun': 1755, 'prostitut': 1756, 'brooklyn': 1757, 'biolog': 1758, 'hill': 1759, 'cannib': 1760, 'collect': 1761, 'simpson': 1762, 'town': 1763, 'gigant': 1764, 'catwoman': 1765, 'vendetta': 1766, 'marriag': 1767, 'spacebal': 1768, 'clutch': 1769, 'financi': 1770, 'mexican': 1771, 'entangl': 1772, 'kingpin': 1773, 'opposit': 1774, 'wound': 1775, 'dynamit': 1776, 'shallow': 1777, 'inner': 1778, 'fleshpossess': 1779, 'geisha': 1780, 'root': 1781, 'cynic': 1782, 'agenda': 1783, 'news': 1784, 'madagascar': 1785, 'african': 1786, 'kind': 1787, 'pride': 1788, 'devic': 1789, 'egypt': 1790, 'wast': 1791, 'tomb': 1792, 'raider': 1793, 'suspicion': 1794, 'silent': 1795, 'hazzard': 1796, '1964': 1797, 'goodheart': 1798, 'contain': 1799, 'custom': 1800, 'netherland': 1801, 'dutch': 1802, 'cheat': 1803, 'repercuss': 1804, 'practic': 1805, 'assum': 1806, 'chainsawwield': 1807, 'mental': 1808, 'venom': 1809, 'deliber': 1810, 'diabol': 1811, 'billionair': 1812, 'short': 1813, 'oil': 1814, 'kidnapp': 1815, 'rat': 1816, 'brüno': 1817, 'unsuspect': 1818, 'exorc': 1819, 'cannot': 1820, 'scheme': 1821, 'cheaper': 1822, 'impact': 1823, 'collis': 1824, 'doomsday': 1825, 'worst': 1826, 'wannab': 1827, 'dig': 1828, 'mate': 1829, 'fierc': 1830, 'modifi': 1831, 'elf': 1832, 'pole': 1833, 'traine': 1834, 'viciou': 1835, 'hear': 1836, 'spoof': 1837, 'witch': 1838, 'malevol': 1839, 'cover': 1840, 'son': 1841, 'estrang': 1842, 'doa': 1843, 'freaki': 1844, 'expedit': 1845, 'antarctica': 1846, 'scandal': 1847, 'counselor': 1848, 'piec': 1849, 'streetwis': 1850, 'drifter': 1851, 'agre': 1852, 'realli': 1853, 'vice': 1854, 'prey': 1855, 'incid': 1856, 'inventor': 1857, 'bosnia': 1858, 'suspici': 1859, 'court': 1860, 'trial': 1861, 'violinist': 1862, 'submit': 1863, 'cornea': 1864, 'see': 1865, 'analyz': 1866, 'care': 1867, 'younger': 1868, 'germani': 1869, 'condemn': 1870, 'grinch': 1871, 'ralli': 1872, 'smalltown': 1873, 'dragonfli': 1874, 'super': 1875, 'that': 1876, 'accomplic': 1877, 'longlost': 1878, 'spiderwick': 1879, 'rundown': 1880, 'estat': 1881, 'elektra': 1882, 'æon': 1883, 'flux': 1884, 'whole': 1885, 'radio': 1886, 'match': 1887, 'jamal': 1888, 'burglar': 1889, 'player': 1890, 'file': 1891, 'associ': 1892, 'nba': 1893, 'staff': 1894, 'surf': 1895, 'relat': 1896, 'grandmoth': 1897, 'knew': 1898, '1962': 1899, 'nephew': 1900, 'unwittingli': 1901, 'polar': 1902, 'conman': 1903, 'befriend': 1904, 'armor': 1905, 'kiss': 1906, 'nearbi': 1907, 'independ': 1908, 'minist': 1909, 'suicid': 1910, 'imaginari': 1911, 'dalmatian': 1912, 'puppi': 1913, 'extravag': 1914, 'record': 1915, 'fatal': 1916, 'hopeless': 1917, 'organis': 1918, 'microchip': 1919, 'tulip': 1920, 'spring': 1921, 'rid': 1922, 'jeeper': 1923, 'bigalow': 1924, 'messeng': 1925, 'jamaican': 1926, 'monstrou': 1927, 'murtaugh': 1928, 'trail': 1929, 'immun': 1930, 'theft': 1931, 'deton': 1932, 'santiago': 1933, 'muñez': 1934, 'spot': 1935, 'newcastl': 1936, 'g': 1937, 'voic': 1938, 'youth': 1939, 'cute': 1940, 'momma': 1941, 'octopussi': 1942, 'shaft': 1943, 'babe': 1944, 'herd': 1945, 'spongebob': 1946, 'squarep': 1947, 'chanc': 1948, 'bison': 1949, 'prejudic': 1950, 'titl': 1951, 'potenti': 1952, 'karat': 1953, 'accompani': 1954, 'crocodil': 1955, 'hound': 1956, 'copper': 1957, 'alcatraz': 1958, 'manwhor': 1959, 'chauffeur': 1960, 'loser': 1961, 'beyond': 1962, 'downtown': 1963, 'abduct': 1964, 'cat': 1965, 'hightech': 1966, 'foley': 1967, 'monk': 1968, 'valuabl': 1969, 'cocoon': 1970, 'swim': 1971, 'bb': 1972, 'propos': 1973, 'refus': 1974, 'elin': 1975, 'attent': 1976, 'merrin': 1977, 'pazuzu': 1978, 'superstar': 1979, 'chemic': 1980, 'goofi': 1981, 'bu': 1982, 'tuxedo': 1983, 'kayako': 1984, 'volcano': 1985, 'royal': 1986, 'nazareth': 1987, 'aviat': 1988, 'jerusalem': 1989, 'proof': 1990, 'chunli': 1991, 'gi': 1992, 'descent': 1993, 'shawshank': 1994, 'common': 1995, 'decenc': 1996, '0': 1997, 'mantel': 1998, '1972': 1999, '1': 2000, 'pulp': 2001, 'diner': 2002, '2': 2003, 'expand': 2004, 'tighten': 2005, '3': 2006, 'incept': 2007, 'dreamshar': 2008, 'invers': 2009, 'plant': 2010, 'ceo': 2011, '4': 2012, 'gandalf': 2013, 'aragorn': 2014, 'gaze': 2015, '5': 2016, 'wookie': 2017, 'droid': 2018, 'worlddestroy': 2019, '1977': 2020, '6': 2021, 'meek': 2022, 'hobbit': 2023, 'shire': 2024, 'middleearth': 2025, '7': 2026, 'forbid': 2027, 'truthth': 2028, 'cyberintellig': 2029, '8': 2030, 'se7en': 2031, 'veteran': 2032, '9': 2033, 'naiv': 2034, '10': 2035, 'judgment': 2036, 'tenyearold': 2037, '11': 2038, 'deputi': 2039, 'grime': 2040, '12': 2041, 'zombieland': 2042, 'ohio': 2043, 'guntot': 2044, 'bruiser': 2045, 'twinki': 2046, 'zombiefil': 2047, '13': 2048, 'unev': 2049, 'aimless': 2050, 'electron': 2051, 'layabout': 2052, 'roommat': 2053, '14': 2054, 'rest': 2055, 'valiantli': 2056, '15': 2057, 'quaint': 2058, '16': 2059, 'grindhous': 2060, 'tarantino': 2061, 'rodriguez': 2062, 'homag': 2063, 'backtoback': 2064, 'preview': 2065, '17': 2066, 'incur': 2067, '18': 2068, 'inflict': 2069, 'repopul': 2070, 'accord': 2071, '19': 2072, 'extinct': 2073, 'nevada': 2074, 'caravan': 2075, 'umbrella': 2076, 'corp': 2077, '20': 2078, 'mega': 2079, '21': 2080, 'outofcontrol': 2081, 'hundr': 2082, 'laboratori': 2083, '22': 2084, 'bioweapon': 2085, 'zombielik': 2086, '23': 2087, 'sardon': 2088, 'hardwar': 2089, 'ad': 2090, 'necronomicon': 2091, '24': 2092, 'snow': 2093, 'ski': 2094, 'unimagin': 2095, '25': 2096, '26': 2097, '27': 2098, 'sumatran': 2099, 'ratmonkey': 2100, 'sick': 2101, '28': 2102, 'wall': 2103, '29': 2104, 'risen': 2105, 'swat': 2106, 'traffic': 2107, '30': 2108, 'barricad': 2109, 'farmhous': 2110, 'ghoul': 2111, 'ravag': 2112, '31': 2113, 'cdc': 2114, 'outbreak': 2115, '32': 2116, 'rel': 2117, '33': 2118, '34': 2119, 'burial': 2120, 'ground': 2121, '35': 2122, 'warehous': 2123, 'ga': 2124, 'vapor': 2125, '36': 2126, 'flesh': 2127, 'hungri': 2128, 'ditch': 2129, '37': 2130, 'maintain': 2131, 'saniti': 2132, 'product': 2133, 'tchaikovski': 2134, '38': 2135, 'hornet': 2136, 'kato': 2137, '39': 2138, 'xxx': 2139, 'xander': 2140, 'cage': 2141, '40': 2142, 'hangov': 2143, '41': 2144, 'unburi': 2145, '42': 2146, '43': 2147, 'clockwork': 2148, 'orang': 2149, 'conductavers': 2150, '1971': 2151, 'fiftyseven': 2152, 'hypersleep': 2153, 'listen': 2154, '45': 2155, 'druginduc': 2156, 'utopia': 2157, 'coney': 2158, 'addict': 2159, '46': 2160, 'prestig': 2161, 'illus': 2162, 'sacrif': 2163, 'outwit': 2164, '47': 2165, 'reservoir': 2166, '48': 2167, 'timetravel': 2168, 'close': 2169, '49': 2170, 'surreal': 2171, 'lowbudget': 2172, 'silli': 2173, 'obstacl': 2174, '50': 2175, '51': 2176, 'braveheart': 2177, 'scottish': 2178, 'countrymen': 2179, 'rebellion': 2180, '52': 2181, 'monolith': 2182, 'star': 2183, 'awesom': 2184, 'jupit': 2185, '53': 2186, 'downfal': 2187, 'traudl': 2188, 'secretari': 2189, 'hitler': 2190, 'wwii': 2191, '54': 2192, 'gladiat': 2193, 'exact': 2194, 'slaveri': 2195, '55': 2196, 'inglouri': 2197, 'basterd': 2198, 'coincid': 2199, 'theatr': 2200, '56': 2201, 'horcrux': 2202, '57': 2203, 'injustic': 2204, '58': 2205, 'mechan': 2206, '59': 2207, 'zuckerberg': 2208, 'facebook': 2209, 'su': 2210, 'cofound': 2211, 'squeez': 2212, '60': 2213, 'parapleg': 2214, '61': 2215, 'pilgrim': 2216, 'realist': 2217, 'toronto': 2218, 'exe': 2219, '62': 2220, 'kickass': 2221, 'lizewski': 2222, 'unnot': 2223, 'meaning': 2224, '63': 2225, 'highstrung': 2226, 'fathertob': 2227, 'highman': 2228, 'aspir': 2229, 'tremblay': 2230, 'idol': 2231, 'quit': 2232, '65': 2233, 'twilight': 2234, 'pacif': 2235, 'northwest': 2236, 'cullen': 2237, '66': 2238, 'insomniac': 2239, 'devilmaycar': 2240, 'soap': 2241, '67': 2242, '68': 2243, 'nypd': 2244, 'sever': 2245, 'nakatomi': 2246, 'plaza': 2247, '69': 2248, 'rusesabagina': 2249, 'tutsi': 2250, 'hutu': 2251, '70': 2252, '71': 2253, 'biologist': 2254, 'seafar': 2255, '72': 2256, 'snatch': 2257, 'unscrupul': 2258, 'promot': 2259, 'bookmak': 2260, 'jewel': 2261, 'priceless': 2262, '73': 2263, 'rio': 2264, 'simba': 2265, 'ascend': 2266, 'throne': 2267, 'restitut': 2268, 'rug': 2269, 'bowl': 2270, 'darko': 2271, 'narrowli': 2272, 'bizarr': 2273, 'rabbit': 2274, 'mccandless': 2275, 'give': 2276, 'charact': 2277, 'shape': 2278, 'withdrawn': 2279, 'dishearten': 2280, 'slumlik': 2281, 'condit': 2282, 'kindr': 2283, 'biotechnolog': 2284, 'conduct': 2285, 'turbul': 2286, 'roguish': 2287, 'reconstruct': 2288, '1939': 2289, 'fouryear': 2290, 'cowboy': 2291, 'profoundli': 2292, 'spaceman': 2293, 'supplant': 2294, 'immigr': 2295, 'succumb': 2296, 'greed': 2297, 'oconn': 2298, 'racer': 2299, 'redeem': 2300, 'mole': 2301, 'irish': 2302, 'boston': 2303, 'blacksmith': 2304, 'governor': 2305, 'jack': 2306, 'awar': 2307, 'declin': 2308, 'machet': 2309, 'setup': 2310, 'exfederal': 2311, 'launch': 2312, 'expend': 2313, 'latin': 2314, 'defector': 2315, 'balthazar': 2316, 'introvert': 2317, 'sorceri': 2318, 'le': 2319, 'nineteenyearold': 2320, 'grown': 2321, 'up': 2322, 'fourth': 2323, 'juli': 2324, 'weekend': 2325, 'sparta': 2326, 'persian': 2327, 'thermopyla': 2328, 'dispirit': 2329, 'gandhi': 2330, 'philosophi': 2331, 'nonviol': 2332, 'protest': 2333, 'manmad': 2334, 'wipe': 2335, 'mathemat': 2336, 'direct': 2337, 'oskar': 2338, 'overlook': 2339, 'bulli': 2340, 'peculiar': 2341, 'smalltim': 2342, 'rare': 2343, 'heavyweight': 2344, 'bout': 2345, 'distanc': 2346, 'selfrespect': 2347, '1976': 2348, 'fact': 2349, 'hideou': 2350, 'shutter': 2351, 'insan': 2352, 'iraq': 2353, 'iraqi': 2354, 'coffin': 2355, 'lighter': 2356, 'cell': 2357, 'claustrophob': 2358, 'martin': 2359, 'foolproof': 2360, 'deposit': 2361, 'trove': 2362, 'dirti': 2363, 'twelfthcenturi': 2364, 'longstrid': 2365, 'maraud': 2366, 'upris': 2367, 'normandi': 2368, 'paratroop': 2369, 'getaway': 2370, 'stalwart': 2371, 'watson': 2372, 'brawn': 2373, 'basin': 2374, 'mark': 2375, 'hostil': 2376, 'blockad': 2377, 'dormant': 2378, 'resurfac': 2379, 'creed': 2380, 'metallin': 2381, 'watchmen': 2382, 'rorschach': 2383, 'sacr': 2384, 'persia': 2385, 'dagger': 2386, 'enabl': 2387, 'revers': 2388, 'midlif': 2389, 'crisi': 2390, 'burden': 2391, 'eras': 2392, 'cast': 2393, 'timelin': 2394, 'parachut': 2395, 'unfamiliar': 2396, 'superbad': 2397, 'codepend': 2398, 'anxieti': 2399, 'boozesoak': 2400, 'pact': 2401, 'overpow': 2402, 'hoth': 2403, 'yoda': 2404, 'boba': 2405, 'fett': 2406, 'nemo': 2407, 'barrier': 2408, 'reef': 2409, 'timid': 2410, 'clownfish': 2411, 'actual': 2412, 'interrel': 2413, 'frantic': 2414, 'incred': 2415, 'whenev': 2416, 'temper': 2417, 'goblet': 2418, 'hazard': 2419, 'distract': 2420, 'recur': 2421, 'disfigur': 2422, 'spit': 2423, 'retreat': 2424, 'homer': 2425, 'dooku': 2426, 'council': 2427, 'olympian': 2428, 'lightn': 2429, 'ongo': 2430, 'knock': 2431, 'funlov': 2432, 'juno': 2433, 'unplan': 2434, 'pregnanc': 2435, 'offbeat': 2436, 'regard': 2437, 'discrimin': 2438, 'clash': 2439, 'supremacist': 2440, 'brotherhood': 2441, 'pacifist': 2442, 'porno': 2443, 'platon': 2444, 'cashflow': 2445, 'roll': 2446, 'abid': 2447, 'plea': 2448, 'bateman': 2449, 'ego': 2450, 'cowork': 2451, 'deeper': 2452, 'ypf': 2453, 'darker': 2454, 'uncontrol': 2455, 'phoenix': 2456, 'allout': 2457, 'ail': 2458, 'fed': 2459, 'dilling': 2460, 'pretti': 2461, 'boom': 2462, 'cyberterrorist': 2463, 'tower': 2464, 'mordor': 2465, 'shifti': 2466, 'gollum': 2467, 'saruman': 2468, 'isengard': 2469, 'sarah': 2470, 'resort': 2471, 'ex': 2472, 'pianist': 2473, 'polish': 2474, 'warsaw': 2475, 'ghetto': 2476, 'thunder': 2477, 'bigbudget': 2478, 'excon': 2479, 'jensen': 2480, 'ame': 2481, 'postindustri': 2482, 'victori': 2483, 'merchant': 2484, 'transmiss': 2485, 'distress': 2486, 'cycl': 2487, 'begun': 2488, 'airbend': 2489, 'aang': 2490, 'element': 2491, 'stardust': 2492, 'fallen': 2493, 'realm': 2494, 'personnel': 2495, 'dwell': 2496, 'whether': 2497, 'zomcon': 2498, 'way': 2499, 'pacifi': 2500, 'preteen': 2501, 'kesun': 2502, 'loder': 2503, 'menial': 2504, 'chore': 2505, 'crasher': 2506, 'beckwith': 2507, 'grey': 2508, 'sneak': 2509, 'ting': 2510, 'cleari': 2511, '159': 2512, 'stood': 2513, 'remak': 2514, 'scienc': 2515, 'counterpart': 2516, '160': 2517, 'solo': 2518, 'jabba': 2519, 'hutt': 2520, 'endor': 2521, 'pragmat': 2522, 'paleontologist': 2523, 'failur': 2524, 'model': 2525, 'drink': 2526, 'rep': 2527, 'backward': 2528, 'stripe': 2529, 'pajama': 2530, 'concentr': 2531, 'fenc': 2532, 'chamber': 2533, 'propheci': 2534, 'corridor': 2535, 'paralyz': 2536, 'padmé': 2537, 'amidala': 2538, 'kenobi': 2539, 'craft': 2540, 'trainer': 2541, '168': 2542, 'prada': 2543, 'sensibl': 2544, 'priestli': 2545, 'editorinchief': 2546, 'magazin': 2547, 'goad': 2548, 'jin': 2549, 'kazama': 2550, 'jun': 2551, 'slum': 2552, 'anvil': 2553, 'id': 2554, '171': 2555, 'ps': 2556, 'messag': 2557, 'intend': 2558, 'eas': 2559, '172': 2560, 'experienc': 2561, 'breakin': 2562, '173': 2563, 'vallon': 2564, 'butcher': 2565, '174': 2566, 'bulletriddl': 2567, 'amnesia': 2568, 'elud': 2569, 'dear': 2570, 'conserv': 2571, '176': 2572, 'blaze': 2573, 'sinner': 2574, '177': 2575, 'bare': 2576, 'forger': 2577, 'pursuit': 2578, 'disturb': 2579, 'nightli': 2580, 'jumper': 2581, 'sworn': 2582, '180': 2583, 'medellín': 2584, 'escobar': 2585, 'establish': 2586, 'cocain': 2587, 'market': 2588, '181': 2589, 'fuzz': 2590, 'irrit': 2591, 'transfer': 2592, 'easygo': 2593, 'fervor': 2594, 'regul': 2595, '182': 2596, 'illconsid': 2597, 'regularli': 2598, 'imag': 2599, '184': 2600, 'barbarian': 2601, 'savag': 2602, 'invinc': 2603, '185': 2604, 'briefcas': 2605, 'limo': 2606, 'hilari': 2607, 'aspen': 2608, '186': 2609, 'sweeney': 2610, 'fleet': 2611, 'partnership': 2612, 'tenant': 2613, 'lovett': 2614, 'historian': 2615, 'templar': 2616, '188': 2617, 'daybreak': 2618, 'dwindl': 2619, 'fractur': 2620, 'covert': 2621, 'vamp': 2622, 'shooter': 2623, 'marksman': 2624, 'coax': 2625, 'cross': 2626, '190': 2627, 'unknow': 2628, 'outcom': 2629, 'illusionist': 2630, 'vienna': 2631, '192': 2632, 'beset': 2633, '193': 2634, 'treborn': 2635, 'blackout': 2636, 'read': 2637, 'journal': 2638, 'harbor': 2639, 'mix': 2640, 'sunday': 2641, 'morn': 2642, '195': 2643, 'superman': 2644, '196': 2645, 'napier': 2646, 'clownishli': 2647, '197': 2648, 'chapter': 2649, 'support': 2650, 'selfhelp': 2651, 'guru': 2652, 'dagen': 2653, '198': 2654, 'highpow': 2655, 'negoti': 2656, 'spiral': 2657, '199': 2658, 'unearth': 2659, 'barrel': 2660, '200': 2661, 'primit': 2662, 'supremaci': 2663, 'frame': 2664, 'cloverfield': 2665, '203': 2666, 'stab': 2667, 'woodsboro': 2668, '204': 2669, '205': 2670, 'symbologist': 2671, 'langdon': 2672, 'physicist': 2673, 'vatican': 2674, 'church': 2675, '206': 2676, 'broadway': 2677, 'johnston': 2678, 'counterterror': 2679, 'crumbl': 2680, '207': 2681, 'acclim': 2682, 'don': 2683, 'costum': 2684, '208': 2685, 'isnt': 2686, '209': 2687, 'gunforhir': 2688, 'russia': 2689, '210': 2690, 'entrench': 2691, 'sought': 2692, '211': 2693, 'commando': 2694, '212': 2695, 'fairytal': 2696, 'swamp': 2697, 'grumpi': 2698, 'ogr': 2699, '213': 2700, 'lowrank': 2701, 'entrust': 2702, '214': 2703, 'antizombi': 2704, 'cope': 2705, 'zealot': 2706, 'fanat': 2707, 'fester': 2708, '215': 2709, 'reclus': 2710, 'bouncer': 2711, 'budd': 2712, 'treacher': 2713, 'oneey': 2714, '216': 2715, 'recollect': 2716, '217': 2717, 'dusk': 2718, 'till': 2719, 'chaotic': 2720, '218': 2721, 'unidentifi': 2722, 'individu': 2723, '219': 2724, '220': 2725, 'cosmic': 2726, 'exposur': 2727, '221': 2728, 'reload': 2729, 'morpheu': 2730, 'arsen': 2731, 'extraordinari': 2732, 'weaponri': 2733, 'systemat': 2734, 'repress': 2735, '222': 2736, 'italian': 2737, 'itali': 2738, 'croker': 2739, '223': 2740, 'eagl': 2741, 'met': 2742, 'everyday': 2743, '224': 2744, 'paleoclimatologist': 2745, '225': 2746, 'odonnel': 2747, 'ungrat': 2748, 'rewrit': 2749, 'bridg': 2750, 'vortex': 2751, '226': 2752, 'swear': 2753, 'unspeak': 2754, '227': 2755, '228': 2756, 'appoint': 2757, 'racial': 2758, 'integr': 2759, '229': 2760, 'factbas': 2761, 'expert': 2762, 'subsequ': 2763, 'took': 2764, '230': 2765, 'moulin': 2766, 'roug': 2767, 'bohemian': 2768, 'poet': 2769, 'courtesan': 2770, 'nightclub': 2771, 'covet': 2772, '231': 2773, 'realtor': 2774, '232': 2775, 'x2': 2776, 'antimut': 2777, 'stryker': 2778, '233': 2779, 'louvr': 2780, 'foundat': 2781, 'christian': 2782, '234': 2783, 'doublecross': 2784, 'tishkoff': 2785, '235': 2786, 'rapper': 2787, 'aspect': 2788, 'rap': 2789, 'harder': 2790, '236': 2791, 'cab': 2792, '237': 2793, 'diesel': 2794, 'helion': 2795, 'necromong': 2796, 'convert': 2797, 'jeanbaptist': 2798, 'grenouil': 2799, 'olfactori': 2800, 'finest': 2801, 'scent': 2802, '239': 2803, 'intellectu': 2804, 'kao': 2805, '240': 2806, 'magnific': 2807, '241': 2808, 'wilk': 2809, 'booth': 2810, 'ancestor': 2811, '242': 2812, 'starship': 2813, 'fascist': 2814, 'militarist': 2815, 'wage': 2816, '243': 2817, 'adept': 2818, 'firm': 2819, 'biggest': 2820, '244': 2821, 'technophob': 2822, '245': 2823, '246': 2824, 'globetrot': 2825, 'terroristbattl': 2826, 'might': 2827, 'affair': 2828, 'usedcar': 2829, '247': 2830, 'twister': 2831, 'chaser': 2832, 'brink': 2833, 'weather': 2834, 'alert': 2835, 'tornado': 2836, '248': 2837, 'mulan': 2838, 'maiden': 2839, '249': 2840, 'internet': 2841, '250': 2842, 'surfac': 2843, '251': 2844, 'rush': 2845, 'loyal': 2846, 'dedic': 2847, 'hong': 2848, 'reckless': 2849, 'loudmouth': 2850, 'consul': 2851, 'arrest': 2852, '252': 2853, 'erickson': 2854, 'nearer': 2855, '253': 2856, 'selfdestruct': 2857, '254': 2858, 'multipl': 2859, 'block': 2860, 'ramp': 2861, '255': 2862, 'miracul': 2863, 'minut': 2864, '256': 2865, 'flightplan': 2866, 'bereav': 2867, 'vanish': 2868, 'nobodi': 2869, 'admit': 2870, '257': 2871, 'king': 2872, 'clear': 2873, '258': 2874, 'burma': 2875, 'infantri': 2876, '259': 2877, 'recentlydeceas': 2878, 'cemeteri': 2879, '260': 2880, 'peasant': 2881, 'squir': 2882, '261': 2883, '262': 2884, 'babel': 2885, 'moroccan': 2886, 'touch': 2887, '263': 2888, 'rec': 2889, '264': 2890, 'macedonia': 2891, 'warfar': 2892, 'conquer': 2893, '265': 2894, 'sendup': 2895, 'accumul': 2896, '266': 2897, 'watch': 2898, 'bet': 2899, 'usd10000000': 2900, 'prize': 2901, 'plenti': 2902, 'cctv': 2903, '267': 2904, 'advisor': 2905, '268': 2906, 'onetim': 2907, '269': 2908, 'smoothtalk': 2909, 'columnist': 2910, '270': 2911, 'compel': 2912, 'amount': 2913, '271': 2914, 'scissorhand': 2915, 'artifici': 2916, 'incomplet': 2917, 'scissor': 2918, 'solitari': 2919, '272': 2920, 'bucket': 2921, 'ill': 2922, 'cancer': 2923, 'todo': 2924, '273': 2925, 'greedi': 2926, 'moviemak': 2927, 'skull': 2928, 'cannibalist': 2929, '274': 2930, 'arent': 2931, 'be': 2932, 'squar': 2933, 'galactu': 2934, '275': 2935, 'guyproblem': 2936, 'swap': 2937, '276': 2938, '277': 2939, '278': 2940, '279': 2941, 'septemb': 2942, '280': 2943, 'angri': 2944, '281': 2945, 'click': 2946, 'workahol': 2947, 'fastforward': 2948, 'rewind': 2949, 'overrul': 2950, 'choic': 2951, '282': 2952, '283': 2953, 'zion': 2954, 'front': 2955, '284': 2956, 'twofac': 2957, 'nygma': 2958, 'riddler': 2959, 'amor': 2960, '285': 2961, 'patriot': 2962, 'driven': 2963, 'coloni': 2964, '286': 2965, '287': 2966, 'evid': 2967, 'storag': 2968, '288': 2969, 'expel': 2970, 'undergrad': 2971, '289': 2972, 'mist': 2973, 'supermarket': 2974, '290': 2975, 'campsit': 2976, '291': 2977, 'suitabl': 2978, '292': 2979, 'buzz': 2980, 'roundup': 2981, 'prospector': 2982, 'bullsey': 2983, '293': 2984, 'demystifi': 2985, '294': 2986, 'insomnia': 2987, 'sun': 2988, 'method': 2989, '295': 2990, 'inject': 2991, '296': 2992, '297': 2993, '298': 2994, 'vanilla': 2995, 'selfindulg': 2996, 'vain': 2997, 'publish': 2998, 'privileg': 2999, 'upend': 3000, 'vehicular': 3001, 'resent': 3002, '299': 3003, 'intens': 3004, 'pattern': 3005, 'commerci': 3006, 'fishermen': 3007, '300': 3008, 'voltag': 3009, 'replac': 3010, 'batterypow': 3011, 'ticker': 3012, 'requir': 3013, 'jolt': 3014, 'electr': 3015, '301': 3016, 'halfvampir': 3017, 'halfmort': 3018, 'protector': 3019, 'slay': 3020, '302': 3021, 'zohan': 3022, 'reemerg': 3023, 'hair': 3024, 'stylist': 3025, '303': 3026, 'alaskan': 3027, '304': 3028, 'monitor': 3029, 'interact': 3030, '305': 3031, 'gage': 3032, 'lifetim': 3033, 'vandal': 3034, 'scholarship': 3035, '306': 3036, '307': 3037, 'campu': 3038, 'mayb': 3039, '308': 3040, 'wooden': 3041, '309': 3042, 'specialis': 3043, 'check': 3044, 'fabl': 3045, 'dolphin': 3046, 'genuin': 3047, '310': 3048, 'ukrainian': 3049, 'marseil': 3050, 'en': 3051, 'rout': 3052, 'intercept': 3053, 'valentina': 3054, '311': 3055, 'total': 3056, 'recal': 3057, 'virtual': 3058, 'implant': 3059, 'harrow': 3060, '312': 3061, 'worldclass': 3062, 'playboy': 3063, 'parttim': 3064, '313': 3065, 'soror': 3066, '314': 3067, 'fiancé': 3068, '315': 3069, 'byrn': 3070, '316': 3071, '317': 3072, 'irrespons': 3073, 'glorifi': 3074, '318': 3075, 'aptli': 3076, '319': 3077, 'eragon': 3078, 'alagaesia': 3079, 'predestin': 3080, '320': 3081, 'devis': 3082, 'strategi': 3083, 'spacecraft': 3084, 'undergo': 3085, 'jeopardi': 3086, '321': 3087, 'disench': 3088, 'chili': 3089, '322': 3090, 'greas': 3091, 'greaser': 3092, '323': 3093, 'underdog': 3094, 'cherish': 3095, 'fit': 3096, '324': 3097, 'dogma': 3098, 'abort': 3099, 'clinic': 3100, 'negat': 3101, 'loophol': 3102, 'reenter': 3103, '325': 3104, 'sign': 3105, 'pennsylvania': 3106, 'field': 3107, 'suggest': 3108, '326': 3109, 'wrath': 3110, 'slaughter': 3111, 'reunion': 3112, '327': 3113, 'illicit': 3114, 'mail': 3115, '328': 3116, 'loosecannon': 3117, 'ecstasi': 3118, '329': 3119, 'dislik': 3120, 'edvard': 3121, 'copenhagen': 3122, '330': 3123, 'tenenbaum': 3124, 'dysfunct': 3125, '331': 3126, 'congressman': 3127, 'ark': 3128, 'flood': 3129, '332': 3130, 'darken': 3131, 'photosensit': 3132, '333': 3133, 'golden': 3134, 'compass': 3135, 'parallel': 3136, 'lyra': 3137, 'belacqua': 3138, '334': 3139, 'untouch': 3140, 'era': 3141, 'prohibit': 3142, 'ness': 3143, 'capon': 3144, 'rampant': 3145, 'handpick': 3146, '335': 3147, '336': 3148, 'chocolat': 3149, 'rigid': 3150, '337': 3151, 'brasco': 3152, 'mafia': 3153, 'expens': 3154, '338': 3155, 'not': 3156, 'bookshop': 3157, '339': 3158, 'horseback': 3159, 'tribesmen': 3160, '340': 3161, 'instal': 3162, 'rebelli': 3163, 'coup': 3164, 'détat': 3165, 'jilt': 3166, '341': 3167, 'jm': 3168, 'barri': 3169, '342': 3170, 'handicap': 3171, 'invis': 3172, '343': 3173, 'lazi': 3174, 'impress': 3175, '344': 3176, 'vast': 3177, '345': 3178, 'assail': 3179, '346': 3180, 'humanalien': 3181, 'hybrid': 3182, '347': 3183, 'demolish': 3184, 'journeyman': 3185, 'swept': 3186, 'prefect': 3187, 'pen': 3188, 'edit': 3189, '348': 3190, 'racetrack': 3191, 'nonetheless': 3192, '349': 3193, 'attend': 3194, 'nab': 3195, '350': 3196, 'buznik': 3197, 'wrongli': 3198, '351': 3199, 'diablo': 3200, '352': 3201, 'landscap': 3202, '353': 3203, 'meanspirit': 3204, 'toward': 3205, 'older': 3206, '354': 3207, '355': 3208, '356': 3209, 'nightstalk': 3210, '357': 3211, 'transylvania': 3212, 'frankenstein': 3213, 'nefari': 3214, 'purpos': 3215, '358': 3216, '359': 3217, 'wuorno': 3218, 'daytona': 3219, '360': 3220, 'pronounc': 3221, 'pretend': 3222, 'domest': 3223, 'benefit': 3224, '361': 3225, 'jim': 3226, 'michel': 3227, '362': 3228, 'moorish': 3229, 'nottingham': 3230, 'outlaw': 3231, '363': 3232, 'wayward': 3233, '364': 3234, 'backpack': 3235, 'slovak': 3236, '365': 3237, '366': 3238, 'mohican': 3239, 'trapper': 3240, '367': 3241, 'dragonbal': 3242, 'goku': 3243, 'piccolo': 3244, 'orb': 3245, 'wielder': 3246, 'unlimit': 3247, '368': 3248, 'amityvil': 3249, '369': 3250, 'pollut': 3251, 'springfield': 3252, 'encas': 3253, 'dome': 3254, 'epa': 3255, 'declar': 3256, '370': 3257, 'cruel': 3258, 'latter': 3259, '371': 3260, 'disgrac': 3261, '372': 3262, 'fiona': 3263, 'welcom': 3264, '373': 3265, 'exhibit': 3266, 'display': 3267, '374': 3268, 'waitress': 3269, 'interven': 3270, '375': 3271, 'complain': 3272, 'often': 3273, 'difficult': 3274, '376': 3275, 'starpilot': 3276, 'trusti': 3277, 'druidia': 3278, '377': 3279, 'highprofil': 3280, 'institut': 3281, '378': 3282, 'harlem': 3283, '379': 3284, 'shag': 3285, 'mojo': 3286, 'shagless': 3287, '380': 3288, 'desperado': 3289, 'gunsling': 3290, 'el': 3291, 'mariachi': 3292, 'bucho': 3293, '381': 3294, 'sweetest': 3295, 'etiquett': 3296, '382': 3297, 'directli': 3298, '383': 3299, 'dystop': 3300, 'submerg': 3301, '384': 3302, 'ipkiss': 3303, 'manic': 3304, '385': 3305, 'charli': 3306, 'voiceid': 3307, 'softwar': 3308, 'appeal': 3309, '386': 3310, '387': 3311, 'restor': 3312, 'reappear': 3313, 'kay': 3314, '388': 3315, 'antz': 3316, 'rather': 3317, 'neurot': 3318, 'ant': 3319, 'totalitarian': 3320, '389': 3321, 'port': 3322, 'rubbl': 3323, '390': 3324, '391': 3325, '392': 3326, 'memoir': 3327, 'nitta': 3328, 'sayuri': 3329, 'transcend': 3330, 'fishingvillag': 3331, 'japan': 3332, '393': 3333, 'immatur': 3334, 'taught': 3335, 'grownup': 3336, '394': 3337, 'korean': 3338, '395': 3339, 'b': 3340, 'ingen': 3341, '396': 3342, 'phase': 3343, 'fought': 3344, 'wive': 3345, 'nervous': 3346, 'anxious': 3347, '397': 3348, 'extradimension': 3349, '398': 3350, 'especi': 3351, '399': 3352, 'tall': 3353, 'prompt': 3354, 'clean': 3355, '400': 3356, 'avert': 3357, 'dull': 3358, '401': 3359, 'skellington': 3360, 'confus': 3361, '402': 3362, 'stargat': 3363, 'interstellar': 3364, 'resembl': 3365, 'egyptian': 3366, 'worship': 3367, 'ra': 3368, '403': 3369, 'joness': 3370, '404': 3371, 'victorianera': 3372, 'clairvoy': 3373, 'ripper': 3374, '405': 3375, 'daredevil': 3376, '406': 3377, 'artifact': 3378, '407': 3379, 'fals': 3380, 'disloyalti': 3381, '408': 3382, 'bluntman': 3383, 'chronic': 3384, 'stoner': 3385, 'bigscreen': 3386, 'wreck': 3387, '409': 3388, 'jfk': 3389, '410': 3390, 'came': 3391, 'buttonedup': 3392, 'strictli': 3393, '411': 3394, 'reject': 3395, 'backwood': 3396, 'firefli': 3397, 'wydel': 3398, '412': 3399, 'ultimatum': 3400, 'leito': 3401, 'sector': 3402, 'drastic': 3403, 'measur': 3404, '413': 3405, 'mummifi': 3406, 'imhotep': 3407, 'ship': 3408, 'campaign': 3409, '414': 3410, 'fiorina': 3411, 'maximum': 3412, 'occur': 3413, 'shortli': 3414, 'unwelcom': 3415, '415': 3416, 'doubtfir': 3417, 'housekeep': 3418, '416': 3419, 'duke': 3420, 'counti': 3421, 'hogg': 3422, 'coltran': 3423, '417': 3424, 'calam': 3425, 'randal': 3426, 'horizon': 3427, 'moobi': 3428, '418': 3429, 'abyss': 3430, 'dive': 3431, 'submarin': 3432, 'aquat': 3433, '419': 3434, 'oldman': 3435, 'curri': 3436, '420': 3437, 'poppin': 3438, 'employ': 3439, '421': 3440, 'controversi': 3441, 'bench': 3442, 'academ': 3443, '422': 3444, 'prank': 3445, '423': 3446, 'cube': 3447, 'wide': 3448, 'vari': 3449, 'involuntarili': 3450, 'endless': 3451, 'maze': 3452, '424': 3453, 'conveni': 3454, 'discuss': 3455, 'hockey': 3456, '425': 3457, 'region': 3458, 'gestapo': 3459, 'headquart': 3460, '426': 3461, 'reaper': 3462, '427': 3463, 'corps': 3464, '428': 3465, 'loon': 3466, 'equal': 3467, '429': 3468, 'myer': 3469, 'haddonfield': 3470, 'illinoi': 3471, '430': 3472, 'beneath': 3473, 'lakesid': 3474, 'vermont': 3475, '431': 3476, 'flown': 3477, 'honolulu': 3478, 'testifi': 3479, '432': 3480, 'gforc': 3481, 'guinea': 3482, '433': 3483, 'policemen': 3484, '434': 3485, 'enough': 3486, '435': 3487, 'avenu': 3488, 'wager': 3489, '436': 3490, 'readi': 3491, 'airplan': 3492, '437': 3493, 'flamboy': 3494, 'austrian': 3495, '438': 3496, 'decidedli': 3497, 'ulterior': 3498, 'isla': 3499, 'sorna': 3500, 'inhabit': 3501, '439': 3502, 'twentysometh': 3503, 'bombard': 3504, '440': 3505, 'neglig': 3506, '441': 3507, 'skeleton': 3508, 'hospic': 3509, 'spooki': 3510, 'orlean': 3511, '442': 3512, 'asid': 3513, 'smuggler': 3514, '443': 3515, 'where': 3516, 'pothead': 3517, '444': 3518, 'hedg': 3519, 'fool': 3520, 'repay': 3521, 'pop': 3522, 'hibernatingand': 3523, '445': 3524, 'handl': 3525, 'unstabl': 3526, 'brood': 3527, '446': 3528, 'thirteenth': 3529, 'birthday': 3530, 'thirtyyearold': 3531, '447': 3532, 'distant': 3533, 'oppress': 3534, '448': 3535, 'jumanji': 3536, 'host': 3537, 'finish': 3538, '449': 3539, 'comet': 3540, '450': 3541, 'pocahonta': 3542, 'algonquin': 3543, 'colonist': 3544, 'seventeenth': 3545, '451': 3546, 'hog': 3547, 'fuego': 3548, '452': 3549, '1951': 3550, '453': 3551, '454': 3552, 'leisur': 3553, 'wors': 3554, '455': 3555, 'song': 3556, 'sing': 3557, 'tap': 3558, '456': 3559, 'chimera': 3560, '457': 3561, 'overs': 3562, 'nyc': 3563, '458': 3564, '459': 3565, 'chauvinist': 3566, 'advertis': 3567, 'acquir': 3568, '460': 3569, 'winter': 3570, 'wartim': 3571, '461': 3572, 'dreamcatch': 3573, 'parasit': 3574, 'outer': 3575, '462': 3576, 'celeb': 3577, '463': 3578, 'concern': 3579, 'mischiev': 3580, '464': 3581, 'congeni': 3582, 'pageant': 3583, '465': 3584, 'q': 3585, 'wont': 3586, '466': 3587, 'gadget': 3588, 'reactiv': 3589, 'oss': 3590, '467': 3591, 'twist': 3592, '468': 3593, 'morgan': 3594, 'reloc': 3595, 'wyom': 3596, '469': 3597, 'contest': 3598, '470': 3599, 'endow': 3600, 'reflex': 3601, 'thin': 3602, 'doggedli': 3603, 'fascin': 3604, '471': 3605, '472': 3606, 'overwork': 3607, 'switch': 3608, '473': 3609, 'freewheel': 3610, '474': 3611, '475': 3612, 'induc': 3613, 'obtain': 3614, 'exclus': 3615, 'coverag': 3616, '476': 3617, 'bouvetøya': 3618, 'archaeologist': 3619, '477': 3620, 'politician': 3621, 'although': 3622, 'eager': 3623, 'cost': 3624, 'elect': 3625, '478': 3626, '479': 3627, 'bloodi': 3628, 'tenth': 3629, 'anniversari': 3630, 'valentin': 3631, 'homecom': 3632, 'flame': 3633, '480': 3634, 'passeng': 3635, 'grief': 3636, 'planecrash': 3637, '481': 3638, 'bound': 3639, 'hookwield': 3640, 'maniac': 3641, 'seasid': 3642, '482': 3643, '483': 3644, 'paycheck': 3645, 'breezi': 3646, 'net': 3647, '484': 3648, 'starski': 3649, 'hutch': 3650, 'gran': 3651, 'torino': 3652, 'snitch': 3653, 'huggi': 3654, '485': 3655, 'genovia': 3656, 'arrang': 3657, 'suitor': 3658, '486': 3659, 'wasteland': 3660, 'gasolinerich': 3661, '487': 3662, 'gorilla': 3663, 'belong': 3664, '488': 3665, 'actiondrama': 3666, 'updat': 3667, 'focus': 3668, 'crockett': 3669, 'tubb': 3670, '489': 3671, 'wouldb': 3672, 'vegetarian': 3673, '490': 3674, '491': 3675, '492': 3676, '493': 3677, 'shot': 3678, 'spoil': 3679, 'risk': 3680, '494': 3681, 'demis': 3682, 'commend': 3683, 'gruesom': 3684, '495': 3685, 'runaway': 3686, 'juri': 3687, 'juror': 3688, 'manufactur': 3689, '496': 3690, '497': 3691, 'aveng': 3692, 'moneyd': 3693, '498': 3694, 'troop': 3695, 'storm': 3696, 'embassi': 3697, '499': 3698, 'vitti': 3699, 'sobol': 3700, '500': 3701, '501': 3702, 'finger': 3703, 'unemploy': 3704, 'rumor': 3705, '502': 3706, 'cybertronian': 3707, 'heroic': 3708, 'autobot': 3709, 'decepticon': 3710, '503': 3711, 'abroad': 3712, 'slovakian': 3713, 'realiti': 3714, '504': 3715, 'beerfest': 3716, 'oktoberfest': 3717, 'competit': 3718, 'describ': 3719, 'beer': 3720, '505': 3721, 'penalti': 3722, 'purchas': 3723, 'desol': 3724, 'corner': 3725, '506': 3726, 'dystopian': 3727, '507': 3728, 'outskirt': 3729, 'whovil': 3730, 'revengeseek': 3731, '508': 3732, 'wicker': 3733, 'neopagan': 3734, '509': 3735, 'rank': 3736, '510': 3737, 'idealist': 3738, '511': 3739, 'sweetnatur': 3740, 'inherit': 3741, 'conglomer': 3742, '512': 3743, 'riker': 3744, 'radioact': 3745, '513': 3746, 'lilo': 3747, 'stitch': 3748, 'parentless': 3749, 'pound': 3750, 'scientif': 3751, 'creator': 3752, '514': 3753, 'despit': 3754, '515': 3755, 'celib': 3756, 'lent': 3757, 'unabl': 3758, 'anyth': 3759, '516': 3760, 'basecamp': 3761, 'pow': 3762, '517': 3763, 'opium': 3764, 'fortress': 3765, 'martialart': 3766, '518': 3767, 'addam': 3768, 'fleec': 3769, '519': 3770, 'faeri': 3771, '520': 3772, 'neardeath': 3773, 'assassinforhir': 3774, '521': 3775, 'snuff': 3776, 'authent': 3777, '522': 3778, 'monican': 3779, 'chairman': 3780, '523': 3781, 'jersey': 3782, 'trucker': 3783, 'cb': 3784, '524': 3785, 'jam': 3786, '525': 3787, 'goldfing': 3788, 'contamin': 3789, 'fort': 3790, '526': 3791, 'smoke': 3792, 'entranc': 3793, 'exam': 3794, '527': 3795, 'mccallist': 3796, '528': 3797, 'flash': 3798, 'mongo': 3799, 'ming': 3800, '529': 3801, 'foil': 3802, '530': 3803, '531': 3804, 'semipro': 3805, 'ownercoachplay': 3806, 'michigan': 3807, '532': 3808, 'ectoplasm': 3809, 'resurg': 3810, 'spectral': 3811, '533': 3812, 'alzheim': 3813, 'trio': 3814, '534': 3815, 'behindthescen': 3816, 'annual': 3817, 'newest': 3818, 'particip': 3819, 'upandcom': 3820, 'maverick': 3821, '535': 3822, 'sassi': 3823, 'sweet': 3824, 'elus': 3825, 'gal': 3826, '536': 3827, 'shoe': 3828, 'straitlac': 3829, 'indiscret': 3830, 'rose': 3831, 'chilli': 3832, 'atmospher': 3833, 'broken': 3834, 'neither': 3835, '537': 3836, 'mulder': 3837, 'sculli': 3838, 'duti': 3839, 'pertain': 3840, '538': 3841, 'cadet': 3842, 'geeki': 3843, 'sexi': 3844, 'rapidli': 3845, 'sinc': 3846, 'meteor': 3847, '539': 3848, 'answer': 3849, '540': 3850, 'dupre': 3851, 'houseguest': 3852, '541': 3853, 'planner': 3854, 'fior': 3855, 'francisco': 3856, 'supplier': 3857, 'glamor': 3858, '542': 3859, 'mcphee': 3860, 'gover': 3861, 'rein': 3862, 'neerdowel': 3863, '543': 3864, 'thir13en': 3865, 'kritico': 3866, '544': 3867, 'cradl': 3868, 'pandora': 3869, '545': 3870, 'gothika': 3871, 'depress': 3872, 'asylum': 3873, '546': 3874, 'cann': 3875, 'bicycl': 3876, '547': 3877, 'affluent': 3878, 'blunder': 3879, '548': 3880, 'embezzl': 3881, 'bate': 3882, 'motel': 3883, '549': 3884, 'braveri': 3885, '550': 3886, 'oneman': 3887, 'trautman': 3888, 'formid': 3889, 'soviet': 3890, 'afghanistan': 3891, '551': 3892, 'reopen': 3893, '552': 3894, 'basebal': 3895, 'leagu': 3896, 'playoff': 3897, '553': 3898, '554': 3899, 'fastlan': 3900, 'minivan': 3901, '555': 3902, 'helper': 3903, '556': 3904, 'guevara': 3905, 'castrol': 3906, 'mobil': 3907, 'toppl': 3908, 'regim': 3909, 'fulgencio': 3910, 'batista': 3911, '557': 3912, 'thirst': 3913, 'kevlar': 3914, '558': 3915, 'goodnight': 3916, 'cain': 3917, '559': 3918, 'hunchback': 3919, 'notr': 3920, 'dame': 3921, 'bellring': 3922, 'assert': 3923, '560': 3924, '561': 3925, 'highfashion': 3926, 'fur': 3927, 'coat': 3928, '562': 3929, 'comedi': 3930, '563': 3931, 'sieg': 3932, 'exnavi': 3933, 'seal': 3934, 'cook': 3935, 'battleship': 3936, '564': 3937, 'insepar': 3938, 'concert': 3939, '565': 3940, 'bye': 3941, 'lenin': 3942, 'fragil': 3943, '566': 3944, 'bedazzl': 3945, 'dweeb': 3946, 'richard': 3947, 'grant': 3948, 'snare': 3949, 'exchang': 3950, '567': 3951, '568': 3952, 'complex': 3953, 'reliabl': 3954, 'tarot': 3955, 'reader': 3956, '569': 3957, 'recoveri': 3958, 'industrialist': 3959, 'monopoli': 3960, 'silicon': 3961, 'valley': 3962, '570': 3963, 'careerend': 3964, 'knee': 3965, 'injuri': 3966, 'align': 3967, 'renown': 3968, 'tout': 3969, 'sportsgambl': 3970, '571': 3971, 'mongolian': 3972, '572': 3973, 'habit': 3974, 'showgirl': 3975, 'cartier': 3976, 'cathol': 3977, 'slate': 3978, 'closur': 3979, '573': 3980, 'mi5': 3981, 'confid': 3982, 'unintellig': 3983, '574': 3984, 'ryden': 3985, 'malbi': 3986, 'hint': 3987, '575': 3988, '576': 3989, 'bowler': 3990, 'prematur': 3991, 'cut': 3992, 'rich': 3993, '577': 3994, 'bro': 3995, 'plumber': 3996, 'dimens': 3997, 'koopa': 3998, '578': 3999, 'yard': 4000, 'quiet': 4001, 'shaken': 4002, 'pal': 4003, 'oz': 4004, 'henstridg': 4005, 'hungarian': 4006, 'peet': 4007, '579': 4008, 'whisk': 4009, '1953': 4010, '580': 4011, 'windtalk': 4012, 'navajo': 4013, 'languag': 4014, 'unbreak': 4015, 'cypher': 4016, '581': 4017, 'vii': 4018, 'advent': 4019, 'exmercenari': 4020, 'brainwash': 4021, 'afflict': 4022, 'geostigma': 4023, '582': 4024, '583': 4025, 'ritualist': 4026, '584': 4027, 'averag': 4028, 'aquarium': 4029, 'cleaner': 4030, 'housesit': 4031, '585': 4032, 'knockaround': 4033, 'midwest': 4034, 'anticip': 4035, '586': 4036, 'omin': 4037, 'sunflow': 4038, 'dakota': 4039, '587': 4040, 'sprinter': 4041, 'disqualifi': 4042, 'dishonor': 4043, 'bobsl': 4044, '588': 4045, 'norbit': 4046, 'mildmann': 4047, '589': 4048, 'hoov': 4049, 'elliot': 4050, 'altar': 4051, 'slight': 4052, 'detour': 4053, 'weeni': 4054, 'pamper': 4055, 'pet': 4056, '590': 4057, 'cri': 4058, 'exspeci': 4059, 'boatman': 4060, '591': 4061, 'diplomat': 4062, '592': 4063, 'moonrak': 4064, 'midair': 4065, 'shuttl': 4066, 'genocid': 4067, '593': 4068, 'warhead': 4069, '594': 4070, 'talent': 4071, 'scout': 4072, '595': 4073, 'indahous': 4074, 'chancellor': 4075, 'pm': 4076, '596': 4077, 'lemur': 4078, 'arduou': 4079, 'meteorit': 4080, 'shower': 4081, '597': 4082, 'unravel': 4083, '598': 4084, 'pinocchio': 4085, 'puppet': 4086, 'cricket': 4087, 'conscienc': 4088, '1940': 4089, '599': 4090, 'shift': 4091, 'rental': 4092, 'stan': 4093, 'bff': 4094, '600': 4095, '601': 4096, 'penchant': 4097, '602': 4098, 'insult': 4099, 'nielsen': 4100, 'award': 4101, '603': 4102, 'fabergé': 4103, 'jewelsmuggl': 4104, 'nato': 4105, '604': 4106, 'torqu': 4107, 'motorbik': 4108, 'fill': 4109, 'meth': 4110, '605': 4111, 'brodi': 4112, '606': 4113, 'pruitt': 4114, '607': 4115, 'shorter': 4116, '608': 4117, 'sure': 4118, 'tycoon': 4119, 'raciallymotiv': 4120, '609': 4121, 'sheepdog': 4122, 'hoggett': 4123, '610': 4124, 'teller': 4125, 'extrasensori': 4126, 'percept': 4127, '611': 4128, '612': 4129, 'grandfath': 4130, '613': 4131, '614': 4132, 'reap': 4133, 'missionari': 4134, 'phenomena': 4135, 'biblic': 4136, '615': 4137, 'lurk': 4138, '616': 4139, '617': 4140, 'dday': 4141, 'scale': 4142, '618': 4143, 'bikini': 4144, 'bottom': 4145, 'neptun': 4146, '619': 4147, '620': 4148, 'smell': 4149, 'fear': 4150, 'exgirlfriend': 4151, 'solar': 4152, '621': 4153, 'hustler': 4154, '622': 4155, 'mindhunt': 4156, 'profil': 4157, '623': 4158, 'forgotten': 4159, '624': 4160, 'breath': 4161, '625': 4162, 'degener': 4163, 'redfield': 4164, 'gviru': 4165, 'whilst': 4166, '626': 4167, 'patrol': 4168, '627': 4169, 'col': 4170, 'guil': 4171, 'cohort': 4172, '628': 4173, 'modern': 4174, 'austen': 4175, 'novel': 4176, 'unmarri': 4177, '629': 4178, 'schmidt': 4179, '630': 4180, 'repeat': 4181, 'winner': 4182, '631': 4183, 'inuit': 4184, 'needlessli': 4185, 'cub': 4186, '632': 4187, 'dumbo': 4188, 'ridicul': 4189, 'enorm': 4190, 'ear': 4191, 'eleph': 4192, 'achiev': 4193, '1941': 4194, '633': 4195, 'okinawa': 4196, '634': 4197, 'favor': 4198, '635': 4199, 'dunde': 4200, 'outback': 4201, 'poacher': 4202, '636': 4203, 'plissken': 4204, 'autonom': 4205, 'undesir': 4206, 'deport': 4207, '637': 4208, 'arc': 4209, 'oppressor': 4210, '638': 4211, '639': 4212, 'bandida': 4213, 'bankrob': 4214, 'combat': 4215, '640': 4216, 'repris': 4217, 'corpul': 4218, '641': 4219, 'knowledg': 4220, 'procedur': 4221, 'polici': 4222, 'confisc': 4223, 'ammunit': 4224, '642': 4225, 'possibl': 4226, '643': 4227, 'tj': 4228, '644': 4229, 'tarnish': 4230, '645': 4231, 'harmless': 4232, 'zealand': 4233, '646': 4234, 'imagin': 4235, 'downspir': 4236, 'solut': 4237, '647': 4238, 'sabotag': 4239, 'current': 4240, '648': 4241, 'thunderdom': 4242, 'australia': 4243, '649': 4244, 'conehead': 4245, 'conic': 4246, 'crania': 4247, '650': 4248, 'tramp': 4249, 'uptown': 4250, 'cocker': 4251, 'spaniel': 4252, 'mutt': 4253, '1955': 4254, '651': 4255, 'reid': 4256, '652': 4257, 'dinner': 4258, '653': 4259, 'larson': 4260, 'moment': 4261, 'photograph': 4262, '654': 4263, '655': 4264, 'haskin': 4265, 'allblack': 4266, 'lineup': 4267, 'ncaa': 4268, '656': 4269, 'scoobydoo': 4270, 'inc': 4271, 'coolsvil': 4272, '657': 4273, 'ocp': 4274, '658': 4275, '659': 4276, 'word': 4277, 'abductor': 4278, 'stress': 4279, 'disord': 4280, '660': 4281, 'arbuckl': 4282, 'buy': 4283, 'jon': 4284, 'canin': 4285, '661': 4286, 'missil': 4287, 'serious': 4288, '662': 4289, 'mouthi': 4290, 'feisti': 4291, 'taxicab': 4292, 'tip': 4293, 'inept': 4294, 'robberi': 4295, 'quartet': 4296, 'brazilian': 4297, '663': 4298, 'femm': 4299, 'straighten': 4300, 'conwoman': 4301, '664': 4302, 'hinton': 4303, 'ryerson': 4304, 'garlin': 4305, 'laid': 4306, 'stayathom': 4307, 'job': 4308, 'daycar': 4309, '665': 4310, 'streak': 4311, '666': 4312, 'hat': 4313, '667': 4314, 'espionag': 4315, 'bliss': 4316, '668': 4317, 'baisemoi': 4318, 'marginalis': 4319, 'norm': 4320, 'complac': 4321, 'cinema': 4322, 'audienc': 4323, '669': 4324, 'taggart': 4325, 'rosewood': 4326, 'bogomil': 4327, 'nearfat': 4328, 'alphabet': 4329, '670': 4330, '671': 4331, 'cellar': 4332, '672': 4333, '673': 4334, 'cube²': 4335, 'hypercub': 4336, 'puzzl': 4337, 'cubeshap': 4338, 'alway': 4339, 'appli': 4340, '674': 4341, 'snap': 4342, 'deathobsess': 4343, 'outcast': 4344, 'neighborhood': 4345, '675': 4346, 'wildernessthem': 4347, 'fan': 4348, 'and': 4349, 'mountain': 4350, 'bigfoot': 4351, '676': 4352, 'deepwood': 4353, 'tracker': 4354, '677': 4355, 'ladder': 4356, 'injur': 4357, 'burn': 4358, 'flashback': 4359, 'conscious': 4360, '678': 4361, 'bulletproof': 4362, 'tibetan': 4363, 'punk': 4364, 'scroll': 4365, '679': 4366, '680': 4367, 'frozen': 4368, 'thaw': 4369, 'spaceship': 4370, '681': 4371, 'trespass': 4372, 'pool': 4373, 'energ': 4374, 'vigor': 4375, '682': 4376, '683': 4377, 'interwoven': 4378, '684': 4379, 'jet': 4380, '685': 4381, 'niagara': 4382, '686': 4383, 'lane': 4384, 'automobil': 4385, 'mutual': 4386, '687': 4387, 'stuck': 4388, 'conjoin': 4389, 'martha': 4390, 'vineyard': 4391, '688': 4392, 'cimarron': 4393, '689': 4394, 'sweden': 4395, 'friendless': 4396, 'sad': 4397, '690': 4398, 'ninja': 4399, '691': 4400, 'dwar': 4401, '692': 4402, '693': 4403, 'nois': 4404, 'speak': 4405, '694': 4406, 'beethoven': 4407, 'slobber': 4408, 'st': 4409, 'dognap': 4410, 'veterinarian': 4411, 'henchmen': 4412, '695': 4413, 'fulli': 4414, 'load': 4415, 'freewheelin': 4416, 'volkswagen': 4417, 'pace': 4418, 'nascar': 4419, '696': 4420, 'familiar': 4421, 'knifewield': 4422, '697': 4423, 'seed': 4424, 'genderconfus': 4425, 'doll': 4426, 'underway': 4427, '698': 4428, 'bratz': 4429, 'split': 4430, 'cliqu': 4431, '699': 4432, 'boyz': 4433, 'retain': 4434, '700': 4435, 'lankest': 4436, 'macneil': 4437, 'rediscoveri': 4438, '701': 4439, '702': 4440, 'gay': 4441, '703': 4442, 'cun': 4443, '704': 4444, 'present': 4445, 'christ': 4446, 'anachronist': 4447, 'manner': 4448, '705': 4449, 'leg': 4450, 'noxiou': 4451, 'monument': 4452, 'proport': 4453, '706': 4454, 'nutti': 4455, 'grossli': 4456, 'overweight': 4457, 'klump': 4458, 'obnoxi': 4459, '707': 4460, 'swimfan': 4461, '708': 4462, 'preposter': 4463, 'crush': 4464, 'fulfil': 4465, 'drag': 4466, 'onto': 4467, '709': 4468, 'soccer': 4469, 'kuno': 4470, 'becker': 4471, 'madrid': 4472, 'loyalti': 4473, 'acquaint': 4474, '710': 4475, 'sneaker': 4476, 'mj': 4477, '711': 4478, 'repres': 4479, 'ban': 4480, '712': 4481, 'ostracis': 4482, 'krees': 4483, 'comrad': 4484, '713': 4485, 'counterfeit': 4486, '714': 4487, 'dolittl': 4488, '715': 4489, 'jingl': 4490, 'turbo': 4491, 'sold': 4492, 'everybodi': 4493, '716': 4494, 'wing': 4495, 'feed': 4496, 'frenzi': 4497, '717': 4498, 'bowfing': 4499, 'basement': 4500, '718': 4501, 'cortez': 4502, 'sibl': 4503, '719': 4504, 'hapless': 4505, 'comatos': 4506, 'gadgetladen': 4507, '720': 4508, 'asterix': 4509, 'obelix': 4510, 'astérix': 4511, 'obélix': 4512, 'numérobi': 4513, 'palac': 4514, '721': 4515, 'scuba': 4516, 'diver': 4517, 'infest': 4518, '722': 4519, 'rodent': 4520, 'link': 4521, 'ratigan': 4522, '723': 4523, 'manhalf': 4524, 'evict': 4525, '724': 4526, 'raven': 4527, 'outpost': 4528, 'regiment': 4529, 'ambush': 4530, '725': 4531, 'animatrix': 4532, '726': 4533, 'woodcock': 4534, 'aback': 4535, 'announc': 4536, '727': 4537, 'japanes': 4538, '728': 4539, 'seabourn': 4540, 'liner': 4541, 'tanker': 4542, '729': 4543, 'batch': 4544, 'theyv': 4545, 'skyscrap': 4546, '730': 4547, 'freddi': 4548, '731': 4549, 'highschool': 4550, 'couldnt': 4551, '732': 4552, 'allamerican': 4553, 'pursuer': 4554, 'slightli': 4555, '733': 4556, 'erupt': 4557, 'seismologist': 4558, '734': 4559, 'screwbal': 4560, '735': 4561, 'portal': 4562, 'langenkamp': 4563, '736': 4564, 'claus': 4565, '737': 4566, 'mediev': 4567, 'sustain': 4568, '738': 4569, 'gump': 4570, 'johnson': 4571, 'waterg': 4572, 'histor': 4573, 'perspect': 4574, 'alabama': 4575, 'iq': 4576, 'sweetheart': 4577, '739': 4578, 'seventeenyearold': 4579, 'luxuri': 4580, 'illfat': 4581, 'rm': 4582, '740': 4583, 'memento': 4584, '741': 4585, 'neonazi': 4586, 'skinhead': 4587, 'path': 4588, '742': 4589, 'shadowi': 4590, 'alia': 4591, '743': 4592, 'goodfella': 4593, 'devito': 4594, 'italianamerican': 4595, '744': 4596, 'afghan': 4597, '745': 4598, 'statu': 4599, 'licenc': 4600, 'banker': 4601, 'poker': 4602, 'montenegro': 4603, '746': 4604, 'awkward': 4605, 'spiderlik': 4606, 'befal': 4607, '747': 4608, 'chest': 4609, 'well': 4610, '748': 4611, '749': 4612, '750': 4613, 'barbossa': 4614, 'swann': 4615, 'sail': 4616, 'map': 4617, 'navig': 4618, 'treacheri': 4619, 'allianc': 4620, '751': 4621, 'armageddon': 4622, 'asteroid': 4623, 'size': 4624, 'less': 4625, 'deepcor': 4626, 'driller': 4627, '752': 4628, 'azkaban': 4629, 'witchcraft': 4630, '753': 4631, 'scof': 4632, 'dumbledor': 4633, 'authoritarian': 4634, 'bureaucrat': 4635, '754': 4636, 'et': 4637, 'courag': 4638, 'friendli': 4639, '755': 4640, 'surpris': 4641, '756': 4642, 'guidanc': 4643, '757': 4644, 'hawk': 4645, 'mogadishu': 4646, 'octob': 4647, 'heavilyarm': 4648, 'somali': 4649, '758': 4650, 'stabl': 4651, 'messiah': 4652, '759': 4653, 'hamunaptra': 4654, 'foreign': 4655, 'legion': 4656, 'reincarn': 4657, '760': 4658, 'quantum': 4659, '761': 4660, '762': 4661, 'biopic': 4662, 'director': 4663, 'hugh': 4664, 'mid': 4665, '763': 4666, '764': 4667, 'passion': 4668, 'crucifixion': 4669, '765': 4670, 'parapsychologist': 4671, 'remov': 4672, 'skeptic': 4673, '766': 4674, 'troublemak': 4675, '767': 4676, 'balian': 4677, 'ibelin': 4678, 'crusad': 4679, '768': 4680, 'explod': 4681, 'mph': 4682, '769': 4683, 'shapeshift': 4684, '770': 4685, 'pineappl': 4686, 'server': 4687, 'marijuana': 4688, 'paper': 4689, '771': 4690, 'demonologist': 4691, 'policewoman': 4692, '772': 4693, 'readili': 4694, 'avail': 4695, '773': 4696, 'deathrow': 4697, 'murderess': 4698, 'sleazi': 4699, '774': 4700, 'voluptu': 4701, 'scar': 4702, 'stuntman': 4703, '775': 4704, 'revolv': 4705, 'subzero': 4706, 'woolli': 4707, 'sabertooth': 4708, 'tiger': 4709, 'sloth': 4710, 'combin': 4711, 'squirrel': 4712, 'scrat': 4713, '776': 4714, 'longer': 4715, 'uncut': 4716, 'rrate': 4717, 'blame': 4718, '777': 4719, 'crimefight': 4720, '778': 4721, 'martyr': 4722, 'torment': 4723, 'deprav': 4724, '779': 4725, 'cobra': 4726, 'compris': 4727, 'pit': 4728, '780': 4729, 'halfhuman': 4730, 'halfmachin': 4731, 'skynet': 4732, 'trust': 4733, '781': 4734, 'turmoil': 4735, 'temptat': 4736, '782': 4737, 'breed': 4738, '783': 4739, 'cavedwel': 4740, 'spelunk': 4741, '784': 4742}\n",
            "[[   0    0    0 ...  565  137 1997]\n",
            " [   0    0    0 ...  912 1999 2000]\n",
            " [   0    0    0 ...  685  137 2003]\n",
            " ...\n",
            " [   0    0    0 ...  754   16 4737]\n",
            " [   0    0    0 ...  159   23 4739]\n",
            " [   0    0    0 ...  181   32 4742]]\n"
          ]
        }
      ]
    },
    {
      "cell_type": "markdown",
      "metadata": {
        "id": "upij_1muSHdI"
      },
      "source": [
        "#Split data into train and test "
      ]
    },
    {
      "cell_type": "code",
      "metadata": {
        "colab": {
          "base_uri": "https://localhost:8080/"
        },
        "id": "lF47IhSSVhyG",
        "outputId": "41c49428-7269-4544-b6b9-2ad44fd7675e"
      },
      "source": [
        "X_train, X_test, y_train, y_test = train_test_split(descr_sequences, short_df['age rate'], test_size=0.1, random_state=42)\n",
        "\n",
        "\n",
        "print(np.array(X_train))"
      ],
      "execution_count": null,
      "outputs": [
        {
          "output_type": "stream",
          "name": "stdout",
          "text": [
            "[[   0    0    0 ...  122   22 3161]\n",
            " [1448  206 1449 ...  129   56  122]\n",
            " [   0    0    0 ... 1360   19 2192]\n",
            " ...\n",
            " [   0    0    0 ...  169   23 2911]\n",
            " [   0    0    0 ...  375   82 3487]\n",
            " [   0    0    0 ...  372   22  164]]\n"
          ]
        }
      ]
    },
    {
      "cell_type": "code",
      "metadata": {
        "colab": {
          "base_uri": "https://localhost:8080/"
        },
        "id": "1hxmfWndU6Uy",
        "outputId": "3a05613b-54dd-4b16-b502-be1188d1d9ba"
      },
      "source": [
        "l = len(X_train[363])\n",
        "print(l)"
      ],
      "execution_count": null,
      "outputs": [
        {
          "output_type": "stream",
          "name": "stdout",
          "text": [
            "30\n"
          ]
        }
      ]
    },
    {
      "cell_type": "markdown",
      "metadata": {
        "id": "NW4MLy6EZ4ob"
      },
      "source": [
        "# Model and Train"
      ]
    },
    {
      "cell_type": "code",
      "metadata": {
        "colab": {
          "base_uri": "https://localhost:8080/"
        },
        "id": "qDUiVsQmZ5r3",
        "outputId": "415c7efa-9dd7-4799-c980-7c27ae3d43ba"
      },
      "source": [
        "model = tf.keras.models.Sequential([\n",
        "  tf.keras.layers.Embedding(input_dim=vocab_size,\n",
        "                           output_dim=embedding_dim,\n",
        "                           input_length=maxlen),\n",
        "  tf.keras.layers.Flatten(),\n",
        "  tf.keras.layers.Dense(2000,activation='relu'),\n",
        "  tf.keras.layers.Dense(500,activation='relu'),\n",
        "  tf.keras.layers.Dense(100,activation='relu'),\n",
        "  tf.keras.layers.Dense(num_categories, activation=tf.nn.sigmoid)\n",
        "])\n",
        "\n",
        "model.compile(optimizer='nadam',\n",
        "              loss='categorical_crossentropy',\n",
        "              metrics=['accuracy'])\n",
        "\n",
        "modelcheckpoint = tf.keras.callbacks.ModelCheckpoint(filepath=output_dir+\n",
        "                                  \"/weights.{epoch:02d}.hdf5\")\n",
        "\n",
        "model.summary()"
      ],
      "execution_count": null,
      "outputs": [
        {
          "output_type": "stream",
          "name": "stdout",
          "text": [
            "Model: \"sequential_12\"\n",
            "_________________________________________________________________\n",
            " Layer (type)                Output Shape              Param #   \n",
            "=================================================================\n",
            " embedding_12 (Embedding)    (None, 30, 64)            303552    \n",
            "                                                                 \n",
            " flatten_12 (Flatten)        (None, 1920)              0         \n",
            "                                                                 \n",
            " dense_48 (Dense)            (None, 2000)              3842000   \n",
            "                                                                 \n",
            " dense_49 (Dense)            (None, 500)               1000500   \n",
            "                                                                 \n",
            " dense_50 (Dense)            (None, 100)               50100     \n",
            "                                                                 \n",
            " dense_51 (Dense)            (None, 1)                 101       \n",
            "                                                                 \n",
            "=================================================================\n",
            "Total params: 5,196,253\n",
            "Trainable params: 5,196,253\n",
            "Non-trainable params: 0\n",
            "_________________________________________________________________\n"
          ]
        }
      ]
    },
    {
      "cell_type": "code",
      "metadata": {
        "colab": {
          "base_uri": "https://localhost:8080/"
        },
        "id": "QuoF-sk5-fVz",
        "outputId": "998c3c25-e9eb-49d0-923f-55cbee49fe46"
      },
      "source": [
        "#embedding level\n",
        "n_dim, n_unique_words, n_dim*n_unique_words"
      ],
      "execution_count": null,
      "outputs": [
        {
          "output_type": "execute_result",
          "data": {
            "text/plain": [
              "(64, 5000, 320000)"
            ]
          },
          "metadata": {},
          "execution_count": 317
        }
      ]
    },
    {
      "cell_type": "code",
      "metadata": {
        "colab": {
          "base_uri": "https://localhost:8080/"
        },
        "id": "i0zQgJdk_GKg",
        "outputId": "db7cd4a4-1954-485d-b126-8acc0d61fa35"
      },
      "source": [
        "#flatten\n",
        "max_decription_length, n_dim, n_dim*max_decription_length"
      ],
      "execution_count": null,
      "outputs": [
        {
          "output_type": "execute_result",
          "data": {
            "text/plain": [
              "(100, 64, 6400)"
            ]
          },
          "metadata": {},
          "execution_count": 318
        }
      ]
    },
    {
      "cell_type": "code",
      "metadata": {
        "colab": {
          "base_uri": "https://localhost:8080/"
        },
        "id": "uvwsE8tX_ipm",
        "outputId": "44b163e4-025e-4b4d-ba37-c263adb32bef"
      },
      "source": [
        "#dense\n",
        "n_dense, n_dim*max_decription_length*n_dense+n_dense #weights + biases"
      ],
      "execution_count": null,
      "outputs": [
        {
          "output_type": "execute_result",
          "data": {
            "text/plain": [
              "(64, 409664)"
            ]
          },
          "metadata": {},
          "execution_count": 319
        }
      ]
    },
    {
      "cell_type": "code",
      "metadata": {
        "colab": {
          "base_uri": "https://localhost:8080/"
        },
        "id": "TQcXvJnR_3mc",
        "outputId": "40eb4590-ea82-4858-ed08-e40aa2373acd"
      },
      "source": [
        "#output\n",
        "n_dense + 1"
      ],
      "execution_count": null,
      "outputs": [
        {
          "output_type": "execute_result",
          "data": {
            "text/plain": [
              "65"
            ]
          },
          "metadata": {},
          "execution_count": 320
        }
      ]
    },
    {
      "cell_type": "markdown",
      "metadata": {
        "id": "h9Qef1oGBp83"
      },
      "source": [
        "#Configure model"
      ]
    },
    {
      "cell_type": "code",
      "metadata": {
        "colab": {
          "base_uri": "https://localhost:8080/"
        },
        "id": "ZamjHmEIBGGN",
        "outputId": "21245abe-c27b-4776-aa85-4095185164ac"
      },
      "source": [
        "model.compile(loss='binary_crossentropy', optimizer='nadam', metrics=['accuracy'])\n",
        "\n",
        "\n",
        "modelcheckpoint = ModelCheckpoint(filepath=output_dir+\n",
        "                                  \"/weights.{epoch:02d}.hdf5\")\n",
        "callbacks=[modelcheckpoint]\n",
        "\n",
        "\n",
        "\n",
        "if not os.path.exists(output_dir):\n",
        "    os.makedirs(output_dir)\n",
        "\n",
        "model.fit(X_train.astype('float32'),\n",
        "          np.array(y_train).astype('float32').reshape((-1,1)), \n",
        "          batch_size=batch_size, epochs=epochs, verbose=1, \n",
        "          validation_data=(X_test.astype('float32'), \n",
        "          np.array(y_test).astype('float32').reshape((-1,1))), callbacks=callbacks)"
      ],
      "execution_count": null,
      "outputs": [
        {
          "output_type": "stream",
          "name": "stdout",
          "text": [
            "Epoch 1/4\n",
            "23/23 [==============================] - 4s 121ms/step - loss: 0.6153 - accuracy: 0.6586 - val_loss: 1.1467 - val_accuracy: 0.5696\n",
            "Epoch 2/4\n",
            "23/23 [==============================] - 3s 110ms/step - loss: 0.2747 - accuracy: 0.8824 - val_loss: 0.8952 - val_accuracy: 0.6456\n",
            "Epoch 3/4\n",
            "23/23 [==============================] - 3s 116ms/step - loss: 0.0141 - accuracy: 0.9986 - val_loss: 0.8837 - val_accuracy: 0.7215\n",
            "Epoch 4/4\n",
            "23/23 [==============================] - 3s 112ms/step - loss: 4.0454e-04 - accuracy: 1.0000 - val_loss: 0.9621 - val_accuracy: 0.7215\n"
          ]
        },
        {
          "output_type": "execute_result",
          "data": {
            "text/plain": [
              "<keras.callbacks.History at 0x7fe905833c10>"
            ]
          },
          "metadata": {},
          "execution_count": 321
        }
      ]
    },
    {
      "cell_type": "code",
      "metadata": {
        "colab": {
          "base_uri": "https://localhost:8080/"
        },
        "id": "BayeNDj8hUmw",
        "outputId": "306cf93c-0a29-4d0b-ebae-2026cb398295"
      },
      "source": [
        "score = model.evaluate(np.array(X_test), np.array(y_test)) \n",
        "\n",
        "print(\"Test Score:\", score[0])\n",
        "print(\"Test Accuracy:\", score[1])"
      ],
      "execution_count": null,
      "outputs": [
        {
          "output_type": "stream",
          "name": "stdout",
          "text": [
            "3/3 [==============================] - 0s 12ms/step - loss: 0.9621 - accuracy: 0.7215\n",
            "Test Score: 0.9621066451072693\n",
            "Test Accuracy: 0.7215189933776855\n"
          ]
        }
      ]
    },
    {
      "cell_type": "markdown",
      "metadata": {
        "id": "Ryi-R8bSdXoo"
      },
      "source": [
        "# Accuracy"
      ]
    },
    {
      "cell_type": "code",
      "metadata": {
        "id": "I-0PqTQqdW6U"
      },
      "source": [
        "model.load_weights(output_dir+\"/weights.02.hdf5\") # NOT zero-indexed"
      ],
      "execution_count": null,
      "outputs": []
    },
    {
      "cell_type": "code",
      "metadata": {
        "id": "O5udOK_h-OzI"
      },
      "source": [
        "y_hat = model.predict(X_test)"
      ],
      "execution_count": null,
      "outputs": []
    },
    {
      "cell_type": "code",
      "metadata": {
        "colab": {
          "base_uri": "https://localhost:8080/"
        },
        "id": "qICDY9fFAGEJ",
        "outputId": "3a5265f6-a1b5-46d2-e76e-5567b92f5d75"
      },
      "source": [
        "len(y_hat)"
      ],
      "execution_count": null,
      "outputs": [
        {
          "output_type": "execute_result",
          "data": {
            "text/plain": [
              "79"
            ]
          },
          "metadata": {},
          "execution_count": 325
        }
      ]
    },
    {
      "cell_type": "code",
      "metadata": {
        "colab": {
          "base_uri": "https://localhost:8080/"
        },
        "id": "tPp9QO34AJjG",
        "outputId": "064328e3-6bd0-4dec-8257-2b8c9abc1b32"
      },
      "source": [
        "y_hat[3]"
      ],
      "execution_count": null,
      "outputs": [
        {
          "output_type": "execute_result",
          "data": {
            "text/plain": [
              "array([0.20320484], dtype=float32)"
            ]
          },
          "metadata": {},
          "execution_count": 326
        }
      ]
    },
    {
      "cell_type": "code",
      "metadata": {
        "id": "bwm0oMhCEHZ2"
      },
      "source": [
        ""
      ],
      "execution_count": null,
      "outputs": []
    },
    {
      "cell_type": "code",
      "metadata": {
        "colab": {
          "base_uri": "https://localhost:8080/"
        },
        "id": "llvc6DVhAOkM",
        "outputId": "90b63833-a73c-45cd-c837-869ae8b760f7"
      },
      "source": [
        "print(np.array(y_test)[3])"
      ],
      "execution_count": null,
      "outputs": [
        {
          "output_type": "stream",
          "name": "stdout",
          "text": [
            "1\n"
          ]
        }
      ]
    },
    {
      "cell_type": "code",
      "metadata": {
        "colab": {
          "base_uri": "https://localhost:8080/"
        },
        "id": "GTt4E9U5Dpmm",
        "outputId": "a70718c6-11ce-495e-8ee6-687473a6f251"
      },
      "source": [
        "print(type(y_hat))"
      ],
      "execution_count": null,
      "outputs": [
        {
          "output_type": "stream",
          "name": "stdout",
          "text": [
            "<class 'numpy.ndarray'>\n"
          ]
        }
      ]
    },
    {
      "cell_type": "code",
      "metadata": {
        "colab": {
          "base_uri": "https://localhost:8080/",
          "height": 37
        },
        "id": "2n-TWsttEKWR",
        "outputId": "6dae0a9b-9d09-4868-e24e-8a82cea91deb"
      },
      "source": [
        "pct_auc = roc_auc_score(y_test, y_hat)*100.0\n",
        "\"{:0.2f}\".format(pct_auc)"
      ],
      "execution_count": null,
      "outputs": [
        {
          "output_type": "execute_result",
          "data": {
            "application/vnd.google.colaboratory.intrinsic+json": {
              "type": "string"
            },
            "text/plain": [
              "'80.68'"
            ]
          },
          "metadata": {},
          "execution_count": 329
        }
      ]
    },
    {
      "cell_type": "code",
      "metadata": {
        "id": "Gxskx2ALEYOb"
      },
      "source": [
        "float_y_hat = []\n",
        "for y in y_hat:\n",
        "    float_y_hat.append(y[0])"
      ],
      "execution_count": null,
      "outputs": []
    },
    {
      "cell_type": "code",
      "metadata": {
        "colab": {
          "base_uri": "https://localhost:8080/"
        },
        "id": "7cbqE3YmX51C",
        "outputId": "a91355e0-3b82-4e7f-8f85-30bce13082a0"
      },
      "source": [
        "ydf = pd.DataFrame(list(zip(float_y_hat, y_test)), columns=['y_hat', 'y'])\n",
        "with pd.option_context('display.max_rows', None, 'display.max_columns', None):\n",
        "  print(ydf)"
      ],
      "execution_count": null,
      "outputs": [
        {
          "output_type": "stream",
          "name": "stdout",
          "text": [
            "       y_hat  y\n",
            "0   0.019127  0\n",
            "1   0.023354  0\n",
            "2   0.361453  1\n",
            "3   0.203205  1\n",
            "4   0.121746  0\n",
            "5   0.158902  0\n",
            "6   0.004337  0\n",
            "7   0.023665  0\n",
            "8   0.064669  1\n",
            "9   0.042781  1\n",
            "10  0.032939  0\n",
            "11  0.836147  1\n",
            "12  0.880292  1\n",
            "13  0.073834  1\n",
            "14  0.144433  0\n",
            "15  0.290089  1\n",
            "16  0.036004  1\n",
            "17  0.041494  0\n",
            "18  0.000937  0\n",
            "19  0.668664  0\n",
            "20  0.001818  0\n",
            "21  0.007369  0\n",
            "22  0.456018  1\n",
            "23  0.841868  1\n",
            "24  0.010937  1\n",
            "25  0.123472  1\n",
            "26  0.001323  0\n",
            "27  0.050195  0\n",
            "28  0.878012  1\n",
            "29  0.708595  1\n",
            "30  0.388455  0\n",
            "31  0.164367  1\n",
            "32  0.003512  0\n",
            "33  0.067712  0\n",
            "34  0.086761  1\n",
            "35  0.231497  1\n",
            "36  0.188417  1\n",
            "37  0.056720  1\n",
            "38  0.010611  0\n",
            "39  0.407197  1\n",
            "40  0.562125  1\n",
            "41  0.635998  1\n",
            "42  0.001369  0\n",
            "43  0.047420  0\n",
            "44  0.002929  0\n",
            "45  0.524171  1\n",
            "46  0.257398  1\n",
            "47  0.397897  1\n",
            "48  0.052154  1\n",
            "49  0.100626  1\n",
            "50  0.042183  0\n",
            "51  0.045051  0\n",
            "52  0.009044  0\n",
            "53  0.023475  0\n",
            "54  0.029721  1\n",
            "55  0.028039  0\n",
            "56  0.022759  0\n",
            "57  0.045913  0\n",
            "58  0.772750  1\n",
            "59  0.048281  1\n",
            "60  0.003382  0\n",
            "61  0.019122  0\n",
            "62  0.535161  0\n",
            "63  0.019415  1\n",
            "64  0.921193  1\n",
            "65  0.492475  0\n",
            "66  0.030977  0\n",
            "67  0.027387  0\n",
            "68  0.028993  0\n",
            "69  0.011271  0\n",
            "70  0.124170  0\n",
            "71  0.001304  1\n",
            "72  0.049522  0\n",
            "73  0.330368  1\n",
            "74  0.027894  0\n",
            "75  0.025847  0\n",
            "76  0.076720  0\n",
            "77  0.243453  0\n",
            "78  0.050536  1\n"
          ]
        }
      ]
    },
    {
      "cell_type": "code",
      "metadata": {
        "colab": {
          "base_uri": "https://localhost:8080/"
        },
        "id": "7JDXmDj1UqKL",
        "outputId": "a1a8b508-549d-44db-a214-3b4f2b43d2c8"
      },
      "source": [
        "print(df.iloc[752])\n",
        "print('Name:', df['Name of movie'][752])\n",
        "print('Prediction:', y_hat[0])\n",
        "print(\"Reality:\", y_test.iloc[0])"
      ],
      "execution_count": null,
      "outputs": [
        {
          "output_type": "stream",
          "name": "stdout",
          "text": [
            "Unnamed: 0                                                     752\n",
            "Name of movie                                           Armageddon\n",
            "Description      After discovering that an asteroid the size of...\n",
            "Age rate                                                     PG-13\n",
            "Year                                                          1998\n",
            "Runtime                                                        151\n",
            "Genre                        Action, Adventure, Sci-Fi            \n",
            "Name: 752, dtype: object\n",
            "Name: Armageddon\n",
            "Prediction: [0.01912674]\n",
            "Reality: 0\n"
          ]
        }
      ]
    },
    {
      "cell_type": "code",
      "metadata": {
        "colab": {
          "base_uri": "https://localhost:8080/",
          "height": 265
        },
        "id": "K0AaMHoTDbq8",
        "outputId": "6775399f-9b41-4f96-cf32-0ef5c6587dc6"
      },
      "source": [
        "plt.hist(y_hat)\n",
        "_ = plt.axvline(x=0.5, color='orange')"
      ],
      "execution_count": null,
      "outputs": [
        {
          "output_type": "display_data",
          "data": {
            "image/png": "[encoded data removed]",
            "text/plain": [
              "<Figure size 432x288 with 1 Axes>"
            ]
          },
          "metadata": {
            "needs_background": "light"
          }
        }
      ]
    },
    {
      "cell_type": "code",
      "metadata": {
        "colab": {
          "base_uri": "https://localhost:8080/"
        },
        "id": "yeuypB5jaQly",
        "outputId": "b82d6f80-0bf4-4ce5-fecd-32f508e93747"
      },
      "source": [
        "print(len(ydf[(ydf.y == 1) & (ydf.y_hat < 0.1)]))\n",
        "print(len(y_test))"
      ],
      "execution_count": null,
      "outputs": [
        {
          "output_type": "stream",
          "name": "stdout",
          "text": [
            "13\n",
            "79\n"
          ]
        }
      ]
    },
    {
      "cell_type": "code",
      "metadata": {
        "colab": {
          "base_uri": "https://localhost:8080/"
        },
        "id": "UDgf_k5OFcKk",
        "outputId": "27ca0943-eedb-4c95-c8f7-041ab0ec4bce"
      },
      "source": [
        "ydf = pd.DataFrame(list(zip(float_y_hat, y_test)), columns=['y_hat', 'y'])\n",
        "with pd.option_context('display.max_rows', None, 'display.max_columns', None):\n",
        "    print(y_test)"
      ],
      "execution_count": null,
      "outputs": [
        {
          "output_type": "stream",
          "name": "stdout",
          "text": [
            "752    0\n",
            "39     0\n",
            "211    1\n",
            "199    1\n",
            "235    0\n",
            "215    0\n",
            "547    0\n",
            "601    0\n",
            "299    1\n",
            "137    1\n",
            "323    0\n",
            "218    1\n",
            "174    1\n",
            "506    1\n",
            "168    0\n",
            "67     1\n",
            "517    1\n",
            "688    0\n",
            "525    0\n",
            "781    0\n",
            "753    0\n",
            "446    0\n",
            "286    1\n",
            "335    1\n",
            "23     1\n",
            "247    1\n",
            "599    0\n",
            "377    0\n",
            "613    1\n",
            "429    1\n",
            "618    0\n",
            "771    1\n",
            "490    0\n",
            "678    0\n",
            "97     1\n",
            "346    1\n",
            "585    1\n",
            "516    1\n",
            "692    0\n",
            "779    1\n",
            "635    1\n",
            "350    1\n",
            "580    0\n",
            "683    0\n",
            "653    0\n",
            "714    1\n",
            "120    1\n",
            "86     1\n",
            "654    1\n",
            "78     1\n",
            "621    0\n",
            "780    0\n",
            "649    0\n",
            "49     0\n",
            "77     1\n",
            "231    0\n",
            "433    0\n",
            "66     0\n",
            "260    1\n",
            "329    1\n",
            "545    0\n",
            "640    0\n",
            "30     0\n",
            "591    1\n",
            "33     1\n",
            "31     0\n",
            "582    0\n",
            "417    0\n",
            "314    0\n",
            "751    0\n",
            "762    0\n",
            "676    1\n",
            "309    0\n",
            "302    1\n",
            "705    0\n",
            "326    0\n",
            "234    0\n",
            "606    0\n",
            "362    1\n",
            "Name: age rate, dtype: int64\n"
          ]
        }
      ]
    },
    {
      "cell_type": "code",
      "metadata": {
        "colab": {
          "base_uri": "https://localhost:8080/"
        },
        "id": "UFFa4UZgbjr4",
        "outputId": "ccab4851-a111-4723-a9d9-f9ac31571cf3"
      },
      "source": [
        "print(ydf[(ydf.y == 1) & (ydf.y_hat < 0.1)])"
      ],
      "execution_count": null,
      "outputs": [
        {
          "output_type": "stream",
          "name": "stdout",
          "text": [
            "       y_hat  y\n",
            "8   0.064669  1\n",
            "9   0.042781  1\n",
            "13  0.073834  1\n",
            "16  0.036004  1\n",
            "24  0.010937  1\n",
            "34  0.086761  1\n",
            "37  0.056720  1\n",
            "48  0.052154  1\n",
            "54  0.029721  1\n",
            "59  0.048281  1\n",
            "63  0.019415  1\n",
            "71  0.001304  1\n",
            "78  0.050536  1\n"
          ]
        }
      ]
    },
    {
      "cell_type": "code",
      "metadata": {
        "colab": {
          "base_uri": "https://localhost:8080/"
        },
        "id": "bvLRRUOQbyhz",
        "outputId": "6a5e49f6-2d3b-4195-f266-3d73e0ec3843"
      },
      "source": [
        "print(df.iloc[517])\n",
        "print('Name:', df['Name of movie'][517])\n",
        "print('Processed name:', data2[517])\n",
        "print('Prediction:', y_hat[16])\n",
        "print(\"Reality:\", y_test.iloc[16])"
      ],
      "execution_count": null,
      "outputs": [
        {
          "output_type": "stream",
          "name": "stdout",
          "text": [
            "Unnamed: 0                                                     517\n",
            "Name of movie                           Rambo: First Blood Part II\n",
            "Description      Rambo returns to the jungles of Vietnam on a m...\n",
            "Age rate                                                         R\n",
            "Year                                                          1985\n",
            "Runtime                                                         96\n",
            "Genre                      Action, Adventure, Thriller            \n",
            "Name: 517, dtype: object\n",
            "Name: Rambo: First Blood Part II\n",
            "Processed name: ['rambo', 'first', 'blood', 'part', 'ii', 'rambo', 'return', 'jungl', 'vietnam', 'mission', 'infiltr', 'enemi', 'basecamp', 'rescu', 'american', 'pow', 'still', 'held', 'captiv', 'action', 'adventure', 'thriller', '96', '1985', '517']\n",
            "Prediction: [0.03600365]\n",
            "Reality: 1\n"
          ]
        }
      ]
    },
    {
      "cell_type": "code",
      "metadata": {
        "colab": {
          "base_uri": "https://localhost:8080/"
        },
        "id": "bsDgOShEbHKW",
        "outputId": "ae286ab0-674e-4521-a944-0cebd8039cbb"
      },
      "source": [
        "print(ydf[(ydf.y == 0) & (ydf.y_hat > 0.9)])\n",
        "print(len(y_test))"
      ],
      "execution_count": null,
      "outputs": [
        {
          "output_type": "stream",
          "name": "stdout",
          "text": [
            "Empty DataFrame\n",
            "Columns: [y_hat, y]\n",
            "Index: []\n",
            "79\n"
          ]
        }
      ]
    },
    {
      "cell_type": "markdown",
      "metadata": {
        "id": "hfGhSKfDdVeg"
      },
      "source": [
        "# Load/Save Model"
      ]
    },
    {
      "cell_type": "code",
      "metadata": {
        "id": "uIl2JVXOdcTm",
        "colab": {
          "base_uri": "https://localhost:8080/"
        },
        "outputId": "52e8706c-51ea-4714-bf90-7508ad44ce79"
      },
      "source": [
        "model.save(output_dir+'/model_v004')"
      ],
      "execution_count": null,
      "outputs": [
        {
          "output_type": "stream",
          "name": "stdout",
          "text": [
            "INFO:tensorflow:Assets written to: model_output/dense/model_v004/assets\n"
          ]
        }
      ]
    }
  ]
}